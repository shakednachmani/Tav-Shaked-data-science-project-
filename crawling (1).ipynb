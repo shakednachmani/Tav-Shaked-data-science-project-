{
 "cells": [
  {
   "cell_type": "markdown",
   "id": "1efbccc5",
   "metadata": {},
   "source": [
    "# crawling n12.co.il\n",
    "\n",
    "we will crawling data from n12.co.il\n",
    "\n",
    "we will using selenium.\n"
   ]
  },
  {
   "cell_type": "code",
   "execution_count": 1,
   "id": "eddd5fe4",
   "metadata": {},
   "outputs": [],
   "source": [
    "# show several prints in one cell. This will allow us to condence every trick in one cell.\n",
    "from IPython.core.interactiveshell import InteractiveShell\n",
    "InteractiveShell.ast_node_interactivity = \"all\""
   ]
  },
  {
   "cell_type": "code",
   "execution_count": 2,
   "id": "db1f7d02",
   "metadata": {},
   "outputs": [],
   "source": [
    "import pandas as pd\n",
    "from bs4 import BeautifulSoup\n",
    "import requests\n",
    "from selenium import webdriver\n",
    "from selenium.webdriver.common.by import By\n",
    "from selenium.webdriver.support.ui import WebDriverWait\n",
    "from selenium.webdriver.support import expected_conditions as EC\n",
    "from selenium.webdriver.common.keys import Keys\n",
    "from selenium.webdriver.common.action_chains import ActionChains\n",
    "import math\n",
    "import time\n",
    "import random\n",
    "import datetime"
   ]
  },
  {
   "cell_type": "code",
   "execution_count": 3,
   "id": "b63ccd0d",
   "metadata": {},
   "outputs": [],
   "source": [
    "driver = webdriver.Chrome()\n",
    "base_url = \"https://www.n12.co.il/\"\n",
    "politics=\"https://www.mako.co.il/news-politics?partner=NewsNavBar\"\n",
    "military=\"https://www.mako.co.il/news-military?partner=NewsNavBar\"\n",
    "law=\"https://www.mako.co.il/news-law?partner=NewsNavBar\"\n",
    "world=\"https://www.mako.co.il/news-world?partner=NewsNavBar\"\n",
    "entertainment=\"https://www.mako.co.il/news-entertainment?partner=NewsNavBar\"\n",
    "driver.get(base_url)"
   ]
  },
  {
   "cell_type": "code",
   "execution_count": 4,
   "id": "127c6c5a",
   "metadata": {},
   "outputs": [],
   "source": [
    "articles_df = pd.DataFrame()\n",
    "articles_urls_df = pd.DataFrame()"
   ]
  },
  {
   "cell_type": "code",
   "execution_count": 5,
   "id": "33c6da6d",
   "metadata": {},
   "outputs": [
    {
     "data": {
      "text/plain": [
       "['https://www.mako.co.il/news-politics?partner=NewsNavBar',\n",
       " 'https://www.mako.co.il/news-military?partner=NewsNavBar',\n",
       " 'https://www.mako.co.il/news-law?partner=NewsNavBar',\n",
       " 'https://www.mako.co.il/news-world?partner=NewsNavBar',\n",
       " 'https://www.mako.co.il/news-entertainment?partner=NewsNavBar']"
      ]
     },
     "execution_count": 5,
     "metadata": {},
     "output_type": "execute_result"
    },
    {
     "data": {
      "text/plain": [
       "<selenium.webdriver.remote.webelement.WebElement (session=\"14cc306dfc6cf8a445f83a6ea888a63f\", element=\"70C5AD68CD5D68E4CF14308F22953D26_element_43\")>"
      ]
     },
     "execution_count": 5,
     "metadata": {},
     "output_type": "execute_result"
    },
    {
     "name": "stdout",
     "output_type": "stream",
     "text": [
      "page  0 size  12\n",
      "url  1\n",
      "url  2\n",
      "url  3\n",
      "url  4\n",
      "url  5\n",
      "url  6\n",
      "url  7\n",
      "url  8\n",
      "url  9\n",
      "url  10\n",
      "url  11\n",
      "url  12\n"
     ]
    },
    {
     "data": {
      "text/plain": [
       "<selenium.webdriver.remote.webelement.WebElement (session=\"14cc306dfc6cf8a445f83a6ea888a63f\", element=\"D3E593D0E2AB38AA862C92028A595A81_element_135\")>"
      ]
     },
     "execution_count": 5,
     "metadata": {},
     "output_type": "execute_result"
    },
    {
     "name": "stdout",
     "output_type": "stream",
     "text": [
      "page  1 size  6\n",
      "url  13\n",
      "url  14\n",
      "url  15\n",
      "url  16\n",
      "url  17\n",
      "url  18\n"
     ]
    },
    {
     "data": {
      "text/plain": [
       "<selenium.webdriver.remote.webelement.WebElement (session=\"14cc306dfc6cf8a445f83a6ea888a63f\", element=\"DE4DD05A53FFBEE463DAC03E8BD4AFAD_element_197\")>"
      ]
     },
     "execution_count": 5,
     "metadata": {},
     "output_type": "execute_result"
    },
    {
     "name": "stdout",
     "output_type": "stream",
     "text": [
      "page  2 size  6\n",
      "url  19\n",
      "url  20\n",
      "url  21\n",
      "url  22\n",
      "url  23\n",
      "url  24\n"
     ]
    },
    {
     "data": {
      "text/plain": [
       "<selenium.webdriver.remote.webelement.WebElement (session=\"14cc306dfc6cf8a445f83a6ea888a63f\", element=\"7CFC0C49A9334437290E019A96CA93DA_element_231\")>"
      ]
     },
     "execution_count": 5,
     "metadata": {},
     "output_type": "execute_result"
    },
    {
     "name": "stdout",
     "output_type": "stream",
     "text": [
      "page  3 size  6\n",
      "url  25\n",
      "url  26\n",
      "url  27\n",
      "url  28\n",
      "url  29\n",
      "url  30\n"
     ]
    },
    {
     "data": {
      "text/plain": [
       "<selenium.webdriver.remote.webelement.WebElement (session=\"14cc306dfc6cf8a445f83a6ea888a63f\", element=\"415CF3B7487576626800C6925D353DDC_element_278\")>"
      ]
     },
     "execution_count": 5,
     "metadata": {},
     "output_type": "execute_result"
    },
    {
     "name": "stdout",
     "output_type": "stream",
     "text": [
      "page  4 size  6\n",
      "url  31\n",
      "url  32\n",
      "url  33\n",
      "url  34\n",
      "url  35\n",
      "url  36\n"
     ]
    },
    {
     "data": {
      "text/plain": [
       "<selenium.webdriver.remote.webelement.WebElement (session=\"14cc306dfc6cf8a445f83a6ea888a63f\", element=\"B058A4CEF44CF524F3B942EF65B34282_element_308\")>"
      ]
     },
     "execution_count": 5,
     "metadata": {},
     "output_type": "execute_result"
    },
    {
     "name": "stdout",
     "output_type": "stream",
     "text": [
      "page  5 size  6\n",
      "url  37\n",
      "url  38\n",
      "url  39\n",
      "url  40\n",
      "url  41\n",
      "url  42\n"
     ]
    },
    {
     "data": {
      "text/plain": [
       "<selenium.webdriver.remote.webelement.WebElement (session=\"14cc306dfc6cf8a445f83a6ea888a63f\", element=\"D5C44543D93F2DA3BE02F3EBFBFCE68A_element_343\")>"
      ]
     },
     "execution_count": 5,
     "metadata": {},
     "output_type": "execute_result"
    },
    {
     "name": "stdout",
     "output_type": "stream",
     "text": [
      "page  6 size  6\n",
      "url  43\n",
      "url  44\n",
      "url  45\n",
      "url  46\n",
      "url  47\n",
      "url  48\n"
     ]
    },
    {
     "data": {
      "text/plain": [
       "<selenium.webdriver.remote.webelement.WebElement (session=\"14cc306dfc6cf8a445f83a6ea888a63f\", element=\"83E26EC45435688E8FEAF133222EA7F3_element_377\")>"
      ]
     },
     "execution_count": 5,
     "metadata": {},
     "output_type": "execute_result"
    },
    {
     "name": "stdout",
     "output_type": "stream",
     "text": [
      "page  7 size  6\n",
      "url  49\n",
      "url  50\n",
      "url  51\n",
      "url  52\n",
      "url  53\n",
      "url  54\n"
     ]
    },
    {
     "data": {
      "text/plain": [
       "<selenium.webdriver.remote.webelement.WebElement (session=\"14cc306dfc6cf8a445f83a6ea888a63f\", element=\"F5236F75E278E9B11D639C1F6838CDAF_element_422\")>"
      ]
     },
     "execution_count": 5,
     "metadata": {},
     "output_type": "execute_result"
    },
    {
     "name": "stdout",
     "output_type": "stream",
     "text": [
      "page  8 size  6\n",
      "url  55\n",
      "url  56\n",
      "url  57\n",
      "url  58\n",
      "url  59\n",
      "url  60\n"
     ]
    },
    {
     "data": {
      "text/plain": [
       "<selenium.webdriver.remote.webelement.WebElement (session=\"14cc306dfc6cf8a445f83a6ea888a63f\", element=\"275E6C969452A38E115EA02DD0D2E125_element_455\")>"
      ]
     },
     "execution_count": 5,
     "metadata": {},
     "output_type": "execute_result"
    },
    {
     "name": "stdout",
     "output_type": "stream",
     "text": [
      "page  9 size  6\n",
      "url  61\n",
      "url  62\n",
      "url  63\n",
      "url  64\n",
      "url  65\n",
      "url  66\n"
     ]
    },
    {
     "data": {
      "text/plain": [
       "<selenium.webdriver.remote.webelement.WebElement (session=\"14cc306dfc6cf8a445f83a6ea888a63f\", element=\"A81A2FCDF9263BA93008788221B873F1_element_484\")>"
      ]
     },
     "execution_count": 5,
     "metadata": {},
     "output_type": "execute_result"
    },
    {
     "name": "stdout",
     "output_type": "stream",
     "text": [
      "page  10 size  6\n",
      "url  67\n",
      "url  68\n",
      "url  69\n",
      "url  70\n",
      "url  71\n",
      "url  72\n"
     ]
    },
    {
     "data": {
      "text/plain": [
       "<selenium.webdriver.remote.webelement.WebElement (session=\"14cc306dfc6cf8a445f83a6ea888a63f\", element=\"F597C693EFE2B963AA1E1A15864E6FE8_element_517\")>"
      ]
     },
     "execution_count": 5,
     "metadata": {},
     "output_type": "execute_result"
    },
    {
     "name": "stdout",
     "output_type": "stream",
     "text": [
      "page  11 size  6\n",
      "url  73\n",
      "url  74\n",
      "url  75\n",
      "url  76\n",
      "url  77\n",
      "url  78\n"
     ]
    },
    {
     "data": {
      "text/plain": [
       "<selenium.webdriver.remote.webelement.WebElement (session=\"14cc306dfc6cf8a445f83a6ea888a63f\", element=\"1C027AD0BEAD94CD9278E8F28AC18B47_element_551\")>"
      ]
     },
     "execution_count": 5,
     "metadata": {},
     "output_type": "execute_result"
    },
    {
     "name": "stdout",
     "output_type": "stream",
     "text": [
      "page  12 size  6\n",
      "url  79\n",
      "url  80\n",
      "url  81\n",
      "url  82\n",
      "url  83\n",
      "url  84\n"
     ]
    },
    {
     "data": {
      "text/plain": [
       "<selenium.webdriver.remote.webelement.WebElement (session=\"14cc306dfc6cf8a445f83a6ea888a63f\", element=\"0EDB3506E7488D916558F3D53C6E911B_element_590\")>"
      ]
     },
     "execution_count": 5,
     "metadata": {},
     "output_type": "execute_result"
    },
    {
     "name": "stdout",
     "output_type": "stream",
     "text": [
      "page  13 size  6\n",
      "url  85\n",
      "url  86\n",
      "url  87\n",
      "url  88\n",
      "url  89\n",
      "url  90\n"
     ]
    },
    {
     "data": {
      "text/plain": [
       "<selenium.webdriver.remote.webelement.WebElement (session=\"14cc306dfc6cf8a445f83a6ea888a63f\", element=\"E15D41B2BB8ED455DF6F083D9087D7BA_element_629\")>"
      ]
     },
     "execution_count": 5,
     "metadata": {},
     "output_type": "execute_result"
    },
    {
     "name": "stdout",
     "output_type": "stream",
     "text": [
      "page  14 size  6\n",
      "url  91\n",
      "url  92\n",
      "url  93\n",
      "url  94\n",
      "url  95\n",
      "url  96\n"
     ]
    },
    {
     "data": {
      "text/plain": [
       "<selenium.webdriver.remote.webelement.WebElement (session=\"14cc306dfc6cf8a445f83a6ea888a63f\", element=\"BF7AA2BCFD5B56BB9F203697F7F127CD_element_662\")>"
      ]
     },
     "execution_count": 5,
     "metadata": {},
     "output_type": "execute_result"
    },
    {
     "name": "stdout",
     "output_type": "stream",
     "text": [
      "page  15 size  6\n",
      "url  97\n",
      "url  98\n",
      "url  99\n",
      "url  100\n",
      "url  101\n",
      "url  102\n"
     ]
    },
    {
     "data": {
      "text/plain": [
       "<selenium.webdriver.remote.webelement.WebElement (session=\"14cc306dfc6cf8a445f83a6ea888a63f\", element=\"0B31BA709DF9987AD501B529A2CA2C8E_element_697\")>"
      ]
     },
     "execution_count": 5,
     "metadata": {},
     "output_type": "execute_result"
    },
    {
     "name": "stdout",
     "output_type": "stream",
     "text": [
      "page  16 size  6\n",
      "url  103\n",
      "url  104\n",
      "url  105\n",
      "url  106\n",
      "url  107\n",
      "url  108\n"
     ]
    },
    {
     "data": {
      "text/plain": [
       "<selenium.webdriver.remote.webelement.WebElement (session=\"14cc306dfc6cf8a445f83a6ea888a63f\", element=\"405158BA2F3290D69165FA48DB0BFB3F_element_743\")>"
      ]
     },
     "execution_count": 5,
     "metadata": {},
     "output_type": "execute_result"
    },
    {
     "name": "stdout",
     "output_type": "stream",
     "text": [
      "page  17 size  6\n",
      "url  109\n",
      "url  110\n",
      "url  111\n",
      "url  112\n",
      "url  113\n",
      "url  114\n"
     ]
    },
    {
     "data": {
      "text/plain": [
       "<selenium.webdriver.remote.webelement.WebElement (session=\"14cc306dfc6cf8a445f83a6ea888a63f\", element=\"C88DF6305A93659A419BC23B0D28865D_element_783\")>"
      ]
     },
     "execution_count": 5,
     "metadata": {},
     "output_type": "execute_result"
    },
    {
     "name": "stdout",
     "output_type": "stream",
     "text": [
      "page  18 size  6\n",
      "url  115\n",
      "url  116\n",
      "url  117\n",
      "url  118\n",
      "url  119\n",
      "url  120\n"
     ]
    },
    {
     "data": {
      "text/plain": [
       "<selenium.webdriver.remote.webelement.WebElement (session=\"14cc306dfc6cf8a445f83a6ea888a63f\", element=\"47AC15628CB02B3A359C5D59FC670634_element_831\")>"
      ]
     },
     "execution_count": 5,
     "metadata": {},
     "output_type": "execute_result"
    },
    {
     "name": "stdout",
     "output_type": "stream",
     "text": [
      "page  19 size  6\n",
      "url  121\n",
      "url  122\n",
      "url  123\n",
      "url  124\n",
      "url  125\n",
      "url  126\n"
     ]
    },
    {
     "data": {
      "text/plain": [
       "<selenium.webdriver.remote.webelement.WebElement (session=\"14cc306dfc6cf8a445f83a6ea888a63f\", element=\"1074C9780EE9795BA841EF1E71FC5D74_element_878\")>"
      ]
     },
     "execution_count": 5,
     "metadata": {},
     "output_type": "execute_result"
    },
    {
     "name": "stdout",
     "output_type": "stream",
     "text": [
      "page  20 size  6\n",
      "url  127\n",
      "url  128\n",
      "url  129\n",
      "url  130\n",
      "url  131\n",
      "url  132\n"
     ]
    },
    {
     "data": {
      "text/plain": [
       "<selenium.webdriver.remote.webelement.WebElement (session=\"14cc306dfc6cf8a445f83a6ea888a63f\", element=\"9489E6374C3B80F4D29B9A466C4B7856_element_912\")>"
      ]
     },
     "execution_count": 5,
     "metadata": {},
     "output_type": "execute_result"
    },
    {
     "name": "stdout",
     "output_type": "stream",
     "text": [
      "page  21 size  6\n",
      "url  133\n",
      "url  134\n",
      "url  135\n",
      "url  136\n",
      "url  137\n",
      "url  138\n"
     ]
    },
    {
     "data": {
      "text/plain": [
       "<selenium.webdriver.remote.webelement.WebElement (session=\"14cc306dfc6cf8a445f83a6ea888a63f\", element=\"41BDA430BC246EAAB46A7C8062203685_element_949\")>"
      ]
     },
     "execution_count": 5,
     "metadata": {},
     "output_type": "execute_result"
    },
    {
     "name": "stdout",
     "output_type": "stream",
     "text": [
      "page  22 size  6\n",
      "url  139\n",
      "url  140\n",
      "url  141\n",
      "url  142\n",
      "url  143\n",
      "url  144\n"
     ]
    },
    {
     "data": {
      "text/plain": [
       "<selenium.webdriver.remote.webelement.WebElement (session=\"14cc306dfc6cf8a445f83a6ea888a63f\", element=\"B7BA3C9CDFCE180BABBC865B12454F10_element_983\")>"
      ]
     },
     "execution_count": 5,
     "metadata": {},
     "output_type": "execute_result"
    },
    {
     "name": "stdout",
     "output_type": "stream",
     "text": [
      "page  23 size  6\n",
      "url  145\n",
      "url  146\n",
      "url  147\n",
      "url  148\n",
      "url  149\n",
      "url  150\n"
     ]
    },
    {
     "data": {
      "text/plain": [
       "<selenium.webdriver.remote.webelement.WebElement (session=\"14cc306dfc6cf8a445f83a6ea888a63f\", element=\"128D3E6332C629B78E1223067EACC268_element_1023\")>"
      ]
     },
     "execution_count": 5,
     "metadata": {},
     "output_type": "execute_result"
    },
    {
     "name": "stdout",
     "output_type": "stream",
     "text": [
      "page  24 size  6\n",
      "url  151\n",
      "url  152\n",
      "url  153\n",
      "url  154\n",
      "url  155\n",
      "url  156\n"
     ]
    },
    {
     "data": {
      "text/plain": [
       "<selenium.webdriver.remote.webelement.WebElement (session=\"14cc306dfc6cf8a445f83a6ea888a63f\", element=\"1E6C5E5BFA98B7BB181015F0868A8198_element_1049\")>"
      ]
     },
     "execution_count": 5,
     "metadata": {},
     "output_type": "execute_result"
    },
    {
     "name": "stdout",
     "output_type": "stream",
     "text": [
      "page  25 size  6\n",
      "url  157\n",
      "url  158\n",
      "url  159\n",
      "url  160\n",
      "url  161\n",
      "url  162\n"
     ]
    },
    {
     "data": {
      "text/plain": [
       "<selenium.webdriver.remote.webelement.WebElement (session=\"14cc306dfc6cf8a445f83a6ea888a63f\", element=\"0EE595F872CD3A27A1E02620F3DFEF6C_element_1085\")>"
      ]
     },
     "execution_count": 5,
     "metadata": {},
     "output_type": "execute_result"
    },
    {
     "name": "stdout",
     "output_type": "stream",
     "text": [
      "page  26 size  6\n",
      "url  163\n",
      "url  164\n",
      "url  165\n",
      "url  166\n",
      "url  167\n",
      "url  168\n"
     ]
    },
    {
     "data": {
      "text/plain": [
       "<selenium.webdriver.remote.webelement.WebElement (session=\"14cc306dfc6cf8a445f83a6ea888a63f\", element=\"8AD08806D6E477FEF8CECDA95D2FF981_element_1124\")>"
      ]
     },
     "execution_count": 5,
     "metadata": {},
     "output_type": "execute_result"
    },
    {
     "name": "stdout",
     "output_type": "stream",
     "text": [
      "page  27 size  6\n",
      "url  169\n",
      "url  170\n",
      "url  171\n",
      "url  172\n",
      "url  173\n",
      "url  174\n"
     ]
    },
    {
     "data": {
      "text/plain": [
       "<selenium.webdriver.remote.webelement.WebElement (session=\"14cc306dfc6cf8a445f83a6ea888a63f\", element=\"DEFCFAFBE198B5FD0C20F78E56FA8D01_element_1169\")>"
      ]
     },
     "execution_count": 5,
     "metadata": {},
     "output_type": "execute_result"
    },
    {
     "name": "stdout",
     "output_type": "stream",
     "text": [
      "page  28 size  6\n",
      "url  175\n",
      "url  176\n",
      "url  177\n",
      "url  178\n",
      "url  179\n",
      "url  180\n"
     ]
    },
    {
     "data": {
      "text/plain": [
       "<selenium.webdriver.remote.webelement.WebElement (session=\"14cc306dfc6cf8a445f83a6ea888a63f\", element=\"CE7698BAF5A153B15A06561E1C88FC07_element_1219\")>"
      ]
     },
     "execution_count": 5,
     "metadata": {},
     "output_type": "execute_result"
    },
    {
     "name": "stdout",
     "output_type": "stream",
     "text": [
      "page  29 size  6\n",
      "url  181\n",
      "url  182\n",
      "url  183\n",
      "url  184\n",
      "url  185\n",
      "url  186\n"
     ]
    },
    {
     "data": {
      "text/plain": [
       "<selenium.webdriver.remote.webelement.WebElement (session=\"14cc306dfc6cf8a445f83a6ea888a63f\", element=\"D8440E1E5AAB70023150A2D51DD28C07_element_1254\")>"
      ]
     },
     "execution_count": 5,
     "metadata": {},
     "output_type": "execute_result"
    },
    {
     "name": "stdout",
     "output_type": "stream",
     "text": [
      "page  30 size  6\n",
      "url  187\n",
      "url  188\n",
      "url  189\n",
      "url  190\n",
      "url  191\n",
      "url  192\n"
     ]
    },
    {
     "data": {
      "text/plain": [
       "<selenium.webdriver.remote.webelement.WebElement (session=\"14cc306dfc6cf8a445f83a6ea888a63f\", element=\"CB241499B1ACCF2E1E096B856601CD09_element_1293\")>"
      ]
     },
     "execution_count": 5,
     "metadata": {},
     "output_type": "execute_result"
    },
    {
     "name": "stdout",
     "output_type": "stream",
     "text": [
      "page  31 size  6\n",
      "url  193\n",
      "url  194\n",
      "url  195\n",
      "url  196\n",
      "url  197\n",
      "url  198\n"
     ]
    },
    {
     "data": {
      "text/plain": [
       "<selenium.webdriver.remote.webelement.WebElement (session=\"14cc306dfc6cf8a445f83a6ea888a63f\", element=\"7D23EE6E4F44550DFB22C070C9CD50BD_element_1332\")>"
      ]
     },
     "execution_count": 5,
     "metadata": {},
     "output_type": "execute_result"
    },
    {
     "name": "stdout",
     "output_type": "stream",
     "text": [
      "page  32 size  6\n",
      "url  199\n",
      "url  200\n",
      "url  201\n",
      "url  202\n",
      "url  203\n",
      "url  204\n"
     ]
    },
    {
     "data": {
      "text/plain": [
       "<selenium.webdriver.remote.webelement.WebElement (session=\"14cc306dfc6cf8a445f83a6ea888a63f\", element=\"2C989F465A609E49B7FA88FCBCA82AB7_element_1365\")>"
      ]
     },
     "execution_count": 5,
     "metadata": {},
     "output_type": "execute_result"
    },
    {
     "name": "stdout",
     "output_type": "stream",
     "text": [
      "page  33 size  6\n",
      "url  205\n",
      "url  206\n",
      "url  207\n",
      "url  208\n",
      "url  209\n",
      "url  210\n"
     ]
    },
    {
     "data": {
      "text/plain": [
       "<selenium.webdriver.remote.webelement.WebElement (session=\"14cc306dfc6cf8a445f83a6ea888a63f\", element=\"AF71478AAF73BF17AE497CF73AD65F6E_element_1397\")>"
      ]
     },
     "execution_count": 5,
     "metadata": {},
     "output_type": "execute_result"
    },
    {
     "name": "stdout",
     "output_type": "stream",
     "text": [
      "page  34 size  6\n",
      "url  211\n",
      "url  212\n",
      "url  213\n",
      "url  214\n",
      "url  215\n",
      "url  216\n"
     ]
    },
    {
     "data": {
      "text/plain": [
       "<selenium.webdriver.remote.webelement.WebElement (session=\"14cc306dfc6cf8a445f83a6ea888a63f\", element=\"1DACDAB9DEE01536FFCC14C17AC4E8FB_element_1448\")>"
      ]
     },
     "execution_count": 5,
     "metadata": {},
     "output_type": "execute_result"
    },
    {
     "name": "stdout",
     "output_type": "stream",
     "text": [
      "page  35 size  6\n",
      "url  217\n",
      "url  218\n",
      "url  219\n",
      "url  220\n",
      "url  221\n",
      "url  222\n"
     ]
    },
    {
     "data": {
      "text/plain": [
       "<selenium.webdriver.remote.webelement.WebElement (session=\"14cc306dfc6cf8a445f83a6ea888a63f\", element=\"3312657D440C94A450D98EC8141FD9D3_element_1485\")>"
      ]
     },
     "execution_count": 5,
     "metadata": {},
     "output_type": "execute_result"
    },
    {
     "name": "stdout",
     "output_type": "stream",
     "text": [
      "page  36 size  6\n",
      "url  223\n",
      "url  224\n",
      "url  225\n",
      "url  226\n",
      "url  227\n",
      "url  228\n"
     ]
    },
    {
     "data": {
      "text/plain": [
       "<selenium.webdriver.remote.webelement.WebElement (session=\"14cc306dfc6cf8a445f83a6ea888a63f\", element=\"235C46AC305736D718E6A62FA295A8A1_element_1521\")>"
      ]
     },
     "execution_count": 5,
     "metadata": {},
     "output_type": "execute_result"
    },
    {
     "name": "stdout",
     "output_type": "stream",
     "text": [
      "page  37 size  6\n",
      "url  229\n",
      "url  230\n",
      "url  231\n",
      "url  232\n",
      "url  233\n",
      "url  234\n"
     ]
    },
    {
     "data": {
      "text/plain": [
       "<selenium.webdriver.remote.webelement.WebElement (session=\"14cc306dfc6cf8a445f83a6ea888a63f\", element=\"52556A3D94DDEC7A4AC57839517F5ECA_element_1553\")>"
      ]
     },
     "execution_count": 5,
     "metadata": {},
     "output_type": "execute_result"
    },
    {
     "name": "stdout",
     "output_type": "stream",
     "text": [
      "page  38 size  6\n",
      "url  235\n",
      "url  236\n",
      "url  237\n",
      "url  238\n",
      "url  239\n",
      "url  240\n"
     ]
    },
    {
     "data": {
      "text/plain": [
       "<selenium.webdriver.remote.webelement.WebElement (session=\"14cc306dfc6cf8a445f83a6ea888a63f\", element=\"75CEF7977CB59BB8F2E4A2D6E9DA6AF5_element_1591\")>"
      ]
     },
     "execution_count": 5,
     "metadata": {},
     "output_type": "execute_result"
    },
    {
     "name": "stdout",
     "output_type": "stream",
     "text": [
      "page  39 size  6\n",
      "url  241\n",
      "url  242\n",
      "url  243\n",
      "url  244\n",
      "url  245\n",
      "url  246\n"
     ]
    },
    {
     "data": {
      "text/plain": [
       "<selenium.webdriver.remote.webelement.WebElement (session=\"14cc306dfc6cf8a445f83a6ea888a63f\", element=\"E82E5D69F44A4679C9011D61EA48613A_element_1630\")>"
      ]
     },
     "execution_count": 5,
     "metadata": {},
     "output_type": "execute_result"
    },
    {
     "name": "stdout",
     "output_type": "stream",
     "text": [
      "page  40 size  6\n",
      "url  247\n",
      "url  248\n",
      "url  249\n",
      "url  250\n",
      "url  251\n",
      "url  252\n"
     ]
    },
    {
     "data": {
      "text/plain": [
       "<selenium.webdriver.remote.webelement.WebElement (session=\"14cc306dfc6cf8a445f83a6ea888a63f\", element=\"87F89BB997891016C3CB1DAB533C3BEF_element_1680\")>"
      ]
     },
     "execution_count": 5,
     "metadata": {},
     "output_type": "execute_result"
    },
    {
     "name": "stdout",
     "output_type": "stream",
     "text": [
      "page  41 size  6\n",
      "url  253\n",
      "url  254\n",
      "url  255\n",
      "url  256\n",
      "url  257\n",
      "url  258\n"
     ]
    },
    {
     "data": {
      "text/plain": [
       "<selenium.webdriver.remote.webelement.WebElement (session=\"14cc306dfc6cf8a445f83a6ea888a63f\", element=\"97DDDCAF3CE93E2E6BACFEB198AB099D_element_1714\")>"
      ]
     },
     "execution_count": 5,
     "metadata": {},
     "output_type": "execute_result"
    },
    {
     "name": "stdout",
     "output_type": "stream",
     "text": [
      "page  42 size  6\n",
      "url  259\n",
      "url  260\n",
      "url  261\n",
      "url  262\n",
      "url  263\n",
      "url  264\n"
     ]
    },
    {
     "data": {
      "text/plain": [
       "<selenium.webdriver.remote.webelement.WebElement (session=\"14cc306dfc6cf8a445f83a6ea888a63f\", element=\"E2D7B6E2A821F573D0B881207297AC63_element_1748\")>"
      ]
     },
     "execution_count": 5,
     "metadata": {},
     "output_type": "execute_result"
    },
    {
     "name": "stdout",
     "output_type": "stream",
     "text": [
      "page  43 size  6\n",
      "url  265\n",
      "url  266\n",
      "url  267\n",
      "url  268\n",
      "url  269\n",
      "url  270\n"
     ]
    },
    {
     "data": {
      "text/plain": [
       "<selenium.webdriver.remote.webelement.WebElement (session=\"14cc306dfc6cf8a445f83a6ea888a63f\", element=\"45A2C04DF095AAF6D2C13963F6F7F37F_element_1790\")>"
      ]
     },
     "execution_count": 5,
     "metadata": {},
     "output_type": "execute_result"
    },
    {
     "name": "stdout",
     "output_type": "stream",
     "text": [
      "page  44 size  6\n",
      "url  271\n",
      "url  272\n",
      "url  273\n",
      "url  274\n",
      "url  275\n",
      "url  276\n"
     ]
    },
    {
     "data": {
      "text/plain": [
       "<selenium.webdriver.remote.webelement.WebElement (session=\"14cc306dfc6cf8a445f83a6ea888a63f\", element=\"BBD7A548973770EAE2AFC2CE7E786965_element_1825\")>"
      ]
     },
     "execution_count": 5,
     "metadata": {},
     "output_type": "execute_result"
    },
    {
     "name": "stdout",
     "output_type": "stream",
     "text": [
      "page  45 size  6\n",
      "url  277\n",
      "url  278\n",
      "url  279\n",
      "url  280\n",
      "url  281\n",
      "url  282\n"
     ]
    },
    {
     "data": {
      "text/plain": [
       "<selenium.webdriver.remote.webelement.WebElement (session=\"14cc306dfc6cf8a445f83a6ea888a63f\", element=\"DD60387CCF574BDC2106E087BADD3AB9_element_1859\")>"
      ]
     },
     "execution_count": 5,
     "metadata": {},
     "output_type": "execute_result"
    },
    {
     "name": "stdout",
     "output_type": "stream",
     "text": [
      "page  46 size  6\n",
      "url  283\n",
      "url  284\n",
      "url  285\n",
      "url  286\n",
      "url  287\n",
      "url  288\n"
     ]
    },
    {
     "data": {
      "text/plain": [
       "<selenium.webdriver.remote.webelement.WebElement (session=\"14cc306dfc6cf8a445f83a6ea888a63f\", element=\"360A7A0209697074F1586391A24AE649_element_1893\")>"
      ]
     },
     "execution_count": 5,
     "metadata": {},
     "output_type": "execute_result"
    },
    {
     "name": "stdout",
     "output_type": "stream",
     "text": [
      "page  47 size  6\n",
      "url  289\n",
      "url  290\n",
      "url  291\n",
      "url  292\n",
      "url  293\n",
      "url  294\n"
     ]
    },
    {
     "data": {
      "text/plain": [
       "<selenium.webdriver.remote.webelement.WebElement (session=\"14cc306dfc6cf8a445f83a6ea888a63f\", element=\"639B72ECACF8CEE74948E18ABB63C5D4_element_1933\")>"
      ]
     },
     "execution_count": 5,
     "metadata": {},
     "output_type": "execute_result"
    },
    {
     "name": "stdout",
     "output_type": "stream",
     "text": [
      "page  48 size  6\n",
      "url  295\n",
      "url  296\n",
      "url  297\n",
      "url  298\n",
      "url  299\n",
      "url  300\n"
     ]
    },
    {
     "data": {
      "text/plain": [
       "<selenium.webdriver.remote.webelement.WebElement (session=\"14cc306dfc6cf8a445f83a6ea888a63f\", element=\"6D90C1F926067D13F3564B3563D286EA_element_1969\")>"
      ]
     },
     "execution_count": 5,
     "metadata": {},
     "output_type": "execute_result"
    },
    {
     "name": "stdout",
     "output_type": "stream",
     "text": [
      "page  49 size  6\n",
      "url  301\n",
      "url  302\n",
      "url  303\n",
      "url  304\n",
      "url  305\n",
      "url  306\n"
     ]
    },
    {
     "data": {
      "text/plain": [
       "<selenium.webdriver.remote.webelement.WebElement (session=\"14cc306dfc6cf8a445f83a6ea888a63f\", element=\"6E9E908C23EB884530F6433A0169ED9D_element_2023\")>"
      ]
     },
     "execution_count": 5,
     "metadata": {},
     "output_type": "execute_result"
    },
    {
     "name": "stdout",
     "output_type": "stream",
     "text": [
      "page  50 size  6\n",
      "url  307\n",
      "url  308\n",
      "url  309\n",
      "url  310\n",
      "url  311\n",
      "url  312\n"
     ]
    },
    {
     "data": {
      "text/plain": [
       "<selenium.webdriver.remote.webelement.WebElement (session=\"14cc306dfc6cf8a445f83a6ea888a63f\", element=\"2D55C20892D797009F61EF8B991D7969_element_2074\")>"
      ]
     },
     "execution_count": 5,
     "metadata": {},
     "output_type": "execute_result"
    },
    {
     "name": "stdout",
     "output_type": "stream",
     "text": [
      "page  51 size  6\n",
      "url  313\n",
      "url  314\n",
      "url  315\n",
      "url  316\n",
      "url  317\n",
      "url  318\n"
     ]
    },
    {
     "data": {
      "text/plain": [
       "<selenium.webdriver.remote.webelement.WebElement (session=\"14cc306dfc6cf8a445f83a6ea888a63f\", element=\"60FCC61999D969B694DF28FDEEB32D7B_element_2111\")>"
      ]
     },
     "execution_count": 5,
     "metadata": {},
     "output_type": "execute_result"
    },
    {
     "name": "stdout",
     "output_type": "stream",
     "text": [
      "page  52 size  6\n",
      "url  319\n",
      "url  320\n",
      "url  321\n",
      "url  322\n",
      "url  323\n",
      "url  324\n"
     ]
    },
    {
     "data": {
      "text/plain": [
       "<selenium.webdriver.remote.webelement.WebElement (session=\"14cc306dfc6cf8a445f83a6ea888a63f\", element=\"618FD321656CC1F5AC18026EBF468A51_element_2147\")>"
      ]
     },
     "execution_count": 5,
     "metadata": {},
     "output_type": "execute_result"
    },
    {
     "name": "stdout",
     "output_type": "stream",
     "text": [
      "page  53 size  6\n",
      "url  325\n",
      "url  326\n",
      "url  327\n",
      "url  328\n",
      "url  329\n",
      "url  330\n"
     ]
    },
    {
     "data": {
      "text/plain": [
       "<selenium.webdriver.remote.webelement.WebElement (session=\"14cc306dfc6cf8a445f83a6ea888a63f\", element=\"E2EBF4CFDB10CC42832FD927E5E34D04_element_2185\")>"
      ]
     },
     "execution_count": 5,
     "metadata": {},
     "output_type": "execute_result"
    },
    {
     "name": "stdout",
     "output_type": "stream",
     "text": [
      "page  54 size  6\n",
      "url  331\n",
      "url  332\n",
      "url  333\n",
      "url  334\n",
      "url  335\n",
      "url  336\n"
     ]
    },
    {
     "data": {
      "text/plain": [
       "<selenium.webdriver.remote.webelement.WebElement (session=\"14cc306dfc6cf8a445f83a6ea888a63f\", element=\"DBF3CA206FE9674C4D75447249572C90_element_2236\")>"
      ]
     },
     "execution_count": 5,
     "metadata": {},
     "output_type": "execute_result"
    },
    {
     "name": "stdout",
     "output_type": "stream",
     "text": [
      "page  55 size  6\n",
      "url  337\n",
      "url  338\n",
      "url  339\n",
      "url  340\n",
      "url  341\n",
      "url  342\n"
     ]
    },
    {
     "data": {
      "text/plain": [
       "<selenium.webdriver.remote.webelement.WebElement (session=\"14cc306dfc6cf8a445f83a6ea888a63f\", element=\"C8E869A71EE591163EBCF799FB0C6E54_element_2270\")>"
      ]
     },
     "execution_count": 5,
     "metadata": {},
     "output_type": "execute_result"
    },
    {
     "name": "stdout",
     "output_type": "stream",
     "text": [
      "page  56 size  6\n",
      "url  343\n",
      "url  344\n",
      "url  345\n",
      "url  346\n",
      "url  347\n",
      "url  348\n"
     ]
    },
    {
     "data": {
      "text/plain": [
       "<selenium.webdriver.remote.webelement.WebElement (session=\"14cc306dfc6cf8a445f83a6ea888a63f\", element=\"FA73542B866643E52CBDB8F8C9699E9D_element_2310\")>"
      ]
     },
     "execution_count": 5,
     "metadata": {},
     "output_type": "execute_result"
    },
    {
     "name": "stdout",
     "output_type": "stream",
     "text": [
      "page  57 size  6\n",
      "url  349\n",
      "url  350\n",
      "url  351\n",
      "url  352\n",
      "url  353\n",
      "url  354\n"
     ]
    },
    {
     "data": {
      "text/plain": [
       "<selenium.webdriver.remote.webelement.WebElement (session=\"14cc306dfc6cf8a445f83a6ea888a63f\", element=\"9B8CCB10CDFC682EA8D84C190F0BE9F7_element_2340\")>"
      ]
     },
     "execution_count": 5,
     "metadata": {},
     "output_type": "execute_result"
    },
    {
     "name": "stdout",
     "output_type": "stream",
     "text": [
      "page  58 size  6\n",
      "url  355\n",
      "url  356\n",
      "url  357\n",
      "url  358\n",
      "url  359\n",
      "url  360\n"
     ]
    },
    {
     "data": {
      "text/plain": [
       "<selenium.webdriver.remote.webelement.WebElement (session=\"14cc306dfc6cf8a445f83a6ea888a63f\", element=\"9B72160FDA89D9B93525704381EBA70A_element_2377\")>"
      ]
     },
     "execution_count": 5,
     "metadata": {},
     "output_type": "execute_result"
    },
    {
     "name": "stdout",
     "output_type": "stream",
     "text": [
      "page  59 size  6\n",
      "url  361\n",
      "url  362\n",
      "url  363\n",
      "url  364\n",
      "url  365\n",
      "url  366\n"
     ]
    },
    {
     "data": {
      "text/plain": [
       "<selenium.webdriver.remote.webelement.WebElement (session=\"14cc306dfc6cf8a445f83a6ea888a63f\", element=\"1D2000955B136B2206015BC30CFD1918_element_2428\")>"
      ]
     },
     "execution_count": 5,
     "metadata": {},
     "output_type": "execute_result"
    },
    {
     "name": "stdout",
     "output_type": "stream",
     "text": [
      "page  60 size  6\n",
      "url  367\n",
      "url  368\n",
      "url  369\n",
      "url  370\n",
      "url  371\n",
      "url  372\n"
     ]
    },
    {
     "data": {
      "text/plain": [
       "<selenium.webdriver.remote.webelement.WebElement (session=\"14cc306dfc6cf8a445f83a6ea888a63f\", element=\"9984CEFEBA9FFA639236AF2690C8FF78_element_2463\")>"
      ]
     },
     "execution_count": 5,
     "metadata": {},
     "output_type": "execute_result"
    },
    {
     "name": "stdout",
     "output_type": "stream",
     "text": [
      "page  61 size  6\n",
      "url  373\n",
      "url  374\n",
      "url  375\n",
      "url  376\n",
      "url  377\n",
      "url  378\n"
     ]
    },
    {
     "data": {
      "text/plain": [
       "<selenium.webdriver.remote.webelement.WebElement (session=\"14cc306dfc6cf8a445f83a6ea888a63f\", element=\"B6017CCB64A9A2F725E980F4C4A54A83_element_2506\")>"
      ]
     },
     "execution_count": 5,
     "metadata": {},
     "output_type": "execute_result"
    },
    {
     "name": "stdout",
     "output_type": "stream",
     "text": [
      "page  62 size  6\n",
      "url  379\n",
      "url  380\n",
      "url  381\n",
      "url  382\n",
      "url  383\n",
      "url  384\n"
     ]
    },
    {
     "data": {
      "text/plain": [
       "<selenium.webdriver.remote.webelement.WebElement (session=\"14cc306dfc6cf8a445f83a6ea888a63f\", element=\"D15777F55AD800C32FEA4D36968BF12A_element_2540\")>"
      ]
     },
     "execution_count": 5,
     "metadata": {},
     "output_type": "execute_result"
    },
    {
     "name": "stdout",
     "output_type": "stream",
     "text": [
      "page  63 size  6\n",
      "url  385\n",
      "url  386\n",
      "url  387\n",
      "url  388\n",
      "url  389\n",
      "url  390\n"
     ]
    },
    {
     "data": {
      "text/plain": [
       "<selenium.webdriver.remote.webelement.WebElement (session=\"14cc306dfc6cf8a445f83a6ea888a63f\", element=\"74D58E5776F97E5974F83EFBE6895410_element_2576\")>"
      ]
     },
     "execution_count": 5,
     "metadata": {},
     "output_type": "execute_result"
    },
    {
     "name": "stdout",
     "output_type": "stream",
     "text": [
      "page  64 size  6\n",
      "url  391\n",
      "url  392\n",
      "url  393\n",
      "url  394\n",
      "url  395\n",
      "url  396\n"
     ]
    },
    {
     "data": {
      "text/plain": [
       "<selenium.webdriver.remote.webelement.WebElement (session=\"14cc306dfc6cf8a445f83a6ea888a63f\", element=\"AE1E15CBC80FB3398F17D9AF183733DF_element_2613\")>"
      ]
     },
     "execution_count": 5,
     "metadata": {},
     "output_type": "execute_result"
    },
    {
     "name": "stdout",
     "output_type": "stream",
     "text": [
      "page  65 size  6\n",
      "url  397\n",
      "url  398\n",
      "url  399\n",
      "url  400\n",
      "url  401\n",
      "url  402\n"
     ]
    },
    {
     "data": {
      "text/plain": [
       "<selenium.webdriver.remote.webelement.WebElement (session=\"14cc306dfc6cf8a445f83a6ea888a63f\", element=\"C47F4D19DD65D24E10DFF6D7762AC19E_element_2660\")>"
      ]
     },
     "execution_count": 5,
     "metadata": {},
     "output_type": "execute_result"
    },
    {
     "name": "stdout",
     "output_type": "stream",
     "text": [
      "page  66 size  6\n",
      "url  403\n",
      "url  404\n",
      "url  405\n",
      "url  406\n",
      "url  407\n",
      "url  408\n"
     ]
    },
    {
     "data": {
      "text/plain": [
       "<selenium.webdriver.remote.webelement.WebElement (session=\"14cc306dfc6cf8a445f83a6ea888a63f\", element=\"D2AE322BC87F52B0A8547EE7CC2BA993_element_2696\")>"
      ]
     },
     "execution_count": 5,
     "metadata": {},
     "output_type": "execute_result"
    },
    {
     "name": "stdout",
     "output_type": "stream",
     "text": [
      "page  67 size  6\n",
      "url  409\n",
      "url  410\n",
      "url  411\n",
      "url  412\n",
      "url  413\n",
      "url  414\n"
     ]
    },
    {
     "data": {
      "text/plain": [
       "<selenium.webdriver.remote.webelement.WebElement (session=\"14cc306dfc6cf8a445f83a6ea888a63f\", element=\"FE4CE05918810CE9BBD33946F3E444D1_element_2737\")>"
      ]
     },
     "execution_count": 5,
     "metadata": {},
     "output_type": "execute_result"
    },
    {
     "name": "stdout",
     "output_type": "stream",
     "text": [
      "page  68 size  6\n",
      "url  415\n",
      "url  416\n",
      "url  417\n",
      "url  418\n",
      "url  419\n",
      "url  420\n"
     ]
    },
    {
     "data": {
      "text/plain": [
       "<selenium.webdriver.remote.webelement.WebElement (session=\"14cc306dfc6cf8a445f83a6ea888a63f\", element=\"2E50FA8EE62DCADCFD8A92A3A31A7607_element_2787\")>"
      ]
     },
     "execution_count": 5,
     "metadata": {},
     "output_type": "execute_result"
    },
    {
     "name": "stdout",
     "output_type": "stream",
     "text": [
      "page  69 size  6\n",
      "url  421\n",
      "url  422\n",
      "url  423\n",
      "url  424\n",
      "url  425\n",
      "url  426\n"
     ]
    },
    {
     "data": {
      "text/plain": [
       "<selenium.webdriver.remote.webelement.WebElement (session=\"14cc306dfc6cf8a445f83a6ea888a63f\", element=\"B03CBEB0030FA1F064C2DE488C40A138_element_2824\")>"
      ]
     },
     "execution_count": 5,
     "metadata": {},
     "output_type": "execute_result"
    },
    {
     "name": "stdout",
     "output_type": "stream",
     "text": [
      "page  70 size  6\n",
      "url  427\n",
      "url  428\n",
      "url  429\n",
      "url  430\n",
      "url  431\n",
      "url  432\n"
     ]
    },
    {
     "data": {
      "text/plain": [
       "<selenium.webdriver.remote.webelement.WebElement (session=\"14cc306dfc6cf8a445f83a6ea888a63f\", element=\"7A8538290BB808E87E333A04802F4628_element_2861\")>"
      ]
     },
     "execution_count": 5,
     "metadata": {},
     "output_type": "execute_result"
    },
    {
     "name": "stdout",
     "output_type": "stream",
     "text": [
      "page  71 size  6\n",
      "url  433\n",
      "url  434\n",
      "url  435\n",
      "url  436\n",
      "url  437\n",
      "url  438\n"
     ]
    },
    {
     "data": {
      "text/plain": [
       "<selenium.webdriver.remote.webelement.WebElement (session=\"14cc306dfc6cf8a445f83a6ea888a63f\", element=\"E8BD76A2053AB1839D29E58D32A4B469_element_2890\")>"
      ]
     },
     "execution_count": 5,
     "metadata": {},
     "output_type": "execute_result"
    },
    {
     "name": "stdout",
     "output_type": "stream",
     "text": [
      "page  72 size  6\n",
      "url  439\n",
      "url  440\n",
      "url  441\n",
      "url  442\n",
      "url  443\n",
      "url  444\n"
     ]
    },
    {
     "data": {
      "text/plain": [
       "<selenium.webdriver.remote.webelement.WebElement (session=\"14cc306dfc6cf8a445f83a6ea888a63f\", element=\"92A1BA96DD7895973CF8F076A20D5649_element_2930\")>"
      ]
     },
     "execution_count": 5,
     "metadata": {},
     "output_type": "execute_result"
    },
    {
     "name": "stdout",
     "output_type": "stream",
     "text": [
      "page  73 size  6\n",
      "url  445\n",
      "url  446\n",
      "url  447\n",
      "url  448\n",
      "url  449\n",
      "url  450\n"
     ]
    },
    {
     "data": {
      "text/plain": [
       "<selenium.webdriver.remote.webelement.WebElement (session=\"14cc306dfc6cf8a445f83a6ea888a63f\", element=\"009156517B48E112F595655055960627_element_2964\")>"
      ]
     },
     "execution_count": 5,
     "metadata": {},
     "output_type": "execute_result"
    },
    {
     "name": "stdout",
     "output_type": "stream",
     "text": [
      "page  74 size  6\n",
      "url  451\n",
      "url  452\n",
      "url  453\n",
      "url  454\n",
      "url  455\n",
      "url  456\n"
     ]
    },
    {
     "data": {
      "text/plain": [
       "<selenium.webdriver.remote.webelement.WebElement (session=\"14cc306dfc6cf8a445f83a6ea888a63f\", element=\"025CFE5D54A71D4489A36D61C5E66CE8_element_3018\")>"
      ]
     },
     "execution_count": 5,
     "metadata": {},
     "output_type": "execute_result"
    },
    {
     "name": "stdout",
     "output_type": "stream",
     "text": [
      "page  75 size  6\n",
      "url  457\n",
      "url  458\n",
      "url  459\n",
      "url  460\n",
      "url  461\n",
      "url  462\n"
     ]
    },
    {
     "data": {
      "text/plain": [
       "<selenium.webdriver.remote.webelement.WebElement (session=\"14cc306dfc6cf8a445f83a6ea888a63f\", element=\"1DAC68AD343F2E27AE07EE3E59C64F6B_element_3054\")>"
      ]
     },
     "execution_count": 5,
     "metadata": {},
     "output_type": "execute_result"
    },
    {
     "name": "stdout",
     "output_type": "stream",
     "text": [
      "page  76 size  6\n",
      "url  463\n",
      "url  464\n",
      "url  465\n",
      "url  466\n",
      "url  467\n",
      "url  468\n"
     ]
    },
    {
     "data": {
      "text/plain": [
       "<selenium.webdriver.remote.webelement.WebElement (session=\"14cc306dfc6cf8a445f83a6ea888a63f\", element=\"0AED9823E63C90A49B2C896F7F2EB2AF_element_3087\")>"
      ]
     },
     "execution_count": 5,
     "metadata": {},
     "output_type": "execute_result"
    },
    {
     "name": "stdout",
     "output_type": "stream",
     "text": [
      "page  77 size  6\n",
      "url  469\n",
      "url  470\n",
      "url  471\n",
      "url  472\n",
      "url  473\n",
      "url  474\n"
     ]
    },
    {
     "data": {
      "text/plain": [
       "<selenium.webdriver.remote.webelement.WebElement (session=\"14cc306dfc6cf8a445f83a6ea888a63f\", element=\"CD2AA75B20307767A87D808EE0AEB0FE_element_3134\")>"
      ]
     },
     "execution_count": 5,
     "metadata": {},
     "output_type": "execute_result"
    },
    {
     "name": "stdout",
     "output_type": "stream",
     "text": [
      "page  78 size  6\n",
      "url  475\n",
      "url  476\n",
      "url  477\n",
      "url  478\n",
      "url  479\n",
      "url  480\n"
     ]
    },
    {
     "data": {
      "text/plain": [
       "<selenium.webdriver.remote.webelement.WebElement (session=\"14cc306dfc6cf8a445f83a6ea888a63f\", element=\"91A75097C2579BFAEA49BE4525AF8CD1_element_3171\")>"
      ]
     },
     "execution_count": 5,
     "metadata": {},
     "output_type": "execute_result"
    },
    {
     "name": "stdout",
     "output_type": "stream",
     "text": [
      "page  79 size  6\n",
      "url  481\n",
      "url  482\n",
      "url  483\n",
      "url  484\n",
      "url  485\n",
      "url  486\n"
     ]
    },
    {
     "data": {
      "text/plain": [
       "<selenium.webdriver.remote.webelement.WebElement (session=\"14cc306dfc6cf8a445f83a6ea888a63f\", element=\"F3893FCB44025160AD20BED349938A84_element_3203\")>"
      ]
     },
     "execution_count": 5,
     "metadata": {},
     "output_type": "execute_result"
    },
    {
     "name": "stdout",
     "output_type": "stream",
     "text": [
      "page  80 size  6\n",
      "url  487\n",
      "url  488\n",
      "url  489\n",
      "url  490\n",
      "url  491\n",
      "url  492\n"
     ]
    },
    {
     "data": {
      "text/plain": [
       "<selenium.webdriver.remote.webelement.WebElement (session=\"14cc306dfc6cf8a445f83a6ea888a63f\", element=\"0AABD6B25811231E09F6456B80BADAE0_element_3238\")>"
      ]
     },
     "execution_count": 5,
     "metadata": {},
     "output_type": "execute_result"
    },
    {
     "name": "stdout",
     "output_type": "stream",
     "text": [
      "page  81 size  6\n",
      "url  493\n",
      "url  494\n",
      "url  495\n",
      "url  496\n",
      "url  497\n",
      "url  498\n"
     ]
    },
    {
     "data": {
      "text/plain": [
       "<selenium.webdriver.remote.webelement.WebElement (session=\"14cc306dfc6cf8a445f83a6ea888a63f\", element=\"894830927276B433EEC418109E3816E7_element_3279\")>"
      ]
     },
     "execution_count": 5,
     "metadata": {},
     "output_type": "execute_result"
    },
    {
     "name": "stdout",
     "output_type": "stream",
     "text": [
      "page  82 size  6\n",
      "url  499\n",
      "url  500\n",
      "url  501\n",
      "url  502\n",
      "url  503\n",
      "url  504\n"
     ]
    },
    {
     "data": {
      "text/plain": [
       "<selenium.webdriver.remote.webelement.WebElement (session=\"14cc306dfc6cf8a445f83a6ea888a63f\", element=\"846CC390B06FA3F600166103EEBA899D_element_3326\")>"
      ]
     },
     "execution_count": 5,
     "metadata": {},
     "output_type": "execute_result"
    },
    {
     "name": "stdout",
     "output_type": "stream",
     "text": [
      "page  83 size  6\n",
      "url  505\n",
      "url  506\n",
      "url  507\n",
      "url  508\n",
      "url  509\n",
      "url  510\n"
     ]
    },
    {
     "data": {
      "text/plain": [
       "<selenium.webdriver.remote.webelement.WebElement (session=\"14cc306dfc6cf8a445f83a6ea888a63f\", element=\"1EBE3521567B272A6BC7D8439C82F47A_element_3363\")>"
      ]
     },
     "execution_count": 5,
     "metadata": {},
     "output_type": "execute_result"
    },
    {
     "name": "stdout",
     "output_type": "stream",
     "text": [
      "page  84 size  6\n",
      "url  511\n",
      "url  512\n",
      "url  513\n",
      "url  514\n",
      "url  515\n",
      "url  516\n"
     ]
    },
    {
     "data": {
      "text/plain": [
       "<selenium.webdriver.remote.webelement.WebElement (session=\"14cc306dfc6cf8a445f83a6ea888a63f\", element=\"302A924EA877342639EDD25F52BD7A70_element_3400\")>"
      ]
     },
     "execution_count": 5,
     "metadata": {},
     "output_type": "execute_result"
    },
    {
     "name": "stdout",
     "output_type": "stream",
     "text": [
      "page  85 size  6\n",
      "url  517\n",
      "url  518\n",
      "url  519\n",
      "url  520\n",
      "url  521\n",
      "url  522\n"
     ]
    },
    {
     "data": {
      "text/plain": [
       "<selenium.webdriver.remote.webelement.WebElement (session=\"14cc306dfc6cf8a445f83a6ea888a63f\", element=\"A6493743372AE9B9C41339A3782E37CE_element_3438\")>"
      ]
     },
     "execution_count": 5,
     "metadata": {},
     "output_type": "execute_result"
    },
    {
     "name": "stdout",
     "output_type": "stream",
     "text": [
      "page  86 size  6\n",
      "url  523\n",
      "url  524\n",
      "url  525\n",
      "url  526\n",
      "url  527\n",
      "url  528\n"
     ]
    },
    {
     "data": {
      "text/plain": [
       "<selenium.webdriver.remote.webelement.WebElement (session=\"14cc306dfc6cf8a445f83a6ea888a63f\", element=\"9E77B46C068FD6E1ACDCF633EACEBC22_element_3477\")>"
      ]
     },
     "execution_count": 5,
     "metadata": {},
     "output_type": "execute_result"
    },
    {
     "name": "stdout",
     "output_type": "stream",
     "text": [
      "page  87 size  6\n",
      "url  529\n",
      "url  530\n",
      "url  531\n",
      "url  532\n",
      "url  533\n",
      "url  534\n"
     ]
    },
    {
     "data": {
      "text/plain": [
       "<selenium.webdriver.remote.webelement.WebElement (session=\"14cc306dfc6cf8a445f83a6ea888a63f\", element=\"ABFD90D32B5A5E4C924540665754E1B2_element_3517\")>"
      ]
     },
     "execution_count": 5,
     "metadata": {},
     "output_type": "execute_result"
    },
    {
     "name": "stdout",
     "output_type": "stream",
     "text": [
      "page  88 size  6\n",
      "url  535\n",
      "url  536\n",
      "url  537\n",
      "url  538\n",
      "url  539\n",
      "url  540\n"
     ]
    },
    {
     "data": {
      "text/plain": [
       "<selenium.webdriver.remote.webelement.WebElement (session=\"14cc306dfc6cf8a445f83a6ea888a63f\", element=\"9C81973E0DBCDA8332F4FA72EBAB330A_element_3556\")>"
      ]
     },
     "execution_count": 5,
     "metadata": {},
     "output_type": "execute_result"
    },
    {
     "name": "stdout",
     "output_type": "stream",
     "text": [
      "page  89 size  6\n",
      "url  541\n",
      "url  542\n",
      "url  543\n",
      "url  544\n",
      "url  545\n",
      "url  546\n"
     ]
    },
    {
     "data": {
      "text/plain": [
       "<selenium.webdriver.remote.webelement.WebElement (session=\"14cc306dfc6cf8a445f83a6ea888a63f\", element=\"12C5575BC265F3BD8B8F9BA9C71CD23C_element_3592\")>"
      ]
     },
     "execution_count": 5,
     "metadata": {},
     "output_type": "execute_result"
    },
    {
     "name": "stdout",
     "output_type": "stream",
     "text": [
      "page  90 size  6\n",
      "url  547\n",
      "url  548\n",
      "url  549\n",
      "url  550\n",
      "url  551\n",
      "url  552\n"
     ]
    },
    {
     "data": {
      "text/plain": [
       "<selenium.webdriver.remote.webelement.WebElement (session=\"14cc306dfc6cf8a445f83a6ea888a63f\", element=\"D69839AED174393B74F341160E4A334E_element_3636\")>"
      ]
     },
     "execution_count": 5,
     "metadata": {},
     "output_type": "execute_result"
    },
    {
     "name": "stdout",
     "output_type": "stream",
     "text": [
      "page  91 size  6\n",
      "url  553\n",
      "url  554\n",
      "url  555\n",
      "url  556\n",
      "url  557\n",
      "url  558\n"
     ]
    },
    {
     "data": {
      "text/plain": [
       "<selenium.webdriver.remote.webelement.WebElement (session=\"14cc306dfc6cf8a445f83a6ea888a63f\", element=\"1E44F109B6AAE9E299AA9EDCE19BE871_element_3673\")>"
      ]
     },
     "execution_count": 5,
     "metadata": {},
     "output_type": "execute_result"
    },
    {
     "name": "stdout",
     "output_type": "stream",
     "text": [
      "page  92 size  6\n",
      "url  559\n",
      "url  560\n",
      "url  561\n",
      "url  562\n",
      "url  563\n",
      "url  564\n"
     ]
    },
    {
     "data": {
      "text/plain": [
       "<selenium.webdriver.remote.webelement.WebElement (session=\"14cc306dfc6cf8a445f83a6ea888a63f\", element=\"FBE325F633B040CB81862729CC718D4B_element_3706\")>"
      ]
     },
     "execution_count": 5,
     "metadata": {},
     "output_type": "execute_result"
    },
    {
     "name": "stdout",
     "output_type": "stream",
     "text": [
      "page  93 size  6\n",
      "url  565\n",
      "url  566\n",
      "url  567\n",
      "url  568\n",
      "url  569\n",
      "url  570\n"
     ]
    },
    {
     "data": {
      "text/plain": [
       "<selenium.webdriver.remote.webelement.WebElement (session=\"14cc306dfc6cf8a445f83a6ea888a63f\", element=\"438B62F81893206152F8F5849FA423E7_element_3742\")>"
      ]
     },
     "execution_count": 5,
     "metadata": {},
     "output_type": "execute_result"
    },
    {
     "name": "stdout",
     "output_type": "stream",
     "text": [
      "page  94 size  6\n",
      "url  571\n",
      "url  572\n",
      "url  573\n",
      "url  574\n",
      "url  575\n",
      "url  576\n"
     ]
    },
    {
     "data": {
      "text/plain": [
       "<selenium.webdriver.remote.webelement.WebElement (session=\"14cc306dfc6cf8a445f83a6ea888a63f\", element=\"1EEA300FD2E3ED8B874869F273A58A4D_element_3771\")>"
      ]
     },
     "execution_count": 5,
     "metadata": {},
     "output_type": "execute_result"
    },
    {
     "name": "stdout",
     "output_type": "stream",
     "text": [
      "page  95 size  6\n",
      "url  577\n",
      "url  578\n",
      "url  579\n",
      "url  580\n",
      "url  581\n",
      "url  582\n"
     ]
    },
    {
     "data": {
      "text/plain": [
       "<selenium.webdriver.remote.webelement.WebElement (session=\"14cc306dfc6cf8a445f83a6ea888a63f\", element=\"17549988FDF63CDC8E8F4FDAF2E847A0_element_3831\")>"
      ]
     },
     "execution_count": 5,
     "metadata": {},
     "output_type": "execute_result"
    },
    {
     "name": "stdout",
     "output_type": "stream",
     "text": [
      "page  96 size  6\n",
      "url  583\n",
      "url  584\n",
      "url  585\n",
      "url  586\n",
      "url  587\n",
      "url  588\n"
     ]
    },
    {
     "data": {
      "text/plain": [
       "<selenium.webdriver.remote.webelement.WebElement (session=\"14cc306dfc6cf8a445f83a6ea888a63f\", element=\"49DD2BF8F2B3899549A25DE278DD336E_element_3869\")>"
      ]
     },
     "execution_count": 5,
     "metadata": {},
     "output_type": "execute_result"
    },
    {
     "name": "stdout",
     "output_type": "stream",
     "text": [
      "page  97 size  6\n",
      "url  589\n",
      "url  590\n",
      "url  591\n",
      "url  592\n",
      "url  593\n",
      "url  594\n"
     ]
    },
    {
     "data": {
      "text/plain": [
       "<selenium.webdriver.remote.webelement.WebElement (session=\"14cc306dfc6cf8a445f83a6ea888a63f\", element=\"FB5607563E907FE235E52771E043F40F_element_3903\")>"
      ]
     },
     "execution_count": 5,
     "metadata": {},
     "output_type": "execute_result"
    },
    {
     "name": "stdout",
     "output_type": "stream",
     "text": [
      "page  98 size  6\n",
      "url  595\n",
      "url  596\n",
      "url  597\n",
      "url  598\n",
      "url  599\n",
      "url  600\n"
     ]
    },
    {
     "data": {
      "text/plain": [
       "<selenium.webdriver.remote.webelement.WebElement (session=\"14cc306dfc6cf8a445f83a6ea888a63f\", element=\"D5C29EBE823FC2B8139009D4D66F1277_element_3938\")>"
      ]
     },
     "execution_count": 5,
     "metadata": {},
     "output_type": "execute_result"
    },
    {
     "name": "stdout",
     "output_type": "stream",
     "text": [
      "page  99 size  6\n",
      "url  601\n",
      "url  602\n",
      "url  603\n",
      "url  604\n",
      "url  605\n",
      "url  606\n"
     ]
    },
    {
     "data": {
      "text/plain": [
       "<selenium.webdriver.remote.webelement.WebElement (session=\"14cc306dfc6cf8a445f83a6ea888a63f\", element=\"0C1F84AC91FCA93B0161A2978C9E5DD3_element_3973\")>"
      ]
     },
     "execution_count": 5,
     "metadata": {},
     "output_type": "execute_result"
    },
    {
     "name": "stdout",
     "output_type": "stream",
     "text": [
      "page  100 size  6\n",
      "url  607\n",
      "url  608\n",
      "url  609\n",
      "url  610\n",
      "url  611\n",
      "url  612\n"
     ]
    },
    {
     "data": {
      "text/plain": [
       "<selenium.webdriver.remote.webelement.WebElement (session=\"14cc306dfc6cf8a445f83a6ea888a63f\", element=\"1D63FB8EE7742C957BED8A544C4FFC97_element_4008\")>"
      ]
     },
     "execution_count": 5,
     "metadata": {},
     "output_type": "execute_result"
    },
    {
     "name": "stdout",
     "output_type": "stream",
     "text": [
      "page  101 size  6\n",
      "url  613\n",
      "url  614\n",
      "url  615\n",
      "url  616\n",
      "url  617\n",
      "url  618\n"
     ]
    },
    {
     "data": {
      "text/plain": [
       "<selenium.webdriver.remote.webelement.WebElement (session=\"14cc306dfc6cf8a445f83a6ea888a63f\", element=\"52A93A0CF43C15C4E2C6BD492E92B07D_element_4044\")>"
      ]
     },
     "execution_count": 5,
     "metadata": {},
     "output_type": "execute_result"
    },
    {
     "name": "stdout",
     "output_type": "stream",
     "text": [
      "page  102 size  6\n",
      "url  619\n",
      "url  620\n",
      "url  621\n",
      "url  622\n",
      "url  623\n",
      "url  624\n"
     ]
    },
    {
     "data": {
      "text/plain": [
       "<selenium.webdriver.remote.webelement.WebElement (session=\"14cc306dfc6cf8a445f83a6ea888a63f\", element=\"8BAA172164FFA9DFE91E5111756DD174_element_4075\")>"
      ]
     },
     "execution_count": 5,
     "metadata": {},
     "output_type": "execute_result"
    },
    {
     "name": "stdout",
     "output_type": "stream",
     "text": [
      "page  103 size  6\n",
      "url  625\n",
      "url  626\n",
      "url  627\n",
      "url  628\n",
      "url  629\n",
      "url  630\n"
     ]
    },
    {
     "data": {
      "text/plain": [
       "<selenium.webdriver.remote.webelement.WebElement (session=\"14cc306dfc6cf8a445f83a6ea888a63f\", element=\"19D2A18D128FE08914176051A8B85544_element_4106\")>"
      ]
     },
     "execution_count": 5,
     "metadata": {},
     "output_type": "execute_result"
    },
    {
     "name": "stdout",
     "output_type": "stream",
     "text": [
      "page  104 size  6\n",
      "url  631\n",
      "url  632\n",
      "url  633\n",
      "url  634\n",
      "url  635\n",
      "url  636\n"
     ]
    },
    {
     "data": {
      "text/plain": [
       "<selenium.webdriver.remote.webelement.WebElement (session=\"14cc306dfc6cf8a445f83a6ea888a63f\", element=\"5F903D48D5BFAAFF74B2FDC78B561DE1_element_4143\")>"
      ]
     },
     "execution_count": 5,
     "metadata": {},
     "output_type": "execute_result"
    },
    {
     "name": "stdout",
     "output_type": "stream",
     "text": [
      "page  105 size  6\n",
      "url  637\n",
      "url  638\n",
      "url  639\n",
      "url  640\n",
      "url  641\n",
      "url  642\n"
     ]
    },
    {
     "data": {
      "text/plain": [
       "<selenium.webdriver.remote.webelement.WebElement (session=\"14cc306dfc6cf8a445f83a6ea888a63f\", element=\"76343690F279FC838F9F6C082D0D6F41_element_4183\")>"
      ]
     },
     "execution_count": 5,
     "metadata": {},
     "output_type": "execute_result"
    },
    {
     "name": "stdout",
     "output_type": "stream",
     "text": [
      "page  106 size  6\n",
      "url  643\n",
      "url  644\n",
      "url  645\n",
      "url  646\n",
      "url  647\n",
      "url  648\n"
     ]
    },
    {
     "data": {
      "text/plain": [
       "<selenium.webdriver.remote.webelement.WebElement (session=\"14cc306dfc6cf8a445f83a6ea888a63f\", element=\"1192E7B96DE272EB04E626FCE4B33E13_element_4218\")>"
      ]
     },
     "execution_count": 5,
     "metadata": {},
     "output_type": "execute_result"
    },
    {
     "name": "stdout",
     "output_type": "stream",
     "text": [
      "page  107 size  6\n",
      "url  649\n",
      "url  650\n",
      "url  651\n",
      "url  652\n",
      "url  653\n",
      "url  654\n"
     ]
    },
    {
     "data": {
      "text/plain": [
       "<selenium.webdriver.remote.webelement.WebElement (session=\"14cc306dfc6cf8a445f83a6ea888a63f\", element=\"441BC8713E04DF23BEF83CD38EF8300A_element_4249\")>"
      ]
     },
     "execution_count": 5,
     "metadata": {},
     "output_type": "execute_result"
    },
    {
     "name": "stdout",
     "output_type": "stream",
     "text": [
      "page  108 size  6\n",
      "url  655\n",
      "url  656\n",
      "url  657\n",
      "url  658\n",
      "url  659\n",
      "url  660\n"
     ]
    },
    {
     "data": {
      "text/plain": [
       "<selenium.webdriver.remote.webelement.WebElement (session=\"14cc306dfc6cf8a445f83a6ea888a63f\", element=\"78321FC5608E9ADEA49525338169FDAA_element_4287\")>"
      ]
     },
     "execution_count": 5,
     "metadata": {},
     "output_type": "execute_result"
    },
    {
     "name": "stdout",
     "output_type": "stream",
     "text": [
      "page  109 size  6\n",
      "url  661\n",
      "url  662\n",
      "url  663\n",
      "url  664\n",
      "url  665\n",
      "url  666\n"
     ]
    },
    {
     "data": {
      "text/plain": [
       "<selenium.webdriver.remote.webelement.WebElement (session=\"14cc306dfc6cf8a445f83a6ea888a63f\", element=\"6657DAAD88847CFD14AF3626E0214513_element_4335\")>"
      ]
     },
     "execution_count": 5,
     "metadata": {},
     "output_type": "execute_result"
    },
    {
     "name": "stdout",
     "output_type": "stream",
     "text": [
      "page  110 size  6\n",
      "url  667\n",
      "url  668\n",
      "url  669\n",
      "url  670\n",
      "url  671\n",
      "url  672\n"
     ]
    },
    {
     "data": {
      "text/plain": [
       "<selenium.webdriver.remote.webelement.WebElement (session=\"14cc306dfc6cf8a445f83a6ea888a63f\", element=\"BDA0EF3994F38ACB0911355F6559A8DC_element_4368\")>"
      ]
     },
     "execution_count": 5,
     "metadata": {},
     "output_type": "execute_result"
    },
    {
     "name": "stdout",
     "output_type": "stream",
     "text": [
      "page  111 size  6\n",
      "url  673\n",
      "url  674\n",
      "url  675\n",
      "url  676\n",
      "url  677\n",
      "url  678\n"
     ]
    },
    {
     "data": {
      "text/plain": [
       "<selenium.webdriver.remote.webelement.WebElement (session=\"14cc306dfc6cf8a445f83a6ea888a63f\", element=\"30A357DD1D51BEE9C15766F6E2C4BFCE_element_4399\")>"
      ]
     },
     "execution_count": 5,
     "metadata": {},
     "output_type": "execute_result"
    },
    {
     "name": "stdout",
     "output_type": "stream",
     "text": [
      "page  112 size  6\n",
      "url  679\n",
      "url  680\n",
      "url  681\n",
      "url  682\n",
      "url  683\n",
      "url  684\n"
     ]
    },
    {
     "data": {
      "text/plain": [
       "<selenium.webdriver.remote.webelement.WebElement (session=\"14cc306dfc6cf8a445f83a6ea888a63f\", element=\"B44CBFEDAA63EEBDDE6289DD17942D06_element_4436\")>"
      ]
     },
     "execution_count": 5,
     "metadata": {},
     "output_type": "execute_result"
    },
    {
     "name": "stdout",
     "output_type": "stream",
     "text": [
      "page  113 size  6\n",
      "url  685\n",
      "url  686\n",
      "url  687\n",
      "url  688\n",
      "url  689\n",
      "url  690\n"
     ]
    },
    {
     "data": {
      "text/plain": [
       "<selenium.webdriver.remote.webelement.WebElement (session=\"14cc306dfc6cf8a445f83a6ea888a63f\", element=\"BBD5F09ACD8DD64AFA0F303ED8D71370_element_4485\")>"
      ]
     },
     "execution_count": 5,
     "metadata": {},
     "output_type": "execute_result"
    },
    {
     "name": "stdout",
     "output_type": "stream",
     "text": [
      "page  114 size  6\n",
      "url  691\n",
      "url  692\n",
      "url  693\n",
      "url  694\n",
      "url  695\n",
      "url  696\n"
     ]
    },
    {
     "data": {
      "text/plain": [
       "<selenium.webdriver.remote.webelement.WebElement (session=\"14cc306dfc6cf8a445f83a6ea888a63f\", element=\"B733DD04E17CC4D009B43C81809500A3_element_4517\")>"
      ]
     },
     "execution_count": 5,
     "metadata": {},
     "output_type": "execute_result"
    },
    {
     "name": "stdout",
     "output_type": "stream",
     "text": [
      "page  115 size  6\n",
      "url  697\n",
      "url  698\n",
      "url  699\n",
      "url  700\n",
      "url  701\n",
      "url  702\n"
     ]
    },
    {
     "data": {
      "text/plain": [
       "<selenium.webdriver.remote.webelement.WebElement (session=\"14cc306dfc6cf8a445f83a6ea888a63f\", element=\"D7C754BC3BD1410D0C3BBBCAD9A9292A_element_4550\")>"
      ]
     },
     "execution_count": 5,
     "metadata": {},
     "output_type": "execute_result"
    },
    {
     "name": "stdout",
     "output_type": "stream",
     "text": [
      "page  116 size  6\n",
      "url  703\n",
      "url  704\n",
      "url  705\n",
      "url  706\n",
      "url  707\n",
      "url  708\n"
     ]
    },
    {
     "data": {
      "text/plain": [
       "<selenium.webdriver.remote.webelement.WebElement (session=\"14cc306dfc6cf8a445f83a6ea888a63f\", element=\"508472FF737CC427ACD5E1034A4C2869_element_4584\")>"
      ]
     },
     "execution_count": 5,
     "metadata": {},
     "output_type": "execute_result"
    },
    {
     "name": "stdout",
     "output_type": "stream",
     "text": [
      "page  117 size  6\n",
      "url  709\n",
      "url  710\n",
      "url  711\n",
      "url  712\n",
      "url  713\n",
      "url  714\n"
     ]
    },
    {
     "data": {
      "text/plain": [
       "<selenium.webdriver.remote.webelement.WebElement (session=\"14cc306dfc6cf8a445f83a6ea888a63f\", element=\"8DAFF839211198C8BCAC6537665E42CC_element_4623\")>"
      ]
     },
     "execution_count": 5,
     "metadata": {},
     "output_type": "execute_result"
    },
    {
     "name": "stdout",
     "output_type": "stream",
     "text": [
      "page  118 size  6\n",
      "url  715\n",
      "url  716\n",
      "url  717\n",
      "url  718\n",
      "url  719\n",
      "url  720\n"
     ]
    },
    {
     "data": {
      "text/plain": [
       "<selenium.webdriver.remote.webelement.WebElement (session=\"14cc306dfc6cf8a445f83a6ea888a63f\", element=\"3D5C06C1F55E1143242F6FACA1C2BCC4_element_4666\")>"
      ]
     },
     "execution_count": 5,
     "metadata": {},
     "output_type": "execute_result"
    },
    {
     "name": "stdout",
     "output_type": "stream",
     "text": [
      "page  119 size  6\n",
      "url  721\n",
      "url  722\n",
      "url  723\n",
      "url  724\n",
      "url  725\n",
      "url  726\n"
     ]
    },
    {
     "data": {
      "text/plain": [
       "<selenium.webdriver.remote.webelement.WebElement (session=\"14cc306dfc6cf8a445f83a6ea888a63f\", element=\"9DF0917864A75C8C49B0DD5002B742DE_element_4696\")>"
      ]
     },
     "execution_count": 5,
     "metadata": {},
     "output_type": "execute_result"
    },
    {
     "name": "stdout",
     "output_type": "stream",
     "text": [
      "page  120 size  6\n",
      "url  727\n",
      "url  728\n",
      "url  729\n",
      "url  730\n",
      "url  731\n",
      "url  732\n"
     ]
    },
    {
     "data": {
      "text/plain": [
       "<selenium.webdriver.remote.webelement.WebElement (session=\"14cc306dfc6cf8a445f83a6ea888a63f\", element=\"5B1D04CF140B397BED31EB7E3A33F745_element_4733\")>"
      ]
     },
     "execution_count": 5,
     "metadata": {},
     "output_type": "execute_result"
    },
    {
     "name": "stdout",
     "output_type": "stream",
     "text": [
      "page  121 size  6\n",
      "url  733\n",
      "url  734\n",
      "url  735\n",
      "url  736\n",
      "url  737\n",
      "url  738\n"
     ]
    },
    {
     "data": {
      "text/plain": [
       "<selenium.webdriver.remote.webelement.WebElement (session=\"14cc306dfc6cf8a445f83a6ea888a63f\", element=\"3CA37FBF136319749F1A22CFE2902CDA_element_4771\")>"
      ]
     },
     "execution_count": 5,
     "metadata": {},
     "output_type": "execute_result"
    },
    {
     "name": "stdout",
     "output_type": "stream",
     "text": [
      "page  122 size  6\n",
      "url  739\n",
      "url  740\n",
      "url  741\n",
      "url  742\n",
      "url  743\n",
      "url  744\n"
     ]
    },
    {
     "data": {
      "text/plain": [
       "<selenium.webdriver.remote.webelement.WebElement (session=\"14cc306dfc6cf8a445f83a6ea888a63f\", element=\"203599DE786205D2CFB54DBCF48BF698_element_4810\")>"
      ]
     },
     "execution_count": 5,
     "metadata": {},
     "output_type": "execute_result"
    },
    {
     "name": "stdout",
     "output_type": "stream",
     "text": [
      "page  123 size  6\n",
      "url  745\n",
      "url  746\n",
      "url  747\n",
      "url  748\n",
      "url  749\n",
      "url  750\n"
     ]
    },
    {
     "data": {
      "text/plain": [
       "<selenium.webdriver.remote.webelement.WebElement (session=\"14cc306dfc6cf8a445f83a6ea888a63f\", element=\"972DB5A334AFA3DCC72193B6E7258003_element_4858\")>"
      ]
     },
     "execution_count": 5,
     "metadata": {},
     "output_type": "execute_result"
    },
    {
     "name": "stdout",
     "output_type": "stream",
     "text": [
      "page  124 size  6\n",
      "url  751\n",
      "url  752\n",
      "url  753\n",
      "url  754\n",
      "url  755\n",
      "url  756\n"
     ]
    },
    {
     "data": {
      "text/plain": [
       "<selenium.webdriver.remote.webelement.WebElement (session=\"14cc306dfc6cf8a445f83a6ea888a63f\", element=\"613A90DEBD8E3D9CDE099F877D2DAFDC_element_4902\")>"
      ]
     },
     "execution_count": 5,
     "metadata": {},
     "output_type": "execute_result"
    },
    {
     "name": "stdout",
     "output_type": "stream",
     "text": [
      "page  125 size  6\n",
      "url  757\n",
      "url  758\n",
      "url  759\n",
      "url  760\n",
      "url  761\n",
      "url  762\n"
     ]
    },
    {
     "data": {
      "text/plain": [
       "<selenium.webdriver.remote.webelement.WebElement (session=\"14cc306dfc6cf8a445f83a6ea888a63f\", element=\"613A90DEBD8E3D9CDE099F877D2DAFDC_element_4902\")>"
      ]
     },
     "execution_count": 5,
     "metadata": {},
     "output_type": "execute_result"
    },
    {
     "name": "stdout",
     "output_type": "stream",
     "text": [
      "page  126 size  6\n",
      "url  763\n",
      "url  764\n",
      "url  765\n",
      "url  766\n"
     ]
    },
    {
     "data": {
      "text/plain": [
       "<selenium.webdriver.remote.webelement.WebElement (session=\"14cc306dfc6cf8a445f83a6ea888a63f\", element=\"A5B822ED3BFB35F4BC86050C17EB74AC_element_4933\")>"
      ]
     },
     "execution_count": 5,
     "metadata": {},
     "output_type": "execute_result"
    },
    {
     "name": "stdout",
     "output_type": "stream",
     "text": [
      "page  127 size  6\n",
      "url  768\n",
      "url  769\n",
      "url  770\n",
      "url  771\n",
      "url  772\n",
      "url  773\n"
     ]
    },
    {
     "data": {
      "text/plain": [
       "<selenium.webdriver.remote.webelement.WebElement (session=\"14cc306dfc6cf8a445f83a6ea888a63f\", element=\"B303CD02BDACA6B962215ABB32A00CC5_element_4963\")>"
      ]
     },
     "execution_count": 5,
     "metadata": {},
     "output_type": "execute_result"
    },
    {
     "name": "stdout",
     "output_type": "stream",
     "text": [
      "page  128 size  6\n",
      "url  774\n",
      "url  775\n",
      "url  776\n",
      "url  777\n",
      "url  778\n",
      "url  779\n"
     ]
    },
    {
     "data": {
      "text/plain": [
       "<selenium.webdriver.remote.webelement.WebElement (session=\"14cc306dfc6cf8a445f83a6ea888a63f\", element=\"8B0689EDB5078277D453DCB558B71B73_element_4996\")>"
      ]
     },
     "execution_count": 5,
     "metadata": {},
     "output_type": "execute_result"
    },
    {
     "name": "stdout",
     "output_type": "stream",
     "text": [
      "page  129 size  6\n",
      "url  780\n",
      "url  781\n",
      "url  782\n",
      "url  783\n",
      "url  784\n",
      "url  785\n"
     ]
    },
    {
     "data": {
      "text/plain": [
       "<selenium.webdriver.remote.webelement.WebElement (session=\"14cc306dfc6cf8a445f83a6ea888a63f\", element=\"8724D437E61A76B1C937D6976B89E831_element_5029\")>"
      ]
     },
     "execution_count": 5,
     "metadata": {},
     "output_type": "execute_result"
    },
    {
     "name": "stdout",
     "output_type": "stream",
     "text": [
      "page  130 size  6\n",
      "url  786\n",
      "url  787\n",
      "url  788\n",
      "url  789\n",
      "url  790\n",
      "url  791\n"
     ]
    },
    {
     "data": {
      "text/plain": [
       "<selenium.webdriver.remote.webelement.WebElement (session=\"14cc306dfc6cf8a445f83a6ea888a63f\", element=\"8EA1A740727F23EF46A0BD783010D185_element_5059\")>"
      ]
     },
     "execution_count": 5,
     "metadata": {},
     "output_type": "execute_result"
    },
    {
     "name": "stdout",
     "output_type": "stream",
     "text": [
      "page  131 size  6\n",
      "url  792\n",
      "url  793\n",
      "url  794\n",
      "url  795\n",
      "url  796\n",
      "url  797\n"
     ]
    },
    {
     "data": {
      "text/plain": [
       "<selenium.webdriver.remote.webelement.WebElement (session=\"14cc306dfc6cf8a445f83a6ea888a63f\", element=\"F457C019DCD5D8FAE367C15D3B92C8ED_element_5099\")>"
      ]
     },
     "execution_count": 5,
     "metadata": {},
     "output_type": "execute_result"
    },
    {
     "name": "stdout",
     "output_type": "stream",
     "text": [
      "page  132 size  6\n",
      "url  798\n",
      "url  799\n",
      "url  800\n",
      "url  801\n",
      "url  802\n",
      "url  803\n"
     ]
    },
    {
     "data": {
      "text/plain": [
       "<selenium.webdriver.remote.webelement.WebElement (session=\"14cc306dfc6cf8a445f83a6ea888a63f\", element=\"A04A8800CC71361C4300A9862014E2D9_element_5128\")>"
      ]
     },
     "execution_count": 5,
     "metadata": {},
     "output_type": "execute_result"
    },
    {
     "name": "stdout",
     "output_type": "stream",
     "text": [
      "page  133 size  6\n",
      "url  804\n",
      "url  805\n",
      "url  806\n",
      "url  807\n",
      "url  808\n",
      "url  809\n"
     ]
    },
    {
     "data": {
      "text/plain": [
       "<selenium.webdriver.remote.webelement.WebElement (session=\"14cc306dfc6cf8a445f83a6ea888a63f\", element=\"06F6678325E3D442087A4A5A58ACCB7B_element_5163\")>"
      ]
     },
     "execution_count": 5,
     "metadata": {},
     "output_type": "execute_result"
    },
    {
     "name": "stdout",
     "output_type": "stream",
     "text": [
      "page  134 size  6\n",
      "url  810\n",
      "url  811\n",
      "url  812\n",
      "url  813\n",
      "url  814\n",
      "url  815\n"
     ]
    },
    {
     "data": {
      "text/plain": [
       "<selenium.webdriver.remote.webelement.WebElement (session=\"14cc306dfc6cf8a445f83a6ea888a63f\", element=\"E260DBDDA7E6E2735043D4EBB0BF91AA_element_5196\")>"
      ]
     },
     "execution_count": 5,
     "metadata": {},
     "output_type": "execute_result"
    },
    {
     "name": "stdout",
     "output_type": "stream",
     "text": [
      "page  135 size  6\n",
      "url  816\n",
      "url  817\n",
      "url  818\n",
      "url  819\n",
      "url  820\n",
      "url  821\n"
     ]
    },
    {
     "data": {
      "text/plain": [
       "<selenium.webdriver.remote.webelement.WebElement (session=\"14cc306dfc6cf8a445f83a6ea888a63f\", element=\"712DF1A20989289254764D737CDB2D9F_element_5233\")>"
      ]
     },
     "execution_count": 5,
     "metadata": {},
     "output_type": "execute_result"
    },
    {
     "name": "stdout",
     "output_type": "stream",
     "text": [
      "page  136 size  6\n",
      "url  822\n",
      "url  823\n",
      "url  824\n",
      "url  825\n",
      "url  826\n",
      "url  827\n"
     ]
    },
    {
     "data": {
      "text/plain": [
       "<selenium.webdriver.remote.webelement.WebElement (session=\"14cc306dfc6cf8a445f83a6ea888a63f\", element=\"7F4DAF8E30C7D12C684FB8EF224C610F_element_5271\")>"
      ]
     },
     "execution_count": 5,
     "metadata": {},
     "output_type": "execute_result"
    },
    {
     "name": "stdout",
     "output_type": "stream",
     "text": [
      "page  137 size  6\n",
      "url  828\n",
      "url  829\n",
      "url  830\n",
      "url  831\n",
      "url  832\n",
      "url  833\n"
     ]
    },
    {
     "data": {
      "text/plain": [
       "<selenium.webdriver.remote.webelement.WebElement (session=\"14cc306dfc6cf8a445f83a6ea888a63f\", element=\"3E2F8DE043B3C7252957B18D98C0DA0B_element_5327\")>"
      ]
     },
     "execution_count": 5,
     "metadata": {},
     "output_type": "execute_result"
    },
    {
     "name": "stdout",
     "output_type": "stream",
     "text": [
      "page  138 size  6\n",
      "url  834\n",
      "url  835\n",
      "url  836\n",
      "url  837\n",
      "url  838\n",
      "url  839\n"
     ]
    },
    {
     "data": {
      "text/plain": [
       "<selenium.webdriver.remote.webelement.WebElement (session=\"14cc306dfc6cf8a445f83a6ea888a63f\", element=\"C9E74AEA92878B2F88C156B832EA23AE_element_5357\")>"
      ]
     },
     "execution_count": 5,
     "metadata": {},
     "output_type": "execute_result"
    },
    {
     "name": "stdout",
     "output_type": "stream",
     "text": [
      "page  139 size  6\n",
      "url  840\n",
      "url  841\n",
      "url  842\n",
      "url  843\n",
      "url  844\n",
      "url  845\n"
     ]
    },
    {
     "data": {
      "text/plain": [
       "<selenium.webdriver.remote.webelement.WebElement (session=\"14cc306dfc6cf8a445f83a6ea888a63f\", element=\"1156566EB048238840E99654518864A2_element_5402\")>"
      ]
     },
     "execution_count": 5,
     "metadata": {},
     "output_type": "execute_result"
    },
    {
     "name": "stdout",
     "output_type": "stream",
     "text": [
      "page  140 size  6\n",
      "url  846\n",
      "url  847\n",
      "url  848\n",
      "url  849\n",
      "url  850\n",
      "url  851\n"
     ]
    },
    {
     "data": {
      "text/plain": [
       "<selenium.webdriver.remote.webelement.WebElement (session=\"14cc306dfc6cf8a445f83a6ea888a63f\", element=\"33E71C5605CF6940A10AB7A43E1B37DD_element_5437\")>"
      ]
     },
     "execution_count": 5,
     "metadata": {},
     "output_type": "execute_result"
    },
    {
     "name": "stdout",
     "output_type": "stream",
     "text": [
      "page  141 size  6\n",
      "url  852\n",
      "url  853\n",
      "url  854\n",
      "url  855\n",
      "url  856\n",
      "url  857\n"
     ]
    },
    {
     "data": {
      "text/plain": [
       "<selenium.webdriver.remote.webelement.WebElement (session=\"14cc306dfc6cf8a445f83a6ea888a63f\", element=\"BDA0CD8C36AF9F348DBE7A1286353DC7_element_5472\")>"
      ]
     },
     "execution_count": 5,
     "metadata": {},
     "output_type": "execute_result"
    },
    {
     "name": "stdout",
     "output_type": "stream",
     "text": [
      "page  142 size  6\n",
      "url  858\n",
      "url  859\n",
      "url  860\n",
      "url  861\n",
      "url  862\n",
      "url  863\n"
     ]
    },
    {
     "data": {
      "text/plain": [
       "<selenium.webdriver.remote.webelement.WebElement (session=\"14cc306dfc6cf8a445f83a6ea888a63f\", element=\"0BABDCAD5B474404CCE1F2A3F0C6F549_element_5502\")>"
      ]
     },
     "execution_count": 5,
     "metadata": {},
     "output_type": "execute_result"
    },
    {
     "name": "stdout",
     "output_type": "stream",
     "text": [
      "page  143 size  6\n",
      "url  864\n",
      "url  865\n",
      "url  866\n",
      "url  867\n",
      "url  868\n",
      "url  869\n"
     ]
    },
    {
     "data": {
      "text/plain": [
       "<selenium.webdriver.remote.webelement.WebElement (session=\"14cc306dfc6cf8a445f83a6ea888a63f\", element=\"0A8BD969D06DF545ADD02FB60807614F_element_5535\")>"
      ]
     },
     "execution_count": 5,
     "metadata": {},
     "output_type": "execute_result"
    },
    {
     "name": "stdout",
     "output_type": "stream",
     "text": [
      "page  144 size  6\n",
      "url  870\n",
      "url  871\n",
      "url  872\n",
      "url  873\n",
      "url  874\n",
      "url  875\n"
     ]
    },
    {
     "data": {
      "text/plain": [
       "<selenium.webdriver.remote.webelement.WebElement (session=\"14cc306dfc6cf8a445f83a6ea888a63f\", element=\"B7620C585D41620DB32C4C2F5BDE6BE3_element_5569\")>"
      ]
     },
     "execution_count": 5,
     "metadata": {},
     "output_type": "execute_result"
    },
    {
     "name": "stdout",
     "output_type": "stream",
     "text": [
      "page  145 size  6\n",
      "url  876\n",
      "url  877\n",
      "url  878\n",
      "url  879\n",
      "url  880\n",
      "url  881\n"
     ]
    },
    {
     "data": {
      "text/plain": [
       "<selenium.webdriver.remote.webelement.WebElement (session=\"14cc306dfc6cf8a445f83a6ea888a63f\", element=\"F4A857E4E4104EBB69A7A433B33A9782_element_5608\")>"
      ]
     },
     "execution_count": 5,
     "metadata": {},
     "output_type": "execute_result"
    },
    {
     "name": "stdout",
     "output_type": "stream",
     "text": [
      "page  146 size  6\n",
      "url  882\n",
      "url  883\n",
      "url  884\n",
      "url  885\n",
      "url  886\n",
      "url  887\n"
     ]
    },
    {
     "data": {
      "text/plain": [
       "<selenium.webdriver.remote.webelement.WebElement (session=\"14cc306dfc6cf8a445f83a6ea888a63f\", element=\"975B56BF4E1B7E0A9402146D7C2C3DD1_element_5644\")>"
      ]
     },
     "execution_count": 5,
     "metadata": {},
     "output_type": "execute_result"
    },
    {
     "name": "stdout",
     "output_type": "stream",
     "text": [
      "page  147 size  6\n",
      "url  888\n",
      "url  889\n",
      "url  890\n",
      "url  891\n",
      "url  892\n",
      "url  893\n"
     ]
    },
    {
     "data": {
      "text/plain": [
       "<selenium.webdriver.remote.webelement.WebElement (session=\"14cc306dfc6cf8a445f83a6ea888a63f\", element=\"3519AFEB2A35A153A4C593D9FF9AC4CD_element_5682\")>"
      ]
     },
     "execution_count": 5,
     "metadata": {},
     "output_type": "execute_result"
    },
    {
     "name": "stdout",
     "output_type": "stream",
     "text": [
      "page  148 size  6\n",
      "url  894\n",
      "url  895\n",
      "url  896\n",
      "url  897\n",
      "url  898\n",
      "url  899\n"
     ]
    },
    {
     "data": {
      "text/plain": [
       "<selenium.webdriver.remote.webelement.WebElement (session=\"14cc306dfc6cf8a445f83a6ea888a63f\", element=\"20523F7F6EEBE72A921DDA7ACD0FEAEF_element_5716\")>"
      ]
     },
     "execution_count": 5,
     "metadata": {},
     "output_type": "execute_result"
    },
    {
     "name": "stdout",
     "output_type": "stream",
     "text": [
      "page  149 size  6\n",
      "url  900\n",
      "url  901\n",
      "url  902\n",
      "url  903\n",
      "url  904\n",
      "url  905\n"
     ]
    },
    {
     "data": {
      "text/plain": [
       "<selenium.webdriver.remote.webelement.WebElement (session=\"14cc306dfc6cf8a445f83a6ea888a63f\", element=\"0C2142F714C86C3CB7A8C0F4A01F0F9E_element_5753\")>"
      ]
     },
     "execution_count": 5,
     "metadata": {},
     "output_type": "execute_result"
    },
    {
     "name": "stdout",
     "output_type": "stream",
     "text": [
      "page  150 size  6\n",
      "url  906\n",
      "url  907\n",
      "url  908\n",
      "url  909\n",
      "url  910\n",
      "url  911\n"
     ]
    },
    {
     "data": {
      "text/plain": [
       "<selenium.webdriver.remote.webelement.WebElement (session=\"14cc306dfc6cf8a445f83a6ea888a63f\", element=\"EAFAF39E1E3B1343DADF668677931592_element_5803\")>"
      ]
     },
     "execution_count": 5,
     "metadata": {},
     "output_type": "execute_result"
    },
    {
     "name": "stdout",
     "output_type": "stream",
     "text": [
      "page  151 size  6\n",
      "url  912\n",
      "url  913\n",
      "url  914\n",
      "url  915\n",
      "url  916\n",
      "url  917\n"
     ]
    },
    {
     "data": {
      "text/plain": [
       "<selenium.webdriver.remote.webelement.WebElement (session=\"14cc306dfc6cf8a445f83a6ea888a63f\", element=\"197CE51B1A3314C11EF8F2F978D92289_element_5836\")>"
      ]
     },
     "execution_count": 5,
     "metadata": {},
     "output_type": "execute_result"
    },
    {
     "name": "stdout",
     "output_type": "stream",
     "text": [
      "page  152 size  6\n",
      "url  918\n",
      "url  919\n",
      "url  920\n",
      "url  921\n",
      "url  922\n",
      "url  923\n"
     ]
    },
    {
     "data": {
      "text/plain": [
       "<selenium.webdriver.remote.webelement.WebElement (session=\"14cc306dfc6cf8a445f83a6ea888a63f\", element=\"DD5329DB4C7BAE5577DB0AC783368038_element_5876\")>"
      ]
     },
     "execution_count": 5,
     "metadata": {},
     "output_type": "execute_result"
    },
    {
     "name": "stdout",
     "output_type": "stream",
     "text": [
      "page  153 size  6\n",
      "url  924\n",
      "url  925\n",
      "url  926\n",
      "url  927\n",
      "url  928\n",
      "url  929\n"
     ]
    },
    {
     "data": {
      "text/plain": [
       "<selenium.webdriver.remote.webelement.WebElement (session=\"14cc306dfc6cf8a445f83a6ea888a63f\", element=\"FFFC69392F8DB1ECD0DC70565AD3AAFC_element_5918\")>"
      ]
     },
     "execution_count": 5,
     "metadata": {},
     "output_type": "execute_result"
    },
    {
     "name": "stdout",
     "output_type": "stream",
     "text": [
      "page  154 size  6\n",
      "url  930\n",
      "url  931\n",
      "url  932\n",
      "url  933\n",
      "url  934\n",
      "url  935\n"
     ]
    },
    {
     "data": {
      "text/plain": [
       "<selenium.webdriver.remote.webelement.WebElement (session=\"14cc306dfc6cf8a445f83a6ea888a63f\", element=\"1336479C8E60F9FCAEAA5A81CB828713_element_5945\")>"
      ]
     },
     "execution_count": 5,
     "metadata": {},
     "output_type": "execute_result"
    },
    {
     "name": "stdout",
     "output_type": "stream",
     "text": [
      "page  155 size  6\n",
      "url  936\n",
      "url  937\n",
      "url  938\n",
      "url  939\n",
      "url  940\n",
      "url  941\n"
     ]
    },
    {
     "data": {
      "text/plain": [
       "<selenium.webdriver.remote.webelement.WebElement (session=\"14cc306dfc6cf8a445f83a6ea888a63f\", element=\"4BADE7DD294EE98F513E53D3D0932B85_element_5982\")>"
      ]
     },
     "execution_count": 5,
     "metadata": {},
     "output_type": "execute_result"
    },
    {
     "name": "stdout",
     "output_type": "stream",
     "text": [
      "page  156 size  6\n",
      "url  942\n",
      "url  943\n",
      "url  944\n",
      "url  945\n",
      "url  946\n",
      "url  947\n"
     ]
    },
    {
     "data": {
      "text/plain": [
       "<selenium.webdriver.remote.webelement.WebElement (session=\"14cc306dfc6cf8a445f83a6ea888a63f\", element=\"EF97E6B3B09AB86D7216295B0CC98A84_element_6017\")>"
      ]
     },
     "execution_count": 5,
     "metadata": {},
     "output_type": "execute_result"
    },
    {
     "name": "stdout",
     "output_type": "stream",
     "text": [
      "page  157 size  6\n",
      "url  948\n",
      "url  949\n",
      "url  950\n",
      "url  951\n",
      "url  952\n",
      "url  953\n"
     ]
    },
    {
     "data": {
      "text/plain": [
       "<selenium.webdriver.remote.webelement.WebElement (session=\"14cc306dfc6cf8a445f83a6ea888a63f\", element=\"D708CBDBD4B0276F17137BF433D4A89D_element_6065\")>"
      ]
     },
     "execution_count": 5,
     "metadata": {},
     "output_type": "execute_result"
    },
    {
     "name": "stdout",
     "output_type": "stream",
     "text": [
      "page  158 size  6\n",
      "url  954\n",
      "url  955\n",
      "url  956\n",
      "url  957\n",
      "url  958\n",
      "url  959\n"
     ]
    },
    {
     "data": {
      "text/plain": [
       "<selenium.webdriver.remote.webelement.WebElement (session=\"14cc306dfc6cf8a445f83a6ea888a63f\", element=\"B560149C69C4F6A8B968D133132D60DC_element_6095\")>"
      ]
     },
     "execution_count": 5,
     "metadata": {},
     "output_type": "execute_result"
    },
    {
     "name": "stdout",
     "output_type": "stream",
     "text": [
      "page  159 size  6\n",
      "url  960\n",
      "url  961\n",
      "url  962\n",
      "url  963\n",
      "url  964\n",
      "url  965\n"
     ]
    },
    {
     "data": {
      "text/plain": [
       "<selenium.webdriver.remote.webelement.WebElement (session=\"14cc306dfc6cf8a445f83a6ea888a63f\", element=\"6670F4FEE5F72C2B7F191A926BA725BF_element_6125\")>"
      ]
     },
     "execution_count": 5,
     "metadata": {},
     "output_type": "execute_result"
    },
    {
     "name": "stdout",
     "output_type": "stream",
     "text": [
      "page  160 size  6\n",
      "url  966\n",
      "url  967\n",
      "url  968\n",
      "url  969\n",
      "url  970\n",
      "url  971\n"
     ]
    },
    {
     "data": {
      "text/plain": [
       "<selenium.webdriver.remote.webelement.WebElement (session=\"14cc306dfc6cf8a445f83a6ea888a63f\", element=\"E949F844380859305CC444455FAC830E_element_6160\")>"
      ]
     },
     "execution_count": 5,
     "metadata": {},
     "output_type": "execute_result"
    },
    {
     "name": "stdout",
     "output_type": "stream",
     "text": [
      "page  161 size  6\n",
      "url  972\n",
      "url  973\n",
      "url  974\n",
      "url  975\n",
      "url  976\n",
      "url  977\n"
     ]
    },
    {
     "data": {
      "text/plain": [
       "<selenium.webdriver.remote.webelement.WebElement (session=\"14cc306dfc6cf8a445f83a6ea888a63f\", element=\"50855E7DD4898322A7C7FB45E9CE2154_element_6196\")>"
      ]
     },
     "execution_count": 5,
     "metadata": {},
     "output_type": "execute_result"
    },
    {
     "name": "stdout",
     "output_type": "stream",
     "text": [
      "page  162 size  6\n",
      "url  978\n",
      "url  979\n",
      "url  980\n",
      "url  981\n",
      "url  982\n",
      "url  983\n"
     ]
    },
    {
     "data": {
      "text/plain": [
       "<selenium.webdriver.remote.webelement.WebElement (session=\"14cc306dfc6cf8a445f83a6ea888a63f\", element=\"93851C359A0A84B84DFB0E0F6258932F_element_6233\")>"
      ]
     },
     "execution_count": 5,
     "metadata": {},
     "output_type": "execute_result"
    },
    {
     "name": "stdout",
     "output_type": "stream",
     "text": [
      "page  163 size  6\n",
      "url  984\n",
      "url  985\n",
      "url  986\n",
      "url  987\n",
      "url  988\n",
      "url  989\n"
     ]
    },
    {
     "data": {
      "text/plain": [
       "<selenium.webdriver.remote.webelement.WebElement (session=\"14cc306dfc6cf8a445f83a6ea888a63f\", element=\"0A97D168202AA5C63B199522DAB93178_element_6270\")>"
      ]
     },
     "execution_count": 5,
     "metadata": {},
     "output_type": "execute_result"
    },
    {
     "name": "stdout",
     "output_type": "stream",
     "text": [
      "page  164 size  6\n",
      "url  990\n",
      "url  991\n",
      "url  992\n",
      "url  993\n",
      "url  994\n",
      "url  995\n"
     ]
    },
    {
     "data": {
      "text/plain": [
       "<selenium.webdriver.remote.webelement.WebElement (session=\"14cc306dfc6cf8a445f83a6ea888a63f\", element=\"CF7BE11B7B60B0167E4DE8777828D68C_element_6319\")>"
      ]
     },
     "execution_count": 5,
     "metadata": {},
     "output_type": "execute_result"
    },
    {
     "name": "stdout",
     "output_type": "stream",
     "text": [
      "page  165 size  6\n",
      "url  996\n",
      "url  997\n",
      "url  998\n",
      "url  999\n",
      "url  1000\n",
      "url  1001\n"
     ]
    },
    {
     "data": {
      "text/plain": [
       "<selenium.webdriver.remote.webelement.WebElement (session=\"14cc306dfc6cf8a445f83a6ea888a63f\", element=\"43BB48832D3DEA1C3E4277D668F4960A_element_6368\")>"
      ]
     },
     "execution_count": 5,
     "metadata": {},
     "output_type": "execute_result"
    },
    {
     "name": "stdout",
     "output_type": "stream",
     "text": [
      "page  166 size  6\n",
      "url  1002\n",
      "url  1003\n",
      "url  1004\n",
      "url  1005\n",
      "url  1006\n",
      "url  1007\n"
     ]
    },
    {
     "data": {
      "text/plain": [
       "<selenium.webdriver.remote.webelement.WebElement (session=\"14cc306dfc6cf8a445f83a6ea888a63f\", element=\"284737CFE1554AEE5318F1435EC0A316_element_6398\")>"
      ]
     },
     "execution_count": 5,
     "metadata": {},
     "output_type": "execute_result"
    },
    {
     "name": "stdout",
     "output_type": "stream",
     "text": [
      "page  167 size  6\n",
      "url  1008\n",
      "url  1009\n",
      "url  1010\n",
      "url  1011\n",
      "url  1012\n",
      "url  1013\n"
     ]
    },
    {
     "data": {
      "text/plain": [
       "<selenium.webdriver.remote.webelement.WebElement (session=\"14cc306dfc6cf8a445f83a6ea888a63f\", element=\"1AE93ED869AD991E06D9C14C858F12D6_element_6430\")>"
      ]
     },
     "execution_count": 5,
     "metadata": {},
     "output_type": "execute_result"
    },
    {
     "name": "stdout",
     "output_type": "stream",
     "text": [
      "page  168 size  6\n",
      "url  1014\n",
      "url  1015\n",
      "url  1016\n",
      "url  1017\n",
      "url  1018\n",
      "url  1019\n"
     ]
    },
    {
     "data": {
      "text/plain": [
       "<selenium.webdriver.remote.webelement.WebElement (session=\"14cc306dfc6cf8a445f83a6ea888a63f\", element=\"AC517BC06FA08444A0B78B88CDECCA93_element_6470\")>"
      ]
     },
     "execution_count": 5,
     "metadata": {},
     "output_type": "execute_result"
    },
    {
     "name": "stdout",
     "output_type": "stream",
     "text": [
      "page  169 size  6\n",
      "url  1020\n",
      "url  1021\n",
      "url  1022\n",
      "url  1023\n",
      "url  1024\n",
      "url  1025\n"
     ]
    },
    {
     "data": {
      "text/plain": [
       "<selenium.webdriver.remote.webelement.WebElement (session=\"14cc306dfc6cf8a445f83a6ea888a63f\", element=\"5951D553FA2733CED9A77D27476E18FA_element_6503\")>"
      ]
     },
     "execution_count": 5,
     "metadata": {},
     "output_type": "execute_result"
    },
    {
     "name": "stdout",
     "output_type": "stream",
     "text": [
      "page  170 size  6\n",
      "url  1026\n",
      "url  1027\n",
      "url  1028\n",
      "url  1029\n",
      "url  1030\n",
      "url  1031\n"
     ]
    },
    {
     "data": {
      "text/plain": [
       "<selenium.webdriver.remote.webelement.WebElement (session=\"14cc306dfc6cf8a445f83a6ea888a63f\", element=\"8D8001A7495DCBB1B03964AC93E7CDC4_element_6537\")>"
      ]
     },
     "execution_count": 5,
     "metadata": {},
     "output_type": "execute_result"
    },
    {
     "name": "stdout",
     "output_type": "stream",
     "text": [
      "page  171 size  6\n",
      "url  1032\n",
      "url  1033\n",
      "url  1034\n",
      "url  1035\n",
      "url  1036\n",
      "url  1037\n"
     ]
    },
    {
     "data": {
      "text/plain": [
       "<selenium.webdriver.remote.webelement.WebElement (session=\"14cc306dfc6cf8a445f83a6ea888a63f\", element=\"7953C4F29599896376C1E72EA31C3D8A_element_6572\")>"
      ]
     },
     "execution_count": 5,
     "metadata": {},
     "output_type": "execute_result"
    },
    {
     "name": "stdout",
     "output_type": "stream",
     "text": [
      "page  172 size  6\n",
      "url  1038\n",
      "url  1039\n",
      "url  1040\n",
      "url  1041\n",
      "url  1042\n",
      "url  1043\n"
     ]
    },
    {
     "data": {
      "text/plain": [
       "<selenium.webdriver.remote.webelement.WebElement (session=\"14cc306dfc6cf8a445f83a6ea888a63f\", element=\"DC5F135D860859A9525C3A1CA363103F_element_6611\")>"
      ]
     },
     "execution_count": 5,
     "metadata": {},
     "output_type": "execute_result"
    },
    {
     "name": "stdout",
     "output_type": "stream",
     "text": [
      "page  173 size  6\n",
      "url  1044\n",
      "url  1045\n",
      "url  1046\n",
      "url  1047\n",
      "url  1048\n",
      "url  1049\n"
     ]
    },
    {
     "data": {
      "text/plain": [
       "<selenium.webdriver.remote.webelement.WebElement (session=\"14cc306dfc6cf8a445f83a6ea888a63f\", element=\"B53AFC617DA35DBD31FFAD3F1E392D90_element_6644\")>"
      ]
     },
     "execution_count": 5,
     "metadata": {},
     "output_type": "execute_result"
    },
    {
     "name": "stdout",
     "output_type": "stream",
     "text": [
      "page  174 size  6\n",
      "url  1050\n",
      "url  1051\n",
      "url  1052\n",
      "url  1053\n",
      "url  1054\n",
      "url  1055\n"
     ]
    },
    {
     "data": {
      "text/plain": [
       "<selenium.webdriver.remote.webelement.WebElement (session=\"14cc306dfc6cf8a445f83a6ea888a63f\", element=\"56AD4A43AB92DF4D521F23B1EAA8D03B_element_6676\")>"
      ]
     },
     "execution_count": 5,
     "metadata": {},
     "output_type": "execute_result"
    },
    {
     "name": "stdout",
     "output_type": "stream",
     "text": [
      "page  175 size  6\n",
      "url  1056\n",
      "url  1057\n",
      "url  1058\n",
      "url  1059\n",
      "url  1060\n",
      "url  1061\n"
     ]
    },
    {
     "data": {
      "text/plain": [
       "<selenium.webdriver.remote.webelement.WebElement (session=\"14cc306dfc6cf8a445f83a6ea888a63f\", element=\"11476091A0AA77CD6F9F8A0FD890FE40_element_6713\")>"
      ]
     },
     "execution_count": 5,
     "metadata": {},
     "output_type": "execute_result"
    },
    {
     "name": "stdout",
     "output_type": "stream",
     "text": [
      "page  176 size  6\n",
      "url  1062\n",
      "url  1063\n",
      "url  1064\n",
      "url  1065\n",
      "url  1066\n",
      "url  1067\n"
     ]
    },
    {
     "data": {
      "text/plain": [
       "<selenium.webdriver.remote.webelement.WebElement (session=\"14cc306dfc6cf8a445f83a6ea888a63f\", element=\"BF4C47D8AEE6633E0AB7B7C989882F62_element_6749\")>"
      ]
     },
     "execution_count": 5,
     "metadata": {},
     "output_type": "execute_result"
    },
    {
     "name": "stdout",
     "output_type": "stream",
     "text": [
      "page  177 size  6\n",
      "url  1068\n",
      "url  1069\n",
      "url  1070\n",
      "url  1071\n",
      "url  1072\n",
      "url  1073\n"
     ]
    },
    {
     "data": {
      "text/plain": [
       "<selenium.webdriver.remote.webelement.WebElement (session=\"14cc306dfc6cf8a445f83a6ea888a63f\", element=\"C7D8765AD633C546143E57C50A610D76_element_6800\")>"
      ]
     },
     "execution_count": 5,
     "metadata": {},
     "output_type": "execute_result"
    },
    {
     "name": "stdout",
     "output_type": "stream",
     "text": [
      "page  178 size  6\n",
      "url  1074\n",
      "url  1075\n",
      "url  1076\n",
      "url  1077\n",
      "url  1078\n",
      "url  1079\n"
     ]
    },
    {
     "data": {
      "text/plain": [
       "<selenium.webdriver.remote.webelement.WebElement (session=\"14cc306dfc6cf8a445f83a6ea888a63f\", element=\"14A32F79D2F90EBE916D51D4193BB034_element_6840\")>"
      ]
     },
     "execution_count": 5,
     "metadata": {},
     "output_type": "execute_result"
    },
    {
     "name": "stdout",
     "output_type": "stream",
     "text": [
      "page  179 size  6\n",
      "url  1080\n",
      "url  1081\n",
      "url  1082\n",
      "url  1083\n",
      "url  1084\n",
      "url  1085\n"
     ]
    },
    {
     "data": {
      "text/plain": [
       "<selenium.webdriver.remote.webelement.WebElement (session=\"14cc306dfc6cf8a445f83a6ea888a63f\", element=\"691062A3AF5A54497ABAD3CF2059D054_element_6884\")>"
      ]
     },
     "execution_count": 5,
     "metadata": {},
     "output_type": "execute_result"
    },
    {
     "name": "stdout",
     "output_type": "stream",
     "text": [
      "page  0 size  12\n",
      "url  1086\n",
      "url  1087\n",
      "url  1088\n",
      "url  1089\n",
      "url  1090\n",
      "url  1091\n",
      "url  1092\n",
      "url  1093\n",
      "url  1094\n",
      "url  1095\n",
      "url  1096\n",
      "url  1097\n"
     ]
    },
    {
     "data": {
      "text/plain": [
       "<selenium.webdriver.remote.webelement.WebElement (session=\"14cc306dfc6cf8a445f83a6ea888a63f\", element=\"ECE5F7B54C15284BEFE8623CD5E5D834_element_6938\")>"
      ]
     },
     "execution_count": 5,
     "metadata": {},
     "output_type": "execute_result"
    },
    {
     "name": "stdout",
     "output_type": "stream",
     "text": [
      "page  1 size  6\n",
      "url  1098\n",
      "url  1099\n",
      "url  1100\n",
      "url  1101\n",
      "url  1102\n",
      "url  1103\n"
     ]
    },
    {
     "data": {
      "text/plain": [
       "<selenium.webdriver.remote.webelement.WebElement (session=\"14cc306dfc6cf8a445f83a6ea888a63f\", element=\"ACC55A5A87DCB850B147BF7163764B35_element_6979\")>"
      ]
     },
     "execution_count": 5,
     "metadata": {},
     "output_type": "execute_result"
    },
    {
     "name": "stdout",
     "output_type": "stream",
     "text": [
      "page  2 size  6\n",
      "url  1104\n",
      "url  1105\n",
      "url  1106\n",
      "url  1107\n",
      "url  1108\n",
      "url  1109\n"
     ]
    },
    {
     "data": {
      "text/plain": [
       "<selenium.webdriver.remote.webelement.WebElement (session=\"14cc306dfc6cf8a445f83a6ea888a63f\", element=\"3FB3C6F06CF1CE623513CAD3CE81DEA0_element_7012\")>"
      ]
     },
     "execution_count": 5,
     "metadata": {},
     "output_type": "execute_result"
    },
    {
     "name": "stdout",
     "output_type": "stream",
     "text": [
      "page  3 size  6\n",
      "url  1110\n",
      "url  1111\n",
      "url  1112\n",
      "url  1113\n",
      "url  1114\n",
      "url  1115\n"
     ]
    },
    {
     "data": {
      "text/plain": [
       "<selenium.webdriver.remote.webelement.WebElement (session=\"14cc306dfc6cf8a445f83a6ea888a63f\", element=\"06DC492F9E3F06CF7ACC56F166C801FB_element_7056\")>"
      ]
     },
     "execution_count": 5,
     "metadata": {},
     "output_type": "execute_result"
    },
    {
     "name": "stdout",
     "output_type": "stream",
     "text": [
      "page  4 size  6\n",
      "url  1116\n",
      "url  1117\n",
      "url  1118\n",
      "url  1119\n",
      "url  1120\n",
      "url  1121\n"
     ]
    },
    {
     "data": {
      "text/plain": [
       "<selenium.webdriver.remote.webelement.WebElement (session=\"14cc306dfc6cf8a445f83a6ea888a63f\", element=\"578840E55BE7D60B17568D78B6B61B9C_element_7087\")>"
      ]
     },
     "execution_count": 5,
     "metadata": {},
     "output_type": "execute_result"
    },
    {
     "name": "stdout",
     "output_type": "stream",
     "text": [
      "page  5 size  6\n",
      "url  1122\n",
      "url  1123\n",
      "url  1124\n",
      "url  1125\n",
      "url  1126\n",
      "url  1127\n"
     ]
    },
    {
     "data": {
      "text/plain": [
       "<selenium.webdriver.remote.webelement.WebElement (session=\"14cc306dfc6cf8a445f83a6ea888a63f\", element=\"5A761804276C69864610B82EE1207D46_element_7134\")>"
      ]
     },
     "execution_count": 5,
     "metadata": {},
     "output_type": "execute_result"
    },
    {
     "name": "stdout",
     "output_type": "stream",
     "text": [
      "page  6 size  6\n",
      "url  1128\n",
      "url  1129\n",
      "url  1130\n",
      "url  1131\n",
      "url  1132\n",
      "url  1133\n"
     ]
    },
    {
     "data": {
      "text/plain": [
       "<selenium.webdriver.remote.webelement.WebElement (session=\"14cc306dfc6cf8a445f83a6ea888a63f\", element=\"1167267C81380BCE1A0CCFD236CCE6D9_element_7186\")>"
      ]
     },
     "execution_count": 5,
     "metadata": {},
     "output_type": "execute_result"
    },
    {
     "name": "stdout",
     "output_type": "stream",
     "text": [
      "page  7 size  6\n",
      "url  1134\n",
      "url  1135\n",
      "url  1136\n",
      "url  1137\n",
      "url  1138\n",
      "url  1139\n"
     ]
    },
    {
     "data": {
      "text/plain": [
       "<selenium.webdriver.remote.webelement.WebElement (session=\"14cc306dfc6cf8a445f83a6ea888a63f\", element=\"4A8282A5D880E62F03AD8414B96BD604_element_7215\")>"
      ]
     },
     "execution_count": 5,
     "metadata": {},
     "output_type": "execute_result"
    },
    {
     "name": "stdout",
     "output_type": "stream",
     "text": [
      "page  8 size  6\n",
      "url  1140\n",
      "url  1141\n",
      "url  1142\n",
      "url  1143\n",
      "url  1144\n",
      "url  1145\n"
     ]
    },
    {
     "data": {
      "text/plain": [
       "<selenium.webdriver.remote.webelement.WebElement (session=\"14cc306dfc6cf8a445f83a6ea888a63f\", element=\"AB935AB2B9FB129ED2317B84EBB32E85_element_7250\")>"
      ]
     },
     "execution_count": 5,
     "metadata": {},
     "output_type": "execute_result"
    },
    {
     "name": "stdout",
     "output_type": "stream",
     "text": [
      "page  9 size  6\n",
      "url  1146\n",
      "url  1147\n",
      "url  1148\n",
      "url  1149\n",
      "url  1150\n",
      "url  1151\n"
     ]
    },
    {
     "data": {
      "text/plain": [
       "<selenium.webdriver.remote.webelement.WebElement (session=\"14cc306dfc6cf8a445f83a6ea888a63f\", element=\"533BD963CB36D7221298ABAE57E68A52_element_7295\")>"
      ]
     },
     "execution_count": 5,
     "metadata": {},
     "output_type": "execute_result"
    },
    {
     "name": "stdout",
     "output_type": "stream",
     "text": [
      "page  10 size  6\n",
      "url  1152\n",
      "url  1153\n",
      "url  1154\n",
      "url  1155\n",
      "url  1156\n",
      "url  1157\n"
     ]
    },
    {
     "data": {
      "text/plain": [
       "<selenium.webdriver.remote.webelement.WebElement (session=\"14cc306dfc6cf8a445f83a6ea888a63f\", element=\"0D249DB00C500DC378EC41D74FEE561C_element_7343\")>"
      ]
     },
     "execution_count": 5,
     "metadata": {},
     "output_type": "execute_result"
    },
    {
     "name": "stdout",
     "output_type": "stream",
     "text": [
      "page  11 size  6\n",
      "url  1158\n",
      "url  1159\n",
      "url  1160\n",
      "url  1161\n",
      "url  1162\n",
      "url  1163\n"
     ]
    },
    {
     "data": {
      "text/plain": [
       "<selenium.webdriver.remote.webelement.WebElement (session=\"14cc306dfc6cf8a445f83a6ea888a63f\", element=\"F3195E4F2DA4B53D469A3172E402EDD9_element_7372\")>"
      ]
     },
     "execution_count": 5,
     "metadata": {},
     "output_type": "execute_result"
    },
    {
     "name": "stdout",
     "output_type": "stream",
     "text": [
      "page  12 size  6\n",
      "url  1164\n",
      "url  1165\n",
      "url  1166\n",
      "url  1167\n",
      "url  1168\n",
      "url  1169\n"
     ]
    },
    {
     "data": {
      "text/plain": [
       "<selenium.webdriver.remote.webelement.WebElement (session=\"14cc306dfc6cf8a445f83a6ea888a63f\", element=\"5F1D271B62E66BD3A817DB9CB9777805_element_7406\")>"
      ]
     },
     "execution_count": 5,
     "metadata": {},
     "output_type": "execute_result"
    },
    {
     "name": "stdout",
     "output_type": "stream",
     "text": [
      "page  13 size  6\n",
      "url  1170\n",
      "url  1171\n",
      "url  1172\n",
      "url  1173\n",
      "url  1174\n",
      "url  1175\n"
     ]
    },
    {
     "data": {
      "text/plain": [
       "<selenium.webdriver.remote.webelement.WebElement (session=\"14cc306dfc6cf8a445f83a6ea888a63f\", element=\"E4BDDF3DA6622315F71D8F32A0E7E24F_element_7440\")>"
      ]
     },
     "execution_count": 5,
     "metadata": {},
     "output_type": "execute_result"
    },
    {
     "name": "stdout",
     "output_type": "stream",
     "text": [
      "page  14 size  6\n",
      "url  1176\n",
      "url  1177\n",
      "url  1178\n",
      "url  1179\n",
      "url  1180\n",
      "url  1181\n"
     ]
    },
    {
     "data": {
      "text/plain": [
       "<selenium.webdriver.remote.webelement.WebElement (session=\"14cc306dfc6cf8a445f83a6ea888a63f\", element=\"108F92262889149A4014FD92464A9A3B_element_7475\")>"
      ]
     },
     "execution_count": 5,
     "metadata": {},
     "output_type": "execute_result"
    },
    {
     "name": "stdout",
     "output_type": "stream",
     "text": [
      "page  15 size  6\n",
      "url  1182\n",
      "url  1183\n",
      "url  1184\n",
      "url  1185\n",
      "url  1186\n",
      "url  1187\n"
     ]
    },
    {
     "data": {
      "text/plain": [
       "<selenium.webdriver.remote.webelement.WebElement (session=\"14cc306dfc6cf8a445f83a6ea888a63f\", element=\"07A26C16A98AF2168E47BB8508007A38_element_7510\")>"
      ]
     },
     "execution_count": 5,
     "metadata": {},
     "output_type": "execute_result"
    },
    {
     "name": "stdout",
     "output_type": "stream",
     "text": [
      "page  16 size  6\n",
      "url  1188\n",
      "url  1189\n",
      "url  1190\n",
      "url  1191\n",
      "url  1192\n",
      "url  1193\n"
     ]
    },
    {
     "data": {
      "text/plain": [
       "<selenium.webdriver.remote.webelement.WebElement (session=\"14cc306dfc6cf8a445f83a6ea888a63f\", element=\"91EED8F0F23ED8036812A94F445DE696_element_7543\")>"
      ]
     },
     "execution_count": 5,
     "metadata": {},
     "output_type": "execute_result"
    },
    {
     "name": "stdout",
     "output_type": "stream",
     "text": [
      "page  17 size  6\n",
      "url  1194\n",
      "url  1195\n",
      "url  1196\n",
      "url  1197\n",
      "url  1198\n",
      "url  1199\n"
     ]
    },
    {
     "data": {
      "text/plain": [
       "<selenium.webdriver.remote.webelement.WebElement (session=\"14cc306dfc6cf8a445f83a6ea888a63f\", element=\"5B3C51B8E50DE515CDD3D4430665397E_element_7590\")>"
      ]
     },
     "execution_count": 5,
     "metadata": {},
     "output_type": "execute_result"
    },
    {
     "name": "stdout",
     "output_type": "stream",
     "text": [
      "page  18 size  6\n",
      "url  1200\n",
      "url  1201\n",
      "url  1202\n",
      "url  1203\n",
      "url  1204\n",
      "url  1205\n"
     ]
    },
    {
     "data": {
      "text/plain": [
       "<selenium.webdriver.remote.webelement.WebElement (session=\"14cc306dfc6cf8a445f83a6ea888a63f\", element=\"8B884EA27741DFB2121C014A197D0033_element_7625\")>"
      ]
     },
     "execution_count": 5,
     "metadata": {},
     "output_type": "execute_result"
    },
    {
     "name": "stdout",
     "output_type": "stream",
     "text": [
      "page  19 size  6\n",
      "url  1206\n",
      "url  1207\n",
      "url  1208\n",
      "url  1209\n",
      "url  1210\n",
      "url  1211\n"
     ]
    },
    {
     "data": {
      "text/plain": [
       "<selenium.webdriver.remote.webelement.WebElement (session=\"14cc306dfc6cf8a445f83a6ea888a63f\", element=\"8493250D745F04D10BDB71C8AE9D490A_element_7661\")>"
      ]
     },
     "execution_count": 5,
     "metadata": {},
     "output_type": "execute_result"
    },
    {
     "name": "stdout",
     "output_type": "stream",
     "text": [
      "page  20 size  6\n",
      "url  1212\n",
      "url  1213\n",
      "url  1214\n",
      "url  1215\n",
      "url  1216\n",
      "url  1217\n"
     ]
    },
    {
     "data": {
      "text/plain": [
       "<selenium.webdriver.remote.webelement.WebElement (session=\"14cc306dfc6cf8a445f83a6ea888a63f\", element=\"22333F4027C2A78850B591672848BA6B_element_7696\")>"
      ]
     },
     "execution_count": 5,
     "metadata": {},
     "output_type": "execute_result"
    },
    {
     "name": "stdout",
     "output_type": "stream",
     "text": [
      "page  21 size  6\n",
      "url  1218\n",
      "url  1219\n",
      "url  1220\n",
      "url  1221\n",
      "url  1222\n",
      "url  1223\n"
     ]
    },
    {
     "data": {
      "text/plain": [
       "<selenium.webdriver.remote.webelement.WebElement (session=\"14cc306dfc6cf8a445f83a6ea888a63f\", element=\"2B73EBA4641B49019E27B08566E4FB56_element_7738\")>"
      ]
     },
     "execution_count": 5,
     "metadata": {},
     "output_type": "execute_result"
    },
    {
     "name": "stdout",
     "output_type": "stream",
     "text": [
      "page  22 size  6\n",
      "url  1224\n",
      "url  1225\n",
      "url  1226\n",
      "url  1227\n",
      "url  1228\n",
      "url  1229\n"
     ]
    },
    {
     "data": {
      "text/plain": [
       "<selenium.webdriver.remote.webelement.WebElement (session=\"14cc306dfc6cf8a445f83a6ea888a63f\", element=\"D7B602BDF23F4DCB7F73E79381FC318D_element_7793\")>"
      ]
     },
     "execution_count": 5,
     "metadata": {},
     "output_type": "execute_result"
    },
    {
     "name": "stdout",
     "output_type": "stream",
     "text": [
      "page  23 size  6\n",
      "url  1230\n",
      "url  1231\n",
      "url  1232\n",
      "url  1233\n",
      "url  1234\n",
      "url  1235\n"
     ]
    },
    {
     "data": {
      "text/plain": [
       "<selenium.webdriver.remote.webelement.WebElement (session=\"14cc306dfc6cf8a445f83a6ea888a63f\", element=\"BD060B8C2ABB01376160652FDA0A80D5_element_7837\")>"
      ]
     },
     "execution_count": 5,
     "metadata": {},
     "output_type": "execute_result"
    },
    {
     "name": "stdout",
     "output_type": "stream",
     "text": [
      "page  24 size  6\n",
      "url  1236\n",
      "url  1237\n",
      "url  1238\n",
      "url  1239\n",
      "url  1240\n",
      "url  1241\n"
     ]
    },
    {
     "data": {
      "text/plain": [
       "<selenium.webdriver.remote.webelement.WebElement (session=\"14cc306dfc6cf8a445f83a6ea888a63f\", element=\"BCD938D413241DD43F66A87A83ED3035_element_7871\")>"
      ]
     },
     "execution_count": 5,
     "metadata": {},
     "output_type": "execute_result"
    },
    {
     "name": "stdout",
     "output_type": "stream",
     "text": [
      "page  25 size  6\n",
      "url  1242\n",
      "url  1243\n",
      "url  1244\n",
      "url  1245\n",
      "url  1246\n",
      "url  1247\n"
     ]
    },
    {
     "data": {
      "text/plain": [
       "<selenium.webdriver.remote.webelement.WebElement (session=\"14cc306dfc6cf8a445f83a6ea888a63f\", element=\"7F680377D13D044E8ED042621EDEF547_element_7909\")>"
      ]
     },
     "execution_count": 5,
     "metadata": {},
     "output_type": "execute_result"
    },
    {
     "name": "stdout",
     "output_type": "stream",
     "text": [
      "page  26 size  6\n",
      "url  1248\n",
      "url  1249\n",
      "url  1250\n",
      "url  1251\n",
      "url  1252\n",
      "url  1253\n"
     ]
    },
    {
     "data": {
      "text/plain": [
       "<selenium.webdriver.remote.webelement.WebElement (session=\"14cc306dfc6cf8a445f83a6ea888a63f\", element=\"20961D105AA4818060E505DF25518E1E_element_7949\")>"
      ]
     },
     "execution_count": 5,
     "metadata": {},
     "output_type": "execute_result"
    },
    {
     "name": "stdout",
     "output_type": "stream",
     "text": [
      "page  27 size  6\n",
      "url  1254\n",
      "url  1255\n",
      "url  1256\n",
      "url  1257\n",
      "url  1258\n",
      "url  1259\n"
     ]
    },
    {
     "data": {
      "text/plain": [
       "<selenium.webdriver.remote.webelement.WebElement (session=\"14cc306dfc6cf8a445f83a6ea888a63f\", element=\"ACC337AA3C0C7417AD24397F1DAAB1AB_element_7983\")>"
      ]
     },
     "execution_count": 5,
     "metadata": {},
     "output_type": "execute_result"
    },
    {
     "name": "stdout",
     "output_type": "stream",
     "text": [
      "page  28 size  6\n",
      "url  1260\n",
      "url  1261\n",
      "url  1262\n",
      "url  1263\n",
      "url  1264\n",
      "url  1265\n"
     ]
    },
    {
     "data": {
      "text/plain": [
       "<selenium.webdriver.remote.webelement.WebElement (session=\"14cc306dfc6cf8a445f83a6ea888a63f\", element=\"670CD7E0E073B2649AA330D5363C6386_element_8020\")>"
      ]
     },
     "execution_count": 5,
     "metadata": {},
     "output_type": "execute_result"
    },
    {
     "name": "stdout",
     "output_type": "stream",
     "text": [
      "page  29 size  6\n",
      "url  1266\n",
      "url  1267\n",
      "url  1268\n",
      "url  1269\n",
      "url  1270\n",
      "url  1271\n"
     ]
    },
    {
     "data": {
      "text/plain": [
       "<selenium.webdriver.remote.webelement.WebElement (session=\"14cc306dfc6cf8a445f83a6ea888a63f\", element=\"207F103B5AE086AB31B01B92A627BBF4_element_8055\")>"
      ]
     },
     "execution_count": 5,
     "metadata": {},
     "output_type": "execute_result"
    },
    {
     "name": "stdout",
     "output_type": "stream",
     "text": [
      "page  30 size  6\n",
      "url  1272\n",
      "url  1273\n",
      "url  1274\n",
      "url  1275\n",
      "url  1276\n",
      "url  1277\n"
     ]
    },
    {
     "data": {
      "text/plain": [
       "<selenium.webdriver.remote.webelement.WebElement (session=\"14cc306dfc6cf8a445f83a6ea888a63f\", element=\"5A5D1BF8ACA9942F009BD7F561A277E7_element_8091\")>"
      ]
     },
     "execution_count": 5,
     "metadata": {},
     "output_type": "execute_result"
    },
    {
     "name": "stdout",
     "output_type": "stream",
     "text": [
      "page  31 size  6\n",
      "url  1278\n",
      "url  1279\n",
      "url  1280\n",
      "url  1281\n",
      "url  1282\n",
      "url  1283\n"
     ]
    },
    {
     "data": {
      "text/plain": [
       "<selenium.webdriver.remote.webelement.WebElement (session=\"14cc306dfc6cf8a445f83a6ea888a63f\", element=\"7A9316CD9F4BBCC8CE2E7A342F304AB0_element_8137\")>"
      ]
     },
     "execution_count": 5,
     "metadata": {},
     "output_type": "execute_result"
    },
    {
     "name": "stdout",
     "output_type": "stream",
     "text": [
      "page  32 size  6\n",
      "url  1284\n",
      "url  1285\n",
      "url  1286\n",
      "url  1287\n",
      "url  1288\n",
      "url  1289\n"
     ]
    },
    {
     "data": {
      "text/plain": [
       "<selenium.webdriver.remote.webelement.WebElement (session=\"14cc306dfc6cf8a445f83a6ea888a63f\", element=\"569E7C0196FE58C7C51D447DAA5741C0_element_8174\")>"
      ]
     },
     "execution_count": 5,
     "metadata": {},
     "output_type": "execute_result"
    },
    {
     "name": "stdout",
     "output_type": "stream",
     "text": [
      "page  33 size  6\n",
      "url  1290\n",
      "url  1291\n",
      "url  1292\n",
      "url  1293\n",
      "url  1294\n",
      "url  1295\n"
     ]
    },
    {
     "data": {
      "text/plain": [
       "<selenium.webdriver.remote.webelement.WebElement (session=\"14cc306dfc6cf8a445f83a6ea888a63f\", element=\"8F1A694D6F71497E5E48EABEF73C8A63_element_8205\")>"
      ]
     },
     "execution_count": 5,
     "metadata": {},
     "output_type": "execute_result"
    },
    {
     "name": "stdout",
     "output_type": "stream",
     "text": [
      "page  34 size  6\n",
      "url  1296\n",
      "url  1297\n",
      "url  1298\n",
      "url  1299\n",
      "url  1300\n",
      "url  1301\n"
     ]
    },
    {
     "data": {
      "text/plain": [
       "<selenium.webdriver.remote.webelement.WebElement (session=\"14cc306dfc6cf8a445f83a6ea888a63f\", element=\"AB10F5BB2222F1D5B1264DC2A40E54DA_element_8247\")>"
      ]
     },
     "execution_count": 5,
     "metadata": {},
     "output_type": "execute_result"
    },
    {
     "name": "stdout",
     "output_type": "stream",
     "text": [
      "page  35 size  6\n",
      "url  1302\n",
      "url  1303\n",
      "url  1304\n",
      "url  1305\n",
      "url  1306\n",
      "url  1307\n"
     ]
    },
    {
     "data": {
      "text/plain": [
       "<selenium.webdriver.remote.webelement.WebElement (session=\"14cc306dfc6cf8a445f83a6ea888a63f\", element=\"2B865E89C5192614F80EA6B7366D2902_element_8305\")>"
      ]
     },
     "execution_count": 5,
     "metadata": {},
     "output_type": "execute_result"
    },
    {
     "name": "stdout",
     "output_type": "stream",
     "text": [
      "page  36 size  6\n",
      "url  1308\n",
      "url  1309\n",
      "url  1310\n",
      "url  1311\n",
      "url  1312\n",
      "url  1313\n"
     ]
    },
    {
     "data": {
      "text/plain": [
       "<selenium.webdriver.remote.webelement.WebElement (session=\"14cc306dfc6cf8a445f83a6ea888a63f\", element=\"DDBF520BC638EE479E5FF2A8D07BE261_element_8339\")>"
      ]
     },
     "execution_count": 5,
     "metadata": {},
     "output_type": "execute_result"
    },
    {
     "name": "stdout",
     "output_type": "stream",
     "text": [
      "page  37 size  6\n",
      "url  1314\n",
      "url  1315\n",
      "url  1316\n",
      "url  1317\n",
      "url  1318\n",
      "url  1319\n"
     ]
    },
    {
     "data": {
      "text/plain": [
       "<selenium.webdriver.remote.webelement.WebElement (session=\"14cc306dfc6cf8a445f83a6ea888a63f\", element=\"9ACF25EF7FA3EA5D3E717B9062DB545C_element_8378\")>"
      ]
     },
     "execution_count": 5,
     "metadata": {},
     "output_type": "execute_result"
    },
    {
     "name": "stdout",
     "output_type": "stream",
     "text": [
      "page  38 size  6\n",
      "url  1320\n",
      "url  1321\n",
      "url  1322\n",
      "url  1323\n",
      "url  1324\n",
      "url  1325\n"
     ]
    },
    {
     "data": {
      "text/plain": [
       "<selenium.webdriver.remote.webelement.WebElement (session=\"14cc306dfc6cf8a445f83a6ea888a63f\", element=\"5A6ABC76D0281E3934420E1B45636E19_element_8415\")>"
      ]
     },
     "execution_count": 5,
     "metadata": {},
     "output_type": "execute_result"
    },
    {
     "name": "stdout",
     "output_type": "stream",
     "text": [
      "page  39 size  6\n",
      "url  1326\n",
      "url  1327\n",
      "url  1328\n",
      "url  1329\n",
      "url  1330\n",
      "url  1331\n"
     ]
    },
    {
     "data": {
      "text/plain": [
       "<selenium.webdriver.remote.webelement.WebElement (session=\"14cc306dfc6cf8a445f83a6ea888a63f\", element=\"7507D58BDFB4B2C59D6485D814E41948_element_8457\")>"
      ]
     },
     "execution_count": 5,
     "metadata": {},
     "output_type": "execute_result"
    },
    {
     "name": "stdout",
     "output_type": "stream",
     "text": [
      "page  40 size  6\n",
      "url  1332\n",
      "url  1333\n",
      "url  1334\n",
      "url  1335\n",
      "url  1336\n",
      "url  1337\n"
     ]
    },
    {
     "data": {
      "text/plain": [
       "<selenium.webdriver.remote.webelement.WebElement (session=\"14cc306dfc6cf8a445f83a6ea888a63f\", element=\"3E30CDA8F30A5D8688CA64683F898F1F_element_8487\")>"
      ]
     },
     "execution_count": 5,
     "metadata": {},
     "output_type": "execute_result"
    },
    {
     "name": "stdout",
     "output_type": "stream",
     "text": [
      "page  41 size  6\n",
      "url  1338\n",
      "url  1339\n",
      "url  1340\n",
      "url  1341\n",
      "url  1342\n",
      "url  1343\n"
     ]
    },
    {
     "data": {
      "text/plain": [
       "<selenium.webdriver.remote.webelement.WebElement (session=\"14cc306dfc6cf8a445f83a6ea888a63f\", element=\"D6A88C7C096EDD79FF5B542A3EFB58C4_element_8524\")>"
      ]
     },
     "execution_count": 5,
     "metadata": {},
     "output_type": "execute_result"
    },
    {
     "name": "stdout",
     "output_type": "stream",
     "text": [
      "page  42 size  6\n",
      "url  1344\n",
      "url  1345\n",
      "url  1346\n",
      "url  1347\n",
      "url  1348\n",
      "url  1349\n"
     ]
    },
    {
     "data": {
      "text/plain": [
       "<selenium.webdriver.remote.webelement.WebElement (session=\"14cc306dfc6cf8a445f83a6ea888a63f\", element=\"7199B79FF45D83D7A97000761B08E3D4_element_8561\")>"
      ]
     },
     "execution_count": 5,
     "metadata": {},
     "output_type": "execute_result"
    },
    {
     "name": "stdout",
     "output_type": "stream",
     "text": [
      "page  43 size  6\n",
      "url  1350\n",
      "url  1351\n",
      "url  1352\n",
      "url  1353\n",
      "url  1354\n",
      "url  1355\n"
     ]
    },
    {
     "data": {
      "text/plain": [
       "<selenium.webdriver.remote.webelement.WebElement (session=\"14cc306dfc6cf8a445f83a6ea888a63f\", element=\"0EE09B4EED96AC23227A8D5F595767C5_element_8597\")>"
      ]
     },
     "execution_count": 5,
     "metadata": {},
     "output_type": "execute_result"
    },
    {
     "name": "stdout",
     "output_type": "stream",
     "text": [
      "page  44 size  6\n",
      "url  1356\n",
      "url  1357\n",
      "url  1358\n",
      "url  1359\n",
      "url  1360\n",
      "url  1361\n"
     ]
    },
    {
     "data": {
      "text/plain": [
       "<selenium.webdriver.remote.webelement.WebElement (session=\"14cc306dfc6cf8a445f83a6ea888a63f\", element=\"2D74C90D0EEB19BFDBAE78E78DFDEFD9_element_8635\")>"
      ]
     },
     "execution_count": 5,
     "metadata": {},
     "output_type": "execute_result"
    },
    {
     "name": "stdout",
     "output_type": "stream",
     "text": [
      "page  45 size  6\n",
      "url  1362\n",
      "url  1363\n",
      "url  1364\n",
      "url  1365\n",
      "url  1366\n",
      "url  1367\n"
     ]
    },
    {
     "data": {
      "text/plain": [
       "<selenium.webdriver.remote.webelement.WebElement (session=\"14cc306dfc6cf8a445f83a6ea888a63f\", element=\"5E153B6546F044BDC9B1A2ECEB7F5129_element_8679\")>"
      ]
     },
     "execution_count": 5,
     "metadata": {},
     "output_type": "execute_result"
    },
    {
     "name": "stdout",
     "output_type": "stream",
     "text": [
      "page  46 size  6\n",
      "url  1368\n",
      "url  1369\n",
      "url  1370\n",
      "url  1371\n",
      "url  1372\n",
      "url  1373\n"
     ]
    },
    {
     "data": {
      "text/plain": [
       "<selenium.webdriver.remote.webelement.WebElement (session=\"14cc306dfc6cf8a445f83a6ea888a63f\", element=\"0766A7694A96B207AAC7FBAF1881D896_element_8704\")>"
      ]
     },
     "execution_count": 5,
     "metadata": {},
     "output_type": "execute_result"
    },
    {
     "name": "stdout",
     "output_type": "stream",
     "text": [
      "page  47 size  6\n",
      "url  1374\n",
      "url  1375\n",
      "url  1376\n",
      "url  1377\n",
      "url  1378\n",
      "url  1379\n"
     ]
    },
    {
     "data": {
      "text/plain": [
       "<selenium.webdriver.remote.webelement.WebElement (session=\"14cc306dfc6cf8a445f83a6ea888a63f\", element=\"B7B4AA8AF3F70B509C54B75828102F8B_element_8769\")>"
      ]
     },
     "execution_count": 5,
     "metadata": {},
     "output_type": "execute_result"
    },
    {
     "name": "stdout",
     "output_type": "stream",
     "text": [
      "page  48 size  6\n",
      "url  1380\n",
      "url  1381\n",
      "url  1382\n",
      "url  1383\n",
      "url  1384\n",
      "url  1385\n"
     ]
    },
    {
     "data": {
      "text/plain": [
       "<selenium.webdriver.remote.webelement.WebElement (session=\"14cc306dfc6cf8a445f83a6ea888a63f\", element=\"8B40E58BB3EDBF35BD12921687072443_element_8801\")>"
      ]
     },
     "execution_count": 5,
     "metadata": {},
     "output_type": "execute_result"
    },
    {
     "name": "stdout",
     "output_type": "stream",
     "text": [
      "page  49 size  6\n",
      "url  1386\n",
      "url  1387\n",
      "url  1388\n",
      "url  1389\n",
      "url  1390\n",
      "url  1391\n"
     ]
    },
    {
     "data": {
      "text/plain": [
       "<selenium.webdriver.remote.webelement.WebElement (session=\"14cc306dfc6cf8a445f83a6ea888a63f\", element=\"6845389ECE8241CEB54EFB74856B0035_element_8837\")>"
      ]
     },
     "execution_count": 5,
     "metadata": {},
     "output_type": "execute_result"
    },
    {
     "name": "stdout",
     "output_type": "stream",
     "text": [
      "page  50 size  6\n",
      "url  1392\n",
      "url  1393\n",
      "url  1394\n",
      "url  1395\n",
      "url  1396\n",
      "url  1397\n"
     ]
    },
    {
     "data": {
      "text/plain": [
       "<selenium.webdriver.remote.webelement.WebElement (session=\"14cc306dfc6cf8a445f83a6ea888a63f\", element=\"761200FA5F9D5E05C5269ABF9EDDA38A_element_8877\")>"
      ]
     },
     "execution_count": 5,
     "metadata": {},
     "output_type": "execute_result"
    },
    {
     "name": "stdout",
     "output_type": "stream",
     "text": [
      "page  51 size  6\n",
      "url  1398\n",
      "url  1399\n",
      "url  1400\n",
      "url  1401\n",
      "url  1402\n",
      "url  1403\n"
     ]
    },
    {
     "data": {
      "text/plain": [
       "<selenium.webdriver.remote.webelement.WebElement (session=\"14cc306dfc6cf8a445f83a6ea888a63f\", element=\"BEF94B7ED3F24AF80FDD0D84146AE66A_element_8911\")>"
      ]
     },
     "execution_count": 5,
     "metadata": {},
     "output_type": "execute_result"
    },
    {
     "name": "stdout",
     "output_type": "stream",
     "text": [
      "page  52 size  6\n",
      "url  1404\n",
      "url  1405\n",
      "url  1406\n",
      "url  1407\n",
      "url  1408\n",
      "url  1409\n"
     ]
    },
    {
     "data": {
      "text/plain": [
       "<selenium.webdriver.remote.webelement.WebElement (session=\"14cc306dfc6cf8a445f83a6ea888a63f\", element=\"33EC833C7C68C8847F20906E6B480ED8_element_8945\")>"
      ]
     },
     "execution_count": 5,
     "metadata": {},
     "output_type": "execute_result"
    },
    {
     "name": "stdout",
     "output_type": "stream",
     "text": [
      "page  53 size  6\n",
      "url  1410\n",
      "url  1411\n",
      "url  1412\n",
      "url  1413\n",
      "url  1414\n",
      "url  1415\n"
     ]
    },
    {
     "data": {
      "text/plain": [
       "<selenium.webdriver.remote.webelement.WebElement (session=\"14cc306dfc6cf8a445f83a6ea888a63f\", element=\"4FF9D7FE2F916967F279360748227430_element_8981\")>"
      ]
     },
     "execution_count": 5,
     "metadata": {},
     "output_type": "execute_result"
    },
    {
     "name": "stdout",
     "output_type": "stream",
     "text": [
      "page  54 size  6\n",
      "url  1416\n",
      "url  1417\n",
      "url  1418\n",
      "url  1419\n",
      "url  1420\n",
      "url  1421\n"
     ]
    },
    {
     "data": {
      "text/plain": [
       "<selenium.webdriver.remote.webelement.WebElement (session=\"14cc306dfc6cf8a445f83a6ea888a63f\", element=\"863192D2C2D87831E354238216662B4E_element_9021\")>"
      ]
     },
     "execution_count": 5,
     "metadata": {},
     "output_type": "execute_result"
    },
    {
     "name": "stdout",
     "output_type": "stream",
     "text": [
      "page  55 size  6\n",
      "url  1422\n",
      "url  1423\n",
      "url  1424\n",
      "url  1425\n",
      "url  1426\n",
      "url  1427\n"
     ]
    },
    {
     "data": {
      "text/plain": [
       "<selenium.webdriver.remote.webelement.WebElement (session=\"14cc306dfc6cf8a445f83a6ea888a63f\", element=\"046B4CA6E6DFD1A644A7CF729BB01460_element_9051\")>"
      ]
     },
     "execution_count": 5,
     "metadata": {},
     "output_type": "execute_result"
    },
    {
     "name": "stdout",
     "output_type": "stream",
     "text": [
      "page  56 size  6\n",
      "url  1428\n",
      "url  1429\n",
      "url  1430\n",
      "url  1431\n",
      "url  1432\n",
      "url  1433\n"
     ]
    },
    {
     "data": {
      "text/plain": [
       "<selenium.webdriver.remote.webelement.WebElement (session=\"14cc306dfc6cf8a445f83a6ea888a63f\", element=\"57716D58EDEEF3E59EBC66B3C803A323_element_9086\")>"
      ]
     },
     "execution_count": 5,
     "metadata": {},
     "output_type": "execute_result"
    },
    {
     "name": "stdout",
     "output_type": "stream",
     "text": [
      "page  57 size  6\n",
      "url  1434\n",
      "url  1435\n",
      "url  1436\n",
      "url  1437\n",
      "url  1438\n",
      "url  1439\n"
     ]
    },
    {
     "data": {
      "text/plain": [
       "<selenium.webdriver.remote.webelement.WebElement (session=\"14cc306dfc6cf8a445f83a6ea888a63f\", element=\"3CC6D8BD4A0AF206EDED2099C91C0780_element_9124\")>"
      ]
     },
     "execution_count": 5,
     "metadata": {},
     "output_type": "execute_result"
    },
    {
     "name": "stdout",
     "output_type": "stream",
     "text": [
      "page  58 size  6\n",
      "url  1440\n",
      "url  1441\n",
      "url  1442\n",
      "url  1443\n",
      "url  1444\n",
      "url  1445\n"
     ]
    },
    {
     "data": {
      "text/plain": [
       "<selenium.webdriver.remote.webelement.WebElement (session=\"14cc306dfc6cf8a445f83a6ea888a63f\", element=\"5437F4705959A8716700DF31283B54B4_element_9166\")>"
      ]
     },
     "execution_count": 5,
     "metadata": {},
     "output_type": "execute_result"
    },
    {
     "name": "stdout",
     "output_type": "stream",
     "text": [
      "page  59 size  6\n",
      "url  1446\n",
      "url  1447\n",
      "url  1448\n",
      "url  1449\n",
      "url  1450\n",
      "url  1451\n"
     ]
    },
    {
     "data": {
      "text/plain": [
       "<selenium.webdriver.remote.webelement.WebElement (session=\"14cc306dfc6cf8a445f83a6ea888a63f\", element=\"FF3B1BF7E2991A932CD63ED3B6F76E17_element_9210\")>"
      ]
     },
     "execution_count": 5,
     "metadata": {},
     "output_type": "execute_result"
    },
    {
     "name": "stdout",
     "output_type": "stream",
     "text": [
      "page  60 size  6\n",
      "url  1452\n",
      "url  1453\n",
      "url  1454\n",
      "url  1455\n",
      "url  1456\n",
      "url  1457\n"
     ]
    },
    {
     "data": {
      "text/plain": [
       "<selenium.webdriver.remote.webelement.WebElement (session=\"14cc306dfc6cf8a445f83a6ea888a63f\", element=\"64ADA586A439464467E456BCABEC34DB_element_9247\")>"
      ]
     },
     "execution_count": 5,
     "metadata": {},
     "output_type": "execute_result"
    },
    {
     "name": "stdout",
     "output_type": "stream",
     "text": [
      "page  61 size  6\n",
      "url  1458\n",
      "url  1459\n",
      "url  1460\n",
      "url  1461\n",
      "url  1462\n",
      "url  1463\n"
     ]
    },
    {
     "data": {
      "text/plain": [
       "<selenium.webdriver.remote.webelement.WebElement (session=\"14cc306dfc6cf8a445f83a6ea888a63f\", element=\"A3EEEC4EFF87456B5DD0DBD69A10F323_element_9280\")>"
      ]
     },
     "execution_count": 5,
     "metadata": {},
     "output_type": "execute_result"
    },
    {
     "name": "stdout",
     "output_type": "stream",
     "text": [
      "page  62 size  6\n",
      "url  1464\n",
      "url  1465\n",
      "url  1466\n",
      "url  1467\n",
      "url  1468\n",
      "url  1469\n"
     ]
    },
    {
     "data": {
      "text/plain": [
       "<selenium.webdriver.remote.webelement.WebElement (session=\"14cc306dfc6cf8a445f83a6ea888a63f\", element=\"3BD6FE334D08C18DE3CED58A066A7A63_element_9314\")>"
      ]
     },
     "execution_count": 5,
     "metadata": {},
     "output_type": "execute_result"
    },
    {
     "name": "stdout",
     "output_type": "stream",
     "text": [
      "page  63 size  6\n",
      "url  1470\n",
      "url  1471\n",
      "url  1472\n",
      "url  1473\n",
      "url  1474\n",
      "url  1475\n"
     ]
    },
    {
     "data": {
      "text/plain": [
       "<selenium.webdriver.remote.webelement.WebElement (session=\"14cc306dfc6cf8a445f83a6ea888a63f\", element=\"AC17509ED4BEA50D5086034FA028BE99_element_9343\")>"
      ]
     },
     "execution_count": 5,
     "metadata": {},
     "output_type": "execute_result"
    },
    {
     "name": "stdout",
     "output_type": "stream",
     "text": [
      "page  64 size  6\n",
      "url  1476\n",
      "url  1477\n",
      "url  1478\n",
      "url  1479\n",
      "url  1480\n",
      "url  1481\n"
     ]
    },
    {
     "data": {
      "text/plain": [
       "<selenium.webdriver.remote.webelement.WebElement (session=\"14cc306dfc6cf8a445f83a6ea888a63f\", element=\"0BFCB3B1BE075B6F121FAA5C2D9AE034_element_9374\")>"
      ]
     },
     "execution_count": 5,
     "metadata": {},
     "output_type": "execute_result"
    },
    {
     "name": "stdout",
     "output_type": "stream",
     "text": [
      "page  65 size  6\n",
      "url  1482\n",
      "url  1483\n",
      "url  1484\n",
      "url  1485\n",
      "url  1486\n",
      "url  1487\n"
     ]
    },
    {
     "data": {
      "text/plain": [
       "<selenium.webdriver.remote.webelement.WebElement (session=\"14cc306dfc6cf8a445f83a6ea888a63f\", element=\"7E16E42F3624649F9092DA4E1905BC71_element_9420\")>"
      ]
     },
     "execution_count": 5,
     "metadata": {},
     "output_type": "execute_result"
    },
    {
     "name": "stdout",
     "output_type": "stream",
     "text": [
      "page  66 size  6\n",
      "url  1488\n",
      "url  1489\n",
      "url  1490\n",
      "url  1491\n",
      "url  1492\n",
      "url  1493\n"
     ]
    },
    {
     "data": {
      "text/plain": [
       "<selenium.webdriver.remote.webelement.WebElement (session=\"14cc306dfc6cf8a445f83a6ea888a63f\", element=\"B1B75B120D09B4252CDEAF0B1D21B54A_element_9452\")>"
      ]
     },
     "execution_count": 5,
     "metadata": {},
     "output_type": "execute_result"
    },
    {
     "name": "stdout",
     "output_type": "stream",
     "text": [
      "page  67 size  6\n",
      "url  1494\n",
      "url  1495\n",
      "url  1496\n",
      "url  1497\n",
      "url  1498\n",
      "url  1499\n"
     ]
    },
    {
     "data": {
      "text/plain": [
       "<selenium.webdriver.remote.webelement.WebElement (session=\"14cc306dfc6cf8a445f83a6ea888a63f\", element=\"B1A9F6579764988BA10CDDCF2BCAD8A0_element_9487\")>"
      ]
     },
     "execution_count": 5,
     "metadata": {},
     "output_type": "execute_result"
    },
    {
     "name": "stdout",
     "output_type": "stream",
     "text": [
      "page  68 size  6\n",
      "url  1500\n",
      "url  1501\n",
      "url  1502\n",
      "url  1503\n",
      "url  1504\n",
      "url  1505\n"
     ]
    },
    {
     "data": {
      "text/plain": [
       "<selenium.webdriver.remote.webelement.WebElement (session=\"14cc306dfc6cf8a445f83a6ea888a63f\", element=\"3E2AD6B97AAF2C6B5265BFE92F8F5CA9_element_9517\")>"
      ]
     },
     "execution_count": 5,
     "metadata": {},
     "output_type": "execute_result"
    },
    {
     "name": "stdout",
     "output_type": "stream",
     "text": [
      "page  69 size  6\n",
      "url  1506\n",
      "url  1507\n",
      "url  1508\n",
      "url  1509\n",
      "url  1510\n",
      "url  1511\n"
     ]
    },
    {
     "data": {
      "text/plain": [
       "<selenium.webdriver.remote.webelement.WebElement (session=\"14cc306dfc6cf8a445f83a6ea888a63f\", element=\"5CDAE5105F12322E02AA857027E17792_element_9553\")>"
      ]
     },
     "execution_count": 5,
     "metadata": {},
     "output_type": "execute_result"
    },
    {
     "name": "stdout",
     "output_type": "stream",
     "text": [
      "page  70 size  6\n",
      "url  1512\n",
      "url  1513\n",
      "url  1514\n",
      "url  1515\n",
      "url  1516\n",
      "url  1517\n"
     ]
    },
    {
     "data": {
      "text/plain": [
       "<selenium.webdriver.remote.webelement.WebElement (session=\"14cc306dfc6cf8a445f83a6ea888a63f\", element=\"4B6032BEF0B3454B041353E2C5BD236F_element_9599\")>"
      ]
     },
     "execution_count": 5,
     "metadata": {},
     "output_type": "execute_result"
    },
    {
     "name": "stdout",
     "output_type": "stream",
     "text": [
      "page  71 size  6\n",
      "url  1518\n",
      "url  1519\n",
      "url  1520\n",
      "url  1521\n",
      "url  1522\n",
      "url  1523\n"
     ]
    },
    {
     "data": {
      "text/plain": [
       "<selenium.webdriver.remote.webelement.WebElement (session=\"14cc306dfc6cf8a445f83a6ea888a63f\", element=\"16758C021AB7E37B3AEADFA65CEAB85C_element_9647\")>"
      ]
     },
     "execution_count": 5,
     "metadata": {},
     "output_type": "execute_result"
    },
    {
     "name": "stdout",
     "output_type": "stream",
     "text": [
      "page  72 size  6\n",
      "url  1524\n",
      "url  1525\n",
      "url  1526\n",
      "url  1527\n",
      "url  1528\n",
      "url  1529\n"
     ]
    },
    {
     "data": {
      "text/plain": [
       "<selenium.webdriver.remote.webelement.WebElement (session=\"14cc306dfc6cf8a445f83a6ea888a63f\", element=\"C156C266C461BD2576434EA0EB5422EA_element_9681\")>"
      ]
     },
     "execution_count": 5,
     "metadata": {},
     "output_type": "execute_result"
    },
    {
     "name": "stdout",
     "output_type": "stream",
     "text": [
      "page  73 size  6\n",
      "url  1530\n",
      "url  1531\n",
      "url  1532\n",
      "url  1533\n",
      "url  1534\n",
      "url  1535\n"
     ]
    },
    {
     "data": {
      "text/plain": [
       "<selenium.webdriver.remote.webelement.WebElement (session=\"14cc306dfc6cf8a445f83a6ea888a63f\", element=\"B922FAE2E5CC66C3CF1028EBD82C5DC8_element_9712\")>"
      ]
     },
     "execution_count": 5,
     "metadata": {},
     "output_type": "execute_result"
    },
    {
     "name": "stdout",
     "output_type": "stream",
     "text": [
      "page  74 size  6\n",
      "url  1536\n",
      "url  1537\n",
      "url  1538\n",
      "url  1539\n",
      "url  1540\n",
      "url  1541\n"
     ]
    },
    {
     "data": {
      "text/plain": [
       "<selenium.webdriver.remote.webelement.WebElement (session=\"14cc306dfc6cf8a445f83a6ea888a63f\", element=\"9342BC0B6BE47CE26C5D5EB7A62D0797_element_9752\")>"
      ]
     },
     "execution_count": 5,
     "metadata": {},
     "output_type": "execute_result"
    },
    {
     "name": "stdout",
     "output_type": "stream",
     "text": [
      "page  75 size  6\n",
      "url  1542\n",
      "url  1543\n",
      "url  1544\n",
      "url  1545\n",
      "url  1546\n",
      "url  1547\n"
     ]
    },
    {
     "data": {
      "text/plain": [
       "<selenium.webdriver.remote.webelement.WebElement (session=\"14cc306dfc6cf8a445f83a6ea888a63f\", element=\"122D7BE42F183F3165F6CA8BC4773910_element_9799\")>"
      ]
     },
     "execution_count": 5,
     "metadata": {},
     "output_type": "execute_result"
    },
    {
     "name": "stdout",
     "output_type": "stream",
     "text": [
      "page  76 size  6\n",
      "url  1548\n",
      "url  1549\n",
      "url  1550\n",
      "url  1551\n",
      "url  1552\n",
      "url  1553\n"
     ]
    },
    {
     "data": {
      "text/plain": [
       "<selenium.webdriver.remote.webelement.WebElement (session=\"14cc306dfc6cf8a445f83a6ea888a63f\", element=\"DCF2F973CB3AB8F62EBAC7A7D611B840_element_9837\")>"
      ]
     },
     "execution_count": 5,
     "metadata": {},
     "output_type": "execute_result"
    },
    {
     "name": "stdout",
     "output_type": "stream",
     "text": [
      "page  77 size  6\n",
      "url  1554\n",
      "url  1555\n",
      "url  1556\n",
      "url  1557\n",
      "url  1558\n",
      "url  1559\n"
     ]
    },
    {
     "data": {
      "text/plain": [
       "<selenium.webdriver.remote.webelement.WebElement (session=\"14cc306dfc6cf8a445f83a6ea888a63f\", element=\"C5291053C5E3A11E09E5B6CB0E25BB96_element_9873\")>"
      ]
     },
     "execution_count": 5,
     "metadata": {},
     "output_type": "execute_result"
    },
    {
     "name": "stdout",
     "output_type": "stream",
     "text": [
      "page  78 size  6\n",
      "url  1560\n",
      "url  1561\n",
      "url  1562\n",
      "url  1563\n",
      "url  1564\n",
      "url  1565\n"
     ]
    },
    {
     "data": {
      "text/plain": [
       "<selenium.webdriver.remote.webelement.WebElement (session=\"14cc306dfc6cf8a445f83a6ea888a63f\", element=\"FEEFB34C360860390B2395D667418D21_element_9903\")>"
      ]
     },
     "execution_count": 5,
     "metadata": {},
     "output_type": "execute_result"
    },
    {
     "name": "stdout",
     "output_type": "stream",
     "text": [
      "page  79 size  6\n",
      "url  1566\n",
      "url  1567\n",
      "url  1568\n",
      "url  1569\n",
      "url  1570\n",
      "url  1571\n"
     ]
    },
    {
     "data": {
      "text/plain": [
       "<selenium.webdriver.remote.webelement.WebElement (session=\"14cc306dfc6cf8a445f83a6ea888a63f\", element=\"548B6693D60EA6444D165DD56151F49F_element_9952\")>"
      ]
     },
     "execution_count": 5,
     "metadata": {},
     "output_type": "execute_result"
    },
    {
     "name": "stdout",
     "output_type": "stream",
     "text": [
      "page  80 size  6\n",
      "url  1572\n",
      "url  1573\n",
      "url  1574\n",
      "url  1575\n",
      "url  1576\n",
      "url  1577\n"
     ]
    },
    {
     "data": {
      "text/plain": [
       "<selenium.webdriver.remote.webelement.WebElement (session=\"14cc306dfc6cf8a445f83a6ea888a63f\", element=\"CBB577022425413F05BEA62118409746_element_9988\")>"
      ]
     },
     "execution_count": 5,
     "metadata": {},
     "output_type": "execute_result"
    },
    {
     "name": "stdout",
     "output_type": "stream",
     "text": [
      "page  81 size  6\n",
      "url  1578\n",
      "url  1579\n",
      "url  1580\n",
      "url  1581\n",
      "url  1582\n",
      "url  1583\n"
     ]
    },
    {
     "data": {
      "text/plain": [
       "<selenium.webdriver.remote.webelement.WebElement (session=\"14cc306dfc6cf8a445f83a6ea888a63f\", element=\"A3E2F5D4CEDFF0F30F30F7E18E5D07F9_element_10019\")>"
      ]
     },
     "execution_count": 5,
     "metadata": {},
     "output_type": "execute_result"
    },
    {
     "name": "stdout",
     "output_type": "stream",
     "text": [
      "page  82 size  6\n",
      "url  1584\n",
      "url  1585\n",
      "url  1586\n",
      "url  1587\n",
      "url  1588\n",
      "url  1589\n"
     ]
    },
    {
     "data": {
      "text/plain": [
       "<selenium.webdriver.remote.webelement.WebElement (session=\"14cc306dfc6cf8a445f83a6ea888a63f\", element=\"5C9594F0B2DB045AEC0E8698506F0286_element_10059\")>"
      ]
     },
     "execution_count": 5,
     "metadata": {},
     "output_type": "execute_result"
    },
    {
     "name": "stdout",
     "output_type": "stream",
     "text": [
      "page  83 size  6\n",
      "url  1590\n",
      "url  1591\n",
      "url  1592\n",
      "url  1593\n",
      "url  1594\n",
      "url  1595\n"
     ]
    },
    {
     "data": {
      "text/plain": [
       "<selenium.webdriver.remote.webelement.WebElement (session=\"14cc306dfc6cf8a445f83a6ea888a63f\", element=\"CDA0F11C19B8C6F885799BBB3F5CA6CB_element_10103\")>"
      ]
     },
     "execution_count": 5,
     "metadata": {},
     "output_type": "execute_result"
    },
    {
     "name": "stdout",
     "output_type": "stream",
     "text": [
      "page  84 size  6\n",
      "url  1596\n",
      "url  1597\n",
      "url  1598\n",
      "url  1599\n",
      "url  1600\n",
      "url  1601\n"
     ]
    },
    {
     "data": {
      "text/plain": [
       "<selenium.webdriver.remote.webelement.WebElement (session=\"14cc306dfc6cf8a445f83a6ea888a63f\", element=\"974ED73D20E77B85D5BD7A96B67599C9_element_10140\")>"
      ]
     },
     "execution_count": 5,
     "metadata": {},
     "output_type": "execute_result"
    },
    {
     "name": "stdout",
     "output_type": "stream",
     "text": [
      "page  85 size  6\n",
      "url  1602\n",
      "url  1603\n",
      "url  1604\n",
      "url  1605\n",
      "url  1606\n",
      "url  1607\n"
     ]
    },
    {
     "data": {
      "text/plain": [
       "<selenium.webdriver.remote.webelement.WebElement (session=\"14cc306dfc6cf8a445f83a6ea888a63f\", element=\"956BD08A5E0A14B038D4EE02047D5279_element_10174\")>"
      ]
     },
     "execution_count": 5,
     "metadata": {},
     "output_type": "execute_result"
    },
    {
     "name": "stdout",
     "output_type": "stream",
     "text": [
      "page  86 size  6\n",
      "url  1608\n",
      "url  1609\n",
      "url  1610\n",
      "url  1611\n",
      "url  1612\n",
      "url  1613\n"
     ]
    },
    {
     "data": {
      "text/plain": [
       "<selenium.webdriver.remote.webelement.WebElement (session=\"14cc306dfc6cf8a445f83a6ea888a63f\", element=\"DD43947B961803F4720B71CD28929742_element_10210\")>"
      ]
     },
     "execution_count": 5,
     "metadata": {},
     "output_type": "execute_result"
    },
    {
     "name": "stdout",
     "output_type": "stream",
     "text": [
      "page  87 size  6\n",
      "url  1614\n",
      "url  1615\n",
      "url  1616\n",
      "url  1617\n",
      "url  1618\n",
      "url  1619\n"
     ]
    },
    {
     "data": {
      "text/plain": [
       "<selenium.webdriver.remote.webelement.WebElement (session=\"14cc306dfc6cf8a445f83a6ea888a63f\", element=\"637DE2FE4617C54CE81ED7FDC5167BD3_element_10244\")>"
      ]
     },
     "execution_count": 5,
     "metadata": {},
     "output_type": "execute_result"
    },
    {
     "name": "stdout",
     "output_type": "stream",
     "text": [
      "page  88 size  6\n",
      "url  1620\n",
      "url  1621\n",
      "url  1622\n",
      "url  1623\n",
      "url  1624\n",
      "url  1625\n"
     ]
    },
    {
     "data": {
      "text/plain": [
       "<selenium.webdriver.remote.webelement.WebElement (session=\"14cc306dfc6cf8a445f83a6ea888a63f\", element=\"1B2944D90792218CF7A2ED23278AFE04_element_10280\")>"
      ]
     },
     "execution_count": 5,
     "metadata": {},
     "output_type": "execute_result"
    },
    {
     "name": "stdout",
     "output_type": "stream",
     "text": [
      "page  89 size  6\n",
      "url  1626\n",
      "url  1627\n",
      "url  1628\n",
      "url  1629\n",
      "url  1630\n",
      "url  1631\n"
     ]
    },
    {
     "data": {
      "text/plain": [
       "<selenium.webdriver.remote.webelement.WebElement (session=\"14cc306dfc6cf8a445f83a6ea888a63f\", element=\"AE0B16A6A16E9F0DEFB200016DA27AA9_element_10311\")>"
      ]
     },
     "execution_count": 5,
     "metadata": {},
     "output_type": "execute_result"
    },
    {
     "name": "stdout",
     "output_type": "stream",
     "text": [
      "page  90 size  6\n",
      "url  1632\n",
      "url  1633\n",
      "url  1634\n",
      "url  1635\n",
      "url  1636\n",
      "url  1637\n"
     ]
    },
    {
     "data": {
      "text/plain": [
       "<selenium.webdriver.remote.webelement.WebElement (session=\"14cc306dfc6cf8a445f83a6ea888a63f\", element=\"13DF3D058F1D7009BB76587BE7AFA4CF_element_10344\")>"
      ]
     },
     "execution_count": 5,
     "metadata": {},
     "output_type": "execute_result"
    },
    {
     "name": "stdout",
     "output_type": "stream",
     "text": [
      "page  91 size  6\n",
      "url  1638\n",
      "url  1639\n",
      "url  1640\n",
      "url  1641\n",
      "url  1642\n",
      "url  1643\n"
     ]
    },
    {
     "data": {
      "text/plain": [
       "<selenium.webdriver.remote.webelement.WebElement (session=\"14cc306dfc6cf8a445f83a6ea888a63f\", element=\"76B5FC80646B4E4309780D2EB4F66BF4_element_10374\")>"
      ]
     },
     "execution_count": 5,
     "metadata": {},
     "output_type": "execute_result"
    },
    {
     "name": "stdout",
     "output_type": "stream",
     "text": [
      "page  92 size  6\n",
      "url  1644\n",
      "url  1645\n",
      "url  1646\n",
      "url  1647\n",
      "url  1648\n",
      "url  1649\n"
     ]
    },
    {
     "data": {
      "text/plain": [
       "<selenium.webdriver.remote.webelement.WebElement (session=\"14cc306dfc6cf8a445f83a6ea888a63f\", element=\"4AA1125C23901FF5D16B7D52B0A5D845_element_10405\")>"
      ]
     },
     "execution_count": 5,
     "metadata": {},
     "output_type": "execute_result"
    },
    {
     "name": "stdout",
     "output_type": "stream",
     "text": [
      "page  93 size  6\n",
      "url  1650\n",
      "url  1651\n",
      "url  1652\n",
      "url  1653\n",
      "url  1654\n",
      "url  1655\n"
     ]
    },
    {
     "data": {
      "text/plain": [
       "<selenium.webdriver.remote.webelement.WebElement (session=\"14cc306dfc6cf8a445f83a6ea888a63f\", element=\"75CEDEF247E27A6FA8DA2DB5DCC7EE11_element_10441\")>"
      ]
     },
     "execution_count": 5,
     "metadata": {},
     "output_type": "execute_result"
    },
    {
     "name": "stdout",
     "output_type": "stream",
     "text": [
      "page  94 size  6\n",
      "url  1656\n",
      "url  1657\n",
      "url  1658\n",
      "url  1659\n",
      "url  1660\n",
      "url  1661\n"
     ]
    },
    {
     "data": {
      "text/plain": [
       "<selenium.webdriver.remote.webelement.WebElement (session=\"14cc306dfc6cf8a445f83a6ea888a63f\", element=\"E9FCE04CA9EF39335E1C4077BBA631EF_element_10477\")>"
      ]
     },
     "execution_count": 5,
     "metadata": {},
     "output_type": "execute_result"
    },
    {
     "name": "stdout",
     "output_type": "stream",
     "text": [
      "page  95 size  6\n",
      "url  1662\n",
      "url  1663\n",
      "url  1664\n",
      "url  1665\n",
      "url  1666\n",
      "url  1667\n"
     ]
    },
    {
     "data": {
      "text/plain": [
       "<selenium.webdriver.remote.webelement.WebElement (session=\"14cc306dfc6cf8a445f83a6ea888a63f\", element=\"3D872D1D0AA0F89ADF818CAC62D13A7A_element_10528\")>"
      ]
     },
     "execution_count": 5,
     "metadata": {},
     "output_type": "execute_result"
    },
    {
     "name": "stdout",
     "output_type": "stream",
     "text": [
      "page  96 size  6\n",
      "url  1668\n",
      "url  1669\n",
      "url  1670\n",
      "url  1671\n",
      "url  1672\n",
      "url  1673\n"
     ]
    },
    {
     "data": {
      "text/plain": [
       "<selenium.webdriver.remote.webelement.WebElement (session=\"14cc306dfc6cf8a445f83a6ea888a63f\", element=\"B4AB284E6F19ADBAC2542D9632FDAC5C_element_10560\")>"
      ]
     },
     "execution_count": 5,
     "metadata": {},
     "output_type": "execute_result"
    },
    {
     "name": "stdout",
     "output_type": "stream",
     "text": [
      "page  97 size  6\n",
      "url  1674\n",
      "url  1675\n",
      "url  1676\n",
      "url  1677\n",
      "url  1678\n",
      "url  1679\n"
     ]
    },
    {
     "data": {
      "text/plain": [
       "<selenium.webdriver.remote.webelement.WebElement (session=\"14cc306dfc6cf8a445f83a6ea888a63f\", element=\"59289FF7F90D3D24F46D5D6FBB9B0402_element_10594\")>"
      ]
     },
     "execution_count": 5,
     "metadata": {},
     "output_type": "execute_result"
    },
    {
     "name": "stdout",
     "output_type": "stream",
     "text": [
      "page  98 size  6\n",
      "url  1680\n",
      "url  1681\n",
      "url  1682\n",
      "url  1683\n",
      "url  1684\n",
      "url  1685\n"
     ]
    },
    {
     "data": {
      "text/plain": [
       "<selenium.webdriver.remote.webelement.WebElement (session=\"14cc306dfc6cf8a445f83a6ea888a63f\", element=\"5FC6BAA4C83ED975774CEBFEE1DF629B_element_10627\")>"
      ]
     },
     "execution_count": 5,
     "metadata": {},
     "output_type": "execute_result"
    },
    {
     "name": "stdout",
     "output_type": "stream",
     "text": [
      "page  99 size  6\n",
      "url  1686\n",
      "url  1687\n",
      "url  1688\n",
      "url  1689\n",
      "url  1690\n",
      "url  1691\n"
     ]
    },
    {
     "data": {
      "text/plain": [
       "<selenium.webdriver.remote.webelement.WebElement (session=\"14cc306dfc6cf8a445f83a6ea888a63f\", element=\"EACF878ED3F8833430BB5205585D9BAE_element_10659\")>"
      ]
     },
     "execution_count": 5,
     "metadata": {},
     "output_type": "execute_result"
    },
    {
     "name": "stdout",
     "output_type": "stream",
     "text": [
      "page  100 size  6\n",
      "url  1692\n",
      "url  1693\n",
      "url  1694\n",
      "url  1695\n",
      "url  1696\n",
      "url  1697\n"
     ]
    },
    {
     "data": {
      "text/plain": [
       "<selenium.webdriver.remote.webelement.WebElement (session=\"14cc306dfc6cf8a445f83a6ea888a63f\", element=\"8EDB97440C74A8D6B13E82C1916139A0_element_10697\")>"
      ]
     },
     "execution_count": 5,
     "metadata": {},
     "output_type": "execute_result"
    },
    {
     "name": "stdout",
     "output_type": "stream",
     "text": [
      "page  101 size  6\n",
      "url  1698\n",
      "url  1699\n",
      "url  1700\n",
      "url  1701\n",
      "url  1702\n",
      "url  1703\n"
     ]
    },
    {
     "data": {
      "text/plain": [
       "<selenium.webdriver.remote.webelement.WebElement (session=\"14cc306dfc6cf8a445f83a6ea888a63f\", element=\"B04D03139C1EEAC363EEA573A94B2E6B_element_10731\")>"
      ]
     },
     "execution_count": 5,
     "metadata": {},
     "output_type": "execute_result"
    },
    {
     "name": "stdout",
     "output_type": "stream",
     "text": [
      "page  102 size  6\n",
      "url  1704\n",
      "url  1705\n",
      "url  1706\n",
      "url  1707\n",
      "url  1708\n",
      "url  1709\n"
     ]
    },
    {
     "data": {
      "text/plain": [
       "<selenium.webdriver.remote.webelement.WebElement (session=\"14cc306dfc6cf8a445f83a6ea888a63f\", element=\"CA01C314B415F3BB996BAC18865FD20E_element_10769\")>"
      ]
     },
     "execution_count": 5,
     "metadata": {},
     "output_type": "execute_result"
    },
    {
     "name": "stdout",
     "output_type": "stream",
     "text": [
      "page  103 size  6\n",
      "url  1710\n",
      "url  1711\n",
      "url  1712\n",
      "url  1713\n",
      "url  1714\n",
      "url  1715\n"
     ]
    },
    {
     "data": {
      "text/plain": [
       "<selenium.webdriver.remote.webelement.WebElement (session=\"14cc306dfc6cf8a445f83a6ea888a63f\", element=\"86C5B77A53149DC747A4A918E41A45D4_element_10794\")>"
      ]
     },
     "execution_count": 5,
     "metadata": {},
     "output_type": "execute_result"
    },
    {
     "name": "stdout",
     "output_type": "stream",
     "text": [
      "page  104 size  6\n",
      "url  1716\n",
      "url  1717\n",
      "url  1718\n",
      "url  1719\n",
      "url  1720\n",
      "url  1721\n"
     ]
    },
    {
     "data": {
      "text/plain": [
       "<selenium.webdriver.remote.webelement.WebElement (session=\"14cc306dfc6cf8a445f83a6ea888a63f\", element=\"F9A8C07C34044661AF807296616EACD5_element_10839\")>"
      ]
     },
     "execution_count": 5,
     "metadata": {},
     "output_type": "execute_result"
    },
    {
     "name": "stdout",
     "output_type": "stream",
     "text": [
      "page  105 size  6\n",
      "url  1722\n",
      "url  1723\n",
      "url  1724\n",
      "url  1725\n",
      "url  1726\n",
      "url  1727\n"
     ]
    },
    {
     "data": {
      "text/plain": [
       "<selenium.webdriver.remote.webelement.WebElement (session=\"14cc306dfc6cf8a445f83a6ea888a63f\", element=\"68E8D149ACC76AA5EF87C1D113DEF2FC_element_10871\")>"
      ]
     },
     "execution_count": 5,
     "metadata": {},
     "output_type": "execute_result"
    },
    {
     "name": "stdout",
     "output_type": "stream",
     "text": [
      "page  106 size  6\n",
      "url  1728\n",
      "url  1729\n",
      "url  1730\n",
      "url  1731\n",
      "url  1732\n",
      "url  1733\n"
     ]
    },
    {
     "data": {
      "text/plain": [
       "<selenium.webdriver.remote.webelement.WebElement (session=\"14cc306dfc6cf8a445f83a6ea888a63f\", element=\"66C1EB7830B2278F2D656859B85D12F7_element_10915\")>"
      ]
     },
     "execution_count": 5,
     "metadata": {},
     "output_type": "execute_result"
    },
    {
     "name": "stdout",
     "output_type": "stream",
     "text": [
      "page  107 size  6\n",
      "url  1734\n",
      "url  1735\n",
      "url  1736\n",
      "url  1737\n",
      "url  1738\n",
      "url  1739\n"
     ]
    },
    {
     "data": {
      "text/plain": [
       "<selenium.webdriver.remote.webelement.WebElement (session=\"14cc306dfc6cf8a445f83a6ea888a63f\", element=\"3C092EED1D5596078C5BDB4BE6EF2009_element_10967\")>"
      ]
     },
     "execution_count": 5,
     "metadata": {},
     "output_type": "execute_result"
    },
    {
     "name": "stdout",
     "output_type": "stream",
     "text": [
      "page  108 size  6\n",
      "url  1740\n",
      "url  1741\n",
      "url  1742\n",
      "url  1743\n",
      "url  1744\n",
      "url  1745\n"
     ]
    },
    {
     "data": {
      "text/plain": [
       "<selenium.webdriver.remote.webelement.WebElement (session=\"14cc306dfc6cf8a445f83a6ea888a63f\", element=\"CCD08F259EDF62AED4393B9B2AA5FBA4_element_10999\")>"
      ]
     },
     "execution_count": 5,
     "metadata": {},
     "output_type": "execute_result"
    },
    {
     "name": "stdout",
     "output_type": "stream",
     "text": [
      "page  109 size  6\n",
      "url  1746\n",
      "url  1747\n",
      "url  1748\n",
      "url  1749\n",
      "url  1750\n",
      "url  1751\n"
     ]
    },
    {
     "data": {
      "text/plain": [
       "<selenium.webdriver.remote.webelement.WebElement (session=\"14cc306dfc6cf8a445f83a6ea888a63f\", element=\"40BCE253446F29142CC1852CBB0D64E7_element_11034\")>"
      ]
     },
     "execution_count": 5,
     "metadata": {},
     "output_type": "execute_result"
    },
    {
     "name": "stdout",
     "output_type": "stream",
     "text": [
      "page  110 size  6\n",
      "url  1752\n",
      "url  1753\n",
      "url  1754\n",
      "url  1755\n",
      "url  1756\n",
      "url  1757\n"
     ]
    },
    {
     "data": {
      "text/plain": [
       "<selenium.webdriver.remote.webelement.WebElement (session=\"14cc306dfc6cf8a445f83a6ea888a63f\", element=\"B3734E809208CDC8F99A1244996F4347_element_11067\")>"
      ]
     },
     "execution_count": 5,
     "metadata": {},
     "output_type": "execute_result"
    },
    {
     "name": "stdout",
     "output_type": "stream",
     "text": [
      "page  111 size  6\n",
      "url  1758\n",
      "url  1759\n",
      "url  1760\n",
      "url  1761\n",
      "url  1762\n",
      "url  1763\n"
     ]
    },
    {
     "data": {
      "text/plain": [
       "<selenium.webdriver.remote.webelement.WebElement (session=\"14cc306dfc6cf8a445f83a6ea888a63f\", element=\"C122FDDA7737638CE3E57AF384ED3260_element_11104\")>"
      ]
     },
     "execution_count": 5,
     "metadata": {},
     "output_type": "execute_result"
    },
    {
     "name": "stdout",
     "output_type": "stream",
     "text": [
      "page  112 size  6\n",
      "url  1764\n",
      "url  1765\n",
      "url  1766\n",
      "url  1767\n",
      "url  1768\n",
      "url  1769\n"
     ]
    },
    {
     "data": {
      "text/plain": [
       "<selenium.webdriver.remote.webelement.WebElement (session=\"14cc306dfc6cf8a445f83a6ea888a63f\", element=\"B762051F413ADA8502E3E8F619BEA94C_element_11138\")>"
      ]
     },
     "execution_count": 5,
     "metadata": {},
     "output_type": "execute_result"
    },
    {
     "name": "stdout",
     "output_type": "stream",
     "text": [
      "page  113 size  6\n",
      "url  1770\n",
      "url  1771\n",
      "url  1772\n",
      "url  1773\n",
      "url  1774\n",
      "url  1775\n"
     ]
    },
    {
     "data": {
      "text/plain": [
       "<selenium.webdriver.remote.webelement.WebElement (session=\"14cc306dfc6cf8a445f83a6ea888a63f\", element=\"4DD5FE618B401BADC8C4562D46409D01_element_11185\")>"
      ]
     },
     "execution_count": 5,
     "metadata": {},
     "output_type": "execute_result"
    },
    {
     "name": "stdout",
     "output_type": "stream",
     "text": [
      "page  114 size  6\n",
      "url  1776\n",
      "url  1777\n",
      "url  1778\n",
      "url  1779\n",
      "url  1780\n",
      "url  1781\n"
     ]
    },
    {
     "data": {
      "text/plain": [
       "<selenium.webdriver.remote.webelement.WebElement (session=\"14cc306dfc6cf8a445f83a6ea888a63f\", element=\"A46DFEB15C2C8A01116A67F4CF929EA8_element_11220\")>"
      ]
     },
     "execution_count": 5,
     "metadata": {},
     "output_type": "execute_result"
    },
    {
     "name": "stdout",
     "output_type": "stream",
     "text": [
      "page  115 size  6\n",
      "url  1782\n",
      "url  1783\n",
      "url  1784\n",
      "url  1785\n",
      "url  1786\n",
      "url  1787\n"
     ]
    },
    {
     "data": {
      "text/plain": [
       "<selenium.webdriver.remote.webelement.WebElement (session=\"14cc306dfc6cf8a445f83a6ea888a63f\", element=\"2F93364F3B1C3F46124A664F2B0F425A_element_11251\")>"
      ]
     },
     "execution_count": 5,
     "metadata": {},
     "output_type": "execute_result"
    },
    {
     "name": "stdout",
     "output_type": "stream",
     "text": [
      "page  116 size  6\n",
      "url  1788\n",
      "url  1789\n",
      "url  1790\n",
      "url  1791\n",
      "url  1792\n",
      "url  1793\n"
     ]
    },
    {
     "data": {
      "text/plain": [
       "<selenium.webdriver.remote.webelement.WebElement (session=\"14cc306dfc6cf8a445f83a6ea888a63f\", element=\"9DBE97590DBF34DA94A9B3522E65CB45_element_11298\")>"
      ]
     },
     "execution_count": 5,
     "metadata": {},
     "output_type": "execute_result"
    },
    {
     "name": "stdout",
     "output_type": "stream",
     "text": [
      "page  117 size  6\n",
      "url  1794\n",
      "url  1795\n",
      "url  1796\n",
      "url  1797\n",
      "url  1798\n",
      "url  1799\n"
     ]
    },
    {
     "data": {
      "text/plain": [
       "<selenium.webdriver.remote.webelement.WebElement (session=\"14cc306dfc6cf8a445f83a6ea888a63f\", element=\"10AB0499B2A7226C2C2D1254E1E7E0C1_element_11325\")>"
      ]
     },
     "execution_count": 5,
     "metadata": {},
     "output_type": "execute_result"
    },
    {
     "name": "stdout",
     "output_type": "stream",
     "text": [
      "page  118 size  6\n",
      "url  1800\n",
      "url  1801\n",
      "url  1802\n",
      "url  1803\n",
      "url  1804\n",
      "url  1805\n"
     ]
    },
    {
     "data": {
      "text/plain": [
       "<selenium.webdriver.remote.webelement.WebElement (session=\"14cc306dfc6cf8a445f83a6ea888a63f\", element=\"B049E7E85DFDE93E35DA5C02B6128F58_element_11359\")>"
      ]
     },
     "execution_count": 5,
     "metadata": {},
     "output_type": "execute_result"
    },
    {
     "name": "stdout",
     "output_type": "stream",
     "text": [
      "page  119 size  6\n",
      "url  1806\n",
      "url  1807\n",
      "url  1808\n",
      "url  1809\n",
      "url  1810\n",
      "url  1811\n"
     ]
    },
    {
     "data": {
      "text/plain": [
       "<selenium.webdriver.remote.webelement.WebElement (session=\"14cc306dfc6cf8a445f83a6ea888a63f\", element=\"AA9403B87B4CA497DE2DEF062627A39D_element_11398\")>"
      ]
     },
     "execution_count": 5,
     "metadata": {},
     "output_type": "execute_result"
    },
    {
     "name": "stdout",
     "output_type": "stream",
     "text": [
      "page  120 size  6\n",
      "url  1812\n",
      "url  1813\n",
      "url  1814\n",
      "url  1815\n",
      "url  1816\n",
      "url  1817\n"
     ]
    },
    {
     "data": {
      "text/plain": [
       "<selenium.webdriver.remote.webelement.WebElement (session=\"14cc306dfc6cf8a445f83a6ea888a63f\", element=\"79DEAC0D0921FF0FFDF658843A030676_element_11449\")>"
      ]
     },
     "execution_count": 5,
     "metadata": {},
     "output_type": "execute_result"
    },
    {
     "name": "stdout",
     "output_type": "stream",
     "text": [
      "page  121 size  6\n",
      "url  1818\n",
      "url  1819\n",
      "url  1820\n",
      "url  1821\n",
      "url  1822\n",
      "url  1823\n"
     ]
    },
    {
     "data": {
      "text/plain": [
       "<selenium.webdriver.remote.webelement.WebElement (session=\"14cc306dfc6cf8a445f83a6ea888a63f\", element=\"42C679638D84C797DA81619314CCB4DC_element_11484\")>"
      ]
     },
     "execution_count": 5,
     "metadata": {},
     "output_type": "execute_result"
    },
    {
     "name": "stdout",
     "output_type": "stream",
     "text": [
      "page  122 size  6\n",
      "url  1824\n",
      "url  1825\n",
      "url  1826\n",
      "url  1827\n",
      "url  1828\n",
      "url  1829\n"
     ]
    },
    {
     "data": {
      "text/plain": [
       "<selenium.webdriver.remote.webelement.WebElement (session=\"14cc306dfc6cf8a445f83a6ea888a63f\", element=\"54C3D2DACAFC9A32932EBCED712269B0_element_11519\")>"
      ]
     },
     "execution_count": 5,
     "metadata": {},
     "output_type": "execute_result"
    },
    {
     "name": "stdout",
     "output_type": "stream",
     "text": [
      "page  123 size  6\n",
      "url  1830\n",
      "url  1831\n",
      "url  1832\n",
      "url  1833\n",
      "url  1834\n",
      "url  1835\n"
     ]
    },
    {
     "data": {
      "text/plain": [
       "<selenium.webdriver.remote.webelement.WebElement (session=\"14cc306dfc6cf8a445f83a6ea888a63f\", element=\"A7F28ACD9273F67C3E1F40D3078DA09F_element_11568\")>"
      ]
     },
     "execution_count": 5,
     "metadata": {},
     "output_type": "execute_result"
    },
    {
     "name": "stdout",
     "output_type": "stream",
     "text": [
      "page  124 size  6\n",
      "url  1836\n",
      "url  1837\n",
      "url  1838\n",
      "url  1839\n",
      "url  1840\n",
      "url  1841\n"
     ]
    },
    {
     "data": {
      "text/plain": [
       "<selenium.webdriver.remote.webelement.WebElement (session=\"14cc306dfc6cf8a445f83a6ea888a63f\", element=\"334C50E21891D1F5074B8FE99C66840F_element_11607\")>"
      ]
     },
     "execution_count": 5,
     "metadata": {},
     "output_type": "execute_result"
    },
    {
     "name": "stdout",
     "output_type": "stream",
     "text": [
      "page  125 size  6\n",
      "url  1842\n",
      "url  1843\n",
      "url  1844\n",
      "url  1845\n",
      "url  1846\n",
      "url  1847\n"
     ]
    },
    {
     "data": {
      "text/plain": [
       "<selenium.webdriver.remote.webelement.WebElement (session=\"14cc306dfc6cf8a445f83a6ea888a63f\", element=\"E82CAFC8AEFBB7AB7726E751C8D75769_element_11638\")>"
      ]
     },
     "execution_count": 5,
     "metadata": {},
     "output_type": "execute_result"
    },
    {
     "name": "stdout",
     "output_type": "stream",
     "text": [
      "page  126 size  6\n",
      "url  1848\n",
      "url  1849\n",
      "url  1850\n",
      "url  1851\n",
      "url  1852\n",
      "url  1853\n"
     ]
    },
    {
     "data": {
      "text/plain": [
       "<selenium.webdriver.remote.webelement.WebElement (session=\"14cc306dfc6cf8a445f83a6ea888a63f\", element=\"4C10FEC26FDB20BBC708AAB8320D14EF_element_11688\")>"
      ]
     },
     "execution_count": 5,
     "metadata": {},
     "output_type": "execute_result"
    },
    {
     "name": "stdout",
     "output_type": "stream",
     "text": [
      "page  127 size  6\n",
      "url  1854\n",
      "url  1855\n",
      "url  1856\n",
      "url  1857\n",
      "url  1858\n",
      "url  1859\n"
     ]
    },
    {
     "data": {
      "text/plain": [
       "<selenium.webdriver.remote.webelement.WebElement (session=\"14cc306dfc6cf8a445f83a6ea888a63f\", element=\"CB6F778E024592BF0B4A6663082C5CCC_element_11726\")>"
      ]
     },
     "execution_count": 5,
     "metadata": {},
     "output_type": "execute_result"
    },
    {
     "name": "stdout",
     "output_type": "stream",
     "text": [
      "page  128 size  6\n",
      "url  1860\n",
      "url  1861\n",
      "url  1862\n",
      "url  1863\n",
      "url  1864\n",
      "url  1865\n"
     ]
    },
    {
     "data": {
      "text/plain": [
       "<selenium.webdriver.remote.webelement.WebElement (session=\"14cc306dfc6cf8a445f83a6ea888a63f\", element=\"37FF6CE14766EB619AFDFFF0B93634FE_element_11761\")>"
      ]
     },
     "execution_count": 5,
     "metadata": {},
     "output_type": "execute_result"
    },
    {
     "name": "stdout",
     "output_type": "stream",
     "text": [
      "page  129 size  6\n",
      "url  1866\n",
      "url  1867\n",
      "url  1868\n",
      "url  1869\n",
      "url  1870\n",
      "url  1871\n"
     ]
    },
    {
     "data": {
      "text/plain": [
       "<selenium.webdriver.remote.webelement.WebElement (session=\"14cc306dfc6cf8a445f83a6ea888a63f\", element=\"772AA0D34B88266A09440EAE07611011_element_11790\")>"
      ]
     },
     "execution_count": 5,
     "metadata": {},
     "output_type": "execute_result"
    },
    {
     "name": "stdout",
     "output_type": "stream",
     "text": [
      "page  130 size  6\n",
      "url  1872\n",
      "url  1873\n",
      "url  1874\n",
      "url  1875\n",
      "url  1876\n",
      "url  1877\n"
     ]
    },
    {
     "data": {
      "text/plain": [
       "<selenium.webdriver.remote.webelement.WebElement (session=\"14cc306dfc6cf8a445f83a6ea888a63f\", element=\"0E0A6E7F44D84149F9EF913ACD981575_element_11824\")>"
      ]
     },
     "execution_count": 5,
     "metadata": {},
     "output_type": "execute_result"
    },
    {
     "name": "stdout",
     "output_type": "stream",
     "text": [
      "page  131 size  6\n",
      "url  1878\n",
      "url  1879\n",
      "url  1880\n",
      "url  1881\n",
      "url  1882\n",
      "url  1883\n"
     ]
    },
    {
     "data": {
      "text/plain": [
       "<selenium.webdriver.remote.webelement.WebElement (session=\"14cc306dfc6cf8a445f83a6ea888a63f\", element=\"D1457EA66E318135C584558E76BE19B9_element_11863\")>"
      ]
     },
     "execution_count": 5,
     "metadata": {},
     "output_type": "execute_result"
    },
    {
     "name": "stdout",
     "output_type": "stream",
     "text": [
      "page  132 size  6\n",
      "url  1884\n",
      "url  1885\n",
      "url  1886\n",
      "url  1887\n",
      "url  1888\n",
      "url  1889\n"
     ]
    },
    {
     "data": {
      "text/plain": [
       "<selenium.webdriver.remote.webelement.WebElement (session=\"14cc306dfc6cf8a445f83a6ea888a63f\", element=\"3EFAE73E7E1F6B40D9BC8294D0409427_element_11899\")>"
      ]
     },
     "execution_count": 5,
     "metadata": {},
     "output_type": "execute_result"
    },
    {
     "name": "stdout",
     "output_type": "stream",
     "text": [
      "page  133 size  6\n",
      "url  1890\n",
      "url  1891\n",
      "url  1892\n",
      "url  1893\n",
      "url  1894\n",
      "url  1895\n"
     ]
    },
    {
     "data": {
      "text/plain": [
       "<selenium.webdriver.remote.webelement.WebElement (session=\"14cc306dfc6cf8a445f83a6ea888a63f\", element=\"7CF3F379792896F7962BF5DF7235E893_element_11963\")>"
      ]
     },
     "execution_count": 5,
     "metadata": {},
     "output_type": "execute_result"
    },
    {
     "name": "stdout",
     "output_type": "stream",
     "text": [
      "page  134 size  6\n",
      "url  1896\n",
      "url  1897\n",
      "url  1898\n",
      "url  1899\n",
      "url  1900\n",
      "url  1901\n"
     ]
    },
    {
     "data": {
      "text/plain": [
       "<selenium.webdriver.remote.webelement.WebElement (session=\"14cc306dfc6cf8a445f83a6ea888a63f\", element=\"1D31908EB5D3416C514FA87F45E4D8A2_element_11994\")>"
      ]
     },
     "execution_count": 5,
     "metadata": {},
     "output_type": "execute_result"
    },
    {
     "name": "stdout",
     "output_type": "stream",
     "text": [
      "page  135 size  6\n",
      "url  1902\n",
      "url  1903\n",
      "url  1904\n",
      "url  1905\n",
      "url  1906\n",
      "url  1907\n"
     ]
    },
    {
     "data": {
      "text/plain": [
       "<selenium.webdriver.remote.webelement.WebElement (session=\"14cc306dfc6cf8a445f83a6ea888a63f\", element=\"8B676CD29FF9E02611223ADD4D62D2EF_element_12027\")>"
      ]
     },
     "execution_count": 5,
     "metadata": {},
     "output_type": "execute_result"
    },
    {
     "name": "stdout",
     "output_type": "stream",
     "text": [
      "page  136 size  6\n",
      "url  1908\n",
      "url  1909\n",
      "url  1910\n",
      "url  1911\n",
      "url  1912\n",
      "url  1913\n"
     ]
    },
    {
     "data": {
      "text/plain": [
       "<selenium.webdriver.remote.webelement.WebElement (session=\"14cc306dfc6cf8a445f83a6ea888a63f\", element=\"BFD01E5285E1D01A8EAFEA70D25969EC_element_12061\")>"
      ]
     },
     "execution_count": 5,
     "metadata": {},
     "output_type": "execute_result"
    },
    {
     "name": "stdout",
     "output_type": "stream",
     "text": [
      "page  137 size  6\n",
      "url  1914\n",
      "url  1915\n",
      "url  1916\n",
      "url  1917\n",
      "url  1918\n",
      "url  1919\n"
     ]
    },
    {
     "data": {
      "text/plain": [
       "<selenium.webdriver.remote.webelement.WebElement (session=\"14cc306dfc6cf8a445f83a6ea888a63f\", element=\"05ABF3959B242209BBBBD7736416BF74_element_12096\")>"
      ]
     },
     "execution_count": 5,
     "metadata": {},
     "output_type": "execute_result"
    },
    {
     "name": "stdout",
     "output_type": "stream",
     "text": [
      "page  138 size  6\n",
      "url  1920\n",
      "url  1921\n",
      "url  1922\n",
      "url  1923\n",
      "url  1924\n",
      "url  1925\n"
     ]
    },
    {
     "data": {
      "text/plain": [
       "<selenium.webdriver.remote.webelement.WebElement (session=\"14cc306dfc6cf8a445f83a6ea888a63f\", element=\"D4951F2D559D4D78C83911E6280CF7E2_element_12128\")>"
      ]
     },
     "execution_count": 5,
     "metadata": {},
     "output_type": "execute_result"
    },
    {
     "name": "stdout",
     "output_type": "stream",
     "text": [
      "page  139 size  6\n",
      "url  1926\n",
      "url  1927\n",
      "url  1928\n",
      "url  1929\n",
      "url  1930\n",
      "url  1931\n"
     ]
    },
    {
     "data": {
      "text/plain": [
       "<selenium.webdriver.remote.webelement.WebElement (session=\"14cc306dfc6cf8a445f83a6ea888a63f\", element=\"883B4718CDF0DB2DD011808EFC221A68_element_12164\")>"
      ]
     },
     "execution_count": 5,
     "metadata": {},
     "output_type": "execute_result"
    },
    {
     "name": "stdout",
     "output_type": "stream",
     "text": [
      "page  140 size  6\n",
      "url  1932\n",
      "url  1933\n",
      "url  1934\n",
      "url  1935\n",
      "url  1936\n",
      "url  1937\n"
     ]
    },
    {
     "data": {
      "text/plain": [
       "<selenium.webdriver.remote.webelement.WebElement (session=\"14cc306dfc6cf8a445f83a6ea888a63f\", element=\"5B82F419E903869DAA362550B1E8EC56_element_12199\")>"
      ]
     },
     "execution_count": 5,
     "metadata": {},
     "output_type": "execute_result"
    },
    {
     "name": "stdout",
     "output_type": "stream",
     "text": [
      "page  141 size  6\n",
      "url  1938\n",
      "url  1939\n",
      "url  1940\n",
      "url  1941\n",
      "url  1942\n",
      "url  1943\n"
     ]
    },
    {
     "data": {
      "text/plain": [
       "<selenium.webdriver.remote.webelement.WebElement (session=\"14cc306dfc6cf8a445f83a6ea888a63f\", element=\"FF4312B1931CDA93951A8D07C22C70E1_element_12232\")>"
      ]
     },
     "execution_count": 5,
     "metadata": {},
     "output_type": "execute_result"
    },
    {
     "name": "stdout",
     "output_type": "stream",
     "text": [
      "page  142 size  6\n",
      "url  1944\n",
      "url  1945\n",
      "url  1946\n",
      "url  1947\n",
      "url  1948\n",
      "url  1949\n"
     ]
    },
    {
     "data": {
      "text/plain": [
       "<selenium.webdriver.remote.webelement.WebElement (session=\"14cc306dfc6cf8a445f83a6ea888a63f\", element=\"C1D25FE5827B161B728F6594EC35CC29_element_12269\")>"
      ]
     },
     "execution_count": 5,
     "metadata": {},
     "output_type": "execute_result"
    },
    {
     "name": "stdout",
     "output_type": "stream",
     "text": [
      "page  143 size  6\n",
      "url  1950\n",
      "url  1951\n",
      "url  1952\n",
      "url  1953\n",
      "url  1954\n",
      "url  1955\n"
     ]
    },
    {
     "data": {
      "text/plain": [
       "<selenium.webdriver.remote.webelement.WebElement (session=\"14cc306dfc6cf8a445f83a6ea888a63f\", element=\"24D7E79D88BCB516C1E18D86D90A5989_element_12301\")>"
      ]
     },
     "execution_count": 5,
     "metadata": {},
     "output_type": "execute_result"
    },
    {
     "name": "stdout",
     "output_type": "stream",
     "text": [
      "page  144 size  6\n",
      "url  1956\n",
      "url  1957\n",
      "url  1958\n",
      "url  1959\n",
      "url  1960\n",
      "url  1961\n"
     ]
    },
    {
     "data": {
      "text/plain": [
       "<selenium.webdriver.remote.webelement.WebElement (session=\"14cc306dfc6cf8a445f83a6ea888a63f\", element=\"B5A2299408AF48180A3F0F49D9597436_element_12341\")>"
      ]
     },
     "execution_count": 5,
     "metadata": {},
     "output_type": "execute_result"
    },
    {
     "name": "stdout",
     "output_type": "stream",
     "text": [
      "page  145 size  6\n",
      "url  1962\n",
      "url  1963\n",
      "url  1964\n",
      "url  1965\n",
      "url  1966\n",
      "url  1967\n"
     ]
    },
    {
     "data": {
      "text/plain": [
       "<selenium.webdriver.remote.webelement.WebElement (session=\"14cc306dfc6cf8a445f83a6ea888a63f\", element=\"FE88C252ABE1C6F4824BC7BA9ABDCB1C_element_12378\")>"
      ]
     },
     "execution_count": 5,
     "metadata": {},
     "output_type": "execute_result"
    },
    {
     "name": "stdout",
     "output_type": "stream",
     "text": [
      "page  146 size  6\n",
      "url  1968\n",
      "url  1969\n",
      "url  1970\n",
      "url  1971\n",
      "url  1972\n",
      "url  1973\n"
     ]
    },
    {
     "data": {
      "text/plain": [
       "<selenium.webdriver.remote.webelement.WebElement (session=\"14cc306dfc6cf8a445f83a6ea888a63f\", element=\"0B3ABA690A435417ACAA16C4F5DDEE6B_element_12431\")>"
      ]
     },
     "execution_count": 5,
     "metadata": {},
     "output_type": "execute_result"
    },
    {
     "name": "stdout",
     "output_type": "stream",
     "text": [
      "page  147 size  6\n",
      "url  1974\n",
      "url  1975\n",
      "url  1976\n",
      "url  1977\n",
      "url  1978\n",
      "url  1979\n"
     ]
    },
    {
     "data": {
      "text/plain": [
       "<selenium.webdriver.remote.webelement.WebElement (session=\"14cc306dfc6cf8a445f83a6ea888a63f\", element=\"E07FEB4C59CBAF65DDAEAF1A1E594017_element_12479\")>"
      ]
     },
     "execution_count": 5,
     "metadata": {},
     "output_type": "execute_result"
    },
    {
     "name": "stdout",
     "output_type": "stream",
     "text": [
      "page  148 size  6\n",
      "url  1980\n",
      "url  1981\n",
      "url  1982\n",
      "url  1983\n",
      "url  1984\n",
      "url  1985\n"
     ]
    },
    {
     "data": {
      "text/plain": [
       "<selenium.webdriver.remote.webelement.WebElement (session=\"14cc306dfc6cf8a445f83a6ea888a63f\", element=\"F863A1B1B42622BAAABB2745CD8ABAB5_element_12515\")>"
      ]
     },
     "execution_count": 5,
     "metadata": {},
     "output_type": "execute_result"
    },
    {
     "name": "stdout",
     "output_type": "stream",
     "text": [
      "page  149 size  6\n",
      "url  1986\n",
      "url  1987\n",
      "url  1988\n",
      "url  1989\n",
      "url  1990\n",
      "url  1991\n"
     ]
    },
    {
     "data": {
      "text/plain": [
       "<selenium.webdriver.remote.webelement.WebElement (session=\"14cc306dfc6cf8a445f83a6ea888a63f\", element=\"625D5398DEC79FF35774B6F73F187926_element_12554\")>"
      ]
     },
     "execution_count": 5,
     "metadata": {},
     "output_type": "execute_result"
    },
    {
     "name": "stdout",
     "output_type": "stream",
     "text": [
      "page  150 size  6\n",
      "url  1992\n",
      "url  1993\n",
      "url  1994\n",
      "url  1995\n",
      "url  1996\n",
      "url  1997\n"
     ]
    },
    {
     "data": {
      "text/plain": [
       "<selenium.webdriver.remote.webelement.WebElement (session=\"14cc306dfc6cf8a445f83a6ea888a63f\", element=\"DC85E456B34420FF28FA820147C66C9D_element_12593\")>"
      ]
     },
     "execution_count": 5,
     "metadata": {},
     "output_type": "execute_result"
    },
    {
     "name": "stdout",
     "output_type": "stream",
     "text": [
      "page  151 size  6\n",
      "url  1998\n",
      "url  1999\n",
      "url  2000\n",
      "url  2001\n",
      "url  2002\n",
      "url  2003\n"
     ]
    },
    {
     "data": {
      "text/plain": [
       "<selenium.webdriver.remote.webelement.WebElement (session=\"14cc306dfc6cf8a445f83a6ea888a63f\", element=\"FA8519C3065EC15CD5848B0EEBAD4BD1_element_12628\")>"
      ]
     },
     "execution_count": 5,
     "metadata": {},
     "output_type": "execute_result"
    },
    {
     "name": "stdout",
     "output_type": "stream",
     "text": [
      "page  152 size  6\n",
      "url  2004\n",
      "url  2005\n",
      "url  2006\n",
      "url  2007\n",
      "url  2008\n",
      "url  2009\n"
     ]
    },
    {
     "data": {
      "text/plain": [
       "<selenium.webdriver.remote.webelement.WebElement (session=\"14cc306dfc6cf8a445f83a6ea888a63f\", element=\"3CBEDFF9B6F9FAECCD9129ABCD271826_element_12666\")>"
      ]
     },
     "execution_count": 5,
     "metadata": {},
     "output_type": "execute_result"
    },
    {
     "name": "stdout",
     "output_type": "stream",
     "text": [
      "page  153 size  6\n",
      "url  2010\n",
      "url  2011\n",
      "url  2012\n",
      "url  2013\n",
      "url  2014\n",
      "url  2015\n"
     ]
    },
    {
     "data": {
      "text/plain": [
       "<selenium.webdriver.remote.webelement.WebElement (session=\"14cc306dfc6cf8a445f83a6ea888a63f\", element=\"D576E7048B832269A388A57145B34B0F_element_12706\")>"
      ]
     },
     "execution_count": 5,
     "metadata": {},
     "output_type": "execute_result"
    },
    {
     "name": "stdout",
     "output_type": "stream",
     "text": [
      "page  154 size  6\n",
      "url  2016\n",
      "url  2017\n",
      "url  2018\n",
      "url  2019\n",
      "url  2020\n",
      "url  2021\n"
     ]
    },
    {
     "data": {
      "text/plain": [
       "<selenium.webdriver.remote.webelement.WebElement (session=\"14cc306dfc6cf8a445f83a6ea888a63f\", element=\"FB29C8C37ADD750A436705D36330BA5A_element_12738\")>"
      ]
     },
     "execution_count": 5,
     "metadata": {},
     "output_type": "execute_result"
    },
    {
     "name": "stdout",
     "output_type": "stream",
     "text": [
      "page  155 size  6\n",
      "url  2022\n",
      "url  2023\n",
      "url  2024\n",
      "url  2025\n",
      "url  2026\n",
      "url  2027\n"
     ]
    },
    {
     "data": {
      "text/plain": [
       "<selenium.webdriver.remote.webelement.WebElement (session=\"14cc306dfc6cf8a445f83a6ea888a63f\", element=\"EECF94017EDDC6E31902F9A0688ED3A8_element_12770\")>"
      ]
     },
     "execution_count": 5,
     "metadata": {},
     "output_type": "execute_result"
    },
    {
     "name": "stdout",
     "output_type": "stream",
     "text": [
      "page  156 size  6\n",
      "url  2028\n",
      "url  2029\n",
      "url  2030\n",
      "url  2031\n",
      "url  2032\n",
      "url  2033\n"
     ]
    },
    {
     "data": {
      "text/plain": [
       "<selenium.webdriver.remote.webelement.WebElement (session=\"14cc306dfc6cf8a445f83a6ea888a63f\", element=\"DC9ADDFE452D6F316C48B7738CA79E7E_element_12804\")>"
      ]
     },
     "execution_count": 5,
     "metadata": {},
     "output_type": "execute_result"
    },
    {
     "name": "stdout",
     "output_type": "stream",
     "text": [
      "page  157 size  6\n",
      "url  2034\n",
      "url  2035\n",
      "url  2036\n",
      "url  2037\n",
      "url  2038\n",
      "url  2039\n"
     ]
    },
    {
     "data": {
      "text/plain": [
       "<selenium.webdriver.remote.webelement.WebElement (session=\"14cc306dfc6cf8a445f83a6ea888a63f\", element=\"38E85BD73CF010CBF121478BB87664AB_element_12836\")>"
      ]
     },
     "execution_count": 5,
     "metadata": {},
     "output_type": "execute_result"
    },
    {
     "name": "stdout",
     "output_type": "stream",
     "text": [
      "page  158 size  6\n",
      "url  2040\n",
      "url  2041\n",
      "url  2042\n",
      "url  2043\n",
      "url  2044\n",
      "url  2045\n"
     ]
    },
    {
     "data": {
      "text/plain": [
       "<selenium.webdriver.remote.webelement.WebElement (session=\"14cc306dfc6cf8a445f83a6ea888a63f\", element=\"5B3BA8D195E19B959020394357BB2182_element_12877\")>"
      ]
     },
     "execution_count": 5,
     "metadata": {},
     "output_type": "execute_result"
    },
    {
     "name": "stdout",
     "output_type": "stream",
     "text": [
      "page  159 size  6\n",
      "url  2046\n",
      "url  2047\n",
      "url  2048\n",
      "url  2049\n",
      "url  2050\n",
      "url  2051\n"
     ]
    },
    {
     "data": {
      "text/plain": [
       "<selenium.webdriver.remote.webelement.WebElement (session=\"14cc306dfc6cf8a445f83a6ea888a63f\", element=\"DC13A65607AFA8631741DC84D3C83CAD_element_12918\")>"
      ]
     },
     "execution_count": 5,
     "metadata": {},
     "output_type": "execute_result"
    },
    {
     "name": "stdout",
     "output_type": "stream",
     "text": [
      "page  160 size  6\n",
      "url  2052\n",
      "url  2053\n",
      "url  2054\n",
      "url  2055\n",
      "url  2056\n",
      "url  2057\n"
     ]
    },
    {
     "data": {
      "text/plain": [
       "<selenium.webdriver.remote.webelement.WebElement (session=\"14cc306dfc6cf8a445f83a6ea888a63f\", element=\"F1CBE299ACF8F3D49565F3538F206AD9_element_12971\")>"
      ]
     },
     "execution_count": 5,
     "metadata": {},
     "output_type": "execute_result"
    },
    {
     "name": "stdout",
     "output_type": "stream",
     "text": [
      "page  161 size  6\n",
      "url  2058\n",
      "url  2059\n",
      "url  2060\n",
      "url  2061\n",
      "url  2062\n",
      "url  2063\n"
     ]
    },
    {
     "data": {
      "text/plain": [
       "<selenium.webdriver.remote.webelement.WebElement (session=\"14cc306dfc6cf8a445f83a6ea888a63f\", element=\"31AE5A2E6297B3107A67BE48975E5A0D_element_13007\")>"
      ]
     },
     "execution_count": 5,
     "metadata": {},
     "output_type": "execute_result"
    },
    {
     "name": "stdout",
     "output_type": "stream",
     "text": [
      "page  162 size  6\n",
      "url  2064\n",
      "url  2065\n",
      "url  2066\n",
      "url  2067\n",
      "url  2068\n",
      "url  2069\n"
     ]
    },
    {
     "data": {
      "text/plain": [
       "<selenium.webdriver.remote.webelement.WebElement (session=\"14cc306dfc6cf8a445f83a6ea888a63f\", element=\"7B699E89838F5C265436EF47C764EE2D_element_13043\")>"
      ]
     },
     "execution_count": 5,
     "metadata": {},
     "output_type": "execute_result"
    },
    {
     "name": "stdout",
     "output_type": "stream",
     "text": [
      "page  163 size  6\n",
      "url  2070\n",
      "url  2071\n",
      "url  2072\n",
      "url  2073\n",
      "url  2074\n",
      "url  2075\n"
     ]
    },
    {
     "data": {
      "text/plain": [
       "<selenium.webdriver.remote.webelement.WebElement (session=\"14cc306dfc6cf8a445f83a6ea888a63f\", element=\"B5A4259997A7FE1A77CF4C69B45BEE31_element_13092\")>"
      ]
     },
     "execution_count": 5,
     "metadata": {},
     "output_type": "execute_result"
    },
    {
     "name": "stdout",
     "output_type": "stream",
     "text": [
      "page  164 size  6\n",
      "url  2076\n",
      "url  2077\n",
      "url  2078\n",
      "url  2079\n",
      "url  2080\n",
      "url  2081\n"
     ]
    },
    {
     "data": {
      "text/plain": [
       "<selenium.webdriver.remote.webelement.WebElement (session=\"14cc306dfc6cf8a445f83a6ea888a63f\", element=\"355AC2425502890D267A45535FA5C98A_element_13121\")>"
      ]
     },
     "execution_count": 5,
     "metadata": {},
     "output_type": "execute_result"
    },
    {
     "name": "stdout",
     "output_type": "stream",
     "text": [
      "page  165 size  6\n",
      "url  2082\n",
      "url  2083\n",
      "url  2084\n",
      "url  2085\n",
      "url  2086\n",
      "url  2087\n"
     ]
    },
    {
     "data": {
      "text/plain": [
       "<selenium.webdriver.remote.webelement.WebElement (session=\"14cc306dfc6cf8a445f83a6ea888a63f\", element=\"3EB86D5F08ED676603A9F3151AAD0CCE_element_13157\")>"
      ]
     },
     "execution_count": 5,
     "metadata": {},
     "output_type": "execute_result"
    },
    {
     "name": "stdout",
     "output_type": "stream",
     "text": [
      "page  166 size  6\n",
      "url  2088\n",
      "url  2089\n",
      "url  2090\n",
      "url  2091\n",
      "url  2092\n",
      "url  2093\n"
     ]
    },
    {
     "data": {
      "text/plain": [
       "<selenium.webdriver.remote.webelement.WebElement (session=\"14cc306dfc6cf8a445f83a6ea888a63f\", element=\"26FB9778F15F62109D8F5B8295B0108D_element_13190\")>"
      ]
     },
     "execution_count": 5,
     "metadata": {},
     "output_type": "execute_result"
    },
    {
     "name": "stdout",
     "output_type": "stream",
     "text": [
      "page  167 size  6\n",
      "url  2094\n",
      "url  2095\n",
      "url  2096\n",
      "url  2097\n",
      "url  2098\n",
      "url  2099\n"
     ]
    },
    {
     "data": {
      "text/plain": [
       "<selenium.webdriver.remote.webelement.WebElement (session=\"14cc306dfc6cf8a445f83a6ea888a63f\", element=\"F81F02C489C8CDC9FB170EB62B3C4B54_element_13227\")>"
      ]
     },
     "execution_count": 5,
     "metadata": {},
     "output_type": "execute_result"
    },
    {
     "name": "stdout",
     "output_type": "stream",
     "text": [
      "page  168 size  6\n",
      "url  2100\n",
      "url  2101\n",
      "url  2102\n",
      "url  2103\n",
      "url  2104\n",
      "url  2105\n"
     ]
    },
    {
     "data": {
      "text/plain": [
       "<selenium.webdriver.remote.webelement.WebElement (session=\"14cc306dfc6cf8a445f83a6ea888a63f\", element=\"CB18DBE673B311B30565D1727B6A0C7E_element_13261\")>"
      ]
     },
     "execution_count": 5,
     "metadata": {},
     "output_type": "execute_result"
    },
    {
     "name": "stdout",
     "output_type": "stream",
     "text": [
      "page  169 size  6\n",
      "url  2106\n",
      "url  2107\n",
      "url  2108\n",
      "url  2109\n",
      "url  2110\n",
      "url  2111\n"
     ]
    },
    {
     "data": {
      "text/plain": [
       "<selenium.webdriver.remote.webelement.WebElement (session=\"14cc306dfc6cf8a445f83a6ea888a63f\", element=\"284351C1A5A9908B31084C88FE27FBE4_element_13299\")>"
      ]
     },
     "execution_count": 5,
     "metadata": {},
     "output_type": "execute_result"
    },
    {
     "name": "stdout",
     "output_type": "stream",
     "text": [
      "page  170 size  6\n",
      "url  2112\n",
      "url  2113\n",
      "url  2114\n",
      "url  2115\n",
      "url  2116\n",
      "url  2117\n"
     ]
    },
    {
     "data": {
      "text/plain": [
       "<selenium.webdriver.remote.webelement.WebElement (session=\"14cc306dfc6cf8a445f83a6ea888a63f\", element=\"13CBABCD52CE2780BA22084A8D98C4B3_element_13336\")>"
      ]
     },
     "execution_count": 5,
     "metadata": {},
     "output_type": "execute_result"
    },
    {
     "name": "stdout",
     "output_type": "stream",
     "text": [
      "page  171 size  6\n",
      "url  2118\n",
      "url  2119\n",
      "url  2120\n",
      "url  2121\n",
      "url  2122\n",
      "url  2123\n"
     ]
    },
    {
     "data": {
      "text/plain": [
       "<selenium.webdriver.remote.webelement.WebElement (session=\"14cc306dfc6cf8a445f83a6ea888a63f\", element=\"5165678DE116D0258936CC1F27FBB75D_element_13369\")>"
      ]
     },
     "execution_count": 5,
     "metadata": {},
     "output_type": "execute_result"
    },
    {
     "name": "stdout",
     "output_type": "stream",
     "text": [
      "page  172 size  6\n",
      "url  2124\n",
      "url  2125\n",
      "url  2126\n",
      "url  2127\n",
      "url  2128\n",
      "url  2129\n"
     ]
    },
    {
     "data": {
      "text/plain": [
       "<selenium.webdriver.remote.webelement.WebElement (session=\"14cc306dfc6cf8a445f83a6ea888a63f\", element=\"EF4DB7C45FF822FFA5E7DCC3D41B3FEF_element_13408\")>"
      ]
     },
     "execution_count": 5,
     "metadata": {},
     "output_type": "execute_result"
    },
    {
     "name": "stdout",
     "output_type": "stream",
     "text": [
      "page  173 size  6\n",
      "url  2130\n",
      "url  2131\n",
      "url  2132\n",
      "url  2133\n",
      "url  2134\n",
      "url  2135\n"
     ]
    },
    {
     "data": {
      "text/plain": [
       "<selenium.webdriver.remote.webelement.WebElement (session=\"14cc306dfc6cf8a445f83a6ea888a63f\", element=\"DA6E51FB8DF4A3D22848066AC58BD60D_element_13456\")>"
      ]
     },
     "execution_count": 5,
     "metadata": {},
     "output_type": "execute_result"
    },
    {
     "name": "stdout",
     "output_type": "stream",
     "text": [
      "page  174 size  6\n",
      "url  2136\n",
      "url  2137\n",
      "url  2138\n",
      "url  2139\n",
      "url  2140\n",
      "url  2141\n"
     ]
    },
    {
     "data": {
      "text/plain": [
       "<selenium.webdriver.remote.webelement.WebElement (session=\"14cc306dfc6cf8a445f83a6ea888a63f\", element=\"47152E4C6331006FBD4054B8A2C2BFB0_element_13493\")>"
      ]
     },
     "execution_count": 5,
     "metadata": {},
     "output_type": "execute_result"
    },
    {
     "name": "stdout",
     "output_type": "stream",
     "text": [
      "page  175 size  6\n",
      "url  2142\n",
      "url  2143\n",
      "url  2144\n",
      "url  2145\n",
      "url  2146\n",
      "url  2147\n"
     ]
    },
    {
     "data": {
      "text/plain": [
       "<selenium.webdriver.remote.webelement.WebElement (session=\"14cc306dfc6cf8a445f83a6ea888a63f\", element=\"8CA3CA3BEBE4BA6ADC27B6553BF9774A_element_13524\")>"
      ]
     },
     "execution_count": 5,
     "metadata": {},
     "output_type": "execute_result"
    },
    {
     "name": "stdout",
     "output_type": "stream",
     "text": [
      "page  176 size  6\n",
      "url  2148\n",
      "url  2149\n",
      "url  2150\n",
      "url  2151\n",
      "url  2152\n",
      "url  2153\n"
     ]
    },
    {
     "data": {
      "text/plain": [
       "<selenium.webdriver.remote.webelement.WebElement (session=\"14cc306dfc6cf8a445f83a6ea888a63f\", element=\"E0985CF4F774911129119C83C857A22B_element_13560\")>"
      ]
     },
     "execution_count": 5,
     "metadata": {},
     "output_type": "execute_result"
    },
    {
     "name": "stdout",
     "output_type": "stream",
     "text": [
      "page  177 size  6\n",
      "url  2154\n",
      "url  2155\n",
      "url  2156\n",
      "url  2157\n",
      "url  2158\n",
      "url  2159\n"
     ]
    },
    {
     "data": {
      "text/plain": [
       "<selenium.webdriver.remote.webelement.WebElement (session=\"14cc306dfc6cf8a445f83a6ea888a63f\", element=\"A90C324F9C4652E5CCD7E50690688C50_element_13596\")>"
      ]
     },
     "execution_count": 5,
     "metadata": {},
     "output_type": "execute_result"
    },
    {
     "name": "stdout",
     "output_type": "stream",
     "text": [
      "page  178 size  6\n",
      "url  2160\n",
      "url  2161\n",
      "url  2162\n",
      "url  2163\n",
      "url  2164\n",
      "url  2165\n"
     ]
    },
    {
     "data": {
      "text/plain": [
       "<selenium.webdriver.remote.webelement.WebElement (session=\"14cc306dfc6cf8a445f83a6ea888a63f\", element=\"1104535D47B148FFCEAF05A7BE0D8A17_element_13639\")>"
      ]
     },
     "execution_count": 5,
     "metadata": {},
     "output_type": "execute_result"
    },
    {
     "name": "stdout",
     "output_type": "stream",
     "text": [
      "page  179 size  6\n",
      "url  2166\n",
      "url  2167\n",
      "url  2168\n",
      "url  2169\n",
      "url  2170\n",
      "url  2171\n"
     ]
    },
    {
     "data": {
      "text/plain": [
       "<selenium.webdriver.remote.webelement.WebElement (session=\"14cc306dfc6cf8a445f83a6ea888a63f\", element=\"0176E4F00F0B533ED1799F06FC5293FF_element_13691\")>"
      ]
     },
     "execution_count": 5,
     "metadata": {},
     "output_type": "execute_result"
    },
    {
     "name": "stdout",
     "output_type": "stream",
     "text": [
      "page  0 size  12\n",
      "url  2172\n",
      "url  2173\n",
      "url  2174\n",
      "url  2175\n",
      "url  2176\n",
      "url  2177\n",
      "url  2178\n",
      "url  2179\n",
      "url  2180\n",
      "url  2181\n",
      "url  2182\n",
      "url  2183\n"
     ]
    },
    {
     "data": {
      "text/plain": [
       "<selenium.webdriver.remote.webelement.WebElement (session=\"14cc306dfc6cf8a445f83a6ea888a63f\", element=\"DF86E2A83451F7A7CB2639A2AE4246BD_element_13750\")>"
      ]
     },
     "execution_count": 5,
     "metadata": {},
     "output_type": "execute_result"
    },
    {
     "name": "stdout",
     "output_type": "stream",
     "text": [
      "page  1 size  6\n",
      "url  2184\n",
      "url  2185\n",
      "url  2186\n",
      "url  2187\n",
      "url  2188\n",
      "url  2189\n"
     ]
    },
    {
     "data": {
      "text/plain": [
       "<selenium.webdriver.remote.webelement.WebElement (session=\"14cc306dfc6cf8a445f83a6ea888a63f\", element=\"857D1B2C29EDEC2F1BD960D394237412_element_13780\")>"
      ]
     },
     "execution_count": 5,
     "metadata": {},
     "output_type": "execute_result"
    },
    {
     "name": "stdout",
     "output_type": "stream",
     "text": [
      "page  2 size  6\n",
      "url  2190\n",
      "url  2191\n",
      "url  2192\n",
      "url  2193\n",
      "url  2194\n",
      "url  2195\n"
     ]
    },
    {
     "data": {
      "text/plain": [
       "<selenium.webdriver.remote.webelement.WebElement (session=\"14cc306dfc6cf8a445f83a6ea888a63f\", element=\"BDE837F33942593B67B1C08BF5B2DEFD_element_13814\")>"
      ]
     },
     "execution_count": 5,
     "metadata": {},
     "output_type": "execute_result"
    },
    {
     "name": "stdout",
     "output_type": "stream",
     "text": [
      "page  3 size  6\n",
      "url  2196\n",
      "url  2197\n",
      "url  2198\n",
      "url  2199\n",
      "url  2200\n",
      "url  2201\n"
     ]
    },
    {
     "data": {
      "text/plain": [
       "<selenium.webdriver.remote.webelement.WebElement (session=\"14cc306dfc6cf8a445f83a6ea888a63f\", element=\"E9D3F2EDDFE0F938474CAFDDAE2B6044_element_13844\")>"
      ]
     },
     "execution_count": 5,
     "metadata": {},
     "output_type": "execute_result"
    },
    {
     "name": "stdout",
     "output_type": "stream",
     "text": [
      "page  4 size  6\n",
      "url  2202\n",
      "url  2203\n",
      "url  2204\n",
      "url  2205\n",
      "url  2206\n",
      "url  2207\n"
     ]
    },
    {
     "data": {
      "text/plain": [
       "<selenium.webdriver.remote.webelement.WebElement (session=\"14cc306dfc6cf8a445f83a6ea888a63f\", element=\"666681A144CBD119ABD67D4921C895D4_element_13873\")>"
      ]
     },
     "execution_count": 5,
     "metadata": {},
     "output_type": "execute_result"
    },
    {
     "name": "stdout",
     "output_type": "stream",
     "text": [
      "page  5 size  6\n",
      "url  2208\n",
      "url  2209\n",
      "url  2210\n",
      "url  2211\n",
      "url  2212\n",
      "url  2213\n"
     ]
    },
    {
     "data": {
      "text/plain": [
       "<selenium.webdriver.remote.webelement.WebElement (session=\"14cc306dfc6cf8a445f83a6ea888a63f\", element=\"A78809FD967F0BA11C943D171B8D2E49_element_13914\")>"
      ]
     },
     "execution_count": 5,
     "metadata": {},
     "output_type": "execute_result"
    },
    {
     "name": "stdout",
     "output_type": "stream",
     "text": [
      "page  6 size  6\n",
      "url  2214\n",
      "url  2215\n",
      "url  2216\n",
      "url  2217\n",
      "url  2218\n",
      "url  2219\n"
     ]
    },
    {
     "data": {
      "text/plain": [
       "<selenium.webdriver.remote.webelement.WebElement (session=\"14cc306dfc6cf8a445f83a6ea888a63f\", element=\"EBC3AA1377C0D6C9BAF92D6E79F11E59_element_13958\")>"
      ]
     },
     "execution_count": 5,
     "metadata": {},
     "output_type": "execute_result"
    },
    {
     "name": "stdout",
     "output_type": "stream",
     "text": [
      "page  7 size  6\n",
      "url  2220\n",
      "url  2221\n",
      "url  2222\n",
      "url  2223\n",
      "url  2224\n",
      "url  2225\n"
     ]
    },
    {
     "data": {
      "text/plain": [
       "<selenium.webdriver.remote.webelement.WebElement (session=\"14cc306dfc6cf8a445f83a6ea888a63f\", element=\"11EB5412072BADE98E47C585D994B952_element_14000\")>"
      ]
     },
     "execution_count": 5,
     "metadata": {},
     "output_type": "execute_result"
    },
    {
     "name": "stdout",
     "output_type": "stream",
     "text": [
      "page  8 size  6\n",
      "url  2226\n",
      "url  2227\n",
      "url  2228\n",
      "url  2229\n",
      "url  2230\n",
      "url  2231\n"
     ]
    },
    {
     "data": {
      "text/plain": [
       "<selenium.webdriver.remote.webelement.WebElement (session=\"14cc306dfc6cf8a445f83a6ea888a63f\", element=\"3E6226BA2E7AD7EF048FF16BA07A33E5_element_14027\")>"
      ]
     },
     "execution_count": 5,
     "metadata": {},
     "output_type": "execute_result"
    },
    {
     "name": "stdout",
     "output_type": "stream",
     "text": [
      "page  9 size  6\n",
      "url  2232\n",
      "url  2233\n",
      "url  2234\n",
      "url  2235\n",
      "url  2236\n",
      "url  2237\n"
     ]
    },
    {
     "data": {
      "text/plain": [
       "<selenium.webdriver.remote.webelement.WebElement (session=\"14cc306dfc6cf8a445f83a6ea888a63f\", element=\"84E8EA3D2AE2DFEE116DBE0D1DA79FB1_element_14063\")>"
      ]
     },
     "execution_count": 5,
     "metadata": {},
     "output_type": "execute_result"
    },
    {
     "name": "stdout",
     "output_type": "stream",
     "text": [
      "page  10 size  6\n",
      "url  2238\n",
      "url  2239\n",
      "url  2240\n",
      "url  2241\n",
      "url  2242\n",
      "url  2243\n"
     ]
    },
    {
     "data": {
      "text/plain": [
       "<selenium.webdriver.remote.webelement.WebElement (session=\"14cc306dfc6cf8a445f83a6ea888a63f\", element=\"D857B66933F4A7EC6C4C87E492A27C90_element_14102\")>"
      ]
     },
     "execution_count": 5,
     "metadata": {},
     "output_type": "execute_result"
    },
    {
     "name": "stdout",
     "output_type": "stream",
     "text": [
      "page  11 size  6\n",
      "url  2244\n",
      "url  2245\n",
      "url  2246\n",
      "url  2247\n",
      "url  2248\n",
      "url  2249\n"
     ]
    },
    {
     "data": {
      "text/plain": [
       "<selenium.webdriver.remote.webelement.WebElement (session=\"14cc306dfc6cf8a445f83a6ea888a63f\", element=\"D5794E05551F766F44077504BF709BAC_element_14142\")>"
      ]
     },
     "execution_count": 5,
     "metadata": {},
     "output_type": "execute_result"
    },
    {
     "name": "stdout",
     "output_type": "stream",
     "text": [
      "page  12 size  6\n",
      "url  2250\n",
      "url  2251\n",
      "url  2252\n",
      "url  2253\n",
      "url  2254\n",
      "url  2255\n"
     ]
    },
    {
     "data": {
      "text/plain": [
       "<selenium.webdriver.remote.webelement.WebElement (session=\"14cc306dfc6cf8a445f83a6ea888a63f\", element=\"7CE5A5465EF0DB25659F79A146868322_element_14175\")>"
      ]
     },
     "execution_count": 5,
     "metadata": {},
     "output_type": "execute_result"
    },
    {
     "name": "stdout",
     "output_type": "stream",
     "text": [
      "page  13 size  6\n",
      "url  2256\n",
      "url  2257\n",
      "url  2258\n",
      "url  2259\n",
      "url  2260\n",
      "url  2261\n"
     ]
    },
    {
     "data": {
      "text/plain": [
       "<selenium.webdriver.remote.webelement.WebElement (session=\"14cc306dfc6cf8a445f83a6ea888a63f\", element=\"CB2AD3DDA3C7F6F9C3AF95539569922B_element_14208\")>"
      ]
     },
     "execution_count": 5,
     "metadata": {},
     "output_type": "execute_result"
    },
    {
     "name": "stdout",
     "output_type": "stream",
     "text": [
      "page  14 size  6\n",
      "url  2262\n",
      "url  2263\n",
      "url  2264\n",
      "url  2265\n",
      "url  2266\n",
      "url  2267\n"
     ]
    },
    {
     "data": {
      "text/plain": [
       "<selenium.webdriver.remote.webelement.WebElement (session=\"14cc306dfc6cf8a445f83a6ea888a63f\", element=\"1BC320E7CDEB4CB9B107D272EE03D93A_element_14242\")>"
      ]
     },
     "execution_count": 5,
     "metadata": {},
     "output_type": "execute_result"
    },
    {
     "name": "stdout",
     "output_type": "stream",
     "text": [
      "page  15 size  6\n",
      "url  2268\n",
      "url  2269\n",
      "url  2270\n",
      "url  2271\n",
      "url  2272\n",
      "url  2273\n"
     ]
    },
    {
     "data": {
      "text/plain": [
       "<selenium.webdriver.remote.webelement.WebElement (session=\"14cc306dfc6cf8a445f83a6ea888a63f\", element=\"85FED70F315EFE14B9EF82021C30CF73_element_14286\")>"
      ]
     },
     "execution_count": 5,
     "metadata": {},
     "output_type": "execute_result"
    },
    {
     "name": "stdout",
     "output_type": "stream",
     "text": [
      "page  16 size  6\n",
      "url  2274\n",
      "url  2275\n",
      "url  2276\n",
      "url  2277\n",
      "url  2278\n",
      "url  2279\n"
     ]
    },
    {
     "data": {
      "text/plain": [
       "<selenium.webdriver.remote.webelement.WebElement (session=\"14cc306dfc6cf8a445f83a6ea888a63f\", element=\"C390C21BCC70ED465E5A86F810C99295_element_14334\")>"
      ]
     },
     "execution_count": 5,
     "metadata": {},
     "output_type": "execute_result"
    },
    {
     "name": "stdout",
     "output_type": "stream",
     "text": [
      "page  17 size  6\n",
      "url  2280\n",
      "url  2281\n",
      "url  2282\n",
      "url  2283\n",
      "url  2284\n",
      "url  2285\n"
     ]
    },
    {
     "data": {
      "text/plain": [
       "<selenium.webdriver.remote.webelement.WebElement (session=\"14cc306dfc6cf8a445f83a6ea888a63f\", element=\"9D8F96F1802F7B7A2240433C2148172B_element_14367\")>"
      ]
     },
     "execution_count": 5,
     "metadata": {},
     "output_type": "execute_result"
    },
    {
     "name": "stdout",
     "output_type": "stream",
     "text": [
      "page  18 size  6\n",
      "url  2286\n",
      "url  2287\n",
      "url  2288\n",
      "url  2289\n",
      "url  2290\n",
      "url  2291\n"
     ]
    },
    {
     "data": {
      "text/plain": [
       "<selenium.webdriver.remote.webelement.WebElement (session=\"14cc306dfc6cf8a445f83a6ea888a63f\", element=\"26B94FFA73B6D0404D4F11FDC15B82EA_element_14403\")>"
      ]
     },
     "execution_count": 5,
     "metadata": {},
     "output_type": "execute_result"
    },
    {
     "name": "stdout",
     "output_type": "stream",
     "text": [
      "page  19 size  6\n",
      "url  2292\n",
      "url  2293\n",
      "url  2294\n",
      "url  2295\n",
      "url  2296\n",
      "url  2297\n"
     ]
    },
    {
     "data": {
      "text/plain": [
       "<selenium.webdriver.remote.webelement.WebElement (session=\"14cc306dfc6cf8a445f83a6ea888a63f\", element=\"F5FABF8BA9CE74638FCD14BD24D67443_element_14445\")>"
      ]
     },
     "execution_count": 5,
     "metadata": {},
     "output_type": "execute_result"
    },
    {
     "name": "stdout",
     "output_type": "stream",
     "text": [
      "page  20 size  6\n",
      "url  2298\n",
      "url  2299\n",
      "url  2300\n",
      "url  2301\n",
      "url  2302\n",
      "url  2303\n"
     ]
    },
    {
     "data": {
      "text/plain": [
       "<selenium.webdriver.remote.webelement.WebElement (session=\"14cc306dfc6cf8a445f83a6ea888a63f\", element=\"06316D296046BE4F490B346F8E162769_element_14492\")>"
      ]
     },
     "execution_count": 5,
     "metadata": {},
     "output_type": "execute_result"
    },
    {
     "name": "stdout",
     "output_type": "stream",
     "text": [
      "page  21 size  6\n",
      "url  2304\n",
      "url  2305\n",
      "url  2306\n",
      "url  2307\n",
      "url  2308\n",
      "url  2309\n"
     ]
    },
    {
     "data": {
      "text/plain": [
       "<selenium.webdriver.remote.webelement.WebElement (session=\"14cc306dfc6cf8a445f83a6ea888a63f\", element=\"C4E5C636E72ED0478C18F704BA4DF8F6_element_14520\")>"
      ]
     },
     "execution_count": 5,
     "metadata": {},
     "output_type": "execute_result"
    },
    {
     "name": "stdout",
     "output_type": "stream",
     "text": [
      "page  22 size  6\n",
      "url  2310\n",
      "url  2311\n",
      "url  2312\n",
      "url  2313\n",
      "url  2314\n",
      "url  2315\n"
     ]
    },
    {
     "data": {
      "text/plain": [
       "<selenium.webdriver.remote.webelement.WebElement (session=\"14cc306dfc6cf8a445f83a6ea888a63f\", element=\"59EE9D4FAD3196813A8BBE91ED3267A4_element_14558\")>"
      ]
     },
     "execution_count": 5,
     "metadata": {},
     "output_type": "execute_result"
    },
    {
     "name": "stdout",
     "output_type": "stream",
     "text": [
      "page  23 size  6\n",
      "url  2316\n",
      "url  2317\n",
      "url  2318\n",
      "url  2319\n",
      "url  2320\n",
      "url  2321\n"
     ]
    },
    {
     "data": {
      "text/plain": [
       "<selenium.webdriver.remote.webelement.WebElement (session=\"14cc306dfc6cf8a445f83a6ea888a63f\", element=\"95752825AE73E79AA48B5B82069F9366_element_14591\")>"
      ]
     },
     "execution_count": 5,
     "metadata": {},
     "output_type": "execute_result"
    },
    {
     "name": "stdout",
     "output_type": "stream",
     "text": [
      "page  24 size  6\n",
      "url  2322\n",
      "url  2323\n",
      "url  2324\n",
      "url  2325\n",
      "url  2326\n",
      "url  2327\n"
     ]
    },
    {
     "data": {
      "text/plain": [
       "<selenium.webdriver.remote.webelement.WebElement (session=\"14cc306dfc6cf8a445f83a6ea888a63f\", element=\"8FCAC4B99871BB1667A44B539D33C739_element_14624\")>"
      ]
     },
     "execution_count": 5,
     "metadata": {},
     "output_type": "execute_result"
    },
    {
     "name": "stdout",
     "output_type": "stream",
     "text": [
      "page  25 size  6\n",
      "url  2328\n",
      "url  2329\n",
      "url  2330\n",
      "url  2331\n",
      "url  2332\n",
      "url  2333\n"
     ]
    },
    {
     "data": {
      "text/plain": [
       "<selenium.webdriver.remote.webelement.WebElement (session=\"14cc306dfc6cf8a445f83a6ea888a63f\", element=\"98278D48222474347277464760073D40_element_14656\")>"
      ]
     },
     "execution_count": 5,
     "metadata": {},
     "output_type": "execute_result"
    },
    {
     "name": "stdout",
     "output_type": "stream",
     "text": [
      "page  26 size  6\n",
      "url  2334\n",
      "url  2335\n",
      "url  2336\n",
      "url  2337\n",
      "url  2338\n",
      "url  2339\n"
     ]
    },
    {
     "data": {
      "text/plain": [
       "<selenium.webdriver.remote.webelement.WebElement (session=\"14cc306dfc6cf8a445f83a6ea888a63f\", element=\"A8498ACE81439D699377811D1C755C36_element_14711\")>"
      ]
     },
     "execution_count": 5,
     "metadata": {},
     "output_type": "execute_result"
    },
    {
     "name": "stdout",
     "output_type": "stream",
     "text": [
      "page  27 size  6\n",
      "url  2340\n",
      "url  2341\n",
      "url  2342\n",
      "url  2343\n",
      "url  2344\n",
      "url  2345\n"
     ]
    },
    {
     "data": {
      "text/plain": [
       "<selenium.webdriver.remote.webelement.WebElement (session=\"14cc306dfc6cf8a445f83a6ea888a63f\", element=\"5813E83DC8FD6A1A7FD4471B1EC3ACBC_element_14744\")>"
      ]
     },
     "execution_count": 5,
     "metadata": {},
     "output_type": "execute_result"
    },
    {
     "name": "stdout",
     "output_type": "stream",
     "text": [
      "page  28 size  6\n",
      "url  2346\n",
      "url  2347\n",
      "url  2348\n",
      "url  2349\n",
      "url  2350\n",
      "url  2351\n"
     ]
    },
    {
     "data": {
      "text/plain": [
       "<selenium.webdriver.remote.webelement.WebElement (session=\"14cc306dfc6cf8a445f83a6ea888a63f\", element=\"ECF745A95C0A0BC8B7DA5AA0D8D057CB_element_14782\")>"
      ]
     },
     "execution_count": 5,
     "metadata": {},
     "output_type": "execute_result"
    },
    {
     "name": "stdout",
     "output_type": "stream",
     "text": [
      "page  29 size  6\n",
      "url  2352\n",
      "url  2353\n",
      "url  2354\n",
      "url  2355\n",
      "url  2356\n",
      "url  2357\n"
     ]
    },
    {
     "data": {
      "text/plain": [
       "<selenium.webdriver.remote.webelement.WebElement (session=\"14cc306dfc6cf8a445f83a6ea888a63f\", element=\"3D398B870AC19646527CEA7FB1756F77_element_14823\")>"
      ]
     },
     "execution_count": 5,
     "metadata": {},
     "output_type": "execute_result"
    },
    {
     "name": "stdout",
     "output_type": "stream",
     "text": [
      "page  30 size  6\n",
      "url  2358\n",
      "url  2359\n",
      "url  2360\n",
      "url  2361\n",
      "url  2362\n",
      "url  2363\n"
     ]
    },
    {
     "data": {
      "text/plain": [
       "<selenium.webdriver.remote.webelement.WebElement (session=\"14cc306dfc6cf8a445f83a6ea888a63f\", element=\"31E7A684219EF0E0488719D8987DFC74_element_14862\")>"
      ]
     },
     "execution_count": 5,
     "metadata": {},
     "output_type": "execute_result"
    },
    {
     "name": "stdout",
     "output_type": "stream",
     "text": [
      "page  31 size  6\n",
      "url  2364\n",
      "url  2365\n",
      "url  2366\n",
      "url  2367\n",
      "url  2368\n",
      "url  2369\n"
     ]
    },
    {
     "data": {
      "text/plain": [
       "<selenium.webdriver.remote.webelement.WebElement (session=\"14cc306dfc6cf8a445f83a6ea888a63f\", element=\"FBA3AC14543F4E086DCCAD2AD088CC1E_element_14893\")>"
      ]
     },
     "execution_count": 5,
     "metadata": {},
     "output_type": "execute_result"
    },
    {
     "name": "stdout",
     "output_type": "stream",
     "text": [
      "page  32 size  6\n",
      "url  2370\n",
      "url  2371\n",
      "url  2372\n",
      "url  2373\n",
      "url  2374\n",
      "url  2375\n"
     ]
    },
    {
     "data": {
      "text/plain": [
       "<selenium.webdriver.remote.webelement.WebElement (session=\"14cc306dfc6cf8a445f83a6ea888a63f\", element=\"E3EBE5D2EDCF1FF67CF2EB67EE92A9FA_element_14935\")>"
      ]
     },
     "execution_count": 5,
     "metadata": {},
     "output_type": "execute_result"
    },
    {
     "name": "stdout",
     "output_type": "stream",
     "text": [
      "page  33 size  6\n",
      "url  2376\n",
      "url  2377\n",
      "url  2378\n",
      "url  2379\n",
      "url  2380\n",
      "url  2381\n"
     ]
    },
    {
     "data": {
      "text/plain": [
       "<selenium.webdriver.remote.webelement.WebElement (session=\"14cc306dfc6cf8a445f83a6ea888a63f\", element=\"6C4BD6C94B5C5BF797A07DA3EE686EB3_element_14973\")>"
      ]
     },
     "execution_count": 5,
     "metadata": {},
     "output_type": "execute_result"
    },
    {
     "name": "stdout",
     "output_type": "stream",
     "text": [
      "page  34 size  6\n",
      "url  2382\n",
      "url  2383\n",
      "url  2384\n",
      "url  2385\n",
      "url  2386\n",
      "url  2387\n"
     ]
    },
    {
     "data": {
      "text/plain": [
       "<selenium.webdriver.remote.webelement.WebElement (session=\"14cc306dfc6cf8a445f83a6ea888a63f\", element=\"4638E6134C294C06B58AB09BCB10C3FF_element_15033\")>"
      ]
     },
     "execution_count": 5,
     "metadata": {},
     "output_type": "execute_result"
    },
    {
     "name": "stdout",
     "output_type": "stream",
     "text": [
      "page  35 size  6\n",
      "url  2388\n",
      "url  2389\n",
      "url  2390\n",
      "url  2391\n",
      "url  2392\n",
      "url  2393\n"
     ]
    },
    {
     "data": {
      "text/plain": [
       "<selenium.webdriver.remote.webelement.WebElement (session=\"14cc306dfc6cf8a445f83a6ea888a63f\", element=\"4D78157BB0F5DC6AF305EFE7E8CE3F65_element_15069\")>"
      ]
     },
     "execution_count": 5,
     "metadata": {},
     "output_type": "execute_result"
    },
    {
     "name": "stdout",
     "output_type": "stream",
     "text": [
      "page  36 size  6\n",
      "url  2394\n",
      "url  2395\n",
      "url  2396\n",
      "url  2397\n",
      "url  2398\n",
      "url  2399\n"
     ]
    },
    {
     "data": {
      "text/plain": [
       "<selenium.webdriver.remote.webelement.WebElement (session=\"14cc306dfc6cf8a445f83a6ea888a63f\", element=\"101BA12C6AA2A3DCD6C4B20ACF3BFD14_element_15104\")>"
      ]
     },
     "execution_count": 5,
     "metadata": {},
     "output_type": "execute_result"
    },
    {
     "name": "stdout",
     "output_type": "stream",
     "text": [
      "page  37 size  6\n",
      "url  2400\n",
      "url  2401\n",
      "url  2402\n",
      "url  2403\n",
      "url  2404\n",
      "url  2405\n"
     ]
    },
    {
     "data": {
      "text/plain": [
       "<selenium.webdriver.remote.webelement.WebElement (session=\"14cc306dfc6cf8a445f83a6ea888a63f\", element=\"BB3EBF60DC8304AECD6FAA45F3207F95_element_15138\")>"
      ]
     },
     "execution_count": 5,
     "metadata": {},
     "output_type": "execute_result"
    },
    {
     "name": "stdout",
     "output_type": "stream",
     "text": [
      "page  38 size  6\n",
      "url  2406\n",
      "url  2407\n",
      "url  2408\n",
      "url  2409\n",
      "url  2410\n",
      "url  2411\n"
     ]
    },
    {
     "data": {
      "text/plain": [
       "<selenium.webdriver.remote.webelement.WebElement (session=\"14cc306dfc6cf8a445f83a6ea888a63f\", element=\"EF4F43B9A85DAA96D4A5369EE7C54398_element_15172\")>"
      ]
     },
     "execution_count": 5,
     "metadata": {},
     "output_type": "execute_result"
    },
    {
     "name": "stdout",
     "output_type": "stream",
     "text": [
      "page  39 size  6\n",
      "url  2412\n",
      "url  2413\n",
      "url  2414\n",
      "url  2415\n",
      "url  2416\n",
      "url  2417\n"
     ]
    },
    {
     "data": {
      "text/plain": [
       "<selenium.webdriver.remote.webelement.WebElement (session=\"14cc306dfc6cf8a445f83a6ea888a63f\", element=\"4CAF35D921936ED54E3CF1BFAA7C6EC3_element_15210\")>"
      ]
     },
     "execution_count": 5,
     "metadata": {},
     "output_type": "execute_result"
    },
    {
     "name": "stdout",
     "output_type": "stream",
     "text": [
      "page  40 size  6\n",
      "url  2418\n",
      "url  2419\n",
      "url  2420\n",
      "url  2421\n",
      "url  2422\n",
      "url  2423\n"
     ]
    },
    {
     "data": {
      "text/plain": [
       "<selenium.webdriver.remote.webelement.WebElement (session=\"14cc306dfc6cf8a445f83a6ea888a63f\", element=\"B662F921DC5C62F1E31475F4F7C8C731_element_15249\")>"
      ]
     },
     "execution_count": 5,
     "metadata": {},
     "output_type": "execute_result"
    },
    {
     "name": "stdout",
     "output_type": "stream",
     "text": [
      "page  41 size  6\n",
      "url  2424\n",
      "url  2425\n",
      "url  2426\n",
      "url  2427\n",
      "url  2428\n",
      "url  2429\n"
     ]
    },
    {
     "data": {
      "text/plain": [
       "<selenium.webdriver.remote.webelement.WebElement (session=\"14cc306dfc6cf8a445f83a6ea888a63f\", element=\"8DE3CC41329048ABC86D9EBF5252EDA2_element_15280\")>"
      ]
     },
     "execution_count": 5,
     "metadata": {},
     "output_type": "execute_result"
    },
    {
     "name": "stdout",
     "output_type": "stream",
     "text": [
      "page  42 size  6\n",
      "url  2430\n",
      "url  2431\n",
      "url  2432\n",
      "url  2433\n",
      "url  2434\n",
      "url  2435\n"
     ]
    },
    {
     "data": {
      "text/plain": [
       "<selenium.webdriver.remote.webelement.WebElement (session=\"14cc306dfc6cf8a445f83a6ea888a63f\", element=\"79A979368A314719B7072BE283E9C8B1_element_15310\")>"
      ]
     },
     "execution_count": 5,
     "metadata": {},
     "output_type": "execute_result"
    },
    {
     "name": "stdout",
     "output_type": "stream",
     "text": [
      "page  43 size  6\n",
      "url  2436\n",
      "url  2437\n",
      "url  2438\n",
      "url  2439\n",
      "url  2440\n",
      "url  2441\n"
     ]
    },
    {
     "data": {
      "text/plain": [
       "<selenium.webdriver.remote.webelement.WebElement (session=\"14cc306dfc6cf8a445f83a6ea888a63f\", element=\"A4F1A121BE441E104A53EFE0D56D6C2A_element_15349\")>"
      ]
     },
     "execution_count": 5,
     "metadata": {},
     "output_type": "execute_result"
    },
    {
     "name": "stdout",
     "output_type": "stream",
     "text": [
      "page  44 size  6\n",
      "url  2442\n",
      "url  2443\n",
      "url  2444\n",
      "url  2445\n",
      "url  2446\n",
      "url  2447\n"
     ]
    },
    {
     "data": {
      "text/plain": [
       "<selenium.webdriver.remote.webelement.WebElement (session=\"14cc306dfc6cf8a445f83a6ea888a63f\", element=\"6C1F19EC98F8C441931E0DFD15677C09_element_15378\")>"
      ]
     },
     "execution_count": 5,
     "metadata": {},
     "output_type": "execute_result"
    },
    {
     "name": "stdout",
     "output_type": "stream",
     "text": [
      "page  45 size  6\n",
      "url  2448\n",
      "url  2449\n",
      "url  2450\n",
      "url  2451\n",
      "url  2452\n",
      "url  2453\n"
     ]
    },
    {
     "data": {
      "text/plain": [
       "<selenium.webdriver.remote.webelement.WebElement (session=\"14cc306dfc6cf8a445f83a6ea888a63f\", element=\"8BCCFB8B16874ADAA6E3004E744CE44C_element_15416\")>"
      ]
     },
     "execution_count": 5,
     "metadata": {},
     "output_type": "execute_result"
    },
    {
     "name": "stdout",
     "output_type": "stream",
     "text": [
      "page  46 size  6\n",
      "url  2454\n",
      "url  2455\n",
      "url  2456\n",
      "url  2457\n",
      "url  2458\n",
      "url  2459\n"
     ]
    },
    {
     "data": {
      "text/plain": [
       "<selenium.webdriver.remote.webelement.WebElement (session=\"14cc306dfc6cf8a445f83a6ea888a63f\", element=\"B9AE1298BB23766BC3C9D55465F29177_element_15445\")>"
      ]
     },
     "execution_count": 5,
     "metadata": {},
     "output_type": "execute_result"
    },
    {
     "name": "stdout",
     "output_type": "stream",
     "text": [
      "page  47 size  6\n",
      "url  2460\n",
      "url  2461\n",
      "url  2462\n",
      "url  2463\n",
      "url  2464\n",
      "url  2465\n"
     ]
    },
    {
     "data": {
      "text/plain": [
       "<selenium.webdriver.remote.webelement.WebElement (session=\"14cc306dfc6cf8a445f83a6ea888a63f\", element=\"3220CC91C473B77B8CD16AFA4871D887_element_15496\")>"
      ]
     },
     "execution_count": 5,
     "metadata": {},
     "output_type": "execute_result"
    },
    {
     "name": "stdout",
     "output_type": "stream",
     "text": [
      "page  48 size  6\n",
      "url  2466\n",
      "url  2467\n",
      "url  2468\n",
      "url  2469\n",
      "url  2470\n",
      "url  2471\n"
     ]
    },
    {
     "data": {
      "text/plain": [
       "<selenium.webdriver.remote.webelement.WebElement (session=\"14cc306dfc6cf8a445f83a6ea888a63f\", element=\"6A71D77DCE689AD2069A04D37F25348C_element_15524\")>"
      ]
     },
     "execution_count": 5,
     "metadata": {},
     "output_type": "execute_result"
    },
    {
     "name": "stdout",
     "output_type": "stream",
     "text": [
      "page  49 size  6\n",
      "url  2472\n",
      "url  2473\n",
      "url  2474\n",
      "url  2475\n",
      "url  2476\n",
      "url  2477\n"
     ]
    },
    {
     "data": {
      "text/plain": [
       "<selenium.webdriver.remote.webelement.WebElement (session=\"14cc306dfc6cf8a445f83a6ea888a63f\", element=\"6135B3901849D230F75CC6CA5D1537BD_element_15565\")>"
      ]
     },
     "execution_count": 5,
     "metadata": {},
     "output_type": "execute_result"
    },
    {
     "name": "stdout",
     "output_type": "stream",
     "text": [
      "page  50 size  6\n",
      "url  2478\n",
      "url  2479\n",
      "url  2480\n",
      "url  2481\n",
      "url  2482\n",
      "url  2483\n"
     ]
    },
    {
     "data": {
      "text/plain": [
       "<selenium.webdriver.remote.webelement.WebElement (session=\"14cc306dfc6cf8a445f83a6ea888a63f\", element=\"1B03FC7CA131D26CC6E5804C8F1F7563_element_15604\")>"
      ]
     },
     "execution_count": 5,
     "metadata": {},
     "output_type": "execute_result"
    },
    {
     "name": "stdout",
     "output_type": "stream",
     "text": [
      "page  51 size  6\n",
      "url  2484\n",
      "url  2485\n",
      "url  2486\n",
      "url  2487\n",
      "url  2488\n",
      "url  2489\n"
     ]
    },
    {
     "data": {
      "text/plain": [
       "<selenium.webdriver.remote.webelement.WebElement (session=\"14cc306dfc6cf8a445f83a6ea888a63f\", element=\"3A4674857C3C7F7E6D25DCC312E14A78_element_15637\")>"
      ]
     },
     "execution_count": 5,
     "metadata": {},
     "output_type": "execute_result"
    },
    {
     "name": "stdout",
     "output_type": "stream",
     "text": [
      "page  52 size  6\n",
      "url  2490\n",
      "url  2491\n",
      "url  2492\n",
      "url  2493\n",
      "url  2494\n",
      "url  2495\n"
     ]
    },
    {
     "data": {
      "text/plain": [
       "<selenium.webdriver.remote.webelement.WebElement (session=\"14cc306dfc6cf8a445f83a6ea888a63f\", element=\"AE0E4F2A84A15BFC98933B7105D774FB_element_15672\")>"
      ]
     },
     "execution_count": 5,
     "metadata": {},
     "output_type": "execute_result"
    },
    {
     "name": "stdout",
     "output_type": "stream",
     "text": [
      "page  53 size  6\n",
      "url  2496\n",
      "url  2497\n",
      "url  2498\n",
      "url  2499\n",
      "url  2500\n",
      "url  2501\n"
     ]
    },
    {
     "data": {
      "text/plain": [
       "<selenium.webdriver.remote.webelement.WebElement (session=\"14cc306dfc6cf8a445f83a6ea888a63f\", element=\"466C4468CCB58A399C950B2E39B5A92D_element_15708\")>"
      ]
     },
     "execution_count": 5,
     "metadata": {},
     "output_type": "execute_result"
    },
    {
     "name": "stdout",
     "output_type": "stream",
     "text": [
      "page  54 size  6\n",
      "url  2502\n",
      "url  2503\n",
      "url  2504\n",
      "url  2505\n",
      "url  2506\n",
      "url  2507\n"
     ]
    },
    {
     "data": {
      "text/plain": [
       "<selenium.webdriver.remote.webelement.WebElement (session=\"14cc306dfc6cf8a445f83a6ea888a63f\", element=\"CF6285F1EF0B590511FA8DD5EDB4322F_element_15742\")>"
      ]
     },
     "execution_count": 5,
     "metadata": {},
     "output_type": "execute_result"
    },
    {
     "name": "stdout",
     "output_type": "stream",
     "text": [
      "page  55 size  6\n",
      "url  2508\n",
      "url  2509\n",
      "url  2510\n",
      "url  2511\n",
      "url  2512\n",
      "url  2513\n"
     ]
    },
    {
     "data": {
      "text/plain": [
       "<selenium.webdriver.remote.webelement.WebElement (session=\"14cc306dfc6cf8a445f83a6ea888a63f\", element=\"C6CFB20595755D9BB5D4AE14E7A9315A_element_15774\")>"
      ]
     },
     "execution_count": 5,
     "metadata": {},
     "output_type": "execute_result"
    },
    {
     "name": "stdout",
     "output_type": "stream",
     "text": [
      "page  56 size  6\n",
      "url  2514\n",
      "url  2515\n",
      "url  2516\n",
      "url  2517\n",
      "url  2518\n",
      "url  2519\n"
     ]
    },
    {
     "data": {
      "text/plain": [
       "<selenium.webdriver.remote.webelement.WebElement (session=\"14cc306dfc6cf8a445f83a6ea888a63f\", element=\"5A12E4CDE30F815745D8003997D0DC91_element_15807\")>"
      ]
     },
     "execution_count": 5,
     "metadata": {},
     "output_type": "execute_result"
    },
    {
     "name": "stdout",
     "output_type": "stream",
     "text": [
      "page  57 size  6\n",
      "url  2520\n",
      "url  2521\n",
      "url  2522\n",
      "url  2523\n",
      "url  2524\n",
      "url  2525\n"
     ]
    },
    {
     "data": {
      "text/plain": [
       "<selenium.webdriver.remote.webelement.WebElement (session=\"14cc306dfc6cf8a445f83a6ea888a63f\", element=\"0AF1C38DBE6152D01373B19567BD858D_element_15850\")>"
      ]
     },
     "execution_count": 5,
     "metadata": {},
     "output_type": "execute_result"
    },
    {
     "name": "stdout",
     "output_type": "stream",
     "text": [
      "page  58 size  6\n",
      "url  2526\n",
      "url  2527\n",
      "url  2528\n",
      "url  2529\n",
      "url  2530\n",
      "url  2531\n"
     ]
    },
    {
     "data": {
      "text/plain": [
       "<selenium.webdriver.remote.webelement.WebElement (session=\"14cc306dfc6cf8a445f83a6ea888a63f\", element=\"EFF2098C03337CC407282554C52B7B51_element_15887\")>"
      ]
     },
     "execution_count": 5,
     "metadata": {},
     "output_type": "execute_result"
    },
    {
     "name": "stdout",
     "output_type": "stream",
     "text": [
      "page  59 size  6\n",
      "url  2532\n",
      "url  2533\n",
      "url  2534\n",
      "url  2535\n",
      "url  2536\n",
      "url  2537\n"
     ]
    },
    {
     "data": {
      "text/plain": [
       "<selenium.webdriver.remote.webelement.WebElement (session=\"14cc306dfc6cf8a445f83a6ea888a63f\", element=\"4532573E652752216F3AA1C9274D46AB_element_15925\")>"
      ]
     },
     "execution_count": 5,
     "metadata": {},
     "output_type": "execute_result"
    },
    {
     "name": "stdout",
     "output_type": "stream",
     "text": [
      "page  60 size  6\n",
      "url  2538\n",
      "url  2539\n",
      "url  2540\n",
      "url  2541\n",
      "url  2542\n",
      "url  2543\n"
     ]
    },
    {
     "data": {
      "text/plain": [
       "<selenium.webdriver.remote.webelement.WebElement (session=\"14cc306dfc6cf8a445f83a6ea888a63f\", element=\"697CDADC202752C14CBA136597E202F2_element_15956\")>"
      ]
     },
     "execution_count": 5,
     "metadata": {},
     "output_type": "execute_result"
    },
    {
     "name": "stdout",
     "output_type": "stream",
     "text": [
      "page  61 size  6\n",
      "url  2544\n",
      "url  2545\n",
      "url  2546\n",
      "url  2547\n",
      "url  2548\n",
      "url  2549\n"
     ]
    },
    {
     "data": {
      "text/plain": [
       "<selenium.webdriver.remote.webelement.WebElement (session=\"14cc306dfc6cf8a445f83a6ea888a63f\", element=\"1A223D46E0C4FA827A381D0401A45DC3_element_15999\")>"
      ]
     },
     "execution_count": 5,
     "metadata": {},
     "output_type": "execute_result"
    },
    {
     "name": "stdout",
     "output_type": "stream",
     "text": [
      "page  62 size  6\n",
      "url  2550\n",
      "url  2551\n",
      "url  2552\n",
      "url  2553\n",
      "url  2554\n",
      "url  2555\n"
     ]
    },
    {
     "data": {
      "text/plain": [
       "<selenium.webdriver.remote.webelement.WebElement (session=\"14cc306dfc6cf8a445f83a6ea888a63f\", element=\"FD409F97257B69F01D3E533C37DAC5C8_element_16045\")>"
      ]
     },
     "execution_count": 5,
     "metadata": {},
     "output_type": "execute_result"
    },
    {
     "name": "stdout",
     "output_type": "stream",
     "text": [
      "page  63 size  6\n",
      "url  2556\n",
      "url  2557\n",
      "url  2558\n",
      "url  2559\n",
      "url  2560\n",
      "url  2561\n"
     ]
    },
    {
     "data": {
      "text/plain": [
       "<selenium.webdriver.remote.webelement.WebElement (session=\"14cc306dfc6cf8a445f83a6ea888a63f\", element=\"2EDA2B61F29FE7A7F54FA72B93EC969A_element_16082\")>"
      ]
     },
     "execution_count": 5,
     "metadata": {},
     "output_type": "execute_result"
    },
    {
     "name": "stdout",
     "output_type": "stream",
     "text": [
      "page  64 size  6\n",
      "url  2562\n",
      "url  2563\n",
      "url  2564\n",
      "url  2565\n",
      "url  2566\n",
      "url  2567\n"
     ]
    },
    {
     "data": {
      "text/plain": [
       "<selenium.webdriver.remote.webelement.WebElement (session=\"14cc306dfc6cf8a445f83a6ea888a63f\", element=\"8851FD2ABFE04069645DDFCD10B6D45B_element_16120\")>"
      ]
     },
     "execution_count": 5,
     "metadata": {},
     "output_type": "execute_result"
    },
    {
     "name": "stdout",
     "output_type": "stream",
     "text": [
      "page  65 size  6\n",
      "url  2568\n",
      "url  2569\n",
      "url  2570\n",
      "url  2571\n",
      "url  2572\n",
      "url  2573\n"
     ]
    },
    {
     "data": {
      "text/plain": [
       "<selenium.webdriver.remote.webelement.WebElement (session=\"14cc306dfc6cf8a445f83a6ea888a63f\", element=\"65EA730658BCC2AD63530F74BED186CE_element_16157\")>"
      ]
     },
     "execution_count": 5,
     "metadata": {},
     "output_type": "execute_result"
    },
    {
     "name": "stdout",
     "output_type": "stream",
     "text": [
      "page  66 size  6\n",
      "url  2574\n",
      "url  2575\n",
      "url  2576\n",
      "url  2577\n",
      "url  2578\n",
      "url  2579\n"
     ]
    },
    {
     "data": {
      "text/plain": [
       "<selenium.webdriver.remote.webelement.WebElement (session=\"14cc306dfc6cf8a445f83a6ea888a63f\", element=\"62F0C4FF7A1358C82256B61FB2390905_element_16199\")>"
      ]
     },
     "execution_count": 5,
     "metadata": {},
     "output_type": "execute_result"
    },
    {
     "name": "stdout",
     "output_type": "stream",
     "text": [
      "page  67 size  6\n",
      "url  2580\n",
      "url  2581\n",
      "url  2582\n",
      "url  2583\n",
      "url  2584\n",
      "url  2585\n"
     ]
    },
    {
     "data": {
      "text/plain": [
       "<selenium.webdriver.remote.webelement.WebElement (session=\"14cc306dfc6cf8a445f83a6ea888a63f\", element=\"AC42306F62045DBA857A03743033AF6E_element_16229\")>"
      ]
     },
     "execution_count": 5,
     "metadata": {},
     "output_type": "execute_result"
    },
    {
     "name": "stdout",
     "output_type": "stream",
     "text": [
      "page  68 size  6\n",
      "url  2586\n",
      "url  2587\n",
      "url  2588\n",
      "url  2589\n",
      "url  2590\n",
      "url  2591\n"
     ]
    },
    {
     "data": {
      "text/plain": [
       "<selenium.webdriver.remote.webelement.WebElement (session=\"14cc306dfc6cf8a445f83a6ea888a63f\", element=\"F66C80401396822770606256943AE82E_element_16277\")>"
      ]
     },
     "execution_count": 5,
     "metadata": {},
     "output_type": "execute_result"
    },
    {
     "name": "stdout",
     "output_type": "stream",
     "text": [
      "page  69 size  6\n",
      "url  2592\n",
      "url  2593\n",
      "url  2594\n",
      "url  2595\n",
      "url  2596\n",
      "url  2597\n"
     ]
    },
    {
     "data": {
      "text/plain": [
       "<selenium.webdriver.remote.webelement.WebElement (session=\"14cc306dfc6cf8a445f83a6ea888a63f\", element=\"7E9AEBEAC8A7BCACCF17DC53A0AC07D7_element_16310\")>"
      ]
     },
     "execution_count": 5,
     "metadata": {},
     "output_type": "execute_result"
    },
    {
     "name": "stdout",
     "output_type": "stream",
     "text": [
      "page  70 size  6\n",
      "url  2598\n",
      "url  2599\n",
      "url  2600\n",
      "url  2601\n",
      "url  2602\n",
      "url  2603\n"
     ]
    },
    {
     "data": {
      "text/plain": [
       "<selenium.webdriver.remote.webelement.WebElement (session=\"14cc306dfc6cf8a445f83a6ea888a63f\", element=\"2D04AB445B4592900A9D4040B46D70E4_element_16351\")>"
      ]
     },
     "execution_count": 5,
     "metadata": {},
     "output_type": "execute_result"
    },
    {
     "name": "stdout",
     "output_type": "stream",
     "text": [
      "page  71 size  6\n",
      "url  2604\n",
      "url  2605\n",
      "url  2606\n",
      "url  2607\n",
      "url  2608\n",
      "url  2609\n"
     ]
    },
    {
     "data": {
      "text/plain": [
       "<selenium.webdriver.remote.webelement.WebElement (session=\"14cc306dfc6cf8a445f83a6ea888a63f\", element=\"2190323967FC81F3AEAA80D3FFDBBA71_element_16380\")>"
      ]
     },
     "execution_count": 5,
     "metadata": {},
     "output_type": "execute_result"
    },
    {
     "name": "stdout",
     "output_type": "stream",
     "text": [
      "page  72 size  6\n",
      "url  2610\n",
      "url  2611\n",
      "url  2612\n",
      "url  2613\n",
      "url  2614\n",
      "url  2615\n"
     ]
    },
    {
     "data": {
      "text/plain": [
       "<selenium.webdriver.remote.webelement.WebElement (session=\"14cc306dfc6cf8a445f83a6ea888a63f\", element=\"D47D511AA303D18A9E57E56C329979F7_element_16412\")>"
      ]
     },
     "execution_count": 5,
     "metadata": {},
     "output_type": "execute_result"
    },
    {
     "name": "stdout",
     "output_type": "stream",
     "text": [
      "page  73 size  6\n",
      "url  2616\n",
      "url  2617\n",
      "url  2618\n",
      "url  2619\n",
      "url  2620\n",
      "url  2621\n"
     ]
    },
    {
     "data": {
      "text/plain": [
       "<selenium.webdriver.remote.webelement.WebElement (session=\"14cc306dfc6cf8a445f83a6ea888a63f\", element=\"D9BE85BB333902D084FDD94AAAB7F2FA_element_16445\")>"
      ]
     },
     "execution_count": 5,
     "metadata": {},
     "output_type": "execute_result"
    },
    {
     "name": "stdout",
     "output_type": "stream",
     "text": [
      "page  74 size  6\n",
      "url  2622\n",
      "url  2623\n",
      "url  2624\n",
      "url  2625\n",
      "url  2626\n",
      "url  2627\n"
     ]
    },
    {
     "data": {
      "text/plain": [
       "<selenium.webdriver.remote.webelement.WebElement (session=\"14cc306dfc6cf8a445f83a6ea888a63f\", element=\"E06EBB27B71EBA71EF86856B3BBFB9AE_element_16479\")>"
      ]
     },
     "execution_count": 5,
     "metadata": {},
     "output_type": "execute_result"
    },
    {
     "name": "stdout",
     "output_type": "stream",
     "text": [
      "page  75 size  6\n",
      "url  2628\n",
      "url  2629\n",
      "url  2630\n",
      "url  2631\n",
      "url  2632\n",
      "url  2633\n"
     ]
    },
    {
     "data": {
      "text/plain": [
       "<selenium.webdriver.remote.webelement.WebElement (session=\"14cc306dfc6cf8a445f83a6ea888a63f\", element=\"6389014BB3B9A14F612C917B3C9B236C_element_16514\")>"
      ]
     },
     "execution_count": 5,
     "metadata": {},
     "output_type": "execute_result"
    },
    {
     "name": "stdout",
     "output_type": "stream",
     "text": [
      "page  76 size  6\n",
      "url  2634\n",
      "url  2635\n",
      "url  2636\n",
      "url  2637\n",
      "url  2638\n",
      "url  2639\n"
     ]
    },
    {
     "data": {
      "text/plain": [
       "<selenium.webdriver.remote.webelement.WebElement (session=\"14cc306dfc6cf8a445f83a6ea888a63f\", element=\"097C56E0D52ED5FCB591F0ABA1B10BE3_element_16556\")>"
      ]
     },
     "execution_count": 5,
     "metadata": {},
     "output_type": "execute_result"
    },
    {
     "name": "stdout",
     "output_type": "stream",
     "text": [
      "page  77 size  6\n",
      "url  2640\n",
      "url  2641\n",
      "url  2642\n",
      "url  2643\n",
      "url  2644\n",
      "url  2645\n"
     ]
    },
    {
     "data": {
      "text/plain": [
       "<selenium.webdriver.remote.webelement.WebElement (session=\"14cc306dfc6cf8a445f83a6ea888a63f\", element=\"983F45CA1033D432A593F7BCC006BC1F_element_16586\")>"
      ]
     },
     "execution_count": 5,
     "metadata": {},
     "output_type": "execute_result"
    },
    {
     "name": "stdout",
     "output_type": "stream",
     "text": [
      "page  78 size  6\n",
      "url  2646\n",
      "url  2647\n",
      "url  2648\n",
      "url  2649\n",
      "url  2650\n",
      "url  2651\n"
     ]
    },
    {
     "data": {
      "text/plain": [
       "<selenium.webdriver.remote.webelement.WebElement (session=\"14cc306dfc6cf8a445f83a6ea888a63f\", element=\"8AF9EF55EB40D68D72D593FAE9351885_element_16620\")>"
      ]
     },
     "execution_count": 5,
     "metadata": {},
     "output_type": "execute_result"
    },
    {
     "name": "stdout",
     "output_type": "stream",
     "text": [
      "page  79 size  6\n",
      "url  2652\n",
      "url  2653\n",
      "url  2654\n",
      "url  2655\n",
      "url  2656\n",
      "url  2657\n"
     ]
    },
    {
     "data": {
      "text/plain": [
       "<selenium.webdriver.remote.webelement.WebElement (session=\"14cc306dfc6cf8a445f83a6ea888a63f\", element=\"F53A1BAAB1A934DF9AB2094627E9205C_element_16666\")>"
      ]
     },
     "execution_count": 5,
     "metadata": {},
     "output_type": "execute_result"
    },
    {
     "name": "stdout",
     "output_type": "stream",
     "text": [
      "page  80 size  6\n",
      "url  2658\n",
      "url  2659\n",
      "url  2660\n",
      "url  2661\n",
      "url  2662\n",
      "url  2663\n"
     ]
    },
    {
     "data": {
      "text/plain": [
       "<selenium.webdriver.remote.webelement.WebElement (session=\"14cc306dfc6cf8a445f83a6ea888a63f\", element=\"AD28F816EC0898E102D5E6976821FC55_element_16695\")>"
      ]
     },
     "execution_count": 5,
     "metadata": {},
     "output_type": "execute_result"
    },
    {
     "name": "stdout",
     "output_type": "stream",
     "text": [
      "page  81 size  6\n",
      "url  2664\n",
      "url  2665\n",
      "url  2666\n",
      "url  2667\n",
      "url  2668\n",
      "url  2669\n"
     ]
    },
    {
     "data": {
      "text/plain": [
       "<selenium.webdriver.remote.webelement.WebElement (session=\"14cc306dfc6cf8a445f83a6ea888a63f\", element=\"BC37F408A923719756B4D8382D36DE2F_element_16730\")>"
      ]
     },
     "execution_count": 5,
     "metadata": {},
     "output_type": "execute_result"
    },
    {
     "name": "stdout",
     "output_type": "stream",
     "text": [
      "page  82 size  6\n",
      "url  2670\n",
      "url  2671\n",
      "url  2672\n",
      "url  2673\n",
      "url  2674\n",
      "url  2675\n"
     ]
    },
    {
     "data": {
      "text/plain": [
       "<selenium.webdriver.remote.webelement.WebElement (session=\"14cc306dfc6cf8a445f83a6ea888a63f\", element=\"49A743DE8763AF0AE5EFAA28C3DE9ECF_element_16766\")>"
      ]
     },
     "execution_count": 5,
     "metadata": {},
     "output_type": "execute_result"
    },
    {
     "name": "stdout",
     "output_type": "stream",
     "text": [
      "page  83 size  6\n",
      "url  2676\n",
      "url  2677\n",
      "url  2678\n",
      "url  2679\n",
      "url  2680\n",
      "url  2681\n"
     ]
    },
    {
     "data": {
      "text/plain": [
       "<selenium.webdriver.remote.webelement.WebElement (session=\"14cc306dfc6cf8a445f83a6ea888a63f\", element=\"0527D48CE7C3A39DC6F6F3D49A15A826_element_16796\")>"
      ]
     },
     "execution_count": 5,
     "metadata": {},
     "output_type": "execute_result"
    },
    {
     "name": "stdout",
     "output_type": "stream",
     "text": [
      "page  84 size  6\n",
      "url  2682\n",
      "url  2683\n",
      "url  2684\n",
      "url  2685\n",
      "url  2686\n",
      "url  2687\n"
     ]
    },
    {
     "data": {
      "text/plain": [
       "<selenium.webdriver.remote.webelement.WebElement (session=\"14cc306dfc6cf8a445f83a6ea888a63f\", element=\"5DF624E04CC13503CAEEA12E4FFDCF1F_element_16834\")>"
      ]
     },
     "execution_count": 5,
     "metadata": {},
     "output_type": "execute_result"
    },
    {
     "name": "stdout",
     "output_type": "stream",
     "text": [
      "page  85 size  6\n",
      "url  2688\n",
      "url  2689\n",
      "url  2690\n",
      "url  2691\n",
      "url  2692\n",
      "url  2693\n"
     ]
    },
    {
     "data": {
      "text/plain": [
       "<selenium.webdriver.remote.webelement.WebElement (session=\"14cc306dfc6cf8a445f83a6ea888a63f\", element=\"2284E20CBF66312313D5C3839595ADF3_element_16869\")>"
      ]
     },
     "execution_count": 5,
     "metadata": {},
     "output_type": "execute_result"
    },
    {
     "name": "stdout",
     "output_type": "stream",
     "text": [
      "page  86 size  6\n",
      "url  2694\n",
      "url  2695\n",
      "url  2696\n",
      "url  2697\n",
      "url  2698\n",
      "url  2699\n"
     ]
    },
    {
     "data": {
      "text/plain": [
       "<selenium.webdriver.remote.webelement.WebElement (session=\"14cc306dfc6cf8a445f83a6ea888a63f\", element=\"93AD6E137116E4483F4171B2CC661A6F_element_16911\")>"
      ]
     },
     "execution_count": 5,
     "metadata": {},
     "output_type": "execute_result"
    },
    {
     "name": "stdout",
     "output_type": "stream",
     "text": [
      "page  87 size  6\n",
      "url  2700\n",
      "url  2701\n",
      "url  2702\n",
      "url  2703\n",
      "url  2704\n",
      "url  2705\n"
     ]
    },
    {
     "data": {
      "text/plain": [
       "<selenium.webdriver.remote.webelement.WebElement (session=\"14cc306dfc6cf8a445f83a6ea888a63f\", element=\"4F32216C5B74C7A7E280E6504788A0AF_element_16946\")>"
      ]
     },
     "execution_count": 5,
     "metadata": {},
     "output_type": "execute_result"
    },
    {
     "name": "stdout",
     "output_type": "stream",
     "text": [
      "page  88 size  6\n",
      "url  2706\n",
      "url  2707\n",
      "url  2708\n",
      "url  2709\n",
      "url  2710\n",
      "url  2711\n"
     ]
    },
    {
     "data": {
      "text/plain": [
       "<selenium.webdriver.remote.webelement.WebElement (session=\"14cc306dfc6cf8a445f83a6ea888a63f\", element=\"109C995C351F766B43F71A6D553780DF_element_16987\")>"
      ]
     },
     "execution_count": 5,
     "metadata": {},
     "output_type": "execute_result"
    },
    {
     "name": "stdout",
     "output_type": "stream",
     "text": [
      "page  89 size  6\n",
      "url  2712\n",
      "url  2713\n",
      "url  2714\n",
      "url  2715\n",
      "url  2716\n",
      "url  2717\n"
     ]
    },
    {
     "data": {
      "text/plain": [
       "<selenium.webdriver.remote.webelement.WebElement (session=\"14cc306dfc6cf8a445f83a6ea888a63f\", element=\"3BF46FF5856115398CE12D01F48D6F08_element_17031\")>"
      ]
     },
     "execution_count": 5,
     "metadata": {},
     "output_type": "execute_result"
    },
    {
     "name": "stdout",
     "output_type": "stream",
     "text": [
      "page  90 size  6\n",
      "url  2718\n",
      "url  2719\n",
      "url  2720\n",
      "url  2721\n",
      "url  2722\n",
      "url  2723\n"
     ]
    },
    {
     "data": {
      "text/plain": [
       "<selenium.webdriver.remote.webelement.WebElement (session=\"14cc306dfc6cf8a445f83a6ea888a63f\", element=\"534ED3C70F06EB0E18B9ABB1BE9A4EDA_element_17083\")>"
      ]
     },
     "execution_count": 5,
     "metadata": {},
     "output_type": "execute_result"
    },
    {
     "name": "stdout",
     "output_type": "stream",
     "text": [
      "page  91 size  6\n",
      "url  2724\n",
      "url  2725\n",
      "url  2726\n",
      "url  2727\n",
      "url  2728\n",
      "url  2729\n"
     ]
    },
    {
     "data": {
      "text/plain": [
       "<selenium.webdriver.remote.webelement.WebElement (session=\"14cc306dfc6cf8a445f83a6ea888a63f\", element=\"9359BB0C729680C6DA77FCBA18D249C4_element_17118\")>"
      ]
     },
     "execution_count": 5,
     "metadata": {},
     "output_type": "execute_result"
    },
    {
     "name": "stdout",
     "output_type": "stream",
     "text": [
      "page  92 size  6\n",
      "url  2730\n",
      "url  2731\n",
      "url  2732\n",
      "url  2733\n",
      "url  2734\n",
      "url  2735\n"
     ]
    },
    {
     "data": {
      "text/plain": [
       "<selenium.webdriver.remote.webelement.WebElement (session=\"14cc306dfc6cf8a445f83a6ea888a63f\", element=\"D33B2941E25ADE7B119A68BB42537ACE_element_17160\")>"
      ]
     },
     "execution_count": 5,
     "metadata": {},
     "output_type": "execute_result"
    },
    {
     "name": "stdout",
     "output_type": "stream",
     "text": [
      "page  93 size  6\n",
      "url  2736\n",
      "url  2737\n",
      "url  2738\n",
      "url  2739\n",
      "url  2740\n",
      "url  2741\n"
     ]
    },
    {
     "data": {
      "text/plain": [
       "<selenium.webdriver.remote.webelement.WebElement (session=\"14cc306dfc6cf8a445f83a6ea888a63f\", element=\"BCF54184D86E5B09D4462C701FFE022B_element_17196\")>"
      ]
     },
     "execution_count": 5,
     "metadata": {},
     "output_type": "execute_result"
    },
    {
     "name": "stdout",
     "output_type": "stream",
     "text": [
      "page  94 size  6\n",
      "url  2742\n",
      "url  2743\n",
      "url  2744\n",
      "url  2745\n",
      "url  2746\n",
      "url  2747\n"
     ]
    },
    {
     "data": {
      "text/plain": [
       "<selenium.webdriver.remote.webelement.WebElement (session=\"14cc306dfc6cf8a445f83a6ea888a63f\", element=\"6A654FC3B3E65D8B43BA81EBDA2C90A4_element_17229\")>"
      ]
     },
     "execution_count": 5,
     "metadata": {},
     "output_type": "execute_result"
    },
    {
     "name": "stdout",
     "output_type": "stream",
     "text": [
      "page  95 size  6\n",
      "url  2748\n",
      "url  2749\n",
      "url  2750\n",
      "url  2751\n",
      "url  2752\n",
      "url  2753\n"
     ]
    },
    {
     "data": {
      "text/plain": [
       "<selenium.webdriver.remote.webelement.WebElement (session=\"14cc306dfc6cf8a445f83a6ea888a63f\", element=\"53E78ADF259F5548C8B719F6EC9CE12D_element_17265\")>"
      ]
     },
     "execution_count": 5,
     "metadata": {},
     "output_type": "execute_result"
    },
    {
     "name": "stdout",
     "output_type": "stream",
     "text": [
      "page  96 size  6\n",
      "url  2754\n",
      "url  2755\n",
      "url  2756\n",
      "url  2757\n",
      "url  2758\n",
      "url  2759\n"
     ]
    },
    {
     "data": {
      "text/plain": [
       "<selenium.webdriver.remote.webelement.WebElement (session=\"14cc306dfc6cf8a445f83a6ea888a63f\", element=\"2CACD57C14A41FD60B66C92FC608AFDB_element_17303\")>"
      ]
     },
     "execution_count": 5,
     "metadata": {},
     "output_type": "execute_result"
    },
    {
     "name": "stdout",
     "output_type": "stream",
     "text": [
      "page  97 size  6\n",
      "url  2760\n",
      "url  2761\n",
      "url  2762\n",
      "url  2763\n",
      "url  2764\n",
      "url  2765\n"
     ]
    },
    {
     "data": {
      "text/plain": [
       "<selenium.webdriver.remote.webelement.WebElement (session=\"14cc306dfc6cf8a445f83a6ea888a63f\", element=\"B7B6E279419C49779FBA6837C25B07E8_element_17338\")>"
      ]
     },
     "execution_count": 5,
     "metadata": {},
     "output_type": "execute_result"
    },
    {
     "name": "stdout",
     "output_type": "stream",
     "text": [
      "page  98 size  6\n",
      "url  2766\n",
      "url  2767\n",
      "url  2768\n",
      "url  2769\n",
      "url  2770\n",
      "url  2771\n"
     ]
    },
    {
     "data": {
      "text/plain": [
       "<selenium.webdriver.remote.webelement.WebElement (session=\"14cc306dfc6cf8a445f83a6ea888a63f\", element=\"4D96FB52CC0E2277C50F2FA1B5B0E7F9_element_17369\")>"
      ]
     },
     "execution_count": 5,
     "metadata": {},
     "output_type": "execute_result"
    },
    {
     "name": "stdout",
     "output_type": "stream",
     "text": [
      "page  99 size  6\n",
      "url  2772\n",
      "url  2773\n",
      "url  2774\n",
      "url  2775\n",
      "url  2776\n",
      "url  2777\n"
     ]
    },
    {
     "data": {
      "text/plain": [
       "<selenium.webdriver.remote.webelement.WebElement (session=\"14cc306dfc6cf8a445f83a6ea888a63f\", element=\"72D08F6170645370ECCC2D73811131CF_element_17407\")>"
      ]
     },
     "execution_count": 5,
     "metadata": {},
     "output_type": "execute_result"
    },
    {
     "name": "stdout",
     "output_type": "stream",
     "text": [
      "page  100 size  6\n",
      "url  2778\n",
      "url  2779\n",
      "url  2780\n",
      "url  2781\n",
      "url  2782\n",
      "url  2783\n"
     ]
    },
    {
     "data": {
      "text/plain": [
       "<selenium.webdriver.remote.webelement.WebElement (session=\"14cc306dfc6cf8a445f83a6ea888a63f\", element=\"7BFAC544DB9E45DB691CE6D6B551CFA0_element_17443\")>"
      ]
     },
     "execution_count": 5,
     "metadata": {},
     "output_type": "execute_result"
    },
    {
     "name": "stdout",
     "output_type": "stream",
     "text": [
      "page  101 size  6\n",
      "url  2784\n",
      "url  2785\n",
      "url  2786\n",
      "url  2787\n",
      "url  2788\n",
      "url  2789\n"
     ]
    },
    {
     "data": {
      "text/plain": [
       "<selenium.webdriver.remote.webelement.WebElement (session=\"14cc306dfc6cf8a445f83a6ea888a63f\", element=\"2E304B95F59BACACA93A3045F484C647_element_17479\")>"
      ]
     },
     "execution_count": 5,
     "metadata": {},
     "output_type": "execute_result"
    },
    {
     "name": "stdout",
     "output_type": "stream",
     "text": [
      "page  102 size  6\n",
      "url  2790\n",
      "url  2791\n",
      "url  2792\n",
      "url  2793\n",
      "url  2794\n",
      "url  2795\n"
     ]
    },
    {
     "data": {
      "text/plain": [
       "<selenium.webdriver.remote.webelement.WebElement (session=\"14cc306dfc6cf8a445f83a6ea888a63f\", element=\"D8683B5E6DB5A9353A581D9F0C941BC9_element_17521\")>"
      ]
     },
     "execution_count": 5,
     "metadata": {},
     "output_type": "execute_result"
    },
    {
     "name": "stdout",
     "output_type": "stream",
     "text": [
      "page  103 size  6\n",
      "url  2796\n",
      "url  2797\n",
      "url  2798\n",
      "url  2799\n",
      "url  2800\n",
      "url  2801\n"
     ]
    },
    {
     "data": {
      "text/plain": [
       "<selenium.webdriver.remote.webelement.WebElement (session=\"14cc306dfc6cf8a445f83a6ea888a63f\", element=\"36746B42BC5C374880CD7B65D961DA0B_element_17561\")>"
      ]
     },
     "execution_count": 5,
     "metadata": {},
     "output_type": "execute_result"
    },
    {
     "name": "stdout",
     "output_type": "stream",
     "text": [
      "page  104 size  6\n",
      "url  2802\n",
      "url  2803\n",
      "url  2804\n",
      "url  2805\n",
      "url  2806\n",
      "url  2807\n"
     ]
    },
    {
     "data": {
      "text/plain": [
       "<selenium.webdriver.remote.webelement.WebElement (session=\"14cc306dfc6cf8a445f83a6ea888a63f\", element=\"E1CB0BCAA1836CC5C1DFC3E74C68324D_element_17612\")>"
      ]
     },
     "execution_count": 5,
     "metadata": {},
     "output_type": "execute_result"
    },
    {
     "name": "stdout",
     "output_type": "stream",
     "text": [
      "page  105 size  6\n",
      "url  2808\n",
      "url  2809\n",
      "url  2810\n",
      "url  2811\n",
      "url  2812\n",
      "url  2813\n"
     ]
    },
    {
     "data": {
      "text/plain": [
       "<selenium.webdriver.remote.webelement.WebElement (session=\"14cc306dfc6cf8a445f83a6ea888a63f\", element=\"9CF33117175CA8BE63F21B6A575B7EDE_element_17640\")>"
      ]
     },
     "execution_count": 5,
     "metadata": {},
     "output_type": "execute_result"
    },
    {
     "name": "stdout",
     "output_type": "stream",
     "text": [
      "page  106 size  6\n",
      "url  2814\n",
      "url  2815\n",
      "url  2816\n",
      "url  2817\n",
      "url  2818\n",
      "url  2819\n"
     ]
    },
    {
     "data": {
      "text/plain": [
       "<selenium.webdriver.remote.webelement.WebElement (session=\"14cc306dfc6cf8a445f83a6ea888a63f\", element=\"210DF3317B864E1895C5FC310DEDA828_element_17682\")>"
      ]
     },
     "execution_count": 5,
     "metadata": {},
     "output_type": "execute_result"
    },
    {
     "name": "stdout",
     "output_type": "stream",
     "text": [
      "page  107 size  6\n",
      "url  2820\n",
      "url  2821\n",
      "url  2822\n",
      "url  2823\n",
      "url  2824\n",
      "url  2825\n"
     ]
    },
    {
     "data": {
      "text/plain": [
       "<selenium.webdriver.remote.webelement.WebElement (session=\"14cc306dfc6cf8a445f83a6ea888a63f\", element=\"E94372AB245DBFC0DD4C86BFE492E4D7_element_17714\")>"
      ]
     },
     "execution_count": 5,
     "metadata": {},
     "output_type": "execute_result"
    },
    {
     "name": "stdout",
     "output_type": "stream",
     "text": [
      "page  108 size  6\n",
      "url  2826\n",
      "url  2827\n",
      "url  2828\n",
      "url  2829\n",
      "url  2830\n",
      "url  2831\n"
     ]
    },
    {
     "data": {
      "text/plain": [
       "<selenium.webdriver.remote.webelement.WebElement (session=\"14cc306dfc6cf8a445f83a6ea888a63f\", element=\"A09AE7FD8FF42CC19FE577313EE3E703_element_17754\")>"
      ]
     },
     "execution_count": 5,
     "metadata": {},
     "output_type": "execute_result"
    },
    {
     "name": "stdout",
     "output_type": "stream",
     "text": [
      "page  109 size  6\n",
      "url  2832\n",
      "url  2833\n",
      "url  2834\n",
      "url  2835\n",
      "url  2836\n",
      "url  2837\n"
     ]
    },
    {
     "data": {
      "text/plain": [
       "<selenium.webdriver.remote.webelement.WebElement (session=\"14cc306dfc6cf8a445f83a6ea888a63f\", element=\"ADEAC41A73E41C73C66D7682DF46454E_element_17788\")>"
      ]
     },
     "execution_count": 5,
     "metadata": {},
     "output_type": "execute_result"
    },
    {
     "name": "stdout",
     "output_type": "stream",
     "text": [
      "page  110 size  6\n",
      "url  2838\n",
      "url  2839\n",
      "url  2840\n",
      "url  2841\n",
      "url  2842\n",
      "url  2843\n"
     ]
    },
    {
     "data": {
      "text/plain": [
       "<selenium.webdriver.remote.webelement.WebElement (session=\"14cc306dfc6cf8a445f83a6ea888a63f\", element=\"D4C1E504CB396CB43E46D8F283C1C412_element_17821\")>"
      ]
     },
     "execution_count": 5,
     "metadata": {},
     "output_type": "execute_result"
    },
    {
     "name": "stdout",
     "output_type": "stream",
     "text": [
      "page  111 size  6\n",
      "url  2844\n",
      "url  2845\n",
      "url  2846\n",
      "url  2847\n",
      "url  2848\n",
      "url  2849\n"
     ]
    },
    {
     "data": {
      "text/plain": [
       "<selenium.webdriver.remote.webelement.WebElement (session=\"14cc306dfc6cf8a445f83a6ea888a63f\", element=\"B47083CF47A34783615347248244FBB9_element_17855\")>"
      ]
     },
     "execution_count": 5,
     "metadata": {},
     "output_type": "execute_result"
    },
    {
     "name": "stdout",
     "output_type": "stream",
     "text": [
      "page  112 size  6\n",
      "url  2850\n",
      "url  2851\n",
      "url  2852\n",
      "url  2853\n",
      "url  2854\n",
      "url  2855\n"
     ]
    },
    {
     "data": {
      "text/plain": [
       "<selenium.webdriver.remote.webelement.WebElement (session=\"14cc306dfc6cf8a445f83a6ea888a63f\", element=\"C2F078F38E49E30174B33FA50053D27D_element_17891\")>"
      ]
     },
     "execution_count": 5,
     "metadata": {},
     "output_type": "execute_result"
    },
    {
     "name": "stdout",
     "output_type": "stream",
     "text": [
      "page  113 size  6\n",
      "url  2856\n",
      "url  2857\n",
      "url  2858\n",
      "url  2859\n",
      "url  2860\n",
      "url  2861\n"
     ]
    },
    {
     "data": {
      "text/plain": [
       "<selenium.webdriver.remote.webelement.WebElement (session=\"14cc306dfc6cf8a445f83a6ea888a63f\", element=\"42F4207633A3A1283B01213EB0A109F0_element_17934\")>"
      ]
     },
     "execution_count": 5,
     "metadata": {},
     "output_type": "execute_result"
    },
    {
     "name": "stdout",
     "output_type": "stream",
     "text": [
      "page  114 size  6\n",
      "url  2862\n",
      "url  2863\n",
      "url  2864\n",
      "url  2865\n",
      "url  2866\n",
      "url  2867\n"
     ]
    },
    {
     "data": {
      "text/plain": [
       "<selenium.webdriver.remote.webelement.WebElement (session=\"14cc306dfc6cf8a445f83a6ea888a63f\", element=\"AD03D303369A24848278C02345105D19_element_17967\")>"
      ]
     },
     "execution_count": 5,
     "metadata": {},
     "output_type": "execute_result"
    },
    {
     "name": "stdout",
     "output_type": "stream",
     "text": [
      "page  115 size  6\n",
      "url  2868\n",
      "url  2869\n",
      "url  2870\n",
      "url  2871\n",
      "url  2872\n",
      "url  2873\n"
     ]
    },
    {
     "data": {
      "text/plain": [
       "<selenium.webdriver.remote.webelement.WebElement (session=\"14cc306dfc6cf8a445f83a6ea888a63f\", element=\"D32EC78B2990B92642796266A53A9B62_element_18016\")>"
      ]
     },
     "execution_count": 5,
     "metadata": {},
     "output_type": "execute_result"
    },
    {
     "name": "stdout",
     "output_type": "stream",
     "text": [
      "page  116 size  6\n",
      "url  2874\n",
      "url  2875\n",
      "url  2876\n",
      "url  2877\n",
      "url  2878\n",
      "url  2879\n"
     ]
    },
    {
     "data": {
      "text/plain": [
       "<selenium.webdriver.remote.webelement.WebElement (session=\"14cc306dfc6cf8a445f83a6ea888a63f\", element=\"0ADFDEA3686E717ED922C1BD51F53409_element_18047\")>"
      ]
     },
     "execution_count": 5,
     "metadata": {},
     "output_type": "execute_result"
    },
    {
     "name": "stdout",
     "output_type": "stream",
     "text": [
      "page  117 size  6\n",
      "url  2880\n",
      "url  2881\n",
      "url  2882\n",
      "url  2883\n",
      "url  2884\n",
      "url  2885\n"
     ]
    },
    {
     "data": {
      "text/plain": [
       "<selenium.webdriver.remote.webelement.WebElement (session=\"14cc306dfc6cf8a445f83a6ea888a63f\", element=\"65EE0A4197517782C685AB4B5EE9D99D_element_18104\")>"
      ]
     },
     "execution_count": 5,
     "metadata": {},
     "output_type": "execute_result"
    },
    {
     "name": "stdout",
     "output_type": "stream",
     "text": [
      "page  118 size  6\n",
      "url  2886\n",
      "url  2887\n",
      "url  2888\n",
      "url  2889\n",
      "url  2890\n",
      "url  2891\n"
     ]
    },
    {
     "data": {
      "text/plain": [
       "<selenium.webdriver.remote.webelement.WebElement (session=\"14cc306dfc6cf8a445f83a6ea888a63f\", element=\"CD057F790F6F35DFBFED4FF333A48720_element_18153\")>"
      ]
     },
     "execution_count": 5,
     "metadata": {},
     "output_type": "execute_result"
    },
    {
     "name": "stdout",
     "output_type": "stream",
     "text": [
      "page  119 size  6\n",
      "url  2892\n",
      "url  2893\n",
      "url  2894\n",
      "url  2895\n",
      "url  2896\n",
      "url  2897\n"
     ]
    },
    {
     "data": {
      "text/plain": [
       "<selenium.webdriver.remote.webelement.WebElement (session=\"14cc306dfc6cf8a445f83a6ea888a63f\", element=\"7B029A9B2840F5674C9EF040E458A3BB_element_18187\")>"
      ]
     },
     "execution_count": 5,
     "metadata": {},
     "output_type": "execute_result"
    },
    {
     "name": "stdout",
     "output_type": "stream",
     "text": [
      "page  120 size  6\n",
      "url  2898\n",
      "url  2899\n",
      "url  2900\n",
      "url  2901\n",
      "url  2902\n",
      "url  2903\n"
     ]
    },
    {
     "data": {
      "text/plain": [
       "<selenium.webdriver.remote.webelement.WebElement (session=\"14cc306dfc6cf8a445f83a6ea888a63f\", element=\"C21013DE945BC2265309A5606F36AB59_element_18223\")>"
      ]
     },
     "execution_count": 5,
     "metadata": {},
     "output_type": "execute_result"
    },
    {
     "name": "stdout",
     "output_type": "stream",
     "text": [
      "page  121 size  6\n",
      "url  2904\n",
      "url  2905\n",
      "url  2906\n",
      "url  2907\n",
      "url  2908\n",
      "url  2909\n"
     ]
    },
    {
     "data": {
      "text/plain": [
       "<selenium.webdriver.remote.webelement.WebElement (session=\"14cc306dfc6cf8a445f83a6ea888a63f\", element=\"1E48DC564BDAECA06EDABD58B2EE489B_element_18256\")>"
      ]
     },
     "execution_count": 5,
     "metadata": {},
     "output_type": "execute_result"
    },
    {
     "name": "stdout",
     "output_type": "stream",
     "text": [
      "page  122 size  6\n",
      "url  2910\n",
      "url  2911\n",
      "url  2912\n",
      "url  2913\n",
      "url  2914\n",
      "url  2915\n"
     ]
    },
    {
     "data": {
      "text/plain": [
       "<selenium.webdriver.remote.webelement.WebElement (session=\"14cc306dfc6cf8a445f83a6ea888a63f\", element=\"6F72E313DED7B2CF4B501E8CBC765D71_element_18283\")>"
      ]
     },
     "execution_count": 5,
     "metadata": {},
     "output_type": "execute_result"
    },
    {
     "name": "stdout",
     "output_type": "stream",
     "text": [
      "page  123 size  6\n",
      "url  2916\n",
      "url  2917\n",
      "url  2918\n",
      "url  2919\n",
      "url  2920\n",
      "url  2921\n"
     ]
    },
    {
     "data": {
      "text/plain": [
       "<selenium.webdriver.remote.webelement.WebElement (session=\"14cc306dfc6cf8a445f83a6ea888a63f\", element=\"69723EC8D79A319BED483DC0BDF029BA_element_18318\")>"
      ]
     },
     "execution_count": 5,
     "metadata": {},
     "output_type": "execute_result"
    },
    {
     "name": "stdout",
     "output_type": "stream",
     "text": [
      "page  124 size  6\n",
      "url  2922\n",
      "url  2923\n",
      "url  2924\n",
      "url  2925\n",
      "url  2926\n",
      "url  2927\n"
     ]
    },
    {
     "data": {
      "text/plain": [
       "<selenium.webdriver.remote.webelement.WebElement (session=\"14cc306dfc6cf8a445f83a6ea888a63f\", element=\"1BC3A21697AB9160A6E170346726BCA9_element_18350\")>"
      ]
     },
     "execution_count": 5,
     "metadata": {},
     "output_type": "execute_result"
    },
    {
     "name": "stdout",
     "output_type": "stream",
     "text": [
      "page  125 size  6\n",
      "url  2928\n",
      "url  2929\n",
      "url  2930\n",
      "url  2931\n",
      "url  2932\n",
      "url  2933\n"
     ]
    },
    {
     "data": {
      "text/plain": [
       "<selenium.webdriver.remote.webelement.WebElement (session=\"14cc306dfc6cf8a445f83a6ea888a63f\", element=\"EF71A4EDBBD1109696786064CE8BD56A_element_18383\")>"
      ]
     },
     "execution_count": 5,
     "metadata": {},
     "output_type": "execute_result"
    },
    {
     "name": "stdout",
     "output_type": "stream",
     "text": [
      "page  126 size  6\n",
      "url  2934\n",
      "url  2935\n",
      "url  2936\n",
      "url  2937\n",
      "url  2938\n",
      "url  2939\n"
     ]
    },
    {
     "data": {
      "text/plain": [
       "<selenium.webdriver.remote.webelement.WebElement (session=\"14cc306dfc6cf8a445f83a6ea888a63f\", element=\"D3CFD7C8C2B591BBB88552844882D58B_element_18416\")>"
      ]
     },
     "execution_count": 5,
     "metadata": {},
     "output_type": "execute_result"
    },
    {
     "name": "stdout",
     "output_type": "stream",
     "text": [
      "page  127 size  6\n",
      "url  2940\n",
      "url  2941\n",
      "url  2942\n",
      "url  2943\n",
      "url  2944\n",
      "url  2945\n"
     ]
    },
    {
     "data": {
      "text/plain": [
       "<selenium.webdriver.remote.webelement.WebElement (session=\"14cc306dfc6cf8a445f83a6ea888a63f\", element=\"8983B192D5BF8D5A24E8C507C769FBF5_element_18452\")>"
      ]
     },
     "execution_count": 5,
     "metadata": {},
     "output_type": "execute_result"
    },
    {
     "name": "stdout",
     "output_type": "stream",
     "text": [
      "page  128 size  6\n",
      "url  2946\n",
      "url  2947\n",
      "url  2948\n",
      "url  2949\n",
      "url  2950\n",
      "url  2951\n"
     ]
    },
    {
     "data": {
      "text/plain": [
       "<selenium.webdriver.remote.webelement.WebElement (session=\"14cc306dfc6cf8a445f83a6ea888a63f\", element=\"83B3FF4FC8705F2A8F2CEFB9F0BB0410_element_18491\")>"
      ]
     },
     "execution_count": 5,
     "metadata": {},
     "output_type": "execute_result"
    },
    {
     "name": "stdout",
     "output_type": "stream",
     "text": [
      "page  129 size  6\n",
      "url  2952\n",
      "url  2953\n",
      "url  2954\n",
      "url  2955\n",
      "url  2956\n",
      "url  2957\n"
     ]
    },
    {
     "data": {
      "text/plain": [
       "<selenium.webdriver.remote.webelement.WebElement (session=\"14cc306dfc6cf8a445f83a6ea888a63f\", element=\"B89BE789E709D8C910708CDA423D5A65_element_18525\")>"
      ]
     },
     "execution_count": 5,
     "metadata": {},
     "output_type": "execute_result"
    },
    {
     "name": "stdout",
     "output_type": "stream",
     "text": [
      "page  130 size  6\n",
      "url  2958\n",
      "url  2959\n",
      "url  2960\n",
      "url  2961\n",
      "url  2962\n",
      "url  2963\n"
     ]
    },
    {
     "data": {
      "text/plain": [
       "<selenium.webdriver.remote.webelement.WebElement (session=\"14cc306dfc6cf8a445f83a6ea888a63f\", element=\"4ABB551032E6C69D37BAD787E329BB96_element_18556\")>"
      ]
     },
     "execution_count": 5,
     "metadata": {},
     "output_type": "execute_result"
    },
    {
     "name": "stdout",
     "output_type": "stream",
     "text": [
      "page  131 size  6\n",
      "url  2964\n",
      "url  2965\n",
      "url  2966\n",
      "url  2967\n",
      "url  2968\n",
      "url  2969\n"
     ]
    },
    {
     "data": {
      "text/plain": [
       "<selenium.webdriver.remote.webelement.WebElement (session=\"14cc306dfc6cf8a445f83a6ea888a63f\", element=\"38B1E836AB2B5A96C72CE83DA00D7FD0_element_18597\")>"
      ]
     },
     "execution_count": 5,
     "metadata": {},
     "output_type": "execute_result"
    },
    {
     "name": "stdout",
     "output_type": "stream",
     "text": [
      "page  132 size  6\n",
      "url  2970\n",
      "url  2971\n",
      "url  2972\n",
      "url  2973\n",
      "url  2974\n",
      "url  2975\n"
     ]
    },
    {
     "data": {
      "text/plain": [
       "<selenium.webdriver.remote.webelement.WebElement (session=\"14cc306dfc6cf8a445f83a6ea888a63f\", element=\"BDD974DEE35EA52E57B3767556674051_element_18644\")>"
      ]
     },
     "execution_count": 5,
     "metadata": {},
     "output_type": "execute_result"
    },
    {
     "name": "stdout",
     "output_type": "stream",
     "text": [
      "page  133 size  6\n",
      "url  2976\n",
      "url  2977\n",
      "url  2978\n",
      "url  2979\n",
      "url  2980\n",
      "url  2981\n"
     ]
    },
    {
     "data": {
      "text/plain": [
       "<selenium.webdriver.remote.webelement.WebElement (session=\"14cc306dfc6cf8a445f83a6ea888a63f\", element=\"D9D544C7F4A20D94663B5514D9E2885B_element_18681\")>"
      ]
     },
     "execution_count": 5,
     "metadata": {},
     "output_type": "execute_result"
    },
    {
     "name": "stdout",
     "output_type": "stream",
     "text": [
      "page  134 size  6\n",
      "url  2982\n",
      "url  2983\n",
      "url  2984\n",
      "url  2985\n",
      "url  2986\n",
      "url  2987\n"
     ]
    },
    {
     "data": {
      "text/plain": [
       "<selenium.webdriver.remote.webelement.WebElement (session=\"14cc306dfc6cf8a445f83a6ea888a63f\", element=\"5C0122B22D9A8E3C67968A82328E4F6D_element_18719\")>"
      ]
     },
     "execution_count": 5,
     "metadata": {},
     "output_type": "execute_result"
    },
    {
     "name": "stdout",
     "output_type": "stream",
     "text": [
      "page  135 size  6\n",
      "url  2988\n",
      "url  2989\n",
      "url  2990\n",
      "url  2991\n",
      "url  2992\n",
      "url  2993\n"
     ]
    },
    {
     "data": {
      "text/plain": [
       "<selenium.webdriver.remote.webelement.WebElement (session=\"14cc306dfc6cf8a445f83a6ea888a63f\", element=\"AF5A2BB9C261CAEEA42F578CE541A7F5_element_18757\")>"
      ]
     },
     "execution_count": 5,
     "metadata": {},
     "output_type": "execute_result"
    },
    {
     "name": "stdout",
     "output_type": "stream",
     "text": [
      "page  136 size  6\n",
      "url  2994\n",
      "url  2995\n",
      "url  2996\n",
      "url  2997\n",
      "url  2998\n",
      "url  2999\n"
     ]
    },
    {
     "data": {
      "text/plain": [
       "<selenium.webdriver.remote.webelement.WebElement (session=\"14cc306dfc6cf8a445f83a6ea888a63f\", element=\"1399B68B3245EF9CB674898F850CB9F7_element_18796\")>"
      ]
     },
     "execution_count": 5,
     "metadata": {},
     "output_type": "execute_result"
    },
    {
     "name": "stdout",
     "output_type": "stream",
     "text": [
      "page  137 size  6\n",
      "url  3000\n",
      "url  3001\n",
      "url  3002\n",
      "url  3003\n",
      "url  3004\n",
      "url  3005\n"
     ]
    },
    {
     "data": {
      "text/plain": [
       "<selenium.webdriver.remote.webelement.WebElement (session=\"14cc306dfc6cf8a445f83a6ea888a63f\", element=\"A33020528E07044AE307CA90D54EBF28_element_18830\")>"
      ]
     },
     "execution_count": 5,
     "metadata": {},
     "output_type": "execute_result"
    },
    {
     "name": "stdout",
     "output_type": "stream",
     "text": [
      "page  138 size  6\n",
      "url  3006\n",
      "url  3007\n",
      "url  3008\n",
      "url  3009\n",
      "url  3010\n",
      "url  3011\n"
     ]
    },
    {
     "data": {
      "text/plain": [
       "<selenium.webdriver.remote.webelement.WebElement (session=\"14cc306dfc6cf8a445f83a6ea888a63f\", element=\"F5A66E0F391592AA417E33846CEFEBA7_element_18876\")>"
      ]
     },
     "execution_count": 5,
     "metadata": {},
     "output_type": "execute_result"
    },
    {
     "name": "stdout",
     "output_type": "stream",
     "text": [
      "page  139 size  6\n",
      "url  3012\n",
      "url  3013\n",
      "url  3014\n",
      "url  3015\n",
      "url  3016\n",
      "url  3017\n"
     ]
    },
    {
     "data": {
      "text/plain": [
       "<selenium.webdriver.remote.webelement.WebElement (session=\"14cc306dfc6cf8a445f83a6ea888a63f\", element=\"15E14B86F38A43B0368AF1DEC634EC53_element_18908\")>"
      ]
     },
     "execution_count": 5,
     "metadata": {},
     "output_type": "execute_result"
    },
    {
     "name": "stdout",
     "output_type": "stream",
     "text": [
      "page  140 size  6\n",
      "url  3018\n",
      "url  3019\n",
      "url  3020\n",
      "url  3021\n",
      "url  3022\n",
      "url  3023\n"
     ]
    },
    {
     "data": {
      "text/plain": [
       "<selenium.webdriver.remote.webelement.WebElement (session=\"14cc306dfc6cf8a445f83a6ea888a63f\", element=\"0818B5456D2C181B478654373A35F880_element_18942\")>"
      ]
     },
     "execution_count": 5,
     "metadata": {},
     "output_type": "execute_result"
    },
    {
     "name": "stdout",
     "output_type": "stream",
     "text": [
      "page  141 size  6\n",
      "url  3024\n",
      "url  3025\n",
      "url  3026\n",
      "url  3027\n",
      "url  3028\n",
      "url  3029\n"
     ]
    },
    {
     "data": {
      "text/plain": [
       "<selenium.webdriver.remote.webelement.WebElement (session=\"14cc306dfc6cf8a445f83a6ea888a63f\", element=\"12115726D41B32DDD19B4243D228E7B7_element_18972\")>"
      ]
     },
     "execution_count": 5,
     "metadata": {},
     "output_type": "execute_result"
    },
    {
     "name": "stdout",
     "output_type": "stream",
     "text": [
      "page  142 size  6\n",
      "url  3030\n",
      "url  3031\n",
      "url  3032\n",
      "url  3033\n",
      "url  3034\n",
      "url  3035\n"
     ]
    },
    {
     "data": {
      "text/plain": [
       "<selenium.webdriver.remote.webelement.WebElement (session=\"14cc306dfc6cf8a445f83a6ea888a63f\", element=\"15783FED07FB2ECE3432F4D3430ACB22_element_19008\")>"
      ]
     },
     "execution_count": 5,
     "metadata": {},
     "output_type": "execute_result"
    },
    {
     "name": "stdout",
     "output_type": "stream",
     "text": [
      "page  143 size  6\n",
      "url  3036\n",
      "url  3037\n",
      "url  3038\n",
      "url  3039\n",
      "url  3040\n",
      "url  3041\n"
     ]
    },
    {
     "data": {
      "text/plain": [
       "<selenium.webdriver.remote.webelement.WebElement (session=\"14cc306dfc6cf8a445f83a6ea888a63f\", element=\"47F0DC2D408697709625D0077D75A85B_element_19042\")>"
      ]
     },
     "execution_count": 5,
     "metadata": {},
     "output_type": "execute_result"
    },
    {
     "name": "stdout",
     "output_type": "stream",
     "text": [
      "page  144 size  6\n",
      "url  3042\n",
      "url  3043\n",
      "url  3044\n",
      "url  3045\n",
      "url  3046\n",
      "url  3047\n"
     ]
    },
    {
     "data": {
      "text/plain": [
       "<selenium.webdriver.remote.webelement.WebElement (session=\"14cc306dfc6cf8a445f83a6ea888a63f\", element=\"C3BAA2A7535B02A9B08CFF27DC192F64_element_19089\")>"
      ]
     },
     "execution_count": 5,
     "metadata": {},
     "output_type": "execute_result"
    },
    {
     "name": "stdout",
     "output_type": "stream",
     "text": [
      "page  145 size  6\n",
      "url  3048\n",
      "url  3049\n",
      "url  3050\n",
      "url  3051\n",
      "url  3052\n",
      "url  3053\n"
     ]
    },
    {
     "data": {
      "text/plain": [
       "<selenium.webdriver.remote.webelement.WebElement (session=\"14cc306dfc6cf8a445f83a6ea888a63f\", element=\"D427CC5281C51CA9F41D7A635373E244_element_19138\")>"
      ]
     },
     "execution_count": 5,
     "metadata": {},
     "output_type": "execute_result"
    },
    {
     "name": "stdout",
     "output_type": "stream",
     "text": [
      "page  146 size  6\n",
      "url  3054\n",
      "url  3055\n",
      "url  3056\n",
      "url  3057\n",
      "url  3058\n",
      "url  3059\n"
     ]
    },
    {
     "data": {
      "text/plain": [
       "<selenium.webdriver.remote.webelement.WebElement (session=\"14cc306dfc6cf8a445f83a6ea888a63f\", element=\"842C23DCE30C4C56ABF1AF581EA12947_element_19175\")>"
      ]
     },
     "execution_count": 5,
     "metadata": {},
     "output_type": "execute_result"
    },
    {
     "name": "stdout",
     "output_type": "stream",
     "text": [
      "page  147 size  6\n",
      "url  3060\n",
      "url  3061\n",
      "url  3062\n",
      "url  3063\n",
      "url  3064\n",
      "url  3065\n"
     ]
    },
    {
     "data": {
      "text/plain": [
       "<selenium.webdriver.remote.webelement.WebElement (session=\"14cc306dfc6cf8a445f83a6ea888a63f\", element=\"B253023793D9434B3727C6BBF7676845_element_19211\")>"
      ]
     },
     "execution_count": 5,
     "metadata": {},
     "output_type": "execute_result"
    },
    {
     "name": "stdout",
     "output_type": "stream",
     "text": [
      "page  148 size  6\n",
      "url  3066\n",
      "url  3067\n",
      "url  3068\n",
      "url  3069\n",
      "url  3070\n",
      "url  3071\n"
     ]
    },
    {
     "data": {
      "text/plain": [
       "<selenium.webdriver.remote.webelement.WebElement (session=\"14cc306dfc6cf8a445f83a6ea888a63f\", element=\"0CDE332F30B4BCD823059297B49A4A32_element_19248\")>"
      ]
     },
     "execution_count": 5,
     "metadata": {},
     "output_type": "execute_result"
    },
    {
     "name": "stdout",
     "output_type": "stream",
     "text": [
      "page  149 size  6\n",
      "url  3072\n",
      "url  3073\n",
      "url  3074\n",
      "url  3075\n",
      "url  3076\n",
      "url  3077\n"
     ]
    },
    {
     "data": {
      "text/plain": [
       "<selenium.webdriver.remote.webelement.WebElement (session=\"14cc306dfc6cf8a445f83a6ea888a63f\", element=\"58E1E5E84E0D744C96749A725E938DD0_element_19282\")>"
      ]
     },
     "execution_count": 5,
     "metadata": {},
     "output_type": "execute_result"
    },
    {
     "name": "stdout",
     "output_type": "stream",
     "text": [
      "page  150 size  6\n",
      "url  3078\n",
      "url  3079\n",
      "url  3080\n",
      "url  3081\n",
      "url  3082\n",
      "url  3083\n"
     ]
    },
    {
     "data": {
      "text/plain": [
       "<selenium.webdriver.remote.webelement.WebElement (session=\"14cc306dfc6cf8a445f83a6ea888a63f\", element=\"FF35B7BF6F0DEE3CAEAD8C3FCD9AE3D7_element_19320\")>"
      ]
     },
     "execution_count": 5,
     "metadata": {},
     "output_type": "execute_result"
    },
    {
     "name": "stdout",
     "output_type": "stream",
     "text": [
      "page  151 size  6\n",
      "url  3084\n",
      "url  3085\n",
      "url  3086\n",
      "url  3087\n",
      "url  3088\n",
      "url  3089\n"
     ]
    },
    {
     "data": {
      "text/plain": [
       "<selenium.webdriver.remote.webelement.WebElement (session=\"14cc306dfc6cf8a445f83a6ea888a63f\", element=\"1D1B81281D71037C79C84ACAB3BE7C3D_element_19356\")>"
      ]
     },
     "execution_count": 5,
     "metadata": {},
     "output_type": "execute_result"
    },
    {
     "name": "stdout",
     "output_type": "stream",
     "text": [
      "page  152 size  6\n",
      "url  3090\n",
      "url  3091\n",
      "url  3092\n",
      "url  3093\n",
      "url  3094\n",
      "url  3095\n"
     ]
    },
    {
     "data": {
      "text/plain": [
       "<selenium.webdriver.remote.webelement.WebElement (session=\"14cc306dfc6cf8a445f83a6ea888a63f\", element=\"6B2E66A7CDD177B0C220211CB8261875_element_19389\")>"
      ]
     },
     "execution_count": 5,
     "metadata": {},
     "output_type": "execute_result"
    },
    {
     "name": "stdout",
     "output_type": "stream",
     "text": [
      "page  153 size  6\n",
      "url  3096\n",
      "url  3097\n",
      "url  3098\n",
      "url  3099\n",
      "url  3100\n",
      "url  3101\n"
     ]
    },
    {
     "data": {
      "text/plain": [
       "<selenium.webdriver.remote.webelement.WebElement (session=\"14cc306dfc6cf8a445f83a6ea888a63f\", element=\"CD8C8AC1616A2835594BE39D99434327_element_19424\")>"
      ]
     },
     "execution_count": 5,
     "metadata": {},
     "output_type": "execute_result"
    },
    {
     "name": "stdout",
     "output_type": "stream",
     "text": [
      "page  154 size  6\n",
      "url  3102\n",
      "url  3103\n",
      "url  3104\n",
      "url  3105\n",
      "url  3106\n",
      "url  3107\n"
     ]
    },
    {
     "data": {
      "text/plain": [
       "<selenium.webdriver.remote.webelement.WebElement (session=\"14cc306dfc6cf8a445f83a6ea888a63f\", element=\"BD35C9FB16920B8EC365F9C4E94F63DF_element_19457\")>"
      ]
     },
     "execution_count": 5,
     "metadata": {},
     "output_type": "execute_result"
    },
    {
     "name": "stdout",
     "output_type": "stream",
     "text": [
      "page  155 size  6\n",
      "url  3108\n",
      "url  3109\n",
      "url  3110\n",
      "url  3111\n",
      "url  3112\n",
      "url  3113\n"
     ]
    },
    {
     "data": {
      "text/plain": [
       "<selenium.webdriver.remote.webelement.WebElement (session=\"14cc306dfc6cf8a445f83a6ea888a63f\", element=\"6F89B8F662CA47FBD41E93D7B1103023_element_19492\")>"
      ]
     },
     "execution_count": 5,
     "metadata": {},
     "output_type": "execute_result"
    },
    {
     "name": "stdout",
     "output_type": "stream",
     "text": [
      "page  156 size  6\n",
      "url  3114\n",
      "url  3115\n",
      "url  3116\n",
      "url  3117\n",
      "url  3118\n",
      "url  3119\n"
     ]
    },
    {
     "data": {
      "text/plain": [
       "<selenium.webdriver.remote.webelement.WebElement (session=\"14cc306dfc6cf8a445f83a6ea888a63f\", element=\"7606CCE82547EEBA83835EA76E0A02E6_element_19527\")>"
      ]
     },
     "execution_count": 5,
     "metadata": {},
     "output_type": "execute_result"
    },
    {
     "name": "stdout",
     "output_type": "stream",
     "text": [
      "page  157 size  6\n",
      "url  3120\n",
      "url  3121\n",
      "url  3122\n",
      "url  3123\n",
      "url  3124\n",
      "url  3125\n"
     ]
    },
    {
     "data": {
      "text/plain": [
       "<selenium.webdriver.remote.webelement.WebElement (session=\"14cc306dfc6cf8a445f83a6ea888a63f\", element=\"4CE973C6AFF175D12145E48A2300788F_element_19566\")>"
      ]
     },
     "execution_count": 5,
     "metadata": {},
     "output_type": "execute_result"
    },
    {
     "name": "stdout",
     "output_type": "stream",
     "text": [
      "page  158 size  6\n",
      "url  3126\n",
      "url  3127\n",
      "url  3128\n",
      "url  3129\n",
      "url  3130\n",
      "url  3131\n"
     ]
    },
    {
     "data": {
      "text/plain": [
       "<selenium.webdriver.remote.webelement.WebElement (session=\"14cc306dfc6cf8a445f83a6ea888a63f\", element=\"F2239B906D3EBCC9A100E4C6D19BC8FF_element_19599\")>"
      ]
     },
     "execution_count": 5,
     "metadata": {},
     "output_type": "execute_result"
    },
    {
     "name": "stdout",
     "output_type": "stream",
     "text": [
      "page  159 size  6\n",
      "url  3132\n",
      "url  3133\n",
      "url  3134\n",
      "url  3135\n",
      "url  3136\n",
      "url  3137\n"
     ]
    },
    {
     "data": {
      "text/plain": [
       "<selenium.webdriver.remote.webelement.WebElement (session=\"14cc306dfc6cf8a445f83a6ea888a63f\", element=\"7E4ED213EA7132656A1E021AB3CB7288_element_19647\")>"
      ]
     },
     "execution_count": 5,
     "metadata": {},
     "output_type": "execute_result"
    },
    {
     "name": "stdout",
     "output_type": "stream",
     "text": [
      "page  160 size  6\n",
      "url  3138\n",
      "url  3139\n",
      "url  3140\n",
      "url  3141\n",
      "url  3142\n",
      "url  3143\n"
     ]
    },
    {
     "data": {
      "text/plain": [
       "<selenium.webdriver.remote.webelement.WebElement (session=\"14cc306dfc6cf8a445f83a6ea888a63f\", element=\"C04C6DC4C83AAABC897890E2885071CD_element_19678\")>"
      ]
     },
     "execution_count": 5,
     "metadata": {},
     "output_type": "execute_result"
    },
    {
     "name": "stdout",
     "output_type": "stream",
     "text": [
      "page  161 size  6\n",
      "url  3144\n",
      "url  3145\n",
      "url  3146\n",
      "url  3147\n",
      "url  3148\n",
      "url  3149\n"
     ]
    },
    {
     "data": {
      "text/plain": [
       "<selenium.webdriver.remote.webelement.WebElement (session=\"14cc306dfc6cf8a445f83a6ea888a63f\", element=\"2A004A870C7333EF534625A30C84EB15_element_19708\")>"
      ]
     },
     "execution_count": 5,
     "metadata": {},
     "output_type": "execute_result"
    },
    {
     "name": "stdout",
     "output_type": "stream",
     "text": [
      "page  162 size  6\n",
      "url  3150\n",
      "url  3151\n",
      "url  3152\n",
      "url  3153\n",
      "url  3154\n",
      "url  3155\n"
     ]
    },
    {
     "data": {
      "text/plain": [
       "<selenium.webdriver.remote.webelement.WebElement (session=\"14cc306dfc6cf8a445f83a6ea888a63f\", element=\"13B5ED8CEE7A752DC2628DD17215E5CB_element_19743\")>"
      ]
     },
     "execution_count": 5,
     "metadata": {},
     "output_type": "execute_result"
    },
    {
     "name": "stdout",
     "output_type": "stream",
     "text": [
      "page  163 size  6\n",
      "url  3156\n",
      "url  3157\n",
      "url  3158\n",
      "url  3159\n",
      "url  3160\n",
      "url  3161\n"
     ]
    },
    {
     "data": {
      "text/plain": [
       "<selenium.webdriver.remote.webelement.WebElement (session=\"14cc306dfc6cf8a445f83a6ea888a63f\", element=\"D1007DBC88C2D2E9CD0713525CA07D95_element_19783\")>"
      ]
     },
     "execution_count": 5,
     "metadata": {},
     "output_type": "execute_result"
    },
    {
     "name": "stdout",
     "output_type": "stream",
     "text": [
      "page  164 size  6\n",
      "url  3162\n",
      "url  3163\n",
      "url  3164\n",
      "url  3165\n",
      "url  3166\n",
      "url  3167\n"
     ]
    },
    {
     "data": {
      "text/plain": [
       "<selenium.webdriver.remote.webelement.WebElement (session=\"14cc306dfc6cf8a445f83a6ea888a63f\", element=\"05795FDB3F951AD856E80651142E03AC_element_19833\")>"
      ]
     },
     "execution_count": 5,
     "metadata": {},
     "output_type": "execute_result"
    },
    {
     "name": "stdout",
     "output_type": "stream",
     "text": [
      "page  165 size  6\n",
      "url  3168\n",
      "url  3169\n",
      "url  3170\n",
      "url  3171\n",
      "url  3172\n",
      "url  3173\n"
     ]
    },
    {
     "data": {
      "text/plain": [
       "<selenium.webdriver.remote.webelement.WebElement (session=\"14cc306dfc6cf8a445f83a6ea888a63f\", element=\"155C2A585E569FA96D51AD855E508850_element_19870\")>"
      ]
     },
     "execution_count": 5,
     "metadata": {},
     "output_type": "execute_result"
    },
    {
     "name": "stdout",
     "output_type": "stream",
     "text": [
      "page  166 size  6\n",
      "url  3174\n",
      "url  3175\n",
      "url  3176\n",
      "url  3177\n",
      "url  3178\n",
      "url  3179\n"
     ]
    },
    {
     "data": {
      "text/plain": [
       "<selenium.webdriver.remote.webelement.WebElement (session=\"14cc306dfc6cf8a445f83a6ea888a63f\", element=\"376BDD274A01899F84EAA128412227FC_element_19905\")>"
      ]
     },
     "execution_count": 5,
     "metadata": {},
     "output_type": "execute_result"
    },
    {
     "name": "stdout",
     "output_type": "stream",
     "text": [
      "page  167 size  6\n",
      "url  3180\n",
      "url  3181\n",
      "url  3182\n",
      "url  3183\n",
      "url  3184\n",
      "url  3185\n"
     ]
    },
    {
     "data": {
      "text/plain": [
       "<selenium.webdriver.remote.webelement.WebElement (session=\"14cc306dfc6cf8a445f83a6ea888a63f\", element=\"78755F9361BEF6B970650B4FE3EED76F_element_19945\")>"
      ]
     },
     "execution_count": 5,
     "metadata": {},
     "output_type": "execute_result"
    },
    {
     "name": "stdout",
     "output_type": "stream",
     "text": [
      "page  168 size  6\n",
      "url  3186\n",
      "url  3187\n",
      "url  3188\n",
      "url  3189\n",
      "url  3190\n",
      "url  3191\n"
     ]
    },
    {
     "data": {
      "text/plain": [
       "<selenium.webdriver.remote.webelement.WebElement (session=\"14cc306dfc6cf8a445f83a6ea888a63f\", element=\"81760E0DF570DE1F6080A375FCE11347_element_19981\")>"
      ]
     },
     "execution_count": 5,
     "metadata": {},
     "output_type": "execute_result"
    },
    {
     "name": "stdout",
     "output_type": "stream",
     "text": [
      "page  169 size  6\n",
      "url  3192\n",
      "url  3193\n",
      "url  3194\n",
      "url  3195\n",
      "url  3196\n",
      "url  3197\n"
     ]
    },
    {
     "data": {
      "text/plain": [
       "<selenium.webdriver.remote.webelement.WebElement (session=\"14cc306dfc6cf8a445f83a6ea888a63f\", element=\"16591BD45128BEA5289D67694818833E_element_20015\")>"
      ]
     },
     "execution_count": 5,
     "metadata": {},
     "output_type": "execute_result"
    },
    {
     "name": "stdout",
     "output_type": "stream",
     "text": [
      "page  170 size  6\n",
      "url  3198\n",
      "url  3199\n",
      "url  3200\n",
      "url  3201\n",
      "url  3202\n",
      "url  3203\n"
     ]
    },
    {
     "data": {
      "text/plain": [
       "<selenium.webdriver.remote.webelement.WebElement (session=\"14cc306dfc6cf8a445f83a6ea888a63f\", element=\"FD911FE685EB69D8867EB85435430B12_element_20053\")>"
      ]
     },
     "execution_count": 5,
     "metadata": {},
     "output_type": "execute_result"
    },
    {
     "name": "stdout",
     "output_type": "stream",
     "text": [
      "page  171 size  6\n",
      "url  3204\n",
      "url  3205\n",
      "url  3206\n",
      "url  3207\n",
      "url  3208\n",
      "url  3209\n"
     ]
    },
    {
     "data": {
      "text/plain": [
       "<selenium.webdriver.remote.webelement.WebElement (session=\"14cc306dfc6cf8a445f83a6ea888a63f\", element=\"01BA12B1B8C046EB9AD7207298A2180A_element_20090\")>"
      ]
     },
     "execution_count": 5,
     "metadata": {},
     "output_type": "execute_result"
    },
    {
     "name": "stdout",
     "output_type": "stream",
     "text": [
      "page  172 size  6\n",
      "url  3210\n",
      "url  3211\n",
      "url  3212\n",
      "url  3213\n",
      "url  3214\n",
      "url  3215\n"
     ]
    },
    {
     "data": {
      "text/plain": [
       "<selenium.webdriver.remote.webelement.WebElement (session=\"14cc306dfc6cf8a445f83a6ea888a63f\", element=\"026F6ADF8CD95AB36ACFC2AE76403B1F_element_20139\")>"
      ]
     },
     "execution_count": 5,
     "metadata": {},
     "output_type": "execute_result"
    },
    {
     "name": "stdout",
     "output_type": "stream",
     "text": [
      "page  173 size  6\n",
      "url  3216\n",
      "url  3217\n",
      "url  3218\n",
      "url  3219\n",
      "url  3220\n",
      "url  3221\n"
     ]
    },
    {
     "data": {
      "text/plain": [
       "<selenium.webdriver.remote.webelement.WebElement (session=\"14cc306dfc6cf8a445f83a6ea888a63f\", element=\"745A74712646313364001A34EFE3AB5D_element_20172\")>"
      ]
     },
     "execution_count": 5,
     "metadata": {},
     "output_type": "execute_result"
    },
    {
     "name": "stdout",
     "output_type": "stream",
     "text": [
      "page  174 size  6\n",
      "url  3222\n",
      "url  3223\n",
      "url  3224\n",
      "url  3225\n",
      "url  3226\n",
      "url  3227\n"
     ]
    },
    {
     "data": {
      "text/plain": [
       "<selenium.webdriver.remote.webelement.WebElement (session=\"14cc306dfc6cf8a445f83a6ea888a63f\", element=\"3F3D496B7480A78F5D64F2B9BF674D73_element_20211\")>"
      ]
     },
     "execution_count": 5,
     "metadata": {},
     "output_type": "execute_result"
    },
    {
     "name": "stdout",
     "output_type": "stream",
     "text": [
      "page  175 size  6\n",
      "url  3228\n",
      "url  3229\n",
      "url  3230\n",
      "url  3231\n",
      "url  3232\n",
      "url  3233\n"
     ]
    },
    {
     "data": {
      "text/plain": [
       "<selenium.webdriver.remote.webelement.WebElement (session=\"14cc306dfc6cf8a445f83a6ea888a63f\", element=\"150D9E602DF7ADA7DF3BD3479FB7D213_element_20247\")>"
      ]
     },
     "execution_count": 5,
     "metadata": {},
     "output_type": "execute_result"
    },
    {
     "name": "stdout",
     "output_type": "stream",
     "text": [
      "page  176 size  6\n",
      "url  3234\n",
      "url  3235\n",
      "url  3236\n",
      "url  3237\n",
      "url  3238\n",
      "url  3239\n"
     ]
    },
    {
     "data": {
      "text/plain": [
       "<selenium.webdriver.remote.webelement.WebElement (session=\"14cc306dfc6cf8a445f83a6ea888a63f\", element=\"1F0E0DAD1C6C7A7862F9E0AC9718E785_element_20277\")>"
      ]
     },
     "execution_count": 5,
     "metadata": {},
     "output_type": "execute_result"
    },
    {
     "name": "stdout",
     "output_type": "stream",
     "text": [
      "page  177 size  6\n",
      "url  3240\n",
      "url  3241\n",
      "url  3242\n",
      "url  3243\n",
      "url  3244\n",
      "url  3245\n"
     ]
    },
    {
     "data": {
      "text/plain": [
       "<selenium.webdriver.remote.webelement.WebElement (session=\"14cc306dfc6cf8a445f83a6ea888a63f\", element=\"1573F1F41BD55DA30FE7FABE7C6FAC0E_element_20315\")>"
      ]
     },
     "execution_count": 5,
     "metadata": {},
     "output_type": "execute_result"
    },
    {
     "name": "stdout",
     "output_type": "stream",
     "text": [
      "page  178 size  6\n",
      "url  3246\n",
      "url  3247\n",
      "url  3248\n",
      "url  3249\n",
      "url  3250\n",
      "url  3251\n"
     ]
    },
    {
     "data": {
      "text/plain": [
       "<selenium.webdriver.remote.webelement.WebElement (session=\"14cc306dfc6cf8a445f83a6ea888a63f\", element=\"ADE939B83CE00F527ECF8B4D4781F13D_element_20349\")>"
      ]
     },
     "execution_count": 5,
     "metadata": {},
     "output_type": "execute_result"
    },
    {
     "name": "stdout",
     "output_type": "stream",
     "text": [
      "page  179 size  6\n",
      "url  3252\n",
      "url  3253\n",
      "url  3254\n",
      "url  3255\n",
      "url  3256\n",
      "url  3257\n"
     ]
    },
    {
     "data": {
      "text/plain": [
       "<selenium.webdriver.remote.webelement.WebElement (session=\"14cc306dfc6cf8a445f83a6ea888a63f\", element=\"B92F956B4F2CF4A0C88D0491E2597EBB_element_20396\")>"
      ]
     },
     "execution_count": 5,
     "metadata": {},
     "output_type": "execute_result"
    },
    {
     "name": "stdout",
     "output_type": "stream",
     "text": [
      "page  0 size  12\n",
      "url  3258\n",
      "url  3259\n",
      "url  3260\n",
      "url  3261\n",
      "url  3262\n",
      "url  3263\n",
      "url  3264\n",
      "url  3265\n",
      "url  3266\n",
      "url  3267\n",
      "url  3268\n",
      "url  3269\n"
     ]
    },
    {
     "data": {
      "text/plain": [
       "<selenium.webdriver.remote.webelement.WebElement (session=\"14cc306dfc6cf8a445f83a6ea888a63f\", element=\"C6463CEB5F48837822E4B8FD5CBE46E8_element_20460\")>"
      ]
     },
     "execution_count": 5,
     "metadata": {},
     "output_type": "execute_result"
    },
    {
     "name": "stdout",
     "output_type": "stream",
     "text": [
      "page  1 size  6\n",
      "url  3270\n",
      "url  3271\n",
      "url  3272\n",
      "url  3273\n",
      "url  3274\n",
      "url  3275\n"
     ]
    },
    {
     "data": {
      "text/plain": [
       "<selenium.webdriver.remote.webelement.WebElement (session=\"14cc306dfc6cf8a445f83a6ea888a63f\", element=\"1D63E87B79DD2A57877C58ABA23930F4_element_20501\")>"
      ]
     },
     "execution_count": 5,
     "metadata": {},
     "output_type": "execute_result"
    },
    {
     "name": "stdout",
     "output_type": "stream",
     "text": [
      "page  2 size  6\n",
      "url  3276\n",
      "url  3277\n",
      "url  3278\n",
      "url  3279\n",
      "url  3280\n",
      "url  3281\n"
     ]
    },
    {
     "data": {
      "text/plain": [
       "<selenium.webdriver.remote.webelement.WebElement (session=\"14cc306dfc6cf8a445f83a6ea888a63f\", element=\"769135E2A3362FF98E08D15CD39432CE_element_20531\")>"
      ]
     },
     "execution_count": 5,
     "metadata": {},
     "output_type": "execute_result"
    },
    {
     "name": "stdout",
     "output_type": "stream",
     "text": [
      "page  3 size  6\n",
      "url  3282\n",
      "url  3283\n",
      "url  3284\n",
      "url  3285\n",
      "url  3286\n",
      "url  3287\n"
     ]
    },
    {
     "data": {
      "text/plain": [
       "<selenium.webdriver.remote.webelement.WebElement (session=\"14cc306dfc6cf8a445f83a6ea888a63f\", element=\"F9835AA4F8612809F3A91E87D1353280_element_20570\")>"
      ]
     },
     "execution_count": 5,
     "metadata": {},
     "output_type": "execute_result"
    },
    {
     "name": "stdout",
     "output_type": "stream",
     "text": [
      "page  4 size  6\n",
      "url  3288\n",
      "url  3289\n",
      "url  3290\n",
      "url  3291\n",
      "url  3292\n",
      "url  3293\n"
     ]
    },
    {
     "data": {
      "text/plain": [
       "<selenium.webdriver.remote.webelement.WebElement (session=\"14cc306dfc6cf8a445f83a6ea888a63f\", element=\"CD119FC715B6BF9E7EC0B6B5E0192100_element_20622\")>"
      ]
     },
     "execution_count": 5,
     "metadata": {},
     "output_type": "execute_result"
    },
    {
     "name": "stdout",
     "output_type": "stream",
     "text": [
      "page  5 size  6\n",
      "url  3294\n",
      "url  3295\n",
      "url  3296\n",
      "url  3297\n",
      "url  3298\n",
      "url  3299\n"
     ]
    },
    {
     "data": {
      "text/plain": [
       "<selenium.webdriver.remote.webelement.WebElement (session=\"14cc306dfc6cf8a445f83a6ea888a63f\", element=\"99EC141FF3A67E347A71D1A92413BF15_element_20666\")>"
      ]
     },
     "execution_count": 5,
     "metadata": {},
     "output_type": "execute_result"
    },
    {
     "name": "stdout",
     "output_type": "stream",
     "text": [
      "page  6 size  6\n",
      "url  3300\n",
      "url  3301\n",
      "url  3302\n",
      "url  3303\n",
      "url  3304\n",
      "url  3305\n"
     ]
    },
    {
     "data": {
      "text/plain": [
       "<selenium.webdriver.remote.webelement.WebElement (session=\"14cc306dfc6cf8a445f83a6ea888a63f\", element=\"BCE5697620D69A7B421CBC714BC369E5_element_20705\")>"
      ]
     },
     "execution_count": 5,
     "metadata": {},
     "output_type": "execute_result"
    },
    {
     "name": "stdout",
     "output_type": "stream",
     "text": [
      "page  7 size  6\n",
      "url  3306\n",
      "url  3307\n",
      "url  3308\n",
      "url  3309\n",
      "url  3310\n",
      "url  3311\n"
     ]
    },
    {
     "data": {
      "text/plain": [
       "<selenium.webdriver.remote.webelement.WebElement (session=\"14cc306dfc6cf8a445f83a6ea888a63f\", element=\"E6EB022C8D14A1C0F5947BB39C392CB6_element_20738\")>"
      ]
     },
     "execution_count": 5,
     "metadata": {},
     "output_type": "execute_result"
    },
    {
     "name": "stdout",
     "output_type": "stream",
     "text": [
      "page  8 size  6\n",
      "url  3312\n",
      "url  3313\n",
      "url  3314\n",
      "url  3315\n",
      "url  3316\n",
      "url  3317\n"
     ]
    },
    {
     "data": {
      "text/plain": [
       "<selenium.webdriver.remote.webelement.WebElement (session=\"14cc306dfc6cf8a445f83a6ea888a63f\", element=\"5FB5AFFAC27D1EF22DA8E5F3BA756A10_element_20775\")>"
      ]
     },
     "execution_count": 5,
     "metadata": {},
     "output_type": "execute_result"
    },
    {
     "name": "stdout",
     "output_type": "stream",
     "text": [
      "page  9 size  6\n",
      "url  3318\n",
      "url  3319\n",
      "url  3320\n",
      "url  3321\n",
      "url  3322\n",
      "url  3323\n"
     ]
    },
    {
     "data": {
      "text/plain": [
       "<selenium.webdriver.remote.webelement.WebElement (session=\"14cc306dfc6cf8a445f83a6ea888a63f\", element=\"87B0730B74672EF62DF191E59EECD638_element_20813\")>"
      ]
     },
     "execution_count": 5,
     "metadata": {},
     "output_type": "execute_result"
    },
    {
     "name": "stdout",
     "output_type": "stream",
     "text": [
      "page  10 size  6\n",
      "url  3324\n",
      "url  3325\n",
      "url  3326\n",
      "url  3327\n",
      "url  3328\n",
      "url  3329\n"
     ]
    },
    {
     "data": {
      "text/plain": [
       "<selenium.webdriver.remote.webelement.WebElement (session=\"14cc306dfc6cf8a445f83a6ea888a63f\", element=\"48E3ACAD6FE24754BC5721BB50E9E70C_element_20865\")>"
      ]
     },
     "execution_count": 5,
     "metadata": {},
     "output_type": "execute_result"
    },
    {
     "name": "stdout",
     "output_type": "stream",
     "text": [
      "page  11 size  6\n",
      "url  3330\n",
      "url  3331\n",
      "url  3332\n",
      "url  3333\n",
      "url  3334\n",
      "url  3335\n"
     ]
    },
    {
     "data": {
      "text/plain": [
       "<selenium.webdriver.remote.webelement.WebElement (session=\"14cc306dfc6cf8a445f83a6ea888a63f\", element=\"FE3EBE6C327481F8312FA70E569FECE4_element_20916\")>"
      ]
     },
     "execution_count": 5,
     "metadata": {},
     "output_type": "execute_result"
    },
    {
     "name": "stdout",
     "output_type": "stream",
     "text": [
      "page  12 size  6\n",
      "url  3336\n",
      "url  3337\n",
      "url  3338\n",
      "url  3339\n",
      "url  3340\n",
      "url  3341\n"
     ]
    },
    {
     "data": {
      "text/plain": [
       "<selenium.webdriver.remote.webelement.WebElement (session=\"14cc306dfc6cf8a445f83a6ea888a63f\", element=\"95A0972319994B227A1AAC6958346327_element_20955\")>"
      ]
     },
     "execution_count": 5,
     "metadata": {},
     "output_type": "execute_result"
    },
    {
     "name": "stdout",
     "output_type": "stream",
     "text": [
      "page  13 size  6\n",
      "url  3342\n",
      "url  3343\n",
      "url  3344\n",
      "url  3345\n",
      "url  3346\n",
      "url  3347\n"
     ]
    },
    {
     "data": {
      "text/plain": [
       "<selenium.webdriver.remote.webelement.WebElement (session=\"14cc306dfc6cf8a445f83a6ea888a63f\", element=\"AB1C7A7DFFC300A79DC2FEAD00BF2AB3_element_20990\")>"
      ]
     },
     "execution_count": 5,
     "metadata": {},
     "output_type": "execute_result"
    },
    {
     "name": "stdout",
     "output_type": "stream",
     "text": [
      "page  14 size  6\n",
      "url  3348\n",
      "url  3349\n",
      "url  3350\n",
      "url  3351\n",
      "url  3352\n",
      "url  3353\n"
     ]
    },
    {
     "data": {
      "text/plain": [
       "<selenium.webdriver.remote.webelement.WebElement (session=\"14cc306dfc6cf8a445f83a6ea888a63f\", element=\"60CE555200AFB582EFACF26C72957B80_element_21028\")>"
      ]
     },
     "execution_count": 5,
     "metadata": {},
     "output_type": "execute_result"
    },
    {
     "name": "stdout",
     "output_type": "stream",
     "text": [
      "page  15 size  6\n",
      "url  3354\n",
      "url  3355\n",
      "url  3356\n",
      "url  3357\n",
      "url  3358\n",
      "url  3359\n"
     ]
    },
    {
     "data": {
      "text/plain": [
       "<selenium.webdriver.remote.webelement.WebElement (session=\"14cc306dfc6cf8a445f83a6ea888a63f\", element=\"7D4167073813070C2C438828F307E356_element_21065\")>"
      ]
     },
     "execution_count": 5,
     "metadata": {},
     "output_type": "execute_result"
    },
    {
     "name": "stdout",
     "output_type": "stream",
     "text": [
      "page  16 size  6\n",
      "url  3360\n",
      "url  3361\n",
      "url  3362\n",
      "url  3363\n",
      "url  3364\n",
      "url  3365\n"
     ]
    },
    {
     "data": {
      "text/plain": [
       "<selenium.webdriver.remote.webelement.WebElement (session=\"14cc306dfc6cf8a445f83a6ea888a63f\", element=\"D98862485C82C091BC7F0C9AFF351884_element_21104\")>"
      ]
     },
     "execution_count": 5,
     "metadata": {},
     "output_type": "execute_result"
    },
    {
     "name": "stdout",
     "output_type": "stream",
     "text": [
      "page  17 size  6\n",
      "url  3366\n",
      "url  3367\n",
      "url  3368\n",
      "url  3369\n",
      "url  3370\n",
      "url  3371\n"
     ]
    },
    {
     "data": {
      "text/plain": [
       "<selenium.webdriver.remote.webelement.WebElement (session=\"14cc306dfc6cf8a445f83a6ea888a63f\", element=\"A45D68E6E019F46686C38C986BA144F9_element_21138\")>"
      ]
     },
     "execution_count": 5,
     "metadata": {},
     "output_type": "execute_result"
    },
    {
     "name": "stdout",
     "output_type": "stream",
     "text": [
      "page  18 size  6\n",
      "url  3372\n",
      "url  3373\n",
      "url  3374\n",
      "url  3375\n",
      "url  3376\n",
      "url  3377\n"
     ]
    },
    {
     "data": {
      "text/plain": [
       "<selenium.webdriver.remote.webelement.WebElement (session=\"14cc306dfc6cf8a445f83a6ea888a63f\", element=\"58417B1732121C8DFA7B5C4A3D6166CE_element_21191\")>"
      ]
     },
     "execution_count": 5,
     "metadata": {},
     "output_type": "execute_result"
    },
    {
     "name": "stdout",
     "output_type": "stream",
     "text": [
      "page  19 size  6\n",
      "url  3378\n",
      "url  3379\n",
      "url  3380\n",
      "url  3381\n",
      "url  3382\n",
      "url  3383\n"
     ]
    },
    {
     "data": {
      "text/plain": [
       "<selenium.webdriver.remote.webelement.WebElement (session=\"14cc306dfc6cf8a445f83a6ea888a63f\", element=\"1904311B11CE82102642A38CD3C1B3C2_element_21239\")>"
      ]
     },
     "execution_count": 5,
     "metadata": {},
     "output_type": "execute_result"
    },
    {
     "name": "stdout",
     "output_type": "stream",
     "text": [
      "page  20 size  6\n",
      "url  3384\n",
      "url  3385\n",
      "url  3386\n",
      "url  3387\n",
      "url  3388\n",
      "url  3389\n"
     ]
    },
    {
     "data": {
      "text/plain": [
       "<selenium.webdriver.remote.webelement.WebElement (session=\"14cc306dfc6cf8a445f83a6ea888a63f\", element=\"293A29611A3D8BF975A04FC1D2802930_element_21277\")>"
      ]
     },
     "execution_count": 5,
     "metadata": {},
     "output_type": "execute_result"
    },
    {
     "name": "stdout",
     "output_type": "stream",
     "text": [
      "page  21 size  6\n",
      "url  3390\n",
      "url  3391\n",
      "url  3392\n",
      "url  3393\n",
      "url  3394\n",
      "url  3395\n"
     ]
    },
    {
     "data": {
      "text/plain": [
       "<selenium.webdriver.remote.webelement.WebElement (session=\"14cc306dfc6cf8a445f83a6ea888a63f\", element=\"8A84E7BE9B666E8B1760D2771F258466_element_21328\")>"
      ]
     },
     "execution_count": 5,
     "metadata": {},
     "output_type": "execute_result"
    },
    {
     "name": "stdout",
     "output_type": "stream",
     "text": [
      "page  22 size  6\n",
      "url  3396\n",
      "url  3397\n",
      "url  3398\n",
      "url  3399\n",
      "url  3400\n",
      "url  3401\n"
     ]
    },
    {
     "data": {
      "text/plain": [
       "<selenium.webdriver.remote.webelement.WebElement (session=\"14cc306dfc6cf8a445f83a6ea888a63f\", element=\"D7E9CF0596DE564EB184644A8617A12F_element_21361\")>"
      ]
     },
     "execution_count": 5,
     "metadata": {},
     "output_type": "execute_result"
    },
    {
     "name": "stdout",
     "output_type": "stream",
     "text": [
      "page  23 size  6\n",
      "url  3402\n",
      "url  3403\n",
      "url  3404\n",
      "url  3405\n",
      "url  3406\n",
      "url  3407\n"
     ]
    },
    {
     "data": {
      "text/plain": [
       "<selenium.webdriver.remote.webelement.WebElement (session=\"14cc306dfc6cf8a445f83a6ea888a63f\", element=\"0ADC43D8E19AECEF21D434EDC2B7FBC4_element_21401\")>"
      ]
     },
     "execution_count": 5,
     "metadata": {},
     "output_type": "execute_result"
    },
    {
     "name": "stdout",
     "output_type": "stream",
     "text": [
      "page  24 size  6\n",
      "url  3408\n",
      "url  3409\n",
      "url  3410\n",
      "url  3411\n",
      "url  3412\n",
      "url  3413\n"
     ]
    },
    {
     "data": {
      "text/plain": [
       "<selenium.webdriver.remote.webelement.WebElement (session=\"14cc306dfc6cf8a445f83a6ea888a63f\", element=\"BF5789520A67FC842A45C1C79AB04D73_element_21433\")>"
      ]
     },
     "execution_count": 5,
     "metadata": {},
     "output_type": "execute_result"
    },
    {
     "name": "stdout",
     "output_type": "stream",
     "text": [
      "page  25 size  6\n",
      "url  3414\n",
      "url  3415\n",
      "url  3416\n",
      "url  3417\n",
      "url  3418\n",
      "url  3419\n"
     ]
    },
    {
     "data": {
      "text/plain": [
       "<selenium.webdriver.remote.webelement.WebElement (session=\"14cc306dfc6cf8a445f83a6ea888a63f\", element=\"03403C5E0AB949828E84A43257CC7DAB_element_21466\")>"
      ]
     },
     "execution_count": 5,
     "metadata": {},
     "output_type": "execute_result"
    },
    {
     "name": "stdout",
     "output_type": "stream",
     "text": [
      "page  26 size  6\n",
      "url  3420\n",
      "url  3421\n",
      "url  3422\n",
      "url  3423\n",
      "url  3424\n",
      "url  3425\n"
     ]
    },
    {
     "data": {
      "text/plain": [
       "<selenium.webdriver.remote.webelement.WebElement (session=\"14cc306dfc6cf8a445f83a6ea888a63f\", element=\"F757AFF7665E61944B095BD4327BA3C5_element_21499\")>"
      ]
     },
     "execution_count": 5,
     "metadata": {},
     "output_type": "execute_result"
    },
    {
     "name": "stdout",
     "output_type": "stream",
     "text": [
      "page  27 size  6\n",
      "url  3426\n",
      "url  3427\n",
      "url  3428\n",
      "url  3429\n",
      "url  3430\n",
      "url  3431\n"
     ]
    },
    {
     "data": {
      "text/plain": [
       "<selenium.webdriver.remote.webelement.WebElement (session=\"14cc306dfc6cf8a445f83a6ea888a63f\", element=\"43D1DA917E20F61DF9F3AAFD0D5F575D_element_21539\")>"
      ]
     },
     "execution_count": 5,
     "metadata": {},
     "output_type": "execute_result"
    },
    {
     "name": "stdout",
     "output_type": "stream",
     "text": [
      "page  28 size  6\n",
      "url  3432\n",
      "url  3433\n",
      "url  3434\n",
      "url  3435\n",
      "url  3436\n",
      "url  3437\n"
     ]
    },
    {
     "data": {
      "text/plain": [
       "<selenium.webdriver.remote.webelement.WebElement (session=\"14cc306dfc6cf8a445f83a6ea888a63f\", element=\"97A77C3263CBD968A093BEB6E032DE9E_element_21577\")>"
      ]
     },
     "execution_count": 5,
     "metadata": {},
     "output_type": "execute_result"
    },
    {
     "name": "stdout",
     "output_type": "stream",
     "text": [
      "page  29 size  6\n",
      "url  3438\n",
      "url  3439\n",
      "url  3440\n",
      "url  3441\n",
      "url  3442\n",
      "url  3443\n"
     ]
    },
    {
     "data": {
      "text/plain": [
       "<selenium.webdriver.remote.webelement.WebElement (session=\"14cc306dfc6cf8a445f83a6ea888a63f\", element=\"D8B643B96EF97FA780D769F030AFF92E_element_21613\")>"
      ]
     },
     "execution_count": 5,
     "metadata": {},
     "output_type": "execute_result"
    },
    {
     "name": "stdout",
     "output_type": "stream",
     "text": [
      "page  30 size  6\n",
      "url  3444\n",
      "url  3445\n",
      "url  3446\n",
      "url  3447\n",
      "url  3448\n",
      "url  3449\n"
     ]
    },
    {
     "data": {
      "text/plain": [
       "<selenium.webdriver.remote.webelement.WebElement (session=\"14cc306dfc6cf8a445f83a6ea888a63f\", element=\"D06EA066E3D3DC7D6E76BD5AABEB716B_element_21644\")>"
      ]
     },
     "execution_count": 5,
     "metadata": {},
     "output_type": "execute_result"
    },
    {
     "name": "stdout",
     "output_type": "stream",
     "text": [
      "page  31 size  6\n",
      "url  3450\n",
      "url  3451\n",
      "url  3452\n",
      "url  3453\n",
      "url  3454\n",
      "url  3455\n"
     ]
    },
    {
     "data": {
      "text/plain": [
       "<selenium.webdriver.remote.webelement.WebElement (session=\"14cc306dfc6cf8a445f83a6ea888a63f\", element=\"F4C47800705ADCA1D845FB5E5BB808EE_element_21684\")>"
      ]
     },
     "execution_count": 5,
     "metadata": {},
     "output_type": "execute_result"
    },
    {
     "name": "stdout",
     "output_type": "stream",
     "text": [
      "page  32 size  6\n",
      "url  3456\n",
      "url  3457\n",
      "url  3458\n",
      "url  3459\n",
      "url  3460\n",
      "url  3461\n"
     ]
    },
    {
     "data": {
      "text/plain": [
       "<selenium.webdriver.remote.webelement.WebElement (session=\"14cc306dfc6cf8a445f83a6ea888a63f\", element=\"9F522AC77BC38F373C5169E6CE2ED589_element_21727\")>"
      ]
     },
     "execution_count": 5,
     "metadata": {},
     "output_type": "execute_result"
    },
    {
     "name": "stdout",
     "output_type": "stream",
     "text": [
      "page  33 size  6\n",
      "url  3462\n",
      "url  3463\n",
      "url  3464\n",
      "url  3465\n",
      "url  3466\n",
      "url  3467\n"
     ]
    },
    {
     "data": {
      "text/plain": [
       "<selenium.webdriver.remote.webelement.WebElement (session=\"14cc306dfc6cf8a445f83a6ea888a63f\", element=\"13CC8AD2D4A6A510C2F6233CD77167E6_element_21768\")>"
      ]
     },
     "execution_count": 5,
     "metadata": {},
     "output_type": "execute_result"
    },
    {
     "name": "stdout",
     "output_type": "stream",
     "text": [
      "page  34 size  6\n",
      "url  3468\n",
      "url  3469\n",
      "url  3470\n",
      "url  3471\n",
      "url  3472\n",
      "url  3473\n"
     ]
    },
    {
     "data": {
      "text/plain": [
       "<selenium.webdriver.remote.webelement.WebElement (session=\"14cc306dfc6cf8a445f83a6ea888a63f\", element=\"9E9B94BEAE9D13A165406FBC698034A8_element_21806\")>"
      ]
     },
     "execution_count": 5,
     "metadata": {},
     "output_type": "execute_result"
    },
    {
     "name": "stdout",
     "output_type": "stream",
     "text": [
      "page  35 size  6\n",
      "url  3474\n",
      "url  3475\n",
      "url  3476\n",
      "url  3477\n",
      "url  3478\n",
      "url  3479\n"
     ]
    },
    {
     "data": {
      "text/plain": [
       "<selenium.webdriver.remote.webelement.WebElement (session=\"14cc306dfc6cf8a445f83a6ea888a63f\", element=\"00B2321E6F843CD2276496EB1742AF64_element_21843\")>"
      ]
     },
     "execution_count": 5,
     "metadata": {},
     "output_type": "execute_result"
    },
    {
     "name": "stdout",
     "output_type": "stream",
     "text": [
      "page  36 size  6\n",
      "url  3480\n",
      "url  3481\n",
      "url  3482\n",
      "url  3483\n",
      "url  3484\n",
      "url  3485\n"
     ]
    },
    {
     "data": {
      "text/plain": [
       "<selenium.webdriver.remote.webelement.WebElement (session=\"14cc306dfc6cf8a445f83a6ea888a63f\", element=\"B40268415E9B631D360D63DBDCC3305D_element_21876\")>"
      ]
     },
     "execution_count": 5,
     "metadata": {},
     "output_type": "execute_result"
    },
    {
     "name": "stdout",
     "output_type": "stream",
     "text": [
      "page  37 size  6\n",
      "url  3486\n",
      "url  3487\n",
      "url  3488\n",
      "url  3489\n",
      "url  3490\n",
      "url  3491\n"
     ]
    },
    {
     "data": {
      "text/plain": [
       "<selenium.webdriver.remote.webelement.WebElement (session=\"14cc306dfc6cf8a445f83a6ea888a63f\", element=\"CA24310C2E95D0585D70AB9ED8431FE2_element_21915\")>"
      ]
     },
     "execution_count": 5,
     "metadata": {},
     "output_type": "execute_result"
    },
    {
     "name": "stdout",
     "output_type": "stream",
     "text": [
      "page  38 size  6\n",
      "url  3492\n",
      "url  3493\n",
      "url  3494\n",
      "url  3495\n",
      "url  3496\n",
      "url  3497\n"
     ]
    },
    {
     "data": {
      "text/plain": [
       "<selenium.webdriver.remote.webelement.WebElement (session=\"14cc306dfc6cf8a445f83a6ea888a63f\", element=\"195F5B24ACCDFE1743DB80E3CA13AEB0_element_21950\")>"
      ]
     },
     "execution_count": 5,
     "metadata": {},
     "output_type": "execute_result"
    },
    {
     "name": "stdout",
     "output_type": "stream",
     "text": [
      "page  39 size  6\n",
      "url  3498\n",
      "url  3499\n",
      "url  3500\n",
      "url  3501\n",
      "url  3502\n",
      "url  3503\n"
     ]
    },
    {
     "data": {
      "text/plain": [
       "<selenium.webdriver.remote.webelement.WebElement (session=\"14cc306dfc6cf8a445f83a6ea888a63f\", element=\"DF8D36287B95806E30C324AE188E6DE2_element_21983\")>"
      ]
     },
     "execution_count": 5,
     "metadata": {},
     "output_type": "execute_result"
    },
    {
     "name": "stdout",
     "output_type": "stream",
     "text": [
      "page  40 size  6\n",
      "url  3504\n",
      "url  3505\n",
      "url  3506\n",
      "url  3507\n",
      "url  3508\n",
      "url  3509\n"
     ]
    },
    {
     "data": {
      "text/plain": [
       "<selenium.webdriver.remote.webelement.WebElement (session=\"14cc306dfc6cf8a445f83a6ea888a63f\", element=\"67C315CA53B98D8EB23CC5FCE0B11765_element_22014\")>"
      ]
     },
     "execution_count": 5,
     "metadata": {},
     "output_type": "execute_result"
    },
    {
     "name": "stdout",
     "output_type": "stream",
     "text": [
      "page  41 size  6\n",
      "url  3510\n",
      "url  3511\n",
      "url  3512\n",
      "url  3513\n",
      "url  3514\n",
      "url  3515\n"
     ]
    },
    {
     "data": {
      "text/plain": [
       "<selenium.webdriver.remote.webelement.WebElement (session=\"14cc306dfc6cf8a445f83a6ea888a63f\", element=\"A0A379EF9AA4A73069D4E49DDEB3F8B6_element_22048\")>"
      ]
     },
     "execution_count": 5,
     "metadata": {},
     "output_type": "execute_result"
    },
    {
     "name": "stdout",
     "output_type": "stream",
     "text": [
      "page  42 size  6\n",
      "url  3516\n",
      "url  3517\n",
      "url  3518\n",
      "url  3519\n",
      "url  3520\n",
      "url  3521\n"
     ]
    },
    {
     "data": {
      "text/plain": [
       "<selenium.webdriver.remote.webelement.WebElement (session=\"14cc306dfc6cf8a445f83a6ea888a63f\", element=\"7FFBB3A321FD1D6DAB8E07B38D96412A_element_22093\")>"
      ]
     },
     "execution_count": 5,
     "metadata": {},
     "output_type": "execute_result"
    },
    {
     "name": "stdout",
     "output_type": "stream",
     "text": [
      "page  43 size  6\n",
      "url  3522\n",
      "url  3523\n",
      "url  3524\n",
      "url  3525\n",
      "url  3526\n",
      "url  3527\n"
     ]
    },
    {
     "data": {
      "text/plain": [
       "<selenium.webdriver.remote.webelement.WebElement (session=\"14cc306dfc6cf8a445f83a6ea888a63f\", element=\"E83760581BB1A28237AC06F490D55C70_element_22125\")>"
      ]
     },
     "execution_count": 5,
     "metadata": {},
     "output_type": "execute_result"
    },
    {
     "name": "stdout",
     "output_type": "stream",
     "text": [
      "page  44 size  6\n",
      "url  3528\n",
      "url  3529\n",
      "url  3530\n",
      "url  3531\n",
      "url  3532\n",
      "url  3533\n"
     ]
    },
    {
     "data": {
      "text/plain": [
       "<selenium.webdriver.remote.webelement.WebElement (session=\"14cc306dfc6cf8a445f83a6ea888a63f\", element=\"E31C4E1E8469412883D7610230E9B5A6_element_22169\")>"
      ]
     },
     "execution_count": 5,
     "metadata": {},
     "output_type": "execute_result"
    },
    {
     "name": "stdout",
     "output_type": "stream",
     "text": [
      "page  45 size  6\n",
      "url  3534\n",
      "url  3535\n",
      "url  3536\n",
      "url  3537\n",
      "url  3538\n",
      "url  3539\n"
     ]
    },
    {
     "data": {
      "text/plain": [
       "<selenium.webdriver.remote.webelement.WebElement (session=\"14cc306dfc6cf8a445f83a6ea888a63f\", element=\"9E9BC977CB351C796DC03BF073663A33_element_22217\")>"
      ]
     },
     "execution_count": 5,
     "metadata": {},
     "output_type": "execute_result"
    },
    {
     "name": "stdout",
     "output_type": "stream",
     "text": [
      "page  46 size  6\n",
      "url  3540\n",
      "url  3541\n",
      "url  3542\n",
      "url  3543\n",
      "url  3544\n",
      "url  3545\n"
     ]
    },
    {
     "data": {
      "text/plain": [
       "<selenium.webdriver.remote.webelement.WebElement (session=\"14cc306dfc6cf8a445f83a6ea888a63f\", element=\"9FE77E33496891E4D59546BA18CA54D1_element_22254\")>"
      ]
     },
     "execution_count": 5,
     "metadata": {},
     "output_type": "execute_result"
    },
    {
     "name": "stdout",
     "output_type": "stream",
     "text": [
      "page  47 size  6\n",
      "url  3546\n",
      "url  3547\n",
      "url  3548\n",
      "url  3549\n",
      "url  3550\n",
      "url  3551\n"
     ]
    },
    {
     "data": {
      "text/plain": [
       "<selenium.webdriver.remote.webelement.WebElement (session=\"14cc306dfc6cf8a445f83a6ea888a63f\", element=\"12FFCFAA5ED6906AC0F450B0888C547A_element_22286\")>"
      ]
     },
     "execution_count": 5,
     "metadata": {},
     "output_type": "execute_result"
    },
    {
     "name": "stdout",
     "output_type": "stream",
     "text": [
      "page  48 size  6\n",
      "url  3552\n",
      "url  3553\n",
      "url  3554\n",
      "url  3555\n",
      "url  3556\n",
      "url  3557\n"
     ]
    },
    {
     "data": {
      "text/plain": [
       "<selenium.webdriver.remote.webelement.WebElement (session=\"14cc306dfc6cf8a445f83a6ea888a63f\", element=\"0F35ECA4566EED6010A771E45A8A7158_element_22321\")>"
      ]
     },
     "execution_count": 5,
     "metadata": {},
     "output_type": "execute_result"
    },
    {
     "name": "stdout",
     "output_type": "stream",
     "text": [
      "page  49 size  6\n",
      "url  3558\n",
      "url  3559\n",
      "url  3560\n",
      "url  3561\n",
      "url  3562\n",
      "url  3563\n"
     ]
    },
    {
     "data": {
      "text/plain": [
       "<selenium.webdriver.remote.webelement.WebElement (session=\"14cc306dfc6cf8a445f83a6ea888a63f\", element=\"66FCBF89B74963E3F1BC7C54360AD19C_element_22352\")>"
      ]
     },
     "execution_count": 5,
     "metadata": {},
     "output_type": "execute_result"
    },
    {
     "name": "stdout",
     "output_type": "stream",
     "text": [
      "page  50 size  6\n",
      "url  3564\n",
      "url  3565\n",
      "url  3566\n",
      "url  3567\n",
      "url  3568\n",
      "url  3569\n"
     ]
    },
    {
     "data": {
      "text/plain": [
       "<selenium.webdriver.remote.webelement.WebElement (session=\"14cc306dfc6cf8a445f83a6ea888a63f\", element=\"0FF1A3C3A29B495A2AC9B6BCF61DBF54_element_22392\")>"
      ]
     },
     "execution_count": 5,
     "metadata": {},
     "output_type": "execute_result"
    },
    {
     "name": "stdout",
     "output_type": "stream",
     "text": [
      "page  51 size  6\n",
      "url  3570\n",
      "url  3571\n",
      "url  3572\n",
      "url  3573\n",
      "url  3574\n",
      "url  3575\n"
     ]
    },
    {
     "data": {
      "text/plain": [
       "<selenium.webdriver.remote.webelement.WebElement (session=\"14cc306dfc6cf8a445f83a6ea888a63f\", element=\"2EBC2445BD0E1D94966CE87E05721840_element_22425\")>"
      ]
     },
     "execution_count": 5,
     "metadata": {},
     "output_type": "execute_result"
    },
    {
     "name": "stdout",
     "output_type": "stream",
     "text": [
      "page  52 size  6\n",
      "url  3576\n",
      "url  3577\n",
      "url  3578\n",
      "url  3579\n",
      "url  3580\n",
      "url  3581\n"
     ]
    },
    {
     "data": {
      "text/plain": [
       "<selenium.webdriver.remote.webelement.WebElement (session=\"14cc306dfc6cf8a445f83a6ea888a63f\", element=\"33E8533444694417A1BF0A455EDDC162_element_22479\")>"
      ]
     },
     "execution_count": 5,
     "metadata": {},
     "output_type": "execute_result"
    },
    {
     "name": "stdout",
     "output_type": "stream",
     "text": [
      "page  53 size  6\n",
      "url  3582\n",
      "url  3583\n",
      "url  3584\n",
      "url  3585\n",
      "url  3586\n",
      "url  3587\n"
     ]
    },
    {
     "data": {
      "text/plain": [
       "<selenium.webdriver.remote.webelement.WebElement (session=\"14cc306dfc6cf8a445f83a6ea888a63f\", element=\"AD2AF872C9C1E573635B11468883F6B0_element_22516\")>"
      ]
     },
     "execution_count": 5,
     "metadata": {},
     "output_type": "execute_result"
    },
    {
     "name": "stdout",
     "output_type": "stream",
     "text": [
      "page  54 size  6\n",
      "url  3588\n",
      "url  3589\n",
      "url  3590\n",
      "url  3591\n",
      "url  3592\n",
      "url  3593\n"
     ]
    },
    {
     "data": {
      "text/plain": [
       "<selenium.webdriver.remote.webelement.WebElement (session=\"14cc306dfc6cf8a445f83a6ea888a63f\", element=\"C54DA6B9445350CDBCD6A898851EE085_element_22555\")>"
      ]
     },
     "execution_count": 5,
     "metadata": {},
     "output_type": "execute_result"
    },
    {
     "name": "stdout",
     "output_type": "stream",
     "text": [
      "page  55 size  6\n",
      "url  3594\n",
      "url  3595\n",
      "url  3596\n",
      "url  3597\n",
      "url  3598\n",
      "url  3599\n"
     ]
    },
    {
     "data": {
      "text/plain": [
       "<selenium.webdriver.remote.webelement.WebElement (session=\"14cc306dfc6cf8a445f83a6ea888a63f\", element=\"E8DBEAFE69D799E2AD1D0040A1336B67_element_22584\")>"
      ]
     },
     "execution_count": 5,
     "metadata": {},
     "output_type": "execute_result"
    },
    {
     "name": "stdout",
     "output_type": "stream",
     "text": [
      "page  56 size  6\n",
      "url  3600\n",
      "url  3601\n",
      "url  3602\n",
      "url  3603\n",
      "url  3604\n",
      "url  3605\n"
     ]
    },
    {
     "data": {
      "text/plain": [
       "<selenium.webdriver.remote.webelement.WebElement (session=\"14cc306dfc6cf8a445f83a6ea888a63f\", element=\"DCE7F36485CFEDE4970E0DE10B323884_element_22619\")>"
      ]
     },
     "execution_count": 5,
     "metadata": {},
     "output_type": "execute_result"
    },
    {
     "name": "stdout",
     "output_type": "stream",
     "text": [
      "page  57 size  6\n",
      "url  3606\n",
      "url  3607\n",
      "url  3608\n",
      "url  3609\n",
      "url  3610\n",
      "url  3611\n"
     ]
    },
    {
     "data": {
      "text/plain": [
       "<selenium.webdriver.remote.webelement.WebElement (session=\"14cc306dfc6cf8a445f83a6ea888a63f\", element=\"08C898969568289518ACE1D8525BC97A_element_22655\")>"
      ]
     },
     "execution_count": 5,
     "metadata": {},
     "output_type": "execute_result"
    },
    {
     "name": "stdout",
     "output_type": "stream",
     "text": [
      "page  58 size  6\n",
      "url  3612\n",
      "url  3613\n",
      "url  3614\n",
      "url  3615\n",
      "url  3616\n",
      "url  3617\n"
     ]
    },
    {
     "data": {
      "text/plain": [
       "<selenium.webdriver.remote.webelement.WebElement (session=\"14cc306dfc6cf8a445f83a6ea888a63f\", element=\"0E55548D316E884CFB892315737B585B_element_22698\")>"
      ]
     },
     "execution_count": 5,
     "metadata": {},
     "output_type": "execute_result"
    },
    {
     "name": "stdout",
     "output_type": "stream",
     "text": [
      "page  59 size  6\n",
      "url  3618\n",
      "url  3619\n",
      "url  3620\n",
      "url  3621\n",
      "url  3622\n",
      "url  3623\n"
     ]
    },
    {
     "data": {
      "text/plain": [
       "<selenium.webdriver.remote.webelement.WebElement (session=\"14cc306dfc6cf8a445f83a6ea888a63f\", element=\"1ACBCCF2C6FC7C75D6C20790079ECB57_element_22734\")>"
      ]
     },
     "execution_count": 5,
     "metadata": {},
     "output_type": "execute_result"
    },
    {
     "name": "stdout",
     "output_type": "stream",
     "text": [
      "page  60 size  6\n",
      "url  3624\n",
      "url  3625\n",
      "url  3626\n",
      "url  3627\n",
      "url  3628\n",
      "url  3629\n"
     ]
    },
    {
     "data": {
      "text/plain": [
       "<selenium.webdriver.remote.webelement.WebElement (session=\"14cc306dfc6cf8a445f83a6ea888a63f\", element=\"74863205F2B2BCDE1C9BBF9AE145CB46_element_22768\")>"
      ]
     },
     "execution_count": 5,
     "metadata": {},
     "output_type": "execute_result"
    },
    {
     "name": "stdout",
     "output_type": "stream",
     "text": [
      "page  61 size  6\n",
      "url  3630\n",
      "url  3631\n",
      "url  3632\n",
      "url  3633\n",
      "url  3634\n",
      "url  3635\n"
     ]
    },
    {
     "data": {
      "text/plain": [
       "<selenium.webdriver.remote.webelement.WebElement (session=\"14cc306dfc6cf8a445f83a6ea888a63f\", element=\"5305975DAAC653AF57BF2029D95C573F_element_22798\")>"
      ]
     },
     "execution_count": 5,
     "metadata": {},
     "output_type": "execute_result"
    },
    {
     "name": "stdout",
     "output_type": "stream",
     "text": [
      "page  62 size  6\n",
      "url  3636\n",
      "url  3637\n",
      "url  3638\n",
      "url  3639\n",
      "url  3640\n",
      "url  3641\n"
     ]
    },
    {
     "data": {
      "text/plain": [
       "<selenium.webdriver.remote.webelement.WebElement (session=\"14cc306dfc6cf8a445f83a6ea888a63f\", element=\"8F7B74D44BC7B87B5D285CB2A9376EFB_element_22835\")>"
      ]
     },
     "execution_count": 5,
     "metadata": {},
     "output_type": "execute_result"
    },
    {
     "name": "stdout",
     "output_type": "stream",
     "text": [
      "page  63 size  6\n",
      "url  3642\n",
      "url  3643\n",
      "url  3644\n",
      "url  3645\n",
      "url  3646\n",
      "url  3647\n"
     ]
    },
    {
     "data": {
      "text/plain": [
       "<selenium.webdriver.remote.webelement.WebElement (session=\"14cc306dfc6cf8a445f83a6ea888a63f\", element=\"73F55CD08A39F34B4485BABFE50E32E0_element_22871\")>"
      ]
     },
     "execution_count": 5,
     "metadata": {},
     "output_type": "execute_result"
    },
    {
     "name": "stdout",
     "output_type": "stream",
     "text": [
      "page  64 size  6\n",
      "url  3648\n",
      "url  3649\n",
      "url  3650\n",
      "url  3651\n",
      "url  3652\n",
      "url  3653\n"
     ]
    },
    {
     "data": {
      "text/plain": [
       "<selenium.webdriver.remote.webelement.WebElement (session=\"14cc306dfc6cf8a445f83a6ea888a63f\", element=\"9542FF42C183CB648521D60B0B794B77_element_22904\")>"
      ]
     },
     "execution_count": 5,
     "metadata": {},
     "output_type": "execute_result"
    },
    {
     "name": "stdout",
     "output_type": "stream",
     "text": [
      "page  65 size  6\n",
      "url  3654\n",
      "url  3655\n",
      "url  3656\n",
      "url  3657\n",
      "url  3658\n",
      "url  3659\n"
     ]
    },
    {
     "data": {
      "text/plain": [
       "<selenium.webdriver.remote.webelement.WebElement (session=\"14cc306dfc6cf8a445f83a6ea888a63f\", element=\"5104EF61C231EAA1097E45652E4A38F5_element_22938\")>"
      ]
     },
     "execution_count": 5,
     "metadata": {},
     "output_type": "execute_result"
    },
    {
     "name": "stdout",
     "output_type": "stream",
     "text": [
      "page  66 size  6\n",
      "url  3660\n",
      "url  3661\n",
      "url  3662\n",
      "url  3663\n",
      "url  3664\n",
      "url  3665\n"
     ]
    },
    {
     "data": {
      "text/plain": [
       "<selenium.webdriver.remote.webelement.WebElement (session=\"14cc306dfc6cf8a445f83a6ea888a63f\", element=\"C4ABCB01FC2FE66AFA7530EA10B7DEFE_element_22973\")>"
      ]
     },
     "execution_count": 5,
     "metadata": {},
     "output_type": "execute_result"
    },
    {
     "name": "stdout",
     "output_type": "stream",
     "text": [
      "page  67 size  6\n",
      "url  3666\n",
      "url  3667\n",
      "url  3668\n",
      "url  3669\n",
      "url  3670\n",
      "url  3671\n"
     ]
    },
    {
     "data": {
      "text/plain": [
       "<selenium.webdriver.remote.webelement.WebElement (session=\"14cc306dfc6cf8a445f83a6ea888a63f\", element=\"17ACCC2CDE8168892A1D2B0A6C8A65D5_element_23015\")>"
      ]
     },
     "execution_count": 5,
     "metadata": {},
     "output_type": "execute_result"
    },
    {
     "name": "stdout",
     "output_type": "stream",
     "text": [
      "page  68 size  6\n",
      "url  3672\n",
      "url  3673\n",
      "url  3674\n",
      "url  3675\n",
      "url  3676\n",
      "url  3677\n"
     ]
    },
    {
     "data": {
      "text/plain": [
       "<selenium.webdriver.remote.webelement.WebElement (session=\"14cc306dfc6cf8a445f83a6ea888a63f\", element=\"1B994A62A10903E3C227CF4494AC5E14_element_23047\")>"
      ]
     },
     "execution_count": 5,
     "metadata": {},
     "output_type": "execute_result"
    },
    {
     "name": "stdout",
     "output_type": "stream",
     "text": [
      "page  69 size  6\n",
      "url  3678\n",
      "url  3679\n",
      "url  3680\n",
      "url  3681\n",
      "url  3682\n",
      "url  3683\n"
     ]
    },
    {
     "data": {
      "text/plain": [
       "<selenium.webdriver.remote.webelement.WebElement (session=\"14cc306dfc6cf8a445f83a6ea888a63f\", element=\"06548B8A33E811660B2BB019E833C0F2_element_23085\")>"
      ]
     },
     "execution_count": 5,
     "metadata": {},
     "output_type": "execute_result"
    },
    {
     "name": "stdout",
     "output_type": "stream",
     "text": [
      "page  70 size  6\n",
      "url  3684\n",
      "url  3685\n",
      "url  3686\n",
      "url  3687\n",
      "url  3688\n",
      "url  3689\n"
     ]
    },
    {
     "data": {
      "text/plain": [
       "<selenium.webdriver.remote.webelement.WebElement (session=\"14cc306dfc6cf8a445f83a6ea888a63f\", element=\"070A7E284825107E32E294D6662A8856_element_23136\")>"
      ]
     },
     "execution_count": 5,
     "metadata": {},
     "output_type": "execute_result"
    },
    {
     "name": "stdout",
     "output_type": "stream",
     "text": [
      "page  71 size  6\n",
      "url  3690\n",
      "url  3691\n",
      "url  3692\n",
      "url  3693\n",
      "url  3694\n",
      "url  3695\n"
     ]
    },
    {
     "data": {
      "text/plain": [
       "<selenium.webdriver.remote.webelement.WebElement (session=\"14cc306dfc6cf8a445f83a6ea888a63f\", element=\"17E42734B1187467F0B46B9BED95BF4D_element_23176\")>"
      ]
     },
     "execution_count": 5,
     "metadata": {},
     "output_type": "execute_result"
    },
    {
     "name": "stdout",
     "output_type": "stream",
     "text": [
      "page  72 size  6\n",
      "url  3696\n",
      "url  3697\n",
      "url  3698\n",
      "url  3699\n",
      "url  3700\n",
      "url  3701\n"
     ]
    },
    {
     "data": {
      "text/plain": [
       "<selenium.webdriver.remote.webelement.WebElement (session=\"14cc306dfc6cf8a445f83a6ea888a63f\", element=\"62723B809E80AF48400AFCFDFE5744A4_element_23247\")>"
      ]
     },
     "execution_count": 5,
     "metadata": {},
     "output_type": "execute_result"
    },
    {
     "name": "stdout",
     "output_type": "stream",
     "text": [
      "page  73 size  6\n",
      "url  3702\n",
      "url  3703\n",
      "url  3704\n",
      "url  3705\n",
      "url  3706\n",
      "url  3707\n"
     ]
    },
    {
     "data": {
      "text/plain": [
       "<selenium.webdriver.remote.webelement.WebElement (session=\"14cc306dfc6cf8a445f83a6ea888a63f\", element=\"112D78C3B5F6C980F49CC0EF06DB558E_element_23279\")>"
      ]
     },
     "execution_count": 5,
     "metadata": {},
     "output_type": "execute_result"
    },
    {
     "name": "stdout",
     "output_type": "stream",
     "text": [
      "page  74 size  6\n",
      "url  3708\n",
      "url  3709\n",
      "url  3710\n",
      "url  3711\n",
      "url  3712\n",
      "url  3713\n"
     ]
    },
    {
     "data": {
      "text/plain": [
       "<selenium.webdriver.remote.webelement.WebElement (session=\"14cc306dfc6cf8a445f83a6ea888a63f\", element=\"C50409DB629A31B0F7973EB75F8EA8BA_element_23332\")>"
      ]
     },
     "execution_count": 5,
     "metadata": {},
     "output_type": "execute_result"
    },
    {
     "name": "stdout",
     "output_type": "stream",
     "text": [
      "page  75 size  6\n",
      "url  3714\n",
      "url  3715\n",
      "url  3716\n",
      "url  3717\n",
      "url  3718\n",
      "url  3719\n"
     ]
    },
    {
     "data": {
      "text/plain": [
       "<selenium.webdriver.remote.webelement.WebElement (session=\"14cc306dfc6cf8a445f83a6ea888a63f\", element=\"AC44815DD74FDED3903859ED4E9494A0_element_23362\")>"
      ]
     },
     "execution_count": 5,
     "metadata": {},
     "output_type": "execute_result"
    },
    {
     "name": "stdout",
     "output_type": "stream",
     "text": [
      "page  76 size  6\n",
      "url  3720\n",
      "url  3721\n",
      "url  3722\n",
      "url  3723\n",
      "url  3724\n",
      "url  3725\n"
     ]
    },
    {
     "data": {
      "text/plain": [
       "<selenium.webdriver.remote.webelement.WebElement (session=\"14cc306dfc6cf8a445f83a6ea888a63f\", element=\"700DEC5C075447E9BCF13FB578D7EA3F_element_23421\")>"
      ]
     },
     "execution_count": 5,
     "metadata": {},
     "output_type": "execute_result"
    },
    {
     "name": "stdout",
     "output_type": "stream",
     "text": [
      "page  77 size  6\n",
      "url  3726\n",
      "url  3727\n",
      "url  3728\n",
      "url  3729\n",
      "url  3730\n",
      "url  3731\n"
     ]
    },
    {
     "data": {
      "text/plain": [
       "<selenium.webdriver.remote.webelement.WebElement (session=\"14cc306dfc6cf8a445f83a6ea888a63f\", element=\"A400EFAC28983EFB78F7FDF2A2F33B69_element_23449\")>"
      ]
     },
     "execution_count": 5,
     "metadata": {},
     "output_type": "execute_result"
    },
    {
     "name": "stdout",
     "output_type": "stream",
     "text": [
      "page  78 size  6\n",
      "url  3732\n",
      "url  3733\n",
      "url  3734\n",
      "url  3735\n",
      "url  3736\n",
      "url  3737\n"
     ]
    },
    {
     "data": {
      "text/plain": [
       "<selenium.webdriver.remote.webelement.WebElement (session=\"14cc306dfc6cf8a445f83a6ea888a63f\", element=\"9964F0CEE0646843EE91ED7819261126_element_23481\")>"
      ]
     },
     "execution_count": 5,
     "metadata": {},
     "output_type": "execute_result"
    },
    {
     "name": "stdout",
     "output_type": "stream",
     "text": [
      "page  79 size  6\n",
      "url  3738\n",
      "url  3739\n",
      "url  3740\n",
      "url  3741\n",
      "url  3742\n",
      "url  3743\n"
     ]
    },
    {
     "data": {
      "text/plain": [
       "<selenium.webdriver.remote.webelement.WebElement (session=\"14cc306dfc6cf8a445f83a6ea888a63f\", element=\"BB83BFC2F0F95487DA02067E9B6D512D_element_23521\")>"
      ]
     },
     "execution_count": 5,
     "metadata": {},
     "output_type": "execute_result"
    },
    {
     "name": "stdout",
     "output_type": "stream",
     "text": [
      "page  80 size  6\n",
      "url  3744\n",
      "url  3745\n",
      "url  3746\n",
      "url  3747\n",
      "url  3748\n",
      "url  3749\n"
     ]
    },
    {
     "data": {
      "text/plain": [
       "<selenium.webdriver.remote.webelement.WebElement (session=\"14cc306dfc6cf8a445f83a6ea888a63f\", element=\"F313989EFFC82BC0C1955C70641F47D2_element_23556\")>"
      ]
     },
     "execution_count": 5,
     "metadata": {},
     "output_type": "execute_result"
    },
    {
     "name": "stdout",
     "output_type": "stream",
     "text": [
      "page  81 size  6\n",
      "url  3750\n",
      "url  3751\n",
      "url  3752\n",
      "url  3753\n",
      "url  3754\n",
      "url  3755\n"
     ]
    },
    {
     "data": {
      "text/plain": [
       "<selenium.webdriver.remote.webelement.WebElement (session=\"14cc306dfc6cf8a445f83a6ea888a63f\", element=\"5D8F9EFA075B803EBF012DA8172F9D39_element_23612\")>"
      ]
     },
     "execution_count": 5,
     "metadata": {},
     "output_type": "execute_result"
    },
    {
     "name": "stdout",
     "output_type": "stream",
     "text": [
      "page  82 size  6\n",
      "url  3756\n",
      "url  3757\n",
      "url  3758\n",
      "url  3759\n",
      "url  3760\n",
      "url  3761\n"
     ]
    },
    {
     "data": {
      "text/plain": [
       "<selenium.webdriver.remote.webelement.WebElement (session=\"14cc306dfc6cf8a445f83a6ea888a63f\", element=\"ADFC2DFA901BFDA60B8FE763F5A8D87F_element_23658\")>"
      ]
     },
     "execution_count": 5,
     "metadata": {},
     "output_type": "execute_result"
    },
    {
     "name": "stdout",
     "output_type": "stream",
     "text": [
      "page  83 size  6\n",
      "url  3762\n",
      "url  3763\n",
      "url  3764\n",
      "url  3765\n",
      "url  3766\n",
      "url  3767\n"
     ]
    },
    {
     "data": {
      "text/plain": [
       "<selenium.webdriver.remote.webelement.WebElement (session=\"14cc306dfc6cf8a445f83a6ea888a63f\", element=\"3E9A82C9FDFCF0E9BB2F589D96C5AC96_element_23693\")>"
      ]
     },
     "execution_count": 5,
     "metadata": {},
     "output_type": "execute_result"
    },
    {
     "name": "stdout",
     "output_type": "stream",
     "text": [
      "page  84 size  6\n",
      "url  3768\n",
      "url  3769\n",
      "url  3770\n",
      "url  3771\n",
      "url  3772\n",
      "url  3773\n"
     ]
    },
    {
     "data": {
      "text/plain": [
       "<selenium.webdriver.remote.webelement.WebElement (session=\"14cc306dfc6cf8a445f83a6ea888a63f\", element=\"9233972BC0F5C5B014313DA8FE12C505_element_23735\")>"
      ]
     },
     "execution_count": 5,
     "metadata": {},
     "output_type": "execute_result"
    },
    {
     "name": "stdout",
     "output_type": "stream",
     "text": [
      "page  85 size  6\n",
      "url  3774\n",
      "url  3775\n",
      "url  3776\n",
      "url  3777\n",
      "url  3778\n",
      "url  3779\n"
     ]
    },
    {
     "data": {
      "text/plain": [
       "<selenium.webdriver.remote.webelement.WebElement (session=\"14cc306dfc6cf8a445f83a6ea888a63f\", element=\"D01BB78B467E0F5786E9F7C66FE59D50_element_23785\")>"
      ]
     },
     "execution_count": 5,
     "metadata": {},
     "output_type": "execute_result"
    },
    {
     "name": "stdout",
     "output_type": "stream",
     "text": [
      "page  86 size  6\n",
      "url  3780\n",
      "url  3781\n",
      "url  3782\n",
      "url  3783\n",
      "url  3784\n",
      "url  3785\n"
     ]
    },
    {
     "data": {
      "text/plain": [
       "<selenium.webdriver.remote.webelement.WebElement (session=\"14cc306dfc6cf8a445f83a6ea888a63f\", element=\"9B1420709BA9194C2D57BC47B2CEBD2D_element_23823\")>"
      ]
     },
     "execution_count": 5,
     "metadata": {},
     "output_type": "execute_result"
    },
    {
     "name": "stdout",
     "output_type": "stream",
     "text": [
      "page  87 size  6\n",
      "url  3786\n",
      "url  3787\n",
      "url  3788\n",
      "url  3789\n",
      "url  3790\n",
      "url  3791\n"
     ]
    },
    {
     "data": {
      "text/plain": [
       "<selenium.webdriver.remote.webelement.WebElement (session=\"14cc306dfc6cf8a445f83a6ea888a63f\", element=\"9E2C6B44D122292A9A3A73A14198F800_element_23859\")>"
      ]
     },
     "execution_count": 5,
     "metadata": {},
     "output_type": "execute_result"
    },
    {
     "name": "stdout",
     "output_type": "stream",
     "text": [
      "page  88 size  6\n",
      "url  3792\n",
      "url  3793\n",
      "url  3794\n",
      "url  3795\n",
      "url  3796\n",
      "url  3797\n"
     ]
    },
    {
     "data": {
      "text/plain": [
       "<selenium.webdriver.remote.webelement.WebElement (session=\"14cc306dfc6cf8a445f83a6ea888a63f\", element=\"6905180BEC1B534CF0E51F64E7E6CB0F_element_23893\")>"
      ]
     },
     "execution_count": 5,
     "metadata": {},
     "output_type": "execute_result"
    },
    {
     "name": "stdout",
     "output_type": "stream",
     "text": [
      "page  89 size  6\n",
      "url  3798\n",
      "url  3799\n",
      "url  3800\n",
      "url  3801\n",
      "url  3802\n",
      "url  3803\n"
     ]
    },
    {
     "data": {
      "text/plain": [
       "<selenium.webdriver.remote.webelement.WebElement (session=\"14cc306dfc6cf8a445f83a6ea888a63f\", element=\"94DAFB3C0BF72A229A09EE86281151B5_element_23937\")>"
      ]
     },
     "execution_count": 5,
     "metadata": {},
     "output_type": "execute_result"
    },
    {
     "name": "stdout",
     "output_type": "stream",
     "text": [
      "page  90 size  6\n",
      "url  3804\n",
      "url  3805\n",
      "url  3806\n",
      "url  3807\n",
      "url  3808\n",
      "url  3809\n"
     ]
    },
    {
     "data": {
      "text/plain": [
       "<selenium.webdriver.remote.webelement.WebElement (session=\"14cc306dfc6cf8a445f83a6ea888a63f\", element=\"8A7A587C1770AD11984A9C8C9BD9717D_element_23971\")>"
      ]
     },
     "execution_count": 5,
     "metadata": {},
     "output_type": "execute_result"
    },
    {
     "name": "stdout",
     "output_type": "stream",
     "text": [
      "page  91 size  6\n",
      "url  3810\n",
      "url  3811\n",
      "url  3812\n",
      "url  3813\n",
      "url  3814\n",
      "url  3815\n"
     ]
    },
    {
     "data": {
      "text/plain": [
       "<selenium.webdriver.remote.webelement.WebElement (session=\"14cc306dfc6cf8a445f83a6ea888a63f\", element=\"4FED92AB8A7EA8EDC47BCEF97BB5FCAD_element_24005\")>"
      ]
     },
     "execution_count": 5,
     "metadata": {},
     "output_type": "execute_result"
    },
    {
     "name": "stdout",
     "output_type": "stream",
     "text": [
      "page  92 size  6\n",
      "url  3816\n",
      "url  3817\n",
      "url  3818\n",
      "url  3819\n",
      "url  3820\n",
      "url  3821\n"
     ]
    },
    {
     "data": {
      "text/plain": [
       "<selenium.webdriver.remote.webelement.WebElement (session=\"14cc306dfc6cf8a445f83a6ea888a63f\", element=\"396353D2252DE1FBE3F789FA4E758884_element_24044\")>"
      ]
     },
     "execution_count": 5,
     "metadata": {},
     "output_type": "execute_result"
    },
    {
     "name": "stdout",
     "output_type": "stream",
     "text": [
      "page  93 size  6\n",
      "url  3822\n",
      "url  3823\n",
      "url  3824\n",
      "url  3825\n",
      "url  3826\n",
      "url  3827\n"
     ]
    },
    {
     "data": {
      "text/plain": [
       "<selenium.webdriver.remote.webelement.WebElement (session=\"14cc306dfc6cf8a445f83a6ea888a63f\", element=\"69B027C903A57D84E0DAEDCED1ED554F_element_24076\")>"
      ]
     },
     "execution_count": 5,
     "metadata": {},
     "output_type": "execute_result"
    },
    {
     "name": "stdout",
     "output_type": "stream",
     "text": [
      "page  94 size  6\n",
      "url  3828\n",
      "url  3829\n",
      "url  3830\n",
      "url  3831\n",
      "url  3832\n",
      "url  3833\n"
     ]
    },
    {
     "data": {
      "text/plain": [
       "<selenium.webdriver.remote.webelement.WebElement (session=\"14cc306dfc6cf8a445f83a6ea888a63f\", element=\"5E83387535F55E80ACD9B1279D72AE11_element_24123\")>"
      ]
     },
     "execution_count": 5,
     "metadata": {},
     "output_type": "execute_result"
    },
    {
     "name": "stdout",
     "output_type": "stream",
     "text": [
      "page  95 size  6\n",
      "url  3834\n",
      "url  3835\n",
      "url  3836\n",
      "url  3837\n",
      "url  3838\n",
      "url  3839\n"
     ]
    },
    {
     "data": {
      "text/plain": [
       "<selenium.webdriver.remote.webelement.WebElement (session=\"14cc306dfc6cf8a445f83a6ea888a63f\", element=\"BA58D3D2E880CA519027E5424BAAB5F6_element_24156\")>"
      ]
     },
     "execution_count": 5,
     "metadata": {},
     "output_type": "execute_result"
    },
    {
     "name": "stdout",
     "output_type": "stream",
     "text": [
      "page  96 size  6\n",
      "url  3840\n",
      "url  3841\n",
      "url  3842\n",
      "url  3843\n",
      "url  3844\n",
      "url  3845\n"
     ]
    },
    {
     "data": {
      "text/plain": [
       "<selenium.webdriver.remote.webelement.WebElement (session=\"14cc306dfc6cf8a445f83a6ea888a63f\", element=\"2D9EAB31C0DC7C97DBE878915B4429CC_element_24207\")>"
      ]
     },
     "execution_count": 5,
     "metadata": {},
     "output_type": "execute_result"
    },
    {
     "name": "stdout",
     "output_type": "stream",
     "text": [
      "page  97 size  6\n",
      "url  3846\n",
      "url  3847\n",
      "url  3848\n",
      "url  3849\n",
      "url  3850\n",
      "url  3851\n"
     ]
    },
    {
     "data": {
      "text/plain": [
       "<selenium.webdriver.remote.webelement.WebElement (session=\"14cc306dfc6cf8a445f83a6ea888a63f\", element=\"4E447B61CB45A044C7B6D6348EDCFABA_element_24246\")>"
      ]
     },
     "execution_count": 5,
     "metadata": {},
     "output_type": "execute_result"
    },
    {
     "name": "stdout",
     "output_type": "stream",
     "text": [
      "page  98 size  6\n",
      "url  3852\n",
      "url  3853\n",
      "url  3854\n",
      "url  3855\n",
      "url  3856\n",
      "url  3857\n"
     ]
    },
    {
     "data": {
      "text/plain": [
       "<selenium.webdriver.remote.webelement.WebElement (session=\"14cc306dfc6cf8a445f83a6ea888a63f\", element=\"716FCC32C32FB9533DC13EA522B778E4_element_24314\")>"
      ]
     },
     "execution_count": 5,
     "metadata": {},
     "output_type": "execute_result"
    },
    {
     "name": "stdout",
     "output_type": "stream",
     "text": [
      "page  99 size  6\n",
      "url  3858\n",
      "url  3859\n",
      "url  3860\n",
      "url  3861\n",
      "url  3862\n",
      "url  3863\n"
     ]
    },
    {
     "data": {
      "text/plain": [
       "<selenium.webdriver.remote.webelement.WebElement (session=\"14cc306dfc6cf8a445f83a6ea888a63f\", element=\"ED80FEC7B4D8B5CA9E8F24997934A97D_element_24348\")>"
      ]
     },
     "execution_count": 5,
     "metadata": {},
     "output_type": "execute_result"
    },
    {
     "name": "stdout",
     "output_type": "stream",
     "text": [
      "page  100 size  6\n",
      "url  3864\n",
      "url  3865\n",
      "url  3866\n",
      "url  3867\n",
      "url  3868\n",
      "url  3869\n"
     ]
    },
    {
     "data": {
      "text/plain": [
       "<selenium.webdriver.remote.webelement.WebElement (session=\"14cc306dfc6cf8a445f83a6ea888a63f\", element=\"2FF27491FD3F6B052F86FC18E37DB26E_element_24390\")>"
      ]
     },
     "execution_count": 5,
     "metadata": {},
     "output_type": "execute_result"
    },
    {
     "name": "stdout",
     "output_type": "stream",
     "text": [
      "page  101 size  6\n",
      "url  3870\n",
      "url  3871\n",
      "url  3872\n",
      "url  3873\n",
      "url  3874\n",
      "url  3875\n"
     ]
    },
    {
     "data": {
      "text/plain": [
       "<selenium.webdriver.remote.webelement.WebElement (session=\"14cc306dfc6cf8a445f83a6ea888a63f\", element=\"14E0BE9C7417D693F5D88ADCA28CB4AE_element_24423\")>"
      ]
     },
     "execution_count": 5,
     "metadata": {},
     "output_type": "execute_result"
    },
    {
     "name": "stdout",
     "output_type": "stream",
     "text": [
      "page  102 size  6\n",
      "url  3876\n",
      "url  3877\n",
      "url  3878\n",
      "url  3879\n",
      "url  3880\n",
      "url  3881\n"
     ]
    },
    {
     "data": {
      "text/plain": [
       "<selenium.webdriver.remote.webelement.WebElement (session=\"14cc306dfc6cf8a445f83a6ea888a63f\", element=\"9AFD953B41828538F35EE43A29F8D312_element_24462\")>"
      ]
     },
     "execution_count": 5,
     "metadata": {},
     "output_type": "execute_result"
    },
    {
     "name": "stdout",
     "output_type": "stream",
     "text": [
      "page  103 size  6\n",
      "url  3882\n",
      "url  3883\n",
      "url  3884\n",
      "url  3885\n",
      "url  3886\n",
      "url  3887\n"
     ]
    },
    {
     "data": {
      "text/plain": [
       "<selenium.webdriver.remote.webelement.WebElement (session=\"14cc306dfc6cf8a445f83a6ea888a63f\", element=\"9CF404CC591273AC28E1FD65D68555D1_element_24496\")>"
      ]
     },
     "execution_count": 5,
     "metadata": {},
     "output_type": "execute_result"
    },
    {
     "name": "stdout",
     "output_type": "stream",
     "text": [
      "page  104 size  6\n",
      "url  3888\n",
      "url  3889\n",
      "url  3890\n",
      "url  3891\n",
      "url  3892\n",
      "url  3893\n"
     ]
    },
    {
     "data": {
      "text/plain": [
       "<selenium.webdriver.remote.webelement.WebElement (session=\"14cc306dfc6cf8a445f83a6ea888a63f\", element=\"BECB2CEB265769DA0F2D7CEE46438D5A_element_24532\")>"
      ]
     },
     "execution_count": 5,
     "metadata": {},
     "output_type": "execute_result"
    },
    {
     "name": "stdout",
     "output_type": "stream",
     "text": [
      "page  105 size  6\n",
      "url  3894\n",
      "url  3895\n",
      "url  3896\n",
      "url  3897\n",
      "url  3898\n",
      "url  3899\n"
     ]
    },
    {
     "data": {
      "text/plain": [
       "<selenium.webdriver.remote.webelement.WebElement (session=\"14cc306dfc6cf8a445f83a6ea888a63f\", element=\"0D8F0C4F821F59AB2248334DF75F94FB_element_24565\")>"
      ]
     },
     "execution_count": 5,
     "metadata": {},
     "output_type": "execute_result"
    },
    {
     "name": "stdout",
     "output_type": "stream",
     "text": [
      "page  106 size  6\n",
      "url  3900\n",
      "url  3901\n",
      "url  3902\n",
      "url  3903\n",
      "url  3904\n",
      "url  3905\n"
     ]
    },
    {
     "data": {
      "text/plain": [
       "<selenium.webdriver.remote.webelement.WebElement (session=\"14cc306dfc6cf8a445f83a6ea888a63f\", element=\"F142A9773ED5EC2C5C46AA7981FF6082_element_24601\")>"
      ]
     },
     "execution_count": 5,
     "metadata": {},
     "output_type": "execute_result"
    },
    {
     "name": "stdout",
     "output_type": "stream",
     "text": [
      "page  107 size  6\n",
      "url  3906\n",
      "url  3907\n",
      "url  3908\n",
      "url  3909\n",
      "url  3910\n",
      "url  3911\n"
     ]
    },
    {
     "data": {
      "text/plain": [
       "<selenium.webdriver.remote.webelement.WebElement (session=\"14cc306dfc6cf8a445f83a6ea888a63f\", element=\"E69C474E9316925D6959FB197E26BE72_element_24631\")>"
      ]
     },
     "execution_count": 5,
     "metadata": {},
     "output_type": "execute_result"
    },
    {
     "name": "stdout",
     "output_type": "stream",
     "text": [
      "page  108 size  6\n",
      "url  3912\n",
      "url  3913\n",
      "url  3914\n",
      "url  3915\n",
      "url  3916\n",
      "url  3917\n"
     ]
    },
    {
     "data": {
      "text/plain": [
       "<selenium.webdriver.remote.webelement.WebElement (session=\"14cc306dfc6cf8a445f83a6ea888a63f\", element=\"66F7CEEC8FC09971A2BAE73649F5CCF0_element_24673\")>"
      ]
     },
     "execution_count": 5,
     "metadata": {},
     "output_type": "execute_result"
    },
    {
     "name": "stdout",
     "output_type": "stream",
     "text": [
      "page  109 size  6\n",
      "url  3918\n",
      "url  3919\n",
      "url  3920\n",
      "url  3921\n",
      "url  3922\n",
      "url  3923\n"
     ]
    },
    {
     "data": {
      "text/plain": [
       "<selenium.webdriver.remote.webelement.WebElement (session=\"14cc306dfc6cf8a445f83a6ea888a63f\", element=\"4F838D8E7C84ECD86E304E9439E6A0E3_element_24709\")>"
      ]
     },
     "execution_count": 5,
     "metadata": {},
     "output_type": "execute_result"
    },
    {
     "name": "stdout",
     "output_type": "stream",
     "text": [
      "page  110 size  6\n",
      "url  3924\n",
      "url  3925\n",
      "url  3926\n",
      "url  3927\n",
      "url  3928\n",
      "url  3929\n"
     ]
    },
    {
     "data": {
      "text/plain": [
       "<selenium.webdriver.remote.webelement.WebElement (session=\"14cc306dfc6cf8a445f83a6ea888a63f\", element=\"29829A0A4B6BD7C62CADE2C03506BFF5_element_24744\")>"
      ]
     },
     "execution_count": 5,
     "metadata": {},
     "output_type": "execute_result"
    },
    {
     "name": "stdout",
     "output_type": "stream",
     "text": [
      "page  111 size  6\n",
      "url  3930\n",
      "url  3931\n",
      "url  3932\n",
      "url  3933\n",
      "url  3934\n",
      "url  3935\n"
     ]
    },
    {
     "data": {
      "text/plain": [
       "<selenium.webdriver.remote.webelement.WebElement (session=\"14cc306dfc6cf8a445f83a6ea888a63f\", element=\"93C6234D8363E1A73684A4A3ECA82A47_element_24799\")>"
      ]
     },
     "execution_count": 5,
     "metadata": {},
     "output_type": "execute_result"
    },
    {
     "name": "stdout",
     "output_type": "stream",
     "text": [
      "page  112 size  6\n",
      "url  3936\n",
      "url  3937\n",
      "url  3938\n",
      "url  3939\n",
      "url  3940\n",
      "url  3941\n"
     ]
    },
    {
     "data": {
      "text/plain": [
       "<selenium.webdriver.remote.webelement.WebElement (session=\"14cc306dfc6cf8a445f83a6ea888a63f\", element=\"4F143F7594F9AEA91C3125A79C194CE2_element_24852\")>"
      ]
     },
     "execution_count": 5,
     "metadata": {},
     "output_type": "execute_result"
    },
    {
     "name": "stdout",
     "output_type": "stream",
     "text": [
      "page  113 size  6\n",
      "url  3942\n",
      "url  3943\n",
      "url  3944\n",
      "url  3945\n",
      "url  3946\n",
      "url  3947\n"
     ]
    },
    {
     "data": {
      "text/plain": [
       "<selenium.webdriver.remote.webelement.WebElement (session=\"14cc306dfc6cf8a445f83a6ea888a63f\", element=\"C268368D83F2EECC81098C8C7B2E8F02_element_24896\")>"
      ]
     },
     "execution_count": 5,
     "metadata": {},
     "output_type": "execute_result"
    },
    {
     "name": "stdout",
     "output_type": "stream",
     "text": [
      "page  114 size  6\n",
      "url  3948\n",
      "url  3949\n",
      "url  3950\n",
      "url  3951\n",
      "url  3952\n",
      "url  3953\n"
     ]
    },
    {
     "data": {
      "text/plain": [
       "<selenium.webdriver.remote.webelement.WebElement (session=\"14cc306dfc6cf8a445f83a6ea888a63f\", element=\"A14DC5C2663B917616820AC3CD1F08E5_element_24933\")>"
      ]
     },
     "execution_count": 5,
     "metadata": {},
     "output_type": "execute_result"
    },
    {
     "name": "stdout",
     "output_type": "stream",
     "text": [
      "page  115 size  6\n",
      "url  3954\n",
      "url  3955\n",
      "url  3956\n",
      "url  3957\n",
      "url  3958\n",
      "url  3959\n"
     ]
    },
    {
     "data": {
      "text/plain": [
       "<selenium.webdriver.remote.webelement.WebElement (session=\"14cc306dfc6cf8a445f83a6ea888a63f\", element=\"141C77B27452B02598A73075CD949902_element_24961\")>"
      ]
     },
     "execution_count": 5,
     "metadata": {},
     "output_type": "execute_result"
    },
    {
     "name": "stdout",
     "output_type": "stream",
     "text": [
      "page  116 size  6\n",
      "url  3960\n",
      "url  3961\n",
      "url  3962\n",
      "url  3963\n",
      "url  3964\n",
      "url  3965\n"
     ]
    },
    {
     "data": {
      "text/plain": [
       "<selenium.webdriver.remote.webelement.WebElement (session=\"14cc306dfc6cf8a445f83a6ea888a63f\", element=\"DE8A1522789ABC7D017E06756D8A5B97_element_24999\")>"
      ]
     },
     "execution_count": 5,
     "metadata": {},
     "output_type": "execute_result"
    },
    {
     "name": "stdout",
     "output_type": "stream",
     "text": [
      "page  117 size  6\n",
      "url  3966\n",
      "url  3967\n",
      "url  3968\n",
      "url  3969\n",
      "url  3970\n",
      "url  3971\n"
     ]
    },
    {
     "data": {
      "text/plain": [
       "<selenium.webdriver.remote.webelement.WebElement (session=\"14cc306dfc6cf8a445f83a6ea888a63f\", element=\"B5C47518657109A4A5CA730F86FED18D_element_25036\")>"
      ]
     },
     "execution_count": 5,
     "metadata": {},
     "output_type": "execute_result"
    },
    {
     "name": "stdout",
     "output_type": "stream",
     "text": [
      "page  118 size  6\n",
      "url  3972\n",
      "url  3973\n",
      "url  3974\n",
      "url  3975\n",
      "url  3976\n",
      "url  3977\n"
     ]
    },
    {
     "data": {
      "text/plain": [
       "<selenium.webdriver.remote.webelement.WebElement (session=\"14cc306dfc6cf8a445f83a6ea888a63f\", element=\"0C8BB2C41F3370E44C3C579714911A8A_element_25067\")>"
      ]
     },
     "execution_count": 5,
     "metadata": {},
     "output_type": "execute_result"
    },
    {
     "name": "stdout",
     "output_type": "stream",
     "text": [
      "page  119 size  6\n",
      "url  3978\n",
      "url  3979\n",
      "url  3980\n",
      "url  3981\n",
      "url  3982\n",
      "url  3983\n"
     ]
    },
    {
     "data": {
      "text/plain": [
       "<selenium.webdriver.remote.webelement.WebElement (session=\"14cc306dfc6cf8a445f83a6ea888a63f\", element=\"089D83434991A19E9DA5E8E387A3536B_element_25104\")>"
      ]
     },
     "execution_count": 5,
     "metadata": {},
     "output_type": "execute_result"
    },
    {
     "name": "stdout",
     "output_type": "stream",
     "text": [
      "page  120 size  6\n",
      "url  3984\n",
      "url  3985\n",
      "url  3986\n",
      "url  3987\n",
      "url  3988\n",
      "url  3989\n"
     ]
    },
    {
     "data": {
      "text/plain": [
       "<selenium.webdriver.remote.webelement.WebElement (session=\"14cc306dfc6cf8a445f83a6ea888a63f\", element=\"9012223037CFB60DB2E0F8465C6BA380_element_25155\")>"
      ]
     },
     "execution_count": 5,
     "metadata": {},
     "output_type": "execute_result"
    },
    {
     "name": "stdout",
     "output_type": "stream",
     "text": [
      "page  121 size  6\n",
      "url  3990\n",
      "url  3991\n",
      "url  3992\n",
      "url  3993\n",
      "url  3994\n",
      "url  3995\n"
     ]
    },
    {
     "data": {
      "text/plain": [
       "<selenium.webdriver.remote.webelement.WebElement (session=\"14cc306dfc6cf8a445f83a6ea888a63f\", element=\"F4C471BDC018F836D3521E0799EDE347_element_25203\")>"
      ]
     },
     "execution_count": 5,
     "metadata": {},
     "output_type": "execute_result"
    },
    {
     "name": "stdout",
     "output_type": "stream",
     "text": [
      "page  122 size  6\n",
      "url  3996\n",
      "url  3997\n",
      "url  3998\n",
      "url  3999\n",
      "url  4000\n",
      "url  4001\n"
     ]
    },
    {
     "data": {
      "text/plain": [
       "<selenium.webdriver.remote.webelement.WebElement (session=\"14cc306dfc6cf8a445f83a6ea888a63f\", element=\"5BF8F149DBD500FC6030B488EA72BCE6_element_25237\")>"
      ]
     },
     "execution_count": 5,
     "metadata": {},
     "output_type": "execute_result"
    },
    {
     "name": "stdout",
     "output_type": "stream",
     "text": [
      "page  123 size  6\n",
      "url  4002\n",
      "url  4003\n",
      "url  4004\n",
      "url  4005\n",
      "url  4006\n",
      "url  4007\n"
     ]
    },
    {
     "data": {
      "text/plain": [
       "<selenium.webdriver.remote.webelement.WebElement (session=\"14cc306dfc6cf8a445f83a6ea888a63f\", element=\"F01A2FC90C04D5BE0663F453DC26195C_element_25271\")>"
      ]
     },
     "execution_count": 5,
     "metadata": {},
     "output_type": "execute_result"
    },
    {
     "name": "stdout",
     "output_type": "stream",
     "text": [
      "page  124 size  6\n",
      "url  4008\n",
      "url  4009\n",
      "url  4010\n",
      "url  4011\n",
      "url  4012\n",
      "url  4013\n"
     ]
    },
    {
     "data": {
      "text/plain": [
       "<selenium.webdriver.remote.webelement.WebElement (session=\"14cc306dfc6cf8a445f83a6ea888a63f\", element=\"C10BA2BB880DCF89C25EF0A74EDF3AFB_element_25317\")>"
      ]
     },
     "execution_count": 5,
     "metadata": {},
     "output_type": "execute_result"
    },
    {
     "name": "stdout",
     "output_type": "stream",
     "text": [
      "page  125 size  6\n",
      "url  4014\n",
      "url  4015\n",
      "url  4016\n",
      "url  4017\n",
      "url  4018\n",
      "url  4019\n"
     ]
    },
    {
     "data": {
      "text/plain": [
       "<selenium.webdriver.remote.webelement.WebElement (session=\"14cc306dfc6cf8a445f83a6ea888a63f\", element=\"78D8913167B049FEE1A33E80A10269CE_element_25356\")>"
      ]
     },
     "execution_count": 5,
     "metadata": {},
     "output_type": "execute_result"
    },
    {
     "name": "stdout",
     "output_type": "stream",
     "text": [
      "page  126 size  6\n",
      "url  4020\n",
      "url  4021\n",
      "url  4022\n",
      "url  4023\n",
      "url  4024\n",
      "url  4025\n"
     ]
    },
    {
     "data": {
      "text/plain": [
       "<selenium.webdriver.remote.webelement.WebElement (session=\"14cc306dfc6cf8a445f83a6ea888a63f\", element=\"F013CABDD4ACE80D9E72CEA4A7D5B36D_element_25421\")>"
      ]
     },
     "execution_count": 5,
     "metadata": {},
     "output_type": "execute_result"
    },
    {
     "name": "stdout",
     "output_type": "stream",
     "text": [
      "page  127 size  6\n",
      "url  4026\n",
      "url  4027\n",
      "url  4028\n",
      "url  4029\n",
      "url  4030\n",
      "url  4031\n"
     ]
    },
    {
     "data": {
      "text/plain": [
       "<selenium.webdriver.remote.webelement.WebElement (session=\"14cc306dfc6cf8a445f83a6ea888a63f\", element=\"536DB54E71219B0899087D60E4C341B9_element_25454\")>"
      ]
     },
     "execution_count": 5,
     "metadata": {},
     "output_type": "execute_result"
    },
    {
     "name": "stdout",
     "output_type": "stream",
     "text": [
      "page  128 size  6\n",
      "url  4032\n",
      "url  4033\n",
      "url  4034\n",
      "url  4035\n",
      "url  4036\n",
      "url  4037\n"
     ]
    },
    {
     "data": {
      "text/plain": [
       "<selenium.webdriver.remote.webelement.WebElement (session=\"14cc306dfc6cf8a445f83a6ea888a63f\", element=\"32BA0D7392CEBC1DF7C18CD9D2FE805D_element_25493\")>"
      ]
     },
     "execution_count": 5,
     "metadata": {},
     "output_type": "execute_result"
    },
    {
     "name": "stdout",
     "output_type": "stream",
     "text": [
      "page  129 size  6\n",
      "url  4038\n",
      "url  4039\n",
      "url  4040\n",
      "url  4041\n",
      "url  4042\n",
      "url  4043\n"
     ]
    },
    {
     "data": {
      "text/plain": [
       "<selenium.webdriver.remote.webelement.WebElement (session=\"14cc306dfc6cf8a445f83a6ea888a63f\", element=\"2BBA33A8D4027A0AEBD5162DDE40FDAC_element_25543\")>"
      ]
     },
     "execution_count": 5,
     "metadata": {},
     "output_type": "execute_result"
    },
    {
     "name": "stdout",
     "output_type": "stream",
     "text": [
      "page  130 size  6\n",
      "url  4044\n",
      "url  4045\n",
      "url  4046\n",
      "url  4047\n",
      "url  4048\n",
      "url  4049\n"
     ]
    },
    {
     "data": {
      "text/plain": [
       "<selenium.webdriver.remote.webelement.WebElement (session=\"14cc306dfc6cf8a445f83a6ea888a63f\", element=\"D0AAA72DFB876F3667B26A6F533B9A21_element_25577\")>"
      ]
     },
     "execution_count": 5,
     "metadata": {},
     "output_type": "execute_result"
    },
    {
     "name": "stdout",
     "output_type": "stream",
     "text": [
      "page  131 size  6\n",
      "url  4050\n",
      "url  4051\n",
      "url  4052\n",
      "url  4053\n",
      "url  4054\n",
      "url  4055\n"
     ]
    },
    {
     "data": {
      "text/plain": [
       "<selenium.webdriver.remote.webelement.WebElement (session=\"14cc306dfc6cf8a445f83a6ea888a63f\", element=\"074C6896BAEE8D5F195DA70B5133B506_element_25612\")>"
      ]
     },
     "execution_count": 5,
     "metadata": {},
     "output_type": "execute_result"
    },
    {
     "name": "stdout",
     "output_type": "stream",
     "text": [
      "page  132 size  6\n",
      "url  4056\n",
      "url  4057\n",
      "url  4058\n",
      "url  4059\n",
      "url  4060\n",
      "url  4061\n"
     ]
    },
    {
     "data": {
      "text/plain": [
       "<selenium.webdriver.remote.webelement.WebElement (session=\"14cc306dfc6cf8a445f83a6ea888a63f\", element=\"C385847A3665E048ED6AA0B2DAC2CDA7_element_25645\")>"
      ]
     },
     "execution_count": 5,
     "metadata": {},
     "output_type": "execute_result"
    },
    {
     "name": "stdout",
     "output_type": "stream",
     "text": [
      "page  133 size  6\n",
      "url  4062\n",
      "url  4063\n",
      "url  4064\n",
      "url  4065\n",
      "url  4066\n",
      "url  4067\n"
     ]
    },
    {
     "data": {
      "text/plain": [
       "<selenium.webdriver.remote.webelement.WebElement (session=\"14cc306dfc6cf8a445f83a6ea888a63f\", element=\"A5DC53528FE6D225302FA31F748E09FC_element_25678\")>"
      ]
     },
     "execution_count": 5,
     "metadata": {},
     "output_type": "execute_result"
    },
    {
     "name": "stdout",
     "output_type": "stream",
     "text": [
      "page  134 size  6\n",
      "url  4068\n",
      "url  4069\n",
      "url  4070\n",
      "url  4071\n",
      "url  4072\n",
      "url  4073\n"
     ]
    },
    {
     "data": {
      "text/plain": [
       "<selenium.webdriver.remote.webelement.WebElement (session=\"14cc306dfc6cf8a445f83a6ea888a63f\", element=\"C1A87733306E50260879BC60AD16BFAA_element_25717\")>"
      ]
     },
     "execution_count": 5,
     "metadata": {},
     "output_type": "execute_result"
    },
    {
     "name": "stdout",
     "output_type": "stream",
     "text": [
      "page  135 size  6\n",
      "url  4074\n",
      "url  4075\n",
      "url  4076\n",
      "url  4077\n",
      "url  4078\n",
      "url  4079\n"
     ]
    },
    {
     "data": {
      "text/plain": [
       "<selenium.webdriver.remote.webelement.WebElement (session=\"14cc306dfc6cf8a445f83a6ea888a63f\", element=\"2A8B7CB33E4D111AEBBCB922AD005B05_element_25752\")>"
      ]
     },
     "execution_count": 5,
     "metadata": {},
     "output_type": "execute_result"
    },
    {
     "name": "stdout",
     "output_type": "stream",
     "text": [
      "page  136 size  6\n",
      "url  4080\n",
      "url  4081\n",
      "url  4082\n",
      "url  4083\n",
      "url  4084\n",
      "url  4085\n"
     ]
    },
    {
     "data": {
      "text/plain": [
       "<selenium.webdriver.remote.webelement.WebElement (session=\"14cc306dfc6cf8a445f83a6ea888a63f\", element=\"6EA127545CAA21972C8ABD0BC558100E_element_25787\")>"
      ]
     },
     "execution_count": 5,
     "metadata": {},
     "output_type": "execute_result"
    },
    {
     "name": "stdout",
     "output_type": "stream",
     "text": [
      "page  137 size  6\n",
      "url  4086\n",
      "url  4087\n",
      "url  4088\n",
      "url  4089\n",
      "url  4090\n",
      "url  4091\n"
     ]
    },
    {
     "data": {
      "text/plain": [
       "<selenium.webdriver.remote.webelement.WebElement (session=\"14cc306dfc6cf8a445f83a6ea888a63f\", element=\"19F5D8D6BE703987339B92F6F67FEA44_element_25825\")>"
      ]
     },
     "execution_count": 5,
     "metadata": {},
     "output_type": "execute_result"
    },
    {
     "name": "stdout",
     "output_type": "stream",
     "text": [
      "page  138 size  6\n",
      "url  4092\n",
      "url  4093\n",
      "url  4094\n",
      "url  4095\n",
      "url  4096\n",
      "url  4097\n"
     ]
    },
    {
     "data": {
      "text/plain": [
       "<selenium.webdriver.remote.webelement.WebElement (session=\"14cc306dfc6cf8a445f83a6ea888a63f\", element=\"A9806134B53D7B7761E140B79E9E91AC_element_25863\")>"
      ]
     },
     "execution_count": 5,
     "metadata": {},
     "output_type": "execute_result"
    },
    {
     "name": "stdout",
     "output_type": "stream",
     "text": [
      "page  139 size  6\n",
      "url  4098\n",
      "url  4099\n",
      "url  4100\n",
      "url  4101\n",
      "url  4102\n",
      "url  4103\n"
     ]
    },
    {
     "data": {
      "text/plain": [
       "<selenium.webdriver.remote.webelement.WebElement (session=\"14cc306dfc6cf8a445f83a6ea888a63f\", element=\"EB61EC526B320B72C056E47BBBB2A4D6_element_25903\")>"
      ]
     },
     "execution_count": 5,
     "metadata": {},
     "output_type": "execute_result"
    },
    {
     "name": "stdout",
     "output_type": "stream",
     "text": [
      "page  140 size  6\n",
      "url  4104\n",
      "url  4105\n",
      "url  4106\n",
      "url  4107\n",
      "url  4108\n",
      "url  4109\n"
     ]
    },
    {
     "data": {
      "text/plain": [
       "<selenium.webdriver.remote.webelement.WebElement (session=\"14cc306dfc6cf8a445f83a6ea888a63f\", element=\"DA38841A6BB7B528D0F2014B80A1E499_element_25955\")>"
      ]
     },
     "execution_count": 5,
     "metadata": {},
     "output_type": "execute_result"
    },
    {
     "name": "stdout",
     "output_type": "stream",
     "text": [
      "page  141 size  6\n",
      "url  4110\n",
      "url  4111\n",
      "url  4112\n",
      "url  4113\n",
      "url  4114\n",
      "url  4115\n"
     ]
    },
    {
     "data": {
      "text/plain": [
       "<selenium.webdriver.remote.webelement.WebElement (session=\"14cc306dfc6cf8a445f83a6ea888a63f\", element=\"9986EC72366F5AA9198D29E092339A0A_element_25995\")>"
      ]
     },
     "execution_count": 5,
     "metadata": {},
     "output_type": "execute_result"
    },
    {
     "name": "stdout",
     "output_type": "stream",
     "text": [
      "page  142 size  6\n",
      "url  4116\n",
      "url  4117\n",
      "url  4118\n",
      "url  4119\n",
      "url  4120\n",
      "url  4121\n"
     ]
    },
    {
     "data": {
      "text/plain": [
       "<selenium.webdriver.remote.webelement.WebElement (session=\"14cc306dfc6cf8a445f83a6ea888a63f\", element=\"AD63AF09F9ABF18E88662D6013E1653E_element_26036\")>"
      ]
     },
     "execution_count": 5,
     "metadata": {},
     "output_type": "execute_result"
    },
    {
     "name": "stdout",
     "output_type": "stream",
     "text": [
      "page  143 size  6\n",
      "url  4122\n",
      "url  4123\n",
      "url  4124\n",
      "url  4125\n",
      "url  4126\n",
      "url  4127\n"
     ]
    },
    {
     "data": {
      "text/plain": [
       "<selenium.webdriver.remote.webelement.WebElement (session=\"14cc306dfc6cf8a445f83a6ea888a63f\", element=\"0EC3F483647BD1FA8AD6B0DC5C63C288_element_26064\")>"
      ]
     },
     "execution_count": 5,
     "metadata": {},
     "output_type": "execute_result"
    },
    {
     "name": "stdout",
     "output_type": "stream",
     "text": [
      "page  144 size  6\n",
      "url  4128\n",
      "url  4129\n",
      "url  4130\n",
      "url  4131\n",
      "url  4132\n",
      "url  4133\n"
     ]
    },
    {
     "data": {
      "text/plain": [
       "<selenium.webdriver.remote.webelement.WebElement (session=\"14cc306dfc6cf8a445f83a6ea888a63f\", element=\"A8027A8701D1731812DFED4C53114892_element_26104\")>"
      ]
     },
     "execution_count": 5,
     "metadata": {},
     "output_type": "execute_result"
    },
    {
     "name": "stdout",
     "output_type": "stream",
     "text": [
      "page  145 size  6\n",
      "url  4134\n",
      "url  4135\n",
      "url  4136\n",
      "url  4137\n",
      "url  4138\n",
      "url  4139\n"
     ]
    },
    {
     "data": {
      "text/plain": [
       "<selenium.webdriver.remote.webelement.WebElement (session=\"14cc306dfc6cf8a445f83a6ea888a63f\", element=\"B06A76CDBB105DB10E54B8D135BF5E46_element_26135\")>"
      ]
     },
     "execution_count": 5,
     "metadata": {},
     "output_type": "execute_result"
    },
    {
     "name": "stdout",
     "output_type": "stream",
     "text": [
      "page  146 size  6\n",
      "url  4140\n",
      "url  4141\n",
      "url  4142\n",
      "url  4143\n",
      "url  4144\n",
      "url  4145\n"
     ]
    },
    {
     "data": {
      "text/plain": [
       "<selenium.webdriver.remote.webelement.WebElement (session=\"14cc306dfc6cf8a445f83a6ea888a63f\", element=\"7C831DF042CF5913B437656C401AE63D_element_26172\")>"
      ]
     },
     "execution_count": 5,
     "metadata": {},
     "output_type": "execute_result"
    },
    {
     "name": "stdout",
     "output_type": "stream",
     "text": [
      "page  147 size  6\n",
      "url  4146\n",
      "url  4147\n",
      "url  4148\n",
      "url  4149\n",
      "url  4150\n",
      "url  4151\n"
     ]
    },
    {
     "data": {
      "text/plain": [
       "<selenium.webdriver.remote.webelement.WebElement (session=\"14cc306dfc6cf8a445f83a6ea888a63f\", element=\"7CD0E37A0FA9BBC829FBBF0B2CA47F0F_element_26212\")>"
      ]
     },
     "execution_count": 5,
     "metadata": {},
     "output_type": "execute_result"
    },
    {
     "name": "stdout",
     "output_type": "stream",
     "text": [
      "page  148 size  6\n",
      "url  4152\n",
      "url  4153\n",
      "url  4154\n",
      "url  4155\n",
      "url  4156\n",
      "url  4157\n"
     ]
    },
    {
     "data": {
      "text/plain": [
       "<selenium.webdriver.remote.webelement.WebElement (session=\"14cc306dfc6cf8a445f83a6ea888a63f\", element=\"9DCF151063ADC4F99B15DB0E770C577D_element_26248\")>"
      ]
     },
     "execution_count": 5,
     "metadata": {},
     "output_type": "execute_result"
    },
    {
     "name": "stdout",
     "output_type": "stream",
     "text": [
      "page  149 size  6\n",
      "url  4158\n",
      "url  4159\n",
      "url  4160\n",
      "url  4161\n",
      "url  4162\n",
      "url  4163\n"
     ]
    },
    {
     "data": {
      "text/plain": [
       "<selenium.webdriver.remote.webelement.WebElement (session=\"14cc306dfc6cf8a445f83a6ea888a63f\", element=\"23CFB4F8734A32F9F609B41167812E30_element_26283\")>"
      ]
     },
     "execution_count": 5,
     "metadata": {},
     "output_type": "execute_result"
    },
    {
     "name": "stdout",
     "output_type": "stream",
     "text": [
      "page  150 size  6\n",
      "url  4164\n",
      "url  4165\n",
      "url  4166\n",
      "url  4167\n",
      "url  4168\n",
      "url  4169\n"
     ]
    },
    {
     "data": {
      "text/plain": [
       "<selenium.webdriver.remote.webelement.WebElement (session=\"14cc306dfc6cf8a445f83a6ea888a63f\", element=\"61D4EA5B1CE4D44243C508496E93C1B1_element_26325\")>"
      ]
     },
     "execution_count": 5,
     "metadata": {},
     "output_type": "execute_result"
    },
    {
     "name": "stdout",
     "output_type": "stream",
     "text": [
      "page  151 size  6\n",
      "url  4170\n",
      "url  4171\n",
      "url  4172\n",
      "url  4173\n",
      "url  4174\n",
      "url  4175\n"
     ]
    },
    {
     "data": {
      "text/plain": [
       "<selenium.webdriver.remote.webelement.WebElement (session=\"14cc306dfc6cf8a445f83a6ea888a63f\", element=\"F0D21C0589B2833B5B9FB537C41ECB32_element_26361\")>"
      ]
     },
     "execution_count": 5,
     "metadata": {},
     "output_type": "execute_result"
    },
    {
     "name": "stdout",
     "output_type": "stream",
     "text": [
      "page  152 size  6\n",
      "url  4176\n",
      "url  4177\n",
      "url  4178\n",
      "url  4179\n",
      "url  4180\n",
      "url  4181\n"
     ]
    },
    {
     "data": {
      "text/plain": [
       "<selenium.webdriver.remote.webelement.WebElement (session=\"14cc306dfc6cf8a445f83a6ea888a63f\", element=\"DA3F2BE46A453CBCF2477ECF9ADFF395_element_26403\")>"
      ]
     },
     "execution_count": 5,
     "metadata": {},
     "output_type": "execute_result"
    },
    {
     "name": "stdout",
     "output_type": "stream",
     "text": [
      "page  153 size  6\n",
      "url  4182\n",
      "url  4183\n",
      "url  4184\n",
      "url  4185\n",
      "url  4186\n",
      "url  4187\n"
     ]
    },
    {
     "data": {
      "text/plain": [
       "<selenium.webdriver.remote.webelement.WebElement (session=\"14cc306dfc6cf8a445f83a6ea888a63f\", element=\"F7F6F52D052AC693DF1BDC594D3CF3C3_element_26441\")>"
      ]
     },
     "execution_count": 5,
     "metadata": {},
     "output_type": "execute_result"
    },
    {
     "name": "stdout",
     "output_type": "stream",
     "text": [
      "page  154 size  6\n",
      "url  4188\n",
      "url  4189\n",
      "url  4190\n",
      "url  4191\n",
      "url  4192\n",
      "url  4193\n"
     ]
    },
    {
     "data": {
      "text/plain": [
       "<selenium.webdriver.remote.webelement.WebElement (session=\"14cc306dfc6cf8a445f83a6ea888a63f\", element=\"EF3C43530EB1104B2947B7B5AC2B6F06_element_26490\")>"
      ]
     },
     "execution_count": 5,
     "metadata": {},
     "output_type": "execute_result"
    },
    {
     "name": "stdout",
     "output_type": "stream",
     "text": [
      "page  155 size  6\n",
      "url  4194\n",
      "url  4195\n",
      "url  4196\n",
      "url  4197\n",
      "url  4198\n",
      "url  4199\n"
     ]
    },
    {
     "data": {
      "text/plain": [
       "<selenium.webdriver.remote.webelement.WebElement (session=\"14cc306dfc6cf8a445f83a6ea888a63f\", element=\"F7A3743373ED48880B26803930FF2B53_element_26520\")>"
      ]
     },
     "execution_count": 5,
     "metadata": {},
     "output_type": "execute_result"
    },
    {
     "name": "stdout",
     "output_type": "stream",
     "text": [
      "page  156 size  6\n",
      "url  4200\n",
      "url  4201\n",
      "url  4202\n",
      "url  4203\n",
      "url  4204\n",
      "url  4205\n"
     ]
    },
    {
     "data": {
      "text/plain": [
       "<selenium.webdriver.remote.webelement.WebElement (session=\"14cc306dfc6cf8a445f83a6ea888a63f\", element=\"77F572A088146FC0E6C84DCA622B84B9_element_26557\")>"
      ]
     },
     "execution_count": 5,
     "metadata": {},
     "output_type": "execute_result"
    },
    {
     "name": "stdout",
     "output_type": "stream",
     "text": [
      "page  157 size  6\n",
      "url  4206\n",
      "url  4207\n",
      "url  4208\n",
      "url  4209\n",
      "url  4210\n",
      "url  4211\n"
     ]
    },
    {
     "data": {
      "text/plain": [
       "<selenium.webdriver.remote.webelement.WebElement (session=\"14cc306dfc6cf8a445f83a6ea888a63f\", element=\"0A1957F8584BCCA94BEEF1361C60C657_element_26594\")>"
      ]
     },
     "execution_count": 5,
     "metadata": {},
     "output_type": "execute_result"
    },
    {
     "name": "stdout",
     "output_type": "stream",
     "text": [
      "page  158 size  6\n",
      "url  4212\n",
      "url  4213\n",
      "url  4214\n",
      "url  4215\n",
      "url  4216\n",
      "url  4217\n"
     ]
    },
    {
     "data": {
      "text/plain": [
       "<selenium.webdriver.remote.webelement.WebElement (session=\"14cc306dfc6cf8a445f83a6ea888a63f\", element=\"41508660C9B03D2069C5417566E9520A_element_26631\")>"
      ]
     },
     "execution_count": 5,
     "metadata": {},
     "output_type": "execute_result"
    },
    {
     "name": "stdout",
     "output_type": "stream",
     "text": [
      "page  159 size  6\n",
      "url  4218\n",
      "url  4219\n",
      "url  4220\n",
      "url  4221\n",
      "url  4222\n",
      "url  4223\n"
     ]
    },
    {
     "data": {
      "text/plain": [
       "<selenium.webdriver.remote.webelement.WebElement (session=\"14cc306dfc6cf8a445f83a6ea888a63f\", element=\"993BF0FC1E70D6E7831875CCE0E47623_element_26660\")>"
      ]
     },
     "execution_count": 5,
     "metadata": {},
     "output_type": "execute_result"
    },
    {
     "name": "stdout",
     "output_type": "stream",
     "text": [
      "page  160 size  6\n",
      "url  4224\n",
      "url  4225\n",
      "url  4226\n",
      "url  4227\n",
      "url  4228\n",
      "url  4229\n"
     ]
    },
    {
     "data": {
      "text/plain": [
       "<selenium.webdriver.remote.webelement.WebElement (session=\"14cc306dfc6cf8a445f83a6ea888a63f\", element=\"1797703A32E4CD0D1616DA1BB02EAA88_element_26699\")>"
      ]
     },
     "execution_count": 5,
     "metadata": {},
     "output_type": "execute_result"
    },
    {
     "name": "stdout",
     "output_type": "stream",
     "text": [
      "page  161 size  6\n",
      "url  4230\n",
      "url  4231\n",
      "url  4232\n",
      "url  4233\n",
      "url  4234\n",
      "url  4235\n"
     ]
    },
    {
     "data": {
      "text/plain": [
       "<selenium.webdriver.remote.webelement.WebElement (session=\"14cc306dfc6cf8a445f83a6ea888a63f\", element=\"DE5189F4A68378054F4B802853005966_element_26731\")>"
      ]
     },
     "execution_count": 5,
     "metadata": {},
     "output_type": "execute_result"
    },
    {
     "name": "stdout",
     "output_type": "stream",
     "text": [
      "page  162 size  6\n",
      "url  4236\n",
      "url  4237\n",
      "url  4238\n",
      "url  4239\n",
      "url  4240\n",
      "url  4241\n"
     ]
    },
    {
     "data": {
      "text/plain": [
       "<selenium.webdriver.remote.webelement.WebElement (session=\"14cc306dfc6cf8a445f83a6ea888a63f\", element=\"975D95E26AB71D484B64751978E50B42_element_26770\")>"
      ]
     },
     "execution_count": 5,
     "metadata": {},
     "output_type": "execute_result"
    },
    {
     "name": "stdout",
     "output_type": "stream",
     "text": [
      "page  163 size  6\n",
      "url  4242\n",
      "url  4243\n",
      "url  4244\n",
      "url  4245\n",
      "url  4246\n",
      "url  4247\n"
     ]
    },
    {
     "data": {
      "text/plain": [
       "<selenium.webdriver.remote.webelement.WebElement (session=\"14cc306dfc6cf8a445f83a6ea888a63f\", element=\"4A7A96C86575E1BB56E0B0BA5F330616_element_26802\")>"
      ]
     },
     "execution_count": 5,
     "metadata": {},
     "output_type": "execute_result"
    },
    {
     "name": "stdout",
     "output_type": "stream",
     "text": [
      "page  164 size  6\n",
      "url  4248\n",
      "url  4249\n",
      "url  4250\n",
      "url  4251\n",
      "url  4252\n",
      "url  4253\n"
     ]
    },
    {
     "data": {
      "text/plain": [
       "<selenium.webdriver.remote.webelement.WebElement (session=\"14cc306dfc6cf8a445f83a6ea888a63f\", element=\"63329BEAAFD18406741A60DFBA7617D1_element_26838\")>"
      ]
     },
     "execution_count": 5,
     "metadata": {},
     "output_type": "execute_result"
    },
    {
     "name": "stdout",
     "output_type": "stream",
     "text": [
      "page  165 size  6\n",
      "url  4254\n",
      "url  4255\n",
      "url  4256\n",
      "url  4257\n",
      "url  4258\n",
      "url  4259\n"
     ]
    },
    {
     "data": {
      "text/plain": [
       "<selenium.webdriver.remote.webelement.WebElement (session=\"14cc306dfc6cf8a445f83a6ea888a63f\", element=\"E6F745714405302944D209004B58DFAE_element_26871\")>"
      ]
     },
     "execution_count": 5,
     "metadata": {},
     "output_type": "execute_result"
    },
    {
     "name": "stdout",
     "output_type": "stream",
     "text": [
      "page  166 size  6\n",
      "url  4260\n",
      "url  4261\n",
      "url  4262\n",
      "url  4263\n",
      "url  4264\n",
      "url  4265\n"
     ]
    },
    {
     "data": {
      "text/plain": [
       "<selenium.webdriver.remote.webelement.WebElement (session=\"14cc306dfc6cf8a445f83a6ea888a63f\", element=\"5E868D8F8A08C0929D568A35AD0B3BEF_element_26922\")>"
      ]
     },
     "execution_count": 5,
     "metadata": {},
     "output_type": "execute_result"
    },
    {
     "name": "stdout",
     "output_type": "stream",
     "text": [
      "page  167 size  6\n",
      "url  4266\n",
      "url  4267\n",
      "url  4268\n",
      "url  4269\n",
      "url  4270\n",
      "url  4271\n"
     ]
    },
    {
     "data": {
      "text/plain": [
       "<selenium.webdriver.remote.webelement.WebElement (session=\"14cc306dfc6cf8a445f83a6ea888a63f\", element=\"AC3FE39B420A3315241352E47DEBD29B_element_26975\")>"
      ]
     },
     "execution_count": 5,
     "metadata": {},
     "output_type": "execute_result"
    },
    {
     "name": "stdout",
     "output_type": "stream",
     "text": [
      "page  168 size  6\n",
      "url  4272\n",
      "url  4273\n",
      "url  4274\n",
      "url  4275\n",
      "url  4276\n",
      "url  4277\n"
     ]
    },
    {
     "data": {
      "text/plain": [
       "<selenium.webdriver.remote.webelement.WebElement (session=\"14cc306dfc6cf8a445f83a6ea888a63f\", element=\"26127789BBBF6729289D533505ADCCD7_element_27013\")>"
      ]
     },
     "execution_count": 5,
     "metadata": {},
     "output_type": "execute_result"
    },
    {
     "name": "stdout",
     "output_type": "stream",
     "text": [
      "page  169 size  6\n",
      "url  4278\n",
      "url  4279\n",
      "url  4280\n",
      "url  4281\n",
      "url  4282\n",
      "url  4283\n"
     ]
    },
    {
     "data": {
      "text/plain": [
       "<selenium.webdriver.remote.webelement.WebElement (session=\"14cc306dfc6cf8a445f83a6ea888a63f\", element=\"0CE11E6A83D896BC47961202FFF53FDF_element_27048\")>"
      ]
     },
     "execution_count": 5,
     "metadata": {},
     "output_type": "execute_result"
    },
    {
     "name": "stdout",
     "output_type": "stream",
     "text": [
      "page  170 size  6\n",
      "url  4284\n",
      "url  4285\n",
      "url  4286\n",
      "url  4287\n",
      "url  4288\n",
      "url  4289\n"
     ]
    },
    {
     "data": {
      "text/plain": [
       "<selenium.webdriver.remote.webelement.WebElement (session=\"14cc306dfc6cf8a445f83a6ea888a63f\", element=\"FFDAEE5689F270DF3C906F0B4D58920F_element_27082\")>"
      ]
     },
     "execution_count": 5,
     "metadata": {},
     "output_type": "execute_result"
    },
    {
     "name": "stdout",
     "output_type": "stream",
     "text": [
      "page  171 size  6\n",
      "url  4290\n",
      "url  4291\n",
      "url  4292\n",
      "url  4293\n",
      "url  4294\n",
      "url  4295\n"
     ]
    },
    {
     "data": {
      "text/plain": [
       "<selenium.webdriver.remote.webelement.WebElement (session=\"14cc306dfc6cf8a445f83a6ea888a63f\", element=\"3C47C4E5C3BCE7A03D9AE3C97E473D5E_element_27119\")>"
      ]
     },
     "execution_count": 5,
     "metadata": {},
     "output_type": "execute_result"
    },
    {
     "name": "stdout",
     "output_type": "stream",
     "text": [
      "page  172 size  6\n",
      "url  4296\n",
      "url  4297\n",
      "url  4298\n",
      "url  4299\n",
      "url  4300\n",
      "url  4301\n"
     ]
    },
    {
     "data": {
      "text/plain": [
       "<selenium.webdriver.remote.webelement.WebElement (session=\"14cc306dfc6cf8a445f83a6ea888a63f\", element=\"329B734D482607D6FD483AAFA4F50C5F_element_27168\")>"
      ]
     },
     "execution_count": 5,
     "metadata": {},
     "output_type": "execute_result"
    },
    {
     "name": "stdout",
     "output_type": "stream",
     "text": [
      "page  173 size  6\n",
      "url  4302\n",
      "url  4303\n",
      "url  4304\n",
      "url  4305\n",
      "url  4306\n",
      "url  4307\n"
     ]
    },
    {
     "data": {
      "text/plain": [
       "<selenium.webdriver.remote.webelement.WebElement (session=\"14cc306dfc6cf8a445f83a6ea888a63f\", element=\"C23EA0553E097D65425805B5248D0420_element_27202\")>"
      ]
     },
     "execution_count": 5,
     "metadata": {},
     "output_type": "execute_result"
    },
    {
     "name": "stdout",
     "output_type": "stream",
     "text": [
      "page  174 size  6\n",
      "url  4308\n",
      "url  4309\n",
      "url  4310\n",
      "url  4311\n",
      "url  4312\n",
      "url  4313\n"
     ]
    },
    {
     "data": {
      "text/plain": [
       "<selenium.webdriver.remote.webelement.WebElement (session=\"14cc306dfc6cf8a445f83a6ea888a63f\", element=\"ABF2C11E45F7F87C3FF8F07FFE330046_element_27251\")>"
      ]
     },
     "execution_count": 5,
     "metadata": {},
     "output_type": "execute_result"
    },
    {
     "name": "stdout",
     "output_type": "stream",
     "text": [
      "page  175 size  6\n",
      "url  4314\n",
      "url  4315\n",
      "url  4316\n",
      "url  4317\n",
      "url  4318\n",
      "url  4319\n"
     ]
    },
    {
     "data": {
      "text/plain": [
       "<selenium.webdriver.remote.webelement.WebElement (session=\"14cc306dfc6cf8a445f83a6ea888a63f\", element=\"FD221DF1F0FE847126E5A84DAA29D776_element_27277\")>"
      ]
     },
     "execution_count": 5,
     "metadata": {},
     "output_type": "execute_result"
    },
    {
     "name": "stdout",
     "output_type": "stream",
     "text": [
      "page  176 size  6\n",
      "url  4320\n",
      "url  4321\n",
      "url  4322\n",
      "url  4323\n",
      "url  4324\n",
      "url  4325\n"
     ]
    },
    {
     "data": {
      "text/plain": [
       "<selenium.webdriver.remote.webelement.WebElement (session=\"14cc306dfc6cf8a445f83a6ea888a63f\", element=\"044933992ADA463616CF12C8ADF39C35_element_27334\")>"
      ]
     },
     "execution_count": 5,
     "metadata": {},
     "output_type": "execute_result"
    },
    {
     "name": "stdout",
     "output_type": "stream",
     "text": [
      "page  177 size  6\n",
      "url  4326\n",
      "url  4327\n",
      "url  4328\n",
      "url  4329\n",
      "url  4330\n",
      "url  4331\n"
     ]
    },
    {
     "data": {
      "text/plain": [
       "<selenium.webdriver.remote.webelement.WebElement (session=\"14cc306dfc6cf8a445f83a6ea888a63f\", element=\"394596F6FE5E3C56E43B000CBC2CFA2F_element_27374\")>"
      ]
     },
     "execution_count": 5,
     "metadata": {},
     "output_type": "execute_result"
    },
    {
     "name": "stdout",
     "output_type": "stream",
     "text": [
      "page  178 size  6\n",
      "url  4332\n",
      "url  4333\n",
      "url  4334\n",
      "url  4335\n",
      "url  4336\n",
      "url  4337\n"
     ]
    },
    {
     "data": {
      "text/plain": [
       "<selenium.webdriver.remote.webelement.WebElement (session=\"14cc306dfc6cf8a445f83a6ea888a63f\", element=\"AF10431728C408227486F534EF28CB58_element_27416\")>"
      ]
     },
     "execution_count": 5,
     "metadata": {},
     "output_type": "execute_result"
    },
    {
     "name": "stdout",
     "output_type": "stream",
     "text": [
      "page  179 size  6\n",
      "url  4338\n",
      "url  4339\n",
      "url  4340\n",
      "url  4341\n",
      "url  4342\n",
      "url  4343\n"
     ]
    },
    {
     "data": {
      "text/plain": [
       "<selenium.webdriver.remote.webelement.WebElement (session=\"14cc306dfc6cf8a445f83a6ea888a63f\", element=\"2171B74E564AE87CA03969B8A83A3219_element_27477\")>"
      ]
     },
     "execution_count": 5,
     "metadata": {},
     "output_type": "execute_result"
    },
    {
     "name": "stdout",
     "output_type": "stream",
     "text": [
      "page  0 size  12\n",
      "url  4344\n",
      "url  4345\n",
      "url  4346\n",
      "url  4347\n",
      "url  4348\n",
      "url  4349\n",
      "url  4350\n",
      "url  4351\n",
      "url  4352\n",
      "url  4353\n",
      "url  4354\n",
      "url  4355\n"
     ]
    },
    {
     "data": {
      "text/plain": [
       "<selenium.webdriver.remote.webelement.WebElement (session=\"14cc306dfc6cf8a445f83a6ea888a63f\", element=\"77C5372A7D70439848934831478CAA57_element_27518\")>"
      ]
     },
     "execution_count": 5,
     "metadata": {},
     "output_type": "execute_result"
    },
    {
     "name": "stdout",
     "output_type": "stream",
     "text": [
      "page  1 size  6\n",
      "url  4356\n",
      "url  4357\n",
      "url  4358\n",
      "url  4359\n",
      "url  4360\n",
      "url  4361\n"
     ]
    },
    {
     "data": {
      "text/plain": [
       "<selenium.webdriver.remote.webelement.WebElement (session=\"14cc306dfc6cf8a445f83a6ea888a63f\", element=\"9A68948DFCAC8284290FA7713B5CC738_element_27553\")>"
      ]
     },
     "execution_count": 5,
     "metadata": {},
     "output_type": "execute_result"
    },
    {
     "name": "stdout",
     "output_type": "stream",
     "text": [
      "page  2 size  6\n",
      "url  4362\n",
      "url  4363\n",
      "url  4364\n",
      "url  4365\n",
      "url  4366\n",
      "url  4367\n"
     ]
    },
    {
     "data": {
      "text/plain": [
       "<selenium.webdriver.remote.webelement.WebElement (session=\"14cc306dfc6cf8a445f83a6ea888a63f\", element=\"A0CC985EBFBF44F1A84C7AE89E2BBC70_element_27583\")>"
      ]
     },
     "execution_count": 5,
     "metadata": {},
     "output_type": "execute_result"
    },
    {
     "name": "stdout",
     "output_type": "stream",
     "text": [
      "page  3 size  6\n",
      "url  4368\n",
      "url  4369\n",
      "url  4370\n",
      "url  4371\n",
      "url  4372\n",
      "url  4373\n"
     ]
    },
    {
     "data": {
      "text/plain": [
       "<selenium.webdriver.remote.webelement.WebElement (session=\"14cc306dfc6cf8a445f83a6ea888a63f\", element=\"43BE47EDDD22CEF0C7015917E2CE4863_element_27615\")>"
      ]
     },
     "execution_count": 5,
     "metadata": {},
     "output_type": "execute_result"
    },
    {
     "name": "stdout",
     "output_type": "stream",
     "text": [
      "page  4 size  6\n",
      "url  4374\n",
      "url  4375\n",
      "url  4376\n",
      "url  4377\n",
      "url  4378\n",
      "url  4379\n"
     ]
    },
    {
     "data": {
      "text/plain": [
       "<selenium.webdriver.remote.webelement.WebElement (session=\"14cc306dfc6cf8a445f83a6ea888a63f\", element=\"4FF1021CE06724B0718C3FBF949B6AC1_element_27653\")>"
      ]
     },
     "execution_count": 5,
     "metadata": {},
     "output_type": "execute_result"
    },
    {
     "name": "stdout",
     "output_type": "stream",
     "text": [
      "page  5 size  6\n",
      "url  4380\n",
      "url  4381\n",
      "url  4382\n",
      "url  4383\n",
      "url  4384\n",
      "url  4385\n"
     ]
    },
    {
     "data": {
      "text/plain": [
       "<selenium.webdriver.remote.webelement.WebElement (session=\"14cc306dfc6cf8a445f83a6ea888a63f\", element=\"A260125A28DAEDB59D895A652B379032_element_27685\")>"
      ]
     },
     "execution_count": 5,
     "metadata": {},
     "output_type": "execute_result"
    },
    {
     "name": "stdout",
     "output_type": "stream",
     "text": [
      "page  6 size  6\n",
      "url  4386\n",
      "url  4387\n",
      "url  4388\n",
      "url  4389\n",
      "url  4390\n",
      "url  4391\n"
     ]
    },
    {
     "data": {
      "text/plain": [
       "<selenium.webdriver.remote.webelement.WebElement (session=\"14cc306dfc6cf8a445f83a6ea888a63f\", element=\"7338BD32E766036D66A983C8E0A15E53_element_27724\")>"
      ]
     },
     "execution_count": 5,
     "metadata": {},
     "output_type": "execute_result"
    },
    {
     "name": "stdout",
     "output_type": "stream",
     "text": [
      "page  7 size  6\n",
      "url  4392\n",
      "url  4393\n",
      "url  4394\n",
      "url  4395\n",
      "url  4396\n",
      "url  4397\n"
     ]
    },
    {
     "data": {
      "text/plain": [
       "<selenium.webdriver.remote.webelement.WebElement (session=\"14cc306dfc6cf8a445f83a6ea888a63f\", element=\"2741DBA30796335D48AE1622DC1E1129_element_27756\")>"
      ]
     },
     "execution_count": 5,
     "metadata": {},
     "output_type": "execute_result"
    },
    {
     "name": "stdout",
     "output_type": "stream",
     "text": [
      "page  8 size  6\n",
      "url  4398\n",
      "url  4399\n",
      "url  4400\n",
      "url  4401\n",
      "url  4402\n",
      "url  4403\n"
     ]
    },
    {
     "data": {
      "text/plain": [
       "<selenium.webdriver.remote.webelement.WebElement (session=\"14cc306dfc6cf8a445f83a6ea888a63f\", element=\"E8FB62A3F00EE7469D9EDD8BC9E72DDE_element_27791\")>"
      ]
     },
     "execution_count": 5,
     "metadata": {},
     "output_type": "execute_result"
    },
    {
     "name": "stdout",
     "output_type": "stream",
     "text": [
      "page  9 size  6\n",
      "url  4404\n",
      "url  4405\n",
      "url  4406\n",
      "url  4407\n",
      "url  4408\n",
      "url  4409\n"
     ]
    },
    {
     "data": {
      "text/plain": [
       "<selenium.webdriver.remote.webelement.WebElement (session=\"14cc306dfc6cf8a445f83a6ea888a63f\", element=\"4FAA16DCADBC45EC7F6B36C9A6A66D1E_element_27825\")>"
      ]
     },
     "execution_count": 5,
     "metadata": {},
     "output_type": "execute_result"
    },
    {
     "name": "stdout",
     "output_type": "stream",
     "text": [
      "page  10 size  6\n",
      "url  4410\n",
      "url  4411\n",
      "url  4412\n",
      "url  4413\n",
      "url  4414\n",
      "url  4415\n"
     ]
    },
    {
     "data": {
      "text/plain": [
       "<selenium.webdriver.remote.webelement.WebElement (session=\"14cc306dfc6cf8a445f83a6ea888a63f\", element=\"94D18DF359D086401AF9C19837E75108_element_27860\")>"
      ]
     },
     "execution_count": 5,
     "metadata": {},
     "output_type": "execute_result"
    },
    {
     "name": "stdout",
     "output_type": "stream",
     "text": [
      "page  11 size  6\n",
      "url  4416\n",
      "url  4417\n",
      "url  4418\n",
      "url  4419\n",
      "url  4420\n",
      "url  4421\n"
     ]
    },
    {
     "data": {
      "text/plain": [
       "<selenium.webdriver.remote.webelement.WebElement (session=\"14cc306dfc6cf8a445f83a6ea888a63f\", element=\"467090D19077BB69A518C91A7BB4E62A_element_27897\")>"
      ]
     },
     "execution_count": 5,
     "metadata": {},
     "output_type": "execute_result"
    },
    {
     "name": "stdout",
     "output_type": "stream",
     "text": [
      "page  12 size  6\n",
      "url  4422\n",
      "url  4423\n",
      "url  4424\n",
      "url  4425\n",
      "url  4426\n",
      "url  4427\n"
     ]
    },
    {
     "data": {
      "text/plain": [
       "<selenium.webdriver.remote.webelement.WebElement (session=\"14cc306dfc6cf8a445f83a6ea888a63f\", element=\"47C4B6861976ABC855FC9F5B956EFC23_element_27938\")>"
      ]
     },
     "execution_count": 5,
     "metadata": {},
     "output_type": "execute_result"
    },
    {
     "name": "stdout",
     "output_type": "stream",
     "text": [
      "page  13 size  6\n",
      "url  4428\n",
      "url  4429\n",
      "url  4430\n",
      "url  4431\n",
      "url  4432\n",
      "url  4433\n"
     ]
    },
    {
     "data": {
      "text/plain": [
       "<selenium.webdriver.remote.webelement.WebElement (session=\"14cc306dfc6cf8a445f83a6ea888a63f\", element=\"413CBC48352FA34873F4439DD52D7362_element_27966\")>"
      ]
     },
     "execution_count": 5,
     "metadata": {},
     "output_type": "execute_result"
    },
    {
     "name": "stdout",
     "output_type": "stream",
     "text": [
      "page  14 size  6\n",
      "url  4434\n",
      "url  4435\n",
      "url  4436\n",
      "url  4437\n",
      "url  4438\n",
      "url  4439\n"
     ]
    },
    {
     "data": {
      "text/plain": [
       "<selenium.webdriver.remote.webelement.WebElement (session=\"14cc306dfc6cf8a445f83a6ea888a63f\", element=\"811BD3982EAF7A99B829DDA99BEFA838_element_28003\")>"
      ]
     },
     "execution_count": 5,
     "metadata": {},
     "output_type": "execute_result"
    },
    {
     "name": "stdout",
     "output_type": "stream",
     "text": [
      "page  15 size  6\n",
      "url  4440\n",
      "url  4441\n",
      "url  4442\n",
      "url  4443\n",
      "url  4444\n",
      "url  4445\n"
     ]
    },
    {
     "data": {
      "text/plain": [
       "<selenium.webdriver.remote.webelement.WebElement (session=\"14cc306dfc6cf8a445f83a6ea888a63f\", element=\"158EB056708F2B160ADC009914B061A5_element_28037\")>"
      ]
     },
     "execution_count": 5,
     "metadata": {},
     "output_type": "execute_result"
    },
    {
     "name": "stdout",
     "output_type": "stream",
     "text": [
      "page  16 size  6\n",
      "url  4446\n",
      "url  4447\n",
      "url  4448\n",
      "url  4449\n",
      "url  4450\n",
      "url  4451\n"
     ]
    },
    {
     "data": {
      "text/plain": [
       "<selenium.webdriver.remote.webelement.WebElement (session=\"14cc306dfc6cf8a445f83a6ea888a63f\", element=\"1404CA77488798579B5E0ADB5EC728D5_element_28083\")>"
      ]
     },
     "execution_count": 5,
     "metadata": {},
     "output_type": "execute_result"
    },
    {
     "name": "stdout",
     "output_type": "stream",
     "text": [
      "page  17 size  6\n",
      "url  4452\n",
      "url  4453\n",
      "url  4454\n",
      "url  4455\n",
      "url  4456\n",
      "url  4457\n"
     ]
    },
    {
     "data": {
      "text/plain": [
       "<selenium.webdriver.remote.webelement.WebElement (session=\"14cc306dfc6cf8a445f83a6ea888a63f\", element=\"0E98CAD908B24D6EA729681A8D7188B1_element_28117\")>"
      ]
     },
     "execution_count": 5,
     "metadata": {},
     "output_type": "execute_result"
    },
    {
     "name": "stdout",
     "output_type": "stream",
     "text": [
      "page  18 size  6\n",
      "url  4458\n",
      "url  4459\n",
      "url  4460\n",
      "url  4461\n",
      "url  4462\n",
      "url  4463\n"
     ]
    },
    {
     "data": {
      "text/plain": [
       "<selenium.webdriver.remote.webelement.WebElement (session=\"14cc306dfc6cf8a445f83a6ea888a63f\", element=\"4181D4CC3762AFA2A5A431E900F1B4CB_element_28152\")>"
      ]
     },
     "execution_count": 5,
     "metadata": {},
     "output_type": "execute_result"
    },
    {
     "name": "stdout",
     "output_type": "stream",
     "text": [
      "page  19 size  6\n",
      "url  4464\n",
      "url  4465\n",
      "url  4466\n",
      "url  4467\n",
      "url  4468\n",
      "url  4469\n"
     ]
    },
    {
     "data": {
      "text/plain": [
       "<selenium.webdriver.remote.webelement.WebElement (session=\"14cc306dfc6cf8a445f83a6ea888a63f\", element=\"39C88E244545A63C5F7EDA7EA554870D_element_28183\")>"
      ]
     },
     "execution_count": 5,
     "metadata": {},
     "output_type": "execute_result"
    },
    {
     "name": "stdout",
     "output_type": "stream",
     "text": [
      "page  20 size  6\n",
      "url  4470\n",
      "url  4471\n",
      "url  4472\n",
      "url  4473\n",
      "url  4474\n",
      "url  4475\n"
     ]
    },
    {
     "data": {
      "text/plain": [
       "<selenium.webdriver.remote.webelement.WebElement (session=\"14cc306dfc6cf8a445f83a6ea888a63f\", element=\"F5C6AA3EE0E5CC6A249397C2CA876EE4_element_28232\")>"
      ]
     },
     "execution_count": 5,
     "metadata": {},
     "output_type": "execute_result"
    },
    {
     "name": "stdout",
     "output_type": "stream",
     "text": [
      "page  21 size  6\n",
      "url  4476\n",
      "url  4477\n",
      "url  4478\n",
      "url  4479\n",
      "url  4480\n",
      "url  4481\n"
     ]
    },
    {
     "data": {
      "text/plain": [
       "<selenium.webdriver.remote.webelement.WebElement (session=\"14cc306dfc6cf8a445f83a6ea888a63f\", element=\"408BFA615210B5D32E0B3E76A4B8AE1E_element_28267\")>"
      ]
     },
     "execution_count": 5,
     "metadata": {},
     "output_type": "execute_result"
    },
    {
     "name": "stdout",
     "output_type": "stream",
     "text": [
      "page  22 size  6\n",
      "url  4482\n",
      "url  4483\n",
      "url  4484\n",
      "url  4485\n",
      "url  4486\n",
      "url  4487\n"
     ]
    },
    {
     "data": {
      "text/plain": [
       "<selenium.webdriver.remote.webelement.WebElement (session=\"14cc306dfc6cf8a445f83a6ea888a63f\", element=\"1FFE25C3626C064AFDCB9A7D2F53584C_element_28318\")>"
      ]
     },
     "execution_count": 5,
     "metadata": {},
     "output_type": "execute_result"
    },
    {
     "name": "stdout",
     "output_type": "stream",
     "text": [
      "page  23 size  6\n",
      "url  4488\n",
      "url  4489\n",
      "url  4490\n",
      "url  4491\n",
      "url  4492\n",
      "url  4493\n"
     ]
    },
    {
     "data": {
      "text/plain": [
       "<selenium.webdriver.remote.webelement.WebElement (session=\"14cc306dfc6cf8a445f83a6ea888a63f\", element=\"D113F53EF3D2B031514E7A1AA937E465_element_28351\")>"
      ]
     },
     "execution_count": 5,
     "metadata": {},
     "output_type": "execute_result"
    },
    {
     "name": "stdout",
     "output_type": "stream",
     "text": [
      "page  24 size  6\n",
      "url  4494\n",
      "url  4495\n",
      "url  4496\n",
      "url  4497\n",
      "url  4498\n",
      "url  4499\n"
     ]
    },
    {
     "data": {
      "text/plain": [
       "<selenium.webdriver.remote.webelement.WebElement (session=\"14cc306dfc6cf8a445f83a6ea888a63f\", element=\"B02C7D1AAFDD6F615E1DFE7D258BBB8E_element_28404\")>"
      ]
     },
     "execution_count": 5,
     "metadata": {},
     "output_type": "execute_result"
    },
    {
     "name": "stdout",
     "output_type": "stream",
     "text": [
      "page  25 size  6\n",
      "url  4500\n",
      "url  4501\n",
      "url  4502\n",
      "url  4503\n",
      "url  4504\n",
      "url  4505\n"
     ]
    },
    {
     "data": {
      "text/plain": [
       "<selenium.webdriver.remote.webelement.WebElement (session=\"14cc306dfc6cf8a445f83a6ea888a63f\", element=\"D139E3260FB3CB258B8BD397ECEFEF69_element_28450\")>"
      ]
     },
     "execution_count": 5,
     "metadata": {},
     "output_type": "execute_result"
    },
    {
     "name": "stdout",
     "output_type": "stream",
     "text": [
      "page  26 size  6\n",
      "url  4506\n",
      "url  4507\n",
      "url  4508\n",
      "url  4509\n",
      "url  4510\n",
      "url  4511\n"
     ]
    },
    {
     "data": {
      "text/plain": [
       "<selenium.webdriver.remote.webelement.WebElement (session=\"14cc306dfc6cf8a445f83a6ea888a63f\", element=\"D17DE99D2E66B35BD1A544FDE0742284_element_28484\")>"
      ]
     },
     "execution_count": 5,
     "metadata": {},
     "output_type": "execute_result"
    },
    {
     "name": "stdout",
     "output_type": "stream",
     "text": [
      "page  27 size  6\n",
      "url  4512\n",
      "url  4513\n",
      "url  4514\n",
      "url  4515\n",
      "url  4516\n",
      "url  4517\n"
     ]
    },
    {
     "data": {
      "text/plain": [
       "<selenium.webdriver.remote.webelement.WebElement (session=\"14cc306dfc6cf8a445f83a6ea888a63f\", element=\"607CF8A3F213D6AE480AF1676CCF6039_element_28516\")>"
      ]
     },
     "execution_count": 5,
     "metadata": {},
     "output_type": "execute_result"
    },
    {
     "name": "stdout",
     "output_type": "stream",
     "text": [
      "page  28 size  6\n",
      "url  4518\n",
      "url  4519\n",
      "url  4520\n",
      "url  4521\n",
      "url  4522\n",
      "url  4523\n"
     ]
    },
    {
     "data": {
      "text/plain": [
       "<selenium.webdriver.remote.webelement.WebElement (session=\"14cc306dfc6cf8a445f83a6ea888a63f\", element=\"10CC8E068F09E507119A536FC74E22A9_element_28561\")>"
      ]
     },
     "execution_count": 5,
     "metadata": {},
     "output_type": "execute_result"
    },
    {
     "name": "stdout",
     "output_type": "stream",
     "text": [
      "page  29 size  6\n",
      "url  4524\n",
      "url  4525\n",
      "url  4526\n",
      "url  4527\n",
      "url  4528\n",
      "url  4529\n"
     ]
    },
    {
     "data": {
      "text/plain": [
       "<selenium.webdriver.remote.webelement.WebElement (session=\"14cc306dfc6cf8a445f83a6ea888a63f\", element=\"684B069DBC6F0CDE5AB42B81E1E1CF08_element_28600\")>"
      ]
     },
     "execution_count": 5,
     "metadata": {},
     "output_type": "execute_result"
    },
    {
     "name": "stdout",
     "output_type": "stream",
     "text": [
      "page  30 size  6\n",
      "url  4530\n",
      "url  4531\n",
      "url  4532\n",
      "url  4533\n",
      "url  4534\n",
      "url  4535\n"
     ]
    },
    {
     "data": {
      "text/plain": [
       "<selenium.webdriver.remote.webelement.WebElement (session=\"14cc306dfc6cf8a445f83a6ea888a63f\", element=\"93FEF50593437054A03434E5C834F9B5_element_28634\")>"
      ]
     },
     "execution_count": 5,
     "metadata": {},
     "output_type": "execute_result"
    },
    {
     "name": "stdout",
     "output_type": "stream",
     "text": [
      "page  31 size  6\n",
      "url  4536\n",
      "url  4537\n",
      "url  4538\n",
      "url  4539\n",
      "url  4540\n",
      "url  4541\n"
     ]
    },
    {
     "data": {
      "text/plain": [
       "<selenium.webdriver.remote.webelement.WebElement (session=\"14cc306dfc6cf8a445f83a6ea888a63f\", element=\"0DF35E241E9A65AB31FA5A4B0C39B6E9_element_28670\")>"
      ]
     },
     "execution_count": 5,
     "metadata": {},
     "output_type": "execute_result"
    },
    {
     "name": "stdout",
     "output_type": "stream",
     "text": [
      "page  32 size  6\n",
      "url  4542\n",
      "url  4543\n",
      "url  4544\n",
      "url  4545\n",
      "url  4546\n",
      "url  4547\n"
     ]
    },
    {
     "data": {
      "text/plain": [
       "<selenium.webdriver.remote.webelement.WebElement (session=\"14cc306dfc6cf8a445f83a6ea888a63f\", element=\"FF903902156A7EDB3147AE0FF97DF8D7_element_28716\")>"
      ]
     },
     "execution_count": 5,
     "metadata": {},
     "output_type": "execute_result"
    },
    {
     "name": "stdout",
     "output_type": "stream",
     "text": [
      "page  33 size  6\n",
      "url  4548\n",
      "url  4549\n",
      "url  4550\n",
      "url  4551\n",
      "url  4552\n",
      "url  4553\n"
     ]
    },
    {
     "data": {
      "text/plain": [
       "<selenium.webdriver.remote.webelement.WebElement (session=\"14cc306dfc6cf8a445f83a6ea888a63f\", element=\"AC7936E9E64CBCA656688A63C0BDE8A3_element_28753\")>"
      ]
     },
     "execution_count": 5,
     "metadata": {},
     "output_type": "execute_result"
    },
    {
     "name": "stdout",
     "output_type": "stream",
     "text": [
      "page  34 size  6\n",
      "url  4554\n",
      "url  4555\n",
      "url  4556\n",
      "url  4557\n",
      "url  4558\n",
      "url  4559\n"
     ]
    },
    {
     "data": {
      "text/plain": [
       "<selenium.webdriver.remote.webelement.WebElement (session=\"14cc306dfc6cf8a445f83a6ea888a63f\", element=\"8D0B231AAD6B63CEFCC7EEE0B9F9F9FE_element_28787\")>"
      ]
     },
     "execution_count": 5,
     "metadata": {},
     "output_type": "execute_result"
    },
    {
     "name": "stdout",
     "output_type": "stream",
     "text": [
      "page  35 size  6\n",
      "url  4560\n",
      "url  4561\n",
      "url  4562\n",
      "url  4563\n",
      "url  4564\n",
      "url  4565\n"
     ]
    },
    {
     "data": {
      "text/plain": [
       "<selenium.webdriver.remote.webelement.WebElement (session=\"14cc306dfc6cf8a445f83a6ea888a63f\", element=\"C3CFAE3648C454060F583ABBB0FF5B78_element_28825\")>"
      ]
     },
     "execution_count": 5,
     "metadata": {},
     "output_type": "execute_result"
    },
    {
     "name": "stdout",
     "output_type": "stream",
     "text": [
      "page  36 size  6\n",
      "url  4566\n",
      "url  4567\n",
      "url  4568\n",
      "url  4569\n",
      "url  4570\n",
      "url  4571\n"
     ]
    },
    {
     "data": {
      "text/plain": [
       "<selenium.webdriver.remote.webelement.WebElement (session=\"14cc306dfc6cf8a445f83a6ea888a63f\", element=\"AE7EA297B6BF4D09243B0D1F53EF31E4_element_28860\")>"
      ]
     },
     "execution_count": 5,
     "metadata": {},
     "output_type": "execute_result"
    },
    {
     "name": "stdout",
     "output_type": "stream",
     "text": [
      "page  37 size  6\n",
      "url  4572\n",
      "url  4573\n",
      "url  4574\n",
      "url  4575\n",
      "url  4576\n",
      "url  4577\n"
     ]
    },
    {
     "data": {
      "text/plain": [
       "<selenium.webdriver.remote.webelement.WebElement (session=\"14cc306dfc6cf8a445f83a6ea888a63f\", element=\"CF9870DB26A1D4FD609C695A2E194E95_element_28898\")>"
      ]
     },
     "execution_count": 5,
     "metadata": {},
     "output_type": "execute_result"
    },
    {
     "name": "stdout",
     "output_type": "stream",
     "text": [
      "page  38 size  6\n",
      "url  4578\n",
      "url  4579\n",
      "url  4580\n",
      "url  4581\n",
      "url  4582\n",
      "url  4583\n"
     ]
    },
    {
     "data": {
      "text/plain": [
       "<selenium.webdriver.remote.webelement.WebElement (session=\"14cc306dfc6cf8a445f83a6ea888a63f\", element=\"AD08D50159E7E161EE6884E88C974953_element_28941\")>"
      ]
     },
     "execution_count": 5,
     "metadata": {},
     "output_type": "execute_result"
    },
    {
     "name": "stdout",
     "output_type": "stream",
     "text": [
      "page  39 size  6\n",
      "url  4584\n",
      "url  4585\n",
      "url  4586\n",
      "url  4587\n",
      "url  4588\n",
      "url  4589\n"
     ]
    },
    {
     "data": {
      "text/plain": [
       "<selenium.webdriver.remote.webelement.WebElement (session=\"14cc306dfc6cf8a445f83a6ea888a63f\", element=\"1E8644205D6ECBF4AF2FCD1015966C70_element_28973\")>"
      ]
     },
     "execution_count": 5,
     "metadata": {},
     "output_type": "execute_result"
    },
    {
     "name": "stdout",
     "output_type": "stream",
     "text": [
      "page  40 size  6\n",
      "url  4590\n",
      "url  4591\n",
      "url  4592\n",
      "url  4593\n",
      "url  4594\n",
      "url  4595\n"
     ]
    },
    {
     "data": {
      "text/plain": [
       "<selenium.webdriver.remote.webelement.WebElement (session=\"14cc306dfc6cf8a445f83a6ea888a63f\", element=\"C57863388FB071C0A77988338235A82C_element_29012\")>"
      ]
     },
     "execution_count": 5,
     "metadata": {},
     "output_type": "execute_result"
    },
    {
     "name": "stdout",
     "output_type": "stream",
     "text": [
      "page  41 size  6\n",
      "url  4596\n",
      "url  4597\n",
      "url  4598\n",
      "url  4599\n",
      "url  4600\n",
      "url  4601\n"
     ]
    },
    {
     "data": {
      "text/plain": [
       "<selenium.webdriver.remote.webelement.WebElement (session=\"14cc306dfc6cf8a445f83a6ea888a63f\", element=\"3157B15D46E0BA262366B74BEBBF9150_element_29046\")>"
      ]
     },
     "execution_count": 5,
     "metadata": {},
     "output_type": "execute_result"
    },
    {
     "name": "stdout",
     "output_type": "stream",
     "text": [
      "page  42 size  6\n",
      "url  4602\n",
      "url  4603\n",
      "url  4604\n",
      "url  4605\n",
      "url  4606\n",
      "url  4607\n"
     ]
    },
    {
     "data": {
      "text/plain": [
       "<selenium.webdriver.remote.webelement.WebElement (session=\"14cc306dfc6cf8a445f83a6ea888a63f\", element=\"76B472A57E2D1339F58CD00CC5723E32_element_29081\")>"
      ]
     },
     "execution_count": 5,
     "metadata": {},
     "output_type": "execute_result"
    },
    {
     "name": "stdout",
     "output_type": "stream",
     "text": [
      "page  43 size  6\n",
      "url  4608\n",
      "url  4609\n",
      "url  4610\n",
      "url  4611\n",
      "url  4612\n",
      "url  4613\n"
     ]
    },
    {
     "data": {
      "text/plain": [
       "<selenium.webdriver.remote.webelement.WebElement (session=\"14cc306dfc6cf8a445f83a6ea888a63f\", element=\"1F90EC592ECB8A2BCB9CB05C68BDAB33_element_29118\")>"
      ]
     },
     "execution_count": 5,
     "metadata": {},
     "output_type": "execute_result"
    },
    {
     "name": "stdout",
     "output_type": "stream",
     "text": [
      "page  44 size  6\n",
      "url  4614\n",
      "url  4615\n",
      "url  4616\n",
      "url  4617\n",
      "url  4618\n",
      "url  4619\n"
     ]
    },
    {
     "data": {
      "text/plain": [
       "<selenium.webdriver.remote.webelement.WebElement (session=\"14cc306dfc6cf8a445f83a6ea888a63f\", element=\"70C6735CE7233C402F26FEB479EEF634_element_29151\")>"
      ]
     },
     "execution_count": 5,
     "metadata": {},
     "output_type": "execute_result"
    },
    {
     "name": "stdout",
     "output_type": "stream",
     "text": [
      "page  45 size  6\n",
      "url  4620\n",
      "url  4621\n",
      "url  4622\n",
      "url  4623\n",
      "url  4624\n",
      "url  4625\n"
     ]
    },
    {
     "data": {
      "text/plain": [
       "<selenium.webdriver.remote.webelement.WebElement (session=\"14cc306dfc6cf8a445f83a6ea888a63f\", element=\"558CF68437A9E1CB44DB7375D0629440_element_29189\")>"
      ]
     },
     "execution_count": 5,
     "metadata": {},
     "output_type": "execute_result"
    },
    {
     "name": "stdout",
     "output_type": "stream",
     "text": [
      "page  46 size  6\n",
      "url  4626\n",
      "url  4627\n",
      "url  4628\n",
      "url  4629\n",
      "url  4630\n",
      "url  4631\n"
     ]
    },
    {
     "data": {
      "text/plain": [
       "<selenium.webdriver.remote.webelement.WebElement (session=\"14cc306dfc6cf8a445f83a6ea888a63f\", element=\"582480F3BB0AB352F5DABB34AECDADCE_element_29233\")>"
      ]
     },
     "execution_count": 5,
     "metadata": {},
     "output_type": "execute_result"
    },
    {
     "name": "stdout",
     "output_type": "stream",
     "text": [
      "page  47 size  6\n",
      "url  4632\n",
      "url  4633\n",
      "url  4634\n",
      "url  4635\n",
      "url  4636\n",
      "url  4637\n"
     ]
    },
    {
     "data": {
      "text/plain": [
       "<selenium.webdriver.remote.webelement.WebElement (session=\"14cc306dfc6cf8a445f83a6ea888a63f\", element=\"046B5A913961932B8C708236DFDB52EF_element_29261\")>"
      ]
     },
     "execution_count": 5,
     "metadata": {},
     "output_type": "execute_result"
    },
    {
     "name": "stdout",
     "output_type": "stream",
     "text": [
      "page  48 size  6\n",
      "url  4638\n",
      "url  4639\n",
      "url  4640\n",
      "url  4641\n",
      "url  4642\n",
      "url  4643\n"
     ]
    },
    {
     "data": {
      "text/plain": [
       "<selenium.webdriver.remote.webelement.WebElement (session=\"14cc306dfc6cf8a445f83a6ea888a63f\", element=\"951534B30473B2F036411221072FD369_element_29304\")>"
      ]
     },
     "execution_count": 5,
     "metadata": {},
     "output_type": "execute_result"
    },
    {
     "name": "stdout",
     "output_type": "stream",
     "text": [
      "page  49 size  6\n",
      "url  4644\n",
      "url  4645\n",
      "url  4646\n",
      "url  4647\n",
      "url  4648\n",
      "url  4649\n"
     ]
    },
    {
     "data": {
      "text/plain": [
       "<selenium.webdriver.remote.webelement.WebElement (session=\"14cc306dfc6cf8a445f83a6ea888a63f\", element=\"929FA40D5B15E5CD64093DCEFE359E86_element_29341\")>"
      ]
     },
     "execution_count": 5,
     "metadata": {},
     "output_type": "execute_result"
    },
    {
     "name": "stdout",
     "output_type": "stream",
     "text": [
      "page  50 size  6\n",
      "url  4650\n",
      "url  4651\n",
      "url  4652\n",
      "url  4653\n",
      "url  4654\n",
      "url  4655\n"
     ]
    },
    {
     "data": {
      "text/plain": [
       "<selenium.webdriver.remote.webelement.WebElement (session=\"14cc306dfc6cf8a445f83a6ea888a63f\", element=\"B0B456AA561C3F1E10BCD51ECBBF7C52_element_29382\")>"
      ]
     },
     "execution_count": 5,
     "metadata": {},
     "output_type": "execute_result"
    },
    {
     "name": "stdout",
     "output_type": "stream",
     "text": [
      "page  51 size  6\n",
      "url  4656\n",
      "url  4657\n",
      "url  4658\n",
      "url  4659\n",
      "url  4660\n",
      "url  4661\n"
     ]
    },
    {
     "data": {
      "text/plain": [
       "<selenium.webdriver.remote.webelement.WebElement (session=\"14cc306dfc6cf8a445f83a6ea888a63f\", element=\"DC1DC2257F295CD6360424C3ABB583FD_element_29431\")>"
      ]
     },
     "execution_count": 5,
     "metadata": {},
     "output_type": "execute_result"
    },
    {
     "name": "stdout",
     "output_type": "stream",
     "text": [
      "page  52 size  6\n",
      "url  4662\n",
      "url  4663\n",
      "url  4664\n",
      "url  4665\n",
      "url  4666\n",
      "url  4667\n"
     ]
    },
    {
     "data": {
      "text/plain": [
       "<selenium.webdriver.remote.webelement.WebElement (session=\"14cc306dfc6cf8a445f83a6ea888a63f\", element=\"AB639860694B2DBB2D50C4C3F8074B33_element_29460\")>"
      ]
     },
     "execution_count": 5,
     "metadata": {},
     "output_type": "execute_result"
    },
    {
     "name": "stdout",
     "output_type": "stream",
     "text": [
      "page  53 size  6\n",
      "url  4668\n",
      "url  4669\n",
      "url  4670\n",
      "url  4671\n",
      "url  4672\n",
      "url  4673\n"
     ]
    },
    {
     "data": {
      "text/plain": [
       "<selenium.webdriver.remote.webelement.WebElement (session=\"14cc306dfc6cf8a445f83a6ea888a63f\", element=\"8C6E0BF4058B1D090571C0620132DCCB_element_29496\")>"
      ]
     },
     "execution_count": 5,
     "metadata": {},
     "output_type": "execute_result"
    },
    {
     "name": "stdout",
     "output_type": "stream",
     "text": [
      "page  54 size  6\n",
      "url  4674\n",
      "url  4675\n",
      "url  4676\n",
      "url  4677\n",
      "url  4678\n",
      "url  4679\n"
     ]
    },
    {
     "data": {
      "text/plain": [
       "<selenium.webdriver.remote.webelement.WebElement (session=\"14cc306dfc6cf8a445f83a6ea888a63f\", element=\"2269B7259EDDEDEA4151C0F9EF249D26_element_29536\")>"
      ]
     },
     "execution_count": 5,
     "metadata": {},
     "output_type": "execute_result"
    },
    {
     "name": "stdout",
     "output_type": "stream",
     "text": [
      "page  55 size  6\n",
      "url  4680\n",
      "url  4681\n",
      "url  4682\n",
      "url  4683\n",
      "url  4684\n",
      "url  4685\n"
     ]
    },
    {
     "data": {
      "text/plain": [
       "<selenium.webdriver.remote.webelement.WebElement (session=\"14cc306dfc6cf8a445f83a6ea888a63f\", element=\"63EA5C3BC933785C80D6877A4B216F03_element_29568\")>"
      ]
     },
     "execution_count": 5,
     "metadata": {},
     "output_type": "execute_result"
    },
    {
     "name": "stdout",
     "output_type": "stream",
     "text": [
      "page  56 size  6\n",
      "url  4686\n",
      "url  4687\n",
      "url  4688\n",
      "url  4689\n",
      "url  4690\n",
      "url  4691\n"
     ]
    },
    {
     "data": {
      "text/plain": [
       "<selenium.webdriver.remote.webelement.WebElement (session=\"14cc306dfc6cf8a445f83a6ea888a63f\", element=\"48904447CFCF2C3BA168FC3401047EFE_element_29600\")>"
      ]
     },
     "execution_count": 5,
     "metadata": {},
     "output_type": "execute_result"
    },
    {
     "name": "stdout",
     "output_type": "stream",
     "text": [
      "page  57 size  6\n",
      "url  4692\n",
      "url  4693\n",
      "url  4694\n",
      "url  4695\n",
      "url  4696\n",
      "url  4697\n"
     ]
    },
    {
     "data": {
      "text/plain": [
       "<selenium.webdriver.remote.webelement.WebElement (session=\"14cc306dfc6cf8a445f83a6ea888a63f\", element=\"3692552AFDE2407576F520FD691CABF2_element_29646\")>"
      ]
     },
     "execution_count": 5,
     "metadata": {},
     "output_type": "execute_result"
    },
    {
     "name": "stdout",
     "output_type": "stream",
     "text": [
      "page  58 size  6\n",
      "url  4698\n",
      "url  4699\n",
      "url  4700\n",
      "url  4701\n",
      "url  4702\n",
      "url  4703\n"
     ]
    },
    {
     "data": {
      "text/plain": [
       "<selenium.webdriver.remote.webelement.WebElement (session=\"14cc306dfc6cf8a445f83a6ea888a63f\", element=\"466232D86554B419A4F7E7BBFA7B7574_element_29678\")>"
      ]
     },
     "execution_count": 5,
     "metadata": {},
     "output_type": "execute_result"
    },
    {
     "name": "stdout",
     "output_type": "stream",
     "text": [
      "page  59 size  6\n",
      "url  4704\n",
      "url  4705\n",
      "url  4706\n",
      "url  4707\n",
      "url  4708\n",
      "url  4709\n"
     ]
    },
    {
     "data": {
      "text/plain": [
       "<selenium.webdriver.remote.webelement.WebElement (session=\"14cc306dfc6cf8a445f83a6ea888a63f\", element=\"A00BC9CFC1A76769C38203C604A4E11E_element_29719\")>"
      ]
     },
     "execution_count": 5,
     "metadata": {},
     "output_type": "execute_result"
    },
    {
     "name": "stdout",
     "output_type": "stream",
     "text": [
      "page  60 size  6\n",
      "url  4710\n",
      "url  4711\n",
      "url  4712\n",
      "url  4713\n",
      "url  4714\n",
      "url  4715\n"
     ]
    },
    {
     "data": {
      "text/plain": [
       "<selenium.webdriver.remote.webelement.WebElement (session=\"14cc306dfc6cf8a445f83a6ea888a63f\", element=\"92C2E47D5E8B6D4B582DC8DA5C6843E8_element_29754\")>"
      ]
     },
     "execution_count": 5,
     "metadata": {},
     "output_type": "execute_result"
    },
    {
     "name": "stdout",
     "output_type": "stream",
     "text": [
      "page  61 size  6\n",
      "url  4716\n",
      "url  4717\n",
      "url  4718\n",
      "url  4719\n",
      "url  4720\n",
      "url  4721\n"
     ]
    },
    {
     "data": {
      "text/plain": [
       "<selenium.webdriver.remote.webelement.WebElement (session=\"14cc306dfc6cf8a445f83a6ea888a63f\", element=\"AA7959B4C68414AA32668150AB994FC7_element_29789\")>"
      ]
     },
     "execution_count": 5,
     "metadata": {},
     "output_type": "execute_result"
    },
    {
     "name": "stdout",
     "output_type": "stream",
     "text": [
      "page  62 size  6\n",
      "url  4722\n",
      "url  4723\n",
      "url  4724\n",
      "url  4725\n",
      "url  4726\n",
      "url  4727\n"
     ]
    },
    {
     "data": {
      "text/plain": [
       "<selenium.webdriver.remote.webelement.WebElement (session=\"14cc306dfc6cf8a445f83a6ea888a63f\", element=\"3319200449669B12494C82ECFBF9AF40_element_29822\")>"
      ]
     },
     "execution_count": 5,
     "metadata": {},
     "output_type": "execute_result"
    },
    {
     "name": "stdout",
     "output_type": "stream",
     "text": [
      "page  63 size  6\n",
      "url  4728\n",
      "url  4729\n",
      "url  4730\n",
      "url  4731\n",
      "url  4732\n",
      "url  4733\n"
     ]
    },
    {
     "data": {
      "text/plain": [
       "<selenium.webdriver.remote.webelement.WebElement (session=\"14cc306dfc6cf8a445f83a6ea888a63f\", element=\"B872FD081F80C5A889B871D0CDD9AE27_element_29866\")>"
      ]
     },
     "execution_count": 5,
     "metadata": {},
     "output_type": "execute_result"
    },
    {
     "name": "stdout",
     "output_type": "stream",
     "text": [
      "page  64 size  6\n",
      "url  4734\n",
      "url  4735\n",
      "url  4736\n",
      "url  4737\n",
      "url  4738\n",
      "url  4739\n"
     ]
    },
    {
     "data": {
      "text/plain": [
       "<selenium.webdriver.remote.webelement.WebElement (session=\"14cc306dfc6cf8a445f83a6ea888a63f\", element=\"EC232A65D912A5BF629FF433839F9481_element_29931\")>"
      ]
     },
     "execution_count": 5,
     "metadata": {},
     "output_type": "execute_result"
    },
    {
     "name": "stdout",
     "output_type": "stream",
     "text": [
      "page  65 size  6\n",
      "url  4740\n",
      "url  4741\n",
      "url  4742\n",
      "url  4743\n",
      "url  4744\n",
      "url  4745\n"
     ]
    },
    {
     "data": {
      "text/plain": [
       "<selenium.webdriver.remote.webelement.WebElement (session=\"14cc306dfc6cf8a445f83a6ea888a63f\", element=\"9C8E6E833A56DF3D0CD186C42A7A7433_element_29962\")>"
      ]
     },
     "execution_count": 5,
     "metadata": {},
     "output_type": "execute_result"
    },
    {
     "name": "stdout",
     "output_type": "stream",
     "text": [
      "page  66 size  6\n",
      "url  4746\n",
      "url  4747\n",
      "url  4748\n",
      "url  4749\n",
      "url  4750\n",
      "url  4751\n"
     ]
    },
    {
     "data": {
      "text/plain": [
       "<selenium.webdriver.remote.webelement.WebElement (session=\"14cc306dfc6cf8a445f83a6ea888a63f\", element=\"EFB4251E3C4AB76E27028B5436EFA09F_element_29995\")>"
      ]
     },
     "execution_count": 5,
     "metadata": {},
     "output_type": "execute_result"
    },
    {
     "name": "stdout",
     "output_type": "stream",
     "text": [
      "page  67 size  6\n",
      "url  4752\n",
      "url  4753\n",
      "url  4754\n",
      "url  4755\n",
      "url  4756\n",
      "url  4757\n"
     ]
    },
    {
     "data": {
      "text/plain": [
       "<selenium.webdriver.remote.webelement.WebElement (session=\"14cc306dfc6cf8a445f83a6ea888a63f\", element=\"D14454853AF441B892AA443AB2310DAF_element_30047\")>"
      ]
     },
     "execution_count": 5,
     "metadata": {},
     "output_type": "execute_result"
    },
    {
     "name": "stdout",
     "output_type": "stream",
     "text": [
      "page  68 size  6\n",
      "url  4758\n",
      "url  4759\n",
      "url  4760\n",
      "url  4761\n",
      "url  4762\n",
      "url  4763\n"
     ]
    },
    {
     "data": {
      "text/plain": [
       "<selenium.webdriver.remote.webelement.WebElement (session=\"14cc306dfc6cf8a445f83a6ea888a63f\", element=\"FE5875CE78E60AC0F34D573FEA45973B_element_30078\")>"
      ]
     },
     "execution_count": 5,
     "metadata": {},
     "output_type": "execute_result"
    },
    {
     "name": "stdout",
     "output_type": "stream",
     "text": [
      "page  69 size  6\n",
      "url  4764\n",
      "url  4765\n",
      "url  4766\n",
      "url  4767\n",
      "url  4768\n",
      "url  4769\n"
     ]
    },
    {
     "data": {
      "text/plain": [
       "<selenium.webdriver.remote.webelement.WebElement (session=\"14cc306dfc6cf8a445f83a6ea888a63f\", element=\"58F6745B5503F8C568B224F53C64C451_element_30110\")>"
      ]
     },
     "execution_count": 5,
     "metadata": {},
     "output_type": "execute_result"
    },
    {
     "name": "stdout",
     "output_type": "stream",
     "text": [
      "page  70 size  6\n",
      "url  4770\n",
      "url  4771\n",
      "url  4772\n",
      "url  4773\n",
      "url  4774\n",
      "url  4775\n"
     ]
    },
    {
     "data": {
      "text/plain": [
       "<selenium.webdriver.remote.webelement.WebElement (session=\"14cc306dfc6cf8a445f83a6ea888a63f\", element=\"D16F9CF3588AE8E60A178C8FD1D918C7_element_30143\")>"
      ]
     },
     "execution_count": 5,
     "metadata": {},
     "output_type": "execute_result"
    },
    {
     "name": "stdout",
     "output_type": "stream",
     "text": [
      "page  71 size  6\n",
      "url  4776\n",
      "url  4777\n",
      "url  4778\n",
      "url  4779\n",
      "url  4780\n",
      "url  4781\n"
     ]
    },
    {
     "data": {
      "text/plain": [
       "<selenium.webdriver.remote.webelement.WebElement (session=\"14cc306dfc6cf8a445f83a6ea888a63f\", element=\"A4E581B7BF2F7B3EE2720F9D1EFB18EB_element_30187\")>"
      ]
     },
     "execution_count": 5,
     "metadata": {},
     "output_type": "execute_result"
    },
    {
     "name": "stdout",
     "output_type": "stream",
     "text": [
      "page  72 size  6\n",
      "url  4782\n",
      "url  4783\n",
      "url  4784\n",
      "url  4785\n",
      "url  4786\n",
      "url  4787\n"
     ]
    },
    {
     "data": {
      "text/plain": [
       "<selenium.webdriver.remote.webelement.WebElement (session=\"14cc306dfc6cf8a445f83a6ea888a63f\", element=\"EB2AAC190C2273E966027E055947E43A_element_30217\")>"
      ]
     },
     "execution_count": 5,
     "metadata": {},
     "output_type": "execute_result"
    },
    {
     "name": "stdout",
     "output_type": "stream",
     "text": [
      "page  73 size  6\n",
      "url  4788\n",
      "url  4789\n",
      "url  4790\n",
      "url  4791\n",
      "url  4792\n",
      "url  4793\n"
     ]
    },
    {
     "data": {
      "text/plain": [
       "<selenium.webdriver.remote.webelement.WebElement (session=\"14cc306dfc6cf8a445f83a6ea888a63f\", element=\"9F1E2F3AFABCEA6D3C110B428FD52A52_element_30249\")>"
      ]
     },
     "execution_count": 5,
     "metadata": {},
     "output_type": "execute_result"
    },
    {
     "name": "stdout",
     "output_type": "stream",
     "text": [
      "page  74 size  6\n",
      "url  4794\n",
      "url  4795\n",
      "url  4796\n",
      "url  4797\n",
      "url  4798\n",
      "url  4799\n"
     ]
    },
    {
     "data": {
      "text/plain": [
       "<selenium.webdriver.remote.webelement.WebElement (session=\"14cc306dfc6cf8a445f83a6ea888a63f\", element=\"30A2B2FC9A74FB68E4C2D1BE421DD733_element_30277\")>"
      ]
     },
     "execution_count": 5,
     "metadata": {},
     "output_type": "execute_result"
    },
    {
     "name": "stdout",
     "output_type": "stream",
     "text": [
      "page  75 size  6\n",
      "url  4800\n",
      "url  4801\n",
      "url  4802\n",
      "url  4803\n",
      "url  4804\n",
      "url  4805\n"
     ]
    },
    {
     "data": {
      "text/plain": [
       "<selenium.webdriver.remote.webelement.WebElement (session=\"14cc306dfc6cf8a445f83a6ea888a63f\", element=\"59434E618D5670AE2C101DFD57C27D34_element_30320\")>"
      ]
     },
     "execution_count": 5,
     "metadata": {},
     "output_type": "execute_result"
    },
    {
     "name": "stdout",
     "output_type": "stream",
     "text": [
      "page  76 size  6\n",
      "url  4806\n",
      "url  4807\n",
      "url  4808\n",
      "url  4809\n",
      "url  4810\n",
      "url  4811\n"
     ]
    },
    {
     "data": {
      "text/plain": [
       "<selenium.webdriver.remote.webelement.WebElement (session=\"14cc306dfc6cf8a445f83a6ea888a63f\", element=\"D1ADB6EE9E09300D4971529238D29481_element_30358\")>"
      ]
     },
     "execution_count": 5,
     "metadata": {},
     "output_type": "execute_result"
    },
    {
     "name": "stdout",
     "output_type": "stream",
     "text": [
      "page  77 size  6\n",
      "url  4812\n",
      "url  4813\n",
      "url  4814\n",
      "url  4815\n",
      "url  4816\n",
      "url  4817\n"
     ]
    },
    {
     "data": {
      "text/plain": [
       "<selenium.webdriver.remote.webelement.WebElement (session=\"14cc306dfc6cf8a445f83a6ea888a63f\", element=\"4E563467B618E40D7BB2604A687471D4_element_30410\")>"
      ]
     },
     "execution_count": 5,
     "metadata": {},
     "output_type": "execute_result"
    },
    {
     "name": "stdout",
     "output_type": "stream",
     "text": [
      "page  78 size  6\n",
      "url  4818\n",
      "url  4819\n",
      "url  4820\n",
      "url  4821\n",
      "url  4822\n",
      "url  4823\n"
     ]
    },
    {
     "data": {
      "text/plain": [
       "<selenium.webdriver.remote.webelement.WebElement (session=\"14cc306dfc6cf8a445f83a6ea888a63f\", element=\"39852D52B5483E6695E2D5AFC747FD5D_element_30443\")>"
      ]
     },
     "execution_count": 5,
     "metadata": {},
     "output_type": "execute_result"
    },
    {
     "name": "stdout",
     "output_type": "stream",
     "text": [
      "page  79 size  6\n",
      "url  4824\n",
      "url  4825\n",
      "url  4826\n",
      "url  4827\n",
      "url  4828\n",
      "url  4829\n"
     ]
    },
    {
     "data": {
      "text/plain": [
       "<selenium.webdriver.remote.webelement.WebElement (session=\"14cc306dfc6cf8a445f83a6ea888a63f\", element=\"0281F5D60417F297A91E6B28FBCCA1A1_element_30475\")>"
      ]
     },
     "execution_count": 5,
     "metadata": {},
     "output_type": "execute_result"
    },
    {
     "name": "stdout",
     "output_type": "stream",
     "text": [
      "page  80 size  6\n",
      "url  4830\n",
      "url  4831\n",
      "url  4832\n",
      "url  4833\n",
      "url  4834\n",
      "url  4835\n"
     ]
    },
    {
     "data": {
      "text/plain": [
       "<selenium.webdriver.remote.webelement.WebElement (session=\"14cc306dfc6cf8a445f83a6ea888a63f\", element=\"27CB875B88C1E157519015485AEB85F7_element_30512\")>"
      ]
     },
     "execution_count": 5,
     "metadata": {},
     "output_type": "execute_result"
    },
    {
     "name": "stdout",
     "output_type": "stream",
     "text": [
      "page  81 size  6\n",
      "url  4836\n",
      "url  4837\n",
      "url  4838\n",
      "url  4839\n",
      "url  4840\n",
      "url  4841\n"
     ]
    },
    {
     "data": {
      "text/plain": [
       "<selenium.webdriver.remote.webelement.WebElement (session=\"14cc306dfc6cf8a445f83a6ea888a63f\", element=\"544FEC05603E369446B09B699E16F71B_element_30546\")>"
      ]
     },
     "execution_count": 5,
     "metadata": {},
     "output_type": "execute_result"
    },
    {
     "name": "stdout",
     "output_type": "stream",
     "text": [
      "page  82 size  6\n",
      "url  4842\n",
      "url  4843\n",
      "url  4844\n",
      "url  4845\n",
      "url  4846\n",
      "url  4847\n"
     ]
    },
    {
     "data": {
      "text/plain": [
       "<selenium.webdriver.remote.webelement.WebElement (session=\"14cc306dfc6cf8a445f83a6ea888a63f\", element=\"6F61E56E7A4FBA19D42D45CEEFCCC044_element_30590\")>"
      ]
     },
     "execution_count": 5,
     "metadata": {},
     "output_type": "execute_result"
    },
    {
     "name": "stdout",
     "output_type": "stream",
     "text": [
      "page  83 size  6\n",
      "url  4848\n",
      "url  4849\n",
      "url  4850\n",
      "url  4851\n",
      "url  4852\n",
      "url  4853\n"
     ]
    },
    {
     "data": {
      "text/plain": [
       "<selenium.webdriver.remote.webelement.WebElement (session=\"14cc306dfc6cf8a445f83a6ea888a63f\", element=\"92BC34D9997914F915BBF7324AAA9463_element_30627\")>"
      ]
     },
     "execution_count": 5,
     "metadata": {},
     "output_type": "execute_result"
    },
    {
     "name": "stdout",
     "output_type": "stream",
     "text": [
      "page  84 size  6\n",
      "url  4854\n",
      "url  4855\n",
      "url  4856\n",
      "url  4857\n",
      "url  4858\n",
      "url  4859\n"
     ]
    },
    {
     "data": {
      "text/plain": [
       "<selenium.webdriver.remote.webelement.WebElement (session=\"14cc306dfc6cf8a445f83a6ea888a63f\", element=\"267F276FDBB18AD06B5B125FB24847B5_element_30674\")>"
      ]
     },
     "execution_count": 5,
     "metadata": {},
     "output_type": "execute_result"
    },
    {
     "name": "stdout",
     "output_type": "stream",
     "text": [
      "page  85 size  6\n",
      "url  4860\n",
      "url  4861\n",
      "url  4862\n",
      "url  4863\n",
      "url  4864\n",
      "url  4865\n"
     ]
    },
    {
     "data": {
      "text/plain": [
       "<selenium.webdriver.remote.webelement.WebElement (session=\"14cc306dfc6cf8a445f83a6ea888a63f\", element=\"1CA19758B1D72F013CDC42C4E8348F2C_element_30711\")>"
      ]
     },
     "execution_count": 5,
     "metadata": {},
     "output_type": "execute_result"
    },
    {
     "name": "stdout",
     "output_type": "stream",
     "text": [
      "page  86 size  6\n",
      "url  4866\n",
      "url  4867\n",
      "url  4868\n",
      "url  4869\n",
      "url  4870\n",
      "url  4871\n"
     ]
    },
    {
     "data": {
      "text/plain": [
       "<selenium.webdriver.remote.webelement.WebElement (session=\"14cc306dfc6cf8a445f83a6ea888a63f\", element=\"F16095AFEC4EF43B4C6E0EA4E78B089E_element_30741\")>"
      ]
     },
     "execution_count": 5,
     "metadata": {},
     "output_type": "execute_result"
    },
    {
     "name": "stdout",
     "output_type": "stream",
     "text": [
      "page  87 size  6\n",
      "url  4872\n",
      "url  4873\n",
      "url  4874\n",
      "url  4875\n",
      "url  4876\n",
      "url  4877\n"
     ]
    },
    {
     "data": {
      "text/plain": [
       "<selenium.webdriver.remote.webelement.WebElement (session=\"14cc306dfc6cf8a445f83a6ea888a63f\", element=\"5581977CF940A84FB7311218C528BEAA_element_30778\")>"
      ]
     },
     "execution_count": 5,
     "metadata": {},
     "output_type": "execute_result"
    },
    {
     "name": "stdout",
     "output_type": "stream",
     "text": [
      "page  88 size  6\n",
      "url  4878\n",
      "url  4879\n",
      "url  4880\n",
      "url  4881\n",
      "url  4882\n",
      "url  4883\n"
     ]
    },
    {
     "data": {
      "text/plain": [
       "<selenium.webdriver.remote.webelement.WebElement (session=\"14cc306dfc6cf8a445f83a6ea888a63f\", element=\"F552D6DD03FD66FE954A3105AE3BC682_element_30823\")>"
      ]
     },
     "execution_count": 5,
     "metadata": {},
     "output_type": "execute_result"
    },
    {
     "name": "stdout",
     "output_type": "stream",
     "text": [
      "page  89 size  6\n",
      "url  4884\n",
      "url  4885\n",
      "url  4886\n",
      "url  4887\n",
      "url  4888\n",
      "url  4889\n"
     ]
    },
    {
     "data": {
      "text/plain": [
       "<selenium.webdriver.remote.webelement.WebElement (session=\"14cc306dfc6cf8a445f83a6ea888a63f\", element=\"51E57B2460EF9690CB548711A7C6B308_element_30875\")>"
      ]
     },
     "execution_count": 5,
     "metadata": {},
     "output_type": "execute_result"
    },
    {
     "name": "stdout",
     "output_type": "stream",
     "text": [
      "page  90 size  6\n",
      "url  4890\n",
      "url  4891\n",
      "url  4892\n",
      "url  4893\n",
      "url  4894\n",
      "url  4895\n"
     ]
    },
    {
     "data": {
      "text/plain": [
       "<selenium.webdriver.remote.webelement.WebElement (session=\"14cc306dfc6cf8a445f83a6ea888a63f\", element=\"7F4045AF7FCD6CBF6BEE82E4872C979A_element_30918\")>"
      ]
     },
     "execution_count": 5,
     "metadata": {},
     "output_type": "execute_result"
    },
    {
     "name": "stdout",
     "output_type": "stream",
     "text": [
      "page  91 size  6\n",
      "url  4896\n",
      "url  4897\n",
      "url  4898\n",
      "url  4899\n",
      "url  4900\n",
      "url  4901\n"
     ]
    },
    {
     "data": {
      "text/plain": [
       "<selenium.webdriver.remote.webelement.WebElement (session=\"14cc306dfc6cf8a445f83a6ea888a63f\", element=\"016B65368F0384751F3D1B0DBFB57383_element_30951\")>"
      ]
     },
     "execution_count": 5,
     "metadata": {},
     "output_type": "execute_result"
    },
    {
     "name": "stdout",
     "output_type": "stream",
     "text": [
      "page  92 size  6\n",
      "url  4902\n",
      "url  4903\n",
      "url  4904\n",
      "url  4905\n",
      "url  4906\n",
      "url  4907\n"
     ]
    },
    {
     "data": {
      "text/plain": [
       "<selenium.webdriver.remote.webelement.WebElement (session=\"14cc306dfc6cf8a445f83a6ea888a63f\", element=\"A56AA74E398C25DBAD42A50A0F37B514_element_30990\")>"
      ]
     },
     "execution_count": 5,
     "metadata": {},
     "output_type": "execute_result"
    },
    {
     "name": "stdout",
     "output_type": "stream",
     "text": [
      "page  93 size  6\n",
      "url  4908\n",
      "url  4909\n",
      "url  4910\n",
      "url  4911\n",
      "url  4912\n",
      "url  4913\n"
     ]
    },
    {
     "data": {
      "text/plain": [
       "<selenium.webdriver.remote.webelement.WebElement (session=\"14cc306dfc6cf8a445f83a6ea888a63f\", element=\"84745E1D78EB5E6CE9949C6CD84DDBCE_element_31032\")>"
      ]
     },
     "execution_count": 5,
     "metadata": {},
     "output_type": "execute_result"
    },
    {
     "name": "stdout",
     "output_type": "stream",
     "text": [
      "page  94 size  6\n",
      "url  4914\n",
      "url  4915\n",
      "url  4916\n",
      "url  4917\n",
      "url  4918\n",
      "url  4919\n"
     ]
    },
    {
     "data": {
      "text/plain": [
       "<selenium.webdriver.remote.webelement.WebElement (session=\"14cc306dfc6cf8a445f83a6ea888a63f\", element=\"8385B5B5AE005F6F615A4611F384E0A0_element_31064\")>"
      ]
     },
     "execution_count": 5,
     "metadata": {},
     "output_type": "execute_result"
    },
    {
     "name": "stdout",
     "output_type": "stream",
     "text": [
      "page  95 size  6\n",
      "url  4920\n",
      "url  4921\n",
      "url  4922\n",
      "url  4923\n",
      "url  4924\n",
      "url  4925\n"
     ]
    },
    {
     "data": {
      "text/plain": [
       "<selenium.webdriver.remote.webelement.WebElement (session=\"14cc306dfc6cf8a445f83a6ea888a63f\", element=\"BE36148F982A0881CA0929D03FFACCED_element_31098\")>"
      ]
     },
     "execution_count": 5,
     "metadata": {},
     "output_type": "execute_result"
    },
    {
     "name": "stdout",
     "output_type": "stream",
     "text": [
      "page  96 size  6\n",
      "url  4926\n",
      "url  4927\n",
      "url  4928\n",
      "url  4929\n",
      "url  4930\n",
      "url  4931\n"
     ]
    },
    {
     "data": {
      "text/plain": [
       "<selenium.webdriver.remote.webelement.WebElement (session=\"14cc306dfc6cf8a445f83a6ea888a63f\", element=\"7FE80C183BB368300AA1A206F6A9641F_element_31140\")>"
      ]
     },
     "execution_count": 5,
     "metadata": {},
     "output_type": "execute_result"
    },
    {
     "name": "stdout",
     "output_type": "stream",
     "text": [
      "page  97 size  6\n",
      "url  4932\n",
      "url  4933\n",
      "url  4934\n",
      "url  4935\n",
      "url  4936\n",
      "url  4937\n"
     ]
    },
    {
     "data": {
      "text/plain": [
       "<selenium.webdriver.remote.webelement.WebElement (session=\"14cc306dfc6cf8a445f83a6ea888a63f\", element=\"DB7DD6950F34FFECBF8AA1DB53E23DCA_element_31180\")>"
      ]
     },
     "execution_count": 5,
     "metadata": {},
     "output_type": "execute_result"
    },
    {
     "name": "stdout",
     "output_type": "stream",
     "text": [
      "page  98 size  6\n",
      "url  4938\n",
      "url  4939\n",
      "url  4940\n",
      "url  4941\n",
      "url  4942\n",
      "url  4943\n"
     ]
    },
    {
     "data": {
      "text/plain": [
       "<selenium.webdriver.remote.webelement.WebElement (session=\"14cc306dfc6cf8a445f83a6ea888a63f\", element=\"98EA3D765DA66F350A7886ED67F8990D_element_31212\")>"
      ]
     },
     "execution_count": 5,
     "metadata": {},
     "output_type": "execute_result"
    },
    {
     "name": "stdout",
     "output_type": "stream",
     "text": [
      "page  99 size  6\n",
      "url  4944\n",
      "url  4945\n",
      "url  4946\n",
      "url  4947\n",
      "url  4948\n",
      "url  4949\n"
     ]
    },
    {
     "data": {
      "text/plain": [
       "<selenium.webdriver.remote.webelement.WebElement (session=\"14cc306dfc6cf8a445f83a6ea888a63f\", element=\"BCF7E0FE5342E2D9C35B835DA4B2CB3E_element_31255\")>"
      ]
     },
     "execution_count": 5,
     "metadata": {},
     "output_type": "execute_result"
    },
    {
     "name": "stdout",
     "output_type": "stream",
     "text": [
      "page  100 size  6\n",
      "url  4950\n",
      "url  4951\n",
      "url  4952\n",
      "url  4953\n",
      "url  4954\n",
      "url  4955\n"
     ]
    },
    {
     "data": {
      "text/plain": [
       "<selenium.webdriver.remote.webelement.WebElement (session=\"14cc306dfc6cf8a445f83a6ea888a63f\", element=\"84BBC2CFE8572323D0778AB96EEB35DF_element_31311\")>"
      ]
     },
     "execution_count": 5,
     "metadata": {},
     "output_type": "execute_result"
    },
    {
     "name": "stdout",
     "output_type": "stream",
     "text": [
      "page  101 size  6\n",
      "url  4956\n",
      "url  4957\n",
      "url  4958\n",
      "url  4959\n",
      "url  4960\n",
      "url  4961\n"
     ]
    },
    {
     "data": {
      "text/plain": [
       "<selenium.webdriver.remote.webelement.WebElement (session=\"14cc306dfc6cf8a445f83a6ea888a63f\", element=\"046CC315ED79CABB27AD0F43398BDE0A_element_31347\")>"
      ]
     },
     "execution_count": 5,
     "metadata": {},
     "output_type": "execute_result"
    },
    {
     "name": "stdout",
     "output_type": "stream",
     "text": [
      "page  102 size  6\n",
      "url  4962\n",
      "url  4963\n",
      "url  4964\n",
      "url  4965\n",
      "url  4966\n",
      "url  4967\n"
     ]
    },
    {
     "data": {
      "text/plain": [
       "<selenium.webdriver.remote.webelement.WebElement (session=\"14cc306dfc6cf8a445f83a6ea888a63f\", element=\"C36F70DF355C938347EEB8ADC616986D_element_31385\")>"
      ]
     },
     "execution_count": 5,
     "metadata": {},
     "output_type": "execute_result"
    },
    {
     "name": "stdout",
     "output_type": "stream",
     "text": [
      "page  103 size  6\n",
      "url  4968\n",
      "url  4969\n",
      "url  4970\n",
      "url  4971\n",
      "url  4972\n",
      "url  4973\n"
     ]
    },
    {
     "data": {
      "text/plain": [
       "<selenium.webdriver.remote.webelement.WebElement (session=\"14cc306dfc6cf8a445f83a6ea888a63f\", element=\"957559A790021ACABCC2161A797045F5_element_31419\")>"
      ]
     },
     "execution_count": 5,
     "metadata": {},
     "output_type": "execute_result"
    },
    {
     "name": "stdout",
     "output_type": "stream",
     "text": [
      "page  104 size  6\n",
      "url  4974\n",
      "url  4975\n",
      "url  4976\n",
      "url  4977\n",
      "url  4978\n",
      "url  4979\n"
     ]
    },
    {
     "data": {
      "text/plain": [
       "<selenium.webdriver.remote.webelement.WebElement (session=\"14cc306dfc6cf8a445f83a6ea888a63f\", element=\"870E7D7AF07E253380EC22AC381CB245_element_31453\")>"
      ]
     },
     "execution_count": 5,
     "metadata": {},
     "output_type": "execute_result"
    },
    {
     "name": "stdout",
     "output_type": "stream",
     "text": [
      "page  105 size  6\n",
      "url  4980\n",
      "url  4981\n",
      "url  4982\n",
      "url  4983\n",
      "url  4984\n",
      "url  4985\n"
     ]
    },
    {
     "data": {
      "text/plain": [
       "<selenium.webdriver.remote.webelement.WebElement (session=\"14cc306dfc6cf8a445f83a6ea888a63f\", element=\"46B78384AFB6F5DE15C07CDDE678412C_element_31492\")>"
      ]
     },
     "execution_count": 5,
     "metadata": {},
     "output_type": "execute_result"
    },
    {
     "name": "stdout",
     "output_type": "stream",
     "text": [
      "page  106 size  6\n",
      "url  4986\n",
      "url  4987\n",
      "url  4988\n",
      "url  4989\n",
      "url  4990\n",
      "url  4991\n"
     ]
    },
    {
     "data": {
      "text/plain": [
       "<selenium.webdriver.remote.webelement.WebElement (session=\"14cc306dfc6cf8a445f83a6ea888a63f\", element=\"B90C4D2BA1CDCD02B6D32EB2593E9AC3_element_31525\")>"
      ]
     },
     "execution_count": 5,
     "metadata": {},
     "output_type": "execute_result"
    },
    {
     "name": "stdout",
     "output_type": "stream",
     "text": [
      "page  107 size  6\n",
      "url  4992\n",
      "url  4993\n",
      "url  4994\n",
      "url  4995\n",
      "url  4996\n",
      "url  4997\n"
     ]
    },
    {
     "data": {
      "text/plain": [
       "<selenium.webdriver.remote.webelement.WebElement (session=\"14cc306dfc6cf8a445f83a6ea888a63f\", element=\"4CC8B5596AF4F8D79122AE4D5087A3C6_element_31559\")>"
      ]
     },
     "execution_count": 5,
     "metadata": {},
     "output_type": "execute_result"
    },
    {
     "name": "stdout",
     "output_type": "stream",
     "text": [
      "page  108 size  6\n",
      "url  4998\n",
      "url  4999\n",
      "url  5000\n",
      "url  5001\n",
      "url  5002\n",
      "url  5003\n"
     ]
    },
    {
     "data": {
      "text/plain": [
       "<selenium.webdriver.remote.webelement.WebElement (session=\"14cc306dfc6cf8a445f83a6ea888a63f\", element=\"C84BE7E86B45BF106A36529CF09B5410_element_31594\")>"
      ]
     },
     "execution_count": 5,
     "metadata": {},
     "output_type": "execute_result"
    },
    {
     "name": "stdout",
     "output_type": "stream",
     "text": [
      "page  109 size  6\n",
      "url  5004\n",
      "url  5005\n",
      "url  5006\n",
      "url  5007\n",
      "url  5008\n",
      "url  5009\n"
     ]
    },
    {
     "data": {
      "text/plain": [
       "<selenium.webdriver.remote.webelement.WebElement (session=\"14cc306dfc6cf8a445f83a6ea888a63f\", element=\"82D492E8765DED437A8834940BEDE1D4_element_31635\")>"
      ]
     },
     "execution_count": 5,
     "metadata": {},
     "output_type": "execute_result"
    },
    {
     "name": "stdout",
     "output_type": "stream",
     "text": [
      "page  110 size  6\n",
      "url  5010\n",
      "url  5011\n",
      "url  5012\n",
      "url  5013\n",
      "url  5014\n",
      "url  5015\n"
     ]
    },
    {
     "data": {
      "text/plain": [
       "<selenium.webdriver.remote.webelement.WebElement (session=\"14cc306dfc6cf8a445f83a6ea888a63f\", element=\"7B48D9E01B8CF94D31FCD61E9ED49668_element_31686\")>"
      ]
     },
     "execution_count": 5,
     "metadata": {},
     "output_type": "execute_result"
    },
    {
     "name": "stdout",
     "output_type": "stream",
     "text": [
      "page  111 size  6\n",
      "url  5016\n",
      "url  5017\n",
      "url  5018\n",
      "url  5019\n",
      "url  5020\n",
      "url  5021\n"
     ]
    },
    {
     "data": {
      "text/plain": [
       "<selenium.webdriver.remote.webelement.WebElement (session=\"14cc306dfc6cf8a445f83a6ea888a63f\", element=\"56EC9F1F19D3B3C181B608580C4FEBE9_element_31734\")>"
      ]
     },
     "execution_count": 5,
     "metadata": {},
     "output_type": "execute_result"
    },
    {
     "name": "stdout",
     "output_type": "stream",
     "text": [
      "page  112 size  6\n",
      "url  5022\n",
      "url  5023\n",
      "url  5024\n",
      "url  5025\n",
      "url  5026\n",
      "url  5027\n"
     ]
    },
    {
     "data": {
      "text/plain": [
       "<selenium.webdriver.remote.webelement.WebElement (session=\"14cc306dfc6cf8a445f83a6ea888a63f\", element=\"89AD6B819B9CABDA2C63BD8B4105FF91_element_31766\")>"
      ]
     },
     "execution_count": 5,
     "metadata": {},
     "output_type": "execute_result"
    },
    {
     "name": "stdout",
     "output_type": "stream",
     "text": [
      "page  113 size  6\n",
      "url  5028\n",
      "url  5029\n",
      "url  5030\n",
      "url  5031\n",
      "url  5032\n",
      "url  5033\n"
     ]
    },
    {
     "data": {
      "text/plain": [
       "<selenium.webdriver.remote.webelement.WebElement (session=\"14cc306dfc6cf8a445f83a6ea888a63f\", element=\"FE05F94AFAEFBF8AA04C6C4AF9B10668_element_31806\")>"
      ]
     },
     "execution_count": 5,
     "metadata": {},
     "output_type": "execute_result"
    },
    {
     "name": "stdout",
     "output_type": "stream",
     "text": [
      "page  114 size  6\n",
      "url  5034\n",
      "url  5035\n",
      "url  5036\n",
      "url  5037\n",
      "url  5038\n",
      "url  5039\n"
     ]
    },
    {
     "data": {
      "text/plain": [
       "<selenium.webdriver.remote.webelement.WebElement (session=\"14cc306dfc6cf8a445f83a6ea888a63f\", element=\"516D852396CD4F3A32CE47C9FBFDC1F1_element_31837\")>"
      ]
     },
     "execution_count": 5,
     "metadata": {},
     "output_type": "execute_result"
    },
    {
     "name": "stdout",
     "output_type": "stream",
     "text": [
      "page  115 size  6\n",
      "url  5040\n",
      "url  5041\n",
      "url  5042\n",
      "url  5043\n",
      "url  5044\n",
      "url  5045\n"
     ]
    },
    {
     "data": {
      "text/plain": [
       "<selenium.webdriver.remote.webelement.WebElement (session=\"14cc306dfc6cf8a445f83a6ea888a63f\", element=\"72B67162EAF5DAF78C2CC534A2A6B5F8_element_31872\")>"
      ]
     },
     "execution_count": 5,
     "metadata": {},
     "output_type": "execute_result"
    },
    {
     "name": "stdout",
     "output_type": "stream",
     "text": [
      "page  116 size  6\n",
      "url  5046\n",
      "url  5047\n",
      "url  5048\n",
      "url  5049\n",
      "url  5050\n",
      "url  5051\n"
     ]
    },
    {
     "data": {
      "text/plain": [
       "<selenium.webdriver.remote.webelement.WebElement (session=\"14cc306dfc6cf8a445f83a6ea888a63f\", element=\"B851322BA277E993E91BDAD5F92665DB_element_31908\")>"
      ]
     },
     "execution_count": 5,
     "metadata": {},
     "output_type": "execute_result"
    },
    {
     "name": "stdout",
     "output_type": "stream",
     "text": [
      "page  117 size  6\n",
      "url  5052\n",
      "url  5053\n",
      "url  5054\n",
      "url  5055\n",
      "url  5056\n",
      "url  5057\n"
     ]
    },
    {
     "data": {
      "text/plain": [
       "<selenium.webdriver.remote.webelement.WebElement (session=\"14cc306dfc6cf8a445f83a6ea888a63f\", element=\"E03DF5F4A7C938C2A389C8AEA97ACEC1_element_31942\")>"
      ]
     },
     "execution_count": 5,
     "metadata": {},
     "output_type": "execute_result"
    },
    {
     "name": "stdout",
     "output_type": "stream",
     "text": [
      "page  118 size  6\n",
      "url  5058\n",
      "url  5059\n",
      "url  5060\n",
      "url  5061\n",
      "url  5062\n",
      "url  5063\n"
     ]
    },
    {
     "data": {
      "text/plain": [
       "<selenium.webdriver.remote.webelement.WebElement (session=\"14cc306dfc6cf8a445f83a6ea888a63f\", element=\"EDE6E336353BD568ED11003E13148769_element_31987\")>"
      ]
     },
     "execution_count": 5,
     "metadata": {},
     "output_type": "execute_result"
    },
    {
     "name": "stdout",
     "output_type": "stream",
     "text": [
      "page  119 size  6\n",
      "url  5064\n",
      "url  5065\n",
      "url  5066\n",
      "url  5067\n",
      "url  5068\n",
      "url  5069\n"
     ]
    },
    {
     "data": {
      "text/plain": [
       "<selenium.webdriver.remote.webelement.WebElement (session=\"14cc306dfc6cf8a445f83a6ea888a63f\", element=\"37172C9DC9C764614C966FD0E9A7E0AE_element_32022\")>"
      ]
     },
     "execution_count": 5,
     "metadata": {},
     "output_type": "execute_result"
    },
    {
     "name": "stdout",
     "output_type": "stream",
     "text": [
      "page  120 size  6\n",
      "url  5070\n",
      "url  5071\n",
      "url  5072\n",
      "url  5073\n",
      "url  5074\n",
      "url  5075\n"
     ]
    },
    {
     "data": {
      "text/plain": [
       "<selenium.webdriver.remote.webelement.WebElement (session=\"14cc306dfc6cf8a445f83a6ea888a63f\", element=\"B7E54B80DDE3CB06C49BF53915E55984_element_32073\")>"
      ]
     },
     "execution_count": 5,
     "metadata": {},
     "output_type": "execute_result"
    },
    {
     "name": "stdout",
     "output_type": "stream",
     "text": [
      "page  121 size  6\n",
      "url  5076\n",
      "url  5077\n",
      "url  5078\n",
      "url  5079\n",
      "url  5080\n",
      "url  5081\n"
     ]
    },
    {
     "data": {
      "text/plain": [
       "<selenium.webdriver.remote.webelement.WebElement (session=\"14cc306dfc6cf8a445f83a6ea888a63f\", element=\"F48792412F8AB9B850D2014A2024D194_element_32115\")>"
      ]
     },
     "execution_count": 5,
     "metadata": {},
     "output_type": "execute_result"
    },
    {
     "name": "stdout",
     "output_type": "stream",
     "text": [
      "page  122 size  6\n",
      "url  5082\n",
      "url  5083\n",
      "url  5084\n",
      "url  5085\n",
      "url  5086\n",
      "url  5087\n"
     ]
    },
    {
     "data": {
      "text/plain": [
       "<selenium.webdriver.remote.webelement.WebElement (session=\"14cc306dfc6cf8a445f83a6ea888a63f\", element=\"DDBAAFB83E187AC7C5A085E6D3F7BA77_element_32165\")>"
      ]
     },
     "execution_count": 5,
     "metadata": {},
     "output_type": "execute_result"
    },
    {
     "name": "stdout",
     "output_type": "stream",
     "text": [
      "page  123 size  6\n",
      "url  5088\n",
      "url  5089\n",
      "url  5090\n",
      "url  5091\n",
      "url  5092\n",
      "url  5093\n"
     ]
    },
    {
     "data": {
      "text/plain": [
       "<selenium.webdriver.remote.webelement.WebElement (session=\"14cc306dfc6cf8a445f83a6ea888a63f\", element=\"02BE8409864528C92174F43E62191366_element_32197\")>"
      ]
     },
     "execution_count": 5,
     "metadata": {},
     "output_type": "execute_result"
    },
    {
     "name": "stdout",
     "output_type": "stream",
     "text": [
      "page  124 size  6\n",
      "url  5094\n",
      "url  5095\n",
      "url  5096\n",
      "url  5097\n",
      "url  5098\n",
      "url  5099\n"
     ]
    },
    {
     "data": {
      "text/plain": [
       "<selenium.webdriver.remote.webelement.WebElement (session=\"14cc306dfc6cf8a445f83a6ea888a63f\", element=\"EB70AB48C419B5EC5B7072A1970FDB8B_element_32238\")>"
      ]
     },
     "execution_count": 5,
     "metadata": {},
     "output_type": "execute_result"
    },
    {
     "name": "stdout",
     "output_type": "stream",
     "text": [
      "page  125 size  6\n",
      "url  5100\n",
      "url  5101\n",
      "url  5102\n",
      "url  5103\n",
      "url  5104\n",
      "url  5105\n"
     ]
    },
    {
     "data": {
      "text/plain": [
       "<selenium.webdriver.remote.webelement.WebElement (session=\"14cc306dfc6cf8a445f83a6ea888a63f\", element=\"2C1FE788E064F0B06AB416C83739ED54_element_32270\")>"
      ]
     },
     "execution_count": 5,
     "metadata": {},
     "output_type": "execute_result"
    },
    {
     "name": "stdout",
     "output_type": "stream",
     "text": [
      "page  126 size  6\n",
      "url  5106\n",
      "url  5107\n",
      "url  5108\n",
      "url  5109\n",
      "url  5110\n",
      "url  5111\n"
     ]
    },
    {
     "data": {
      "text/plain": [
       "<selenium.webdriver.remote.webelement.WebElement (session=\"14cc306dfc6cf8a445f83a6ea888a63f\", element=\"4F8AA07159751B4DBDF46FD917333506_element_32303\")>"
      ]
     },
     "execution_count": 5,
     "metadata": {},
     "output_type": "execute_result"
    },
    {
     "name": "stdout",
     "output_type": "stream",
     "text": [
      "page  127 size  6\n",
      "url  5112\n",
      "url  5113\n",
      "url  5114\n",
      "url  5115\n",
      "url  5116\n",
      "url  5117\n"
     ]
    },
    {
     "data": {
      "text/plain": [
       "<selenium.webdriver.remote.webelement.WebElement (session=\"14cc306dfc6cf8a445f83a6ea888a63f\", element=\"D26C66941A9159E46B03C3A78B2FA233_element_32340\")>"
      ]
     },
     "execution_count": 5,
     "metadata": {},
     "output_type": "execute_result"
    },
    {
     "name": "stdout",
     "output_type": "stream",
     "text": [
      "page  128 size  6\n",
      "url  5118\n",
      "url  5119\n",
      "url  5120\n",
      "url  5121\n",
      "url  5122\n",
      "url  5123\n"
     ]
    },
    {
     "data": {
      "text/plain": [
       "<selenium.webdriver.remote.webelement.WebElement (session=\"14cc306dfc6cf8a445f83a6ea888a63f\", element=\"EE3C0B3E49B3EF4FE83F2416F6471EE6_element_32378\")>"
      ]
     },
     "execution_count": 5,
     "metadata": {},
     "output_type": "execute_result"
    },
    {
     "name": "stdout",
     "output_type": "stream",
     "text": [
      "page  129 size  6\n",
      "url  5124\n",
      "url  5125\n",
      "url  5126\n",
      "url  5127\n",
      "url  5128\n",
      "url  5129\n"
     ]
    },
    {
     "data": {
      "text/plain": [
       "<selenium.webdriver.remote.webelement.WebElement (session=\"14cc306dfc6cf8a445f83a6ea888a63f\", element=\"EEB6DEB6042084D191DD767B3B7B7D0B_element_32417\")>"
      ]
     },
     "execution_count": 5,
     "metadata": {},
     "output_type": "execute_result"
    },
    {
     "name": "stdout",
     "output_type": "stream",
     "text": [
      "page  130 size  6\n",
      "url  5130\n",
      "url  5131\n",
      "url  5132\n",
      "url  5133\n",
      "url  5134\n",
      "url  5135\n"
     ]
    },
    {
     "data": {
      "text/plain": [
       "<selenium.webdriver.remote.webelement.WebElement (session=\"14cc306dfc6cf8a445f83a6ea888a63f\", element=\"18B182843D3DD2DEA6324D30AC2E81E6_element_32459\")>"
      ]
     },
     "execution_count": 5,
     "metadata": {},
     "output_type": "execute_result"
    },
    {
     "name": "stdout",
     "output_type": "stream",
     "text": [
      "page  131 size  6\n",
      "url  5136\n",
      "url  5137\n",
      "url  5138\n",
      "url  5139\n",
      "url  5140\n",
      "url  5141\n"
     ]
    },
    {
     "data": {
      "text/plain": [
       "<selenium.webdriver.remote.webelement.WebElement (session=\"14cc306dfc6cf8a445f83a6ea888a63f\", element=\"8E2E4C3E1C16F95334E27E89080F5A7D_element_32496\")>"
      ]
     },
     "execution_count": 5,
     "metadata": {},
     "output_type": "execute_result"
    },
    {
     "name": "stdout",
     "output_type": "stream",
     "text": [
      "page  132 size  6\n",
      "url  5142\n",
      "url  5143\n",
      "url  5144\n",
      "url  5145\n",
      "url  5146\n",
      "url  5147\n"
     ]
    },
    {
     "data": {
      "text/plain": [
       "<selenium.webdriver.remote.webelement.WebElement (session=\"14cc306dfc6cf8a445f83a6ea888a63f\", element=\"4A6E899CAB581AB03EDCEE4411848626_element_32539\")>"
      ]
     },
     "execution_count": 5,
     "metadata": {},
     "output_type": "execute_result"
    },
    {
     "name": "stdout",
     "output_type": "stream",
     "text": [
      "page  133 size  6\n",
      "url  5148\n",
      "url  5149\n",
      "url  5150\n",
      "url  5151\n",
      "url  5152\n",
      "url  5153\n"
     ]
    },
    {
     "data": {
      "text/plain": [
       "<selenium.webdriver.remote.webelement.WebElement (session=\"14cc306dfc6cf8a445f83a6ea888a63f\", element=\"B7CFBCB7FA96D428538E5475F6E7286A_element_32589\")>"
      ]
     },
     "execution_count": 5,
     "metadata": {},
     "output_type": "execute_result"
    },
    {
     "name": "stdout",
     "output_type": "stream",
     "text": [
      "page  134 size  6\n",
      "url  5154\n",
      "url  5155\n",
      "url  5156\n",
      "url  5157\n",
      "url  5158\n",
      "url  5159\n"
     ]
    },
    {
     "data": {
      "text/plain": [
       "<selenium.webdriver.remote.webelement.WebElement (session=\"14cc306dfc6cf8a445f83a6ea888a63f\", element=\"6406FFEF838A01CA0CA937C894002099_element_32624\")>"
      ]
     },
     "execution_count": 5,
     "metadata": {},
     "output_type": "execute_result"
    },
    {
     "name": "stdout",
     "output_type": "stream",
     "text": [
      "page  135 size  6\n",
      "url  5160\n",
      "url  5161\n",
      "url  5162\n",
      "url  5163\n",
      "url  5164\n",
      "url  5165\n"
     ]
    },
    {
     "data": {
      "text/plain": [
       "<selenium.webdriver.remote.webelement.WebElement (session=\"14cc306dfc6cf8a445f83a6ea888a63f\", element=\"817B28B27AF977D489F0DFB951616876_element_32661\")>"
      ]
     },
     "execution_count": 5,
     "metadata": {},
     "output_type": "execute_result"
    },
    {
     "name": "stdout",
     "output_type": "stream",
     "text": [
      "page  136 size  6\n",
      "url  5166\n",
      "url  5167\n",
      "url  5168\n",
      "url  5169\n",
      "url  5170\n",
      "url  5171\n"
     ]
    },
    {
     "data": {
      "text/plain": [
       "<selenium.webdriver.remote.webelement.WebElement (session=\"14cc306dfc6cf8a445f83a6ea888a63f\", element=\"E1301213D00986029245168768A14F04_element_32701\")>"
      ]
     },
     "execution_count": 5,
     "metadata": {},
     "output_type": "execute_result"
    },
    {
     "name": "stdout",
     "output_type": "stream",
     "text": [
      "page  137 size  6\n",
      "url  5172\n",
      "url  5173\n",
      "url  5174\n",
      "url  5175\n",
      "url  5176\n",
      "url  5177\n"
     ]
    },
    {
     "data": {
      "text/plain": [
       "<selenium.webdriver.remote.webelement.WebElement (session=\"14cc306dfc6cf8a445f83a6ea888a63f\", element=\"747312A9F1CE94BF6F61ADF9E0B14C90_element_32736\")>"
      ]
     },
     "execution_count": 5,
     "metadata": {},
     "output_type": "execute_result"
    },
    {
     "name": "stdout",
     "output_type": "stream",
     "text": [
      "page  138 size  6\n",
      "url  5178\n",
      "url  5179\n",
      "url  5180\n",
      "url  5181\n",
      "url  5182\n",
      "url  5183\n"
     ]
    },
    {
     "data": {
      "text/plain": [
       "<selenium.webdriver.remote.webelement.WebElement (session=\"14cc306dfc6cf8a445f83a6ea888a63f\", element=\"D1CD1CAA5BFB42DB45C599DC4BDB7147_element_32770\")>"
      ]
     },
     "execution_count": 5,
     "metadata": {},
     "output_type": "execute_result"
    },
    {
     "name": "stdout",
     "output_type": "stream",
     "text": [
      "page  139 size  6\n",
      "url  5184\n",
      "url  5185\n",
      "url  5186\n",
      "url  5187\n",
      "url  5188\n",
      "url  5189\n"
     ]
    },
    {
     "data": {
      "text/plain": [
       "<selenium.webdriver.remote.webelement.WebElement (session=\"14cc306dfc6cf8a445f83a6ea888a63f\", element=\"79990AB9F5FC1926BA69A90227C62F7D_element_32810\")>"
      ]
     },
     "execution_count": 5,
     "metadata": {},
     "output_type": "execute_result"
    },
    {
     "name": "stdout",
     "output_type": "stream",
     "text": [
      "page  140 size  6\n",
      "url  5190\n",
      "url  5191\n",
      "url  5192\n",
      "url  5193\n",
      "url  5194\n",
      "url  5195\n"
     ]
    },
    {
     "data": {
      "text/plain": [
       "<selenium.webdriver.remote.webelement.WebElement (session=\"14cc306dfc6cf8a445f83a6ea888a63f\", element=\"B06F15F84E6F06B2B6AA5735EFBBCF67_element_32847\")>"
      ]
     },
     "execution_count": 5,
     "metadata": {},
     "output_type": "execute_result"
    },
    {
     "name": "stdout",
     "output_type": "stream",
     "text": [
      "page  141 size  6\n",
      "url  5196\n",
      "url  5197\n",
      "url  5198\n",
      "url  5199\n",
      "url  5200\n",
      "url  5201\n"
     ]
    },
    {
     "data": {
      "text/plain": [
       "<selenium.webdriver.remote.webelement.WebElement (session=\"14cc306dfc6cf8a445f83a6ea888a63f\", element=\"B909D0094B4F87E1A5E3346AD03E7C76_element_32884\")>"
      ]
     },
     "execution_count": 5,
     "metadata": {},
     "output_type": "execute_result"
    },
    {
     "name": "stdout",
     "output_type": "stream",
     "text": [
      "page  142 size  6\n",
      "url  5202\n",
      "url  5203\n",
      "url  5204\n",
      "url  5205\n",
      "url  5206\n",
      "url  5207\n"
     ]
    },
    {
     "data": {
      "text/plain": [
       "<selenium.webdriver.remote.webelement.WebElement (session=\"14cc306dfc6cf8a445f83a6ea888a63f\", element=\"BF569974A432AC1021548415BF2423F1_element_32934\")>"
      ]
     },
     "execution_count": 5,
     "metadata": {},
     "output_type": "execute_result"
    },
    {
     "name": "stdout",
     "output_type": "stream",
     "text": [
      "page  143 size  6\n",
      "url  5208\n",
      "url  5209\n",
      "url  5210\n",
      "url  5211\n",
      "url  5212\n",
      "url  5213\n"
     ]
    },
    {
     "data": {
      "text/plain": [
       "<selenium.webdriver.remote.webelement.WebElement (session=\"14cc306dfc6cf8a445f83a6ea888a63f\", element=\"A3D9BDBC4EFD17177C5CDAEB29E62C11_element_32963\")>"
      ]
     },
     "execution_count": 5,
     "metadata": {},
     "output_type": "execute_result"
    },
    {
     "name": "stdout",
     "output_type": "stream",
     "text": [
      "page  144 size  6\n",
      "url  5214\n",
      "url  5215\n",
      "url  5216\n",
      "url  5217\n",
      "url  5218\n",
      "url  5219\n"
     ]
    },
    {
     "data": {
      "text/plain": [
       "<selenium.webdriver.remote.webelement.WebElement (session=\"14cc306dfc6cf8a445f83a6ea888a63f\", element=\"35C431E8C65D8FE5D8D3E7B797312055_element_33002\")>"
      ]
     },
     "execution_count": 5,
     "metadata": {},
     "output_type": "execute_result"
    },
    {
     "name": "stdout",
     "output_type": "stream",
     "text": [
      "page  145 size  6\n",
      "url  5220\n",
      "url  5221\n",
      "url  5222\n",
      "url  5223\n",
      "url  5224\n",
      "url  5225\n"
     ]
    },
    {
     "data": {
      "text/plain": [
       "<selenium.webdriver.remote.webelement.WebElement (session=\"14cc306dfc6cf8a445f83a6ea888a63f\", element=\"C0944BA55D749F2E49A65CACE63FB31A_element_33049\")>"
      ]
     },
     "execution_count": 5,
     "metadata": {},
     "output_type": "execute_result"
    },
    {
     "name": "stdout",
     "output_type": "stream",
     "text": [
      "page  146 size  6\n",
      "url  5226\n",
      "url  5227\n",
      "url  5228\n",
      "url  5229\n",
      "url  5230\n",
      "url  5231\n"
     ]
    },
    {
     "data": {
      "text/plain": [
       "<selenium.webdriver.remote.webelement.WebElement (session=\"14cc306dfc6cf8a445f83a6ea888a63f\", element=\"7B08293C25CB24D6F013A2AB65E8E372_element_33087\")>"
      ]
     },
     "execution_count": 5,
     "metadata": {},
     "output_type": "execute_result"
    },
    {
     "name": "stdout",
     "output_type": "stream",
     "text": [
      "page  147 size  6\n",
      "url  5232\n",
      "url  5233\n",
      "url  5234\n",
      "url  5235\n",
      "url  5236\n",
      "url  5237\n"
     ]
    },
    {
     "data": {
      "text/plain": [
       "<selenium.webdriver.remote.webelement.WebElement (session=\"14cc306dfc6cf8a445f83a6ea888a63f\", element=\"9E7F0A7E753F340D6C0F817F6867A20C_element_33127\")>"
      ]
     },
     "execution_count": 5,
     "metadata": {},
     "output_type": "execute_result"
    },
    {
     "name": "stdout",
     "output_type": "stream",
     "text": [
      "page  148 size  6\n",
      "url  5238\n",
      "url  5239\n",
      "url  5240\n",
      "url  5241\n",
      "url  5242\n",
      "url  5243\n"
     ]
    },
    {
     "data": {
      "text/plain": [
       "<selenium.webdriver.remote.webelement.WebElement (session=\"14cc306dfc6cf8a445f83a6ea888a63f\", element=\"58769A686FE80C7CA79078F05F21C003_element_33175\")>"
      ]
     },
     "execution_count": 5,
     "metadata": {},
     "output_type": "execute_result"
    },
    {
     "name": "stdout",
     "output_type": "stream",
     "text": [
      "page  149 size  6\n",
      "url  5244\n",
      "url  5245\n",
      "url  5246\n",
      "url  5247\n",
      "url  5248\n",
      "url  5249\n"
     ]
    },
    {
     "data": {
      "text/plain": [
       "<selenium.webdriver.remote.webelement.WebElement (session=\"14cc306dfc6cf8a445f83a6ea888a63f\", element=\"D6CE4A71B8322F246D01016872D9582E_element_33209\")>"
      ]
     },
     "execution_count": 5,
     "metadata": {},
     "output_type": "execute_result"
    },
    {
     "name": "stdout",
     "output_type": "stream",
     "text": [
      "page  150 size  6\n",
      "url  5250\n",
      "url  5251\n",
      "url  5252\n",
      "url  5253\n",
      "url  5254\n",
      "url  5255\n"
     ]
    },
    {
     "data": {
      "text/plain": [
       "<selenium.webdriver.remote.webelement.WebElement (session=\"14cc306dfc6cf8a445f83a6ea888a63f\", element=\"4DA4D3CB0D87378A8DB8C8432212E2B3_element_33241\")>"
      ]
     },
     "execution_count": 5,
     "metadata": {},
     "output_type": "execute_result"
    },
    {
     "name": "stdout",
     "output_type": "stream",
     "text": [
      "page  151 size  6\n",
      "url  5256\n",
      "url  5257\n",
      "url  5258\n",
      "url  5259\n",
      "url  5260\n",
      "url  5261\n"
     ]
    },
    {
     "data": {
      "text/plain": [
       "<selenium.webdriver.remote.webelement.WebElement (session=\"14cc306dfc6cf8a445f83a6ea888a63f\", element=\"9A6F09BD2DBA16D6A37428C9BDB71284_element_33277\")>"
      ]
     },
     "execution_count": 5,
     "metadata": {},
     "output_type": "execute_result"
    },
    {
     "name": "stdout",
     "output_type": "stream",
     "text": [
      "page  152 size  6\n",
      "url  5262\n",
      "url  5263\n",
      "url  5264\n",
      "url  5265\n",
      "url  5266\n",
      "url  5267\n"
     ]
    },
    {
     "data": {
      "text/plain": [
       "<selenium.webdriver.remote.webelement.WebElement (session=\"14cc306dfc6cf8a445f83a6ea888a63f\", element=\"1F033B34D991D717F9FF5822303D8A37_element_33314\")>"
      ]
     },
     "execution_count": 5,
     "metadata": {},
     "output_type": "execute_result"
    },
    {
     "name": "stdout",
     "output_type": "stream",
     "text": [
      "page  153 size  6\n",
      "url  5268\n",
      "url  5269\n",
      "url  5270\n",
      "url  5271\n",
      "url  5272\n",
      "url  5273\n"
     ]
    },
    {
     "data": {
      "text/plain": [
       "<selenium.webdriver.remote.webelement.WebElement (session=\"14cc306dfc6cf8a445f83a6ea888a63f\", element=\"C94C359AC2915C7C772C359083ACAB9C_element_33355\")>"
      ]
     },
     "execution_count": 5,
     "metadata": {},
     "output_type": "execute_result"
    },
    {
     "name": "stdout",
     "output_type": "stream",
     "text": [
      "page  154 size  6\n",
      "url  5274\n",
      "url  5275\n",
      "url  5276\n",
      "url  5277\n",
      "url  5278\n",
      "url  5279\n"
     ]
    },
    {
     "data": {
      "text/plain": [
       "<selenium.webdriver.remote.webelement.WebElement (session=\"14cc306dfc6cf8a445f83a6ea888a63f\", element=\"BC3D26C9C6BB6EC8CC0A8EC85F4ACD18_element_33399\")>"
      ]
     },
     "execution_count": 5,
     "metadata": {},
     "output_type": "execute_result"
    },
    {
     "name": "stdout",
     "output_type": "stream",
     "text": [
      "page  155 size  6\n",
      "url  5280\n",
      "url  5281\n",
      "url  5282\n",
      "url  5283\n",
      "url  5284\n",
      "url  5285\n"
     ]
    },
    {
     "data": {
      "text/plain": [
       "<selenium.webdriver.remote.webelement.WebElement (session=\"14cc306dfc6cf8a445f83a6ea888a63f\", element=\"8F9CA1DDC1DC2D296A3210B6837ECCB1_element_33440\")>"
      ]
     },
     "execution_count": 5,
     "metadata": {},
     "output_type": "execute_result"
    },
    {
     "name": "stdout",
     "output_type": "stream",
     "text": [
      "page  156 size  6\n",
      "url  5286\n",
      "url  5287\n",
      "url  5288\n",
      "url  5289\n",
      "url  5290\n",
      "url  5291\n"
     ]
    },
    {
     "data": {
      "text/plain": [
       "<selenium.webdriver.remote.webelement.WebElement (session=\"14cc306dfc6cf8a445f83a6ea888a63f\", element=\"26E85E3142D1022F90E7B68C7796EEBA_element_33477\")>"
      ]
     },
     "execution_count": 5,
     "metadata": {},
     "output_type": "execute_result"
    },
    {
     "name": "stdout",
     "output_type": "stream",
     "text": [
      "page  157 size  6\n",
      "url  5292\n",
      "url  5293\n",
      "url  5294\n",
      "url  5295\n",
      "url  5296\n",
      "url  5297\n"
     ]
    },
    {
     "data": {
      "text/plain": [
       "<selenium.webdriver.remote.webelement.WebElement (session=\"14cc306dfc6cf8a445f83a6ea888a63f\", element=\"DC1E8272A305B86D6FAC56A76FA18C80_element_33529\")>"
      ]
     },
     "execution_count": 5,
     "metadata": {},
     "output_type": "execute_result"
    },
    {
     "name": "stdout",
     "output_type": "stream",
     "text": [
      "page  158 size  6\n",
      "url  5298\n",
      "url  5299\n",
      "url  5300\n",
      "url  5301\n",
      "url  5302\n",
      "url  5303\n"
     ]
    },
    {
     "data": {
      "text/plain": [
       "<selenium.webdriver.remote.webelement.WebElement (session=\"14cc306dfc6cf8a445f83a6ea888a63f\", element=\"2C8084F700719B45CC91599EB447744C_element_33563\")>"
      ]
     },
     "execution_count": 5,
     "metadata": {},
     "output_type": "execute_result"
    },
    {
     "name": "stdout",
     "output_type": "stream",
     "text": [
      "page  159 size  6\n",
      "url  5304\n",
      "url  5305\n",
      "url  5306\n",
      "url  5307\n",
      "url  5308\n",
      "url  5309\n"
     ]
    },
    {
     "data": {
      "text/plain": [
       "<selenium.webdriver.remote.webelement.WebElement (session=\"14cc306dfc6cf8a445f83a6ea888a63f\", element=\"BA3D75A65FE1CB9487A5328EEBD7A563_element_33595\")>"
      ]
     },
     "execution_count": 5,
     "metadata": {},
     "output_type": "execute_result"
    },
    {
     "name": "stdout",
     "output_type": "stream",
     "text": [
      "page  160 size  6\n",
      "url  5310\n",
      "url  5311\n",
      "url  5312\n",
      "url  5313\n",
      "url  5314\n",
      "url  5315\n"
     ]
    },
    {
     "data": {
      "text/plain": [
       "<selenium.webdriver.remote.webelement.WebElement (session=\"14cc306dfc6cf8a445f83a6ea888a63f\", element=\"0E8EBABD07E6D214E5D16A2210D6EAEE_element_33634\")>"
      ]
     },
     "execution_count": 5,
     "metadata": {},
     "output_type": "execute_result"
    },
    {
     "name": "stdout",
     "output_type": "stream",
     "text": [
      "page  161 size  6\n",
      "url  5316\n",
      "url  5317\n",
      "url  5318\n",
      "url  5319\n",
      "url  5320\n",
      "url  5321\n"
     ]
    },
    {
     "data": {
      "text/plain": [
       "<selenium.webdriver.remote.webelement.WebElement (session=\"14cc306dfc6cf8a445f83a6ea888a63f\", element=\"C372C58CBB58A051F61A8F54D2C10820_element_33674\")>"
      ]
     },
     "execution_count": 5,
     "metadata": {},
     "output_type": "execute_result"
    },
    {
     "name": "stdout",
     "output_type": "stream",
     "text": [
      "page  162 size  6\n",
      "url  5322\n",
      "url  5323\n",
      "url  5324\n",
      "url  5325\n",
      "url  5326\n",
      "url  5327\n"
     ]
    },
    {
     "data": {
      "text/plain": [
       "<selenium.webdriver.remote.webelement.WebElement (session=\"14cc306dfc6cf8a445f83a6ea888a63f\", element=\"25AB5D114DFEAF9A3E0DF2437BAC19E0_element_33714\")>"
      ]
     },
     "execution_count": 5,
     "metadata": {},
     "output_type": "execute_result"
    },
    {
     "name": "stdout",
     "output_type": "stream",
     "text": [
      "page  163 size  6\n",
      "url  5328\n",
      "url  5329\n",
      "url  5330\n",
      "url  5331\n",
      "url  5332\n",
      "url  5333\n"
     ]
    },
    {
     "data": {
      "text/plain": [
       "<selenium.webdriver.remote.webelement.WebElement (session=\"14cc306dfc6cf8a445f83a6ea888a63f\", element=\"A70243795FF56960F8285C7B5C3F9B89_element_33753\")>"
      ]
     },
     "execution_count": 5,
     "metadata": {},
     "output_type": "execute_result"
    },
    {
     "name": "stdout",
     "output_type": "stream",
     "text": [
      "page  164 size  6\n",
      "url  5334\n",
      "url  5335\n",
      "url  5336\n",
      "url  5337\n",
      "url  5338\n",
      "url  5339\n"
     ]
    },
    {
     "data": {
      "text/plain": [
       "<selenium.webdriver.remote.webelement.WebElement (session=\"14cc306dfc6cf8a445f83a6ea888a63f\", element=\"183C39056DFFA3E7BF76E485AFC2A47B_element_33796\")>"
      ]
     },
     "execution_count": 5,
     "metadata": {},
     "output_type": "execute_result"
    },
    {
     "name": "stdout",
     "output_type": "stream",
     "text": [
      "page  165 size  6\n",
      "url  5340\n",
      "url  5341\n",
      "url  5342\n",
      "url  5343\n",
      "url  5344\n",
      "url  5345\n"
     ]
    },
    {
     "data": {
      "text/plain": [
       "<selenium.webdriver.remote.webelement.WebElement (session=\"14cc306dfc6cf8a445f83a6ea888a63f\", element=\"7BBF6FD084FB0AEB9E9ED56476443BF2_element_33827\")>"
      ]
     },
     "execution_count": 5,
     "metadata": {},
     "output_type": "execute_result"
    },
    {
     "name": "stdout",
     "output_type": "stream",
     "text": [
      "page  166 size  6\n",
      "url  5346\n",
      "url  5347\n",
      "url  5348\n",
      "url  5349\n",
      "url  5350\n",
      "url  5351\n"
     ]
    },
    {
     "data": {
      "text/plain": [
       "<selenium.webdriver.remote.webelement.WebElement (session=\"14cc306dfc6cf8a445f83a6ea888a63f\", element=\"2F452E33AA3AA79B273F8CEEAA6DA3AB_element_33866\")>"
      ]
     },
     "execution_count": 5,
     "metadata": {},
     "output_type": "execute_result"
    },
    {
     "name": "stdout",
     "output_type": "stream",
     "text": [
      "page  167 size  6\n",
      "url  5352\n",
      "url  5353\n",
      "url  5354\n",
      "url  5355\n",
      "url  5356\n",
      "url  5357\n"
     ]
    },
    {
     "data": {
      "text/plain": [
       "<selenium.webdriver.remote.webelement.WebElement (session=\"14cc306dfc6cf8a445f83a6ea888a63f\", element=\"DE489BCE4FB1BB96C5B8C66D200F793B_element_33901\")>"
      ]
     },
     "execution_count": 5,
     "metadata": {},
     "output_type": "execute_result"
    },
    {
     "name": "stdout",
     "output_type": "stream",
     "text": [
      "page  168 size  6\n",
      "url  5358\n",
      "url  5359\n",
      "url  5360\n",
      "url  5361\n",
      "url  5362\n",
      "url  5363\n"
     ]
    },
    {
     "data": {
      "text/plain": [
       "<selenium.webdriver.remote.webelement.WebElement (session=\"14cc306dfc6cf8a445f83a6ea888a63f\", element=\"EDC0636507AB690393AA5DFE42E7A547_element_33943\")>"
      ]
     },
     "execution_count": 5,
     "metadata": {},
     "output_type": "execute_result"
    },
    {
     "name": "stdout",
     "output_type": "stream",
     "text": [
      "page  169 size  6\n",
      "url  5364\n",
      "url  5365\n",
      "url  5366\n",
      "url  5367\n",
      "url  5368\n",
      "url  5369\n"
     ]
    },
    {
     "data": {
      "text/plain": [
       "<selenium.webdriver.remote.webelement.WebElement (session=\"14cc306dfc6cf8a445f83a6ea888a63f\", element=\"1AE91170BDD81D779307315E0CA576D4_element_33993\")>"
      ]
     },
     "execution_count": 5,
     "metadata": {},
     "output_type": "execute_result"
    },
    {
     "name": "stdout",
     "output_type": "stream",
     "text": [
      "page  170 size  6\n",
      "url  5370\n",
      "url  5371\n",
      "url  5372\n",
      "url  5373\n",
      "url  5374\n",
      "url  5375\n"
     ]
    },
    {
     "data": {
      "text/plain": [
       "<selenium.webdriver.remote.webelement.WebElement (session=\"14cc306dfc6cf8a445f83a6ea888a63f\", element=\"DE97CF86B28D25558F3EC1EEDA7DE494_element_34032\")>"
      ]
     },
     "execution_count": 5,
     "metadata": {},
     "output_type": "execute_result"
    },
    {
     "name": "stdout",
     "output_type": "stream",
     "text": [
      "page  171 size  6\n",
      "url  5376\n",
      "url  5377\n",
      "url  5378\n",
      "url  5379\n",
      "url  5380\n",
      "url  5381\n"
     ]
    },
    {
     "data": {
      "text/plain": [
       "<selenium.webdriver.remote.webelement.WebElement (session=\"14cc306dfc6cf8a445f83a6ea888a63f\", element=\"1762C82D74BE94A001A014098EE8ED95_element_34066\")>"
      ]
     },
     "execution_count": 5,
     "metadata": {},
     "output_type": "execute_result"
    },
    {
     "name": "stdout",
     "output_type": "stream",
     "text": [
      "page  172 size  6\n",
      "url  5382\n",
      "url  5383\n",
      "url  5384\n",
      "url  5385\n",
      "url  5386\n",
      "url  5387\n"
     ]
    },
    {
     "data": {
      "text/plain": [
       "<selenium.webdriver.remote.webelement.WebElement (session=\"14cc306dfc6cf8a445f83a6ea888a63f\", element=\"37D6B71EAD8D9BC9E8204524FCA22672_element_34098\")>"
      ]
     },
     "execution_count": 5,
     "metadata": {},
     "output_type": "execute_result"
    },
    {
     "name": "stdout",
     "output_type": "stream",
     "text": [
      "page  173 size  6\n",
      "url  5388\n",
      "url  5389\n",
      "url  5390\n",
      "url  5391\n",
      "url  5392\n",
      "url  5393\n"
     ]
    },
    {
     "data": {
      "text/plain": [
       "<selenium.webdriver.remote.webelement.WebElement (session=\"14cc306dfc6cf8a445f83a6ea888a63f\", element=\"305CB3AC4AB4A3A1BF4E37E101334C10_element_34148\")>"
      ]
     },
     "execution_count": 5,
     "metadata": {},
     "output_type": "execute_result"
    },
    {
     "name": "stdout",
     "output_type": "stream",
     "text": [
      "page  174 size  6\n",
      "url  5394\n",
      "url  5395\n",
      "url  5396\n",
      "url  5397\n",
      "url  5398\n",
      "url  5399\n"
     ]
    },
    {
     "data": {
      "text/plain": [
       "<selenium.webdriver.remote.webelement.WebElement (session=\"14cc306dfc6cf8a445f83a6ea888a63f\", element=\"8A04188FD785A43B5536573FBCA3227D_element_34188\")>"
      ]
     },
     "execution_count": 5,
     "metadata": {},
     "output_type": "execute_result"
    },
    {
     "name": "stdout",
     "output_type": "stream",
     "text": [
      "page  175 size  6\n",
      "url  5400\n",
      "url  5401\n",
      "url  5402\n",
      "url  5403\n",
      "url  5404\n",
      "url  5405\n"
     ]
    },
    {
     "data": {
      "text/plain": [
       "<selenium.webdriver.remote.webelement.WebElement (session=\"14cc306dfc6cf8a445f83a6ea888a63f\", element=\"B4956FCA3B6964FCDFB9522860CE0F0F_element_34226\")>"
      ]
     },
     "execution_count": 5,
     "metadata": {},
     "output_type": "execute_result"
    },
    {
     "name": "stdout",
     "output_type": "stream",
     "text": [
      "page  176 size  6\n",
      "url  5406\n",
      "url  5407\n",
      "url  5408\n",
      "url  5409\n",
      "url  5410\n",
      "url  5411\n"
     ]
    },
    {
     "data": {
      "text/plain": [
       "<selenium.webdriver.remote.webelement.WebElement (session=\"14cc306dfc6cf8a445f83a6ea888a63f\", element=\"E9DC34879A50EFF65C8011C0D5512745_element_34262\")>"
      ]
     },
     "execution_count": 5,
     "metadata": {},
     "output_type": "execute_result"
    },
    {
     "name": "stdout",
     "output_type": "stream",
     "text": [
      "page  177 size  6\n",
      "url  5412\n",
      "url  5413\n",
      "url  5414\n",
      "url  5415\n",
      "url  5416\n",
      "url  5417\n"
     ]
    },
    {
     "data": {
      "text/plain": [
       "<selenium.webdriver.remote.webelement.WebElement (session=\"14cc306dfc6cf8a445f83a6ea888a63f\", element=\"553CB57FCC745C302E10A5CD1A0A7394_element_34301\")>"
      ]
     },
     "execution_count": 5,
     "metadata": {},
     "output_type": "execute_result"
    },
    {
     "name": "stdout",
     "output_type": "stream",
     "text": [
      "page  178 size  6\n",
      "url  5418\n",
      "url  5419\n",
      "url  5420\n",
      "url  5421\n",
      "url  5422\n",
      "url  5423\n"
     ]
    },
    {
     "data": {
      "text/plain": [
       "<selenium.webdriver.remote.webelement.WebElement (session=\"14cc306dfc6cf8a445f83a6ea888a63f\", element=\"7DFC13F38551C3B90EB6E04896222FDF_element_34329\")>"
      ]
     },
     "execution_count": 5,
     "metadata": {},
     "output_type": "execute_result"
    },
    {
     "name": "stdout",
     "output_type": "stream",
     "text": [
      "page  179 size  6\n",
      "url  5424\n",
      "url  5425\n",
      "url  5426\n",
      "url  5427\n",
      "url  5428\n",
      "url  5429\n"
     ]
    }
   ],
   "source": [
    "types_urls = []\n",
    "articles_urls = []\n",
    "\n",
    "types_urls.append(driver.find_element(by=By.XPATH, value=\"/html/body/nav/ul/li[1]/ul/li[3]/a\").get_attribute('href'))\n",
    "types_urls.append(driver.find_element(by=By.XPATH, value=\"/html/body/nav/ul/li[1]/ul/li[4]/a\").get_attribute('href'))\n",
    "types_urls.append(driver.find_element(by=By.XPATH, value=\"/html/body/nav/ul/li[1]/ul/li[5]/a\").get_attribute('href'))\n",
    "types_urls.append(driver.find_element(by=By.XPATH, value=\"/html/body/nav/ul/li[1]/ul/li[6]/a\").get_attribute('href'))\n",
    "types_urls.append(driver.find_element(by=By.XPATH, value=\"/html/body/nav/ul/li[1]/ul/li[11]/a\").get_attribute('href'))\n",
    "types_urls\n",
    "\n",
    "\n",
    "count = 0\n",
    "for type_url in types_urls:\n",
    "    driver.get(type_url)\n",
    "    page_count = 180\n",
    "    for page_number in range(page_count):\n",
    "        try:\n",
    "            WebDriverWait(driver, 10).until(EC.visibility_of_element_located((By.CSS_SELECTOR, \".regular, .content, .colx2\")))\n",
    "            section = driver.find_elements(by=By.CSS_SELECTOR, value=\".regular, .content, .colx2\")\n",
    "            items = section[0].find_element(by=By.CLASS_NAME, value=\"more-items\")\n",
    "            articles = items.find_elements(by=By.TAG_NAME, value=\"figure\")\n",
    "            print(\"page \",page_number, \"size \",len(articles))\n",
    "            for article in articles:\n",
    "                count = count+1\n",
    "                articles_urls.append(article.find_element(by=By.TAG_NAME, value=\"a\").get_attribute('href'))\n",
    "                print(\"url \",count)\n",
    "            WebDriverWait(driver, 10).until(EC.element_to_be_clickable((By.CLASS_NAME, 'next'))).click()\n",
    "        except Exception:\n",
    "            pass\n",
    "            \n",
    "        \n",
    "#articles_urls\n",
    "articles_urls_df = pd.DataFrame({'url':articles_urls})\n",
    "articles_urls_df.to_csv(\"articles_urls.csv\", encoding = \"utf-8-sig\")"
   ]
  },
  {
   "cell_type": "code",
   "execution_count": 7,
   "id": "62faef80",
   "metadata": {},
   "outputs": [],
   "source": [
    "def get_article_name():\n",
    "    name = \"\"\n",
    "    try:\n",
    "        name = driver.find_element(by=By.TAG_NAME, value=\"h1\").text\n",
    "    except:\n",
    "        name=\"\"\n",
    "    return name\n",
    "\n",
    "def get_article_type():\n",
    "    type = \"\"\n",
    "    try:\n",
    "        type = driver.find_element(by=By.CSS_SELECTOR, value=\".breadcrumbs-v_2017, .not_for_print\").text\n",
    "    except:\n",
    "        type=\"\"\n",
    "    return type\n",
    "\n",
    "\n",
    "def get_article_date_and_time():\n",
    "    date_and_time = \"\"\n",
    "    date=\"\"\n",
    "    time=\"\"\n",
    "    try:\n",
    "        date_and_time = driver.find_element(by=By.CLASS_NAME, value=\"display-date\")\n",
    "\n",
    "        date = date_and_time.find_elements(by=By.TAG_NAME, value=\"span\")[0].text\n",
    "        date = date[date.rindex(\" \")+1:]\n",
    "        time = date_and_time.find_elements(by=By.TAG_NAME, value=\"span\")[1].text\n",
    "    except:\n",
    "        date_and_time=\"\"\n",
    "        date=\"\"\n",
    "        time=\"\"\n",
    "    return date,time\n",
    "\n",
    "def get_article_views():\n",
    "    views = 0\n",
    "    try:\n",
    "        views = driver.find_element(by=By.CLASS_NAME, value=\"views\").text\n",
    "    except:\n",
    "        views=-1\n",
    "    return views\n",
    "\n",
    "def get_article_comments():\n",
    "    comments = 0\n",
    "    try:\n",
    "        comments = driver.find_element(by=By.CLASS_NAME, value=\"gotocomments\").text\n",
    "        if(comments == \"תגובות\"):\n",
    "            comments = 0\n",
    "    except:\n",
    "        comments=-1\n",
    "    return comments\n",
    "\n",
    "def get_article_interesting():\n",
    "    is_interesting=\"\"\n",
    "    yes=0\n",
    "    no=0\n",
    "    try:\n",
    "        is_interesting = driver.find_elements(by=By.CLASS_NAME, value=\"feelingItem\")\n",
    "        yes = is_interesting[0].get_attribute(\"data-display\")\n",
    "        no = is_interesting[1].get_attribute(\"data-display\")\n",
    "    except:\n",
    "        is_interesting=-1\n",
    "        yes = -1\n",
    "        no = -1\n",
    "    return yes,no\n"
   ]
  },
  {
   "cell_type": "code",
   "execution_count": 13,
   "id": "b64ed92b",
   "metadata": {},
   "outputs": [],
   "source": [
    "def get_article_data(article_url):\n",
    "    return {'Name': get_article_name(),\n",
    "            'Type':get_article_type(),\n",
    "            'Date': get_article_date_and_time()[0],\n",
    "            'Time': get_article_date_and_time()[1],\n",
    "            'Views': get_article_views(),\n",
    "            'Comments':get_article_comments(),\n",
    "            'Interesting':get_article_interesting()[0],\n",
    "            'Not Interesting':get_article_interesting()[1],\n",
    "            'URL': article_url\n",
    "           }\n"
   ]
  },
  {
   "cell_type": "code",
   "execution_count": 15,
   "id": "5904fd90",
   "metadata": {
    "scrolled": true
   },
   "outputs": [
    {
     "ename": "WebDriverException",
     "evalue": "Message: disconnected: not connected to DevTools\n  (failed to check if window was closed: disconnected: not connected to DevTools)\n  (Session info: chrome=114.0.5735.110)\nStacktrace:\nBacktrace:\n\tGetHandleVerifier [0x0041A813+48355]\n\t(No symbol) [0x003AC4B1]\n\t(No symbol) [0x002B5358]\n\t(No symbol) [0x002A7D96]\n\t(No symbol) [0x002A7AB9]\n\t(No symbol) [0x002B67C0]\n\t(No symbol) [0x0030C4D8]\n\t(No symbol) [0x002FA536]\n\t(No symbol) [0x002D82DC]\n\t(No symbol) [0x002D93DD]\n\tGetHandleVerifier [0x0067AABD+2539405]\n\tGetHandleVerifier [0x006BA78F+2800735]\n\tGetHandleVerifier [0x006B456C+2775612]\n\tGetHandleVerifier [0x004A51E0+616112]\n\t(No symbol) [0x003B5F8C]\n\t(No symbol) [0x003B2328]\n\t(No symbol) [0x003B240B]\n\t(No symbol) [0x003A4FF7]\n\tBaseThreadInitThunk [0x755100C9+25]\n\tRtlGetAppContainerNamedObjectPath [0x775B7B4E+286]\n\tRtlGetAppContainerNamedObjectPath [0x775B7B1E+238]\n",
     "output_type": "error",
     "traceback": [
      "\u001b[1;31m---------------------------------------------------------------------------\u001b[0m",
      "\u001b[1;31mWebDriverException\u001b[0m                        Traceback (most recent call last)",
      "\u001b[1;32m~\\AppData\\Local\\Temp\\ipykernel_12512\\2931875946.py\u001b[0m in \u001b[0;36m<module>\u001b[1;34m\u001b[0m\n\u001b[0;32m      1\u001b[0m \u001b[0murls\u001b[0m \u001b[1;33m=\u001b[0m \u001b[0mpd\u001b[0m\u001b[1;33m.\u001b[0m\u001b[0mread_csv\u001b[0m\u001b[1;33m(\u001b[0m\u001b[1;34m\"articles_urls.csv\"\u001b[0m\u001b[1;33m)\u001b[0m\u001b[1;33m\u001b[0m\u001b[1;33m\u001b[0m\u001b[0m\n\u001b[0;32m      2\u001b[0m \u001b[1;32mfor\u001b[0m \u001b[0mindex\u001b[0m\u001b[1;33m,\u001b[0m \u001b[0marticle_url\u001b[0m \u001b[1;32min\u001b[0m \u001b[0menumerate\u001b[0m\u001b[1;33m(\u001b[0m\u001b[0murls\u001b[0m\u001b[1;33m[\u001b[0m\u001b[1;34m'url'\u001b[0m\u001b[1;33m]\u001b[0m\u001b[1;33m)\u001b[0m\u001b[1;33m:\u001b[0m\u001b[1;33m\u001b[0m\u001b[1;33m\u001b[0m\u001b[0m\n\u001b[1;32m----> 3\u001b[1;33m     \u001b[0mdriver\u001b[0m\u001b[1;33m.\u001b[0m\u001b[0mget\u001b[0m\u001b[1;33m(\u001b[0m\u001b[0marticle_url\u001b[0m\u001b[1;33m)\u001b[0m\u001b[1;33m\u001b[0m\u001b[1;33m\u001b[0m\u001b[0m\n\u001b[0m\u001b[0;32m      4\u001b[0m     \u001b[0marticles_df\u001b[0m \u001b[1;33m=\u001b[0m \u001b[0mpd\u001b[0m\u001b[1;33m.\u001b[0m\u001b[0mconcat\u001b[0m\u001b[1;33m(\u001b[0m\u001b[1;33m[\u001b[0m\u001b[0marticles_df\u001b[0m\u001b[1;33m,\u001b[0m \u001b[0mpd\u001b[0m\u001b[1;33m.\u001b[0m\u001b[0mDataFrame\u001b[0m\u001b[1;33m.\u001b[0m\u001b[0mfrom_records\u001b[0m\u001b[1;33m(\u001b[0m\u001b[1;33m[\u001b[0m\u001b[0mget_article_data\u001b[0m\u001b[1;33m(\u001b[0m\u001b[0marticle_url\u001b[0m\u001b[1;33m)\u001b[0m\u001b[1;33m]\u001b[0m\u001b[1;33m)\u001b[0m\u001b[1;33m]\u001b[0m\u001b[1;33m,\u001b[0m \u001b[0mignore_index\u001b[0m\u001b[1;33m=\u001b[0m\u001b[1;32mTrue\u001b[0m\u001b[1;33m)\u001b[0m\u001b[1;33m\u001b[0m\u001b[1;33m\u001b[0m\u001b[0m\n\u001b[0;32m      5\u001b[0m     \u001b[0mprint\u001b[0m\u001b[1;33m(\u001b[0m\u001b[1;34m\"done for url \"\u001b[0m\u001b[1;33m,\u001b[0m \u001b[0mindex\u001b[0m\u001b[1;33m+\u001b[0m\u001b[1;36m1\u001b[0m\u001b[1;33m,\u001b[0m \u001b[1;34m\"at\"\u001b[0m\u001b[1;33m,\u001b[0m \u001b[0mdatetime\u001b[0m\u001b[1;33m.\u001b[0m\u001b[0mdatetime\u001b[0m\u001b[1;33m.\u001b[0m\u001b[0mnow\u001b[0m\u001b[1;33m(\u001b[0m\u001b[1;33m)\u001b[0m\u001b[1;33m.\u001b[0m\u001b[0mstrftime\u001b[0m\u001b[1;33m(\u001b[0m\u001b[1;34m\"%H:%M:%S\"\u001b[0m\u001b[1;33m)\u001b[0m\u001b[1;33m)\u001b[0m\u001b[1;33m\u001b[0m\u001b[1;33m\u001b[0m\u001b[0m\n",
      "\u001b[1;32m~\\anaconda3\\lib\\site-packages\\selenium\\webdriver\\remote\\webdriver.py\u001b[0m in \u001b[0;36mget\u001b[1;34m(self, url)\u001b[0m\n\u001b[0;32m    447\u001b[0m     \u001b[1;32mdef\u001b[0m \u001b[0mget\u001b[0m\u001b[1;33m(\u001b[0m\u001b[0mself\u001b[0m\u001b[1;33m,\u001b[0m \u001b[0murl\u001b[0m\u001b[1;33m:\u001b[0m \u001b[0mstr\u001b[0m\u001b[1;33m)\u001b[0m \u001b[1;33m->\u001b[0m \u001b[1;32mNone\u001b[0m\u001b[1;33m:\u001b[0m\u001b[1;33m\u001b[0m\u001b[1;33m\u001b[0m\u001b[0m\n\u001b[0;32m    448\u001b[0m         \u001b[1;34m\"\"\"Loads a web page in the current browser session.\"\"\"\u001b[0m\u001b[1;33m\u001b[0m\u001b[1;33m\u001b[0m\u001b[0m\n\u001b[1;32m--> 449\u001b[1;33m         \u001b[0mself\u001b[0m\u001b[1;33m.\u001b[0m\u001b[0mexecute\u001b[0m\u001b[1;33m(\u001b[0m\u001b[0mCommand\u001b[0m\u001b[1;33m.\u001b[0m\u001b[0mGET\u001b[0m\u001b[1;33m,\u001b[0m \u001b[1;33m{\u001b[0m\u001b[1;34m\"url\"\u001b[0m\u001b[1;33m:\u001b[0m \u001b[0murl\u001b[0m\u001b[1;33m}\u001b[0m\u001b[1;33m)\u001b[0m\u001b[1;33m\u001b[0m\u001b[1;33m\u001b[0m\u001b[0m\n\u001b[0m\u001b[0;32m    450\u001b[0m \u001b[1;33m\u001b[0m\u001b[0m\n\u001b[0;32m    451\u001b[0m     \u001b[1;33m@\u001b[0m\u001b[0mproperty\u001b[0m\u001b[1;33m\u001b[0m\u001b[1;33m\u001b[0m\u001b[0m\n",
      "\u001b[1;32m~\\anaconda3\\lib\\site-packages\\selenium\\webdriver\\remote\\webdriver.py\u001b[0m in \u001b[0;36mexecute\u001b[1;34m(self, driver_command, params)\u001b[0m\n\u001b[0;32m    438\u001b[0m         \u001b[0mresponse\u001b[0m \u001b[1;33m=\u001b[0m \u001b[0mself\u001b[0m\u001b[1;33m.\u001b[0m\u001b[0mcommand_executor\u001b[0m\u001b[1;33m.\u001b[0m\u001b[0mexecute\u001b[0m\u001b[1;33m(\u001b[0m\u001b[0mdriver_command\u001b[0m\u001b[1;33m,\u001b[0m \u001b[0mparams\u001b[0m\u001b[1;33m)\u001b[0m\u001b[1;33m\u001b[0m\u001b[1;33m\u001b[0m\u001b[0m\n\u001b[0;32m    439\u001b[0m         \u001b[1;32mif\u001b[0m \u001b[0mresponse\u001b[0m\u001b[1;33m:\u001b[0m\u001b[1;33m\u001b[0m\u001b[1;33m\u001b[0m\u001b[0m\n\u001b[1;32m--> 440\u001b[1;33m             \u001b[0mself\u001b[0m\u001b[1;33m.\u001b[0m\u001b[0merror_handler\u001b[0m\u001b[1;33m.\u001b[0m\u001b[0mcheck_response\u001b[0m\u001b[1;33m(\u001b[0m\u001b[0mresponse\u001b[0m\u001b[1;33m)\u001b[0m\u001b[1;33m\u001b[0m\u001b[1;33m\u001b[0m\u001b[0m\n\u001b[0m\u001b[0;32m    441\u001b[0m             \u001b[0mresponse\u001b[0m\u001b[1;33m[\u001b[0m\u001b[1;34m\"value\"\u001b[0m\u001b[1;33m]\u001b[0m \u001b[1;33m=\u001b[0m \u001b[0mself\u001b[0m\u001b[1;33m.\u001b[0m\u001b[0m_unwrap_value\u001b[0m\u001b[1;33m(\u001b[0m\u001b[0mresponse\u001b[0m\u001b[1;33m.\u001b[0m\u001b[0mget\u001b[0m\u001b[1;33m(\u001b[0m\u001b[1;34m\"value\"\u001b[0m\u001b[1;33m,\u001b[0m \u001b[1;32mNone\u001b[0m\u001b[1;33m)\u001b[0m\u001b[1;33m)\u001b[0m\u001b[1;33m\u001b[0m\u001b[1;33m\u001b[0m\u001b[0m\n\u001b[0;32m    442\u001b[0m             \u001b[1;32mreturn\u001b[0m \u001b[0mresponse\u001b[0m\u001b[1;33m\u001b[0m\u001b[1;33m\u001b[0m\u001b[0m\n",
      "\u001b[1;32m~\\anaconda3\\lib\\site-packages\\selenium\\webdriver\\remote\\errorhandler.py\u001b[0m in \u001b[0;36mcheck_response\u001b[1;34m(self, response)\u001b[0m\n\u001b[0;32m    243\u001b[0m                 \u001b[0malert_text\u001b[0m \u001b[1;33m=\u001b[0m \u001b[0mvalue\u001b[0m\u001b[1;33m[\u001b[0m\u001b[1;34m\"alert\"\u001b[0m\u001b[1;33m]\u001b[0m\u001b[1;33m.\u001b[0m\u001b[0mget\u001b[0m\u001b[1;33m(\u001b[0m\u001b[1;34m\"text\"\u001b[0m\u001b[1;33m)\u001b[0m\u001b[1;33m\u001b[0m\u001b[1;33m\u001b[0m\u001b[0m\n\u001b[0;32m    244\u001b[0m             \u001b[1;32mraise\u001b[0m \u001b[0mexception_class\u001b[0m\u001b[1;33m(\u001b[0m\u001b[0mmessage\u001b[0m\u001b[1;33m,\u001b[0m \u001b[0mscreen\u001b[0m\u001b[1;33m,\u001b[0m \u001b[0mstacktrace\u001b[0m\u001b[1;33m,\u001b[0m \u001b[0malert_text\u001b[0m\u001b[1;33m)\u001b[0m  \u001b[1;31m# type: ignore[call-arg]  # mypy is not smart enough here\u001b[0m\u001b[1;33m\u001b[0m\u001b[1;33m\u001b[0m\u001b[0m\n\u001b[1;32m--> 245\u001b[1;33m         \u001b[1;32mraise\u001b[0m \u001b[0mexception_class\u001b[0m\u001b[1;33m(\u001b[0m\u001b[0mmessage\u001b[0m\u001b[1;33m,\u001b[0m \u001b[0mscreen\u001b[0m\u001b[1;33m,\u001b[0m \u001b[0mstacktrace\u001b[0m\u001b[1;33m)\u001b[0m\u001b[1;33m\u001b[0m\u001b[1;33m\u001b[0m\u001b[0m\n\u001b[0m",
      "\u001b[1;31mWebDriverException\u001b[0m: Message: disconnected: not connected to DevTools\n  (failed to check if window was closed: disconnected: not connected to DevTools)\n  (Session info: chrome=114.0.5735.110)\nStacktrace:\nBacktrace:\n\tGetHandleVerifier [0x0041A813+48355]\n\t(No symbol) [0x003AC4B1]\n\t(No symbol) [0x002B5358]\n\t(No symbol) [0x002A7D96]\n\t(No symbol) [0x002A7AB9]\n\t(No symbol) [0x002B67C0]\n\t(No symbol) [0x0030C4D8]\n\t(No symbol) [0x002FA536]\n\t(No symbol) [0x002D82DC]\n\t(No symbol) [0x002D93DD]\n\tGetHandleVerifier [0x0067AABD+2539405]\n\tGetHandleVerifier [0x006BA78F+2800735]\n\tGetHandleVerifier [0x006B456C+2775612]\n\tGetHandleVerifier [0x004A51E0+616112]\n\t(No symbol) [0x003B5F8C]\n\t(No symbol) [0x003B2328]\n\t(No symbol) [0x003B240B]\n\t(No symbol) [0x003A4FF7]\n\tBaseThreadInitThunk [0x755100C9+25]\n\tRtlGetAppContainerNamedObjectPath [0x775B7B4E+286]\n\tRtlGetAppContainerNamedObjectPath [0x775B7B1E+238]\n"
     ]
    }
   ],
   "source": [
    "urls = pd.read_csv(\"articles_urls.csv\")\n",
    "for index, article_url in enumerate(urls['url']):\n",
    "    driver.get(article_url)\n",
    "    articles_df = pd.concat([articles_df, pd.DataFrame.from_records([get_article_data(article_url)])], ignore_index=True)\n",
    "    print(\"done for url \", index+1, \"at\", datetime.datetime.now().strftime(\"%H:%M:%S\"))\n",
    "\n",
    "\n",
    "articles_df.to_csv(\"articles.csv\", encoding = \"utf-8-sig\")"
   ]
  },
  {
   "cell_type": "code",
   "execution_count": 16,
   "id": "d4654023",
   "metadata": {
    "scrolled": false
   },
   "outputs": [
    {
     "data": {
      "text/html": [
       "<div>\n",
       "<style scoped>\n",
       "    .dataframe tbody tr th:only-of-type {\n",
       "        vertical-align: middle;\n",
       "    }\n",
       "\n",
       "    .dataframe tbody tr th {\n",
       "        vertical-align: top;\n",
       "    }\n",
       "\n",
       "    .dataframe thead th {\n",
       "        text-align: right;\n",
       "    }\n",
       "</style>\n",
       "<table border=\"1\" class=\"dataframe\">\n",
       "  <thead>\n",
       "    <tr style=\"text-align: right;\">\n",
       "      <th></th>\n",
       "      <th>Name</th>\n",
       "      <th>Type</th>\n",
       "      <th>Date</th>\n",
       "      <th>Time</th>\n",
       "      <th>Views</th>\n",
       "      <th>Comments</th>\n",
       "      <th>Interesting</th>\n",
       "      <th>Not Interesting</th>\n",
       "      <th>URL</th>\n",
       "    </tr>\n",
       "  </thead>\n",
       "  <tbody>\n",
       "    <tr>\n",
       "      <th>0</th>\n",
       "      <td>או התפטרות או התקפלות: הדילמה של יריב לוין והה...</td>\n",
       "      <td></td>\n",
       "      <td>08/06/23</td>\n",
       "      <td>19:50</td>\n",
       "      <td>65,697</td>\n",
       "      <td>88</td>\n",
       "      <td>2682</td>\n",
       "      <td>68</td>\n",
       "      <td>https://www.mako.co.il/news-politics/2023_q2/A...</td>\n",
       "    </tr>\n",
       "    <tr>\n",
       "      <th>1</th>\n",
       "      <td>או התפטרות או התקפלות: הדילמה של יריב לוין והה...</td>\n",
       "      <td></td>\n",
       "      <td>08/06/23</td>\n",
       "      <td>19:50</td>\n",
       "      <td>65,723</td>\n",
       "      <td>88</td>\n",
       "      <td>2683</td>\n",
       "      <td>68</td>\n",
       "      <td>https://www.mako.co.il/news-politics/2023_q2/A...</td>\n",
       "    </tr>\n",
       "    <tr>\n",
       "      <th>2</th>\n",
       "      <td>\"היו לי שש שנים של הצלחות היסטוריות, כשגנץ הפנ...</td>\n",
       "      <td></td>\n",
       "      <td>08/06/23</td>\n",
       "      <td>18:26</td>\n",
       "      <td>16,119</td>\n",
       "      <td>13</td>\n",
       "      <td>157</td>\n",
       "      <td>45</td>\n",
       "      <td>https://www.mako.co.il/news-politics/2023_q2/A...</td>\n",
       "    </tr>\n",
       "    <tr>\n",
       "      <th>3</th>\n",
       "      <td>מהומה בבוסטון: מפגין ניסה להתקרב לשר ברקת ונהד...</td>\n",
       "      <td>פוליטי</td>\n",
       "      <td>08/06/23</td>\n",
       "      <td>17:31</td>\n",
       "      <td>22,643</td>\n",
       "      <td>62</td>\n",
       "      <td>502</td>\n",
       "      <td>72</td>\n",
       "      <td>https://www.mako.co.il/news-politics/2023_q2/A...</td>\n",
       "    </tr>\n",
       "    <tr>\n",
       "      <th>4</th>\n",
       "      <td>\"אם רה\"מ מעוניין להדיח אותי מתפקידי - שיתכבד\":...</td>\n",
       "      <td>פוליטי</td>\n",
       "      <td>08/06/23</td>\n",
       "      <td>14:44</td>\n",
       "      <td>54,628</td>\n",
       "      <td>39</td>\n",
       "      <td>1165</td>\n",
       "      <td>64</td>\n",
       "      <td>https://www.mako.co.il/news-politics/2023_q2/A...</td>\n",
       "    </tr>\n",
       "    <tr>\n",
       "      <th>...</th>\n",
       "      <td>...</td>\n",
       "      <td>...</td>\n",
       "      <td>...</td>\n",
       "      <td>...</td>\n",
       "      <td>...</td>\n",
       "      <td>...</td>\n",
       "      <td>...</td>\n",
       "      <td>...</td>\n",
       "      <td>...</td>\n",
       "    </tr>\n",
       "    <tr>\n",
       "      <th>135</th>\n",
       "      <td>הסערה בעקבות התבטאותו של שבתאי: \"על המפכ\"ל הגז...</td>\n",
       "      <td>פוליטי</td>\n",
       "      <td>04/04/23</td>\n",
       "      <td>23:02</td>\n",
       "      <td>73,821</td>\n",
       "      <td>94</td>\n",
       "      <td>1191</td>\n",
       "      <td>110</td>\n",
       "      <td>https://www.mako.co.il/news-politics/2023_q2/A...</td>\n",
       "    </tr>\n",
       "    <tr>\n",
       "      <th>136</th>\n",
       "      <td>המפכ\"ל בשיחה סגורה: \"הם רוצחים אחד את השני. זו...</td>\n",
       "      <td>פוליטי</td>\n",
       "      <td>04/04/23</td>\n",
       "      <td>21:13</td>\n",
       "      <td>54,024</td>\n",
       "      <td>7</td>\n",
       "      <td>557</td>\n",
       "      <td>69</td>\n",
       "      <td>https://www.mako.co.il/news-politics/2023_q2/A...</td>\n",
       "    </tr>\n",
       "    <tr>\n",
       "      <th>137</th>\n",
       "      <td>הגעה לפשרה או המשך החקיקה: מה יעלה בגורל המהפכ...</td>\n",
       "      <td>פוליטי</td>\n",
       "      <td>04/04/23</td>\n",
       "      <td>12:48</td>\n",
       "      <td>20,957</td>\n",
       "      <td>7</td>\n",
       "      <td>551</td>\n",
       "      <td>24</td>\n",
       "      <td>https://www.mako.co.il/news-politics/2023_q2/A...</td>\n",
       "    </tr>\n",
       "    <tr>\n",
       "      <th>138</th>\n",
       "      <td>המפכ\"ל נגד המשמר הלאומי: \"יהרוס את הביטחון האי...</td>\n",
       "      <td>פוליטי</td>\n",
       "      <td>04/04/23</td>\n",
       "      <td>11:45</td>\n",
       "      <td>8,431</td>\n",
       "      <td>2</td>\n",
       "      <td>339</td>\n",
       "      <td>18</td>\n",
       "      <td>https://www.mako.co.il/news-politics/2023_q2/A...</td>\n",
       "    </tr>\n",
       "    <tr>\n",
       "      <th>139</th>\n",
       "      <td>פרסום ראשון: ערוץ הקשר בין היועמ\"שית למפכ\"ל</td>\n",
       "      <td>פוליטי</td>\n",
       "      <td>03/04/23</td>\n",
       "      <td>06:42</td>\n",
       "      <td>19,699</td>\n",
       "      <td>43</td>\n",
       "      <td>691</td>\n",
       "      <td>29</td>\n",
       "      <td>https://www.mako.co.il/news-politics/2023_q2/A...</td>\n",
       "    </tr>\n",
       "  </tbody>\n",
       "</table>\n",
       "<p>140 rows × 9 columns</p>\n",
       "</div>"
      ],
      "text/plain": [
       "                                                  Name    Type      Date  \\\n",
       "0    או התפטרות או התקפלות: הדילמה של יריב לוין והה...          08/06/23   \n",
       "1    או התפטרות או התקפלות: הדילמה של יריב לוין והה...          08/06/23   \n",
       "2    \"היו לי שש שנים של הצלחות היסטוריות, כשגנץ הפנ...          08/06/23   \n",
       "3    מהומה בבוסטון: מפגין ניסה להתקרב לשר ברקת ונהד...  פוליטי  08/06/23   \n",
       "4    \"אם רה\"מ מעוניין להדיח אותי מתפקידי - שיתכבד\":...  פוליטי  08/06/23   \n",
       "..                                                 ...     ...       ...   \n",
       "135  הסערה בעקבות התבטאותו של שבתאי: \"על המפכ\"ל הגז...  פוליטי  04/04/23   \n",
       "136  המפכ\"ל בשיחה סגורה: \"הם רוצחים אחד את השני. זו...  פוליטי  04/04/23   \n",
       "137  הגעה לפשרה או המשך החקיקה: מה יעלה בגורל המהפכ...  פוליטי  04/04/23   \n",
       "138  המפכ\"ל נגד המשמר הלאומי: \"יהרוס את הביטחון האי...  פוליטי  04/04/23   \n",
       "139        פרסום ראשון: ערוץ הקשר בין היועמ\"שית למפכ\"ל  פוליטי  03/04/23   \n",
       "\n",
       "      Time   Views Comments Interesting Not Interesting  \\\n",
       "0    19:50  65,697       88        2682              68   \n",
       "1    19:50  65,723       88        2683              68   \n",
       "2    18:26  16,119       13         157              45   \n",
       "3    17:31  22,643       62         502              72   \n",
       "4    14:44  54,628       39        1165              64   \n",
       "..     ...     ...      ...         ...             ...   \n",
       "135  23:02  73,821       94        1191             110   \n",
       "136  21:13  54,024        7         557              69   \n",
       "137  12:48  20,957        7         551              24   \n",
       "138  11:45   8,431        2         339              18   \n",
       "139  06:42  19,699       43         691              29   \n",
       "\n",
       "                                                   URL  \n",
       "0    https://www.mako.co.il/news-politics/2023_q2/A...  \n",
       "1    https://www.mako.co.il/news-politics/2023_q2/A...  \n",
       "2    https://www.mako.co.il/news-politics/2023_q2/A...  \n",
       "3    https://www.mako.co.il/news-politics/2023_q2/A...  \n",
       "4    https://www.mako.co.il/news-politics/2023_q2/A...  \n",
       "..                                                 ...  \n",
       "135  https://www.mako.co.il/news-politics/2023_q2/A...  \n",
       "136  https://www.mako.co.il/news-politics/2023_q2/A...  \n",
       "137  https://www.mako.co.il/news-politics/2023_q2/A...  \n",
       "138  https://www.mako.co.il/news-politics/2023_q2/A...  \n",
       "139  https://www.mako.co.il/news-politics/2023_q2/A...  \n",
       "\n",
       "[140 rows x 9 columns]"
      ]
     },
     "execution_count": 16,
     "metadata": {},
     "output_type": "execute_result"
    }
   ],
   "source": [
    "articles_df"
   ]
  },
  {
   "cell_type": "code",
   "execution_count": 17,
   "id": "9067ecf6",
   "metadata": {},
   "outputs": [],
   "source": [
    "articles_df.to_csv(\"articles1.csv\", encoding = \"utf-8-sig\")"
   ]
  },
  {
   "cell_type": "code",
   "execution_count": 19,
   "id": "fdc5cac3",
   "metadata": {},
   "outputs": [],
   "source": [
    "driver = webdriver.Chrome()\n",
    "base_url = \"https://www.n12.co.il/\"\n",
    "driver.get(base_url)"
   ]
  },
  {
   "cell_type": "code",
   "execution_count": 20,
   "id": "4a0b1447",
   "metadata": {
    "scrolled": true
   },
   "outputs": [
    {
     "name": "stdout",
     "output_type": "stream",
     "text": [
      "done for url  140 at 10:11:07\n",
      "done for url  141 at 10:11:26\n",
      "done for url  142 at 10:11:40\n",
      "done for url  143 at 10:11:57\n",
      "done for url  144 at 10:12:16\n",
      "done for url  145 at 10:12:31\n",
      "done for url  146 at 10:12:45\n",
      "done for url  147 at 10:13:01\n",
      "done for url  148 at 10:13:17\n",
      "done for url  149 at 10:13:39\n",
      "done for url  150 at 10:13:59\n",
      "done for url  151 at 10:14:17\n",
      "done for url  152 at 10:14:34\n",
      "done for url  153 at 10:14:50\n",
      "done for url  154 at 10:15:05\n",
      "done for url  155 at 10:15:21\n",
      "done for url  156 at 10:15:39\n",
      "done for url  157 at 10:15:54\n",
      "done for url  158 at 10:16:06\n",
      "done for url  159 at 10:16:21\n",
      "done for url  160 at 10:16:35\n",
      "done for url  161 at 10:16:51\n",
      "done for url  162 at 10:17:04\n",
      "done for url  163 at 10:17:17\n",
      "done for url  164 at 10:17:32\n",
      "done for url  165 at 10:17:48\n",
      "done for url  166 at 10:18:05\n",
      "done for url  167 at 10:18:19\n",
      "done for url  168 at 10:18:32\n",
      "done for url  169 at 10:18:50\n",
      "done for url  170 at 10:19:04\n",
      "done for url  171 at 10:19:18\n",
      "done for url  172 at 10:19:34\n",
      "done for url  173 at 10:19:49\n",
      "done for url  174 at 10:20:02\n",
      "done for url  175 at 10:20:18\n",
      "done for url  176 at 10:20:35\n",
      "done for url  177 at 10:20:53\n",
      "done for url  178 at 10:21:07\n",
      "done for url  179 at 10:21:25\n",
      "done for url  180 at 10:21:39\n",
      "done for url  181 at 10:21:53\n",
      "done for url  182 at 10:22:08\n",
      "done for url  183 at 10:22:23\n",
      "done for url  184 at 10:22:50\n",
      "done for url  185 at 10:23:06\n",
      "done for url  186 at 10:23:22\n",
      "done for url  187 at 10:23:36\n",
      "done for url  188 at 10:23:48\n",
      "done for url  189 at 10:24:11\n",
      "done for url  190 at 10:24:29\n",
      "done for url  191 at 10:24:56\n",
      "done for url  192 at 10:25:16\n",
      "done for url  193 at 10:25:37\n",
      "done for url  194 at 10:25:53\n",
      "done for url  195 at 10:26:18\n",
      "done for url  196 at 10:26:36\n",
      "done for url  197 at 10:26:50\n",
      "done for url  198 at 10:27:01\n",
      "done for url  199 at 10:27:15\n",
      "done for url  200 at 10:27:29\n",
      "done for url  201 at 10:27:40\n",
      "done for url  202 at 10:27:53\n",
      "done for url  203 at 10:28:04\n",
      "done for url  204 at 10:28:16\n",
      "done for url  205 at 10:28:31\n",
      "done for url  206 at 10:28:44\n",
      "done for url  207 at 10:28:57\n",
      "done for url  208 at 10:29:07\n",
      "done for url  209 at 10:29:19\n",
      "done for url  210 at 10:29:32\n",
      "done for url  211 at 10:29:48\n",
      "done for url  212 at 10:30:01\n",
      "done for url  213 at 10:30:13\n",
      "done for url  214 at 10:30:29\n",
      "done for url  215 at 10:30:43\n",
      "done for url  216 at 10:30:54\n",
      "done for url  217 at 10:31:07\n",
      "done for url  218 at 10:31:18\n",
      "done for url  219 at 10:31:29\n",
      "done for url  220 at 10:31:42\n",
      "done for url  221 at 10:31:56\n",
      "done for url  222 at 10:32:10\n",
      "done for url  223 at 10:32:24\n",
      "done for url  224 at 10:32:38\n",
      "done for url  225 at 10:32:56\n",
      "done for url  226 at 10:33:09\n",
      "done for url  227 at 10:33:32\n",
      "done for url  228 at 10:33:47\n",
      "done for url  229 at 10:34:02\n",
      "done for url  230 at 10:34:21\n",
      "done for url  231 at 10:34:35\n",
      "done for url  232 at 10:34:47\n",
      "done for url  233 at 10:34:58\n",
      "done for url  234 at 10:35:09\n",
      "done for url  235 at 10:35:24\n",
      "done for url  236 at 10:35:39\n",
      "done for url  237 at 10:35:52\n",
      "done for url  238 at 10:36:08\n",
      "done for url  239 at 10:36:19\n",
      "done for url  240 at 10:36:31\n",
      "done for url  241 at 10:36:43\n",
      "done for url  242 at 10:36:56\n",
      "done for url  243 at 10:37:07\n",
      "done for url  244 at 10:37:26\n",
      "done for url  245 at 10:37:39\n",
      "done for url  246 at 10:37:52\n",
      "done for url  247 at 10:38:07\n",
      "done for url  248 at 10:38:20\n",
      "done for url  249 at 10:38:33\n",
      "done for url  250 at 10:38:46\n",
      "done for url  251 at 10:38:57\n",
      "done for url  252 at 10:39:09\n",
      "done for url  253 at 10:39:24\n",
      "done for url  254 at 10:39:38\n",
      "done for url  255 at 10:39:50\n",
      "done for url  256 at 10:40:02\n",
      "done for url  257 at 10:40:32\n",
      "done for url  258 at 10:41:11\n",
      "done for url  259 at 10:41:45\n",
      "done for url  260 at 10:42:01\n",
      "done for url  261 at 10:42:13\n",
      "done for url  262 at 10:42:22\n",
      "done for url  263 at 10:42:35\n",
      "done for url  264 at 10:42:46\n",
      "done for url  265 at 10:42:58\n",
      "done for url  266 at 10:43:11\n",
      "done for url  267 at 10:43:27\n",
      "done for url  268 at 10:43:41\n",
      "done for url  269 at 10:43:56\n",
      "done for url  270 at 10:44:14\n",
      "done for url  271 at 10:44:28\n",
      "done for url  272 at 10:44:43\n",
      "done for url  273 at 10:45:58\n",
      "done for url  274 at 10:46:13\n",
      "done for url  275 at 10:46:24\n",
      "done for url  276 at 10:46:37\n",
      "done for url  277 at 10:46:50\n",
      "done for url  278 at 10:47:03\n",
      "done for url  279 at 10:47:14\n",
      "done for url  280 at 10:47:31\n",
      "done for url  281 at 10:47:46\n",
      "done for url  282 at 10:47:58\n",
      "done for url  283 at 10:48:12\n",
      "done for url  284 at 10:48:23\n",
      "done for url  285 at 10:48:36\n",
      "done for url  286 at 10:49:02\n",
      "done for url  287 at 10:49:18\n",
      "done for url  288 at 10:49:33\n",
      "done for url  289 at 10:49:45\n",
      "done for url  290 at 10:49:56\n",
      "done for url  291 at 10:50:08\n",
      "done for url  292 at 10:50:21\n",
      "done for url  293 at 10:50:37\n",
      "done for url  294 at 10:50:51\n",
      "done for url  295 at 10:51:03\n",
      "done for url  296 at 10:51:17\n",
      "done for url  297 at 10:51:27\n",
      "done for url  298 at 10:51:48\n",
      "done for url  299 at 10:52:00\n",
      "done for url  300 at 10:52:13\n",
      "done for url  301 at 10:52:27\n",
      "done for url  302 at 10:52:41\n",
      "done for url  303 at 10:52:54\n",
      "done for url  304 at 10:53:06\n",
      "done for url  305 at 10:53:25\n",
      "done for url  306 at 10:53:37\n",
      "done for url  307 at 10:54:04\n",
      "done for url  308 at 10:54:18\n",
      "done for url  309 at 10:54:35\n",
      "done for url  310 at 10:54:49\n",
      "done for url  311 at 10:55:04\n",
      "done for url  312 at 10:55:16\n",
      "done for url  313 at 10:55:28\n",
      "done for url  314 at 10:55:42\n",
      "done for url  315 at 10:55:58\n",
      "done for url  316 at 10:56:11\n",
      "done for url  317 at 10:56:25\n",
      "done for url  318 at 10:56:40\n",
      "done for url  319 at 10:56:52\n",
      "done for url  320 at 10:57:02\n",
      "done for url  321 at 10:57:17\n",
      "done for url  322 at 10:57:30\n",
      "done for url  323 at 10:57:43\n",
      "done for url  324 at 10:57:54\n",
      "done for url  325 at 10:58:08\n",
      "done for url  326 at 10:58:20\n",
      "done for url  327 at 10:58:33\n",
      "done for url  328 at 10:58:45\n",
      "done for url  329 at 10:58:56\n",
      "done for url  330 at 10:59:08\n",
      "done for url  331 at 10:59:27\n",
      "done for url  332 at 10:59:43\n",
      "done for url  333 at 10:59:58\n",
      "done for url  334 at 11:00:12\n",
      "done for url  335 at 11:00:26\n",
      "done for url  336 at 11:00:40\n",
      "done for url  337 at 11:00:52\n",
      "done for url  338 at 11:01:04\n",
      "done for url  339 at 11:01:17\n",
      "done for url  340 at 11:01:37\n",
      "done for url  341 at 11:01:50\n",
      "done for url  342 at 11:02:04\n",
      "done for url  343 at 11:02:18\n",
      "done for url  344 at 11:02:32\n",
      "done for url  345 at 11:02:48\n",
      "done for url  346 at 11:03:04\n",
      "done for url  347 at 11:03:18\n",
      "done for url  348 at 11:03:38\n",
      "done for url  349 at 11:03:54\n",
      "done for url  350 at 11:04:09\n",
      "done for url  351 at 11:04:29\n",
      "done for url  352 at 11:04:44\n",
      "done for url  353 at 11:05:06\n",
      "done for url  354 at 11:05:24\n",
      "done for url  355 at 11:05:40\n",
      "done for url  356 at 11:05:58\n",
      "done for url  357 at 11:06:16\n",
      "done for url  358 at 11:06:34\n",
      "done for url  359 at 11:06:51\n",
      "done for url  360 at 11:07:07\n",
      "done for url  361 at 11:07:23\n",
      "done for url  362 at 11:07:39\n",
      "done for url  363 at 11:07:55\n",
      "done for url  364 at 11:08:10\n",
      "done for url  365 at 11:08:27\n",
      "done for url  366 at 11:08:43\n",
      "done for url  367 at 11:08:58\n",
      "done for url  368 at 11:09:15\n",
      "done for url  369 at 11:09:27\n",
      "done for url  370 at 11:09:41\n",
      "done for url  371 at 11:09:55\n",
      "done for url  372 at 11:10:10\n",
      "done for url  373 at 11:10:23\n",
      "done for url  374 at 11:10:38\n",
      "done for url  375 at 11:10:52\n",
      "done for url  376 at 11:11:12\n",
      "done for url  377 at 11:11:30\n",
      "done for url  378 at 11:11:46\n",
      "done for url  379 at 11:12:01\n",
      "done for url  380 at 11:12:15\n",
      "done for url  381 at 11:12:30\n",
      "done for url  382 at 11:12:47\n",
      "done for url  383 at 11:13:02\n",
      "done for url  384 at 11:13:15\n",
      "done for url  385 at 11:13:28\n",
      "done for url  386 at 11:13:44\n",
      "done for url  387 at 11:13:56\n",
      "done for url  388 at 11:14:11\n",
      "done for url  389 at 11:14:26\n",
      "done for url  390 at 11:14:40\n",
      "done for url  391 at 11:14:56\n",
      "done for url  392 at 11:15:11\n",
      "done for url  393 at 11:15:25\n",
      "done for url  394 at 11:15:41\n",
      "done for url  395 at 11:15:56\n",
      "done for url  396 at 11:16:09\n",
      "done for url  397 at 11:16:21\n",
      "done for url  398 at 11:16:36\n",
      "done for url  399 at 11:16:47\n",
      "done for url  400 at 11:17:02\n",
      "done for url  401 at 11:17:15\n",
      "done for url  402 at 11:17:28\n",
      "done for url  403 at 11:17:45\n",
      "done for url  404 at 11:17:59\n",
      "done for url  405 at 11:18:13\n",
      "done for url  406 at 11:18:25\n",
      "done for url  407 at 11:18:39\n",
      "done for url  408 at 11:18:54\n",
      "done for url  409 at 11:19:11\n",
      "done for url  410 at 11:19:27\n",
      "done for url  411 at 11:19:43\n",
      "done for url  412 at 11:19:58\n",
      "done for url  413 at 11:20:15\n"
     ]
    },
    {
     "name": "stdout",
     "output_type": "stream",
     "text": [
      "done for url  414 at 11:20:30\n",
      "done for url  415 at 11:20:47\n",
      "done for url  416 at 11:21:03\n",
      "done for url  417 at 11:21:18\n",
      "done for url  418 at 11:21:37\n",
      "done for url  419 at 11:22:01\n",
      "done for url  420 at 11:22:17\n",
      "done for url  421 at 11:22:35\n",
      "done for url  422 at 11:22:49\n",
      "done for url  423 at 11:23:04\n",
      "done for url  424 at 11:23:19\n",
      "done for url  425 at 11:23:33\n",
      "done for url  426 at 11:23:48\n",
      "done for url  427 at 11:24:01\n",
      "done for url  428 at 11:24:21\n",
      "done for url  429 at 11:24:36\n",
      "done for url  430 at 11:24:51\n",
      "done for url  431 at 11:25:08\n",
      "done for url  432 at 11:25:29\n",
      "done for url  433 at 11:25:48\n",
      "done for url  434 at 11:26:02\n",
      "done for url  435 at 11:26:24\n",
      "done for url  436 at 11:26:42\n",
      "done for url  437 at 11:26:59\n",
      "done for url  438 at 11:27:15\n",
      "done for url  439 at 11:27:31\n",
      "done for url  440 at 11:27:46\n",
      "done for url  441 at 11:27:59\n",
      "done for url  442 at 11:28:15\n",
      "done for url  443 at 11:28:32\n",
      "done for url  444 at 11:28:45\n",
      "done for url  445 at 11:29:07\n",
      "done for url  446 at 11:29:23\n",
      "done for url  447 at 11:29:38\n",
      "done for url  448 at 11:29:55\n",
      "done for url  449 at 11:30:08\n",
      "done for url  450 at 11:30:22\n",
      "done for url  451 at 11:30:37\n",
      "done for url  452 at 11:30:54\n",
      "done for url  453 at 11:31:08\n",
      "done for url  454 at 11:31:24\n",
      "done for url  455 at 11:31:40\n",
      "done for url  456 at 11:31:53\n",
      "done for url  457 at 11:32:06\n",
      "done for url  458 at 11:32:20\n",
      "done for url  459 at 11:32:39\n",
      "done for url  460 at 11:32:55\n",
      "done for url  461 at 11:33:11\n",
      "done for url  462 at 11:33:27\n",
      "done for url  463 at 11:33:44\n",
      "done for url  464 at 11:33:56\n",
      "done for url  465 at 11:34:11\n",
      "done for url  466 at 11:34:28\n",
      "done for url  467 at 11:34:43\n",
      "done for url  468 at 11:34:56\n",
      "done for url  469 at 11:35:10\n",
      "done for url  470 at 11:35:28\n",
      "done for url  471 at 11:35:43\n",
      "done for url  472 at 11:35:59\n",
      "done for url  473 at 11:36:22\n",
      "done for url  474 at 11:36:39\n",
      "done for url  475 at 11:36:58\n",
      "done for url  476 at 11:37:17\n",
      "done for url  477 at 11:37:33\n",
      "done for url  478 at 11:37:50\n",
      "done for url  479 at 11:38:14\n",
      "done for url  480 at 11:38:30\n",
      "done for url  481 at 11:38:45\n",
      "done for url  482 at 11:39:00\n",
      "done for url  483 at 11:39:17\n",
      "done for url  484 at 11:39:32\n",
      "done for url  485 at 11:39:49\n",
      "done for url  486 at 11:40:06\n",
      "done for url  487 at 11:40:24\n",
      "done for url  488 at 11:40:40\n",
      "done for url  489 at 11:40:52\n",
      "done for url  490 at 11:41:08\n",
      "done for url  491 at 11:41:25\n",
      "done for url  492 at 11:41:42\n",
      "done for url  493 at 11:41:57\n",
      "done for url  494 at 11:42:17\n",
      "done for url  495 at 11:42:35\n",
      "done for url  496 at 11:42:57\n",
      "done for url  497 at 11:43:12\n",
      "done for url  498 at 11:43:30\n",
      "done for url  499 at 11:43:44\n",
      "done for url  500 at 11:44:04\n",
      "done for url  501 at 11:44:20\n",
      "done for url  502 at 11:44:37\n",
      "done for url  503 at 11:44:53\n",
      "done for url  504 at 11:45:08\n",
      "done for url  505 at 11:45:23\n",
      "done for url  506 at 11:45:38\n",
      "done for url  507 at 11:45:58\n",
      "done for url  508 at 11:46:16\n",
      "done for url  509 at 11:46:34\n",
      "done for url  510 at 11:46:49\n",
      "done for url  511 at 11:47:06\n",
      "done for url  512 at 11:47:22\n",
      "done for url  513 at 11:47:35\n",
      "done for url  514 at 11:47:49\n",
      "done for url  515 at 11:48:09\n",
      "done for url  516 at 11:48:26\n",
      "done for url  517 at 11:48:42\n",
      "done for url  518 at 11:48:59\n",
      "done for url  519 at 11:49:17\n",
      "done for url  520 at 11:49:32\n",
      "done for url  521 at 11:49:48\n",
      "done for url  522 at 11:50:03\n",
      "done for url  523 at 11:50:15\n",
      "done for url  524 at 11:50:28\n",
      "done for url  525 at 11:50:43\n",
      "done for url  526 at 11:51:02\n",
      "done for url  527 at 11:51:20\n",
      "done for url  528 at 11:51:34\n",
      "done for url  529 at 11:51:49\n",
      "done for url  530 at 11:52:09\n",
      "done for url  531 at 11:52:24\n",
      "done for url  532 at 11:52:44\n",
      "done for url  533 at 11:53:02\n",
      "done for url  534 at 11:53:26\n",
      "done for url  535 at 11:53:42\n",
      "done for url  536 at 11:53:56\n",
      "done for url  537 at 11:54:17\n",
      "done for url  538 at 11:54:30\n",
      "done for url  539 at 11:54:46\n",
      "done for url  540 at 11:55:03\n",
      "done for url  541 at 11:55:18\n",
      "done for url  542 at 11:55:31\n",
      "done for url  543 at 11:55:45\n",
      "done for url  544 at 11:56:00\n",
      "done for url  545 at 11:56:17\n",
      "done for url  546 at 11:56:32\n",
      "done for url  547 at 11:56:47\n",
      "done for url  548 at 11:57:02\n",
      "done for url  549 at 11:57:17\n",
      "done for url  550 at 11:57:31\n",
      "done for url  551 at 11:57:48\n",
      "done for url  552 at 11:58:04\n",
      "done for url  553 at 11:58:20\n",
      "done for url  554 at 11:58:36\n",
      "done for url  555 at 11:58:51\n",
      "done for url  556 at 11:59:04\n",
      "done for url  557 at 11:59:18\n",
      "done for url  558 at 11:59:34\n",
      "done for url  559 at 11:59:50\n",
      "done for url  560 at 12:00:03\n",
      "done for url  561 at 12:00:19\n",
      "done for url  562 at 12:00:33\n",
      "done for url  563 at 12:00:47\n",
      "done for url  564 at 12:01:01\n",
      "done for url  565 at 12:01:16\n",
      "done for url  566 at 12:01:37\n",
      "done for url  567 at 12:01:51\n",
      "done for url  568 at 12:02:09\n",
      "done for url  569 at 12:02:24\n",
      "done for url  570 at 12:02:38\n",
      "done for url  571 at 12:02:53\n",
      "done for url  572 at 12:03:06\n",
      "done for url  573 at 12:03:18\n",
      "done for url  574 at 12:03:32\n",
      "done for url  575 at 12:03:47\n",
      "done for url  576 at 12:04:00\n",
      "done for url  577 at 12:04:14\n",
      "done for url  578 at 12:04:29\n",
      "done for url  579 at 12:04:42\n",
      "done for url  580 at 12:04:57\n",
      "done for url  581 at 12:05:09\n",
      "done for url  582 at 12:05:24\n",
      "done for url  583 at 12:05:37\n",
      "done for url  584 at 12:05:50\n",
      "done for url  585 at 12:06:03\n",
      "done for url  586 at 12:06:16\n",
      "done for url  587 at 12:06:28\n",
      "done for url  588 at 12:06:49\n",
      "done for url  589 at 12:07:01\n",
      "done for url  590 at 12:07:18\n",
      "done for url  591 at 12:07:31\n",
      "done for url  592 at 12:07:44\n",
      "done for url  593 at 12:08:00\n",
      "done for url  594 at 12:08:14\n",
      "done for url  595 at 12:08:32\n",
      "done for url  596 at 12:08:48\n",
      "done for url  597 at 12:09:03\n",
      "done for url  598 at 12:09:19\n",
      "done for url  599 at 12:09:35\n",
      "done for url  600 at 12:09:54\n",
      "done for url  601 at 12:10:09\n",
      "done for url  602 at 12:10:21\n",
      "done for url  603 at 12:10:36\n",
      "done for url  604 at 12:10:53\n",
      "done for url  605 at 12:11:15\n",
      "done for url  606 at 12:11:30\n",
      "done for url  607 at 12:11:46\n",
      "done for url  608 at 12:12:06\n",
      "done for url  609 at 12:12:19\n",
      "done for url  610 at 12:12:39\n",
      "done for url  611 at 12:12:54\n",
      "done for url  612 at 12:13:08\n",
      "done for url  613 at 12:13:26\n",
      "done for url  614 at 12:13:44\n",
      "done for url  615 at 12:14:03\n",
      "done for url  616 at 12:14:22\n",
      "done for url  617 at 12:14:37\n",
      "done for url  618 at 12:14:53\n",
      "done for url  619 at 12:15:11\n",
      "done for url  620 at 12:15:26\n",
      "done for url  621 at 12:15:48\n",
      "done for url  622 at 12:16:02\n",
      "done for url  623 at 12:16:16\n",
      "done for url  624 at 12:16:30\n",
      "done for url  625 at 12:16:44\n",
      "done for url  626 at 12:17:02\n",
      "done for url  627 at 12:17:19\n",
      "done for url  628 at 12:17:39\n",
      "done for url  629 at 12:18:01\n",
      "done for url  630 at 12:18:18\n",
      "done for url  631 at 12:18:38\n",
      "done for url  632 at 12:18:55\n",
      "done for url  633 at 12:19:16\n",
      "done for url  634 at 12:19:34\n",
      "done for url  635 at 12:19:51\n",
      "done for url  636 at 12:20:06\n",
      "done for url  637 at 12:20:23\n",
      "done for url  638 at 12:20:43\n",
      "done for url  639 at 12:20:59\n",
      "done for url  640 at 12:21:18\n",
      "done for url  641 at 12:21:39\n",
      "done for url  642 at 12:21:54\n",
      "done for url  643 at 12:22:13\n",
      "done for url  644 at 12:22:25\n",
      "done for url  645 at 12:22:38\n",
      "done for url  646 at 12:22:57\n",
      "done for url  647 at 12:23:15\n",
      "done for url  648 at 12:23:34\n",
      "done for url  649 at 12:23:45\n",
      "done for url  650 at 12:24:01\n",
      "done for url  651 at 12:25:00\n",
      "done for url  652 at 12:25:21\n",
      "done for url  653 at 12:25:37\n",
      "done for url  654 at 12:25:53\n",
      "done for url  655 at 12:26:06\n",
      "done for url  656 at 12:26:20\n",
      "done for url  657 at 12:26:32\n",
      "done for url  658 at 12:26:48\n",
      "done for url  659 at 12:27:05\n",
      "done for url  660 at 12:27:28\n",
      "done for url  661 at 12:27:45\n",
      "done for url  662 at 12:28:02\n",
      "done for url  663 at 12:28:15\n",
      "done for url  664 at 12:28:28\n",
      "done for url  665 at 12:28:29\n",
      "done for url  666 at 12:28:44\n",
      "done for url  667 at 12:28:56\n",
      "done for url  668 at 12:29:07\n",
      "done for url  669 at 12:29:19\n",
      "done for url  670 at 12:29:32\n",
      "done for url  671 at 12:29:43\n",
      "done for url  672 at 12:29:56\n",
      "done for url  673 at 12:30:07\n",
      "done for url  674 at 12:30:23\n",
      "done for url  675 at 12:30:36\n",
      "done for url  676 at 12:30:50\n",
      "done for url  677 at 12:31:03\n",
      "done for url  678 at 12:31:17\n",
      "done for url  679 at 12:31:33\n",
      "done for url  680 at 12:31:46\n",
      "done for url  681 at 12:31:58\n",
      "done for url  682 at 12:32:14\n",
      "done for url  683 at 12:32:30\n",
      "done for url  684 at 12:32:41\n",
      "done for url  685 at 12:32:54\n",
      "done for url  686 at 12:33:07\n",
      "done for url  687 at 12:33:24\n"
     ]
    },
    {
     "name": "stdout",
     "output_type": "stream",
     "text": [
      "done for url  688 at 12:33:39\n",
      "done for url  689 at 12:33:54\n",
      "done for url  690 at 12:34:10\n",
      "done for url  691 at 12:34:26\n",
      "done for url  692 at 12:34:44\n",
      "done for url  693 at 12:34:58\n",
      "done for url  694 at 12:35:11\n",
      "done for url  695 at 12:35:30\n",
      "done for url  696 at 12:35:43\n",
      "done for url  697 at 12:35:57\n",
      "done for url  698 at 12:36:12\n",
      "done for url  699 at 12:36:26\n",
      "done for url  700 at 12:36:40\n",
      "done for url  701 at 12:36:52\n",
      "done for url  702 at 12:37:02\n",
      "done for url  703 at 12:37:19\n",
      "done for url  704 at 12:37:32\n",
      "done for url  705 at 12:37:47\n",
      "done for url  706 at 12:38:04\n",
      "done for url  707 at 12:38:17\n",
      "done for url  708 at 12:38:32\n",
      "done for url  709 at 12:38:46\n",
      "done for url  710 at 12:39:02\n",
      "done for url  711 at 12:39:16\n",
      "done for url  712 at 12:41:21\n",
      "done for url  713 at 12:41:38\n",
      "done for url  714 at 12:41:53\n",
      "done for url  715 at 12:42:07\n",
      "done for url  716 at 12:42:20\n",
      "done for url  717 at 12:42:33\n",
      "done for url  718 at 12:42:44\n",
      "done for url  719 at 12:42:57\n",
      "done for url  720 at 12:43:09\n",
      "done for url  721 at 12:43:30\n",
      "done for url  722 at 12:43:43\n",
      "done for url  723 at 12:43:58\n",
      "done for url  724 at 12:44:12\n",
      "done for url  725 at 12:44:26\n",
      "done for url  726 at 12:44:45\n",
      "done for url  727 at 12:44:58\n",
      "done for url  728 at 12:45:14\n",
      "done for url  729 at 12:45:27\n",
      "done for url  730 at 12:45:41\n",
      "done for url  731 at 12:45:55\n",
      "done for url  732 at 12:46:07\n",
      "done for url  733 at 12:46:23\n",
      "done for url  734 at 12:46:39\n",
      "done for url  735 at 12:46:53\n",
      "done for url  736 at 12:47:10\n",
      "done for url  737 at 12:47:27\n",
      "done for url  738 at 12:47:44\n",
      "done for url  739 at 12:47:58\n",
      "done for url  740 at 12:48:11\n",
      "done for url  741 at 12:48:24\n",
      "done for url  742 at 12:48:38\n",
      "done for url  743 at 12:48:49\n",
      "done for url  744 at 12:49:03\n",
      "done for url  745 at 12:49:15\n",
      "done for url  746 at 12:49:28\n",
      "done for url  747 at 12:49:40\n",
      "done for url  748 at 12:49:53\n",
      "done for url  749 at 12:50:08\n",
      "done for url  750 at 12:50:20\n",
      "done for url  751 at 12:50:36\n",
      "done for url  752 at 12:50:50\n",
      "done for url  753 at 12:51:05\n",
      "done for url  754 at 12:51:19\n",
      "done for url  755 at 12:51:32\n",
      "done for url  756 at 12:51:44\n",
      "done for url  757 at 12:51:57\n",
      "done for url  758 at 12:52:14\n",
      "done for url  759 at 12:52:28\n",
      "done for url  760 at 12:52:43\n",
      "done for url  761 at 12:52:55\n",
      "done for url  762 at 12:53:05\n",
      "done for url  763 at 12:53:17\n",
      "done for url  764 at 12:53:30\n",
      "done for url  765 at 12:53:41\n",
      "done for url  766 at 12:53:54\n",
      "done for url  767 at 12:54:06\n",
      "done for url  768 at 12:54:19\n",
      "done for url  769 at 12:54:36\n",
      "done for url  770 at 12:54:51\n",
      "done for url  771 at 12:55:05\n",
      "done for url  772 at 12:55:17\n",
      "done for url  773 at 12:55:32\n",
      "done for url  774 at 12:55:44\n",
      "done for url  775 at 12:55:57\n",
      "done for url  776 at 12:56:13\n",
      "done for url  777 at 12:56:28\n",
      "done for url  778 at 12:56:42\n",
      "done for url  779 at 12:56:57\n",
      "done for url  780 at 12:57:08\n",
      "done for url  781 at 12:57:24\n",
      "done for url  782 at 12:57:39\n",
      "done for url  783 at 12:57:53\n",
      "done for url  784 at 12:58:06\n",
      "done for url  785 at 12:58:22\n",
      "done for url  786 at 12:58:40\n",
      "done for url  787 at 12:58:53\n",
      "done for url  788 at 12:59:05\n",
      "done for url  789 at 12:59:19\n",
      "done for url  790 at 12:59:36\n",
      "done for url  791 at 12:59:51\n",
      "done for url  792 at 13:00:11\n",
      "done for url  793 at 13:00:25\n",
      "done for url  794 at 13:00:39\n",
      "done for url  795 at 13:00:51\n",
      "done for url  796 at 13:01:04\n",
      "done for url  797 at 13:01:16\n",
      "done for url  798 at 13:01:31\n",
      "done for url  799 at 13:01:47\n",
      "done for url  800 at 13:02:01\n",
      "done for url  801 at 13:02:14\n",
      "done for url  802 at 13:02:26\n",
      "done for url  803 at 13:02:37\n",
      "done for url  804 at 13:02:50\n",
      "done for url  805 at 13:03:04\n",
      "done for url  806 at 13:03:19\n",
      "done for url  807 at 13:03:31\n",
      "done for url  808 at 13:03:42\n",
      "done for url  809 at 13:03:55\n",
      "done for url  810 at 13:04:09\n",
      "done for url  811 at 13:04:21\n",
      "done for url  812 at 13:04:33\n",
      "done for url  813 at 13:04:45\n",
      "done for url  814 at 13:04:59\n",
      "done for url  815 at 13:05:14\n",
      "done for url  816 at 13:05:26\n",
      "done for url  817 at 13:05:38\n",
      "done for url  818 at 13:05:50\n",
      "done for url  819 at 13:06:03\n",
      "done for url  820 at 13:06:19\n",
      "done for url  821 at 13:06:32\n",
      "done for url  822 at 13:06:45\n",
      "done for url  823 at 13:06:56\n",
      "done for url  824 at 13:07:09\n",
      "done for url  825 at 13:07:25\n",
      "done for url  826 at 13:07:39\n",
      "done for url  827 at 13:07:50\n",
      "done for url  828 at 13:08:03\n",
      "done for url  829 at 13:08:15\n",
      "done for url  830 at 13:08:30\n",
      "done for url  831 at 13:08:43\n",
      "done for url  832 at 13:08:55\n",
      "done for url  833 at 13:09:11\n",
      "done for url  834 at 13:09:22\n",
      "done for url  835 at 13:09:36\n",
      "done for url  836 at 13:09:50\n",
      "done for url  837 at 13:10:04\n",
      "done for url  838 at 13:10:17\n",
      "done for url  839 at 13:10:28\n",
      "done for url  840 at 13:10:42\n",
      "done for url  841 at 13:10:55\n",
      "done for url  842 at 13:11:11\n",
      "done for url  843 at 13:11:28\n",
      "done for url  844 at 13:11:42\n",
      "done for url  845 at 13:12:03\n",
      "done for url  846 at 13:12:14\n",
      "done for url  847 at 13:12:28\n",
      "done for url  848 at 13:12:41\n",
      "done for url  849 at 13:12:54\n",
      "done for url  850 at 13:13:08\n",
      "done for url  851 at 13:13:23\n",
      "done for url  852 at 13:13:34\n",
      "done for url  853 at 13:13:47\n",
      "done for url  854 at 13:14:00\n",
      "done for url  855 at 13:14:14\n",
      "done for url  856 at 13:14:29\n",
      "done for url  857 at 13:14:45\n",
      "done for url  858 at 13:14:57\n",
      "done for url  859 at 13:15:10\n",
      "done for url  860 at 13:15:24\n",
      "done for url  861 at 13:15:38\n",
      "done for url  862 at 13:15:58\n",
      "done for url  863 at 13:16:12\n",
      "done for url  864 at 13:16:26\n",
      "done for url  865 at 13:16:37\n",
      "done for url  866 at 13:16:48\n",
      "done for url  867 at 13:17:02\n",
      "done for url  868 at 13:17:30\n",
      "done for url  869 at 13:17:46\n",
      "done for url  870 at 13:18:05\n",
      "done for url  871 at 13:18:23\n",
      "done for url  872 at 13:18:43\n",
      "done for url  873 at 13:18:59\n",
      "done for url  874 at 13:19:12\n",
      "done for url  875 at 13:19:31\n",
      "done for url  876 at 13:19:47\n",
      "done for url  877 at 13:20:01\n",
      "done for url  878 at 13:20:15\n",
      "done for url  879 at 13:20:30\n",
      "done for url  880 at 13:20:44\n",
      "done for url  881 at 13:20:58\n",
      "done for url  882 at 13:21:10\n",
      "done for url  883 at 13:21:24\n",
      "done for url  884 at 13:21:43\n",
      "done for url  885 at 13:22:01\n",
      "done for url  886 at 13:22:13\n",
      "done for url  887 at 13:22:26\n",
      "done for url  888 at 13:22:39\n",
      "done for url  889 at 13:22:52\n",
      "done for url  890 at 13:23:11\n",
      "done for url  891 at 13:23:33\n",
      "done for url  892 at 13:23:47\n",
      "done for url  893 at 13:24:03\n",
      "done for url  894 at 13:24:19\n",
      "done for url  895 at 13:24:37\n",
      "done for url  896 at 13:24:54\n",
      "done for url  897 at 13:25:13\n",
      "done for url  898 at 13:25:29\n",
      "done for url  899 at 13:25:45\n",
      "done for url  900 at 13:26:03\n",
      "done for url  901 at 13:26:17\n",
      "done for url  902 at 13:26:32\n",
      "done for url  903 at 13:26:44\n",
      "done for url  904 at 13:27:00\n",
      "done for url  905 at 13:27:17\n",
      "done for url  906 at 13:27:33\n",
      "done for url  907 at 13:27:48\n",
      "done for url  908 at 13:28:04\n",
      "done for url  909 at 13:28:20\n",
      "done for url  910 at 13:28:45\n",
      "done for url  911 at 13:29:01\n",
      "done for url  912 at 13:29:17\n",
      "done for url  913 at 13:29:32\n",
      "done for url  914 at 13:29:47\n",
      "done for url  915 at 13:30:05\n",
      "done for url  916 at 13:30:20\n",
      "done for url  917 at 13:30:34\n",
      "done for url  918 at 13:30:48\n",
      "done for url  919 at 13:31:01\n",
      "done for url  920 at 13:31:16\n",
      "done for url  921 at 13:31:32\n",
      "done for url  922 at 13:31:44\n",
      "done for url  923 at 13:31:59\n",
      "done for url  924 at 13:32:17\n",
      "done for url  925 at 13:32:30\n",
      "done for url  926 at 13:32:49\n",
      "done for url  927 at 13:33:07\n",
      "done for url  928 at 13:33:21\n",
      "done for url  929 at 13:33:38\n",
      "done for url  930 at 13:34:00\n",
      "done for url  931 at 13:34:15\n",
      "done for url  932 at 13:34:35\n",
      "done for url  933 at 13:34:52\n",
      "done for url  934 at 13:35:09\n",
      "done for url  935 at 13:35:26\n",
      "done for url  936 at 13:35:45\n",
      "done for url  937 at 13:36:01\n",
      "done for url  938 at 13:36:15\n",
      "done for url  939 at 13:36:34\n",
      "done for url  940 at 13:36:49\n",
      "done for url  941 at 13:37:03\n",
      "done for url  942 at 13:37:17\n",
      "done for url  943 at 13:37:34\n",
      "done for url  944 at 13:37:50\n",
      "done for url  945 at 13:38:06\n",
      "done for url  946 at 13:38:21\n",
      "done for url  947 at 13:38:39\n",
      "done for url  948 at 13:39:00\n",
      "done for url  949 at 13:39:20\n",
      "done for url  950 at 13:39:36\n",
      "done for url  951 at 13:39:48\n",
      "done for url  952 at 13:40:01\n",
      "done for url  953 at 13:40:19\n",
      "done for url  954 at 13:40:32\n",
      "done for url  955 at 13:40:46\n",
      "done for url  956 at 13:41:02\n",
      "done for url  957 at 13:41:18\n",
      "done for url  958 at 13:41:33\n",
      "done for url  959 at 13:41:51\n",
      "done for url  960 at 13:42:06\n",
      "done for url  961 at 13:42:21\n"
     ]
    },
    {
     "name": "stdout",
     "output_type": "stream",
     "text": [
      "done for url  962 at 13:42:37\n",
      "done for url  963 at 13:42:54\n",
      "done for url  964 at 13:43:07\n",
      "done for url  965 at 13:43:27\n",
      "done for url  966 at 13:43:44\n",
      "done for url  967 at 13:44:01\n",
      "done for url  968 at 13:44:18\n",
      "done for url  969 at 13:44:37\n",
      "done for url  970 at 13:44:51\n",
      "done for url  971 at 13:45:09\n",
      "done for url  972 at 13:45:24\n",
      "done for url  973 at 13:45:40\n",
      "done for url  974 at 13:45:56\n",
      "done for url  975 at 13:46:16\n",
      "done for url  976 at 13:46:37\n",
      "done for url  977 at 13:46:54\n",
      "done for url  978 at 13:47:10\n",
      "done for url  979 at 13:47:25\n",
      "done for url  980 at 13:47:45\n",
      "done for url  981 at 13:48:07\n",
      "done for url  982 at 13:48:23\n",
      "done for url  983 at 13:48:41\n",
      "done for url  984 at 13:48:58\n",
      "done for url  985 at 13:49:16\n",
      "done for url  986 at 13:49:32\n",
      "done for url  987 at 13:49:48\n",
      "done for url  988 at 13:50:07\n",
      "done for url  989 at 13:50:27\n",
      "done for url  990 at 13:50:44\n",
      "done for url  991 at 13:51:02\n",
      "done for url  992 at 13:51:24\n",
      "done for url  993 at 13:51:39\n",
      "done for url  994 at 13:52:01\n",
      "done for url  995 at 13:52:16\n",
      "done for url  996 at 13:52:36\n",
      "done for url  997 at 13:52:57\n",
      "done for url  998 at 13:53:13\n",
      "done for url  999 at 13:53:30\n",
      "done for url  1000 at 13:53:43\n",
      "done for url  1001 at 13:54:03\n",
      "done for url  1002 at 13:54:19\n",
      "done for url  1003 at 13:54:36\n",
      "done for url  1004 at 13:54:53\n",
      "done for url  1005 at 13:55:12\n",
      "done for url  1006 at 13:55:26\n",
      "done for url  1007 at 13:55:41\n",
      "done for url  1008 at 13:55:56\n",
      "done for url  1009 at 13:56:21\n",
      "done for url  1010 at 13:56:35\n",
      "done for url  1011 at 13:56:50\n",
      "done for url  1012 at 13:57:05\n",
      "done for url  1013 at 13:57:19\n",
      "done for url  1014 at 13:57:34\n",
      "done for url  1015 at 13:57:49\n",
      "done for url  1016 at 13:58:08\n",
      "done for url  1017 at 13:58:29\n",
      "done for url  1018 at 13:58:50\n",
      "done for url  1019 at 13:59:09\n",
      "done for url  1020 at 13:59:26\n",
      "done for url  1021 at 13:59:42\n",
      "done for url  1022 at 13:59:58\n",
      "done for url  1023 at 14:00:11\n",
      "done for url  1024 at 14:00:29\n",
      "done for url  1025 at 14:00:44\n",
      "done for url  1026 at 14:01:01\n",
      "done for url  1027 at 14:01:21\n",
      "done for url  1028 at 14:01:36\n",
      "done for url  1029 at 14:01:57\n",
      "done for url  1030 at 14:02:11\n",
      "done for url  1031 at 14:02:25\n",
      "done for url  1032 at 14:02:42\n",
      "done for url  1033 at 14:03:01\n",
      "done for url  1034 at 14:03:21\n",
      "done for url  1035 at 14:03:36\n",
      "done for url  1036 at 14:03:51\n",
      "done for url  1037 at 14:04:09\n",
      "done for url  1038 at 14:04:24\n",
      "done for url  1039 at 14:04:36\n",
      "done for url  1040 at 14:04:51\n",
      "done for url  1041 at 14:05:05\n",
      "done for url  1042 at 14:05:40\n",
      "done for url  1043 at 14:05:57\n",
      "done for url  1044 at 14:06:13\n",
      "done for url  1045 at 14:06:28\n",
      "done for url  1046 at 14:06:42\n",
      "done for url  1047 at 14:06:59\n",
      "done for url  1048 at 14:07:12\n",
      "done for url  1049 at 14:07:27\n",
      "done for url  1050 at 14:07:45\n",
      "done for url  1051 at 14:07:59\n",
      "done for url  1052 at 14:08:18\n",
      "done for url  1053 at 14:08:34\n",
      "done for url  1054 at 14:08:47\n",
      "done for url  1055 at 14:09:12\n",
      "done for url  1056 at 14:09:28\n",
      "done for url  1057 at 14:09:43\n",
      "done for url  1058 at 14:09:56\n",
      "done for url  1059 at 14:10:09\n",
      "done for url  1060 at 14:10:22\n",
      "done for url  1061 at 14:10:45\n",
      "done for url  1062 at 14:11:00\n",
      "done for url  1063 at 14:11:18\n",
      "done for url  1064 at 14:11:33\n",
      "done for url  1065 at 14:12:02\n",
      "done for url  1066 at 14:12:20\n",
      "done for url  1067 at 14:12:37\n",
      "done for url  1068 at 14:12:52\n",
      "done for url  1069 at 14:13:08\n",
      "done for url  1070 at 14:13:24\n",
      "done for url  1071 at 14:13:46\n",
      "done for url  1072 at 14:13:59\n",
      "done for url  1073 at 14:14:17\n",
      "done for url  1074 at 14:14:33\n",
      "done for url  1075 at 14:14:49\n",
      "done for url  1076 at 14:15:06\n",
      "done for url  1077 at 14:15:22\n",
      "done for url  1078 at 14:15:36\n",
      "done for url  1079 at 14:15:51\n",
      "done for url  1080 at 14:16:10\n",
      "done for url  1081 at 14:16:28\n",
      "done for url  1082 at 14:16:45\n",
      "done for url  1083 at 14:17:02\n",
      "done for url  1084 at 14:17:19\n",
      "done for url  1085 at 14:17:35\n",
      "done for url  1086 at 14:17:50\n",
      "done for url  1087 at 14:18:05\n",
      "done for url  1088 at 14:18:18\n",
      "done for url  1089 at 14:18:34\n",
      "done for url  1090 at 14:18:52\n",
      "done for url  1091 at 14:19:16\n",
      "done for url  1092 at 14:19:28\n",
      "done for url  1093 at 14:19:41\n",
      "done for url  1094 at 14:19:52\n",
      "done for url  1095 at 14:20:06\n",
      "done for url  1096 at 14:20:20\n",
      "done for url  1097 at 14:20:30\n",
      "done for url  1098 at 14:20:47\n",
      "done for url  1099 at 14:21:01\n",
      "done for url  1100 at 14:21:14\n",
      "done for url  1101 at 14:21:24\n",
      "done for url  1102 at 14:21:36\n",
      "done for url  1103 at 14:21:46\n",
      "done for url  1104 at 14:21:59\n",
      "done for url  1105 at 14:22:12\n",
      "done for url  1106 at 14:22:23\n",
      "done for url  1107 at 14:22:36\n",
      "done for url  1108 at 14:22:48\n",
      "done for url  1109 at 14:23:03\n",
      "done for url  1110 at 14:23:15\n",
      "done for url  1111 at 14:23:27\n",
      "done for url  1112 at 14:23:40\n",
      "done for url  1113 at 14:23:55\n",
      "done for url  1114 at 14:24:06\n",
      "done for url  1115 at 14:24:17\n",
      "done for url  1116 at 14:24:30\n",
      "done for url  1117 at 14:24:46\n",
      "done for url  1118 at 14:25:04\n",
      "done for url  1119 at 14:25:18\n",
      "done for url  1120 at 14:25:32\n",
      "done for url  1121 at 14:25:47\n",
      "done for url  1122 at 14:26:13\n",
      "done for url  1123 at 14:26:32\n",
      "done for url  1124 at 14:26:43\n",
      "done for url  1125 at 14:26:54\n",
      "done for url  1126 at 14:27:12\n",
      "done for url  1127 at 14:27:29\n",
      "done for url  1128 at 14:27:43\n",
      "done for url  1129 at 14:27:59\n",
      "done for url  1130 at 14:28:11\n",
      "done for url  1131 at 14:28:26\n",
      "done for url  1132 at 14:28:41\n",
      "done for url  1133 at 14:28:57\n",
      "done for url  1134 at 14:29:13\n",
      "done for url  1135 at 14:29:26\n",
      "done for url  1136 at 14:29:38\n",
      "done for url  1137 at 14:29:55\n",
      "done for url  1138 at 14:30:12\n",
      "done for url  1139 at 14:30:28\n",
      "done for url  1140 at 14:30:52\n",
      "done for url  1141 at 14:31:24\n",
      "done for url  1142 at 14:31:39\n",
      "done for url  1143 at 14:31:57\n",
      "done for url  1144 at 14:32:11\n",
      "done for url  1145 at 14:32:27\n",
      "done for url  1146 at 14:32:44\n",
      "done for url  1147 at 14:32:58\n",
      "done for url  1148 at 14:33:11\n",
      "done for url  1149 at 14:33:25\n",
      "done for url  1150 at 14:33:39\n",
      "done for url  1151 at 14:33:55\n",
      "done for url  1152 at 14:34:12\n",
      "done for url  1153 at 14:34:26\n",
      "done for url  1154 at 14:34:44\n",
      "done for url  1155 at 14:34:58\n",
      "done for url  1156 at 14:35:16\n",
      "done for url  1157 at 14:35:32\n",
      "done for url  1158 at 14:35:47\n",
      "done for url  1159 at 14:36:03\n",
      "done for url  1160 at 14:36:17\n",
      "done for url  1161 at 14:36:31\n",
      "done for url  1162 at 14:36:44\n",
      "done for url  1163 at 14:37:00\n",
      "done for url  1164 at 14:37:21\n",
      "done for url  1165 at 14:37:35\n",
      "done for url  1166 at 14:37:51\n",
      "done for url  1167 at 14:38:04\n",
      "done for url  1168 at 14:38:18\n",
      "done for url  1169 at 14:38:39\n",
      "done for url  1170 at 14:38:53\n",
      "done for url  1171 at 14:39:11\n",
      "done for url  1172 at 14:39:26\n",
      "done for url  1173 at 14:39:41\n",
      "done for url  1174 at 14:39:56\n",
      "done for url  1175 at 14:40:10\n",
      "done for url  1176 at 14:40:25\n",
      "done for url  1177 at 14:40:38\n",
      "done for url  1178 at 14:40:56\n",
      "done for url  1179 at 14:41:09\n",
      "done for url  1180 at 14:41:24\n",
      "done for url  1181 at 14:41:36\n",
      "done for url  1182 at 14:41:55\n",
      "done for url  1183 at 14:42:10\n",
      "done for url  1184 at 14:42:24\n",
      "done for url  1185 at 14:42:38\n",
      "done for url  1186 at 14:42:54\n",
      "done for url  1187 at 14:43:10\n",
      "done for url  1188 at 14:43:26\n",
      "done for url  1189 at 14:43:42\n",
      "done for url  1190 at 14:44:01\n",
      "done for url  1191 at 14:44:17\n",
      "done for url  1192 at 14:44:32\n",
      "done for url  1193 at 14:44:50\n",
      "done for url  1194 at 14:45:10\n",
      "done for url  1195 at 14:45:30\n",
      "done for url  1196 at 14:45:47\n",
      "done for url  1197 at 14:46:05\n",
      "done for url  1198 at 14:46:18\n",
      "done for url  1199 at 14:46:37\n",
      "done for url  1200 at 14:46:57\n",
      "done for url  1201 at 14:47:11\n",
      "done for url  1202 at 14:47:28\n",
      "done for url  1203 at 14:47:43\n",
      "done for url  1204 at 14:47:59\n",
      "done for url  1205 at 14:48:11\n",
      "done for url  1206 at 14:48:29\n",
      "done for url  1207 at 14:48:44\n",
      "done for url  1208 at 14:49:01\n",
      "done for url  1209 at 14:49:16\n",
      "done for url  1210 at 14:49:32\n",
      "done for url  1211 at 14:49:49\n",
      "done for url  1212 at 14:50:02\n",
      "done for url  1213 at 14:50:16\n",
      "done for url  1214 at 14:50:34\n",
      "done for url  1215 at 14:50:55\n",
      "done for url  1216 at 14:51:12\n",
      "done for url  1217 at 14:51:29\n",
      "done for url  1218 at 14:52:03\n",
      "done for url  1219 at 14:52:26\n",
      "done for url  1220 at 14:52:48\n",
      "done for url  1221 at 14:53:07\n",
      "done for url  1222 at 14:53:27\n",
      "done for url  1223 at 14:53:50\n",
      "done for url  1224 at 14:54:05\n",
      "done for url  1225 at 14:54:28\n",
      "done for url  1226 at 14:54:43\n",
      "done for url  1227 at 14:55:06\n"
     ]
    },
    {
     "name": "stdout",
     "output_type": "stream",
     "text": [
      "done for url  1228 at 14:55:20\n",
      "done for url  1229 at 14:55:42\n",
      "done for url  1230 at 14:55:59\n",
      "done for url  1231 at 14:56:14\n",
      "done for url  1232 at 14:56:34\n",
      "done for url  1233 at 14:56:50\n",
      "done for url  1234 at 14:57:08\n",
      "done for url  1235 at 14:57:33\n",
      "done for url  1236 at 14:57:54\n",
      "done for url  1237 at 14:58:15\n",
      "done for url  1238 at 14:58:34\n",
      "done for url  1239 at 14:58:53\n",
      "done for url  1240 at 14:59:09\n",
      "done for url  1241 at 14:59:30\n",
      "done for url  1242 at 14:59:55\n",
      "done for url  1243 at 15:00:14\n",
      "done for url  1244 at 15:00:31\n",
      "done for url  1245 at 15:00:50\n",
      "done for url  1246 at 15:01:08\n",
      "done for url  1247 at 15:01:29\n",
      "done for url  1248 at 15:01:46\n",
      "done for url  1249 at 15:02:03\n",
      "done for url  1250 at 15:02:26\n",
      "done for url  1251 at 15:02:44\n",
      "done for url  1252 at 15:03:01\n",
      "done for url  1253 at 15:03:21\n",
      "done for url  1254 at 15:03:40\n",
      "done for url  1255 at 15:04:09\n",
      "done for url  1256 at 15:04:27\n",
      "done for url  1257 at 15:04:44\n",
      "done for url  1258 at 15:05:03\n",
      "done for url  1259 at 15:05:23\n",
      "done for url  1260 at 15:05:41\n",
      "done for url  1261 at 15:05:59\n",
      "done for url  1262 at 15:06:19\n",
      "done for url  1263 at 15:06:38\n",
      "done for url  1264 at 15:06:55\n",
      "done for url  1265 at 15:07:13\n",
      "done for url  1266 at 15:07:44\n",
      "done for url  1267 at 15:08:00\n",
      "done for url  1268 at 15:08:24\n",
      "done for url  1269 at 15:08:41\n",
      "done for url  1270 at 15:08:56\n",
      "done for url  1271 at 15:09:17\n",
      "done for url  1272 at 15:09:37\n",
      "done for url  1273 at 15:09:54\n",
      "done for url  1274 at 15:10:16\n",
      "done for url  1275 at 15:10:34\n",
      "done for url  1276 at 15:10:51\n",
      "done for url  1277 at 15:11:06\n",
      "done for url  1278 at 15:11:30\n",
      "done for url  1279 at 15:11:52\n",
      "done for url  1280 at 15:12:14\n",
      "done for url  1281 at 15:12:32\n",
      "done for url  1282 at 15:12:48\n",
      "done for url  1283 at 15:13:04\n",
      "done for url  1284 at 15:13:22\n",
      "done for url  1285 at 15:13:37\n",
      "done for url  1286 at 15:13:56\n",
      "done for url  1287 at 15:14:16\n",
      "done for url  1288 at 15:14:35\n",
      "done for url  1289 at 15:14:48\n",
      "done for url  1290 at 15:15:09\n",
      "done for url  1291 at 15:15:25\n",
      "done for url  1292 at 15:15:44\n",
      "done for url  1293 at 15:16:03\n",
      "done for url  1294 at 15:16:20\n",
      "done for url  1295 at 15:16:40\n",
      "done for url  1296 at 15:16:57\n",
      "done for url  1297 at 15:17:16\n",
      "done for url  1298 at 15:17:31\n",
      "done for url  1299 at 15:17:54\n",
      "done for url  1300 at 15:18:09\n",
      "done for url  1301 at 15:18:26\n",
      "done for url  1302 at 15:18:40\n",
      "done for url  1303 at 15:18:56\n",
      "done for url  1304 at 15:19:10\n",
      "done for url  1305 at 15:19:24\n",
      "done for url  1306 at 15:19:38\n",
      "done for url  1307 at 15:19:54\n",
      "done for url  1308 at 15:20:10\n",
      "done for url  1309 at 15:20:25\n",
      "done for url  1310 at 15:20:38\n",
      "done for url  1311 at 15:20:52\n",
      "done for url  1312 at 15:21:03\n",
      "done for url  1313 at 15:21:18\n",
      "done for url  1314 at 15:21:33\n",
      "done for url  1315 at 15:21:51\n",
      "done for url  1316 at 15:22:08\n",
      "done for url  1317 at 15:22:21\n",
      "done for url  1318 at 15:22:35\n",
      "done for url  1319 at 15:22:51\n",
      "done for url  1320 at 15:23:04\n",
      "done for url  1321 at 15:23:16\n",
      "done for url  1322 at 15:23:30\n",
      "done for url  1323 at 15:23:43\n",
      "done for url  1324 at 15:23:58\n",
      "done for url  1325 at 15:24:13\n",
      "done for url  1326 at 15:24:28\n",
      "done for url  1327 at 15:24:43\n",
      "done for url  1328 at 15:24:57\n",
      "done for url  1329 at 15:25:12\n",
      "done for url  1330 at 15:25:25\n",
      "done for url  1331 at 15:25:39\n",
      "done for url  1332 at 15:25:51\n",
      "done for url  1333 at 15:26:09\n",
      "done for url  1334 at 15:26:26\n",
      "done for url  1335 at 15:26:41\n",
      "done for url  1336 at 15:26:55\n",
      "done for url  1337 at 15:27:09\n",
      "done for url  1338 at 15:27:24\n",
      "done for url  1339 at 15:27:39\n",
      "done for url  1340 at 15:27:58\n",
      "done for url  1341 at 15:28:12\n",
      "done for url  1342 at 15:28:25\n",
      "done for url  1343 at 15:28:38\n",
      "done for url  1344 at 15:28:52\n",
      "done for url  1345 at 15:29:11\n",
      "done for url  1346 at 15:29:27\n",
      "done for url  1347 at 15:29:41\n",
      "done for url  1348 at 15:29:54\n",
      "done for url  1349 at 15:30:07\n",
      "done for url  1350 at 15:30:20\n",
      "done for url  1351 at 15:30:32\n",
      "done for url  1352 at 15:30:43\n",
      "done for url  1353 at 15:30:58\n",
      "done for url  1354 at 15:31:17\n",
      "done for url  1355 at 15:31:32\n",
      "done for url  1356 at 15:31:43\n",
      "done for url  1357 at 15:31:56\n",
      "done for url  1358 at 15:32:12\n",
      "done for url  1359 at 15:32:28\n",
      "done for url  1360 at 15:32:41\n",
      "done for url  1361 at 15:32:55\n",
      "done for url  1362 at 15:33:07\n",
      "done for url  1363 at 15:33:18\n",
      "done for url  1364 at 15:33:33\n",
      "done for url  1365 at 15:33:51\n",
      "done for url  1366 at 15:34:04\n",
      "done for url  1367 at 15:34:19\n",
      "done for url  1368 at 15:34:34\n",
      "done for url  1369 at 15:34:48\n",
      "done for url  1370 at 15:35:03\n",
      "done for url  1371 at 15:35:15\n",
      "done for url  1372 at 15:35:29\n",
      "done for url  1373 at 15:35:41\n",
      "done for url  1374 at 15:35:56\n",
      "done for url  1375 at 15:36:08\n",
      "done for url  1376 at 15:36:23\n",
      "done for url  1377 at 15:36:36\n",
      "done for url  1378 at 15:36:55\n",
      "done for url  1379 at 15:37:13\n",
      "done for url  1380 at 15:37:29\n",
      "done for url  1381 at 15:37:44\n",
      "done for url  1382 at 15:38:01\n",
      "done for url  1383 at 15:38:19\n",
      "done for url  1384 at 15:38:34\n",
      "done for url  1385 at 15:38:48\n",
      "done for url  1386 at 15:39:09\n",
      "done for url  1387 at 15:39:30\n",
      "done for url  1388 at 15:39:43\n",
      "done for url  1389 at 15:39:56\n",
      "done for url  1390 at 15:40:12\n",
      "done for url  1391 at 15:40:24\n",
      "done for url  1392 at 15:40:39\n",
      "done for url  1393 at 15:40:54\n",
      "done for url  1394 at 15:41:07\n",
      "done for url  1395 at 15:41:19\n",
      "done for url  1396 at 15:41:39\n",
      "done for url  1397 at 15:41:53\n",
      "done for url  1398 at 15:42:06\n",
      "done for url  1399 at 15:42:20\n",
      "done for url  1400 at 15:42:34\n",
      "done for url  1401 at 15:42:46\n",
      "done for url  1402 at 15:42:59\n",
      "done for url  1403 at 15:43:12\n",
      "done for url  1404 at 15:43:25\n",
      "done for url  1405 at 15:43:42\n",
      "done for url  1406 at 15:43:59\n",
      "done for url  1407 at 15:44:12\n",
      "done for url  1408 at 15:44:25\n",
      "done for url  1409 at 15:44:40\n",
      "done for url  1410 at 15:44:54\n",
      "done for url  1411 at 15:45:07\n",
      "done for url  1412 at 15:45:21\n",
      "done for url  1413 at 15:45:34\n",
      "done for url  1414 at 15:45:47\n",
      "done for url  1415 at 15:46:00\n",
      "done for url  1416 at 15:46:14\n",
      "done for url  1417 at 15:46:31\n",
      "done for url  1418 at 15:46:49\n",
      "done for url  1419 at 15:47:03\n",
      "done for url  1420 at 15:47:17\n",
      "done for url  1421 at 15:47:34\n",
      "done for url  1422 at 15:47:47\n",
      "done for url  1423 at 15:47:59\n",
      "done for url  1424 at 15:48:18\n",
      "done for url  1425 at 15:48:35\n",
      "done for url  1426 at 15:48:47\n",
      "done for url  1427 at 15:49:00\n",
      "done for url  1428 at 15:49:15\n",
      "done for url  1429 at 15:49:33\n",
      "done for url  1430 at 15:49:48\n",
      "done for url  1431 at 15:50:02\n",
      "done for url  1432 at 15:50:15\n",
      "done for url  1433 at 15:50:26\n",
      "done for url  1434 at 15:50:38\n",
      "done for url  1435 at 15:50:51\n",
      "done for url  1436 at 15:51:06\n",
      "done for url  1437 at 15:51:18\n",
      "done for url  1438 at 15:51:30\n",
      "done for url  1439 at 15:51:43\n",
      "done for url  1440 at 15:52:03\n",
      "done for url  1441 at 15:52:20\n",
      "done for url  1442 at 15:52:33\n",
      "done for url  1443 at 15:52:46\n",
      "done for url  1444 at 15:53:01\n",
      "done for url  1445 at 15:53:15\n",
      "done for url  1446 at 15:53:28\n",
      "done for url  1447 at 15:53:41\n",
      "done for url  1448 at 15:53:54\n",
      "done for url  1449 at 15:54:08\n",
      "done for url  1450 at 15:54:22\n",
      "done for url  1451 at 15:54:36\n",
      "done for url  1452 at 15:54:49\n",
      "done for url  1453 at 15:55:04\n",
      "done for url  1454 at 15:55:21\n",
      "done for url  1455 at 15:55:32\n",
      "done for url  1456 at 15:55:46\n",
      "done for url  1457 at 15:56:06\n",
      "done for url  1458 at 15:56:23\n",
      "done for url  1459 at 15:56:39\n",
      "done for url  1460 at 15:56:56\n",
      "done for url  1461 at 15:57:19\n",
      "done for url  1462 at 15:57:35\n",
      "done for url  1463 at 15:57:51\n",
      "done for url  1464 at 15:58:07\n",
      "done for url  1465 at 15:58:23\n",
      "done for url  1466 at 15:58:44\n",
      "done for url  1467 at 15:59:04\n",
      "done for url  1468 at 15:59:21\n",
      "done for url  1469 at 15:59:31\n",
      "done for url  1470 at 15:59:53\n",
      "done for url  1471 at 16:00:08\n",
      "done for url  1472 at 16:00:19\n",
      "done for url  1473 at 16:00:31\n",
      "done for url  1474 at 16:00:46\n",
      "done for url  1475 at 16:00:59\n",
      "done for url  1476 at 16:01:14\n",
      "done for url  1477 at 16:01:27\n",
      "done for url  1478 at 16:01:39\n",
      "done for url  1479 at 16:01:57\n",
      "done for url  1480 at 16:02:08\n",
      "done for url  1481 at 16:02:20\n",
      "done for url  1482 at 16:02:34\n",
      "done for url  1483 at 16:02:47\n",
      "done for url  1484 at 16:03:01\n",
      "done for url  1485 at 16:03:14\n",
      "done for url  1486 at 16:03:29\n",
      "done for url  1487 at 16:03:45\n",
      "done for url  1488 at 16:03:56\n",
      "done for url  1489 at 16:04:12\n",
      "done for url  1490 at 16:04:26\n",
      "done for url  1491 at 16:04:38\n",
      "done for url  1492 at 16:04:49\n"
     ]
    },
    {
     "name": "stdout",
     "output_type": "stream",
     "text": [
      "done for url  1493 at 16:05:00\n",
      "done for url  1494 at 16:05:16\n",
      "done for url  1495 at 16:05:28\n",
      "done for url  1496 at 16:05:39\n",
      "done for url  1497 at 16:05:51\n",
      "done for url  1498 at 16:06:07\n",
      "done for url  1499 at 16:06:22\n",
      "done for url  1500 at 16:06:35\n",
      "done for url  1501 at 16:06:50\n",
      "done for url  1502 at 16:07:01\n",
      "done for url  1503 at 16:07:14\n",
      "done for url  1504 at 16:07:27\n",
      "done for url  1505 at 16:07:40\n",
      "done for url  1506 at 16:07:54\n",
      "done for url  1507 at 16:08:06\n",
      "done for url  1508 at 16:08:19\n",
      "done for url  1509 at 16:08:31\n",
      "done for url  1510 at 16:08:45\n",
      "done for url  1511 at 16:08:58\n",
      "done for url  1512 at 16:09:11\n",
      "done for url  1513 at 16:09:28\n",
      "done for url  1514 at 16:09:41\n",
      "done for url  1515 at 16:09:51\n",
      "done for url  1516 at 16:10:05\n",
      "done for url  1517 at 16:10:21\n",
      "done for url  1518 at 16:10:35\n",
      "done for url  1519 at 16:10:49\n",
      "done for url  1520 at 16:11:05\n",
      "done for url  1521 at 16:11:17\n",
      "done for url  1522 at 16:11:32\n",
      "done for url  1523 at 16:11:46\n",
      "done for url  1524 at 16:12:02\n",
      "done for url  1525 at 16:12:20\n",
      "done for url  1526 at 16:12:33\n",
      "done for url  1527 at 16:12:49\n",
      "done for url  1528 at 16:13:03\n",
      "done for url  1529 at 16:13:15\n",
      "done for url  1530 at 16:13:29\n",
      "done for url  1531 at 16:13:40\n",
      "done for url  1532 at 16:13:51\n",
      "done for url  1533 at 16:14:05\n",
      "done for url  1534 at 16:14:19\n",
      "done for url  1535 at 16:14:32\n",
      "done for url  1536 at 16:14:48\n",
      "done for url  1537 at 16:15:01\n",
      "done for url  1538 at 16:15:15\n",
      "done for url  1539 at 16:15:31\n",
      "done for url  1540 at 16:15:47\n",
      "done for url  1541 at 16:16:04\n",
      "done for url  1542 at 16:16:17\n",
      "done for url  1543 at 16:16:31\n",
      "done for url  1544 at 16:16:51\n",
      "done for url  1545 at 16:17:05\n",
      "done for url  1546 at 16:17:18\n",
      "done for url  1547 at 16:17:32\n",
      "done for url  1548 at 16:17:45\n",
      "done for url  1549 at 16:17:55\n",
      "done for url  1550 at 16:18:10\n",
      "done for url  1551 at 16:18:23\n",
      "done for url  1552 at 16:18:37\n",
      "done for url  1553 at 16:18:51\n",
      "done for url  1554 at 16:19:02\n",
      "done for url  1555 at 16:19:18\n",
      "done for url  1556 at 16:19:30\n",
      "done for url  1557 at 16:19:43\n",
      "done for url  1558 at 16:19:57\n",
      "done for url  1559 at 16:20:13\n",
      "done for url  1560 at 16:20:28\n",
      "done for url  1561 at 16:20:40\n",
      "done for url  1562 at 16:20:56\n",
      "done for url  1563 at 16:21:08\n",
      "done for url  1564 at 16:21:22\n",
      "done for url  1565 at 16:21:35\n",
      "done for url  1566 at 16:21:51\n",
      "done for url  1567 at 16:22:05\n",
      "done for url  1568 at 16:22:19\n",
      "done for url  1569 at 16:22:33\n",
      "done for url  1570 at 16:22:43\n",
      "done for url  1571 at 16:22:58\n",
      "done for url  1572 at 16:23:10\n",
      "done for url  1573 at 16:23:26\n",
      "done for url  1574 at 16:23:42\n",
      "done for url  1575 at 16:23:56\n",
      "done for url  1576 at 16:24:13\n",
      "done for url  1577 at 16:24:29\n",
      "done for url  1578 at 16:24:44\n",
      "done for url  1579 at 16:24:59\n",
      "done for url  1580 at 16:25:12\n",
      "done for url  1581 at 16:25:23\n",
      "done for url  1582 at 16:26:18\n",
      "done for url  1583 at 16:27:10\n",
      "done for url  1584 at 16:27:41\n",
      "done for url  1585 at 16:28:06\n",
      "done for url  1586 at 16:28:23\n",
      "done for url  1587 at 16:28:40\n",
      "done for url  1588 at 16:29:04\n",
      "done for url  1589 at 16:29:21\n",
      "done for url  1590 at 16:29:41\n",
      "done for url  1591 at 16:29:59\n",
      "done for url  1592 at 16:30:20\n",
      "done for url  1593 at 16:30:43\n",
      "done for url  1594 at 16:30:59\n",
      "done for url  1595 at 16:31:16\n",
      "done for url  1596 at 16:31:35\n",
      "done for url  1597 at 16:31:52\n",
      "done for url  1598 at 16:32:08\n",
      "done for url  1599 at 16:32:28\n",
      "done for url  1600 at 16:32:47\n",
      "done for url  1601 at 16:33:07\n",
      "done for url  1602 at 16:33:23\n",
      "done for url  1603 at 16:33:38\n",
      "done for url  1604 at 16:34:01\n",
      "done for url  1605 at 16:34:19\n",
      "done for url  1606 at 16:34:32\n",
      "done for url  1607 at 16:34:48\n",
      "done for url  1608 at 16:35:01\n",
      "done for url  1609 at 16:35:16\n",
      "done for url  1610 at 16:35:30\n",
      "done for url  1611 at 16:35:45\n",
      "done for url  1612 at 16:35:58\n",
      "done for url  1613 at 16:36:20\n",
      "done for url  1614 at 16:36:36\n",
      "done for url  1615 at 16:36:52\n",
      "done for url  1616 at 16:37:13\n",
      "done for url  1617 at 16:37:28\n",
      "done for url  1618 at 16:37:41\n",
      "done for url  1619 at 16:37:57\n",
      "done for url  1620 at 16:38:14\n",
      "done for url  1621 at 16:38:28\n",
      "done for url  1622 at 16:38:44\n",
      "done for url  1623 at 16:38:59\n",
      "done for url  1624 at 16:39:18\n",
      "done for url  1625 at 16:39:32\n",
      "done for url  1626 at 16:39:48\n",
      "done for url  1627 at 16:40:07\n",
      "done for url  1628 at 16:40:23\n",
      "done for url  1629 at 16:40:38\n",
      "done for url  1630 at 16:41:00\n",
      "done for url  1631 at 16:41:14\n",
      "done for url  1632 at 16:41:29\n",
      "done for url  1633 at 16:41:47\n",
      "done for url  1634 at 16:42:01\n",
      "done for url  1635 at 16:42:15\n",
      "done for url  1636 at 16:42:31\n",
      "done for url  1637 at 16:42:49\n",
      "done for url  1638 at 16:43:06\n",
      "done for url  1639 at 16:43:23\n",
      "done for url  1640 at 16:43:42\n",
      "done for url  1641 at 16:44:00\n",
      "done for url  1642 at 16:44:14\n",
      "done for url  1643 at 16:44:35\n",
      "done for url  1644 at 16:44:53\n",
      "done for url  1645 at 16:45:06\n",
      "done for url  1646 at 16:45:19\n",
      "done for url  1647 at 16:45:40\n",
      "done for url  1648 at 16:45:57\n",
      "done for url  1649 at 16:46:12\n",
      "done for url  1650 at 16:46:26\n",
      "done for url  1651 at 16:46:42\n",
      "done for url  1652 at 16:46:56\n",
      "done for url  1653 at 16:47:12\n",
      "done for url  1654 at 16:47:31\n",
      "done for url  1655 at 16:47:47\n",
      "done for url  1656 at 16:48:03\n",
      "done for url  1657 at 16:48:19\n",
      "done for url  1658 at 16:48:33\n",
      "done for url  1659 at 16:48:48\n",
      "done for url  1660 at 16:49:05\n",
      "done for url  1661 at 16:49:20\n",
      "done for url  1662 at 16:49:36\n",
      "done for url  1663 at 16:49:54\n",
      "done for url  1664 at 16:50:10\n",
      "done for url  1665 at 16:50:25\n",
      "done for url  1666 at 16:50:43\n",
      "done for url  1667 at 16:51:05\n",
      "done for url  1668 at 16:52:01\n",
      "done for url  1669 at 16:52:19\n",
      "done for url  1670 at 16:52:37\n",
      "done for url  1671 at 16:52:54\n",
      "done for url  1672 at 16:53:12\n",
      "done for url  1673 at 16:53:27\n",
      "done for url  1674 at 16:53:48\n",
      "done for url  1675 at 16:54:05\n",
      "done for url  1676 at 16:54:35\n",
      "done for url  1677 at 16:54:58\n",
      "done for url  1678 at 16:55:12\n",
      "done for url  1679 at 16:55:28\n",
      "done for url  1680 at 16:55:44\n",
      "done for url  1681 at 16:56:00\n",
      "done for url  1682 at 16:56:14\n",
      "done for url  1683 at 16:56:30\n",
      "done for url  1684 at 16:56:45\n",
      "done for url  1685 at 16:57:03\n",
      "done for url  1686 at 16:57:18\n",
      "done for url  1687 at 16:57:35\n",
      "done for url  1688 at 16:57:51\n",
      "done for url  1689 at 16:58:07\n",
      "done for url  1690 at 16:58:23\n",
      "done for url  1691 at 16:58:40\n",
      "done for url  1692 at 16:58:57\n",
      "done for url  1693 at 16:59:19\n",
      "done for url  1694 at 16:59:36\n",
      "done for url  1695 at 16:59:56\n",
      "done for url  1696 at 17:00:11\n",
      "done for url  1697 at 17:00:26\n",
      "done for url  1698 at 17:00:42\n",
      "done for url  1699 at 17:00:59\n",
      "done for url  1700 at 17:01:18\n",
      "done for url  1701 at 17:01:36\n",
      "done for url  1702 at 17:01:50\n",
      "done for url  1703 at 17:02:06\n",
      "done for url  1704 at 17:02:20\n",
      "done for url  1705 at 17:02:33\n",
      "done for url  1706 at 17:02:47\n",
      "done for url  1707 at 17:03:04\n",
      "done for url  1708 at 17:03:43\n",
      "done for url  1709 at 17:04:00\n",
      "done for url  1710 at 17:04:20\n",
      "done for url  1711 at 17:04:38\n",
      "done for url  1712 at 17:04:53\n",
      "done for url  1713 at 17:05:12\n",
      "done for url  1714 at 17:05:28\n",
      "done for url  1715 at 17:05:47\n",
      "done for url  1716 at 17:06:04\n",
      "done for url  1717 at 17:06:20\n",
      "done for url  1718 at 17:06:36\n",
      "done for url  1719 at 17:06:56\n",
      "done for url  1720 at 17:07:11\n",
      "done for url  1721 at 17:07:25\n",
      "done for url  1722 at 17:07:45\n",
      "done for url  1723 at 17:08:01\n",
      "done for url  1724 at 17:08:17\n",
      "done for url  1725 at 17:08:39\n",
      "done for url  1726 at 17:08:57\n",
      "done for url  1727 at 17:09:19\n",
      "done for url  1728 at 17:09:36\n",
      "done for url  1729 at 17:10:14\n",
      "done for url  1730 at 17:10:45\n",
      "done for url  1731 at 17:11:05\n",
      "done for url  1732 at 17:11:30\n",
      "done for url  1733 at 17:11:52\n",
      "done for url  1734 at 17:12:09\n",
      "done for url  1735 at 17:12:31\n",
      "done for url  1736 at 17:12:48\n",
      "done for url  1737 at 17:13:02\n",
      "done for url  1738 at 17:13:16\n",
      "done for url  1739 at 17:13:28\n",
      "done for url  1740 at 17:13:42\n",
      "done for url  1741 at 17:13:57\n",
      "done for url  1742 at 17:14:13\n",
      "done for url  1743 at 17:14:29\n",
      "done for url  1744 at 17:14:43\n",
      "done for url  1745 at 17:14:57\n",
      "done for url  1746 at 17:15:11\n",
      "done for url  1747 at 17:15:25\n",
      "done for url  1748 at 17:15:40\n",
      "done for url  1749 at 17:15:54\n",
      "done for url  1750 at 17:16:05\n",
      "done for url  1751 at 17:16:19\n",
      "done for url  1752 at 17:16:33\n",
      "done for url  1753 at 17:16:49\n",
      "done for url  1754 at 17:17:06\n",
      "done for url  1755 at 17:17:24\n",
      "done for url  1756 at 17:17:41\n",
      "done for url  1757 at 17:17:56\n"
     ]
    },
    {
     "name": "stdout",
     "output_type": "stream",
     "text": [
      "done for url  1758 at 17:18:10\n",
      "done for url  1759 at 17:18:26\n",
      "done for url  1760 at 17:18:41\n",
      "done for url  1761 at 17:18:58\n",
      "done for url  1762 at 17:19:14\n",
      "done for url  1763 at 17:19:28\n",
      "done for url  1764 at 17:19:42\n",
      "done for url  1765 at 17:19:55\n",
      "done for url  1766 at 17:20:08\n",
      "done for url  1767 at 17:20:22\n",
      "done for url  1768 at 17:20:35\n",
      "done for url  1769 at 17:20:49\n",
      "done for url  1770 at 17:21:02\n",
      "done for url  1771 at 17:21:16\n",
      "done for url  1772 at 17:21:32\n",
      "done for url  1773 at 17:21:46\n",
      "done for url  1774 at 17:21:59\n",
      "done for url  1775 at 17:22:14\n",
      "done for url  1776 at 17:22:27\n",
      "done for url  1777 at 17:22:40\n",
      "done for url  1778 at 17:22:53\n",
      "done for url  1779 at 17:23:06\n",
      "done for url  1780 at 17:23:19\n",
      "done for url  1781 at 17:23:31\n",
      "done for url  1782 at 17:23:46\n",
      "done for url  1783 at 17:23:58\n",
      "done for url  1784 at 17:24:12\n",
      "done for url  1785 at 17:24:27\n",
      "done for url  1786 at 17:24:39\n",
      "done for url  1787 at 17:24:52\n",
      "done for url  1788 at 17:25:05\n",
      "done for url  1789 at 17:25:24\n",
      "done for url  1790 at 17:25:35\n",
      "done for url  1791 at 17:25:50\n",
      "done for url  1792 at 17:26:02\n",
      "done for url  1793 at 17:26:16\n",
      "done for url  1794 at 17:26:31\n",
      "done for url  1795 at 17:26:45\n",
      "done for url  1796 at 17:26:55\n",
      "done for url  1797 at 17:27:09\n",
      "done for url  1798 at 17:27:23\n",
      "done for url  1799 at 17:27:34\n",
      "done for url  1800 at 17:27:48\n",
      "done for url  1801 at 17:28:05\n",
      "done for url  1802 at 17:28:19\n",
      "done for url  1803 at 17:28:32\n",
      "done for url  1804 at 17:28:45\n",
      "done for url  1805 at 17:28:59\n",
      "done for url  1806 at 17:29:11\n",
      "done for url  1807 at 17:29:23\n",
      "done for url  1808 at 17:29:38\n",
      "done for url  1809 at 17:29:51\n",
      "done for url  1810 at 17:30:06\n",
      "done for url  1811 at 17:30:20\n",
      "done for url  1812 at 17:30:34\n",
      "done for url  1813 at 17:30:47\n",
      "done for url  1814 at 17:31:00\n",
      "done for url  1815 at 17:31:13\n",
      "done for url  1816 at 17:31:28\n",
      "done for url  1817 at 17:31:44\n",
      "done for url  1818 at 17:32:09\n",
      "done for url  1819 at 17:32:22\n",
      "done for url  1820 at 17:32:38\n",
      "done for url  1821 at 17:32:49\n",
      "done for url  1822 at 17:33:09\n",
      "done for url  1823 at 17:33:24\n",
      "done for url  1824 at 17:33:36\n",
      "done for url  1825 at 17:33:50\n",
      "done for url  1826 at 17:34:05\n",
      "done for url  1827 at 17:34:19\n",
      "done for url  1828 at 17:34:31\n",
      "done for url  1829 at 17:34:44\n",
      "done for url  1830 at 17:35:00\n",
      "done for url  1831 at 17:35:15\n",
      "done for url  1832 at 17:35:32\n",
      "done for url  1833 at 17:35:50\n",
      "done for url  1834 at 17:36:05\n",
      "done for url  1835 at 17:36:20\n",
      "done for url  1836 at 17:36:37\n",
      "done for url  1837 at 17:36:50\n",
      "done for url  1838 at 17:37:05\n",
      "done for url  1839 at 17:37:20\n",
      "done for url  1840 at 17:37:34\n",
      "done for url  1841 at 17:37:50\n",
      "done for url  1842 at 17:38:06\n",
      "done for url  1843 at 17:38:22\n",
      "done for url  1844 at 17:38:44\n",
      "done for url  1845 at 17:38:57\n",
      "done for url  1846 at 17:39:12\n",
      "done for url  1847 at 17:39:27\n",
      "done for url  1848 at 17:39:42\n",
      "done for url  1849 at 17:39:59\n",
      "done for url  1850 at 17:40:15\n",
      "done for url  1851 at 17:40:31\n",
      "done for url  1852 at 17:40:46\n",
      "done for url  1853 at 17:41:00\n",
      "done for url  1854 at 17:41:13\n",
      "done for url  1855 at 17:41:27\n",
      "done for url  1856 at 17:41:42\n",
      "done for url  1857 at 17:41:58\n",
      "done for url  1858 at 17:42:13\n",
      "done for url  1859 at 17:42:30\n",
      "done for url  1860 at 17:42:43\n",
      "done for url  1861 at 17:42:57\n",
      "done for url  1862 at 17:43:12\n",
      "done for url  1863 at 17:43:28\n",
      "done for url  1864 at 17:43:45\n",
      "done for url  1865 at 17:44:02\n",
      "done for url  1866 at 17:44:19\n",
      "done for url  1867 at 17:44:33\n",
      "done for url  1868 at 17:44:50\n",
      "done for url  1869 at 17:45:03\n",
      "done for url  1870 at 17:45:20\n",
      "done for url  1871 at 17:45:36\n",
      "done for url  1872 at 17:45:50\n",
      "done for url  1873 at 17:46:07\n",
      "done for url  1874 at 17:46:24\n",
      "done for url  1875 at 17:46:40\n",
      "done for url  1876 at 17:46:55\n",
      "done for url  1877 at 17:47:07\n",
      "done for url  1878 at 17:47:21\n",
      "done for url  1879 at 17:47:35\n",
      "done for url  1880 at 17:47:51\n",
      "done for url  1881 at 17:48:07\n",
      "done for url  1882 at 17:48:20\n",
      "done for url  1883 at 17:48:34\n",
      "done for url  1884 at 17:48:49\n",
      "done for url  1885 at 17:49:03\n",
      "done for url  1886 at 17:49:19\n",
      "done for url  1887 at 17:49:38\n",
      "done for url  1888 at 17:49:55\n",
      "done for url  1889 at 17:50:10\n",
      "done for url  1890 at 17:50:25\n",
      "done for url  1891 at 17:50:39\n",
      "done for url  1892 at 17:50:54\n",
      "done for url  1893 at 17:51:10\n",
      "done for url  1894 at 17:51:26\n",
      "done for url  1895 at 17:51:41\n",
      "done for url  1896 at 17:51:56\n",
      "done for url  1897 at 17:52:10\n",
      "done for url  1898 at 17:52:26\n",
      "done for url  1899 at 17:52:40\n",
      "done for url  1900 at 17:52:54\n",
      "done for url  1901 at 17:53:08\n",
      "done for url  1902 at 17:53:22\n",
      "done for url  1903 at 17:53:37\n",
      "done for url  1904 at 17:53:52\n",
      "done for url  1905 at 17:54:09\n",
      "done for url  1906 at 17:54:29\n",
      "done for url  1907 at 17:54:46\n",
      "done for url  1908 at 17:55:01\n",
      "done for url  1909 at 17:55:16\n",
      "done for url  1910 at 17:55:34\n",
      "done for url  1911 at 17:55:49\n",
      "done for url  1912 at 17:56:03\n",
      "done for url  1913 at 17:56:16\n",
      "done for url  1914 at 17:56:28\n",
      "done for url  1915 at 17:56:42\n",
      "done for url  1916 at 17:56:56\n",
      "done for url  1917 at 17:57:11\n",
      "done for url  1918 at 17:57:26\n",
      "done for url  1919 at 17:57:40\n",
      "done for url  1920 at 17:57:52\n",
      "done for url  1921 at 17:58:07\n",
      "done for url  1922 at 17:58:21\n",
      "done for url  1923 at 17:58:34\n",
      "done for url  1924 at 17:58:49\n",
      "done for url  1925 at 17:59:03\n",
      "done for url  1926 at 17:59:17\n",
      "done for url  1927 at 17:59:30\n",
      "done for url  1928 at 17:59:45\n",
      "done for url  1929 at 17:59:59\n",
      "done for url  1930 at 18:00:13\n",
      "done for url  1931 at 18:00:27\n",
      "done for url  1932 at 18:00:41\n",
      "done for url  1933 at 18:00:52\n",
      "done for url  1934 at 18:01:05\n",
      "done for url  1935 at 18:01:19\n",
      "done for url  1936 at 18:01:40\n",
      "done for url  1937 at 18:01:54\n",
      "done for url  1938 at 18:02:07\n",
      "done for url  1939 at 18:02:22\n",
      "done for url  1940 at 18:02:36\n",
      "done for url  1941 at 18:02:51\n",
      "done for url  1942 at 18:03:07\n",
      "done for url  1943 at 18:03:21\n",
      "done for url  1944 at 18:03:33\n",
      "done for url  1945 at 18:03:46\n",
      "done for url  1946 at 18:03:59\n",
      "done for url  1947 at 18:04:14\n",
      "done for url  1948 at 18:04:28\n",
      "done for url  1949 at 18:04:43\n",
      "done for url  1950 at 18:04:56\n",
      "done for url  1951 at 18:05:08\n",
      "done for url  1952 at 18:05:23\n",
      "done for url  1953 at 18:05:38\n",
      "done for url  1954 at 18:05:52\n",
      "done for url  1955 at 18:06:05\n",
      "done for url  1956 at 18:06:19\n",
      "done for url  1957 at 18:06:33\n",
      "done for url  1958 at 18:06:46\n",
      "done for url  1959 at 18:07:00\n",
      "done for url  1960 at 18:07:15\n",
      "done for url  1961 at 18:07:29\n",
      "done for url  1962 at 18:07:44\n",
      "done for url  1963 at 18:08:04\n",
      "done for url  1964 at 18:08:18\n",
      "done for url  1965 at 18:08:33\n",
      "done for url  1966 at 18:08:47\n",
      "done for url  1967 at 18:09:02\n",
      "done for url  1968 at 18:09:18\n",
      "done for url  1969 at 18:09:33\n",
      "done for url  1970 at 18:09:51\n",
      "done for url  1971 at 18:10:06\n",
      "done for url  1972 at 18:10:22\n",
      "done for url  1973 at 18:10:37\n",
      "done for url  1974 at 18:10:52\n",
      "done for url  1975 at 18:11:05\n",
      "done for url  1976 at 18:11:18\n",
      "done for url  1977 at 18:11:34\n",
      "done for url  1978 at 18:11:47\n",
      "done for url  1979 at 18:12:02\n",
      "done for url  1980 at 18:12:18\n",
      "done for url  1981 at 18:12:32\n",
      "done for url  1982 at 18:12:47\n",
      "done for url  1983 at 18:13:04\n",
      "done for url  1984 at 18:13:22\n",
      "done for url  1985 at 18:13:40\n",
      "done for url  1986 at 18:13:57\n",
      "done for url  1987 at 18:14:14\n",
      "done for url  1988 at 18:14:30\n",
      "done for url  1989 at 18:14:45\n",
      "done for url  1990 at 18:15:02\n",
      "done for url  1991 at 18:15:19\n",
      "done for url  1992 at 18:15:35\n",
      "done for url  1993 at 18:16:04\n",
      "done for url  1994 at 18:16:19\n",
      "done for url  1995 at 18:16:34\n",
      "done for url  1996 at 18:16:50\n",
      "done for url  1997 at 18:17:03\n",
      "done for url  1998 at 18:17:19\n",
      "done for url  1999 at 18:17:34\n",
      "done for url  2000 at 18:17:50\n",
      "done for url  2001 at 18:18:06\n",
      "done for url  2002 at 18:18:21\n",
      "done for url  2003 at 18:18:36\n",
      "done for url  2004 at 18:18:52\n",
      "done for url  2005 at 18:19:08\n",
      "done for url  2006 at 18:19:24\n",
      "done for url  2007 at 18:19:39\n",
      "done for url  2008 at 18:19:57\n",
      "done for url  2009 at 18:20:14\n",
      "done for url  2010 at 18:20:31\n",
      "done for url  2011 at 18:20:51\n",
      "done for url  2012 at 18:21:05\n",
      "done for url  2013 at 18:21:29\n",
      "done for url  2014 at 18:21:46\n",
      "done for url  2015 at 18:22:03\n",
      "done for url  2016 at 18:22:19\n",
      "done for url  2017 at 18:22:36\n",
      "done for url  2018 at 18:22:51\n",
      "done for url  2019 at 18:23:07\n",
      "done for url  2020 at 18:23:23\n",
      "done for url  2021 at 18:23:37\n",
      "done for url  2022 at 18:23:52\n"
     ]
    },
    {
     "name": "stdout",
     "output_type": "stream",
     "text": [
      "done for url  2023 at 18:24:05\n",
      "done for url  2024 at 18:24:20\n",
      "done for url  2025 at 18:24:35\n",
      "done for url  2026 at 18:24:48\n",
      "done for url  2027 at 18:25:04\n",
      "done for url  2028 at 18:25:20\n",
      "done for url  2029 at 18:25:34\n",
      "done for url  2030 at 18:25:48\n",
      "done for url  2031 at 18:26:02\n",
      "done for url  2032 at 18:26:17\n",
      "done for url  2033 at 18:26:30\n",
      "done for url  2034 at 18:26:42\n",
      "done for url  2035 at 18:26:57\n",
      "done for url  2036 at 18:27:12\n",
      "done for url  2037 at 18:27:26\n",
      "done for url  2038 at 18:27:40\n",
      "done for url  2039 at 18:27:54\n",
      "done for url  2040 at 18:28:14\n",
      "done for url  2041 at 18:28:28\n",
      "done for url  2042 at 18:28:53\n",
      "done for url  2043 at 18:29:06\n",
      "done for url  2044 at 18:29:20\n",
      "done for url  2045 at 18:29:53\n",
      "done for url  2046 at 18:30:08\n",
      "done for url  2047 at 18:30:23\n",
      "done for url  2048 at 18:30:39\n",
      "done for url  2049 at 18:30:55\n",
      "done for url  2050 at 18:31:11\n",
      "done for url  2051 at 18:31:25\n",
      "done for url  2052 at 18:31:41\n",
      "done for url  2053 at 18:31:57\n",
      "done for url  2054 at 18:32:09\n",
      "done for url  2055 at 18:32:25\n",
      "done for url  2056 at 18:32:40\n",
      "done for url  2057 at 18:32:58\n",
      "done for url  2058 at 18:33:14\n",
      "done for url  2059 at 18:33:30\n",
      "done for url  2060 at 18:33:50\n",
      "done for url  2061 at 18:34:04\n",
      "done for url  2062 at 18:34:20\n",
      "done for url  2063 at 18:34:35\n",
      "done for url  2064 at 18:34:49\n",
      "done for url  2065 at 18:35:04\n",
      "done for url  2066 at 18:35:21\n",
      "done for url  2067 at 18:35:35\n",
      "done for url  2068 at 18:35:49\n",
      "done for url  2069 at 18:36:03\n",
      "done for url  2070 at 18:36:19\n",
      "done for url  2071 at 18:36:31\n",
      "done for url  2072 at 18:36:45\n",
      "done for url  2073 at 18:37:03\n",
      "done for url  2074 at 18:37:18\n",
      "done for url  2075 at 18:37:31\n",
      "done for url  2076 at 18:37:43\n",
      "done for url  2077 at 18:37:58\n",
      "done for url  2078 at 18:38:11\n",
      "done for url  2079 at 18:38:27\n",
      "done for url  2080 at 18:38:41\n",
      "done for url  2081 at 18:38:53\n",
      "done for url  2082 at 18:39:07\n",
      "done for url  2083 at 18:39:23\n",
      "done for url  2084 at 18:39:41\n",
      "done for url  2085 at 18:39:56\n",
      "done for url  2086 at 18:40:12\n",
      "done for url  2087 at 18:40:28\n",
      "done for url  2088 at 18:40:43\n",
      "done for url  2089 at 18:40:58\n",
      "done for url  2090 at 18:41:12\n",
      "done for url  2091 at 18:41:28\n",
      "done for url  2092 at 18:41:45\n",
      "done for url  2093 at 18:42:03\n",
      "done for url  2094 at 18:42:21\n",
      "done for url  2095 at 18:42:35\n",
      "done for url  2096 at 18:42:50\n",
      "done for url  2097 at 18:43:06\n",
      "done for url  2098 at 18:43:23\n",
      "done for url  2099 at 18:43:38\n",
      "done for url  2100 at 18:43:52\n",
      "done for url  2101 at 18:44:08\n",
      "done for url  2102 at 18:44:23\n",
      "done for url  2103 at 18:44:39\n",
      "done for url  2104 at 18:44:57\n",
      "done for url  2105 at 18:45:12\n",
      "done for url  2106 at 18:45:30\n",
      "done for url  2107 at 18:45:48\n",
      "done for url  2108 at 18:46:02\n",
      "done for url  2109 at 18:46:21\n",
      "done for url  2110 at 18:46:38\n",
      "done for url  2111 at 18:46:54\n",
      "done for url  2112 at 18:47:08\n",
      "done for url  2113 at 18:47:26\n",
      "done for url  2114 at 18:47:40\n",
      "done for url  2115 at 18:47:56\n",
      "done for url  2116 at 18:48:11\n",
      "done for url  2117 at 18:48:28\n",
      "done for url  2118 at 18:48:42\n",
      "done for url  2119 at 18:48:59\n",
      "done for url  2120 at 18:49:15\n",
      "done for url  2121 at 18:49:32\n",
      "done for url  2122 at 18:49:48\n",
      "done for url  2123 at 18:50:04\n",
      "done for url  2124 at 18:50:19\n",
      "done for url  2125 at 18:50:32\n",
      "done for url  2126 at 18:50:45\n",
      "done for url  2127 at 18:51:00\n",
      "done for url  2128 at 18:51:16\n",
      "done for url  2129 at 18:51:33\n",
      "done for url  2130 at 18:51:47\n",
      "done for url  2131 at 18:52:15\n",
      "done for url  2132 at 18:52:46\n",
      "done for url  2133 at 18:53:12\n",
      "done for url  2134 at 18:53:40\n",
      "done for url  2135 at 18:53:59\n",
      "done for url  2136 at 18:54:13\n",
      "done for url  2137 at 18:54:28\n",
      "done for url  2138 at 18:54:45\n",
      "done for url  2139 at 18:55:08\n",
      "done for url  2140 at 18:55:25\n",
      "done for url  2141 at 18:55:40\n",
      "done for url  2142 at 18:55:54\n",
      "done for url  2143 at 18:56:08\n",
      "done for url  2144 at 18:56:24\n",
      "done for url  2145 at 18:56:41\n",
      "done for url  2146 at 18:56:54\n",
      "done for url  2147 at 18:57:10\n",
      "done for url  2148 at 18:57:25\n",
      "done for url  2149 at 18:57:39\n",
      "done for url  2150 at 18:57:53\n",
      "done for url  2151 at 18:58:08\n",
      "done for url  2152 at 18:58:25\n",
      "done for url  2153 at 18:58:41\n",
      "done for url  2154 at 18:58:57\n",
      "done for url  2155 at 18:59:13\n",
      "done for url  2156 at 18:59:31\n",
      "done for url  2157 at 18:59:47\n",
      "done for url  2158 at 19:00:03\n",
      "done for url  2159 at 19:00:36\n",
      "done for url  2160 at 19:00:58\n",
      "done for url  2161 at 19:01:16\n",
      "done for url  2162 at 19:01:31\n",
      "done for url  2163 at 19:01:46\n",
      "done for url  2164 at 19:02:00\n",
      "done for url  2165 at 19:02:17\n",
      "done for url  2166 at 19:02:34\n",
      "done for url  2167 at 19:02:55\n",
      "done for url  2168 at 19:03:10\n",
      "done for url  2169 at 19:03:24\n",
      "done for url  2170 at 19:03:39\n",
      "done for url  2171 at 19:03:51\n",
      "done for url  2172 at 19:04:08\n",
      "done for url  2173 at 19:04:23\n",
      "done for url  2174 at 19:04:37\n",
      "done for url  2175 at 19:04:53\n",
      "done for url  2176 at 19:05:08\n",
      "done for url  2177 at 19:05:23\n",
      "done for url  2178 at 19:05:39\n",
      "done for url  2179 at 19:05:54\n",
      "done for url  2180 at 19:06:09\n",
      "done for url  2181 at 19:06:29\n",
      "done for url  2182 at 19:06:47\n",
      "done for url  2183 at 19:07:03\n",
      "done for url  2184 at 19:07:16\n",
      "done for url  2185 at 19:07:31\n",
      "done for url  2186 at 19:07:47\n",
      "done for url  2187 at 19:08:01\n",
      "done for url  2188 at 19:08:15\n",
      "done for url  2189 at 19:08:30\n",
      "done for url  2190 at 19:08:46\n",
      "done for url  2191 at 19:09:02\n",
      "done for url  2192 at 19:09:19\n",
      "done for url  2193 at 19:09:33\n",
      "done for url  2194 at 19:09:46\n",
      "done for url  2195 at 19:09:59\n",
      "done for url  2196 at 19:10:11\n",
      "done for url  2197 at 19:10:26\n",
      "done for url  2198 at 19:10:39\n",
      "done for url  2199 at 19:10:54\n",
      "done for url  2200 at 19:11:09\n",
      "done for url  2201 at 19:11:23\n",
      "done for url  2202 at 19:11:36\n",
      "done for url  2203 at 19:11:48\n",
      "done for url  2204 at 19:12:04\n",
      "done for url  2205 at 19:12:18\n",
      "done for url  2206 at 19:12:33\n",
      "done for url  2207 at 19:12:48\n",
      "done for url  2208 at 19:13:02\n",
      "done for url  2209 at 19:13:18\n",
      "done for url  2210 at 19:13:32\n",
      "done for url  2211 at 19:13:45\n",
      "done for url  2212 at 19:13:57\n",
      "done for url  2213 at 19:14:09\n",
      "done for url  2214 at 19:14:23\n",
      "done for url  2215 at 19:14:38\n",
      "done for url  2216 at 19:14:53\n",
      "done for url  2217 at 19:15:07\n",
      "done for url  2218 at 19:15:21\n",
      "done for url  2219 at 19:15:37\n",
      "done for url  2220 at 19:15:51\n",
      "done for url  2221 at 19:16:06\n",
      "done for url  2222 at 19:16:19\n",
      "done for url  2223 at 19:16:33\n",
      "done for url  2224 at 19:16:47\n",
      "done for url  2225 at 19:17:01\n",
      "done for url  2226 at 19:17:14\n",
      "done for url  2227 at 19:17:27\n",
      "done for url  2228 at 19:17:39\n",
      "done for url  2229 at 19:17:52\n",
      "done for url  2230 at 19:18:05\n",
      "done for url  2231 at 19:18:20\n",
      "done for url  2232 at 19:18:34\n",
      "done for url  2233 at 19:18:46\n",
      "done for url  2234 at 19:19:00\n",
      "done for url  2235 at 19:19:12\n",
      "done for url  2236 at 19:19:27\n",
      "done for url  2237 at 19:19:41\n",
      "done for url  2238 at 19:19:57\n",
      "done for url  2239 at 19:20:12\n",
      "done for url  2240 at 19:20:26\n",
      "done for url  2241 at 19:20:40\n",
      "done for url  2242 at 19:20:55\n",
      "done for url  2243 at 19:21:09\n",
      "done for url  2244 at 19:21:24\n",
      "done for url  2245 at 19:21:36\n",
      "done for url  2246 at 19:21:51\n",
      "done for url  2247 at 19:22:05\n",
      "done for url  2248 at 19:22:20\n",
      "done for url  2249 at 19:22:34\n",
      "done for url  2250 at 19:22:47\n",
      "done for url  2251 at 19:23:00\n",
      "done for url  2252 at 19:23:16\n",
      "done for url  2253 at 19:23:31\n",
      "done for url  2254 at 19:23:46\n",
      "done for url  2255 at 19:24:11\n",
      "done for url  2256 at 19:24:38\n",
      "done for url  2257 at 19:24:55\n",
      "done for url  2258 at 19:25:10\n",
      "done for url  2259 at 19:25:24\n",
      "done for url  2260 at 19:25:39\n",
      "done for url  2261 at 19:25:53\n",
      "done for url  2262 at 19:26:08\n",
      "done for url  2263 at 19:26:24\n",
      "done for url  2264 at 19:26:39\n",
      "done for url  2265 at 19:26:56\n",
      "done for url  2266 at 19:27:09\n",
      "done for url  2267 at 19:27:23\n",
      "done for url  2268 at 19:27:38\n",
      "done for url  2269 at 19:27:53\n",
      "done for url  2270 at 19:28:07\n",
      "done for url  2271 at 19:28:21\n",
      "done for url  2272 at 19:28:35\n",
      "done for url  2273 at 19:28:51\n",
      "done for url  2274 at 19:30:59\n",
      "done for url  2275 at 19:31:14\n",
      "done for url  2276 at 19:31:28\n",
      "done for url  2277 at 19:31:43\n",
      "done for url  2278 at 19:31:55\n",
      "done for url  2279 at 19:32:10\n",
      "done for url  2280 at 19:32:24\n",
      "done for url  2281 at 19:32:36\n",
      "done for url  2282 at 19:32:52\n",
      "done for url  2283 at 19:33:07\n",
      "done for url  2284 at 19:33:22\n",
      "done for url  2285 at 19:33:36\n",
      "done for url  2286 at 19:33:51\n",
      "done for url  2287 at 19:34:07\n"
     ]
    },
    {
     "name": "stdout",
     "output_type": "stream",
     "text": [
      "done for url  2288 at 19:34:23\n",
      "done for url  2289 at 19:34:38\n",
      "done for url  2290 at 19:34:53\n",
      "done for url  2291 at 19:35:10\n",
      "done for url  2292 at 19:35:25\n",
      "done for url  2293 at 19:35:41\n",
      "done for url  2294 at 19:35:57\n",
      "done for url  2295 at 19:36:14\n",
      "done for url  2296 at 19:36:30\n",
      "done for url  2297 at 19:36:50\n",
      "done for url  2298 at 19:37:06\n",
      "done for url  2299 at 19:37:22\n",
      "done for url  2300 at 19:37:37\n",
      "done for url  2301 at 19:37:54\n",
      "done for url  2302 at 19:38:10\n",
      "done for url  2303 at 19:38:28\n",
      "done for url  2304 at 19:38:43\n",
      "done for url  2305 at 19:38:58\n",
      "done for url  2306 at 19:39:11\n",
      "done for url  2307 at 19:39:26\n",
      "done for url  2308 at 19:39:44\n",
      "done for url  2309 at 19:40:00\n",
      "done for url  2310 at 19:40:17\n",
      "done for url  2311 at 19:40:31\n",
      "done for url  2312 at 19:40:47\n",
      "done for url  2313 at 19:41:02\n",
      "done for url  2314 at 19:41:18\n",
      "done for url  2315 at 19:41:33\n",
      "done for url  2316 at 19:41:50\n",
      "done for url  2317 at 19:42:06\n",
      "done for url  2318 at 19:42:20\n",
      "done for url  2319 at 19:42:36\n",
      "done for url  2320 at 19:42:51\n",
      "done for url  2321 at 19:43:07\n",
      "done for url  2322 at 19:43:22\n",
      "done for url  2323 at 19:43:36\n",
      "done for url  2324 at 19:43:52\n",
      "done for url  2325 at 19:44:06\n",
      "done for url  2326 at 19:44:21\n",
      "done for url  2327 at 19:44:35\n",
      "done for url  2328 at 19:44:50\n",
      "done for url  2329 at 19:45:04\n",
      "done for url  2330 at 19:45:18\n",
      "done for url  2331 at 19:45:32\n",
      "done for url  2332 at 19:45:44\n",
      "done for url  2333 at 19:45:57\n",
      "done for url  2334 at 19:46:10\n",
      "done for url  2335 at 19:46:25\n",
      "done for url  2336 at 19:46:39\n",
      "done for url  2337 at 19:46:53\n",
      "done for url  2338 at 19:47:07\n",
      "done for url  2339 at 19:47:21\n",
      "done for url  2340 at 19:47:34\n",
      "done for url  2341 at 19:47:46\n",
      "done for url  2342 at 19:48:00\n",
      "done for url  2343 at 19:48:12\n",
      "done for url  2344 at 19:48:28\n",
      "done for url  2345 at 19:48:43\n",
      "done for url  2346 at 19:48:56\n",
      "done for url  2347 at 19:49:11\n",
      "done for url  2348 at 19:49:26\n",
      "done for url  2349 at 19:49:38\n",
      "done for url  2350 at 19:49:52\n",
      "done for url  2351 at 19:50:08\n",
      "done for url  2352 at 19:50:27\n",
      "done for url  2353 at 19:50:42\n",
      "done for url  2354 at 19:50:57\n",
      "done for url  2355 at 19:51:11\n",
      "done for url  2356 at 19:51:26\n",
      "done for url  2357 at 19:51:42\n",
      "done for url  2358 at 19:51:59\n",
      "done for url  2359 at 19:52:16\n",
      "done for url  2360 at 19:52:31\n",
      "done for url  2361 at 19:52:47\n",
      "done for url  2362 at 19:53:05\n",
      "done for url  2363 at 19:53:19\n",
      "done for url  2364 at 19:53:34\n",
      "done for url  2365 at 19:53:49\n",
      "done for url  2366 at 19:54:05\n",
      "done for url  2367 at 19:54:21\n",
      "done for url  2368 at 19:54:37\n",
      "done for url  2369 at 19:54:52\n",
      "done for url  2370 at 19:55:07\n",
      "done for url  2371 at 19:55:25\n",
      "done for url  2372 at 19:55:42\n",
      "done for url  2373 at 19:55:58\n",
      "done for url  2374 at 19:56:15\n",
      "done for url  2375 at 19:56:29\n",
      "done for url  2376 at 19:56:36\n",
      "done for url  2377 at 19:56:55\n",
      "done for url  2378 at 19:57:12\n",
      "done for url  2379 at 19:57:30\n",
      "done for url  2380 at 19:57:48\n",
      "done for url  2381 at 19:58:06\n",
      "done for url  2382 at 19:58:26\n",
      "done for url  2383 at 19:58:45\n",
      "done for url  2384 at 19:59:03\n",
      "done for url  2385 at 19:59:19\n",
      "done for url  2386 at 19:59:36\n",
      "done for url  2387 at 19:59:54\n",
      "done for url  2388 at 20:00:13\n",
      "done for url  2389 at 20:00:32\n",
      "done for url  2390 at 20:00:49\n",
      "done for url  2391 at 20:01:05\n",
      "done for url  2392 at 20:01:24\n",
      "done for url  2393 at 20:01:41\n",
      "done for url  2394 at 20:01:58\n",
      "done for url  2395 at 20:02:14\n",
      "done for url  2396 at 20:02:28\n",
      "done for url  2397 at 20:02:42\n",
      "done for url  2398 at 20:02:57\n",
      "done for url  2399 at 20:03:12\n",
      "done for url  2400 at 20:03:27\n",
      "done for url  2401 at 20:03:41\n",
      "done for url  2402 at 20:03:59\n",
      "done for url  2403 at 20:04:12\n",
      "done for url  2404 at 20:04:26\n",
      "done for url  2405 at 20:04:40\n",
      "done for url  2406 at 20:04:53\n",
      "done for url  2407 at 20:05:08\n",
      "done for url  2408 at 20:05:22\n",
      "done for url  2409 at 20:05:34\n",
      "done for url  2410 at 20:05:50\n",
      "done for url  2411 at 20:06:05\n",
      "done for url  2412 at 20:06:19\n",
      "done for url  2413 at 20:06:33\n",
      "done for url  2414 at 20:06:45\n",
      "done for url  2415 at 20:06:57\n",
      "done for url  2416 at 20:07:11\n",
      "done for url  2417 at 20:07:25\n",
      "done for url  2418 at 20:07:37\n",
      "done for url  2419 at 20:07:52\n",
      "done for url  2420 at 20:08:06\n",
      "done for url  2421 at 20:08:17\n",
      "done for url  2422 at 20:08:31\n",
      "done for url  2423 at 20:08:45\n",
      "done for url  2424 at 20:08:59\n",
      "done for url  2425 at 20:09:11\n",
      "done for url  2426 at 20:09:23\n",
      "done for url  2427 at 20:09:36\n",
      "done for url  2428 at 20:09:50\n",
      "done for url  2429 at 20:10:04\n",
      "done for url  2430 at 20:10:19\n",
      "done for url  2431 at 20:10:33\n",
      "done for url  2432 at 20:10:45\n",
      "done for url  2433 at 20:11:00\n",
      "done for url  2434 at 20:11:15\n",
      "done for url  2435 at 20:11:29\n",
      "done for url  2436 at 20:11:42\n",
      "done for url  2437 at 20:11:56\n",
      "done for url  2438 at 20:12:11\n",
      "done for url  2439 at 20:12:25\n",
      "done for url  2440 at 20:12:37\n",
      "done for url  2441 at 20:12:50\n",
      "done for url  2442 at 20:13:02\n",
      "done for url  2443 at 20:13:16\n",
      "done for url  2444 at 20:13:29\n",
      "done for url  2445 at 20:13:41\n",
      "done for url  2446 at 20:13:54\n",
      "done for url  2447 at 20:14:07\n",
      "done for url  2448 at 20:14:20\n",
      "done for url  2449 at 20:14:34\n",
      "done for url  2450 at 20:14:46\n",
      "done for url  2451 at 20:14:59\n",
      "done for url  2452 at 20:15:11\n",
      "done for url  2453 at 20:15:25\n",
      "done for url  2454 at 20:15:37\n",
      "done for url  2455 at 20:15:47\n",
      "done for url  2456 at 20:15:59\n",
      "done for url  2457 at 20:16:12\n",
      "done for url  2458 at 20:16:26\n",
      "done for url  2459 at 20:16:38\n",
      "done for url  2460 at 20:16:52\n",
      "done for url  2461 at 20:17:06\n",
      "done for url  2462 at 20:17:20\n",
      "done for url  2463 at 20:17:33\n",
      "done for url  2464 at 20:17:46\n",
      "done for url  2465 at 20:17:57\n",
      "done for url  2466 at 20:18:10\n",
      "done for url  2467 at 20:18:25\n",
      "done for url  2468 at 20:18:37\n",
      "done for url  2469 at 20:18:51\n",
      "done for url  2470 at 20:19:02\n",
      "done for url  2471 at 20:19:15\n",
      "done for url  2472 at 20:19:29\n",
      "done for url  2473 at 20:19:46\n",
      "done for url  2474 at 20:20:00\n",
      "done for url  2475 at 20:20:14\n",
      "done for url  2476 at 20:20:29\n",
      "done for url  2477 at 20:20:42\n",
      "done for url  2478 at 20:20:55\n",
      "done for url  2479 at 20:21:10\n",
      "done for url  2480 at 20:21:24\n",
      "done for url  2481 at 20:21:38\n",
      "done for url  2482 at 20:21:50\n",
      "done for url  2483 at 20:22:03\n",
      "done for url  2484 at 20:22:18\n",
      "done for url  2485 at 20:22:32\n",
      "done for url  2486 at 20:22:44\n",
      "done for url  2487 at 20:22:57\n",
      "done for url  2488 at 20:23:10\n",
      "done for url  2489 at 20:23:26\n",
      "done for url  2490 at 20:23:39\n",
      "done for url  2491 at 20:23:55\n",
      "done for url  2492 at 20:24:08\n",
      "done for url  2493 at 20:24:21\n",
      "done for url  2494 at 20:24:36\n",
      "done for url  2495 at 20:24:50\n",
      "done for url  2496 at 20:25:03\n",
      "done for url  2497 at 20:25:17\n",
      "done for url  2498 at 20:25:34\n",
      "done for url  2499 at 20:25:47\n",
      "done for url  2500 at 20:26:01\n",
      "done for url  2501 at 20:26:14\n",
      "done for url  2502 at 20:26:30\n",
      "done for url  2503 at 20:26:44\n",
      "done for url  2504 at 20:26:58\n",
      "done for url  2505 at 20:27:12\n",
      "done for url  2506 at 20:27:25\n",
      "done for url  2507 at 20:27:39\n",
      "done for url  2508 at 20:27:51\n",
      "done for url  2509 at 20:28:05\n",
      "done for url  2510 at 20:28:17\n",
      "done for url  2511 at 20:28:30\n",
      "done for url  2512 at 20:28:42\n",
      "done for url  2513 at 20:28:53\n",
      "done for url  2514 at 20:29:08\n",
      "done for url  2515 at 20:29:20\n",
      "done for url  2516 at 20:29:34\n",
      "done for url  2517 at 20:29:49\n",
      "done for url  2518 at 20:30:02\n",
      "done for url  2519 at 20:30:16\n",
      "done for url  2520 at 20:30:28\n",
      "done for url  2521 at 20:30:41\n",
      "done for url  2522 at 20:30:54\n",
      "done for url  2523 at 20:31:08\n",
      "done for url  2524 at 20:31:22\n",
      "done for url  2525 at 20:31:32\n",
      "done for url  2526 at 20:31:45\n",
      "done for url  2527 at 20:31:57\n",
      "done for url  2528 at 20:32:09\n",
      "done for url  2529 at 20:32:21\n",
      "done for url  2530 at 20:32:33\n",
      "done for url  2531 at 20:32:45\n",
      "done for url  2532 at 20:32:58\n",
      "done for url  2533 at 20:33:09\n",
      "done for url  2534 at 20:33:20\n",
      "done for url  2535 at 20:33:32\n",
      "done for url  2536 at 20:33:43\n",
      "done for url  2537 at 20:33:56\n",
      "done for url  2538 at 20:34:10\n",
      "done for url  2539 at 20:34:24\n",
      "done for url  2540 at 20:34:38\n",
      "done for url  2541 at 20:34:52\n",
      "done for url  2542 at 20:35:05\n",
      "done for url  2543 at 20:35:17\n",
      "done for url  2544 at 20:35:29\n",
      "done for url  2545 at 20:35:41\n",
      "done for url  2546 at 20:35:54\n",
      "done for url  2547 at 20:36:07\n",
      "done for url  2548 at 20:36:19\n",
      "done for url  2549 at 20:36:33\n",
      "done for url  2550 at 20:36:46\n",
      "done for url  2551 at 20:37:01\n",
      "done for url  2552 at 20:37:16\n"
     ]
    },
    {
     "name": "stdout",
     "output_type": "stream",
     "text": [
      "done for url  2553 at 20:37:31\n",
      "done for url  2554 at 20:37:44\n",
      "done for url  2555 at 20:37:58\n",
      "done for url  2556 at 20:38:09\n",
      "done for url  2557 at 20:38:23\n",
      "done for url  2558 at 20:38:37\n",
      "done for url  2559 at 20:38:51\n",
      "done for url  2560 at 20:39:04\n",
      "done for url  2561 at 20:39:16\n",
      "done for url  2562 at 20:39:28\n",
      "done for url  2563 at 20:39:40\n",
      "done for url  2564 at 20:39:53\n",
      "done for url  2565 at 20:40:03\n",
      "done for url  2566 at 20:40:18\n",
      "done for url  2567 at 20:40:30\n",
      "done for url  2568 at 20:40:42\n",
      "done for url  2569 at 20:40:55\n",
      "done for url  2570 at 20:41:07\n",
      "done for url  2571 at 20:41:23\n",
      "done for url  2572 at 20:41:34\n",
      "done for url  2573 at 20:41:48\n",
      "done for url  2574 at 20:42:01\n",
      "done for url  2575 at 20:42:22\n",
      "done for url  2576 at 20:42:38\n",
      "done for url  2577 at 20:42:52\n",
      "done for url  2578 at 20:43:05\n",
      "done for url  2579 at 20:43:16\n",
      "done for url  2580 at 20:43:29\n",
      "done for url  2581 at 20:43:42\n",
      "done for url  2582 at 20:43:57\n",
      "done for url  2583 at 20:44:08\n",
      "done for url  2584 at 20:44:19\n",
      "done for url  2585 at 20:44:31\n",
      "done for url  2586 at 20:44:44\n",
      "done for url  2587 at 20:44:57\n",
      "done for url  2588 at 20:45:08\n",
      "done for url  2589 at 20:45:21\n",
      "done for url  2590 at 20:45:35\n",
      "done for url  2591 at 20:45:48\n",
      "done for url  2592 at 20:45:59\n",
      "done for url  2593 at 20:46:13\n",
      "done for url  2594 at 20:46:27\n",
      "done for url  2595 at 20:46:42\n",
      "done for url  2596 at 20:46:55\n",
      "done for url  2597 at 20:47:07\n",
      "done for url  2598 at 20:47:21\n",
      "done for url  2599 at 20:47:34\n",
      "done for url  2600 at 20:47:46\n",
      "done for url  2601 at 20:47:59\n",
      "done for url  2602 at 20:48:12\n",
      "done for url  2603 at 20:48:24\n",
      "done for url  2604 at 20:48:36\n",
      "done for url  2605 at 20:48:48\n",
      "done for url  2606 at 20:49:03\n",
      "done for url  2607 at 20:49:15\n",
      "done for url  2608 at 20:49:29\n",
      "done for url  2609 at 20:49:41\n",
      "done for url  2610 at 20:49:54\n",
      "done for url  2611 at 20:50:06\n",
      "done for url  2612 at 20:50:19\n",
      "done for url  2613 at 20:50:32\n",
      "done for url  2614 at 20:50:45\n",
      "done for url  2615 at 20:50:58\n",
      "done for url  2616 at 20:51:11\n",
      "done for url  2617 at 20:51:27\n",
      "done for url  2618 at 20:51:41\n",
      "done for url  2619 at 20:51:56\n",
      "done for url  2620 at 20:52:09\n",
      "done for url  2621 at 20:52:20\n",
      "done for url  2622 at 20:52:32\n",
      "done for url  2623 at 20:52:45\n",
      "done for url  2624 at 20:52:56\n",
      "done for url  2625 at 20:53:09\n",
      "done for url  2626 at 20:53:23\n",
      "done for url  2627 at 20:53:36\n",
      "done for url  2628 at 20:53:50\n",
      "done for url  2629 at 20:54:05\n",
      "done for url  2630 at 20:54:18\n",
      "done for url  2631 at 20:54:32\n",
      "done for url  2632 at 20:54:44\n",
      "done for url  2633 at 20:54:58\n",
      "done for url  2634 at 20:55:12\n",
      "done for url  2635 at 20:55:26\n",
      "done for url  2636 at 20:55:39\n",
      "done for url  2637 at 20:55:50\n",
      "done for url  2638 at 20:56:02\n",
      "done for url  2639 at 20:56:14\n",
      "done for url  2640 at 20:56:26\n",
      "done for url  2641 at 20:56:38\n",
      "done for url  2642 at 20:56:50\n",
      "done for url  2643 at 20:57:04\n",
      "done for url  2644 at 20:57:16\n",
      "done for url  2645 at 20:57:31\n",
      "done for url  2646 at 20:57:43\n",
      "done for url  2647 at 20:57:59\n",
      "done for url  2648 at 20:58:13\n",
      "done for url  2649 at 20:58:26\n",
      "done for url  2650 at 20:58:39\n",
      "done for url  2651 at 20:58:53\n",
      "done for url  2652 at 20:59:06\n",
      "done for url  2653 at 20:59:19\n",
      "done for url  2654 at 20:59:32\n",
      "done for url  2655 at 20:59:43\n",
      "done for url  2656 at 20:59:56\n",
      "done for url  2657 at 21:00:10\n",
      "done for url  2658 at 21:00:22\n",
      "done for url  2659 at 21:00:33\n",
      "done for url  2660 at 21:00:46\n",
      "done for url  2661 at 21:00:59\n",
      "done for url  2662 at 21:01:11\n",
      "done for url  2663 at 21:01:23\n",
      "done for url  2664 at 21:01:36\n",
      "done for url  2665 at 21:01:49\n",
      "done for url  2666 at 21:02:03\n",
      "done for url  2667 at 21:02:16\n",
      "done for url  2668 at 21:02:29\n",
      "done for url  2669 at 21:02:42\n",
      "done for url  2670 at 21:02:56\n",
      "done for url  2671 at 21:03:10\n",
      "done for url  2672 at 21:03:24\n",
      "done for url  2673 at 21:03:39\n",
      "done for url  2674 at 21:03:52\n",
      "done for url  2675 at 21:04:03\n",
      "done for url  2676 at 21:04:15\n",
      "done for url  2677 at 21:04:29\n",
      "done for url  2678 at 21:04:43\n",
      "done for url  2679 at 21:04:55\n",
      "done for url  2680 at 21:05:09\n",
      "done for url  2681 at 21:05:22\n",
      "done for url  2682 at 21:05:33\n",
      "done for url  2683 at 21:05:46\n",
      "done for url  2684 at 21:06:00\n",
      "done for url  2685 at 21:06:12\n",
      "done for url  2686 at 21:06:25\n",
      "done for url  2687 at 21:06:40\n",
      "done for url  2688 at 21:06:52\n",
      "done for url  2689 at 21:09:05\n",
      "done for url  2690 at 21:09:20\n",
      "done for url  2691 at 21:09:32\n",
      "done for url  2692 at 21:09:45\n",
      "done for url  2693 at 21:09:56\n",
      "done for url  2694 at 21:10:09\n",
      "done for url  2695 at 21:10:22\n",
      "done for url  2696 at 21:10:35\n",
      "done for url  2697 at 21:10:47\n",
      "done for url  2698 at 21:11:01\n",
      "done for url  2699 at 21:11:14\n",
      "done for url  2700 at 21:11:28\n",
      "done for url  2701 at 21:11:42\n",
      "done for url  2702 at 21:11:56\n",
      "done for url  2703 at 21:12:10\n",
      "done for url  2704 at 21:12:24\n",
      "done for url  2705 at 21:12:36\n",
      "done for url  2706 at 21:12:48\n",
      "done for url  2707 at 21:13:01\n",
      "done for url  2708 at 21:13:16\n",
      "done for url  2709 at 21:13:30\n",
      "done for url  2710 at 21:13:41\n",
      "done for url  2711 at 21:13:57\n",
      "done for url  2712 at 21:14:08\n",
      "done for url  2713 at 21:14:22\n",
      "done for url  2714 at 21:14:36\n",
      "done for url  2715 at 21:14:48\n",
      "done for url  2716 at 21:15:00\n",
      "done for url  2717 at 21:15:12\n",
      "done for url  2718 at 21:15:26\n",
      "done for url  2719 at 21:15:38\n",
      "done for url  2720 at 21:15:50\n",
      "done for url  2721 at 21:16:02\n",
      "done for url  2722 at 21:16:16\n",
      "done for url  2723 at 21:16:32\n",
      "done for url  2724 at 21:16:45\n",
      "done for url  2725 at 21:17:06\n",
      "done for url  2726 at 21:17:30\n",
      "done for url  2727 at 21:17:45\n",
      "done for url  2728 at 21:17:57\n",
      "done for url  2729 at 21:18:10\n",
      "done for url  2730 at 21:18:24\n",
      "done for url  2731 at 21:18:39\n",
      "done for url  2732 at 21:18:52\n",
      "done for url  2733 at 21:19:06\n",
      "done for url  2734 at 21:19:19\n",
      "done for url  2735 at 21:19:32\n",
      "done for url  2736 at 21:19:44\n",
      "done for url  2737 at 21:19:57\n",
      "done for url  2738 at 21:20:11\n",
      "done for url  2739 at 21:20:25\n",
      "done for url  2740 at 21:20:39\n",
      "done for url  2741 at 21:20:51\n",
      "done for url  2742 at 21:21:04\n",
      "done for url  2743 at 21:21:17\n",
      "done for url  2744 at 21:21:32\n",
      "done for url  2745 at 21:21:44\n",
      "done for url  2746 at 21:21:56\n",
      "done for url  2747 at 21:22:08\n",
      "done for url  2748 at 21:22:28\n",
      "done for url  2749 at 21:22:43\n",
      "done for url  2750 at 21:22:55\n",
      "done for url  2751 at 21:23:09\n",
      "done for url  2752 at 21:23:23\n",
      "done for url  2753 at 21:23:35\n",
      "done for url  2754 at 21:23:49\n",
      "done for url  2755 at 21:24:03\n",
      "done for url  2756 at 21:24:17\n",
      "done for url  2757 at 21:24:40\n",
      "done for url  2758 at 21:24:54\n",
      "done for url  2759 at 21:25:10\n",
      "done for url  2760 at 21:25:22\n",
      "done for url  2761 at 21:25:36\n",
      "done for url  2762 at 21:25:49\n",
      "done for url  2763 at 21:26:02\n",
      "done for url  2764 at 21:26:14\n",
      "done for url  2765 at 21:26:25\n",
      "done for url  2766 at 21:26:38\n",
      "done for url  2767 at 21:26:52\n",
      "done for url  2768 at 21:27:06\n",
      "done for url  2769 at 21:27:20\n",
      "done for url  2770 at 21:27:33\n",
      "done for url  2771 at 21:27:46\n",
      "done for url  2772 at 21:28:00\n",
      "done for url  2773 at 21:28:13\n",
      "done for url  2774 at 21:28:25\n",
      "done for url  2775 at 21:28:37\n",
      "done for url  2776 at 21:28:50\n",
      "done for url  2777 at 21:29:03\n",
      "done for url  2778 at 21:29:17\n",
      "done for url  2779 at 21:29:31\n",
      "done for url  2780 at 21:29:42\n",
      "done for url  2781 at 21:29:54\n",
      "done for url  2782 at 21:30:07\n",
      "done for url  2783 at 21:30:20\n",
      "done for url  2784 at 21:30:34\n",
      "done for url  2785 at 21:30:46\n",
      "done for url  2786 at 21:30:59\n",
      "done for url  2787 at 21:31:11\n",
      "done for url  2788 at 21:31:24\n",
      "done for url  2789 at 21:31:36\n",
      "done for url  2790 at 21:31:48\n",
      "done for url  2791 at 21:31:59\n",
      "done for url  2792 at 21:32:13\n",
      "done for url  2793 at 21:32:25\n",
      "done for url  2794 at 21:32:36\n",
      "done for url  2795 at 21:32:46\n",
      "done for url  2796 at 21:33:02\n",
      "done for url  2797 at 21:33:15\n",
      "done for url  2798 at 21:33:30\n",
      "done for url  2799 at 21:33:42\n",
      "done for url  2800 at 21:33:54\n",
      "done for url  2801 at 21:34:06\n",
      "done for url  2802 at 21:34:19\n",
      "done for url  2803 at 21:34:32\n",
      "done for url  2804 at 21:34:41\n",
      "done for url  2805 at 21:34:55\n",
      "done for url  2806 at 21:35:08\n",
      "done for url  2807 at 21:35:22\n",
      "done for url  2808 at 21:35:36\n",
      "done for url  2809 at 21:35:48\n",
      "done for url  2810 at 21:36:00\n",
      "done for url  2811 at 21:36:12\n",
      "done for url  2812 at 21:36:25\n",
      "done for url  2813 at 21:36:40\n",
      "done for url  2814 at 21:36:52\n",
      "done for url  2815 at 21:37:05\n",
      "done for url  2816 at 21:37:20\n",
      "done for url  2817 at 21:37:33\n"
     ]
    },
    {
     "name": "stdout",
     "output_type": "stream",
     "text": [
      "done for url  2818 at 21:37:48\n",
      "done for url  2819 at 21:38:01\n",
      "done for url  2820 at 21:38:12\n",
      "done for url  2821 at 21:38:26\n",
      "done for url  2822 at 21:38:39\n",
      "done for url  2823 at 21:38:54\n",
      "done for url  2824 at 21:39:06\n",
      "done for url  2825 at 21:39:18\n",
      "done for url  2826 at 21:39:30\n",
      "done for url  2827 at 21:39:42\n",
      "done for url  2828 at 21:39:53\n",
      "done for url  2829 at 21:40:07\n",
      "done for url  2830 at 21:40:19\n",
      "done for url  2831 at 21:40:31\n",
      "done for url  2832 at 21:40:44\n",
      "done for url  2833 at 21:40:57\n",
      "done for url  2834 at 21:41:10\n",
      "done for url  2835 at 21:41:23\n",
      "done for url  2836 at 21:41:35\n",
      "done for url  2837 at 21:41:48\n",
      "done for url  2838 at 21:42:01\n",
      "done for url  2839 at 21:42:13\n",
      "done for url  2840 at 21:42:24\n",
      "done for url  2841 at 21:42:38\n",
      "done for url  2842 at 21:42:50\n",
      "done for url  2843 at 21:43:03\n",
      "done for url  2844 at 21:43:15\n",
      "done for url  2845 at 21:43:26\n",
      "done for url  2846 at 21:43:39\n",
      "done for url  2847 at 21:43:53\n",
      "done for url  2848 at 21:44:03\n",
      "done for url  2849 at 21:44:16\n",
      "done for url  2850 at 21:44:29\n",
      "done for url  2851 at 21:44:43\n",
      "done for url  2852 at 21:44:55\n",
      "done for url  2853 at 21:45:09\n",
      "done for url  2854 at 21:45:23\n",
      "done for url  2855 at 21:45:36\n",
      "done for url  2856 at 21:45:50\n",
      "done for url  2857 at 21:46:03\n",
      "done for url  2858 at 21:46:13\n",
      "done for url  2859 at 21:46:28\n",
      "done for url  2860 at 21:46:40\n",
      "done for url  2861 at 21:46:53\n",
      "done for url  2862 at 21:47:07\n",
      "done for url  2863 at 21:47:21\n",
      "done for url  2864 at 21:47:31\n",
      "done for url  2865 at 21:47:43\n",
      "done for url  2866 at 21:47:55\n",
      "done for url  2867 at 21:48:06\n",
      "done for url  2868 at 21:48:19\n",
      "done for url  2869 at 21:48:31\n",
      "done for url  2870 at 21:48:43\n",
      "done for url  2871 at 21:48:53\n",
      "done for url  2872 at 21:49:06\n",
      "done for url  2873 at 21:49:19\n",
      "done for url  2874 at 21:49:33\n",
      "done for url  2875 at 21:49:47\n",
      "done for url  2876 at 21:50:02\n",
      "done for url  2877 at 21:50:15\n",
      "done for url  2878 at 21:50:27\n",
      "done for url  2879 at 21:50:40\n",
      "done for url  2880 at 21:50:55\n",
      "done for url  2881 at 21:51:08\n",
      "done for url  2882 at 21:51:22\n",
      "done for url  2883 at 21:51:36\n",
      "done for url  2884 at 21:51:50\n",
      "done for url  2885 at 21:52:02\n",
      "done for url  2886 at 21:52:17\n",
      "done for url  2887 at 21:52:29\n",
      "done for url  2888 at 21:52:43\n",
      "done for url  2889 at 21:52:55\n",
      "done for url  2890 at 21:53:07\n",
      "done for url  2891 at 21:53:20\n",
      "done for url  2892 at 21:53:32\n",
      "done for url  2893 at 21:53:43\n",
      "done for url  2894 at 21:53:57\n",
      "done for url  2895 at 21:54:09\n",
      "done for url  2896 at 21:54:25\n",
      "done for url  2897 at 21:54:38\n",
      "done for url  2898 at 21:54:55\n",
      "done for url  2899 at 21:55:10\n",
      "done for url  2900 at 21:55:24\n",
      "done for url  2901 at 21:55:37\n",
      "done for url  2902 at 21:55:49\n",
      "done for url  2903 at 21:56:01\n",
      "done for url  2904 at 21:56:14\n",
      "done for url  2905 at 21:56:29\n",
      "done for url  2906 at 21:56:43\n",
      "done for url  2907 at 21:56:57\n",
      "done for url  2908 at 21:57:09\n",
      "done for url  2909 at 21:57:20\n",
      "done for url  2910 at 21:57:35\n",
      "done for url  2911 at 21:57:47\n",
      "done for url  2912 at 21:58:01\n",
      "done for url  2913 at 21:58:11\n",
      "done for url  2914 at 21:58:22\n",
      "done for url  2915 at 21:58:37\n",
      "done for url  2916 at 21:58:51\n",
      "done for url  2917 at 21:59:03\n",
      "done for url  2918 at 21:59:14\n",
      "done for url  2919 at 21:59:27\n",
      "done for url  2920 at 21:59:39\n",
      "done for url  2921 at 21:59:52\n",
      "done for url  2922 at 22:00:05\n",
      "done for url  2923 at 22:00:17\n",
      "done for url  2924 at 22:00:28\n",
      "done for url  2925 at 22:00:42\n",
      "done for url  2926 at 22:00:56\n",
      "done for url  2927 at 22:01:09\n",
      "done for url  2928 at 22:01:23\n",
      "done for url  2929 at 22:01:35\n",
      "done for url  2930 at 22:01:48\n",
      "done for url  2931 at 22:02:00\n",
      "done for url  2932 at 22:02:12\n",
      "done for url  2933 at 22:02:26\n",
      "done for url  2934 at 22:02:39\n",
      "done for url  2935 at 22:02:52\n",
      "done for url  2936 at 22:03:06\n",
      "done for url  2937 at 22:03:20\n",
      "done for url  2938 at 22:03:35\n",
      "done for url  2939 at 22:03:46\n",
      "done for url  2940 at 22:04:00\n",
      "done for url  2941 at 22:04:13\n",
      "done for url  2942 at 22:04:26\n",
      "done for url  2943 at 22:04:39\n",
      "done for url  2944 at 22:05:06\n",
      "done for url  2945 at 22:05:21\n",
      "done for url  2946 at 22:05:34\n",
      "done for url  2947 at 22:05:48\n",
      "done for url  2948 at 22:05:59\n",
      "done for url  2949 at 22:06:11\n",
      "done for url  2950 at 22:06:24\n",
      "done for url  2951 at 22:06:37\n",
      "done for url  2952 at 22:06:49\n",
      "done for url  2953 at 22:07:00\n",
      "done for url  2954 at 22:07:13\n",
      "done for url  2955 at 22:07:28\n",
      "done for url  2956 at 22:07:41\n",
      "done for url  2957 at 22:07:54\n",
      "done for url  2958 at 22:08:06\n",
      "done for url  2959 at 22:08:19\n",
      "done for url  2960 at 22:08:32\n",
      "done for url  2961 at 22:08:46\n",
      "done for url  2962 at 22:08:59\n",
      "done for url  2963 at 22:09:12\n",
      "done for url  2964 at 22:09:27\n",
      "done for url  2965 at 22:09:44\n",
      "done for url  2966 at 22:09:57\n",
      "done for url  2967 at 22:10:09\n",
      "done for url  2968 at 22:10:23\n",
      "done for url  2969 at 22:10:36\n",
      "done for url  2970 at 22:10:50\n",
      "done for url  2971 at 22:11:01\n",
      "done for url  2972 at 22:11:15\n",
      "done for url  2973 at 22:11:27\n",
      "done for url  2974 at 22:11:42\n",
      "done for url  2975 at 22:11:55\n",
      "done for url  2976 at 22:12:08\n",
      "done for url  2977 at 22:12:22\n",
      "done for url  2978 at 22:12:36\n",
      "done for url  2979 at 22:12:48\n",
      "done for url  2980 at 22:13:01\n",
      "done for url  2981 at 22:13:16\n",
      "done for url  2982 at 22:13:31\n",
      "done for url  2983 at 22:13:45\n",
      "done for url  2984 at 22:13:58\n",
      "done for url  2985 at 22:14:09\n",
      "done for url  2986 at 22:14:24\n",
      "done for url  2987 at 22:14:40\n",
      "done for url  2988 at 22:14:54\n",
      "done for url  2989 at 22:15:08\n",
      "done for url  2990 at 22:15:23\n",
      "done for url  2991 at 22:15:36\n",
      "done for url  2992 at 22:15:49\n",
      "done for url  2993 at 22:16:03\n",
      "done for url  2994 at 22:16:17\n",
      "done for url  2995 at 22:16:31\n",
      "done for url  2996 at 22:16:47\n",
      "done for url  2997 at 22:17:02\n",
      "done for url  2998 at 22:17:16\n",
      "done for url  2999 at 22:17:28\n",
      "done for url  3000 at 22:17:40\n",
      "done for url  3001 at 22:17:53\n",
      "done for url  3002 at 22:18:07\n",
      "done for url  3003 at 22:18:20\n",
      "done for url  3004 at 22:18:32\n",
      "done for url  3005 at 22:18:47\n",
      "done for url  3006 at 22:19:03\n",
      "done for url  3007 at 22:19:15\n",
      "done for url  3008 at 22:19:29\n",
      "done for url  3009 at 22:19:43\n",
      "done for url  3010 at 22:19:58\n",
      "done for url  3011 at 22:20:12\n",
      "done for url  3012 at 22:20:27\n",
      "done for url  3013 at 22:20:41\n",
      "done for url  3014 at 22:20:56\n",
      "done for url  3015 at 22:21:11\n",
      "done for url  3016 at 22:21:25\n",
      "done for url  3017 at 22:21:39\n",
      "done for url  3018 at 22:21:52\n",
      "done for url  3019 at 22:22:08\n",
      "done for url  3020 at 22:22:23\n",
      "done for url  3021 at 22:22:40\n",
      "done for url  3022 at 22:22:57\n",
      "done for url  3023 at 22:23:11\n",
      "done for url  3024 at 22:23:25\n",
      "done for url  3025 at 22:23:40\n",
      "done for url  3026 at 22:23:55\n",
      "done for url  3027 at 22:24:09\n",
      "done for url  3028 at 22:24:21\n",
      "done for url  3029 at 22:24:35\n",
      "done for url  3030 at 22:24:48\n",
      "done for url  3031 at 22:25:03\n",
      "done for url  3032 at 22:25:17\n",
      "done for url  3033 at 22:25:31\n",
      "done for url  3034 at 22:25:45\n",
      "done for url  3035 at 22:25:57\n",
      "done for url  3036 at 22:26:12\n",
      "done for url  3037 at 22:26:29\n",
      "done for url  3038 at 22:26:45\n",
      "done for url  3039 at 22:26:58\n",
      "done for url  3040 at 22:27:12\n",
      "done for url  3041 at 22:27:26\n",
      "done for url  3042 at 22:27:40\n",
      "done for url  3043 at 22:27:56\n",
      "done for url  3044 at 22:28:11\n",
      "done for url  3045 at 22:28:30\n",
      "done for url  3046 at 22:28:47\n",
      "done for url  3047 at 22:29:01\n",
      "done for url  3048 at 22:29:16\n",
      "done for url  3049 at 22:29:28\n",
      "done for url  3050 at 22:29:43\n",
      "done for url  3051 at 22:29:56\n",
      "done for url  3052 at 22:30:10\n",
      "done for url  3053 at 22:30:26\n",
      "done for url  3054 at 22:30:42\n",
      "done for url  3055 at 22:30:56\n",
      "done for url  3056 at 22:31:10\n",
      "done for url  3057 at 22:31:30\n",
      "done for url  3058 at 22:31:44\n",
      "done for url  3059 at 22:31:57\n",
      "done for url  3060 at 22:32:12\n",
      "done for url  3061 at 22:32:26\n",
      "done for url  3062 at 22:32:39\n",
      "done for url  3063 at 22:32:52\n",
      "done for url  3064 at 22:33:06\n",
      "done for url  3065 at 22:33:17\n",
      "done for url  3066 at 22:33:30\n",
      "done for url  3067 at 22:33:41\n",
      "done for url  3068 at 22:33:52\n",
      "done for url  3069 at 22:34:03\n",
      "done for url  3070 at 22:34:14\n",
      "done for url  3071 at 22:34:28\n",
      "done for url  3072 at 22:34:41\n",
      "done for url  3073 at 22:34:56\n",
      "done for url  3074 at 22:35:09\n",
      "done for url  3075 at 22:35:23\n",
      "done for url  3076 at 22:35:36\n",
      "done for url  3077 at 22:35:49\n",
      "done for url  3078 at 22:36:03\n",
      "done for url  3079 at 22:36:20\n",
      "done for url  3080 at 22:36:32\n",
      "done for url  3081 at 22:36:45\n",
      "done for url  3082 at 22:36:59\n"
     ]
    },
    {
     "name": "stdout",
     "output_type": "stream",
     "text": [
      "done for url  3083 at 22:37:16\n",
      "done for url  3084 at 22:37:34\n",
      "done for url  3085 at 22:37:48\n",
      "done for url  3086 at 22:38:02\n",
      "done for url  3087 at 22:38:14\n",
      "done for url  3088 at 22:38:26\n",
      "done for url  3089 at 22:38:42\n",
      "done for url  3090 at 22:38:55\n",
      "done for url  3091 at 22:39:08\n",
      "done for url  3092 at 22:39:23\n",
      "done for url  3093 at 22:39:36\n",
      "done for url  3094 at 22:39:47\n",
      "done for url  3095 at 22:40:01\n",
      "done for url  3096 at 22:40:12\n",
      "done for url  3097 at 22:40:26\n",
      "done for url  3098 at 22:40:37\n",
      "done for url  3099 at 22:40:55\n",
      "done for url  3100 at 22:41:07\n",
      "done for url  3101 at 22:41:19\n",
      "done for url  3102 at 22:41:32\n",
      "done for url  3103 at 22:41:45\n",
      "done for url  3104 at 22:41:56\n",
      "done for url  3105 at 22:42:11\n",
      "done for url  3106 at 22:42:23\n",
      "done for url  3107 at 22:42:37\n",
      "done for url  3108 at 22:42:53\n",
      "done for url  3109 at 22:43:06\n",
      "done for url  3110 at 22:43:19\n",
      "done for url  3111 at 22:43:31\n",
      "done for url  3112 at 22:43:46\n",
      "done for url  3113 at 22:43:58\n",
      "done for url  3114 at 22:44:23\n",
      "done for url  3115 at 22:44:35\n",
      "done for url  3116 at 22:44:49\n",
      "done for url  3117 at 22:45:02\n",
      "done for url  3118 at 22:45:16\n",
      "done for url  3119 at 22:45:28\n",
      "done for url  3120 at 22:45:41\n",
      "done for url  3121 at 22:45:53\n",
      "done for url  3122 at 22:46:04\n",
      "done for url  3123 at 22:46:16\n",
      "done for url  3124 at 22:46:30\n",
      "done for url  3125 at 22:46:42\n",
      "done for url  3126 at 22:46:54\n",
      "done for url  3127 at 22:47:07\n",
      "done for url  3128 at 22:47:20\n",
      "done for url  3129 at 22:47:32\n",
      "done for url  3130 at 22:47:43\n",
      "done for url  3131 at 22:47:56\n",
      "done for url  3132 at 22:48:09\n",
      "done for url  3133 at 22:48:23\n",
      "done for url  3134 at 22:48:36\n",
      "done for url  3135 at 22:48:48\n",
      "done for url  3136 at 22:49:00\n",
      "done for url  3137 at 22:49:13\n",
      "done for url  3138 at 22:49:25\n",
      "done for url  3139 at 22:49:37\n",
      "done for url  3140 at 22:49:51\n",
      "done for url  3141 at 22:50:04\n",
      "done for url  3142 at 22:50:17\n",
      "done for url  3143 at 22:50:31\n",
      "done for url  3144 at 22:50:43\n",
      "done for url  3145 at 22:50:56\n",
      "done for url  3146 at 22:51:11\n",
      "done for url  3147 at 22:51:30\n",
      "done for url  3148 at 22:51:52\n",
      "done for url  3149 at 22:52:04\n",
      "done for url  3150 at 22:52:19\n",
      "done for url  3151 at 22:52:33\n",
      "done for url  3152 at 22:52:47\n",
      "done for url  3153 at 22:53:01\n",
      "done for url  3154 at 22:53:14\n",
      "done for url  3155 at 22:53:27\n",
      "done for url  3156 at 22:53:42\n",
      "done for url  3157 at 22:53:58\n",
      "done for url  3158 at 22:54:12\n",
      "done for url  3159 at 22:54:31\n",
      "done for url  3160 at 22:54:46\n",
      "done for url  3161 at 22:54:58\n",
      "done for url  3162 at 22:55:13\n",
      "done for url  3163 at 22:55:28\n",
      "done for url  3164 at 22:55:46\n",
      "done for url  3165 at 22:56:01\n",
      "done for url  3166 at 22:56:16\n",
      "done for url  3167 at 22:56:30\n",
      "done for url  3168 at 22:56:43\n",
      "done for url  3169 at 22:57:01\n",
      "done for url  3170 at 22:57:18\n",
      "done for url  3171 at 22:57:32\n",
      "done for url  3172 at 22:57:47\n",
      "done for url  3173 at 22:58:00\n",
      "done for url  3174 at 22:58:16\n",
      "done for url  3175 at 22:58:29\n",
      "done for url  3176 at 22:58:43\n",
      "done for url  3177 at 22:59:03\n",
      "done for url  3178 at 22:59:17\n",
      "done for url  3179 at 22:59:33\n",
      "done for url  3180 at 22:59:46\n",
      "done for url  3181 at 23:00:00\n",
      "done for url  3182 at 23:00:13\n",
      "done for url  3183 at 23:00:26\n",
      "done for url  3184 at 23:00:38\n",
      "done for url  3185 at 23:00:52\n",
      "done for url  3186 at 23:01:05\n",
      "done for url  3187 at 23:01:21\n",
      "done for url  3188 at 23:01:35\n",
      "done for url  3189 at 23:01:47\n",
      "done for url  3190 at 23:01:59\n",
      "done for url  3191 at 23:02:10\n",
      "done for url  3192 at 23:02:24\n",
      "done for url  3193 at 23:02:38\n",
      "done for url  3194 at 23:02:54\n",
      "done for url  3195 at 23:03:12\n",
      "done for url  3196 at 23:03:27\n",
      "done for url  3197 at 23:03:42\n",
      "done for url  3198 at 23:03:57\n",
      "done for url  3199 at 23:04:12\n",
      "done for url  3200 at 23:04:25\n",
      "done for url  3201 at 23:04:36\n",
      "done for url  3202 at 23:04:50\n",
      "done for url  3203 at 23:05:04\n",
      "done for url  3204 at 23:05:27\n",
      "done for url  3205 at 23:05:42\n",
      "done for url  3206 at 23:05:54\n",
      "done for url  3207 at 23:06:11\n",
      "done for url  3208 at 23:06:24\n",
      "done for url  3209 at 23:06:36\n",
      "done for url  3210 at 23:06:48\n",
      "done for url  3211 at 23:06:58\n",
      "done for url  3212 at 23:07:10\n",
      "done for url  3213 at 23:07:25\n",
      "done for url  3214 at 23:07:40\n",
      "done for url  3215 at 23:07:52\n",
      "done for url  3216 at 23:08:04\n",
      "done for url  3217 at 23:08:15\n",
      "done for url  3218 at 23:08:28\n",
      "done for url  3219 at 23:08:43\n",
      "done for url  3220 at 23:08:59\n",
      "done for url  3221 at 23:09:10\n",
      "done for url  3222 at 23:09:25\n",
      "done for url  3223 at 23:09:37\n",
      "done for url  3224 at 23:09:51\n",
      "done for url  3225 at 23:10:03\n",
      "done for url  3226 at 23:10:15\n",
      "done for url  3227 at 23:10:28\n",
      "done for url  3228 at 23:10:41\n",
      "done for url  3229 at 23:10:56\n",
      "done for url  3230 at 23:11:11\n",
      "done for url  3231 at 23:11:24\n",
      "done for url  3232 at 23:11:38\n",
      "done for url  3233 at 23:11:51\n",
      "done for url  3234 at 23:12:03\n",
      "done for url  3235 at 23:12:19\n",
      "done for url  3236 at 23:12:32\n",
      "done for url  3237 at 23:12:45\n",
      "done for url  3238 at 23:13:01\n",
      "done for url  3239 at 23:13:16\n",
      "done for url  3240 at 23:13:30\n",
      "done for url  3241 at 23:13:41\n",
      "done for url  3242 at 23:13:53\n",
      "done for url  3243 at 23:14:08\n",
      "done for url  3244 at 23:14:22\n",
      "done for url  3245 at 23:14:36\n",
      "done for url  3246 at 23:14:50\n",
      "done for url  3247 at 23:15:04\n",
      "done for url  3248 at 23:15:17\n",
      "done for url  3249 at 23:15:28\n",
      "done for url  3250 at 23:15:42\n",
      "done for url  3251 at 23:15:56\n",
      "done for url  3252 at 23:16:08\n",
      "done for url  3253 at 23:16:21\n",
      "done for url  3254 at 23:16:34\n",
      "done for url  3255 at 23:16:49\n",
      "done for url  3256 at 23:17:01\n",
      "done for url  3257 at 23:17:14\n",
      "done for url  3258 at 23:17:28\n",
      "done for url  3259 at 23:17:42\n",
      "done for url  3260 at 23:17:53\n",
      "done for url  3261 at 23:18:09\n",
      "done for url  3262 at 23:18:23\n",
      "done for url  3263 at 23:18:37\n",
      "done for url  3264 at 23:18:51\n",
      "done for url  3265 at 23:19:07\n",
      "done for url  3266 at 23:19:20\n",
      "done for url  3267 at 23:19:35\n",
      "done for url  3268 at 23:19:47\n",
      "done for url  3269 at 23:20:00\n",
      "done for url  3270 at 23:20:12\n",
      "done for url  3271 at 23:20:25\n",
      "done for url  3272 at 23:20:38\n",
      "done for url  3273 at 23:20:48\n",
      "done for url  3274 at 23:21:02\n",
      "done for url  3275 at 23:21:16\n",
      "done for url  3276 at 23:21:32\n",
      "done for url  3277 at 23:21:47\n",
      "done for url  3278 at 23:22:01\n",
      "done for url  3279 at 23:22:14\n",
      "done for url  3280 at 23:22:27\n",
      "done for url  3281 at 23:22:40\n",
      "done for url  3282 at 23:22:53\n",
      "done for url  3283 at 23:23:06\n",
      "done for url  3284 at 23:23:19\n",
      "done for url  3285 at 23:23:30\n",
      "done for url  3286 at 23:23:44\n",
      "done for url  3287 at 23:23:57\n",
      "done for url  3288 at 23:24:08\n",
      "done for url  3289 at 23:24:21\n",
      "done for url  3290 at 23:24:33\n",
      "done for url  3291 at 23:24:44\n",
      "done for url  3292 at 23:24:57\n",
      "done for url  3293 at 23:25:11\n",
      "done for url  3294 at 23:25:22\n",
      "done for url  3295 at 23:25:36\n",
      "done for url  3296 at 23:25:49\n",
      "done for url  3297 at 23:26:03\n",
      "done for url  3298 at 23:26:16\n",
      "done for url  3299 at 23:26:30\n",
      "done for url  3300 at 23:26:43\n",
      "done for url  3301 at 23:26:58\n",
      "done for url  3302 at 23:27:12\n",
      "done for url  3303 at 23:27:25\n",
      "done for url  3304 at 23:27:39\n",
      "done for url  3305 at 23:27:52\n",
      "done for url  3306 at 23:28:04\n",
      "done for url  3307 at 23:28:18\n",
      "done for url  3308 at 23:28:32\n",
      "done for url  3309 at 23:28:47\n",
      "done for url  3310 at 23:29:00\n",
      "done for url  3311 at 23:29:12\n",
      "done for url  3312 at 23:29:25\n",
      "done for url  3313 at 23:29:36\n",
      "done for url  3314 at 23:29:49\n",
      "done for url  3315 at 23:30:00\n",
      "done for url  3316 at 23:30:11\n",
      "done for url  3317 at 23:30:24\n",
      "done for url  3318 at 23:30:37\n",
      "done for url  3319 at 23:30:49\n",
      "done for url  3320 at 23:31:02\n",
      "done for url  3321 at 23:31:14\n",
      "done for url  3322 at 23:31:28\n",
      "done for url  3323 at 23:31:42\n",
      "done for url  3324 at 23:31:54\n",
      "done for url  3325 at 23:32:06\n",
      "done for url  3326 at 23:32:19\n",
      "done for url  3327 at 23:32:31\n",
      "done for url  3328 at 23:32:44\n",
      "done for url  3329 at 23:32:57\n",
      "done for url  3330 at 23:33:11\n",
      "done for url  3331 at 23:33:25\n",
      "done for url  3332 at 23:33:34\n",
      "done for url  3333 at 23:33:47\n",
      "done for url  3334 at 23:33:59\n",
      "done for url  3335 at 23:34:13\n",
      "done for url  3336 at 23:34:29\n",
      "done for url  3337 at 23:34:42\n",
      "done for url  3338 at 23:34:54\n",
      "done for url  3339 at 23:35:07\n",
      "done for url  3340 at 23:35:18\n",
      "done for url  3341 at 23:35:31\n",
      "done for url  3342 at 23:35:48\n",
      "done for url  3343 at 23:36:02\n",
      "done for url  3344 at 23:36:13\n",
      "done for url  3345 at 23:36:26\n",
      "done for url  3346 at 23:36:40\n",
      "done for url  3347 at 23:36:51\n"
     ]
    },
    {
     "name": "stdout",
     "output_type": "stream",
     "text": [
      "done for url  3348 at 23:37:07\n",
      "done for url  3349 at 23:37:21\n",
      "done for url  3350 at 23:37:33\n",
      "done for url  3351 at 23:37:48\n",
      "done for url  3352 at 23:38:01\n",
      "done for url  3353 at 23:38:16\n",
      "done for url  3354 at 23:38:28\n",
      "done for url  3355 at 23:38:40\n",
      "done for url  3356 at 23:38:54\n",
      "done for url  3357 at 23:39:07\n",
      "done for url  3358 at 23:39:19\n",
      "done for url  3359 at 23:39:32\n",
      "done for url  3360 at 23:39:45\n",
      "done for url  3361 at 23:39:57\n",
      "done for url  3362 at 23:40:09\n",
      "done for url  3363 at 23:40:22\n",
      "done for url  3364 at 23:40:36\n",
      "done for url  3365 at 23:40:48\n",
      "done for url  3366 at 23:41:00\n",
      "done for url  3367 at 23:41:12\n",
      "done for url  3368 at 23:41:25\n",
      "done for url  3369 at 23:41:37\n",
      "done for url  3370 at 23:41:43\n",
      "done for url  3371 at 23:41:55\n",
      "done for url  3372 at 23:42:08\n",
      "done for url  3373 at 23:42:21\n",
      "done for url  3374 at 23:42:34\n",
      "done for url  3375 at 23:42:45\n",
      "done for url  3376 at 23:42:57\n",
      "done for url  3377 at 23:43:11\n",
      "done for url  3378 at 23:43:25\n",
      "done for url  3379 at 23:43:37\n",
      "done for url  3380 at 23:43:55\n",
      "done for url  3381 at 23:44:07\n",
      "done for url  3382 at 23:44:19\n",
      "done for url  3383 at 23:44:31\n",
      "done for url  3384 at 23:44:43\n",
      "done for url  3385 at 23:44:57\n",
      "done for url  3386 at 23:45:09\n",
      "done for url  3387 at 23:45:21\n",
      "done for url  3388 at 23:45:33\n",
      "done for url  3389 at 23:45:45\n",
      "done for url  3390 at 23:45:59\n",
      "done for url  3391 at 23:46:10\n",
      "done for url  3392 at 23:46:22\n",
      "done for url  3393 at 23:46:35\n",
      "done for url  3394 at 23:46:50\n",
      "done for url  3395 at 23:47:02\n",
      "done for url  3396 at 23:47:17\n",
      "done for url  3397 at 23:47:28\n",
      "done for url  3398 at 23:47:42\n",
      "done for url  3399 at 23:47:54\n",
      "done for url  3400 at 23:48:07\n",
      "done for url  3401 at 23:48:17\n",
      "done for url  3402 at 23:48:31\n",
      "done for url  3403 at 23:48:43\n",
      "done for url  3404 at 23:48:55\n",
      "done for url  3405 at 23:49:05\n",
      "done for url  3406 at 23:49:17\n",
      "done for url  3407 at 23:49:30\n",
      "done for url  3408 at 23:49:41\n",
      "done for url  3409 at 23:49:52\n",
      "done for url  3410 at 23:50:05\n",
      "done for url  3411 at 23:50:17\n",
      "done for url  3412 at 23:50:29\n",
      "done for url  3413 at 23:50:40\n",
      "done for url  3414 at 23:50:52\n",
      "done for url  3415 at 23:51:05\n",
      "done for url  3416 at 23:51:17\n",
      "done for url  3417 at 23:51:30\n",
      "done for url  3418 at 23:51:42\n",
      "done for url  3419 at 23:51:54\n",
      "done for url  3420 at 23:52:06\n",
      "done for url  3421 at 23:52:17\n",
      "done for url  3422 at 23:52:31\n",
      "done for url  3423 at 23:52:43\n",
      "done for url  3424 at 23:52:54\n",
      "done for url  3425 at 23:53:07\n",
      "done for url  3426 at 23:53:18\n",
      "done for url  3427 at 23:53:30\n",
      "done for url  3428 at 23:53:42\n",
      "done for url  3429 at 23:53:53\n",
      "done for url  3430 at 23:54:08\n",
      "done for url  3431 at 23:54:22\n",
      "done for url  3432 at 23:54:35\n",
      "done for url  3433 at 23:54:47\n",
      "done for url  3434 at 23:54:58\n",
      "done for url  3435 at 23:55:12\n",
      "done for url  3436 at 23:55:25\n",
      "done for url  3437 at 23:55:37\n",
      "done for url  3438 at 23:55:51\n",
      "done for url  3439 at 23:56:06\n",
      "done for url  3440 at 23:56:17\n",
      "done for url  3441 at 23:56:31\n",
      "done for url  3442 at 23:56:43\n",
      "done for url  3443 at 23:56:55\n",
      "done for url  3444 at 23:57:06\n",
      "done for url  3445 at 23:57:23\n",
      "done for url  3446 at 23:57:35\n",
      "done for url  3447 at 23:57:49\n",
      "done for url  3448 at 23:58:02\n",
      "done for url  3449 at 23:58:19\n",
      "done for url  3450 at 23:58:34\n",
      "done for url  3451 at 23:58:45\n",
      "done for url  3452 at 23:59:01\n",
      "done for url  3453 at 23:59:15\n",
      "done for url  3454 at 23:59:28\n",
      "done for url  3455 at 23:59:39\n",
      "done for url  3456 at 23:59:51\n",
      "done for url  3457 at 00:00:02\n",
      "done for url  3458 at 00:00:13\n",
      "done for url  3459 at 00:00:28\n",
      "done for url  3460 at 00:00:41\n",
      "done for url  3461 at 00:00:52\n",
      "done for url  3462 at 00:01:02\n",
      "done for url  3463 at 00:01:14\n",
      "done for url  3464 at 00:01:25\n",
      "done for url  3465 at 00:01:36\n",
      "done for url  3466 at 00:01:48\n",
      "done for url  3467 at 00:02:02\n",
      "done for url  3468 at 00:02:14\n",
      "done for url  3469 at 00:02:24\n",
      "done for url  3470 at 00:02:37\n",
      "done for url  3471 at 00:02:51\n",
      "done for url  3472 at 00:03:03\n",
      "done for url  3473 at 00:03:14\n",
      "done for url  3474 at 00:03:26\n",
      "done for url  3475 at 00:03:39\n",
      "done for url  3476 at 00:03:50\n",
      "done for url  3477 at 00:04:00\n",
      "done for url  3478 at 00:04:13\n",
      "done for url  3479 at 00:04:26\n",
      "done for url  3480 at 00:04:37\n",
      "done for url  3481 at 00:04:48\n",
      "done for url  3482 at 00:05:00\n",
      "done for url  3483 at 00:05:14\n",
      "done for url  3484 at 00:05:26\n",
      "done for url  3485 at 00:05:40\n",
      "done for url  3486 at 00:05:52\n",
      "done for url  3487 at 00:06:04\n",
      "done for url  3488 at 00:06:19\n",
      "done for url  3489 at 00:06:33\n",
      "done for url  3490 at 00:06:46\n",
      "done for url  3491 at 00:06:59\n",
      "done for url  3492 at 00:07:11\n",
      "done for url  3493 at 00:07:26\n",
      "done for url  3494 at 00:07:39\n",
      "done for url  3495 at 00:07:51\n",
      "done for url  3496 at 00:08:02\n",
      "done for url  3497 at 00:08:14\n",
      "done for url  3498 at 00:08:28\n",
      "done for url  3499 at 00:08:41\n",
      "done for url  3500 at 00:08:52\n",
      "done for url  3501 at 00:09:03\n",
      "done for url  3502 at 00:09:15\n",
      "done for url  3503 at 00:09:29\n",
      "done for url  3504 at 00:09:42\n",
      "done for url  3505 at 00:09:55\n",
      "done for url  3506 at 00:10:07\n",
      "done for url  3507 at 00:10:47\n",
      "done for url  3508 at 00:10:59\n",
      "done for url  3509 at 00:11:13\n",
      "done for url  3510 at 00:11:25\n",
      "done for url  3511 at 00:11:38\n",
      "done for url  3512 at 00:11:49\n",
      "done for url  3513 at 00:12:00\n",
      "done for url  3514 at 00:12:13\n",
      "done for url  3515 at 00:12:29\n",
      "done for url  3516 at 00:12:39\n",
      "done for url  3517 at 00:12:50\n",
      "done for url  3518 at 00:13:01\n",
      "done for url  3519 at 00:13:16\n",
      "done for url  3520 at 00:13:29\n",
      "done for url  3521 at 00:13:38\n",
      "done for url  3522 at 00:13:51\n",
      "done for url  3523 at 00:14:03\n",
      "done for url  3524 at 00:14:15\n",
      "done for url  3525 at 00:14:26\n",
      "done for url  3526 at 00:14:38\n",
      "done for url  3527 at 00:14:51\n",
      "done for url  3528 at 00:15:01\n",
      "done for url  3529 at 00:15:13\n",
      "done for url  3530 at 00:15:26\n",
      "done for url  3531 at 00:15:39\n",
      "done for url  3532 at 00:15:52\n",
      "done for url  3533 at 00:16:03\n",
      "done for url  3534 at 00:16:15\n",
      "done for url  3535 at 00:16:26\n",
      "done for url  3536 at 00:16:38\n",
      "done for url  3537 at 00:16:50\n",
      "done for url  3538 at 00:17:12\n",
      "done for url  3539 at 00:17:23\n",
      "done for url  3540 at 00:17:36\n",
      "done for url  3541 at 00:17:50\n",
      "done for url  3542 at 00:18:03\n",
      "done for url  3543 at 00:18:15\n",
      "done for url  3544 at 00:18:28\n",
      "done for url  3545 at 00:18:39\n",
      "done for url  3546 at 00:18:53\n",
      "done for url  3547 at 00:19:05\n",
      "done for url  3548 at 00:19:17\n",
      "done for url  3549 at 00:19:29\n",
      "done for url  3550 at 00:19:43\n",
      "done for url  3551 at 00:19:54\n",
      "done for url  3552 at 00:20:07\n",
      "done for url  3553 at 00:20:20\n",
      "done for url  3554 at 00:20:34\n",
      "done for url  3555 at 00:20:46\n",
      "done for url  3556 at 00:20:59\n",
      "done for url  3557 at 00:21:14\n",
      "done for url  3558 at 00:21:26\n",
      "done for url  3559 at 00:21:39\n",
      "done for url  3560 at 00:21:52\n",
      "done for url  3561 at 00:22:03\n",
      "done for url  3562 at 00:22:16\n",
      "done for url  3563 at 00:22:28\n",
      "done for url  3564 at 00:22:39\n",
      "done for url  3565 at 00:22:55\n",
      "done for url  3566 at 00:23:05\n",
      "done for url  3567 at 00:23:16\n",
      "done for url  3568 at 00:23:28\n",
      "done for url  3569 at 00:23:39\n",
      "done for url  3570 at 00:23:51\n",
      "done for url  3571 at 00:24:02\n",
      "done for url  3572 at 00:24:14\n",
      "done for url  3573 at 00:24:28\n",
      "done for url  3574 at 00:24:41\n",
      "done for url  3575 at 00:24:54\n",
      "done for url  3576 at 00:25:06\n",
      "done for url  3577 at 00:25:18\n",
      "done for url  3578 at 00:25:30\n",
      "done for url  3579 at 00:25:42\n",
      "done for url  3580 at 00:25:56\n",
      "done for url  3581 at 00:26:08\n",
      "done for url  3582 at 00:26:22\n",
      "done for url  3583 at 00:26:35\n",
      "done for url  3584 at 00:26:47\n",
      "done for url  3585 at 00:27:01\n",
      "done for url  3586 at 00:27:16\n",
      "done for url  3587 at 00:27:27\n",
      "done for url  3588 at 00:27:39\n",
      "done for url  3589 at 00:27:50\n",
      "done for url  3590 at 00:28:03\n",
      "done for url  3591 at 00:28:15\n",
      "done for url  3592 at 00:28:29\n",
      "done for url  3593 at 00:28:42\n",
      "done for url  3594 at 00:28:53\n",
      "done for url  3595 at 00:29:04\n",
      "done for url  3596 at 00:29:18\n",
      "done for url  3597 at 00:29:31\n",
      "done for url  3598 at 00:29:43\n",
      "done for url  3599 at 00:29:55\n",
      "done for url  3600 at 00:30:07\n",
      "done for url  3601 at 00:30:20\n",
      "done for url  3602 at 00:30:32\n",
      "done for url  3603 at 00:30:44\n",
      "done for url  3604 at 00:30:56\n",
      "done for url  3605 at 00:31:09\n",
      "done for url  3606 at 00:31:22\n",
      "done for url  3607 at 00:31:34\n",
      "done for url  3608 at 00:31:46\n",
      "done for url  3609 at 00:32:00\n",
      "done for url  3610 at 00:32:16\n",
      "done for url  3611 at 00:32:30\n",
      "done for url  3612 at 00:32:43\n"
     ]
    },
    {
     "name": "stdout",
     "output_type": "stream",
     "text": [
      "done for url  3613 at 00:32:56\n",
      "done for url  3614 at 00:33:07\n",
      "done for url  3615 at 00:33:19\n",
      "done for url  3616 at 00:33:31\n",
      "done for url  3617 at 00:33:43\n",
      "done for url  3618 at 00:33:58\n",
      "done for url  3619 at 00:34:12\n",
      "done for url  3620 at 00:34:26\n",
      "done for url  3621 at 00:34:40\n",
      "done for url  3622 at 00:34:52\n",
      "done for url  3623 at 00:35:04\n",
      "done for url  3624 at 00:35:16\n",
      "done for url  3625 at 00:35:28\n",
      "done for url  3626 at 00:35:43\n",
      "done for url  3627 at 00:35:55\n",
      "done for url  3628 at 00:36:07\n",
      "done for url  3629 at 00:36:19\n",
      "done for url  3630 at 00:36:32\n",
      "done for url  3631 at 00:36:46\n",
      "done for url  3632 at 00:36:58\n",
      "done for url  3633 at 00:37:10\n",
      "done for url  3634 at 00:37:22\n",
      "done for url  3635 at 00:37:34\n",
      "done for url  3636 at 00:37:46\n",
      "done for url  3637 at 00:37:57\n",
      "done for url  3638 at 00:38:07\n",
      "done for url  3639 at 00:38:21\n",
      "done for url  3640 at 00:38:33\n",
      "done for url  3641 at 00:38:46\n",
      "done for url  3642 at 00:38:56\n",
      "done for url  3643 at 00:39:09\n",
      "done for url  3644 at 00:39:23\n",
      "done for url  3645 at 00:39:35\n",
      "done for url  3646 at 00:39:46\n",
      "done for url  3647 at 00:39:58\n",
      "done for url  3648 at 00:40:12\n",
      "done for url  3649 at 00:40:24\n",
      "done for url  3650 at 00:40:35\n",
      "done for url  3651 at 00:40:48\n",
      "done for url  3652 at 00:41:00\n",
      "done for url  3653 at 00:41:14\n",
      "done for url  3654 at 00:41:25\n",
      "done for url  3655 at 00:41:36\n",
      "done for url  3656 at 00:41:47\n",
      "done for url  3657 at 00:41:59\n",
      "done for url  3658 at 00:42:09\n",
      "done for url  3659 at 00:42:22\n",
      "done for url  3660 at 00:42:35\n",
      "done for url  3661 at 00:42:46\n",
      "done for url  3662 at 00:42:57\n",
      "done for url  3663 at 00:43:09\n",
      "done for url  3664 at 00:43:23\n",
      "done for url  3665 at 00:43:34\n",
      "done for url  3666 at 00:43:45\n",
      "done for url  3667 at 00:43:59\n",
      "done for url  3668 at 00:44:11\n",
      "done for url  3669 at 00:44:23\n",
      "done for url  3670 at 00:44:34\n",
      "done for url  3671 at 00:44:46\n",
      "done for url  3672 at 00:45:00\n",
      "done for url  3673 at 00:45:11\n",
      "done for url  3674 at 00:45:22\n",
      "done for url  3675 at 00:45:34\n",
      "done for url  3676 at 00:45:46\n",
      "done for url  3677 at 00:45:57\n",
      "done for url  3678 at 00:46:07\n",
      "done for url  3679 at 00:46:21\n",
      "done for url  3680 at 00:46:35\n",
      "done for url  3681 at 00:46:48\n",
      "done for url  3682 at 00:47:01\n",
      "done for url  3683 at 00:47:12\n",
      "done for url  3684 at 00:47:24\n",
      "done for url  3685 at 00:47:37\n",
      "done for url  3686 at 00:47:49\n",
      "done for url  3687 at 00:48:01\n",
      "done for url  3688 at 00:48:14\n",
      "done for url  3689 at 00:48:27\n",
      "done for url  3690 at 00:48:40\n",
      "done for url  3691 at 00:48:51\n",
      "done for url  3692 at 00:49:03\n",
      "done for url  3693 at 00:49:16\n",
      "done for url  3694 at 00:49:28\n",
      "done for url  3695 at 00:49:38\n",
      "done for url  3696 at 00:49:51\n",
      "done for url  3697 at 00:50:02\n",
      "done for url  3698 at 00:50:13\n",
      "done for url  3699 at 00:50:24\n",
      "done for url  3700 at 00:50:36\n",
      "done for url  3701 at 00:50:49\n",
      "done for url  3702 at 00:51:02\n",
      "done for url  3703 at 00:51:13\n",
      "done for url  3704 at 00:51:25\n",
      "done for url  3705 at 00:51:37\n",
      "done for url  3706 at 00:51:50\n",
      "done for url  3707 at 00:52:01\n",
      "done for url  3708 at 00:52:13\n",
      "done for url  3709 at 00:52:25\n",
      "done for url  3710 at 00:52:37\n",
      "done for url  3711 at 00:52:50\n",
      "done for url  3712 at 00:53:02\n",
      "done for url  3713 at 00:53:15\n",
      "done for url  3714 at 00:53:26\n",
      "done for url  3715 at 00:53:36\n",
      "done for url  3716 at 00:53:47\n",
      "done for url  3717 at 00:53:58\n",
      "done for url  3718 at 00:54:10\n",
      "done for url  3719 at 00:54:21\n",
      "done for url  3720 at 00:54:33\n",
      "done for url  3721 at 00:54:46\n",
      "done for url  3722 at 00:54:58\n",
      "done for url  3723 at 00:55:11\n",
      "done for url  3724 at 00:55:25\n",
      "done for url  3725 at 00:55:39\n",
      "done for url  3726 at 00:55:50\n",
      "done for url  3727 at 00:55:59\n",
      "done for url  3728 at 00:56:13\n",
      "done for url  3729 at 00:56:26\n",
      "done for url  3730 at 00:56:38\n",
      "done for url  3731 at 00:56:50\n",
      "done for url  3732 at 00:57:02\n",
      "done for url  3733 at 00:57:29\n",
      "done for url  3734 at 00:57:42\n",
      "done for url  3735 at 00:57:53\n",
      "done for url  3736 at 00:58:06\n",
      "done for url  3737 at 00:58:19\n",
      "done for url  3738 at 00:58:31\n",
      "done for url  3739 at 00:58:43\n",
      "done for url  3740 at 00:58:55\n",
      "done for url  3741 at 00:59:19\n",
      "done for url  3742 at 00:59:31\n",
      "done for url  3743 at 00:59:43\n",
      "done for url  3744 at 00:59:56\n",
      "done for url  3745 at 01:00:09\n",
      "done for url  3746 at 01:00:19\n",
      "done for url  3747 at 01:00:30\n",
      "done for url  3748 at 01:00:42\n",
      "done for url  3749 at 01:00:53\n",
      "done for url  3750 at 01:01:04\n",
      "done for url  3751 at 01:01:17\n",
      "done for url  3752 at 01:01:29\n",
      "done for url  3753 at 01:01:38\n",
      "done for url  3754 at 01:01:49\n",
      "done for url  3755 at 01:02:01\n",
      "done for url  3756 at 01:02:12\n",
      "done for url  3757 at 01:02:24\n",
      "done for url  3758 at 01:02:37\n",
      "done for url  3759 at 01:02:50\n",
      "done for url  3760 at 01:03:01\n",
      "done for url  3761 at 01:03:14\n",
      "done for url  3762 at 01:03:27\n",
      "done for url  3763 at 01:03:41\n",
      "done for url  3764 at 01:03:53\n",
      "done for url  3765 at 01:04:04\n",
      "done for url  3766 at 01:04:16\n",
      "done for url  3767 at 01:04:29\n",
      "done for url  3768 at 01:04:42\n",
      "done for url  3769 at 01:04:54\n",
      "done for url  3770 at 01:05:06\n",
      "done for url  3771 at 01:05:21\n",
      "done for url  3772 at 01:05:33\n",
      "done for url  3773 at 01:05:46\n",
      "done for url  3774 at 01:05:56\n",
      "done for url  3775 at 01:06:07\n",
      "done for url  3776 at 01:06:18\n",
      "done for url  3777 at 01:06:30\n",
      "done for url  3778 at 01:06:40\n",
      "done for url  3779 at 01:06:53\n",
      "done for url  3780 at 01:07:07\n",
      "done for url  3781 at 01:07:21\n",
      "done for url  3782 at 01:07:33\n",
      "done for url  3783 at 01:07:45\n",
      "done for url  3784 at 01:07:58\n",
      "done for url  3785 at 01:08:12\n",
      "done for url  3786 at 01:08:25\n",
      "done for url  3787 at 01:08:37\n",
      "done for url  3788 at 01:08:50\n",
      "done for url  3789 at 01:09:03\n",
      "done for url  3790 at 01:09:17\n",
      "done for url  3791 at 01:09:33\n",
      "done for url  3792 at 01:09:45\n",
      "done for url  3793 at 01:09:57\n",
      "done for url  3794 at 01:10:09\n",
      "done for url  3795 at 01:10:23\n",
      "done for url  3796 at 01:10:35\n",
      "done for url  3797 at 01:10:47\n",
      "done for url  3798 at 01:10:58\n",
      "done for url  3799 at 01:11:10\n",
      "done for url  3800 at 01:11:24\n",
      "done for url  3801 at 01:11:36\n",
      "done for url  3802 at 01:11:48\n",
      "done for url  3803 at 01:12:00\n",
      "done for url  3804 at 01:12:13\n",
      "done for url  3805 at 01:12:26\n",
      "done for url  3806 at 01:12:38\n",
      "done for url  3807 at 01:12:49\n",
      "done for url  3808 at 01:13:01\n",
      "done for url  3809 at 01:13:15\n",
      "done for url  3810 at 01:13:26\n",
      "done for url  3811 at 01:13:39\n",
      "done for url  3812 at 01:13:50\n",
      "done for url  3813 at 01:14:03\n",
      "done for url  3814 at 01:14:14\n",
      "done for url  3815 at 01:14:26\n",
      "done for url  3816 at 01:14:37\n",
      "done for url  3817 at 01:14:51\n",
      "done for url  3818 at 01:15:03\n",
      "done for url  3819 at 01:15:17\n",
      "done for url  3820 at 01:15:29\n",
      "done for url  3821 at 01:15:41\n",
      "done for url  3822 at 01:15:53\n",
      "done for url  3823 at 01:16:04\n",
      "done for url  3824 at 01:16:15\n",
      "done for url  3825 at 01:16:29\n",
      "done for url  3826 at 01:16:42\n",
      "done for url  3827 at 01:16:53\n",
      "done for url  3828 at 01:17:05\n",
      "done for url  3829 at 01:17:18\n",
      "done for url  3830 at 01:17:30\n",
      "done for url  3831 at 01:17:43\n",
      "done for url  3832 at 01:17:54\n",
      "done for url  3833 at 01:18:06\n",
      "done for url  3834 at 01:18:18\n",
      "done for url  3835 at 01:18:29\n",
      "done for url  3836 at 01:18:43\n",
      "done for url  3837 at 01:18:57\n",
      "done for url  3838 at 01:19:09\n",
      "done for url  3839 at 01:19:22\n",
      "done for url  3840 at 01:19:34\n",
      "done for url  3841 at 01:19:45\n",
      "done for url  3842 at 01:19:56\n",
      "done for url  3843 at 01:20:08\n",
      "done for url  3844 at 01:20:18\n",
      "done for url  3845 at 01:20:31\n",
      "done for url  3846 at 01:20:43\n",
      "done for url  3847 at 01:20:55\n",
      "done for url  3848 at 01:21:06\n",
      "done for url  3849 at 01:21:20\n",
      "done for url  3850 at 01:21:31\n",
      "done for url  3851 at 01:21:43\n",
      "done for url  3852 at 01:21:55\n",
      "done for url  3853 at 01:22:07\n",
      "done for url  3854 at 01:22:19\n",
      "done for url  3855 at 01:22:29\n",
      "done for url  3856 at 01:22:40\n",
      "done for url  3857 at 01:22:58\n",
      "done for url  3858 at 01:23:10\n",
      "done for url  3859 at 01:23:22\n",
      "done for url  3860 at 01:23:32\n",
      "done for url  3861 at 01:23:43\n",
      "done for url  3862 at 01:23:55\n",
      "done for url  3863 at 01:24:07\n",
      "done for url  3864 at 01:24:19\n",
      "done for url  3865 at 01:24:31\n",
      "done for url  3866 at 01:24:44\n",
      "done for url  3867 at 01:24:57\n",
      "done for url  3868 at 01:25:11\n",
      "done for url  3869 at 01:25:22\n",
      "done for url  3870 at 01:25:34\n",
      "done for url  3871 at 01:25:47\n",
      "done for url  3872 at 01:25:58\n",
      "done for url  3873 at 01:26:08\n",
      "done for url  3874 at 01:26:20\n",
      "done for url  3875 at 01:26:31\n",
      "done for url  3876 at 01:26:42\n",
      "done for url  3877 at 01:26:53\n"
     ]
    },
    {
     "name": "stdout",
     "output_type": "stream",
     "text": [
      "done for url  3878 at 01:27:05\n",
      "done for url  3879 at 01:27:17\n",
      "done for url  3880 at 01:27:31\n",
      "done for url  3881 at 01:27:45\n",
      "done for url  3882 at 01:27:56\n",
      "done for url  3883 at 01:28:08\n",
      "done for url  3884 at 01:28:14\n",
      "done for url  3885 at 01:28:26\n",
      "done for url  3886 at 01:28:37\n",
      "done for url  3887 at 01:28:48\n",
      "done for url  3888 at 01:28:59\n",
      "done for url  3889 at 01:29:10\n",
      "done for url  3890 at 01:29:22\n",
      "done for url  3891 at 01:29:33\n",
      "done for url  3892 at 01:29:46\n",
      "done for url  3893 at 01:29:56\n",
      "done for url  3894 at 01:30:08\n",
      "done for url  3895 at 01:30:20\n",
      "done for url  3896 at 01:30:34\n",
      "done for url  3897 at 01:30:44\n",
      "done for url  3898 at 01:30:56\n",
      "done for url  3899 at 01:31:07\n",
      "done for url  3900 at 01:31:18\n",
      "done for url  3901 at 01:31:28\n",
      "done for url  3902 at 01:31:41\n",
      "done for url  3903 at 01:31:52\n",
      "done for url  3904 at 01:32:02\n",
      "done for url  3905 at 01:32:15\n",
      "done for url  3906 at 01:32:27\n",
      "done for url  3907 at 01:32:38\n",
      "done for url  3908 at 01:32:49\n",
      "done for url  3909 at 01:33:04\n",
      "done for url  3910 at 01:33:16\n",
      "done for url  3911 at 01:33:28\n",
      "done for url  3912 at 01:33:40\n",
      "done for url  3913 at 01:33:53\n",
      "done for url  3914 at 01:34:05\n",
      "done for url  3915 at 01:34:18\n",
      "done for url  3916 at 01:34:28\n",
      "done for url  3917 at 01:34:39\n",
      "done for url  3918 at 01:34:51\n",
      "done for url  3919 at 01:35:02\n",
      "done for url  3920 at 01:35:14\n",
      "done for url  3921 at 01:35:26\n",
      "done for url  3922 at 01:35:38\n",
      "done for url  3923 at 01:35:49\n",
      "done for url  3924 at 01:35:58\n",
      "done for url  3925 at 01:36:10\n",
      "done for url  3926 at 01:36:21\n",
      "done for url  3927 at 01:36:32\n",
      "done for url  3928 at 01:36:44\n",
      "done for url  3929 at 01:36:57\n",
      "done for url  3930 at 01:37:08\n",
      "done for url  3931 at 01:37:20\n",
      "done for url  3932 at 01:37:33\n",
      "done for url  3933 at 01:37:44\n",
      "done for url  3934 at 01:37:56\n",
      "done for url  3935 at 01:38:06\n",
      "done for url  3936 at 01:38:18\n",
      "done for url  3937 at 01:38:28\n",
      "done for url  3938 at 01:38:40\n",
      "done for url  3939 at 01:38:51\n",
      "done for url  3940 at 01:39:02\n",
      "done for url  3941 at 01:39:12\n",
      "done for url  3942 at 01:39:24\n",
      "done for url  3943 at 01:39:36\n",
      "done for url  3944 at 01:39:47\n",
      "done for url  3945 at 01:40:00\n",
      "done for url  3946 at 01:40:13\n",
      "done for url  3947 at 01:40:26\n",
      "done for url  3948 at 01:40:37\n",
      "done for url  3949 at 01:40:49\n",
      "done for url  3950 at 01:41:00\n",
      "done for url  3951 at 01:41:12\n",
      "done for url  3952 at 01:41:23\n",
      "done for url  3953 at 01:41:34\n",
      "done for url  3954 at 01:41:49\n",
      "done for url  3955 at 01:42:00\n",
      "done for url  3956 at 01:42:13\n",
      "done for url  3957 at 01:42:25\n",
      "done for url  3958 at 01:42:39\n",
      "done for url  3959 at 01:42:52\n",
      "done for url  3960 at 01:43:19\n",
      "done for url  3961 at 01:43:30\n",
      "done for url  3962 at 01:43:42\n",
      "done for url  3963 at 01:43:54\n",
      "done for url  3964 at 01:44:07\n",
      "done for url  3965 at 01:44:18\n",
      "done for url  3966 at 01:44:32\n",
      "done for url  3967 at 01:44:45\n",
      "done for url  3968 at 01:44:58\n",
      "done for url  3969 at 01:45:08\n",
      "done for url  3970 at 01:45:20\n",
      "done for url  3971 at 01:45:33\n",
      "done for url  3972 at 01:45:46\n",
      "done for url  3973 at 01:45:57\n",
      "done for url  3974 at 01:46:12\n",
      "done for url  3975 at 01:46:26\n",
      "done for url  3976 at 01:46:39\n",
      "done for url  3977 at 01:46:53\n",
      "done for url  3978 at 01:47:05\n",
      "done for url  3979 at 01:47:18\n",
      "done for url  3980 at 01:47:38\n",
      "done for url  3981 at 01:47:49\n",
      "done for url  3982 at 01:48:02\n",
      "done for url  3983 at 01:48:14\n",
      "done for url  3984 at 01:48:25\n",
      "done for url  3985 at 01:48:36\n",
      "done for url  3986 at 01:48:49\n",
      "done for url  3987 at 01:49:01\n",
      "done for url  3988 at 01:49:13\n",
      "done for url  3989 at 01:49:26\n",
      "done for url  3990 at 01:49:39\n",
      "done for url  3991 at 01:49:51\n",
      "done for url  3992 at 01:50:03\n",
      "done for url  3993 at 01:50:15\n",
      "done for url  3994 at 01:50:30\n",
      "done for url  3995 at 01:50:45\n",
      "done for url  3996 at 01:50:59\n",
      "done for url  3997 at 01:51:13\n",
      "done for url  3998 at 01:51:25\n",
      "done for url  3999 at 01:51:38\n",
      "done for url  4000 at 01:51:48\n",
      "done for url  4001 at 01:52:01\n",
      "done for url  4002 at 01:52:14\n",
      "done for url  4003 at 01:52:28\n",
      "done for url  4004 at 01:52:40\n",
      "done for url  4005 at 01:52:52\n",
      "done for url  4006 at 01:53:04\n",
      "done for url  4007 at 01:53:16\n",
      "done for url  4008 at 01:53:27\n",
      "done for url  4009 at 01:53:39\n",
      "done for url  4010 at 01:53:52\n",
      "done for url  4011 at 01:54:05\n",
      "done for url  4012 at 01:54:20\n",
      "done for url  4013 at 01:54:32\n",
      "done for url  4014 at 01:54:43\n",
      "done for url  4015 at 01:54:56\n",
      "done for url  4016 at 01:55:09\n",
      "done for url  4017 at 01:55:24\n",
      "done for url  4018 at 01:55:36\n",
      "done for url  4019 at 01:55:48\n",
      "done for url  4020 at 01:56:02\n",
      "done for url  4021 at 01:56:12\n",
      "done for url  4022 at 01:56:23\n",
      "done for url  4023 at 01:56:36\n",
      "done for url  4024 at 01:56:49\n",
      "done for url  4025 at 01:57:02\n",
      "done for url  4026 at 01:57:17\n",
      "done for url  4027 at 01:57:28\n",
      "done for url  4028 at 01:57:40\n",
      "done for url  4029 at 01:57:52\n",
      "done for url  4030 at 01:58:06\n",
      "done for url  4031 at 01:58:19\n",
      "done for url  4032 at 01:58:31\n",
      "done for url  4033 at 01:58:42\n",
      "done for url  4034 at 01:58:55\n",
      "done for url  4035 at 01:59:07\n",
      "done for url  4036 at 01:59:19\n",
      "done for url  4037 at 01:59:32\n",
      "done for url  4038 at 01:59:44\n",
      "done for url  4039 at 01:59:56\n",
      "done for url  4040 at 02:00:12\n",
      "done for url  4041 at 02:00:26\n",
      "done for url  4042 at 02:00:37\n",
      "done for url  4043 at 02:00:49\n",
      "done for url  4044 at 02:01:00\n",
      "done for url  4045 at 02:01:11\n",
      "done for url  4046 at 02:01:24\n",
      "done for url  4047 at 02:01:37\n",
      "done for url  4048 at 02:01:49\n",
      "done for url  4049 at 02:02:01\n",
      "done for url  4050 at 02:02:13\n",
      "done for url  4051 at 02:02:24\n",
      "done for url  4052 at 02:02:37\n",
      "done for url  4053 at 02:02:51\n",
      "done for url  4054 at 02:03:03\n",
      "done for url  4055 at 02:03:15\n",
      "done for url  4056 at 02:03:28\n",
      "done for url  4057 at 02:03:42\n",
      "done for url  4058 at 02:03:55\n",
      "done for url  4059 at 02:04:09\n",
      "done for url  4060 at 02:04:22\n",
      "done for url  4061 at 02:04:35\n",
      "done for url  4062 at 02:04:48\n",
      "done for url  4063 at 02:05:01\n",
      "done for url  4064 at 02:05:15\n",
      "done for url  4065 at 02:05:28\n",
      "done for url  4066 at 02:05:41\n",
      "done for url  4067 at 02:05:55\n",
      "done for url  4068 at 02:06:07\n",
      "done for url  4069 at 02:06:21\n",
      "done for url  4070 at 02:06:36\n",
      "done for url  4071 at 02:06:47\n",
      "done for url  4072 at 02:07:00\n",
      "done for url  4073 at 02:07:12\n",
      "done for url  4074 at 02:07:26\n",
      "done for url  4075 at 02:07:37\n",
      "done for url  4076 at 02:07:49\n",
      "done for url  4077 at 02:08:02\n",
      "done for url  4078 at 02:08:14\n",
      "done for url  4079 at 02:08:27\n",
      "done for url  4080 at 02:08:39\n",
      "done for url  4081 at 02:08:52\n",
      "done for url  4082 at 02:09:05\n",
      "done for url  4083 at 02:09:18\n",
      "done for url  4084 at 02:09:30\n",
      "done for url  4085 at 02:09:42\n",
      "done for url  4086 at 02:09:52\n",
      "done for url  4087 at 02:10:10\n",
      "done for url  4088 at 02:10:22\n",
      "done for url  4089 at 02:10:35\n",
      "done for url  4090 at 02:10:48\n",
      "done for url  4091 at 02:11:00\n",
      "done for url  4092 at 02:11:13\n",
      "done for url  4093 at 02:11:25\n",
      "done for url  4094 at 02:11:39\n",
      "done for url  4095 at 02:11:51\n",
      "done for url  4096 at 02:12:04\n",
      "done for url  4097 at 02:12:17\n",
      "done for url  4098 at 02:12:30\n",
      "done for url  4099 at 02:12:44\n",
      "done for url  4100 at 02:12:56\n",
      "done for url  4101 at 02:13:08\n",
      "done for url  4102 at 02:13:22\n",
      "done for url  4103 at 02:13:36\n",
      "done for url  4104 at 02:13:50\n",
      "done for url  4105 at 02:14:03\n",
      "done for url  4106 at 02:14:13\n",
      "done for url  4107 at 02:14:29\n",
      "done for url  4108 at 02:14:42\n",
      "done for url  4109 at 02:14:57\n",
      "done for url  4110 at 02:15:08\n",
      "done for url  4111 at 02:15:21\n",
      "done for url  4112 at 02:15:34\n",
      "done for url  4113 at 02:15:47\n",
      "done for url  4114 at 02:16:00\n",
      "done for url  4115 at 02:16:12\n",
      "done for url  4116 at 02:16:23\n",
      "done for url  4117 at 02:16:36\n",
      "done for url  4118 at 02:16:48\n",
      "done for url  4119 at 02:17:00\n",
      "done for url  4120 at 02:17:12\n",
      "done for url  4121 at 02:17:25\n",
      "done for url  4122 at 02:17:38\n",
      "done for url  4123 at 02:17:50\n",
      "done for url  4124 at 02:18:04\n",
      "done for url  4125 at 02:18:15\n",
      "done for url  4126 at 02:18:26\n",
      "done for url  4127 at 02:18:38\n",
      "done for url  4128 at 02:18:50\n",
      "done for url  4129 at 02:19:02\n",
      "done for url  4130 at 02:19:12\n",
      "done for url  4131 at 02:19:27\n",
      "done for url  4132 at 02:19:38\n",
      "done for url  4133 at 02:19:52\n",
      "done for url  4134 at 02:20:03\n",
      "done for url  4135 at 02:20:15\n",
      "done for url  4136 at 02:20:27\n",
      "done for url  4137 at 02:20:39\n",
      "done for url  4138 at 02:20:51\n",
      "done for url  4139 at 02:21:03\n",
      "done for url  4140 at 02:21:16\n",
      "done for url  4141 at 02:21:28\n",
      "done for url  4142 at 02:21:40\n"
     ]
    },
    {
     "name": "stdout",
     "output_type": "stream",
     "text": [
      "done for url  4143 at 02:21:53\n",
      "done for url  4144 at 02:22:05\n",
      "done for url  4145 at 02:22:16\n",
      "done for url  4146 at 02:22:27\n",
      "done for url  4147 at 02:22:39\n",
      "done for url  4148 at 02:22:52\n",
      "done for url  4149 at 02:23:03\n",
      "done for url  4150 at 02:23:17\n",
      "done for url  4151 at 02:23:30\n",
      "done for url  4152 at 02:23:42\n",
      "done for url  4153 at 02:23:56\n",
      "done for url  4154 at 02:24:08\n",
      "done for url  4155 at 02:24:19\n",
      "done for url  4156 at 02:24:32\n",
      "done for url  4157 at 02:24:45\n",
      "done for url  4158 at 02:24:58\n",
      "done for url  4159 at 02:25:11\n",
      "done for url  4160 at 02:25:26\n",
      "done for url  4161 at 02:25:38\n",
      "done for url  4162 at 02:25:50\n",
      "done for url  4163 at 02:26:02\n",
      "done for url  4164 at 02:26:14\n",
      "done for url  4165 at 02:26:27\n",
      "done for url  4166 at 02:26:39\n",
      "done for url  4167 at 02:26:52\n",
      "done for url  4168 at 02:27:06\n",
      "done for url  4169 at 02:27:20\n",
      "done for url  4170 at 02:27:33\n",
      "done for url  4171 at 02:27:45\n",
      "done for url  4172 at 02:27:59\n",
      "done for url  4173 at 02:28:13\n",
      "done for url  4174 at 02:28:25\n",
      "done for url  4175 at 02:28:37\n",
      "done for url  4176 at 02:28:51\n",
      "done for url  4177 at 02:29:03\n",
      "done for url  4178 at 02:29:15\n",
      "done for url  4179 at 02:29:29\n",
      "done for url  4180 at 02:29:40\n",
      "done for url  4181 at 02:29:52\n",
      "done for url  4182 at 02:30:05\n",
      "done for url  4183 at 02:30:16\n",
      "done for url  4184 at 02:30:26\n",
      "done for url  4185 at 02:30:39\n",
      "done for url  4186 at 02:30:53\n",
      "done for url  4187 at 02:31:09\n",
      "done for url  4188 at 02:31:22\n",
      "done for url  4189 at 02:31:33\n",
      "done for url  4190 at 02:31:46\n",
      "done for url  4191 at 02:31:59\n",
      "done for url  4192 at 02:32:15\n",
      "done for url  4193 at 02:32:27\n",
      "done for url  4194 at 02:32:39\n",
      "done for url  4195 at 02:32:50\n",
      "done for url  4196 at 02:33:08\n",
      "done for url  4197 at 02:33:20\n",
      "done for url  4198 at 02:33:34\n",
      "done for url  4199 at 02:33:48\n",
      "done for url  4200 at 02:34:02\n",
      "done for url  4201 at 02:34:14\n",
      "done for url  4202 at 02:34:27\n",
      "done for url  4203 at 02:34:39\n",
      "done for url  4204 at 02:34:52\n",
      "done for url  4205 at 02:35:05\n",
      "done for url  4206 at 02:35:20\n",
      "done for url  4207 at 02:35:34\n",
      "done for url  4208 at 02:35:47\n",
      "done for url  4209 at 02:35:59\n",
      "done for url  4210 at 02:36:11\n",
      "done for url  4211 at 02:36:23\n",
      "done for url  4212 at 02:36:38\n",
      "done for url  4213 at 02:36:49\n",
      "done for url  4214 at 02:37:02\n",
      "done for url  4215 at 02:37:17\n",
      "done for url  4216 at 02:37:30\n",
      "done for url  4217 at 02:37:43\n",
      "done for url  4218 at 02:37:55\n",
      "done for url  4219 at 02:38:08\n",
      "done for url  4220 at 02:38:20\n",
      "done for url  4221 at 02:38:32\n",
      "done for url  4222 at 02:38:44\n",
      "done for url  4223 at 02:38:57\n",
      "done for url  4224 at 02:39:10\n",
      "done for url  4225 at 02:39:23\n",
      "done for url  4226 at 02:39:33\n",
      "done for url  4227 at 02:39:45\n",
      "done for url  4228 at 02:39:56\n",
      "done for url  4229 at 02:40:08\n",
      "done for url  4230 at 02:40:19\n",
      "done for url  4231 at 02:40:32\n",
      "done for url  4232 at 02:40:45\n",
      "done for url  4233 at 02:40:58\n",
      "done for url  4234 at 02:41:09\n",
      "done for url  4235 at 02:41:21\n",
      "done for url  4236 at 02:41:35\n",
      "done for url  4237 at 02:41:48\n",
      "done for url  4238 at 02:42:00\n",
      "done for url  4239 at 02:42:11\n",
      "done for url  4240 at 02:42:24\n",
      "done for url  4241 at 02:42:37\n",
      "done for url  4242 at 02:42:47\n",
      "done for url  4243 at 02:42:58\n",
      "done for url  4244 at 02:43:12\n",
      "done for url  4245 at 02:43:25\n",
      "done for url  4246 at 02:43:37\n",
      "done for url  4247 at 02:43:49\n",
      "done for url  4248 at 02:44:03\n",
      "done for url  4249 at 02:44:14\n",
      "done for url  4250 at 02:44:27\n",
      "done for url  4251 at 02:44:39\n",
      "done for url  4252 at 02:44:51\n",
      "done for url  4253 at 02:45:04\n",
      "done for url  4254 at 02:45:18\n",
      "done for url  4255 at 02:45:29\n",
      "done for url  4256 at 02:45:41\n",
      "done for url  4257 at 02:45:52\n",
      "done for url  4258 at 02:46:05\n",
      "done for url  4259 at 02:46:18\n",
      "done for url  4260 at 02:46:30\n",
      "done for url  4261 at 02:46:41\n",
      "done for url  4262 at 02:46:54\n",
      "done for url  4263 at 02:47:07\n",
      "done for url  4264 at 02:47:20\n",
      "done for url  4265 at 02:47:32\n",
      "done for url  4266 at 02:47:43\n",
      "done for url  4267 at 02:47:56\n",
      "done for url  4268 at 02:48:06\n",
      "done for url  4269 at 02:48:18\n",
      "done for url  4270 at 02:48:31\n",
      "done for url  4271 at 02:48:44\n",
      "done for url  4272 at 02:48:54\n",
      "done for url  4273 at 02:49:05\n",
      "done for url  4274 at 02:49:18\n",
      "done for url  4275 at 02:49:32\n",
      "done for url  4276 at 02:49:45\n",
      "done for url  4277 at 02:49:57\n",
      "done for url  4278 at 02:50:09\n",
      "done for url  4279 at 02:50:22\n",
      "done for url  4280 at 02:50:34\n",
      "done for url  4281 at 02:50:46\n",
      "done for url  4282 at 02:50:57\n",
      "done for url  4283 at 02:51:08\n",
      "done for url  4284 at 02:51:19\n",
      "done for url  4285 at 02:51:30\n",
      "done for url  4286 at 02:51:41\n",
      "done for url  4287 at 02:51:54\n",
      "done for url  4288 at 02:52:05\n",
      "done for url  4289 at 02:52:16\n",
      "done for url  4290 at 02:52:28\n",
      "done for url  4291 at 02:52:40\n",
      "done for url  4292 at 02:52:51\n",
      "done for url  4293 at 02:53:03\n",
      "done for url  4294 at 02:53:15\n",
      "done for url  4295 at 02:53:26\n",
      "done for url  4296 at 02:53:37\n",
      "done for url  4297 at 02:53:48\n",
      "done for url  4298 at 02:53:59\n",
      "done for url  4299 at 02:54:10\n",
      "done for url  4300 at 02:54:21\n",
      "done for url  4301 at 02:54:34\n",
      "done for url  4302 at 02:54:44\n",
      "done for url  4303 at 02:54:55\n",
      "done for url  4304 at 02:55:07\n",
      "done for url  4305 at 02:55:19\n",
      "done for url  4306 at 02:55:31\n",
      "done for url  4307 at 02:55:44\n",
      "done for url  4308 at 02:55:56\n",
      "done for url  4309 at 02:56:09\n",
      "done for url  4310 at 02:56:21\n",
      "done for url  4311 at 02:56:32\n",
      "done for url  4312 at 02:56:45\n",
      "done for url  4313 at 02:56:58\n",
      "done for url  4314 at 02:57:11\n",
      "done for url  4315 at 02:57:25\n",
      "done for url  4316 at 02:57:38\n",
      "done for url  4317 at 02:57:52\n",
      "done for url  4318 at 02:58:05\n",
      "done for url  4319 at 02:58:16\n",
      "done for url  4320 at 02:58:27\n",
      "done for url  4321 at 02:58:40\n",
      "done for url  4322 at 02:58:54\n",
      "done for url  4323 at 02:59:05\n",
      "done for url  4324 at 02:59:17\n",
      "done for url  4325 at 02:59:30\n",
      "done for url  4326 at 02:59:42\n",
      "done for url  4327 at 02:59:54\n",
      "done for url  4328 at 03:00:04\n",
      "done for url  4329 at 03:00:16\n",
      "done for url  4330 at 03:00:27\n",
      "done for url  4331 at 03:00:39\n",
      "done for url  4332 at 03:00:52\n",
      "done for url  4333 at 03:01:03\n",
      "done for url  4334 at 03:01:17\n",
      "done for url  4335 at 03:01:29\n",
      "done for url  4336 at 03:01:39\n",
      "done for url  4337 at 03:01:50\n",
      "done for url  4338 at 03:02:02\n",
      "done for url  4339 at 03:02:15\n",
      "done for url  4340 at 03:02:27\n",
      "done for url  4341 at 03:02:38\n",
      "done for url  4342 at 03:02:52\n",
      "done for url  4343 at 03:03:04\n",
      "done for url  4344 at 03:03:15\n",
      "done for url  4345 at 03:03:28\n",
      "done for url  4346 at 03:03:40\n",
      "done for url  4347 at 03:03:54\n",
      "done for url  4348 at 03:04:05\n",
      "done for url  4349 at 03:04:18\n",
      "done for url  4350 at 03:04:30\n",
      "done for url  4351 at 03:04:44\n",
      "done for url  4352 at 03:04:56\n",
      "done for url  4353 at 03:05:08\n",
      "done for url  4354 at 03:05:20\n",
      "done for url  4355 at 03:05:32\n",
      "done for url  4356 at 03:05:43\n",
      "done for url  4357 at 03:05:54\n",
      "done for url  4358 at 03:06:05\n",
      "done for url  4359 at 03:06:18\n",
      "done for url  4360 at 03:06:28\n",
      "done for url  4361 at 03:06:39\n",
      "done for url  4362 at 03:06:53\n",
      "done for url  4363 at 03:07:06\n",
      "done for url  4364 at 03:07:17\n",
      "done for url  4365 at 03:07:31\n",
      "done for url  4366 at 03:07:43\n",
      "done for url  4367 at 03:07:56\n",
      "done for url  4368 at 03:08:08\n",
      "done for url  4369 at 03:08:19\n",
      "done for url  4370 at 03:08:32\n",
      "done for url  4371 at 03:08:45\n",
      "done for url  4372 at 03:08:58\n",
      "done for url  4373 at 03:09:10\n",
      "done for url  4374 at 03:09:24\n",
      "done for url  4375 at 03:09:37\n",
      "done for url  4376 at 03:09:51\n",
      "done for url  4377 at 03:10:04\n",
      "done for url  4378 at 03:10:18\n",
      "done for url  4379 at 03:10:29\n",
      "done for url  4380 at 03:10:40\n",
      "done for url  4381 at 03:10:55\n",
      "done for url  4382 at 03:11:07\n",
      "done for url  4383 at 03:11:20\n",
      "done for url  4384 at 03:11:33\n",
      "done for url  4385 at 03:11:46\n",
      "done for url  4386 at 03:11:58\n",
      "done for url  4387 at 03:12:10\n",
      "done for url  4388 at 03:12:23\n",
      "done for url  4389 at 03:12:37\n",
      "done for url  4390 at 03:12:50\n",
      "done for url  4391 at 03:13:02\n",
      "done for url  4392 at 03:13:15\n",
      "done for url  4393 at 03:13:41\n",
      "done for url  4394 at 03:14:06\n",
      "done for url  4395 at 03:14:19\n",
      "done for url  4396 at 03:14:31\n",
      "done for url  4397 at 03:14:44\n",
      "done for url  4398 at 03:14:56\n",
      "done for url  4399 at 03:15:10\n",
      "done for url  4400 at 03:15:23\n",
      "done for url  4401 at 03:15:35\n",
      "done for url  4402 at 03:15:45\n",
      "done for url  4403 at 03:15:59\n",
      "done for url  4404 at 03:16:13\n",
      "done for url  4405 at 03:16:25\n",
      "done for url  4406 at 03:16:37\n",
      "done for url  4407 at 03:16:48\n"
     ]
    },
    {
     "name": "stdout",
     "output_type": "stream",
     "text": [
      "done for url  4408 at 03:17:01\n",
      "done for url  4409 at 03:17:15\n",
      "done for url  4410 at 03:17:26\n",
      "done for url  4411 at 03:17:42\n",
      "done for url  4412 at 03:17:56\n",
      "done for url  4413 at 03:18:09\n",
      "done for url  4414 at 03:18:21\n",
      "done for url  4415 at 03:18:35\n",
      "done for url  4416 at 03:18:49\n",
      "done for url  4417 at 03:19:04\n",
      "done for url  4418 at 03:19:16\n",
      "done for url  4419 at 03:19:31\n",
      "done for url  4420 at 03:19:44\n",
      "done for url  4421 at 03:19:57\n",
      "done for url  4422 at 03:20:10\n",
      "done for url  4423 at 03:20:23\n",
      "done for url  4424 at 03:20:36\n",
      "done for url  4425 at 03:20:48\n",
      "done for url  4426 at 03:21:01\n",
      "done for url  4427 at 03:21:14\n",
      "done for url  4428 at 03:21:24\n",
      "done for url  4429 at 03:21:36\n",
      "done for url  4430 at 03:21:49\n",
      "done for url  4431 at 03:22:04\n",
      "done for url  4432 at 03:22:16\n",
      "done for url  4433 at 03:22:29\n",
      "done for url  4434 at 03:22:43\n",
      "done for url  4435 at 03:22:57\n",
      "done for url  4436 at 03:23:09\n",
      "done for url  4437 at 03:23:22\n",
      "done for url  4438 at 03:23:33\n",
      "done for url  4439 at 03:23:44\n",
      "done for url  4440 at 03:23:56\n",
      "done for url  4441 at 03:24:08\n",
      "done for url  4442 at 03:24:19\n",
      "done for url  4443 at 03:24:31\n",
      "done for url  4444 at 03:24:43\n",
      "done for url  4445 at 03:24:54\n",
      "done for url  4446 at 03:25:05\n",
      "done for url  4447 at 03:25:17\n",
      "done for url  4448 at 03:25:30\n",
      "done for url  4449 at 03:25:42\n",
      "done for url  4450 at 03:25:54\n",
      "done for url  4451 at 03:26:07\n",
      "done for url  4452 at 03:26:21\n",
      "done for url  4453 at 03:26:41\n",
      "done for url  4454 at 03:26:55\n",
      "done for url  4455 at 03:27:06\n",
      "done for url  4456 at 03:27:20\n",
      "done for url  4457 at 03:27:48\n",
      "done for url  4458 at 03:28:00\n",
      "done for url  4459 at 03:28:14\n",
      "done for url  4460 at 03:28:26\n",
      "done for url  4461 at 03:28:37\n",
      "done for url  4462 at 03:28:51\n",
      "done for url  4463 at 03:29:02\n",
      "done for url  4464 at 03:29:16\n",
      "done for url  4465 at 03:29:29\n",
      "done for url  4466 at 03:29:40\n",
      "done for url  4467 at 03:29:51\n",
      "done for url  4468 at 03:30:04\n",
      "done for url  4469 at 03:30:17\n",
      "done for url  4470 at 03:30:28\n",
      "done for url  4471 at 03:30:40\n",
      "done for url  4472 at 03:30:53\n",
      "done for url  4473 at 03:31:04\n",
      "done for url  4474 at 03:31:16\n",
      "done for url  4475 at 03:31:27\n",
      "done for url  4476 at 03:31:40\n",
      "done for url  4477 at 03:31:53\n",
      "done for url  4478 at 03:32:08\n",
      "done for url  4479 at 03:32:19\n",
      "done for url  4480 at 03:32:37\n",
      "done for url  4481 at 03:32:49\n",
      "done for url  4482 at 03:33:03\n",
      "done for url  4483 at 03:33:16\n",
      "done for url  4484 at 03:33:27\n",
      "done for url  4485 at 03:33:39\n",
      "done for url  4486 at 03:33:51\n",
      "done for url  4487 at 03:34:03\n",
      "done for url  4488 at 03:34:17\n",
      "done for url  4489 at 03:34:28\n",
      "done for url  4490 at 03:34:40\n",
      "done for url  4491 at 03:34:52\n",
      "done for url  4492 at 03:35:04\n",
      "done for url  4493 at 03:35:15\n",
      "done for url  4494 at 03:35:28\n",
      "done for url  4495 at 03:35:40\n",
      "done for url  4496 at 03:35:51\n",
      "done for url  4497 at 03:36:03\n",
      "done for url  4498 at 03:36:15\n",
      "done for url  4499 at 03:36:28\n",
      "done for url  4500 at 03:36:38\n",
      "done for url  4501 at 03:36:48\n",
      "done for url  4502 at 03:37:00\n",
      "done for url  4503 at 03:37:10\n",
      "done for url  4504 at 03:37:22\n",
      "done for url  4505 at 03:37:35\n",
      "done for url  4506 at 03:37:48\n",
      "done for url  4507 at 03:38:00\n",
      "done for url  4508 at 03:38:11\n",
      "done for url  4509 at 03:38:23\n",
      "done for url  4510 at 03:38:34\n",
      "done for url  4511 at 03:38:45\n",
      "done for url  4512 at 03:38:56\n",
      "done for url  4513 at 03:39:08\n",
      "done for url  4514 at 03:39:21\n",
      "done for url  4515 at 03:39:33\n",
      "done for url  4516 at 03:39:44\n",
      "done for url  4517 at 03:39:58\n",
      "done for url  4518 at 03:40:10\n",
      "done for url  4519 at 03:40:20\n",
      "done for url  4520 at 03:40:34\n",
      "done for url  4521 at 03:40:47\n",
      "done for url  4522 at 03:41:00\n",
      "done for url  4523 at 03:41:14\n",
      "done for url  4524 at 03:41:25\n",
      "done for url  4525 at 03:41:38\n",
      "done for url  4526 at 03:41:50\n",
      "done for url  4527 at 03:42:02\n",
      "done for url  4528 at 03:42:13\n",
      "done for url  4529 at 03:42:24\n",
      "done for url  4530 at 03:42:36\n",
      "done for url  4531 at 03:42:48\n",
      "done for url  4532 at 03:43:00\n",
      "done for url  4533 at 03:43:10\n",
      "done for url  4534 at 03:43:23\n",
      "done for url  4535 at 03:43:33\n",
      "done for url  4536 at 03:43:45\n",
      "done for url  4537 at 03:43:58\n",
      "done for url  4538 at 03:44:10\n",
      "done for url  4539 at 03:44:21\n",
      "done for url  4540 at 03:44:32\n",
      "done for url  4541 at 03:44:45\n",
      "done for url  4542 at 03:44:57\n",
      "done for url  4543 at 03:45:07\n",
      "done for url  4544 at 03:45:21\n",
      "done for url  4545 at 03:45:34\n",
      "done for url  4546 at 03:45:46\n",
      "done for url  4547 at 03:46:01\n",
      "done for url  4548 at 03:46:13\n",
      "done for url  4549 at 03:46:26\n",
      "done for url  4550 at 03:46:38\n",
      "done for url  4551 at 03:46:50\n",
      "done for url  4552 at 03:47:01\n",
      "done for url  4553 at 03:47:14\n",
      "done for url  4554 at 03:47:26\n",
      "done for url  4555 at 03:47:39\n",
      "done for url  4556 at 03:47:49\n",
      "done for url  4557 at 03:48:00\n",
      "done for url  4558 at 03:48:12\n",
      "done for url  4559 at 03:48:24\n",
      "done for url  4560 at 03:48:34\n",
      "done for url  4561 at 03:48:47\n",
      "done for url  4562 at 03:48:59\n",
      "done for url  4563 at 03:49:09\n",
      "done for url  4564 at 03:49:22\n",
      "done for url  4565 at 03:49:34\n",
      "done for url  4566 at 03:49:46\n",
      "done for url  4567 at 03:49:58\n",
      "done for url  4568 at 03:50:09\n",
      "done for url  4569 at 03:50:22\n",
      "done for url  4570 at 03:50:35\n",
      "done for url  4571 at 03:50:45\n",
      "done for url  4572 at 03:50:56\n",
      "done for url  4573 at 03:51:08\n",
      "done for url  4574 at 03:51:21\n",
      "done for url  4575 at 03:51:32\n",
      "done for url  4576 at 03:51:42\n",
      "done for url  4577 at 03:51:54\n",
      "done for url  4578 at 03:52:04\n",
      "done for url  4579 at 03:52:15\n",
      "done for url  4580 at 03:52:29\n",
      "done for url  4581 at 03:52:40\n",
      "done for url  4582 at 03:52:52\n",
      "done for url  4583 at 03:53:03\n",
      "done for url  4584 at 03:53:19\n",
      "done for url  4585 at 03:53:31\n",
      "done for url  4586 at 03:53:45\n",
      "done for url  4587 at 03:53:56\n",
      "done for url  4588 at 03:54:07\n",
      "done for url  4589 at 03:54:20\n",
      "done for url  4590 at 03:54:33\n",
      "done for url  4591 at 03:54:44\n",
      "done for url  4592 at 03:54:55\n",
      "done for url  4593 at 03:55:07\n",
      "done for url  4594 at 03:55:19\n",
      "done for url  4595 at 03:55:31\n",
      "done for url  4596 at 03:55:43\n",
      "done for url  4597 at 03:55:55\n",
      "done for url  4598 at 03:56:07\n",
      "done for url  4599 at 03:56:18\n",
      "done for url  4600 at 03:56:28\n",
      "done for url  4601 at 03:56:40\n",
      "done for url  4602 at 03:56:50\n",
      "done for url  4603 at 03:57:03\n",
      "done for url  4604 at 03:57:15\n",
      "done for url  4605 at 03:57:26\n",
      "done for url  4606 at 03:57:38\n",
      "done for url  4607 at 03:57:50\n",
      "done for url  4608 at 03:58:01\n",
      "done for url  4609 at 03:58:12\n",
      "done for url  4610 at 03:58:23\n",
      "done for url  4611 at 03:58:35\n",
      "done for url  4612 at 03:58:45\n",
      "done for url  4613 at 03:58:55\n",
      "done for url  4614 at 03:59:07\n",
      "done for url  4615 at 03:59:19\n",
      "done for url  4616 at 03:59:35\n",
      "done for url  4617 at 03:59:50\n",
      "done for url  4618 at 04:00:00\n",
      "done for url  4619 at 04:00:13\n",
      "done for url  4620 at 04:00:27\n",
      "done for url  4621 at 04:00:39\n",
      "done for url  4622 at 04:00:51\n",
      "done for url  4623 at 04:01:05\n",
      "done for url  4624 at 04:01:18\n",
      "done for url  4625 at 04:01:30\n",
      "done for url  4626 at 04:01:40\n",
      "done for url  4627 at 04:01:51\n",
      "done for url  4628 at 04:02:05\n",
      "done for url  4629 at 04:02:18\n",
      "done for url  4630 at 04:02:29\n",
      "done for url  4631 at 04:02:42\n",
      "done for url  4632 at 04:02:54\n",
      "done for url  4633 at 04:03:05\n",
      "done for url  4634 at 04:03:17\n",
      "done for url  4635 at 04:03:28\n",
      "done for url  4636 at 04:03:40\n",
      "done for url  4637 at 04:03:55\n",
      "done for url  4638 at 04:04:06\n",
      "done for url  4639 at 04:04:17\n",
      "done for url  4640 at 04:04:29\n",
      "done for url  4641 at 04:04:40\n",
      "done for url  4642 at 04:04:51\n",
      "done for url  4643 at 04:05:03\n",
      "done for url  4644 at 04:05:18\n",
      "done for url  4645 at 04:05:30\n",
      "done for url  4646 at 04:05:41\n",
      "done for url  4647 at 04:05:52\n",
      "done for url  4648 at 04:06:05\n",
      "done for url  4649 at 04:06:18\n",
      "done for url  4650 at 04:06:29\n",
      "done for url  4651 at 04:06:41\n",
      "done for url  4652 at 04:06:54\n",
      "done for url  4653 at 04:07:07\n",
      "done for url  4654 at 04:07:17\n",
      "done for url  4655 at 04:07:31\n",
      "done for url  4656 at 04:07:43\n",
      "done for url  4657 at 04:07:55\n",
      "done for url  4658 at 04:08:05\n",
      "done for url  4659 at 04:08:16\n",
      "done for url  4660 at 04:08:27\n",
      "done for url  4661 at 04:08:38\n",
      "done for url  4662 at 04:08:49\n",
      "done for url  4663 at 04:09:01\n",
      "done for url  4664 at 04:09:14\n",
      "done for url  4665 at 04:09:25\n",
      "done for url  4666 at 04:09:36\n",
      "done for url  4667 at 04:09:48\n",
      "done for url  4668 at 04:09:57\n",
      "done for url  4669 at 04:10:09\n",
      "done for url  4670 at 04:10:22\n",
      "done for url  4671 at 04:10:34\n",
      "done for url  4672 at 04:10:47\n"
     ]
    },
    {
     "name": "stdout",
     "output_type": "stream",
     "text": [
      "done for url  4673 at 04:11:00\n",
      "done for url  4674 at 04:11:11\n",
      "done for url  4675 at 04:11:28\n",
      "done for url  4676 at 04:11:40\n",
      "done for url  4677 at 04:11:53\n",
      "done for url  4678 at 04:12:03\n",
      "done for url  4679 at 04:12:14\n",
      "done for url  4680 at 04:12:30\n",
      "done for url  4681 at 04:12:44\n",
      "done for url  4682 at 04:12:59\n",
      "done for url  4683 at 04:13:09\n",
      "done for url  4684 at 04:13:23\n",
      "done for url  4685 at 04:13:34\n",
      "done for url  4686 at 04:13:46\n",
      "done for url  4687 at 04:13:59\n",
      "done for url  4688 at 04:14:12\n",
      "done for url  4689 at 04:14:24\n",
      "done for url  4690 at 04:14:38\n",
      "done for url  4691 at 04:14:52\n",
      "done for url  4692 at 04:15:04\n",
      "done for url  4693 at 04:15:15\n",
      "done for url  4694 at 04:15:27\n",
      "done for url  4695 at 04:15:41\n",
      "done for url  4696 at 04:15:56\n",
      "done for url  4697 at 04:16:07\n",
      "done for url  4698 at 04:16:19\n",
      "done for url  4699 at 04:16:32\n",
      "done for url  4700 at 04:16:45\n",
      "done for url  4701 at 04:16:57\n",
      "done for url  4702 at 04:17:07\n",
      "done for url  4703 at 04:17:20\n",
      "done for url  4704 at 04:17:32\n",
      "done for url  4705 at 04:17:44\n",
      "done for url  4706 at 04:17:56\n",
      "done for url  4707 at 04:18:07\n",
      "done for url  4708 at 04:18:18\n",
      "done for url  4709 at 04:18:30\n",
      "done for url  4710 at 04:18:40\n",
      "done for url  4711 at 04:18:52\n",
      "done for url  4712 at 04:19:04\n",
      "done for url  4713 at 04:19:15\n",
      "done for url  4714 at 04:19:28\n",
      "done for url  4715 at 04:19:40\n",
      "done for url  4716 at 04:19:53\n",
      "done for url  4717 at 04:20:06\n",
      "done for url  4718 at 04:20:18\n",
      "done for url  4719 at 04:20:30\n",
      "done for url  4720 at 04:20:43\n",
      "done for url  4721 at 04:20:54\n",
      "done for url  4722 at 04:21:04\n",
      "done for url  4723 at 04:21:19\n",
      "done for url  4724 at 04:21:31\n",
      "done for url  4725 at 04:21:43\n",
      "done for url  4726 at 04:21:56\n",
      "done for url  4727 at 04:22:08\n",
      "done for url  4728 at 04:22:21\n",
      "done for url  4729 at 04:22:34\n",
      "done for url  4730 at 04:22:44\n",
      "done for url  4731 at 04:22:56\n",
      "done for url  4732 at 04:23:09\n",
      "done for url  4733 at 04:23:22\n",
      "done for url  4734 at 04:23:32\n",
      "done for url  4735 at 04:23:43\n",
      "done for url  4736 at 04:23:56\n",
      "done for url  4737 at 04:24:06\n",
      "done for url  4738 at 04:24:16\n",
      "done for url  4739 at 04:24:28\n",
      "done for url  4740 at 04:24:40\n",
      "done for url  4741 at 04:24:51\n",
      "done for url  4742 at 04:25:03\n",
      "done for url  4743 at 04:25:16\n",
      "done for url  4744 at 04:25:30\n",
      "done for url  4745 at 04:25:40\n",
      "done for url  4746 at 04:25:53\n",
      "done for url  4747 at 04:26:07\n",
      "done for url  4748 at 04:26:20\n",
      "done for url  4749 at 04:26:32\n",
      "done for url  4750 at 04:26:43\n",
      "done for url  4751 at 04:26:54\n",
      "done for url  4752 at 04:27:06\n",
      "done for url  4753 at 04:27:18\n",
      "done for url  4754 at 04:27:28\n",
      "done for url  4755 at 04:27:39\n",
      "done for url  4756 at 04:27:52\n",
      "done for url  4757 at 04:28:02\n",
      "done for url  4758 at 04:28:13\n",
      "done for url  4759 at 04:28:25\n",
      "done for url  4760 at 04:28:36\n",
      "done for url  4761 at 04:28:47\n",
      "done for url  4762 at 04:28:59\n",
      "done for url  4763 at 04:29:12\n",
      "done for url  4764 at 04:29:24\n",
      "done for url  4765 at 04:29:36\n",
      "done for url  4766 at 04:29:49\n",
      "done for url  4767 at 04:30:01\n",
      "done for url  4768 at 04:30:12\n",
      "done for url  4769 at 04:30:23\n",
      "done for url  4770 at 04:30:36\n",
      "done for url  4771 at 04:30:47\n",
      "done for url  4772 at 04:30:58\n",
      "done for url  4773 at 04:31:11\n",
      "done for url  4774 at 04:31:24\n",
      "done for url  4775 at 04:31:35\n",
      "done for url  4776 at 04:31:45\n",
      "done for url  4777 at 04:31:57\n",
      "done for url  4778 at 04:32:10\n",
      "done for url  4779 at 04:32:21\n",
      "done for url  4780 at 04:32:32\n",
      "done for url  4781 at 04:32:44\n",
      "done for url  4782 at 04:32:58\n",
      "done for url  4783 at 04:33:10\n",
      "done for url  4784 at 04:33:21\n",
      "done for url  4785 at 04:33:34\n",
      "done for url  4786 at 04:33:47\n",
      "done for url  4787 at 04:34:01\n",
      "done for url  4788 at 04:34:11\n",
      "done for url  4789 at 04:34:23\n",
      "done for url  4790 at 04:34:35\n",
      "done for url  4791 at 04:34:47\n",
      "done for url  4792 at 04:34:58\n",
      "done for url  4793 at 04:35:11\n",
      "done for url  4794 at 04:35:25\n",
      "done for url  4795 at 04:35:38\n",
      "done for url  4796 at 04:35:49\n",
      "done for url  4797 at 04:36:00\n",
      "done for url  4798 at 04:36:12\n",
      "done for url  4799 at 04:36:23\n",
      "done for url  4800 at 04:36:35\n",
      "done for url  4801 at 04:36:48\n",
      "done for url  4802 at 04:37:00\n",
      "done for url  4803 at 04:37:13\n",
      "done for url  4804 at 04:37:25\n",
      "done for url  4805 at 04:37:39\n",
      "done for url  4806 at 04:37:50\n",
      "done for url  4807 at 04:38:04\n",
      "done for url  4808 at 04:38:18\n",
      "done for url  4809 at 04:38:30\n",
      "done for url  4810 at 04:38:41\n",
      "done for url  4811 at 04:38:53\n",
      "done for url  4812 at 04:39:05\n",
      "done for url  4813 at 04:39:15\n",
      "done for url  4814 at 04:39:26\n",
      "done for url  4815 at 04:39:38\n",
      "done for url  4816 at 04:39:49\n",
      "done for url  4817 at 04:40:24\n",
      "done for url  4818 at 04:40:42\n",
      "done for url  4819 at 04:40:52\n",
      "done for url  4820 at 04:41:03\n",
      "done for url  4821 at 04:41:14\n",
      "done for url  4822 at 04:41:26\n",
      "done for url  4823 at 04:41:37\n",
      "done for url  4824 at 04:41:48\n",
      "done for url  4825 at 04:42:00\n",
      "done for url  4826 at 04:42:13\n",
      "done for url  4827 at 04:42:25\n",
      "done for url  4828 at 04:42:38\n",
      "done for url  4829 at 04:42:49\n",
      "done for url  4830 at 04:43:00\n",
      "done for url  4831 at 04:43:11\n",
      "done for url  4832 at 04:43:24\n",
      "done for url  4833 at 04:43:38\n",
      "done for url  4834 at 04:43:49\n",
      "done for url  4835 at 04:44:01\n",
      "done for url  4836 at 04:44:12\n",
      "done for url  4837 at 04:44:25\n",
      "done for url  4838 at 04:44:37\n",
      "done for url  4839 at 04:44:47\n",
      "done for url  4840 at 04:44:59\n",
      "done for url  4841 at 04:45:09\n",
      "done for url  4842 at 04:45:24\n",
      "done for url  4843 at 04:45:35\n",
      "done for url  4844 at 04:45:48\n",
      "done for url  4845 at 04:46:01\n",
      "done for url  4846 at 04:46:11\n",
      "done for url  4847 at 04:46:23\n",
      "done for url  4848 at 04:46:36\n",
      "done for url  4849 at 04:46:47\n",
      "done for url  4850 at 04:46:59\n",
      "done for url  4851 at 04:47:11\n",
      "done for url  4852 at 04:47:24\n",
      "done for url  4853 at 04:47:37\n",
      "done for url  4854 at 04:47:47\n",
      "done for url  4855 at 04:48:00\n",
      "done for url  4856 at 04:48:12\n",
      "done for url  4857 at 04:48:25\n",
      "done for url  4858 at 04:48:36\n",
      "done for url  4859 at 04:48:48\n",
      "done for url  4860 at 04:48:59\n",
      "done for url  4861 at 04:49:11\n",
      "done for url  4862 at 04:49:24\n",
      "done for url  4863 at 04:49:36\n",
      "done for url  4864 at 04:49:48\n",
      "done for url  4865 at 04:50:01\n",
      "done for url  4866 at 04:50:11\n",
      "done for url  4867 at 04:50:23\n",
      "done for url  4868 at 04:50:35\n",
      "done for url  4869 at 04:50:46\n",
      "done for url  4870 at 04:50:58\n",
      "done for url  4871 at 04:51:10\n",
      "done for url  4872 at 04:51:22\n",
      "done for url  4873 at 04:51:34\n",
      "done for url  4874 at 04:51:45\n",
      "done for url  4875 at 04:51:58\n",
      "done for url  4876 at 04:52:10\n",
      "done for url  4877 at 04:52:22\n",
      "done for url  4878 at 04:52:35\n",
      "done for url  4879 at 04:52:50\n",
      "done for url  4880 at 04:53:06\n",
      "done for url  4881 at 04:53:20\n",
      "done for url  4882 at 04:53:40\n",
      "done for url  4883 at 04:53:52\n",
      "done for url  4884 at 04:54:06\n",
      "done for url  4885 at 04:54:21\n",
      "done for url  4886 at 04:54:35\n",
      "done for url  4887 at 04:54:48\n",
      "done for url  4888 at 04:55:03\n",
      "done for url  4889 at 04:55:16\n",
      "done for url  4890 at 04:55:28\n",
      "done for url  4891 at 04:55:43\n",
      "done for url  4892 at 04:55:57\n",
      "done for url  4893 at 04:56:09\n",
      "done for url  4894 at 04:56:20\n",
      "done for url  4895 at 04:56:31\n",
      "done for url  4896 at 04:56:42\n",
      "done for url  4897 at 04:56:53\n",
      "done for url  4898 at 04:57:03\n",
      "done for url  4899 at 04:57:15\n",
      "done for url  4900 at 04:57:26\n",
      "done for url  4901 at 04:57:38\n",
      "done for url  4902 at 04:57:51\n",
      "done for url  4903 at 04:58:03\n",
      "done for url  4904 at 04:58:15\n",
      "done for url  4905 at 04:58:26\n",
      "done for url  4906 at 04:58:37\n",
      "done for url  4907 at 04:58:50\n",
      "done for url  4908 at 04:59:02\n",
      "done for url  4909 at 04:59:13\n",
      "done for url  4910 at 04:59:25\n",
      "done for url  4911 at 04:59:37\n",
      "done for url  4912 at 04:59:47\n",
      "done for url  4913 at 04:59:59\n",
      "done for url  4914 at 05:00:11\n",
      "done for url  4915 at 05:00:21\n",
      "done for url  4916 at 05:00:32\n",
      "done for url  4917 at 05:00:46\n",
      "done for url  4918 at 05:00:59\n",
      "done for url  4919 at 05:01:11\n",
      "done for url  4920 at 05:01:21\n",
      "done for url  4921 at 05:01:32\n",
      "done for url  4922 at 05:01:46\n",
      "done for url  4923 at 05:02:00\n",
      "done for url  4924 at 05:02:12\n",
      "done for url  4925 at 05:02:23\n",
      "done for url  4926 at 05:02:35\n",
      "done for url  4927 at 05:02:45\n",
      "done for url  4928 at 05:02:56\n",
      "done for url  4929 at 05:03:15\n",
      "done for url  4930 at 05:03:27\n",
      "done for url  4931 at 05:03:40\n",
      "done for url  4932 at 05:03:52\n",
      "done for url  4933 at 05:04:04\n",
      "done for url  4934 at 05:04:16\n",
      "done for url  4935 at 05:04:29\n",
      "done for url  4936 at 05:04:45\n",
      "done for url  4937 at 05:04:59\n"
     ]
    },
    {
     "name": "stdout",
     "output_type": "stream",
     "text": [
      "done for url  4938 at 05:05:12\n",
      "done for url  4939 at 05:05:23\n",
      "done for url  4940 at 05:05:37\n",
      "done for url  4941 at 05:05:49\n",
      "done for url  4942 at 05:06:00\n",
      "done for url  4943 at 05:06:13\n",
      "done for url  4944 at 05:06:24\n",
      "done for url  4945 at 05:06:37\n",
      "done for url  4946 at 05:06:49\n",
      "done for url  4947 at 05:06:59\n",
      "done for url  4948 at 05:07:12\n",
      "done for url  4949 at 05:07:25\n",
      "done for url  4950 at 05:07:38\n",
      "done for url  4951 at 05:07:51\n",
      "done for url  4952 at 05:08:03\n",
      "done for url  4953 at 05:08:15\n",
      "done for url  4954 at 05:08:26\n",
      "done for url  4955 at 05:08:36\n",
      "done for url  4956 at 05:08:47\n",
      "done for url  4957 at 05:08:59\n",
      "done for url  4958 at 05:09:11\n",
      "done for url  4959 at 05:09:24\n",
      "done for url  4960 at 05:09:36\n",
      "done for url  4961 at 05:09:50\n",
      "done for url  4962 at 05:10:02\n",
      "done for url  4963 at 05:10:14\n",
      "done for url  4964 at 05:10:25\n",
      "done for url  4965 at 05:10:38\n",
      "done for url  4966 at 05:10:49\n",
      "done for url  4967 at 05:11:00\n",
      "done for url  4968 at 05:11:11\n",
      "done for url  4969 at 05:11:22\n",
      "done for url  4970 at 05:11:33\n",
      "done for url  4971 at 05:11:44\n",
      "done for url  4972 at 05:11:56\n",
      "done for url  4973 at 05:12:09\n",
      "done for url  4974 at 05:12:20\n",
      "done for url  4975 at 05:12:31\n",
      "done for url  4976 at 05:12:44\n",
      "done for url  4977 at 05:12:55\n",
      "done for url  4978 at 05:13:07\n",
      "done for url  4979 at 05:13:19\n",
      "done for url  4980 at 05:13:31\n",
      "done for url  4981 at 05:13:43\n",
      "done for url  4982 at 05:13:54\n",
      "done for url  4983 at 05:14:06\n",
      "done for url  4984 at 05:14:19\n",
      "done for url  4985 at 05:14:29\n",
      "done for url  4986 at 05:14:41\n",
      "done for url  4987 at 05:14:54\n",
      "done for url  4988 at 05:15:05\n",
      "done for url  4989 at 05:15:15\n",
      "done for url  4990 at 05:15:26\n",
      "done for url  4991 at 05:15:38\n",
      "done for url  4992 at 05:15:51\n",
      "done for url  4993 at 05:16:01\n",
      "done for url  4994 at 05:16:17\n",
      "done for url  4995 at 05:16:28\n",
      "done for url  4996 at 05:16:42\n",
      "done for url  4997 at 05:16:53\n",
      "done for url  4998 at 05:17:05\n",
      "done for url  4999 at 05:17:17\n",
      "done for url  5000 at 05:17:30\n",
      "done for url  5001 at 05:17:42\n",
      "done for url  5002 at 05:17:55\n",
      "done for url  5003 at 05:18:06\n",
      "done for url  5004 at 05:18:18\n",
      "done for url  5005 at 05:18:29\n",
      "done for url  5006 at 05:18:41\n",
      "done for url  5007 at 05:18:53\n",
      "done for url  5008 at 05:19:04\n",
      "done for url  5009 at 05:19:16\n",
      "done for url  5010 at 05:19:28\n",
      "done for url  5011 at 05:19:40\n",
      "done for url  5012 at 05:19:54\n",
      "done for url  5013 at 05:20:05\n",
      "done for url  5014 at 05:20:16\n",
      "done for url  5015 at 05:20:28\n",
      "done for url  5016 at 05:20:40\n",
      "done for url  5017 at 05:20:52\n",
      "done for url  5018 at 05:21:02\n",
      "done for url  5019 at 05:21:15\n",
      "done for url  5020 at 05:21:25\n",
      "done for url  5021 at 05:21:36\n",
      "done for url  5022 at 05:21:49\n",
      "done for url  5023 at 05:22:01\n",
      "done for url  5024 at 05:22:12\n",
      "done for url  5025 at 05:22:23\n",
      "done for url  5026 at 05:22:34\n",
      "done for url  5027 at 05:22:44\n",
      "done for url  5028 at 05:22:54\n",
      "done for url  5029 at 05:23:06\n",
      "done for url  5030 at 05:23:15\n",
      "done for url  5031 at 05:23:26\n",
      "done for url  5032 at 05:23:40\n",
      "done for url  5033 at 05:23:53\n",
      "done for url  5034 at 05:24:02\n",
      "done for url  5035 at 05:24:17\n",
      "done for url  5036 at 05:24:29\n",
      "done for url  5037 at 05:24:40\n",
      "done for url  5038 at 05:24:52\n",
      "done for url  5039 at 05:25:04\n",
      "done for url  5040 at 05:25:18\n",
      "done for url  5041 at 05:25:31\n",
      "done for url  5042 at 05:25:43\n",
      "done for url  5043 at 05:25:55\n",
      "done for url  5044 at 05:26:07\n",
      "done for url  5045 at 05:26:19\n",
      "done for url  5046 at 05:26:30\n",
      "done for url  5047 at 05:26:42\n",
      "done for url  5048 at 05:26:55\n",
      "done for url  5049 at 05:27:09\n",
      "done for url  5050 at 05:27:22\n",
      "done for url  5051 at 05:27:32\n",
      "done for url  5052 at 05:27:46\n",
      "done for url  5053 at 05:27:58\n",
      "done for url  5054 at 05:28:10\n",
      "done for url  5055 at 05:28:21\n",
      "done for url  5056 at 05:28:32\n",
      "done for url  5057 at 05:28:45\n",
      "done for url  5058 at 05:28:59\n",
      "done for url  5059 at 05:29:10\n",
      "done for url  5060 at 05:29:21\n",
      "done for url  5061 at 05:29:34\n",
      "done for url  5062 at 05:29:46\n",
      "done for url  5063 at 05:29:58\n",
      "done for url  5064 at 05:30:10\n",
      "done for url  5065 at 05:30:22\n",
      "done for url  5066 at 05:30:35\n",
      "done for url  5067 at 05:30:47\n",
      "done for url  5068 at 05:31:00\n",
      "done for url  5069 at 05:31:14\n",
      "done for url  5070 at 05:31:26\n",
      "done for url  5071 at 05:31:36\n",
      "done for url  5072 at 05:31:47\n",
      "done for url  5073 at 05:31:59\n",
      "done for url  5074 at 05:32:12\n",
      "done for url  5075 at 05:32:23\n",
      "done for url  5076 at 05:32:34\n",
      "done for url  5077 at 05:32:45\n",
      "done for url  5078 at 05:32:56\n",
      "done for url  5079 at 05:33:06\n",
      "done for url  5080 at 05:33:17\n",
      "done for url  5081 at 05:33:29\n",
      "done for url  5082 at 05:33:39\n",
      "done for url  5083 at 05:33:50\n",
      "done for url  5084 at 05:34:02\n",
      "done for url  5085 at 05:34:16\n",
      "done for url  5086 at 05:34:25\n",
      "done for url  5087 at 05:34:37\n",
      "done for url  5088 at 05:34:49\n",
      "done for url  5089 at 05:35:00\n",
      "done for url  5090 at 05:35:10\n",
      "done for url  5091 at 05:35:22\n",
      "done for url  5092 at 05:35:34\n",
      "done for url  5093 at 05:35:44\n",
      "done for url  5094 at 05:35:57\n",
      "done for url  5095 at 05:36:08\n",
      "done for url  5096 at 05:36:20\n",
      "done for url  5097 at 05:36:32\n",
      "done for url  5098 at 05:36:45\n",
      "done for url  5099 at 05:36:57\n",
      "done for url  5100 at 05:37:08\n",
      "done for url  5101 at 05:37:20\n",
      "done for url  5102 at 05:37:34\n",
      "done for url  5103 at 05:37:47\n",
      "done for url  5104 at 05:37:57\n",
      "done for url  5105 at 05:38:08\n",
      "done for url  5106 at 05:38:21\n",
      "done for url  5107 at 05:38:34\n",
      "done for url  5108 at 05:38:45\n",
      "done for url  5109 at 05:38:58\n",
      "done for url  5110 at 05:39:12\n",
      "done for url  5111 at 05:39:24\n",
      "done for url  5112 at 05:39:35\n",
      "done for url  5113 at 05:39:45\n",
      "done for url  5114 at 05:39:56\n",
      "done for url  5115 at 05:40:09\n",
      "done for url  5116 at 05:40:20\n",
      "done for url  5117 at 05:40:31\n",
      "done for url  5118 at 05:40:44\n",
      "done for url  5119 at 05:40:56\n",
      "done for url  5120 at 05:41:05\n",
      "done for url  5121 at 05:41:18\n",
      "done for url  5122 at 05:41:31\n",
      "done for url  5123 at 05:41:43\n",
      "done for url  5124 at 05:41:54\n",
      "done for url  5125 at 05:42:06\n",
      "done for url  5126 at 05:42:18\n",
      "done for url  5127 at 05:42:33\n",
      "done for url  5128 at 05:42:44\n",
      "done for url  5129 at 05:42:56\n",
      "done for url  5130 at 05:43:09\n",
      "done for url  5131 at 05:43:21\n",
      "done for url  5132 at 05:43:32\n",
      "done for url  5133 at 05:43:44\n",
      "done for url  5134 at 05:43:58\n",
      "done for url  5135 at 05:44:10\n",
      "done for url  5136 at 05:44:21\n",
      "done for url  5137 at 05:44:33\n",
      "done for url  5138 at 05:44:44\n",
      "done for url  5139 at 05:44:55\n",
      "done for url  5140 at 05:45:07\n",
      "done for url  5141 at 05:45:19\n",
      "done for url  5142 at 05:45:30\n",
      "done for url  5143 at 05:45:41\n",
      "done for url  5144 at 05:45:52\n",
      "done for url  5145 at 05:46:04\n",
      "done for url  5146 at 05:46:14\n",
      "done for url  5147 at 05:46:24\n",
      "done for url  5148 at 05:46:36\n",
      "done for url  5149 at 05:46:50\n",
      "done for url  5150 at 05:47:01\n",
      "done for url  5151 at 05:47:13\n",
      "done for url  5152 at 05:47:24\n",
      "done for url  5153 at 05:47:34\n",
      "done for url  5154 at 05:47:48\n",
      "done for url  5155 at 05:47:59\n",
      "done for url  5156 at 05:48:12\n",
      "done for url  5157 at 05:48:24\n",
      "done for url  5158 at 05:48:35\n",
      "done for url  5159 at 05:48:46\n",
      "done for url  5160 at 05:48:58\n",
      "done for url  5161 at 05:49:08\n",
      "done for url  5162 at 05:49:20\n",
      "done for url  5163 at 05:49:31\n",
      "done for url  5164 at 05:49:40\n",
      "done for url  5165 at 05:49:51\n",
      "done for url  5166 at 05:50:05\n",
      "done for url  5167 at 05:50:16\n",
      "done for url  5168 at 05:50:27\n",
      "done for url  5169 at 05:50:39\n",
      "done for url  5170 at 05:50:51\n",
      "done for url  5171 at 05:51:02\n",
      "done for url  5172 at 05:51:15\n",
      "done for url  5173 at 05:51:27\n",
      "done for url  5174 at 05:51:38\n",
      "done for url  5175 at 05:51:49\n",
      "done for url  5176 at 05:52:01\n",
      "done for url  5177 at 05:52:13\n",
      "done for url  5178 at 05:52:24\n",
      "done for url  5179 at 05:52:34\n",
      "done for url  5180 at 05:52:47\n",
      "done for url  5181 at 05:52:59\n",
      "done for url  5182 at 05:53:12\n",
      "done for url  5183 at 05:53:24\n",
      "done for url  5184 at 05:53:36\n",
      "done for url  5185 at 05:53:49\n",
      "done for url  5186 at 05:54:01\n",
      "done for url  5187 at 05:54:12\n",
      "done for url  5188 at 05:54:27\n",
      "done for url  5189 at 05:54:38\n",
      "done for url  5190 at 05:54:49\n",
      "done for url  5191 at 05:55:00\n",
      "done for url  5192 at 05:55:10\n",
      "done for url  5193 at 05:55:24\n",
      "done for url  5194 at 05:55:37\n",
      "done for url  5195 at 05:55:47\n",
      "done for url  5196 at 05:55:59\n",
      "done for url  5197 at 05:56:11\n",
      "done for url  5198 at 05:56:22\n",
      "done for url  5199 at 05:56:35\n",
      "done for url  5200 at 05:56:45\n",
      "done for url  5201 at 05:56:59\n",
      "done for url  5202 at 05:57:10\n"
     ]
    },
    {
     "name": "stdout",
     "output_type": "stream",
     "text": [
      "done for url  5203 at 05:57:22\n",
      "done for url  5204 at 05:57:35\n",
      "done for url  5205 at 05:57:48\n",
      "done for url  5206 at 05:58:00\n",
      "done for url  5207 at 05:58:10\n",
      "done for url  5208 at 05:58:22\n",
      "done for url  5209 at 05:58:34\n",
      "done for url  5210 at 05:58:45\n",
      "done for url  5211 at 05:58:56\n",
      "done for url  5212 at 05:59:07\n",
      "done for url  5213 at 05:59:18\n",
      "done for url  5214 at 05:59:30\n",
      "done for url  5215 at 05:59:40\n",
      "done for url  5216 at 05:59:52\n",
      "done for url  5217 at 06:00:17\n",
      "done for url  5218 at 06:00:29\n",
      "done for url  5219 at 06:00:43\n",
      "done for url  5220 at 06:00:54\n",
      "done for url  5221 at 06:01:05\n",
      "done for url  5222 at 06:01:17\n",
      "done for url  5223 at 06:01:28\n",
      "done for url  5224 at 06:01:39\n",
      "done for url  5225 at 06:01:51\n",
      "done for url  5226 at 06:02:03\n",
      "done for url  5227 at 06:02:15\n",
      "done for url  5228 at 06:02:31\n",
      "done for url  5229 at 06:02:45\n",
      "done for url  5230 at 06:02:58\n",
      "done for url  5231 at 06:03:11\n",
      "done for url  5232 at 06:03:24\n",
      "done for url  5233 at 06:03:36\n",
      "done for url  5234 at 06:03:47\n",
      "done for url  5235 at 06:03:59\n",
      "done for url  5236 at 06:04:11\n",
      "done for url  5237 at 06:04:23\n",
      "done for url  5238 at 06:04:35\n",
      "done for url  5239 at 06:04:48\n",
      "done for url  5240 at 06:05:00\n",
      "done for url  5241 at 06:05:12\n",
      "done for url  5242 at 06:05:23\n",
      "done for url  5243 at 06:05:34\n",
      "done for url  5244 at 06:05:45\n",
      "done for url  5245 at 06:05:56\n",
      "done for url  5246 at 06:06:07\n",
      "done for url  5247 at 06:06:20\n",
      "done for url  5248 at 06:06:31\n",
      "done for url  5249 at 06:06:42\n",
      "done for url  5250 at 06:06:53\n",
      "done for url  5251 at 06:07:05\n",
      "done for url  5252 at 06:07:17\n",
      "done for url  5253 at 06:07:28\n",
      "done for url  5254 at 06:07:43\n",
      "done for url  5255 at 06:07:58\n",
      "done for url  5256 at 06:08:09\n",
      "done for url  5257 at 06:08:19\n",
      "done for url  5258 at 06:08:30\n",
      "done for url  5259 at 06:08:51\n",
      "done for url  5260 at 06:09:03\n",
      "done for url  5261 at 06:09:17\n",
      "done for url  5262 at 06:09:28\n",
      "done for url  5263 at 06:09:40\n",
      "done for url  5264 at 06:09:51\n",
      "done for url  5265 at 06:10:04\n",
      "done for url  5266 at 06:10:15\n",
      "done for url  5267 at 06:10:26\n",
      "done for url  5268 at 06:10:38\n",
      "done for url  5269 at 06:10:50\n",
      "done for url  5270 at 06:11:02\n",
      "done for url  5271 at 06:11:13\n",
      "done for url  5272 at 06:11:26\n",
      "done for url  5273 at 06:11:39\n",
      "done for url  5274 at 06:11:51\n",
      "done for url  5275 at 06:12:04\n",
      "done for url  5276 at 06:12:15\n",
      "done for url  5277 at 06:12:27\n",
      "done for url  5278 at 06:12:43\n",
      "done for url  5279 at 06:12:56\n",
      "done for url  5280 at 06:13:06\n",
      "done for url  5281 at 06:13:19\n",
      "done for url  5282 at 06:13:30\n",
      "done for url  5283 at 06:13:43\n",
      "done for url  5284 at 06:13:55\n",
      "done for url  5285 at 06:14:07\n",
      "done for url  5286 at 06:14:20\n",
      "done for url  5287 at 06:14:33\n",
      "done for url  5288 at 06:14:45\n",
      "done for url  5289 at 06:14:56\n",
      "done for url  5290 at 06:15:09\n",
      "done for url  5291 at 06:15:23\n",
      "done for url  5292 at 06:15:34\n",
      "done for url  5293 at 06:15:44\n",
      "done for url  5294 at 06:15:57\n",
      "done for url  5295 at 06:16:10\n",
      "done for url  5296 at 06:16:20\n",
      "done for url  5297 at 06:16:31\n",
      "done for url  5298 at 06:16:46\n",
      "done for url  5299 at 06:16:59\n",
      "done for url  5300 at 06:17:11\n",
      "done for url  5301 at 06:17:23\n",
      "done for url  5302 at 06:17:34\n",
      "done for url  5303 at 06:17:46\n",
      "done for url  5304 at 06:17:56\n",
      "done for url  5305 at 06:18:06\n",
      "done for url  5306 at 06:18:18\n",
      "done for url  5307 at 06:18:29\n",
      "done for url  5308 at 06:18:39\n",
      "done for url  5309 at 06:18:50\n",
      "done for url  5310 at 06:19:02\n",
      "done for url  5311 at 06:19:13\n",
      "done for url  5312 at 06:19:24\n",
      "done for url  5313 at 06:19:35\n",
      "done for url  5314 at 06:19:46\n",
      "done for url  5315 at 06:19:58\n",
      "done for url  5316 at 06:20:11\n",
      "done for url  5317 at 06:20:24\n",
      "done for url  5318 at 06:20:36\n",
      "done for url  5319 at 06:20:47\n",
      "done for url  5320 at 06:20:59\n",
      "done for url  5321 at 06:21:10\n",
      "done for url  5322 at 06:21:22\n",
      "done for url  5323 at 06:21:35\n",
      "done for url  5324 at 06:21:51\n",
      "done for url  5325 at 06:22:03\n",
      "done for url  5326 at 06:22:14\n",
      "done for url  5327 at 06:22:24\n",
      "done for url  5328 at 06:22:37\n",
      "done for url  5329 at 06:22:47\n",
      "done for url  5330 at 06:23:02\n",
      "done for url  5331 at 06:23:14\n",
      "done for url  5332 at 06:23:27\n",
      "done for url  5333 at 06:23:39\n",
      "done for url  5334 at 06:23:51\n",
      "done for url  5335 at 06:24:01\n",
      "done for url  5336 at 06:24:13\n",
      "done for url  5337 at 06:24:39\n",
      "done for url  5338 at 06:24:54\n",
      "done for url  5339 at 06:25:08\n",
      "done for url  5340 at 06:25:20\n",
      "done for url  5341 at 06:25:32\n",
      "done for url  5342 at 06:25:45\n",
      "done for url  5343 at 06:25:56\n",
      "done for url  5344 at 06:26:07\n",
      "done for url  5345 at 06:26:19\n",
      "done for url  5346 at 06:26:32\n",
      "done for url  5347 at 06:26:45\n",
      "done for url  5348 at 06:26:58\n",
      "done for url  5349 at 06:27:10\n",
      "done for url  5350 at 06:27:22\n",
      "done for url  5351 at 06:27:34\n",
      "done for url  5352 at 06:27:44\n",
      "done for url  5353 at 06:27:56\n",
      "done for url  5354 at 06:28:07\n",
      "done for url  5355 at 06:28:17\n",
      "done for url  5356 at 06:28:30\n",
      "done for url  5357 at 06:28:42\n",
      "done for url  5358 at 06:28:57\n",
      "done for url  5359 at 06:29:09\n",
      "done for url  5360 at 06:29:20\n",
      "done for url  5361 at 06:29:32\n",
      "done for url  5362 at 06:29:44\n",
      "done for url  5363 at 06:29:56\n",
      "done for url  5364 at 06:30:09\n",
      "done for url  5365 at 06:30:22\n",
      "done for url  5366 at 06:30:34\n",
      "done for url  5367 at 06:30:45\n",
      "done for url  5368 at 06:30:56\n",
      "done for url  5369 at 06:31:08\n",
      "done for url  5370 at 06:31:19\n",
      "done for url  5371 at 06:31:31\n",
      "done for url  5372 at 06:31:42\n",
      "done for url  5373 at 06:31:54\n",
      "done for url  5374 at 06:32:03\n",
      "done for url  5375 at 06:32:14\n",
      "done for url  5376 at 06:32:27\n",
      "done for url  5377 at 06:32:37\n",
      "done for url  5378 at 06:32:48\n",
      "done for url  5379 at 06:33:02\n",
      "done for url  5380 at 06:33:14\n",
      "done for url  5381 at 06:33:27\n",
      "done for url  5382 at 06:33:38\n",
      "done for url  5383 at 06:33:52\n",
      "done for url  5384 at 06:34:05\n",
      "done for url  5385 at 06:34:18\n",
      "done for url  5386 at 06:34:30\n",
      "done for url  5387 at 06:34:42\n",
      "done for url  5388 at 06:34:54\n",
      "done for url  5389 at 06:35:08\n",
      "done for url  5390 at 06:35:20\n",
      "done for url  5391 at 06:35:32\n",
      "done for url  5392 at 06:35:43\n",
      "done for url  5393 at 06:35:55\n",
      "done for url  5394 at 06:36:06\n",
      "done for url  5395 at 06:36:18\n",
      "done for url  5396 at 06:36:29\n",
      "done for url  5397 at 06:36:42\n",
      "done for url  5398 at 06:36:53\n",
      "done for url  5399 at 06:37:05\n",
      "done for url  5400 at 06:37:15\n",
      "done for url  5401 at 06:37:31\n",
      "done for url  5402 at 06:37:41\n",
      "done for url  5403 at 06:37:52\n",
      "done for url  5404 at 06:38:03\n",
      "done for url  5405 at 06:38:15\n",
      "done for url  5406 at 06:38:27\n",
      "done for url  5407 at 06:38:39\n",
      "done for url  5408 at 06:38:51\n",
      "done for url  5409 at 06:39:03\n",
      "done for url  5410 at 06:39:14\n",
      "done for url  5411 at 06:39:27\n",
      "done for url  5412 at 06:39:40\n",
      "done for url  5413 at 06:39:52\n",
      "done for url  5414 at 06:40:03\n",
      "done for url  5415 at 06:40:17\n",
      "done for url  5416 at 06:40:29\n",
      "done for url  5417 at 06:40:41\n",
      "done for url  5418 at 06:40:51\n",
      "done for url  5419 at 06:41:03\n",
      "done for url  5420 at 06:41:15\n",
      "done for url  5421 at 06:41:25\n",
      "done for url  5422 at 06:41:36\n",
      "done for url  5423 at 06:41:48\n",
      "done for url  5424 at 06:41:58\n",
      "done for url  5425 at 06:42:09\n",
      "done for url  5426 at 06:42:27\n",
      "done for url  5427 at 06:42:38\n"
     ]
    }
   ],
   "source": [
    "articles_df= pd.DataFrame()\n",
    "urls = pd.read_csv(\"articles_urls.csv\")\n",
    "start=140\n",
    "for index, article_url in enumerate(urls['url'][start:]):\n",
    "    driver.get(article_url)\n",
    "    articles_df = pd.concat([articles_df, pd.DataFrame.from_records([get_article_data(article_url)])], ignore_index=True)\n",
    "    print(\"done for url \", index+start, \"at\", datetime.datetime.now().strftime(\"%H:%M:%S\"))\n",
    "\n",
    "\n",
    "articles_df.to_csv(\"articles2.csv\", encoding = \"utf-8-sig\")"
   ]
  },
  {
   "cell_type": "code",
   "execution_count": 21,
   "id": "1ca62a88",
   "metadata": {},
   "outputs": [
    {
     "data": {
      "text/html": [
       "<div>\n",
       "<style scoped>\n",
       "    .dataframe tbody tr th:only-of-type {\n",
       "        vertical-align: middle;\n",
       "    }\n",
       "\n",
       "    .dataframe tbody tr th {\n",
       "        vertical-align: top;\n",
       "    }\n",
       "\n",
       "    .dataframe thead th {\n",
       "        text-align: right;\n",
       "    }\n",
       "</style>\n",
       "<table border=\"1\" class=\"dataframe\">\n",
       "  <thead>\n",
       "    <tr style=\"text-align: right;\">\n",
       "      <th></th>\n",
       "      <th>Name</th>\n",
       "      <th>Type</th>\n",
       "      <th>Date</th>\n",
       "      <th>Time</th>\n",
       "      <th>Views</th>\n",
       "      <th>Comments</th>\n",
       "      <th>Interesting</th>\n",
       "      <th>Not Interesting</th>\n",
       "      <th>URL</th>\n",
       "    </tr>\n",
       "  </thead>\n",
       "  <tbody>\n",
       "    <tr>\n",
       "      <th>0</th>\n",
       "      <td>מפקד חיל האוויר משנה מדיניות מול איומי הסרבנות...</td>\n",
       "      <td>פוליטי</td>\n",
       "      <td>02/04/23</td>\n",
       "      <td>21:15</td>\n",
       "      <td>57,479</td>\n",
       "      <td>237</td>\n",
       "      <td>1390</td>\n",
       "      <td>54</td>\n",
       "      <td>https://www.mako.co.il/news-politics/2023_q2/A...</td>\n",
       "    </tr>\n",
       "    <tr>\n",
       "      <th>1</th>\n",
       "      <td>איתמר בן גביר: \"מוכן שהמשמר הלאומי יהיה תחת המ...</td>\n",
       "      <td>פוליטי</td>\n",
       "      <td>02/04/23</td>\n",
       "      <td>20:11</td>\n",
       "      <td>49,213</td>\n",
       "      <td>70</td>\n",
       "      <td>664</td>\n",
       "      <td>100</td>\n",
       "      <td>https://www.mako.co.il/news-politics/2023_q2/A...</td>\n",
       "    </tr>\n",
       "    <tr>\n",
       "      <th>2</th>\n",
       "      <td>\"אין אלוהים לגזענים\": פעילות נגד המהפכה המשפטי...</td>\n",
       "      <td>פוליטי</td>\n",
       "      <td>02/04/23</td>\n",
       "      <td>18:59</td>\n",
       "      <td>9,495</td>\n",
       "      <td>23</td>\n",
       "      <td>398</td>\n",
       "      <td>23</td>\n",
       "      <td>https://www.mako.co.il/news-politics/2023_q2/A...</td>\n",
       "    </tr>\n",
       "    <tr>\n",
       "      <th>3</th>\n",
       "      <td>משרד החוץ הודיע לנועה תשבי על סיום תפקיד ה\"שגר...</td>\n",
       "      <td>פוליטי</td>\n",
       "      <td>02/04/23</td>\n",
       "      <td>18:36</td>\n",
       "      <td>60,767</td>\n",
       "      <td>136</td>\n",
       "      <td>1183</td>\n",
       "      <td>101</td>\n",
       "      <td>https://www.mako.co.il/news-politics/2023_q2/A...</td>\n",
       "    </tr>\n",
       "    <tr>\n",
       "      <th>4</th>\n",
       "      <td>כשבן גביר הנער הצדיק את הטבח במערת המכפלה: \"לא...</td>\n",
       "      <td>פוליטי</td>\n",
       "      <td>31/03/23</td>\n",
       "      <td>20:34</td>\n",
       "      <td>26,893</td>\n",
       "      <td>105</td>\n",
       "      <td>490</td>\n",
       "      <td>51</td>\n",
       "      <td>https://www.mako.co.il/news-politics/2023_q1/A...</td>\n",
       "    </tr>\n",
       "    <tr>\n",
       "      <th>...</th>\n",
       "      <td>...</td>\n",
       "      <td>...</td>\n",
       "      <td>...</td>\n",
       "      <td>...</td>\n",
       "      <td>...</td>\n",
       "      <td>...</td>\n",
       "      <td>...</td>\n",
       "      <td>...</td>\n",
       "      <td>...</td>\n",
       "    </tr>\n",
       "    <tr>\n",
       "      <th>5283</th>\n",
       "      <td>\"הוא למעשה אנס אותי בזמן הקליפ\": עדות חדשה כנג...</td>\n",
       "      <td>תרבות</td>\n",
       "      <td>24/01/22</td>\n",
       "      <td>19:37</td>\n",
       "      <td>68,555</td>\n",
       "      <td>2</td>\n",
       "      <td>520</td>\n",
       "      <td>138</td>\n",
       "      <td>https://www.mako.co.il/news-entertainment/2022...</td>\n",
       "    </tr>\n",
       "    <tr>\n",
       "      <th>5284</th>\n",
       "      <td>בועז שרעבי מגיב לתקרית בהופעה: \"התרגשתי לקרוא ...</td>\n",
       "      <td>תרבות</td>\n",
       "      <td>24/01/22</td>\n",
       "      <td>15:41</td>\n",
       "      <td>30,546</td>\n",
       "      <td>29</td>\n",
       "      <td>683</td>\n",
       "      <td>23</td>\n",
       "      <td>https://www.mako.co.il/news-entertainment/2022...</td>\n",
       "    </tr>\n",
       "    <tr>\n",
       "      <th>5285</th>\n",
       "      <td>\"קיימת עלייה מדאיגה בתקריות אנטישמיות בארה\"ב\"</td>\n",
       "      <td>תרבות</td>\n",
       "      <td>24/01/22</td>\n",
       "      <td>14:51</td>\n",
       "      <td>6,919</td>\n",
       "      <td>10</td>\n",
       "      <td>3</td>\n",
       "      <td>0</td>\n",
       "      <td>https://www.mako.co.il/news-entertainment/2022...</td>\n",
       "    </tr>\n",
       "    <tr>\n",
       "      <th>5286</th>\n",
       "      <td>\"בגידה והסתה\": מה חושבים במדינות ערב על הסרט ה...</td>\n",
       "      <td>תרבות</td>\n",
       "      <td>24/01/22</td>\n",
       "      <td>13:45</td>\n",
       "      <td>24,833</td>\n",
       "      <td>9</td>\n",
       "      <td>255</td>\n",
       "      <td>45</td>\n",
       "      <td>https://www.mako.co.il/news-entertainment/2022...</td>\n",
       "    </tr>\n",
       "    <tr>\n",
       "      <th>5287</th>\n",
       "      <td>\"איך מישהו מרשה לעצמו לדבר ככה למישהו מבוגר\"</td>\n",
       "      <td>תרבות</td>\n",
       "      <td>24/01/22</td>\n",
       "      <td>12:50</td>\n",
       "      <td>64,299</td>\n",
       "      <td>143</td>\n",
       "      <td>22</td>\n",
       "      <td>0</td>\n",
       "      <td>https://www.mako.co.il/news-entertainment/2022...</td>\n",
       "    </tr>\n",
       "  </tbody>\n",
       "</table>\n",
       "<p>5288 rows × 9 columns</p>\n",
       "</div>"
      ],
      "text/plain": [
       "                                                   Name    Type      Date  \\\n",
       "0     מפקד חיל האוויר משנה מדיניות מול איומי הסרבנות...  פוליטי  02/04/23   \n",
       "1     איתמר בן גביר: \"מוכן שהמשמר הלאומי יהיה תחת המ...  פוליטי  02/04/23   \n",
       "2     \"אין אלוהים לגזענים\": פעילות נגד המהפכה המשפטי...  פוליטי  02/04/23   \n",
       "3     משרד החוץ הודיע לנועה תשבי על סיום תפקיד ה\"שגר...  פוליטי  02/04/23   \n",
       "4     כשבן גביר הנער הצדיק את הטבח במערת המכפלה: \"לא...  פוליטי  31/03/23   \n",
       "...                                                 ...     ...       ...   \n",
       "5283  \"הוא למעשה אנס אותי בזמן הקליפ\": עדות חדשה כנג...   תרבות  24/01/22   \n",
       "5284  בועז שרעבי מגיב לתקרית בהופעה: \"התרגשתי לקרוא ...   תרבות  24/01/22   \n",
       "5285      \"קיימת עלייה מדאיגה בתקריות אנטישמיות בארה\"ב\"   תרבות  24/01/22   \n",
       "5286  \"בגידה והסתה\": מה חושבים במדינות ערב על הסרט ה...   תרבות  24/01/22   \n",
       "5287       \"איך מישהו מרשה לעצמו לדבר ככה למישהו מבוגר\"   תרבות  24/01/22   \n",
       "\n",
       "       Time   Views Comments Interesting Not Interesting  \\\n",
       "0     21:15  57,479      237        1390              54   \n",
       "1     20:11  49,213       70         664             100   \n",
       "2     18:59   9,495       23         398              23   \n",
       "3     18:36  60,767      136        1183             101   \n",
       "4     20:34  26,893      105         490              51   \n",
       "...     ...     ...      ...         ...             ...   \n",
       "5283  19:37  68,555        2         520             138   \n",
       "5284  15:41  30,546       29         683              23   \n",
       "5285  14:51   6,919       10           3               0   \n",
       "5286  13:45  24,833        9         255              45   \n",
       "5287  12:50  64,299      143          22               0   \n",
       "\n",
       "                                                    URL  \n",
       "0     https://www.mako.co.il/news-politics/2023_q2/A...  \n",
       "1     https://www.mako.co.il/news-politics/2023_q2/A...  \n",
       "2     https://www.mako.co.il/news-politics/2023_q2/A...  \n",
       "3     https://www.mako.co.il/news-politics/2023_q2/A...  \n",
       "4     https://www.mako.co.il/news-politics/2023_q1/A...  \n",
       "...                                                 ...  \n",
       "5283  https://www.mako.co.il/news-entertainment/2022...  \n",
       "5284  https://www.mako.co.il/news-entertainment/2022...  \n",
       "5285  https://www.mako.co.il/news-entertainment/2022...  \n",
       "5286  https://www.mako.co.il/news-entertainment/2022...  \n",
       "5287  https://www.mako.co.il/news-entertainment/2022...  \n",
       "\n",
       "[5288 rows x 9 columns]"
      ]
     },
     "execution_count": 21,
     "metadata": {},
     "output_type": "execute_result"
    }
   ],
   "source": [
    "articles_df"
   ]
  },
  {
   "cell_type": "code",
   "execution_count": 23,
   "id": "c9a0c8df",
   "metadata": {},
   "outputs": [],
   "source": [
    "articles1 = pd.read_csv(\"articles1.csv\")\n",
    "articles2 = pd.read_csv(\"articles2.csv\")\n",
    "articles_df= pd.concat([articles1, articles2], ignore_index=True)\n",
    "articles_df.to_csv(\"articles.csv\", encoding = \"utf-8-sig\")"
   ]
  },
  {
   "cell_type": "code",
   "execution_count": 24,
   "id": "66923ba5",
   "metadata": {},
   "outputs": [
    {
     "data": {
      "text/html": [
       "<div>\n",
       "<style scoped>\n",
       "    .dataframe tbody tr th:only-of-type {\n",
       "        vertical-align: middle;\n",
       "    }\n",
       "\n",
       "    .dataframe tbody tr th {\n",
       "        vertical-align: top;\n",
       "    }\n",
       "\n",
       "    .dataframe thead th {\n",
       "        text-align: right;\n",
       "    }\n",
       "</style>\n",
       "<table border=\"1\" class=\"dataframe\">\n",
       "  <thead>\n",
       "    <tr style=\"text-align: right;\">\n",
       "      <th></th>\n",
       "      <th>Unnamed: 0</th>\n",
       "      <th>Name</th>\n",
       "      <th>Type</th>\n",
       "      <th>Date</th>\n",
       "      <th>Time</th>\n",
       "      <th>Views</th>\n",
       "      <th>Comments</th>\n",
       "      <th>Interesting</th>\n",
       "      <th>Not Interesting</th>\n",
       "      <th>URL</th>\n",
       "    </tr>\n",
       "  </thead>\n",
       "  <tbody>\n",
       "    <tr>\n",
       "      <th>0</th>\n",
       "      <td>0</td>\n",
       "      <td>או התפטרות או התקפלות: הדילמה של יריב לוין והה...</td>\n",
       "      <td>NaN</td>\n",
       "      <td>08/06/23</td>\n",
       "      <td>19:50</td>\n",
       "      <td>65,697</td>\n",
       "      <td>88</td>\n",
       "      <td>2682</td>\n",
       "      <td>68</td>\n",
       "      <td>https://www.mako.co.il/news-politics/2023_q2/A...</td>\n",
       "    </tr>\n",
       "    <tr>\n",
       "      <th>1</th>\n",
       "      <td>1</td>\n",
       "      <td>או התפטרות או התקפלות: הדילמה של יריב לוין והה...</td>\n",
       "      <td>NaN</td>\n",
       "      <td>08/06/23</td>\n",
       "      <td>19:50</td>\n",
       "      <td>65,723</td>\n",
       "      <td>88</td>\n",
       "      <td>2683</td>\n",
       "      <td>68</td>\n",
       "      <td>https://www.mako.co.il/news-politics/2023_q2/A...</td>\n",
       "    </tr>\n",
       "    <tr>\n",
       "      <th>2</th>\n",
       "      <td>2</td>\n",
       "      <td>\"היו לי שש שנים של הצלחות היסטוריות, כשגנץ הפנ...</td>\n",
       "      <td>NaN</td>\n",
       "      <td>08/06/23</td>\n",
       "      <td>18:26</td>\n",
       "      <td>16,119</td>\n",
       "      <td>13</td>\n",
       "      <td>157</td>\n",
       "      <td>45</td>\n",
       "      <td>https://www.mako.co.il/news-politics/2023_q2/A...</td>\n",
       "    </tr>\n",
       "    <tr>\n",
       "      <th>3</th>\n",
       "      <td>3</td>\n",
       "      <td>מהומה בבוסטון: מפגין ניסה להתקרב לשר ברקת ונהד...</td>\n",
       "      <td>פוליטי</td>\n",
       "      <td>08/06/23</td>\n",
       "      <td>17:31</td>\n",
       "      <td>22,643</td>\n",
       "      <td>62</td>\n",
       "      <td>502</td>\n",
       "      <td>72</td>\n",
       "      <td>https://www.mako.co.il/news-politics/2023_q2/A...</td>\n",
       "    </tr>\n",
       "    <tr>\n",
       "      <th>4</th>\n",
       "      <td>4</td>\n",
       "      <td>\"אם רה\"מ מעוניין להדיח אותי מתפקידי - שיתכבד\":...</td>\n",
       "      <td>פוליטי</td>\n",
       "      <td>08/06/23</td>\n",
       "      <td>14:44</td>\n",
       "      <td>54,628</td>\n",
       "      <td>39</td>\n",
       "      <td>1165</td>\n",
       "      <td>64</td>\n",
       "      <td>https://www.mako.co.il/news-politics/2023_q2/A...</td>\n",
       "    </tr>\n",
       "    <tr>\n",
       "      <th>...</th>\n",
       "      <td>...</td>\n",
       "      <td>...</td>\n",
       "      <td>...</td>\n",
       "      <td>...</td>\n",
       "      <td>...</td>\n",
       "      <td>...</td>\n",
       "      <td>...</td>\n",
       "      <td>...</td>\n",
       "      <td>...</td>\n",
       "      <td>...</td>\n",
       "    </tr>\n",
       "    <tr>\n",
       "      <th>5423</th>\n",
       "      <td>5283</td>\n",
       "      <td>\"הוא למעשה אנס אותי בזמן הקליפ\": עדות חדשה כנג...</td>\n",
       "      <td>תרבות</td>\n",
       "      <td>24/01/22</td>\n",
       "      <td>19:37</td>\n",
       "      <td>68,555</td>\n",
       "      <td>2</td>\n",
       "      <td>520</td>\n",
       "      <td>138</td>\n",
       "      <td>https://www.mako.co.il/news-entertainment/2022...</td>\n",
       "    </tr>\n",
       "    <tr>\n",
       "      <th>5424</th>\n",
       "      <td>5284</td>\n",
       "      <td>בועז שרעבי מגיב לתקרית בהופעה: \"התרגשתי לקרוא ...</td>\n",
       "      <td>תרבות</td>\n",
       "      <td>24/01/22</td>\n",
       "      <td>15:41</td>\n",
       "      <td>30,546</td>\n",
       "      <td>29</td>\n",
       "      <td>683</td>\n",
       "      <td>23</td>\n",
       "      <td>https://www.mako.co.il/news-entertainment/2022...</td>\n",
       "    </tr>\n",
       "    <tr>\n",
       "      <th>5425</th>\n",
       "      <td>5285</td>\n",
       "      <td>\"קיימת עלייה מדאיגה בתקריות אנטישמיות בארה\"ב\"</td>\n",
       "      <td>תרבות</td>\n",
       "      <td>24/01/22</td>\n",
       "      <td>14:51</td>\n",
       "      <td>6,919</td>\n",
       "      <td>10</td>\n",
       "      <td>3</td>\n",
       "      <td>0</td>\n",
       "      <td>https://www.mako.co.il/news-entertainment/2022...</td>\n",
       "    </tr>\n",
       "    <tr>\n",
       "      <th>5426</th>\n",
       "      <td>5286</td>\n",
       "      <td>\"בגידה והסתה\": מה חושבים במדינות ערב על הסרט ה...</td>\n",
       "      <td>תרבות</td>\n",
       "      <td>24/01/22</td>\n",
       "      <td>13:45</td>\n",
       "      <td>24,833</td>\n",
       "      <td>9</td>\n",
       "      <td>255</td>\n",
       "      <td>45</td>\n",
       "      <td>https://www.mako.co.il/news-entertainment/2022...</td>\n",
       "    </tr>\n",
       "    <tr>\n",
       "      <th>5427</th>\n",
       "      <td>5287</td>\n",
       "      <td>\"איך מישהו מרשה לעצמו לדבר ככה למישהו מבוגר\"</td>\n",
       "      <td>תרבות</td>\n",
       "      <td>24/01/22</td>\n",
       "      <td>12:50</td>\n",
       "      <td>64,299</td>\n",
       "      <td>143</td>\n",
       "      <td>22</td>\n",
       "      <td>0</td>\n",
       "      <td>https://www.mako.co.il/news-entertainment/2022...</td>\n",
       "    </tr>\n",
       "  </tbody>\n",
       "</table>\n",
       "<p>5428 rows × 10 columns</p>\n",
       "</div>"
      ],
      "text/plain": [
       "      Unnamed: 0                                               Name    Type  \\\n",
       "0              0  או התפטרות או התקפלות: הדילמה של יריב לוין והה...     NaN   \n",
       "1              1  או התפטרות או התקפלות: הדילמה של יריב לוין והה...     NaN   \n",
       "2              2  \"היו לי שש שנים של הצלחות היסטוריות, כשגנץ הפנ...     NaN   \n",
       "3              3  מהומה בבוסטון: מפגין ניסה להתקרב לשר ברקת ונהד...  פוליטי   \n",
       "4              4  \"אם רה\"מ מעוניין להדיח אותי מתפקידי - שיתכבד\":...  פוליטי   \n",
       "...          ...                                                ...     ...   \n",
       "5423        5283  \"הוא למעשה אנס אותי בזמן הקליפ\": עדות חדשה כנג...   תרבות   \n",
       "5424        5284  בועז שרעבי מגיב לתקרית בהופעה: \"התרגשתי לקרוא ...   תרבות   \n",
       "5425        5285      \"קיימת עלייה מדאיגה בתקריות אנטישמיות בארה\"ב\"   תרבות   \n",
       "5426        5286  \"בגידה והסתה\": מה חושבים במדינות ערב על הסרט ה...   תרבות   \n",
       "5427        5287       \"איך מישהו מרשה לעצמו לדבר ככה למישהו מבוגר\"   תרבות   \n",
       "\n",
       "          Date   Time   Views  Comments Interesting  Not Interesting  \\\n",
       "0     08/06/23  19:50  65,697        88        2682               68   \n",
       "1     08/06/23  19:50  65,723        88        2683               68   \n",
       "2     08/06/23  18:26  16,119        13         157               45   \n",
       "3     08/06/23  17:31  22,643        62         502               72   \n",
       "4     08/06/23  14:44  54,628        39        1165               64   \n",
       "...        ...    ...     ...       ...         ...              ...   \n",
       "5423  24/01/22  19:37  68,555         2         520              138   \n",
       "5424  24/01/22  15:41  30,546        29         683               23   \n",
       "5425  24/01/22  14:51   6,919        10           3                0   \n",
       "5426  24/01/22  13:45  24,833         9         255               45   \n",
       "5427  24/01/22  12:50  64,299       143          22                0   \n",
       "\n",
       "                                                    URL  \n",
       "0     https://www.mako.co.il/news-politics/2023_q2/A...  \n",
       "1     https://www.mako.co.il/news-politics/2023_q2/A...  \n",
       "2     https://www.mako.co.il/news-politics/2023_q2/A...  \n",
       "3     https://www.mako.co.il/news-politics/2023_q2/A...  \n",
       "4     https://www.mako.co.il/news-politics/2023_q2/A...  \n",
       "...                                                 ...  \n",
       "5423  https://www.mako.co.il/news-entertainment/2022...  \n",
       "5424  https://www.mako.co.il/news-entertainment/2022...  \n",
       "5425  https://www.mako.co.il/news-entertainment/2022...  \n",
       "5426  https://www.mako.co.il/news-entertainment/2022...  \n",
       "5427  https://www.mako.co.il/news-entertainment/2022...  \n",
       "\n",
       "[5428 rows x 10 columns]"
      ]
     },
     "execution_count": 24,
     "metadata": {},
     "output_type": "execute_result"
    }
   ],
   "source": [
    "articles_df"
   ]
  },
  {
   "cell_type": "code",
   "execution_count": null,
   "id": "c569e1e2",
   "metadata": {},
   "outputs": [],
   "source": []
  }
 ],
 "metadata": {
  "kernelspec": {
   "display_name": "Python 3 (ipykernel)",
   "language": "python",
   "name": "python3"
  },
  "language_info": {
   "codemirror_mode": {
    "name": "ipython",
    "version": 3
   },
   "file_extension": ".py",
   "mimetype": "text/x-python",
   "name": "python",
   "nbconvert_exporter": "python",
   "pygments_lexer": "ipython3",
   "version": "3.9.13"
  }
 },
 "nbformat": 4,
 "nbformat_minor": 5
}
